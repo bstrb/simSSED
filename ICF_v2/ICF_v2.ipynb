{
 "cells": [
  {
   "cell_type": "code",
   "execution_count": 5,
   "metadata": {},
   "outputs": [
    {
     "name": "stdout",
     "output_type": "stream",
     "text": [
      "Total images: 100\n"
     ]
    },
    {
     "name": "stderr",
     "output_type": "stream",
     "text": [
      "Processing centers:   0%|          | 0/100 [00:00<?, ?it/s]"
     ]
    },
    {
     "name": "stderr",
     "output_type": "stream",
     "text": [
      "Processing centers: 100%|██████████| 100/100 [02:42<00:00,  1.62s/it]\n"
     ]
    },
    {
     "name": "stdout",
     "output_type": "stream",
     "text": [
      "Finished processing and saved centers to /home/bubl3932/files/UOX1/UOX1_original/UOX1_sub_rb/centers.csv\n",
      "New HDF5 file created: /home/bubl3932/files/UOX1/UOX1_original/UOX1_sub_rb/UOX1_sub_radial_backgrounds_ICF.h5\n",
      "Center coordinates and detector shifts have been updated.\n"
     ]
    }
   ],
   "source": [
    "import os\n",
    "import h5py\n",
    "import numpy as np\n",
    "import pandas as pd\n",
    "from multiprocessing import Pool\n",
    "from tqdm import tqdm\n",
    "\n",
    "# Import the helper function from your helpers module.\n",
    "from helpers import process_image_full\n",
    "from update_h5 import create_updated_h5\n",
    "\n",
    "# Define your image and mask file paths.\n",
    "image_file = \"/home/bubl3932/files/UOX1/UOX1_original/UOX1_sub_rb/UOX1_sub_radial_backgrounds.h5\"\n",
    "mask_file = \"/home/bubl3932/mask/pxmask.h5\"\n",
    "\n",
    "# Define processing parameters.\n",
    "threshold = 0.1\n",
    "max_iters = 10\n",
    "step_size = 1\n",
    "n_steps = 5\n",
    "n_wedges = 4\n",
    "n_rad_bins = 100\n",
    "plot_profiles = False\n",
    "chunk_size = 100  # Adjust based on available memory\n",
    "\n",
    "csv_file = os.path.join(os.path.dirname(image_file), \"centers.csv\")\n",
    "\n",
    "# Remove existing CSV file if present.\n",
    "if os.path.exists(csv_file):\n",
    "    os.remove(csv_file)\n",
    "header_written = False\n",
    "\n",
    "def process_chunk(start_idx, images_chunk, mask, pbar):\n",
    "    # Build list of argument tuples, one per image.\n",
    "    args = []\n",
    "    for idx, img in enumerate(images_chunk):\n",
    "        frame_number = start_idx + idx\n",
    "        # Each tuple contains all parameters required by process_image:\n",
    "        args.append((\n",
    "            frame_number,\n",
    "            img,\n",
    "            mask,\n",
    "            threshold,\n",
    "            max_iters,\n",
    "            step_size,\n",
    "            n_steps,\n",
    "            n_wedges,\n",
    "            n_rad_bins,\n",
    "            plot_profiles\n",
    "        ))\n",
    "        \n",
    "    results = []\n",
    "    with Pool() as pool:\n",
    "        # Use imap_unordered to yield each result as soon as it is ready.\n",
    "        for result in pool.imap_unordered(process_image_full, args):\n",
    "            results.append(result)\n",
    "            pbar.update(1)  # Update the progress bar by one image.\n",
    "    return results\n",
    "\n",
    "if __name__ == '__main__':\n",
    "    with h5py.File(image_file, 'r') as f_img, h5py.File(mask_file, 'r') as f_mask:\n",
    "        dataset_images = f_img['/entry/data/images']\n",
    "        mask = f_mask['/mask'][:].astype(bool)\n",
    "        # mask = np.ones(dataset_images[0].shape, dtype=bool) # Uncomment to use a mask of all True.\n",
    "\n",
    "\n",
    "\n",
    "        n_images = dataset_images.shape[0]\n",
    "        print(f\"Total images: {n_images}\")\n",
    "\n",
    "        all_results = []\n",
    "        # Create a tqdm progress bar with total = number of images.\n",
    "        with tqdm(total=n_images, desc=\"Processing centers\") as pbar:\n",
    "            for i in range(0, n_images, chunk_size):\n",
    "                images_chunk = dataset_images[i:i+chunk_size].astype(np.float32)\n",
    "                chunk_results = process_chunk(i, images_chunk, mask, pbar)\n",
    "                # Sort the chunk's results by frame_number.\n",
    "                chunk_results = sorted(chunk_results, key=lambda x: x[0])\n",
    "                all_results.extend(chunk_results)\n",
    "\n",
    "                # Create a DataFrame for the chunk.\n",
    "                df_chunk = pd.DataFrame(chunk_results, columns=[\"frame_number\", \"center\"])\n",
    "                swapped_centers = [(center[1], center[0]) for center in df_chunk['center']]\n",
    "                df_chunk[['center_x', 'center_y']] = pd.DataFrame(swapped_centers, index=df_chunk.index)\n",
    "                df_chunk = df_chunk.drop(columns=[\"center\"])\n",
    "\n",
    "                # Write/append to CSV.\n",
    "                mode = \"w\" if not header_written else \"a\"\n",
    "                df_chunk.to_csv(csv_file, index=False, mode=mode, header=(not header_written))\n",
    "                header_written = True\n",
    "\n",
    "        print(\"Finished processing and saved centers to\", csv_file)\n",
    "        \n",
    "        new_h5_path = os.path.join(os.path.dirname(image_file),os.path.splitext(image_file)[0] + \"_ICF.h5\")\n",
    "\n",
    "        # Run the function to create the updated HDF5 file\n",
    "        create_updated_h5(image_file, new_h5_path, csv_file)\n"
   ]
  },
  {
   "cell_type": "code",
   "execution_count": null,
   "metadata": {},
   "outputs": [],
   "source": [
    "\n",
    "# This cell imports the `create_updated_h5` function from your saved `update_h5.py` module and calls it using your file paths.\n",
    "from update_h5 import create_updated_h5\n",
    "\n",
    "new_h5_path = os.path.join(os.path.dirname(image_file),os.path.splitext(image_file)[0] + \"_ICF.h5\")\n",
    "\n",
    "# Run the function to create the updated HDF5 file\n",
    "create_updated_h5(image_file, new_h5_path, csv_file)\n"
   ]
  }
 ],
 "metadata": {
  "kernelspec": {
   "display_name": "pyxem-env",
   "language": "python",
   "name": "python3"
  },
  "language_info": {
   "codemirror_mode": {
    "name": "ipython",
    "version": 3
   },
   "file_extension": ".py",
   "mimetype": "text/x-python",
   "name": "python",
   "nbconvert_exporter": "python",
   "pygments_lexer": "ipython3",
   "version": "3.10.16"
  }
 },
 "nbformat": 4,
 "nbformat_minor": 2
}
