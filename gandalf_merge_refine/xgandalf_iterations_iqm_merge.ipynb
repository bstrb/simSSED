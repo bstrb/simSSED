{
 "cells": [
  {
   "cell_type": "markdown",
   "metadata": {},
   "source": [
    "# Run Indexamajig with options for peakfinding, indexing and integration"
   ]
  },
  {
   "cell_type": "code",
   "execution_count": null,
   "metadata": {},
   "outputs": [
    {
     "name": "stdout",
     "output_type": "stream",
     "text": [
      "'list.lst' has been created with 1 entries at /Users/xiaodong/Desktop/simulations/LTA/simulation-24/list.lst\n"
     ]
    },
    {
     "name": "stderr",
     "output_type": "stream",
     "text": [
      "Processing XY pairs:   0%|          | 0/77 [00:00<?, ?it/s]"
     ]
    },
    {
     "name": "stdout",
     "output_type": "stream",
     "text": [
      "Running for x=-512.5, y=-512.5\n"
     ]
    },
    {
     "name": "stderr",
     "output_type": "stream",
     "text": [
      "This is what I understood your unit cell to be:\n",
      "cubic P, right handed.\n",
      "a      b      c            alpha   beta  gamma\n",
      " 11.87  11.87  11.87 A     90.00  90.00  90.00 deg\n",
      "List of indexing methods:\n",
      "   0: xgandalf-nolatt-cell      (xgandalf using cell parameters as prior information)\n",
      "Indexing parameters:\n",
      "                  Check unit cell parameters: on\n",
      "                        Check peak alignment: on\n",
      "                   Refine indexing solutions: off\n",
      " Multi-lattice indexing (\"delete and retry\"): off\n",
      "                              Retry indexing: on\n",
      "28 images processed, 28 hits (100.0%), 27 indexable (96.4% of hits, 96.4% overall), 27 crystals, 5.5 images/sec.\n",
      "52 images processed, 52 hits (100.0%), 50 indexable (96.2% of hits, 96.2% overall), 50 crystals, 4.7 images/sec.\n",
      "83 images processed, 83 hits (100.0%), 79 indexable (95.2% of hits, 95.2% overall), 79 crystals, 5.9 images/sec.\n",
      "Waiting for the last patterns to be processed...\n",
      "Final: 100 images processed, 100 hits (100.0%), 94 indexable (94.0% of hits, 94.0% overall), 94 crystals.\n",
      "Processing XY pairs:   1%|▏         | 1/77 [00:18<23:31, 18.57s/it]This is what I understood your unit cell to be:\n",
      "cubic P, right handed.\n",
      "a      b      c            alpha   beta  gamma\n",
      " 11.87  11.87  11.87 A     90.00  90.00  90.00 deg\n",
      "List of indexing methods:\n",
      "   0: xgandalf-nolatt-cell      (xgandalf using cell parameters as prior information)\n",
      "Indexing parameters:\n",
      "                  Check unit cell parameters: on\n",
      "                        Check peak alignment: on\n",
      "                   Refine indexing solutions: off\n",
      " Multi-lattice indexing (\"delete and retry\"): off\n",
      "                              Retry indexing: on\n"
     ]
    },
    {
     "name": "stdout",
     "output_type": "stream",
     "text": [
      "Running for x=-512.7, y=-512.5\n"
     ]
    },
    {
     "name": "stderr",
     "output_type": "stream",
     "text": [
      "27 images processed, 27 hits (100.0%), 27 indexable (100.0% of hits, 100.0% overall), 27 crystals, 5.2 images/sec.\n",
      "50 images processed, 50 hits (100.0%), 49 indexable (98.0% of hits, 98.0% overall), 49 crystals, 4.5 images/sec.\n",
      "82 images processed, 82 hits (100.0%), 80 indexable (97.6% of hits, 97.6% overall), 80 crystals, 6.3 images/sec.\n",
      "Waiting for the last patterns to be processed...\n",
      "Final: 100 images processed, 100 hits (100.0%), 98 indexable (98.0% of hits, 98.0% overall), 98 crystals.\n",
      "Processing XY pairs:   3%|▎         | 2/77 [00:36<22:39, 18.13s/it]This is what I understood your unit cell to be:\n",
      "cubic P, right handed.\n",
      "a      b      c            alpha   beta  gamma\n",
      " 11.87  11.87  11.87 A     90.00  90.00  90.00 deg\n",
      "List of indexing methods:\n",
      "   0: xgandalf-nolatt-cell      (xgandalf using cell parameters as prior information)\n",
      "Indexing parameters:\n",
      "                  Check unit cell parameters: on\n",
      "                        Check peak alignment: on\n",
      "                   Refine indexing solutions: off\n",
      " Multi-lattice indexing (\"delete and retry\"): off\n",
      "                              Retry indexing: on\n"
     ]
    },
    {
     "name": "stdout",
     "output_type": "stream",
     "text": [
      "Running for x=-512.5, y=-512.7\n"
     ]
    },
    {
     "name": "stderr",
     "output_type": "stream",
     "text": [
      "21 images processed, 21 hits (100.0%), 19 indexable (90.5% of hits, 90.5% overall), 19 crystals, 4.1 images/sec.\n",
      "52 images processed, 52 hits (100.0%), 48 indexable (92.3% of hits, 92.3% overall), 48 crystals, 6.1 images/sec.\n",
      "80 images processed, 80 hits (100.0%), 75 indexable (93.8% of hits, 93.8% overall), 75 crystals, 5.4 images/sec.\n",
      "Waiting for the last patterns to be processed...\n",
      "Final: 100 images processed, 100 hits (100.0%), 95 indexable (95.0% of hits, 95.0% overall), 95 crystals.\n",
      "Processing XY pairs:   4%|▍         | 3/77 [00:54<22:14, 18.03s/it]This is what I understood your unit cell to be:\n",
      "cubic P, right handed.\n",
      "a      b      c            alpha   beta  gamma\n",
      " 11.87  11.87  11.87 A     90.00  90.00  90.00 deg\n",
      "List of indexing methods:\n",
      "   0: xgandalf-nolatt-cell      (xgandalf using cell parameters as prior information)\n",
      "Indexing parameters:\n",
      "                  Check unit cell parameters: on\n",
      "                        Check peak alignment: on\n",
      "                   Refine indexing solutions: off\n",
      " Multi-lattice indexing (\"delete and retry\"): off\n",
      "                              Retry indexing: on\n"
     ]
    },
    {
     "name": "stdout",
     "output_type": "stream",
     "text": [
      "Running for x=-512.5, y=-512.3\n"
     ]
    },
    {
     "name": "stderr",
     "output_type": "stream",
     "text": [
      "22 images processed, 22 hits (100.0%), 21 indexable (95.5% of hits, 95.5% overall), 21 crystals, 4.3 images/sec.\n",
      "39 images processed, 39 hits (100.0%), 36 indexable (92.3% of hits, 92.3% overall), 36 crystals, 3.4 images/sec.\n",
      "63 images processed, 63 hits (100.0%), 57 indexable (90.5% of hits, 90.5% overall), 57 crystals, 4.7 images/sec.\n",
      "84 images processed, 84 hits (100.0%), 77 indexable (91.7% of hits, 91.7% overall), 77 crystals, 3.9 images/sec.\n",
      "Waiting for the last patterns to be processed...\n",
      "Final: 100 images processed, 100 hits (100.0%), 92 indexable (92.0% of hits, 92.0% overall), 92 crystals.\n",
      "Processing XY pairs:   5%|▌         | 4/77 [01:17<24:12, 19.90s/it]This is what I understood your unit cell to be:\n",
      "cubic P, right handed.\n",
      "a      b      c            alpha   beta  gamma\n",
      " 11.87  11.87  11.87 A     90.00  90.00  90.00 deg\n",
      "List of indexing methods:\n",
      "   0: xgandalf-nolatt-cell      (xgandalf using cell parameters as prior information)\n",
      "Indexing parameters:\n",
      "                  Check unit cell parameters: on\n",
      "                        Check peak alignment: on\n",
      "                   Refine indexing solutions: off\n",
      " Multi-lattice indexing (\"delete and retry\"): off\n",
      "                              Retry indexing: on\n"
     ]
    },
    {
     "name": "stdout",
     "output_type": "stream",
     "text": [
      "Running for x=-512.3, y=-512.5\n"
     ]
    },
    {
     "name": "stderr",
     "output_type": "stream",
     "text": [
      "27 images processed, 27 hits (100.0%), 27 indexable (100.0% of hits, 100.0% overall), 27 crystals, 5.3 images/sec.\n",
      "49 images processed, 49 hits (100.0%), 48 indexable (98.0% of hits, 98.0% overall), 48 crystals, 4.3 images/sec.\n",
      "73 images processed, 73 hits (100.0%), 70 indexable (95.9% of hits, 95.9% overall), 70 crystals, 4.8 images/sec.\n",
      "92 images processed, 92 hits (100.0%), 86 indexable (93.5% of hits, 93.5% overall), 86 crystals, 3.6 images/sec.\n",
      "Waiting for the last patterns to be processed...\n",
      "Final: 100 images processed, 100 hits (100.0%), 93 indexable (93.0% of hits, 93.0% overall), 93 crystals.\n",
      "Processing XY pairs:   6%|▋         | 5/77 [01:39<25:06, 20.92s/it]This is what I understood your unit cell to be:\n",
      "cubic P, right handed.\n",
      "a      b      c            alpha   beta  gamma\n",
      " 11.87  11.87  11.87 A     90.00  90.00  90.00 deg\n",
      "List of indexing methods:\n",
      "   0: xgandalf-nolatt-cell      (xgandalf using cell parameters as prior information)\n",
      "Indexing parameters:\n",
      "                  Check unit cell parameters: on\n",
      "                        Check peak alignment: on\n",
      "                   Refine indexing solutions: off\n",
      " Multi-lattice indexing (\"delete and retry\"): off\n",
      "                              Retry indexing: on\n"
     ]
    },
    {
     "name": "stdout",
     "output_type": "stream",
     "text": [
      "Running for x=-512.7, y=-512.7\n"
     ]
    },
    {
     "name": "stderr",
     "output_type": "stream",
     "text": [
      "25 images processed, 25 hits (100.0%), 23 indexable (92.0% of hits, 92.0% overall), 23 crystals, 5.0 images/sec.\n",
      "54 images processed, 54 hits (100.0%), 50 indexable (92.6% of hits, 92.6% overall), 50 crystals, 5.8 images/sec.\n",
      "85 images processed, 85 hits (100.0%), 80 indexable (94.1% of hits, 94.1% overall), 80 crystals, 6.0 images/sec.\n",
      "Waiting for the last patterns to be processed...\n",
      "Final: 100 images processed, 100 hits (100.0%), 94 indexable (94.0% of hits, 94.0% overall), 94 crystals.\n",
      "Processing XY pairs:   8%|▊         | 6/77 [01:58<23:53, 20.19s/it]This is what I understood your unit cell to be:\n",
      "cubic P, right handed.\n",
      "a      b      c            alpha   beta  gamma\n",
      " 11.87  11.87  11.87 A     90.00  90.00  90.00 deg\n",
      "List of indexing methods:\n",
      "   0: xgandalf-nolatt-cell      (xgandalf using cell parameters as prior information)\n",
      "Indexing parameters:\n",
      "                  Check unit cell parameters: on\n",
      "                        Check peak alignment: on\n",
      "                   Refine indexing solutions: off\n",
      " Multi-lattice indexing (\"delete and retry\"): off\n",
      "                              Retry indexing: on\n"
     ]
    },
    {
     "name": "stdout",
     "output_type": "stream",
     "text": [
      "Running for x=-512.7, y=-512.3\n"
     ]
    },
    {
     "name": "stderr",
     "output_type": "stream",
     "text": [
      "23 images processed, 23 hits (100.0%), 21 indexable (91.3% of hits, 91.3% overall), 21 crystals, 4.2 images/sec.\n",
      "50 images processed, 50 hits (100.0%), 46 indexable (92.0% of hits, 92.0% overall), 46 crystals, 5.4 images/sec.\n",
      "77 images processed, 77 hits (100.0%), 71 indexable (92.2% of hits, 92.2% overall), 71 crystals, 5.4 images/sec.\n",
      "Waiting for the last patterns to be processed...\n",
      "Final: 100 images processed, 100 hits (100.0%), 92 indexable (92.0% of hits, 92.0% overall), 92 crystals.\n",
      "Processing XY pairs:   9%|▉         | 7/77 [02:18<23:23, 20.05s/it]This is what I understood your unit cell to be:\n",
      "cubic P, right handed.\n",
      "a      b      c            alpha   beta  gamma\n",
      " 11.87  11.87  11.87 A     90.00  90.00  90.00 deg\n",
      "List of indexing methods:\n",
      "   0: xgandalf-nolatt-cell      (xgandalf using cell parameters as prior information)\n",
      "Indexing parameters:\n",
      "                  Check unit cell parameters: on\n",
      "                        Check peak alignment: on\n",
      "                   Refine indexing solutions: off\n",
      " Multi-lattice indexing (\"delete and retry\"): off\n",
      "                              Retry indexing: on\n"
     ]
    },
    {
     "name": "stdout",
     "output_type": "stream",
     "text": [
      "Running for x=-512.3, y=-512.7\n"
     ]
    },
    {
     "name": "stderr",
     "output_type": "stream",
     "text": [
      "21 images processed, 21 hits (100.0%), 21 indexable (100.0% of hits, 100.0% overall), 21 crystals, 4.1 images/sec.\n",
      "49 images processed, 49 hits (100.0%), 47 indexable (95.9% of hits, 95.9% overall), 47 crystals, 5.2 images/sec.\n",
      "74 images processed, 74 hits (100.0%), 72 indexable (97.3% of hits, 97.3% overall), 72 crystals, 4.6 images/sec.\n",
      "Waiting for the last patterns to be processed...\n",
      "97 images processed, 97 hits (100.0%), 94 indexable (96.9% of hits, 96.9% overall), 94 crystals, 4.6 images/sec.\n",
      "Final: 100 images processed, 100 hits (100.0%), 96 indexable (96.0% of hits, 96.0% overall), 96 crystals.\n",
      "Processing XY pairs:  10%|█         | 8/77 [02:39<23:28, 20.42s/it]This is what I understood your unit cell to be:\n",
      "cubic P, right handed.\n",
      "a      b      c            alpha   beta  gamma\n",
      " 11.87  11.87  11.87 A     90.00  90.00  90.00 deg\n",
      "List of indexing methods:\n",
      "   0: xgandalf-nolatt-cell      (xgandalf using cell parameters as prior information)\n",
      "Indexing parameters:\n",
      "                  Check unit cell parameters: on\n",
      "                        Check peak alignment: on\n",
      "                   Refine indexing solutions: off\n",
      " Multi-lattice indexing (\"delete and retry\"): off\n",
      "                              Retry indexing: on\n"
     ]
    },
    {
     "name": "stdout",
     "output_type": "stream",
     "text": [
      "Running for x=-512.3, y=-512.3\n"
     ]
    },
    {
     "name": "stderr",
     "output_type": "stream",
     "text": [
      "22 images processed, 22 hits (100.0%), 22 indexable (100.0% of hits, 100.0% overall), 22 crystals, 4.3 images/sec.\n",
      "37 images processed, 37 hits (100.0%), 34 indexable (91.9% of hits, 91.9% overall), 34 crystals, 3.0 images/sec.\n",
      "57 images processed, 57 hits (100.0%), 50 indexable (87.7% of hits, 87.7% overall), 50 crystals, 3.9 images/sec.\n",
      "75 images processed, 75 hits (100.0%), 65 indexable (86.7% of hits, 86.7% overall), 65 crystals, 3.6 images/sec.\n",
      "Waiting for the last patterns to be processed...\n",
      "98 images processed, 98 hits (100.0%), 85 indexable (86.7% of hits, 86.7% overall), 85 crystals, 4.5 images/sec.\n",
      "Final: 100 images processed, 100 hits (100.0%), 87 indexable (87.0% of hits, 87.0% overall), 87 crystals.\n",
      "Processing XY pairs:  12%|█▏        | 9/77 [03:05<25:11, 22.23s/it]This is what I understood your unit cell to be:\n",
      "cubic P, right handed.\n",
      "a      b      c            alpha   beta  gamma\n",
      " 11.87  11.87  11.87 A     90.00  90.00  90.00 deg\n",
      "List of indexing methods:\n",
      "   0: xgandalf-nolatt-cell      (xgandalf using cell parameters as prior information)\n",
      "Indexing parameters:\n",
      "                  Check unit cell parameters: on\n",
      "                        Check peak alignment: on\n",
      "                   Refine indexing solutions: off\n",
      " Multi-lattice indexing (\"delete and retry\"): off\n",
      "                              Retry indexing: on\n"
     ]
    },
    {
     "name": "stdout",
     "output_type": "stream",
     "text": [
      "Running for x=-512.9, y=-512.5\n"
     ]
    },
    {
     "name": "stderr",
     "output_type": "stream",
     "text": [
      "24 images processed, 24 hits (100.0%), 23 indexable (95.8% of hits, 95.8% overall), 23 crystals, 4.7 images/sec.\n",
      "48 images processed, 48 hits (100.0%), 46 indexable (95.8% of hits, 95.8% overall), 46 crystals, 4.6 images/sec.\n",
      "75 images processed, 75 hits (100.0%), 70 indexable (93.3% of hits, 93.3% overall), 70 crystals, 5.2 images/sec.\n",
      "Waiting for the last patterns to be processed...\n",
      "94 images processed, 94 hits (100.0%), 88 indexable (93.6% of hits, 93.6% overall), 88 crystals, 3.7 images/sec.\n",
      "Final: 100 images processed, 100 hits (100.0%), 93 indexable (93.0% of hits, 93.0% overall), 93 crystals.\n",
      "Processing XY pairs:  13%|█▎        | 10/77 [03:27<24:45, 22.18s/it]This is what I understood your unit cell to be:\n",
      "cubic P, right handed.\n",
      "a      b      c            alpha   beta  gamma\n",
      " 11.87  11.87  11.87 A     90.00  90.00  90.00 deg\n",
      "List of indexing methods:\n",
      "   0: xgandalf-nolatt-cell      (xgandalf using cell parameters as prior information)\n",
      "Indexing parameters:\n",
      "                  Check unit cell parameters: on\n",
      "                        Check peak alignment: on\n",
      "                   Refine indexing solutions: off\n",
      " Multi-lattice indexing (\"delete and retry\"): off\n",
      "                              Retry indexing: on\n"
     ]
    },
    {
     "name": "stdout",
     "output_type": "stream",
     "text": [
      "Running for x=-512.5, y=-512.9\n"
     ]
    },
    {
     "name": "stderr",
     "output_type": "stream",
     "text": [
      "17 images processed, 17 hits (100.0%), 12 indexable (70.6% of hits, 70.6% overall), 12 crystals, 3.1 images/sec.\n",
      "40 images processed, 40 hits (100.0%), 31 indexable (77.5% of hits, 77.5% overall), 31 crystals, 4.3 images/sec.\n",
      "64 images processed, 64 hits (100.0%), 52 indexable (81.2% of hits, 81.2% overall), 52 crystals, 4.8 images/sec.\n",
      "88 images processed, 88 hits (100.0%), 74 indexable (84.1% of hits, 84.1% overall), 74 crystals, 4.7 images/sec.\n",
      "Waiting for the last patterns to be processed...\n",
      "Final: 100 images processed, 100 hits (100.0%), 84 indexable (84.0% of hits, 84.0% overall), 84 crystals.\n",
      "Processing XY pairs:  14%|█▍        | 11/77 [03:50<24:34, 22.34s/it]This is what I understood your unit cell to be:\n",
      "cubic P, right handed.\n",
      "a      b      c            alpha   beta  gamma\n",
      " 11.87  11.87  11.87 A     90.00  90.00  90.00 deg\n",
      "List of indexing methods:\n",
      "   0: xgandalf-nolatt-cell      (xgandalf using cell parameters as prior information)\n",
      "Indexing parameters:\n",
      "                  Check unit cell parameters: on\n",
      "                        Check peak alignment: on\n",
      "                   Refine indexing solutions: off\n",
      " Multi-lattice indexing (\"delete and retry\"): off\n",
      "                              Retry indexing: on\n"
     ]
    },
    {
     "name": "stdout",
     "output_type": "stream",
     "text": [
      "Running for x=-512.5, y=-512.1\n"
     ]
    },
    {
     "name": "stderr",
     "output_type": "stream",
     "text": [
      "15 images processed, 15 hits (100.0%), 14 indexable (93.3% of hits, 93.3% overall), 14 crystals, 3.0 images/sec.\n",
      "30 images processed, 30 hits (100.0%), 25 indexable (83.3% of hits, 83.3% overall), 25 crystals, 2.9 images/sec.\n",
      "49 images processed, 49 hits (100.0%), 40 indexable (81.6% of hits, 81.6% overall), 40 crystals, 3.7 images/sec.\n",
      "63 images processed, 63 hits (100.0%), 51 indexable (81.0% of hits, 81.0% overall), 51 crystals, 2.6 images/sec.\n",
      "81 images processed, 81 hits (100.0%), 64 indexable (79.0% of hits, 79.0% overall), 64 crystals, 3.6 images/sec.\n",
      "Waiting for the last patterns to be processed...\n",
      "Final: 100 images processed, 100 hits (100.0%), 82 indexable (82.0% of hits, 82.0% overall), 82 crystals.\n",
      "Processing XY pairs:  16%|█▌        | 12/77 [04:20<26:48, 24.75s/it]This is what I understood your unit cell to be:\n",
      "cubic P, right handed.\n",
      "a      b      c            alpha   beta  gamma\n",
      " 11.87  11.87  11.87 A     90.00  90.00  90.00 deg\n",
      "List of indexing methods:\n",
      "   0: xgandalf-nolatt-cell      (xgandalf using cell parameters as prior information)\n",
      "Indexing parameters:\n",
      "                  Check unit cell parameters: on\n",
      "                        Check peak alignment: on\n",
      "                   Refine indexing solutions: off\n",
      " Multi-lattice indexing (\"delete and retry\"): off\n",
      "                              Retry indexing: on\n"
     ]
    },
    {
     "name": "stdout",
     "output_type": "stream",
     "text": [
      "Running for x=-512.1, y=-512.5\n"
     ]
    },
    {
     "name": "stderr",
     "output_type": "stream",
     "text": [
      "22 images processed, 22 hits (100.0%), 21 indexable (95.5% of hits, 95.5% overall), 21 crystals, 4.4 images/sec.\n",
      "39 images processed, 39 hits (100.0%), 36 indexable (92.3% of hits, 92.3% overall), 36 crystals, 3.3 images/sec.\n",
      "59 images processed, 59 hits (100.0%), 52 indexable (88.1% of hits, 88.1% overall), 52 crystals, 3.8 images/sec.\n",
      "78 images processed, 78 hits (100.0%), 66 indexable (84.6% of hits, 84.6% overall), 66 crystals, 3.5 images/sec.\n",
      "Waiting for the last patterns to be processed...\n",
      "97 images processed, 97 hits (100.0%), 79 indexable (81.4% of hits, 81.4% overall), 79 crystals, 3.8 images/sec.\n",
      "Final: 100 images processed, 100 hits (100.0%), 81 indexable (81.0% of hits, 81.0% overall), 81 crystals.\n",
      "Processing XY pairs:  17%|█▋        | 13/77 [04:48<27:13, 25.52s/it]This is what I understood your unit cell to be:\n",
      "cubic P, right handed.\n",
      "a      b      c            alpha   beta  gamma\n",
      " 11.87  11.87  11.87 A     90.00  90.00  90.00 deg\n",
      "List of indexing methods:\n",
      "   0: xgandalf-nolatt-cell      (xgandalf using cell parameters as prior information)\n",
      "Indexing parameters:\n",
      "                  Check unit cell parameters: on\n",
      "                        Check peak alignment: on\n",
      "                   Refine indexing solutions: off\n",
      " Multi-lattice indexing (\"delete and retry\"): off\n",
      "                              Retry indexing: on\n"
     ]
    },
    {
     "name": "stdout",
     "output_type": "stream",
     "text": [
      "Running for x=-512.9, y=-512.7\n"
     ]
    },
    {
     "name": "stderr",
     "output_type": "stream",
     "text": [
      "25 images processed, 25 hits (100.0%), 23 indexable (92.0% of hits, 92.0% overall), 23 crystals, 4.8 images/sec.\n",
      "43 images processed, 43 hits (100.0%), 38 indexable (88.4% of hits, 88.4% overall), 38 crystals, 3.5 images/sec.\n",
      "67 images processed, 67 hits (100.0%), 58 indexable (86.6% of hits, 86.6% overall), 58 crystals, 4.6 images/sec.\n",
      "Waiting for the last patterns to be processed...\n",
      "93 images processed, 93 hits (100.0%), 84 indexable (90.3% of hits, 90.3% overall), 84 crystals, 4.9 images/sec.\n",
      "Final: 100 images processed, 100 hits (100.0%), 88 indexable (88.0% of hits, 88.0% overall), 88 crystals.\n",
      "Processing XY pairs:  18%|█▊        | 14/77 [05:11<25:59, 24.75s/it]This is what I understood your unit cell to be:\n",
      "cubic P, right handed.\n",
      "a      b      c            alpha   beta  gamma\n",
      " 11.87  11.87  11.87 A     90.00  90.00  90.00 deg\n",
      "List of indexing methods:\n",
      "   0: xgandalf-nolatt-cell      (xgandalf using cell parameters as prior information)\n",
      "Indexing parameters:\n",
      "                  Check unit cell parameters: on\n",
      "                        Check peak alignment: on\n",
      "                   Refine indexing solutions: off\n",
      " Multi-lattice indexing (\"delete and retry\"): off\n",
      "                              Retry indexing: on\n"
     ]
    },
    {
     "name": "stdout",
     "output_type": "stream",
     "text": [
      "Running for x=-512.9, y=-512.3\n"
     ]
    },
    {
     "name": "stderr",
     "output_type": "stream",
     "text": [
      "22 images processed, 22 hits (100.0%), 21 indexable (95.5% of hits, 95.5% overall), 21 crystals, 4.3 images/sec.\n",
      "42 images processed, 42 hits (100.0%), 39 indexable (92.9% of hits, 92.9% overall), 39 crystals, 4.0 images/sec.\n",
      "58 images processed, 58 hits (100.0%), 53 indexable (91.4% of hits, 91.4% overall), 53 crystals, 3.1 images/sec.\n",
      "82 images processed, 82 hits (100.0%), 74 indexable (90.2% of hits, 90.2% overall), 74 crystals, 4.4 images/sec.\n",
      "Waiting for the last patterns to be processed...\n",
      "Final: 100 images processed, 100 hits (100.0%), 89 indexable (89.0% of hits, 89.0% overall), 89 crystals.\n",
      "Processing XY pairs:  19%|█▉        | 15/77 [05:35<25:37, 24.79s/it]This is what I understood your unit cell to be:\n",
      "cubic P, right handed.\n",
      "a      b      c            alpha   beta  gamma\n",
      " 11.87  11.87  11.87 A     90.00  90.00  90.00 deg\n",
      "List of indexing methods:\n",
      "   0: xgandalf-nolatt-cell      (xgandalf using cell parameters as prior information)\n",
      "Indexing parameters:\n",
      "                  Check unit cell parameters: on\n",
      "                        Check peak alignment: on\n",
      "                   Refine indexing solutions: off\n",
      " Multi-lattice indexing (\"delete and retry\"): off\n",
      "                              Retry indexing: on\n"
     ]
    },
    {
     "name": "stdout",
     "output_type": "stream",
     "text": [
      "Running for x=-512.7, y=-512.9\n"
     ]
    },
    {
     "name": "stderr",
     "output_type": "stream",
     "text": [
      "22 images processed, 22 hits (100.0%), 20 indexable (90.9% of hits, 90.9% overall), 20 crystals, 4.2 images/sec.\n",
      "45 images processed, 45 hits (100.0%), 39 indexable (86.7% of hits, 86.7% overall), 39 crystals, 4.5 images/sec.\n",
      "70 images processed, 70 hits (100.0%), 60 indexable (85.7% of hits, 85.7% overall), 60 crystals, 5.0 images/sec.\n",
      "Waiting for the last patterns to be processed...\n",
      "97 images processed, 97 hits (100.0%), 85 indexable (87.6% of hits, 87.6% overall), 85 crystals, 5.3 images/sec.\n",
      "Final: 100 images processed, 100 hits (100.0%), 87 indexable (87.0% of hits, 87.0% overall), 87 crystals.\n",
      "Processing XY pairs:  21%|██        | 16/77 [05:57<24:16, 23.88s/it]This is what I understood your unit cell to be:\n",
      "cubic P, right handed.\n",
      "a      b      c            alpha   beta  gamma\n",
      " 11.87  11.87  11.87 A     90.00  90.00  90.00 deg\n",
      "List of indexing methods:\n",
      "   0: xgandalf-nolatt-cell      (xgandalf using cell parameters as prior information)\n",
      "Indexing parameters:\n",
      "                  Check unit cell parameters: on\n",
      "                        Check peak alignment: on\n",
      "                   Refine indexing solutions: off\n",
      " Multi-lattice indexing (\"delete and retry\"): off\n",
      "                              Retry indexing: on\n"
     ]
    },
    {
     "name": "stdout",
     "output_type": "stream",
     "text": [
      "Running for x=-512.7, y=-512.1\n"
     ]
    },
    {
     "name": "stderr",
     "output_type": "stream",
     "text": [
      "22 images processed, 22 hits (100.0%), 19 indexable (86.4% of hits, 86.4% overall), 19 crystals, 4.4 images/sec.\n",
      "38 images processed, 38 hits (100.0%), 32 indexable (84.2% of hits, 84.2% overall), 32 crystals, 3.2 images/sec.\n",
      "54 images processed, 54 hits (100.0%), 45 indexable (83.3% of hits, 83.3% overall), 45 crystals, 3.1 images/sec.\n",
      "80 images processed, 80 hits (100.0%), 68 indexable (85.0% of hits, 85.0% overall), 68 crystals, 5.1 images/sec.\n",
      "Waiting for the last patterns to be processed...\n",
      "98 images processed, 98 hits (100.0%), 82 indexable (83.7% of hits, 83.7% overall), 82 crystals, 3.5 images/sec.\n",
      "Final: 100 images processed, 100 hits (100.0%), 83 indexable (83.0% of hits, 83.0% overall), 83 crystals.\n",
      "Processing XY pairs:  22%|██▏       | 17/77 [06:23<24:27, 24.46s/it]This is what I understood your unit cell to be:\n",
      "cubic P, right handed.\n",
      "a      b      c            alpha   beta  gamma\n",
      " 11.87  11.87  11.87 A     90.00  90.00  90.00 deg\n",
      "List of indexing methods:\n",
      "   0: xgandalf-nolatt-cell      (xgandalf using cell parameters as prior information)\n",
      "Indexing parameters:\n",
      "                  Check unit cell parameters: on\n",
      "                        Check peak alignment: on\n",
      "                   Refine indexing solutions: off\n",
      " Multi-lattice indexing (\"delete and retry\"): off\n",
      "                              Retry indexing: on\n"
     ]
    },
    {
     "name": "stdout",
     "output_type": "stream",
     "text": [
      "Running for x=-512.3, y=-512.9\n"
     ]
    },
    {
     "name": "stderr",
     "output_type": "stream",
     "text": [
      "16 images processed, 16 hits (100.0%), 13 indexable (81.2% of hits, 81.2% overall), 13 crystals, 3.1 images/sec.\n",
      "40 images processed, 40 hits (100.0%), 35 indexable (87.5% of hits, 87.5% overall), 35 crystals, 4.7 images/sec.\n",
      "60 images processed, 60 hits (100.0%), 51 indexable (85.0% of hits, 85.0% overall), 51 crystals, 3.8 images/sec.\n",
      "76 images processed, 76 hits (100.0%), 67 indexable (88.2% of hits, 88.2% overall), 67 crystals, 3.0 images/sec.\n",
      "Waiting for the last patterns to be processed...\n",
      "99 images processed, 99 hits (100.0%), 88 indexable (88.9% of hits, 88.9% overall), 88 crystals, 4.5 images/sec.\n",
      "Final: 100 images processed, 100 hits (100.0%), 88 indexable (88.0% of hits, 88.0% overall), 88 crystals.\n",
      "Processing XY pairs:  23%|██▎       | 18/77 [06:49<24:32, 24.96s/it]This is what I understood your unit cell to be:\n",
      "cubic P, right handed.\n",
      "a      b      c            alpha   beta  gamma\n",
      " 11.87  11.87  11.87 A     90.00  90.00  90.00 deg\n"
     ]
    },
    {
     "name": "stdout",
     "output_type": "stream",
     "text": [
      "Running for x=-512.3, y=-512.1\n"
     ]
    },
    {
     "name": "stderr",
     "output_type": "stream",
     "text": [
      "List of indexing methods:\n",
      "   0: xgandalf-nolatt-cell      (xgandalf using cell parameters as prior information)\n",
      "Indexing parameters:\n",
      "                  Check unit cell parameters: on\n",
      "                        Check peak alignment: on\n",
      "                   Refine indexing solutions: off\n",
      " Multi-lattice indexing (\"delete and retry\"): off\n",
      "                              Retry indexing: on\n",
      "17 images processed, 17 hits (100.0%), 15 indexable (88.2% of hits, 88.2% overall), 15 crystals, 3.4 images/sec.\n",
      "30 images processed, 30 hits (100.0%), 26 indexable (86.7% of hits, 86.7% overall), 26 crystals, 2.4 images/sec.\n",
      "44 images processed, 44 hits (100.0%), 33 indexable (75.0% of hits, 75.0% overall), 33 crystals, 2.7 images/sec.\n",
      "56 images processed, 56 hits (100.0%), 41 indexable (73.2% of hits, 73.2% overall), 41 crystals, 2.2 images/sec.\n",
      "72 images processed, 72 hits (100.0%), 49 indexable (68.1% of hits, 68.1% overall), 49 crystals, 3.1 images/sec.\n",
      "86 images processed, 86 hits (100.0%), 58 indexable (67.4% of hits, 67.4% overall), 58 crystals, 2.7 images/sec.\n",
      "Waiting for the last patterns to be processed...\n",
      "Final: 100 images processed, 100 hits (100.0%), 69 indexable (69.0% of hits, 69.0% overall), 69 crystals.\n",
      "Processing XY pairs:  25%|██▍       | 19/77 [07:24<27:03, 27.99s/it]This is what I understood your unit cell to be:\n",
      "cubic P, right handed.\n",
      "a      b      c            alpha   beta  gamma\n",
      " 11.87  11.87  11.87 A     90.00  90.00  90.00 deg\n",
      "List of indexing methods:\n",
      "   0: xgandalf-nolatt-cell      (xgandalf using cell parameters as prior information)\n",
      "Indexing parameters:\n",
      "                  Check unit cell parameters: on\n",
      "                        Check peak alignment: on\n",
      "                   Refine indexing solutions: off\n",
      " Multi-lattice indexing (\"delete and retry\"): off\n",
      "                              Retry indexing: on\n"
     ]
    },
    {
     "name": "stdout",
     "output_type": "stream",
     "text": [
      "Running for x=-512.1, y=-512.7\n"
     ]
    },
    {
     "name": "stderr",
     "output_type": "stream",
     "text": [
      "15 images processed, 15 hits (100.0%), 15 indexable (100.0% of hits, 100.0% overall), 15 crystals, 3.0 images/sec.\n",
      "31 images processed, 31 hits (100.0%), 27 indexable (87.1% of hits, 87.1% overall), 27 crystals, 3.1 images/sec.\n",
      "51 images processed, 51 hits (100.0%), 42 indexable (82.4% of hits, 82.4% overall), 42 crystals, 3.8 images/sec.\n",
      "69 images processed, 69 hits (100.0%), 59 indexable (85.5% of hits, 85.5% overall), 59 crystals, 3.4 images/sec.\n",
      "88 images processed, 88 hits (100.0%), 76 indexable (86.4% of hits, 86.4% overall), 76 crystals, 3.6 images/sec.\n",
      "Waiting for the last patterns to be processed...\n",
      "Final: 100 images processed, 100 hits (100.0%), 84 indexable (84.0% of hits, 84.0% overall), 84 crystals.\n",
      "Processing XY pairs:  26%|██▌       | 20/77 [07:53<26:47, 28.19s/it]This is what I understood your unit cell to be:\n",
      "cubic P, right handed.\n",
      "a      b      c            alpha   beta  gamma\n",
      " 11.87  11.87  11.87 A     90.00  90.00  90.00 deg\n",
      "List of indexing methods:\n",
      "   0: xgandalf-nolatt-cell      (xgandalf using cell parameters as prior information)\n",
      "Indexing parameters:\n",
      "                  Check unit cell parameters: on\n",
      "                        Check peak alignment: on\n",
      "                   Refine indexing solutions: off\n",
      " Multi-lattice indexing (\"delete and retry\"): off\n",
      "                              Retry indexing: on\n"
     ]
    },
    {
     "name": "stdout",
     "output_type": "stream",
     "text": [
      "Running for x=-512.1, y=-512.3\n"
     ]
    },
    {
     "name": "stderr",
     "output_type": "stream",
     "text": [
      "19 images processed, 19 hits (100.0%), 18 indexable (94.7% of hits, 94.7% overall), 18 crystals, 3.8 images/sec.\n",
      "34 images processed, 34 hits (100.0%), 28 indexable (82.4% of hits, 82.4% overall), 28 crystals, 3.0 images/sec.\n",
      "49 images processed, 49 hits (100.0%), 41 indexable (83.7% of hits, 83.7% overall), 41 crystals, 2.9 images/sec.\n",
      "63 images processed, 63 hits (100.0%), 52 indexable (82.5% of hits, 82.5% overall), 52 crystals, 2.8 images/sec.\n",
      "79 images processed, 79 hits (100.0%), 64 indexable (81.0% of hits, 81.0% overall), 64 crystals, 3.1 images/sec.\n",
      "Waiting for the last patterns to be processed...\n",
      "93 images processed, 93 hits (100.0%), 72 indexable (77.4% of hits, 77.4% overall), 72 crystals, 2.8 images/sec.\n",
      "Final: 100 images processed, 100 hits (100.0%), 78 indexable (78.0% of hits, 78.0% overall), 78 crystals.\n",
      "Processing XY pairs:  27%|██▋       | 21/77 [08:25<27:28, 29.44s/it]This is what I understood your unit cell to be:\n",
      "cubic P, right handed.\n",
      "a      b      c            alpha   beta  gamma\n",
      " 11.87  11.87  11.87 A     90.00  90.00  90.00 deg\n",
      "List of indexing methods:\n",
      "   0: xgandalf-nolatt-cell      (xgandalf using cell parameters as prior information)\n",
      "Indexing parameters:\n",
      "                  Check unit cell parameters: on\n",
      "                        Check peak alignment: on\n",
      "                   Refine indexing solutions: off\n",
      " Multi-lattice indexing (\"delete and retry\"): off\n",
      "                              Retry indexing: on\n"
     ]
    },
    {
     "name": "stdout",
     "output_type": "stream",
     "text": [
      "Running for x=-512.9, y=-512.9\n"
     ]
    },
    {
     "name": "stderr",
     "output_type": "stream",
     "text": [
      "19 images processed, 19 hits (100.0%), 19 indexable (100.0% of hits, 100.0% overall), 19 crystals, 3.8 images/sec.\n",
      "37 images processed, 37 hits (100.0%), 34 indexable (91.9% of hits, 91.9% overall), 34 crystals, 3.6 images/sec.\n",
      "53 images processed, 53 hits (100.0%), 47 indexable (88.7% of hits, 88.7% overall), 47 crystals, 3.1 images/sec.\n",
      "71 images processed, 71 hits (100.0%), 62 indexable (87.3% of hits, 87.3% overall), 62 crystals, 3.3 images/sec.\n",
      "Waiting for the last patterns to be processed...\n",
      "94 images processed, 94 hits (100.0%), 83 indexable (88.3% of hits, 88.3% overall), 83 crystals, 4.6 images/sec.\n",
      "Final: 100 images processed, 100 hits (100.0%), 86 indexable (86.0% of hits, 86.0% overall), 86 crystals.\n",
      "Processing XY pairs:  29%|██▊       | 22/77 [08:53<26:38, 29.06s/it]This is what I understood your unit cell to be:\n",
      "cubic P, right handed.\n",
      "a      b      c            alpha   beta  gamma\n",
      " 11.87  11.87  11.87 A     90.00  90.00  90.00 deg\n",
      "List of indexing methods:\n",
      "   0: xgandalf-nolatt-cell      (xgandalf using cell parameters as prior information)\n",
      "Indexing parameters:\n",
      "                  Check unit cell parameters: on\n",
      "                        Check peak alignment: on\n",
      "                   Refine indexing solutions: off\n",
      " Multi-lattice indexing (\"delete and retry\"): off\n",
      "                              Retry indexing: on\n"
     ]
    },
    {
     "name": "stdout",
     "output_type": "stream",
     "text": [
      "Running for x=-512.9, y=-512.1\n"
     ]
    },
    {
     "name": "stderr",
     "output_type": "stream",
     "text": [
      "18 images processed, 18 hits (100.0%), 16 indexable (88.9% of hits, 88.9% overall), 16 crystals, 3.4 images/sec.\n",
      "34 images processed, 34 hits (100.0%), 29 indexable (85.3% of hits, 85.3% overall), 29 crystals, 3.1 images/sec.\n",
      "51 images processed, 51 hits (100.0%), 41 indexable (80.4% of hits, 80.4% overall), 41 crystals, 3.4 images/sec.\n",
      "67 images processed, 67 hits (100.0%), 52 indexable (77.6% of hits, 77.6% overall), 52 crystals, 2.9 images/sec.\n",
      "82 images processed, 82 hits (100.0%), 59 indexable (72.0% of hits, 72.0% overall), 59 crystals, 3.0 images/sec.\n",
      "Waiting for the last patterns to be processed...\n",
      "98 images processed, 98 hits (100.0%), 69 indexable (70.4% of hits, 70.4% overall), 69 crystals, 3.1 images/sec.\n",
      "Final: 100 images processed, 100 hits (100.0%), 70 indexable (70.0% of hits, 70.0% overall), 70 crystals.\n",
      "Processing XY pairs:  30%|██▉       | 23/77 [09:25<26:53, 29.89s/it]This is what I understood your unit cell to be:\n",
      "cubic P, right handed.\n",
      "a      b      c            alpha   beta  gamma\n",
      " 11.87  11.87  11.87 A     90.00  90.00  90.00 deg\n",
      "List of indexing methods:\n",
      "   0: xgandalf-nolatt-cell      (xgandalf using cell parameters as prior information)\n",
      "Indexing parameters:\n",
      "                  Check unit cell parameters: on\n",
      "                        Check peak alignment: on\n",
      "                   Refine indexing solutions: off\n",
      " Multi-lattice indexing (\"delete and retry\"): off\n",
      "                              Retry indexing: on\n"
     ]
    },
    {
     "name": "stdout",
     "output_type": "stream",
     "text": [
      "Running for x=-512.1, y=-512.9\n"
     ]
    }
   ],
   "source": [
    "from gandalf_radial_iterator import gandalf_iterator\n",
    "\n",
    "geomfile_path = \"/Users/xiaodong/Desktop/simulations/LTA/LTAsim.geom\"                  # .geom file\n",
    "cellfile_path = \"/Users/xiaodong/Desktop/simulations/LTA/LTA.cell\"                     # .cell file\n",
    "\n",
    "# geomfile_path = \"/home/bubl3932/files/LTA_sim/LTAsim.geom\"                  # .geom file\n",
    "# cellfile_path = \"/home/bubl3932/files/LTA_sim/LTA.cell\"                     # .cell file\n",
    "\n",
    "input_path =   \"/Users/xiaodong/Desktop/simulations/LTA/simulation-24\"      # .h5 folder will also be output folder\n",
    "# input_path =   \"/home/bubl3932/files/LTA_sim/simulation-43\"               # .h5 folder will also be output folder\n",
    "\n",
    "output_file_base = \"LTA\"    # output files will be named output_file_base_xcoord_ycoord.h5\n",
    "\n",
    "num_threads = 8             # number of CPU threads to use\n",
    "x, y = 512.5, 512.5         # initial beam center from where iterations will start\n",
    "\n",
    "\"\"\"Define the grid and radius for iterations.\n",
    "As example max_radius = 1, step = 0.2 will give 81 iterations.\n",
    "Iterations will start at the center and move radially outwards.\n",
    "\"\"\"\n",
    "max_radius = 1              # maximum radius in pixels\n",
    "step = 0.2                  # grid granularity in pixels\n",
    "\n",
    "extra_flags=[\n",
    "# PEAKFINDING\n",
    "\"--no-revalidate\",\n",
    "\"--no-half-pixel-shift\",\n",
    "\"--peaks=peakfinder9\",\n",
    "\"--min-snr=1\",\n",
    "\"--min-snr-biggest-pix=1\",\n",
    "\"--min-sig=3\",\n",
    "\"--local-bg-radius=10\",\n",
    "# INDEXING\n",
    "\"--indexing=xgandalf\",\n",
    "\"--tolerance=10,10,10,5\",\n",
    "\"--no-refine\",\n",
    "# \"--no-retry\",\n",
    "\"--xgandalf-sampling-pitch=5\",\n",
    "\"--xgandalf-grad-desc-iterations=1\",\n",
    "\"--xgandalf-tolerance=0.02\",\n",
    "# \"--xgandalf-no-deviation-from-provided-cell\",\n",
    "# INTEGRATION\n",
    "\"--integration=rings\",\n",
    "\"--int-radius=4,5,9\",\n",
    "\"--fix-profile-radius=70000000\",\n",
    "# OUTPUT\n",
    "\"--no-non-hits-in-stream\",\n",
    "]\n",
    "\n",
    "\"\"\"Examples of extra flags(see crystfel documentation https://www.desy.de/~twhite/crystfel/manual-indexamajig.html):\"\"\"\n",
    "\n",
    "\"\"\" Basic options\n",
    "\"--highres=n\",\n",
    "\"--no-image-data\",\n",
    "\"\"\"\n",
    "\n",
    "\"\"\" Peakfinding\n",
    "\"--peaks=cxi\",\n",
    "\"--peak-radius=inner,middle,outer\",\n",
    "\"--min-peaks=n\",\n",
    "\"--median-filter=n\",\n",
    "\"--filter-noise\",\n",
    "\"--no-revalidate\",\n",
    "\"--no-half-pixel-shift\",\n",
    "\n",
    "\"--peaks=peakfinder9\",\n",
    "\"--min-snr=1\",\n",
    "\"--min-snr-peak-pix=6\",\n",
    "\"--min-snr-biggest-pix=1\",\n",
    "\"--min-sig=9\",\n",
    "\"--min-peak-over-neighbour=5\",\n",
    "\"--local-bg-radius=5\",\n",
    "\n",
    "\"--peaks=peakfinder8\",\n",
    "\"--threshold=45\",\n",
    "\"--min-snr=3\",\n",
    "\"--min-pix-count=3\",\n",
    "\"--max-pix-count=500\",\n",
    "\"--local-bg-radius=9\",\n",
    "\"--min-res=30\",\n",
    "\"--max-res=500\",\n",
    "\"\"\"\n",
    "\n",
    "\"\"\" Indexing\n",
    "\"--indexing=xgandalf\",\n",
    "\n",
    "\"--tolerance=tol\"\n",
    "\"--no-check-cell\",\n",
    "\"--no-check-peaks\",\n",
    "\"--multi\",\n",
    "\"--no-retry\",\n",
    "\"--no-refine\",\n",
    "\n",
    "\"--xgandalf-sampling-pitch=n\"\n",
    "\"--xgandalf-grad-desc-iterations=n\"\n",
    "\"--xgandalf-tolerance=n\"\n",
    "\"--xgandalf-no-deviation-from-provided-cell\"\n",
    "\"--xgandalf-max-lattice-vector-length=n\"\n",
    "\"--xgandalf-min-lattice-vector-length=n\"\n",
    "\"--xgandalf-max-peaks=n\"\n",
    "\"--xgandalf-fast-execution\"\n",
    "\"\"\"\n",
    "\n",
    "\"\"\" Integration\n",
    "\"--fix-profile-radius=n\",\n",
    "\"--fix-divergence=n\",\n",
    "\"--integration=rings\",\n",
    "\"--int-radius=4,5,10\",\n",
    "\"--push-res=n\",\n",
    "\"--overpredict\",\n",
    "\"--cell-parameters-only\",\n",
    "\"\"\"\n",
    "\n",
    "\"\"\" Output\n",
    "\"--no-non-hits-in-stream\",\n",
    "\"--no-peaks-in-stream\",\n",
    "\"--no-refls-in-stream\",\n",
    "\"--serial-offset\n",
    "\"\"\"\n",
    "\n",
    "gandalf_iterator(x, y, geomfile_path, cellfile_path, input_path, output_file_base, num_threads, max_radius=max_radius, step=step, extra_flags=extra_flags)\n"
   ]
  },
  {
   "cell_type": "markdown",
   "metadata": {},
   "source": [
    "# Evaluate the IQM with chosen weights for all frames and all index results"
   ]
  },
  {
   "cell_type": "code",
   "execution_count": 2,
   "metadata": {},
   "outputs": [
    {
     "name": "stdout",
     "output_type": "stream",
     "text": [
      "Evaluating multiple stream files with weights: (1, 1, 1, 1, 1, 1)\n"
     ]
    },
    {
     "name": "stderr",
     "output_type": "stream",
     "text": [
      "Processing chunks in LTA_-512.3_-512.4.stream: 100%|██████████| 432/432 [00:38<00:00, 11.22chunk/s] 9.75chunk/s]\n",
      "Processing chunks in LTAsim_xgandalf_-512.5_-512.5.stream:  13%|█▎        | 536/4186 [00:51<06:58,  8.73chunk/s]Process SpawnProcess-2:\n",
      "Processing chunks in LTAsim_xgandalf_-512.5_-512.5.stream:  13%|█▎        | 536/4186 [00:51<05:47, 10.51chunk/s]\n",
      "Traceback (most recent call last):\n",
      "  File \"/opt/anaconda3/envs/pyxem-env/lib/python3.10/multiprocessing/process.py\", line 314, in _bootstrap\n",
      "    self.run()\n",
      "  File \"/opt/anaconda3/envs/pyxem-env/lib/python3.10/multiprocessing/process.py\", line 108, in run\n",
      "    self._target(*self._args, **self._kwargs)\n",
      "  File \"/opt/anaconda3/envs/pyxem-env/lib/python3.10/concurrent/futures/process.py\", line 240, in _process_worker\n",
      "    call_item = call_queue.get(block=True)\n",
      "  File \"/opt/anaconda3/envs/pyxem-env/lib/python3.10/multiprocessing/queues.py\", line 103, in get\n",
      "    res = self._recv_bytes()\n",
      "  File \"/opt/anaconda3/envs/pyxem-env/lib/python3.10/multiprocessing/connection.py\", line 216, in recv_bytes\n",
      "    buf = self._recv_bytes(maxlength)\n",
      "  File \"/opt/anaconda3/envs/pyxem-env/lib/python3.10/multiprocessing/connection.py\", line 414, in _recv_bytes\n",
      "    buf = self._recv(4)\n",
      "  File \"/opt/anaconda3/envs/pyxem-env/lib/python3.10/multiprocessing/connection.py\", line 379, in _recv\n",
      "    chunk = read(handle, remaining)\n",
      "KeyboardInterrupt\n"
     ]
    },
    {
     "ename": "KeyboardInterrupt",
     "evalue": "",
     "output_type": "error",
     "traceback": [
      "\u001b[0;31m---------------------------------------------------------------------------\u001b[0m",
      "\u001b[0;31mKeyboardInterrupt\u001b[0m                         Traceback (most recent call last)",
      "Cell \u001b[0;32mIn[2], line 27\u001b[0m\n\u001b[1;32m      7\u001b[0m weights_list \u001b[38;5;241m=\u001b[39m [\n\u001b[1;32m      8\u001b[0m     (\u001b[38;5;241m1\u001b[39m, \u001b[38;5;241m1\u001b[39m, \u001b[38;5;241m1\u001b[39m, \u001b[38;5;241m1\u001b[39m, \u001b[38;5;241m1\u001b[39m, \u001b[38;5;241m1\u001b[39m)\n\u001b[1;32m      9\u001b[0m ]\n\u001b[1;32m     11\u001b[0m \u001b[38;5;124;03m\"\"\"\u001b[39;00m\n\u001b[1;32m     12\u001b[0m \u001b[38;5;124;03mEach weight corresponds to one of the six metrics used in calculating the combined IQM value.\u001b[39;00m\n\u001b[1;32m     13\u001b[0m \u001b[38;5;124;03mThe combined IQM is computed by first normalizing each metric across all stream files, then \u001b[39;00m\n\u001b[0;32m   (...)\u001b[0m\n\u001b[1;32m     24\u001b[0m \u001b[38;5;124;03mMultiple weight combinations can be specified if needed.\u001b[39;00m\n\u001b[1;32m     25\u001b[0m \u001b[38;5;124;03m\"\"\"\u001b[39;00m\n\u001b[0;32m---> 27\u001b[0m \u001b[43mautomate_evaluation\u001b[49m\u001b[43m(\u001b[49m\u001b[43mstream_file_folder\u001b[49m\u001b[43m,\u001b[49m\u001b[43m \u001b[49m\u001b[43mweights_list\u001b[49m\u001b[43m,\u001b[49m\u001b[43m \u001b[49m\u001b[43mindexing_tolerance\u001b[49m\u001b[38;5;241;43m=\u001b[39;49m\u001b[38;5;241;43m2\u001b[39;49m\u001b[43m)\u001b[49m\n",
      "File \u001b[0;32m~/Desktop/simSSED/gandalf_merge_refine/automate_evaluation.py:50\u001b[0m, in \u001b[0;36mautomate_evaluation\u001b[0;34m(stream_file_folder, weight_list, indexing_tolerance)\u001b[0m\n\u001b[1;32m     48\u001b[0m     \u001b[38;5;66;03m# Evaluate multiple stream files\u001b[39;00m\n\u001b[1;32m     49\u001b[0m     \u001b[38;5;28mprint\u001b[39m(\u001b[38;5;124mf\u001b[39m\u001b[38;5;124m\"\u001b[39m\u001b[38;5;124mEvaluating multiple stream files with weights: \u001b[39m\u001b[38;5;132;01m{\u001b[39;00mweight\u001b[38;5;132;01m}\u001b[39;00m\u001b[38;5;124m\"\u001b[39m)\n\u001b[0;32m---> 50\u001b[0m     \u001b[43mprocess_all_stream_files\u001b[49m\u001b[43m(\u001b[49m\u001b[43mstream_file_folder\u001b[49m\u001b[43m,\u001b[49m\u001b[43m \u001b[49m\u001b[43mIQM\u001b[49m\u001b[43m,\u001b[49m\u001b[43m \u001b[49m\u001b[43mindex_tolerance\u001b[49m\u001b[38;5;241;43m=\u001b[39;49m\u001b[43mindexing_tolerance\u001b[49m\u001b[43m,\u001b[49m\u001b[43m \u001b[49m\u001b[43mmetric_weights\u001b[49m\u001b[38;5;241;43m=\u001b[39;49m\u001b[43mweight\u001b[49m\u001b[43m)\u001b[49m\n\u001b[1;32m     52\u001b[0m \u001b[38;5;28;01mexcept\u001b[39;00m \u001b[38;5;167;01mException\u001b[39;00m \u001b[38;5;28;01mas\u001b[39;00m e:\n\u001b[1;32m     53\u001b[0m     tqdm\u001b[38;5;241m.\u001b[39mwrite(\u001b[38;5;124mf\u001b[39m\u001b[38;5;124m\"\u001b[39m\u001b[38;5;124mAn error occurred during processing of weights \u001b[39m\u001b[38;5;132;01m{\u001b[39;00mweight\u001b[38;5;132;01m}\u001b[39;00m\u001b[38;5;124m: \u001b[39m\u001b[38;5;132;01m{\u001b[39;00me\u001b[38;5;132;01m}\u001b[39;00m\u001b[38;5;124m\"\u001b[39m)\n",
      "File \u001b[0;32m~/Desktop/simSSED/gandalf_merge_refine/process_all_stream_files.py:165\u001b[0m, in \u001b[0;36mprocess_all_stream_files\u001b[0;34m(folder_path, IQM, index_tolerance, metric_weights, normalization_method)\u001b[0m\n\u001b[1;32m    160\u001b[0m \u001b[38;5;28;01mwith\u001b[39;00m ProcessPoolExecutor() \u001b[38;5;28;01mas\u001b[39;00m executor:\n\u001b[1;32m    161\u001b[0m     futures \u001b[38;5;241m=\u001b[39m {\n\u001b[1;32m    162\u001b[0m         executor\u001b[38;5;241m.\u001b[39msubmit(process_and_store, stream_file, metric_weights, all_results, header, lock, index_tolerance): stream_file\n\u001b[1;32m    163\u001b[0m         \u001b[38;5;28;01mfor\u001b[39;00m stream_file \u001b[38;5;129;01min\u001b[39;00m stream_files\n\u001b[1;32m    164\u001b[0m     }\n\u001b[0;32m--> 165\u001b[0m     \u001b[38;5;28;01mfor\u001b[39;00m future \u001b[38;5;129;01min\u001b[39;00m as_completed(futures):\n\u001b[1;32m    166\u001b[0m         futures\u001b[38;5;241m.\u001b[39mpop(future)\n\u001b[1;32m    168\u001b[0m \u001b[38;5;66;03m# Convert the shared list to a normal list.\u001b[39;00m\n",
      "File \u001b[0;32m/opt/anaconda3/envs/pyxem-env/lib/python3.10/concurrent/futures/_base.py:245\u001b[0m, in \u001b[0;36mas_completed\u001b[0;34m(fs, timeout)\u001b[0m\n\u001b[1;32m    240\u001b[0m     \u001b[38;5;28;01mif\u001b[39;00m wait_timeout \u001b[38;5;241m<\u001b[39m \u001b[38;5;241m0\u001b[39m:\n\u001b[1;32m    241\u001b[0m         \u001b[38;5;28;01mraise\u001b[39;00m \u001b[38;5;167;01mTimeoutError\u001b[39;00m(\n\u001b[1;32m    242\u001b[0m                 \u001b[38;5;124m'\u001b[39m\u001b[38;5;132;01m%d\u001b[39;00m\u001b[38;5;124m (of \u001b[39m\u001b[38;5;132;01m%d\u001b[39;00m\u001b[38;5;124m) futures unfinished\u001b[39m\u001b[38;5;124m'\u001b[39m \u001b[38;5;241m%\u001b[39m (\n\u001b[1;32m    243\u001b[0m                 \u001b[38;5;28mlen\u001b[39m(pending), total_futures))\n\u001b[0;32m--> 245\u001b[0m \u001b[43mwaiter\u001b[49m\u001b[38;5;241;43m.\u001b[39;49m\u001b[43mevent\u001b[49m\u001b[38;5;241;43m.\u001b[39;49m\u001b[43mwait\u001b[49m\u001b[43m(\u001b[49m\u001b[43mwait_timeout\u001b[49m\u001b[43m)\u001b[49m\n\u001b[1;32m    247\u001b[0m \u001b[38;5;28;01mwith\u001b[39;00m waiter\u001b[38;5;241m.\u001b[39mlock:\n\u001b[1;32m    248\u001b[0m     finished \u001b[38;5;241m=\u001b[39m waiter\u001b[38;5;241m.\u001b[39mfinished_futures\n",
      "File \u001b[0;32m/opt/anaconda3/envs/pyxem-env/lib/python3.10/threading.py:607\u001b[0m, in \u001b[0;36mEvent.wait\u001b[0;34m(self, timeout)\u001b[0m\n\u001b[1;32m    605\u001b[0m signaled \u001b[38;5;241m=\u001b[39m \u001b[38;5;28mself\u001b[39m\u001b[38;5;241m.\u001b[39m_flag\n\u001b[1;32m    606\u001b[0m \u001b[38;5;28;01mif\u001b[39;00m \u001b[38;5;129;01mnot\u001b[39;00m signaled:\n\u001b[0;32m--> 607\u001b[0m     signaled \u001b[38;5;241m=\u001b[39m \u001b[38;5;28;43mself\u001b[39;49m\u001b[38;5;241;43m.\u001b[39;49m\u001b[43m_cond\u001b[49m\u001b[38;5;241;43m.\u001b[39;49m\u001b[43mwait\u001b[49m\u001b[43m(\u001b[49m\u001b[43mtimeout\u001b[49m\u001b[43m)\u001b[49m\n\u001b[1;32m    608\u001b[0m \u001b[38;5;28;01mreturn\u001b[39;00m signaled\n",
      "File \u001b[0;32m/opt/anaconda3/envs/pyxem-env/lib/python3.10/threading.py:320\u001b[0m, in \u001b[0;36mCondition.wait\u001b[0;34m(self, timeout)\u001b[0m\n\u001b[1;32m    318\u001b[0m \u001b[38;5;28;01mtry\u001b[39;00m:    \u001b[38;5;66;03m# restore state no matter what (e.g., KeyboardInterrupt)\u001b[39;00m\n\u001b[1;32m    319\u001b[0m     \u001b[38;5;28;01mif\u001b[39;00m timeout \u001b[38;5;129;01mis\u001b[39;00m \u001b[38;5;28;01mNone\u001b[39;00m:\n\u001b[0;32m--> 320\u001b[0m         \u001b[43mwaiter\u001b[49m\u001b[38;5;241;43m.\u001b[39;49m\u001b[43macquire\u001b[49m\u001b[43m(\u001b[49m\u001b[43m)\u001b[49m\n\u001b[1;32m    321\u001b[0m         gotit \u001b[38;5;241m=\u001b[39m \u001b[38;5;28;01mTrue\u001b[39;00m\n\u001b[1;32m    322\u001b[0m     \u001b[38;5;28;01melse\u001b[39;00m:\n",
      "\u001b[0;31mKeyboardInterrupt\u001b[0m: "
     ]
    }
   ],
   "source": [
    "from automate_evaluation import automate_evaluation\n",
    "\n",
    "# Enter folder with stream file results from indexamajig. \n",
    "# Note that ALL stream files in the folder will be processed.\n",
    "stream_file_folder = \"/Users/xiaodong/Desktop/simulations/LTA/simulation-33\" \n",
    "\n",
    "weights_list = [\n",
    "    (1, 1, 1, 1, 1, 1)\n",
    "]\n",
    "\n",
    "\"\"\"\n",
    "Each weight corresponds to one of the six metrics used in calculating the combined IQM value.\n",
    "The combined IQM is computed by first normalizing each metric across all stream files, then \n",
    "multiplying each normalized metric by its assigned weight, and finally summing the results.\n",
    "The order (or keys) of the weights must match the following metrics:\n",
    "\n",
    "- 'weighted_rmsd'\n",
    "- 'fraction_outliers'\n",
    "- 'length_deviation'\n",
    "- 'angle_deviation'\n",
    "- 'peak_ratio'\n",
    "- 'percentage_indexed'\n",
    "\n",
    "Multiple weight combinations can be specified if needed.\n",
    "\"\"\"\n",
    "\n",
    "automate_evaluation(stream_file_folder, weights_list, indexing_tolerance=2)"
   ]
  },
  {
   "cell_type": "markdown",
   "metadata": {},
   "source": [
    "# Merge the best results stream file"
   ]
  },
  {
   "cell_type": "code",
   "execution_count": null,
   "metadata": {},
   "outputs": [],
   "source": [
    "from merge import merge\n",
    "\n",
    "stream_file = \".stream\"\n",
    "pointgroup = \"m-3m\"\n",
    "num_threads = 24\n",
    "iterations = 5\n",
    "\n",
    "output_dir = merge(\n",
    "    stream_file,\n",
    "    pointgroup=pointgroup,\n",
    "    num_threads=num_threads,\n",
    "    iterations=iterations,\n",
    ")\n",
    "\n",
    "if output_dir is not None:\n",
    "    print(\"Merging done. Results are in:\", output_dir)"
   ]
  },
  {
   "cell_type": "markdown",
   "metadata": {},
   "source": [
    "# Convert to shelx compatible .hkl"
   ]
  },
  {
   "cell_type": "code",
   "execution_count": null,
   "metadata": {},
   "outputs": [],
   "source": [
    "\n",
    "import os \n",
    "from convert_hkl_crystfel_to_shelx import convert_hkl_crystfel_to_shelx \n",
    "convert_hkl_crystfel_to_shelx(os.path.join(output_dir,\"crystfel.hkl\"))"
   ]
  },
  {
   "cell_type": "markdown",
   "metadata": {},
   "source": [
    "# Convert to mtz"
   ]
  },
  {
   "cell_type": "code",
   "execution_count": null,
   "metadata": {},
   "outputs": [],
   "source": [
    "from convert_hkl_to_mtz import convert_hkl_to_mtz\n",
    "cellfile_path = \"\"\n",
    "convert_hkl_to_mtz(output_dir, cellfile_path=cellfile_path)"
   ]
  }
 ],
 "metadata": {
  "kernelspec": {
   "display_name": "pyxem-env",
   "language": "python",
   "name": "python3"
  },
  "language_info": {
   "codemirror_mode": {
    "name": "ipython",
    "version": 3
   },
   "file_extension": ".py",
   "mimetype": "text/x-python",
   "name": "python",
   "nbconvert_exporter": "python",
   "pygments_lexer": "ipython3",
   "version": "3.10.16"
  }
 },
 "nbformat": 4,
 "nbformat_minor": 2
}
