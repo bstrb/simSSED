{
 "cells": [
  {
   "cell_type": "markdown",
   "metadata": {},
   "source": [
    "# Index using XGANDALF and Integration using rings"
   ]
  },
  {
   "cell_type": "code",
   "execution_count": 3,
   "metadata": {},
   "outputs": [
    {
     "name": "stdout",
     "output_type": "stream",
     "text": [
      "'list.lst' has been created with 1 entries at /home/bubl3932/files/LTA_sim/simulation-43/list.lst\n"
     ]
    },
    {
     "name": "stderr",
     "output_type": "stream",
     "text": [
      "Processing XY pairs:   0%|          | 0/313 [00:00<?, ?it/s]"
     ]
    },
    {
     "name": "stdout",
     "output_type": "stream",
     "text": [
      "Running for x=-512.5, y=-512.5\n"
     ]
    },
    {
     "name": "stderr",
     "output_type": "stream",
     "text": [
      "This is what I understood your unit cell to be:\n",
      "cubic P, right handed.\n",
      "a      b      c            alpha   beta  gamma\n",
      " 11.87  11.87  11.87 A     90.00  90.00  90.00 deg\n",
      "List of indexing methods:\n",
      "   0: xgandalf-nolatt-cell      (xgandalf using cell parameters as prior information)\n",
      "Indexing parameters:\n",
      "                  Check unit cell parameters: on\n",
      "                        Check peak alignment: on\n",
      "                   Refine indexing solutions: off\n",
      " Multi-lattice indexing (\"delete and retry\"): off\n",
      "                              Retry indexing: on\n",
      "93 images processed, 93 hits (100.0%), 87 indexable (93.5% of hits, 93.5% overall), 87 crystals, 18.3 images/sec.\n",
      "198 images processed, 198 hits (100.0%), 187 indexable (94.4% of hits, 94.4% overall), 187 crystals, 20.8 images/sec.\n",
      "Waiting for the last patterns to be processed...\n",
      "299 images processed, 299 hits (100.0%), 283 indexable (94.6% of hits, 94.6% overall), 283 crystals, 19.5 images/sec.\n",
      "Final: 300 images processed, 300 hits (100.0%), 283 indexable (94.3% of hits, 94.3% overall), 283 crystals.\n",
      "Processing XY pairs:   0%|          | 1/313 [00:15<1:20:11, 15.42s/it]This is what I understood your unit cell to be:\n",
      "cubic P, right handed.\n",
      "a      b      c            alpha   beta  gamma\n",
      " 11.87  11.87  11.87 A     90.00  90.00  90.00 deg\n",
      "List of indexing methods:\n",
      "   0: xgandalf-nolatt-cell      (xgandalf using cell parameters as prior information)\n",
      "Indexing parameters:\n",
      "                  Check unit cell parameters: on\n",
      "                        Check peak alignment: on\n",
      "                   Refine indexing solutions: off\n",
      " Multi-lattice indexing (\"delete and retry\"): off\n",
      "                              Retry indexing: on\n"
     ]
    },
    {
     "name": "stdout",
     "output_type": "stream",
     "text": [
      "Running for x=-512.6, y=-512.5\n"
     ]
    },
    {
     "name": "stderr",
     "output_type": "stream",
     "text": [
      "93 images processed, 93 hits (100.0%), 85 indexable (91.4% of hits, 91.4% overall), 85 crystals, 18.5 images/sec.\n",
      "197 images processed, 197 hits (100.0%), 185 indexable (93.9% of hits, 93.9% overall), 185 crystals, 20.6 images/sec.\n",
      "Waiting for the last patterns to be processed...\n",
      "298 images processed, 298 hits (100.0%), 283 indexable (95.0% of hits, 95.0% overall), 283 crystals, 19.5 images/sec.\n",
      "Final: 300 images processed, 300 hits (100.0%), 284 indexable (94.7% of hits, 94.7% overall), 284 crystals.\n",
      "Processing XY pairs:   1%|          | 2/313 [00:31<1:22:42, 15.96s/it]This is what I understood your unit cell to be:\n",
      "cubic P, right handed.\n",
      "a      b      c            alpha   beta  gamma\n",
      " 11.87  11.87  11.87 A     90.00  90.00  90.00 deg\n",
      "List of indexing methods:\n",
      "   0: xgandalf-nolatt-cell      (xgandalf using cell parameters as prior information)\n",
      "Indexing parameters:\n",
      "                  Check unit cell parameters: on\n",
      "                        Check peak alignment: on\n",
      "                   Refine indexing solutions: off\n",
      " Multi-lattice indexing (\"delete and retry\"): off\n",
      "                              Retry indexing: on\n"
     ]
    },
    {
     "name": "stdout",
     "output_type": "stream",
     "text": [
      "Running for x=-512.5, y=-512.6\n"
     ]
    },
    {
     "name": "stderr",
     "output_type": "stream",
     "text": [
      "81 images processed, 81 hits (100.0%), 73 indexable (90.1% of hits, 90.1% overall), 73 crystals, 16.1 images/sec.\n",
      "192 images processed, 192 hits (100.0%), 183 indexable (95.3% of hits, 95.3% overall), 183 crystals, 22.2 images/sec.\n",
      "Waiting for the last patterns to be processed...\n",
      "294 images processed, 294 hits (100.0%), 283 indexable (96.3% of hits, 96.3% overall), 283 crystals, 19.6 images/sec.\n",
      "Final: 300 images processed, 300 hits (100.0%), 287 indexable (95.7% of hits, 95.7% overall), 287 crystals.\n",
      "Processing XY pairs:   1%|          | 3/313 [00:47<1:22:07, 15.90s/it]This is what I understood your unit cell to be:\n",
      "cubic P, right handed.\n",
      "a      b      c            alpha   beta  gamma\n",
      " 11.87  11.87  11.87 A     90.00  90.00  90.00 deg\n",
      "List of indexing methods:\n",
      "   0: xgandalf-nolatt-cell      (xgandalf using cell parameters as prior information)\n",
      "Indexing parameters:\n",
      "                  Check unit cell parameters: on\n",
      "                        Check peak alignment: on\n",
      "                   Refine indexing solutions: off\n",
      " Multi-lattice indexing (\"delete and retry\"): off\n",
      "                              Retry indexing: on\n"
     ]
    },
    {
     "name": "stdout",
     "output_type": "stream",
     "text": [
      "Running for x=-512.5, y=-512.4\n"
     ]
    },
    {
     "name": "stderr",
     "output_type": "stream",
     "text": [
      "73 images processed, 73 hits (100.0%), 62 indexable (84.9% of hits, 84.9% overall), 62 crystals, 14.6 images/sec.\n",
      "156 images processed, 156 hits (100.0%), 142 indexable (91.0% of hits, 91.0% overall), 142 crystals, 16.4 images/sec.\n",
      "244 images processed, 244 hits (100.0%), 226 indexable (92.6% of hits, 92.6% overall), 226 crystals, 17.5 images/sec.\n",
      "Waiting for the last patterns to be processed...\n",
      "Final: 300 images processed, 300 hits (100.0%), 277 indexable (92.3% of hits, 92.3% overall), 277 crystals.\n",
      "Processing XY pairs:   1%|▏         | 4/313 [01:07<1:29:05, 17.30s/it]This is what I understood your unit cell to be:\n",
      "cubic P, right handed.\n",
      "a      b      c            alpha   beta  gamma\n",
      " 11.87  11.87  11.87 A     90.00  90.00  90.00 deg\n",
      "List of indexing methods:\n",
      "   0: xgandalf-nolatt-cell      (xgandalf using cell parameters as prior information)\n",
      "Indexing parameters:\n",
      "                  Check unit cell parameters: on\n",
      "                        Check peak alignment: on\n",
      "                   Refine indexing solutions: off\n",
      " Multi-lattice indexing (\"delete and retry\"): off\n",
      "                              Retry indexing: on\n"
     ]
    },
    {
     "name": "stdout",
     "output_type": "stream",
     "text": [
      "Running for x=-512.4, y=-512.5\n"
     ]
    },
    {
     "name": "stderr",
     "output_type": "stream",
     "text": [
      "80 images processed, 80 hits (100.0%), 74 indexable (92.5% of hits, 92.5% overall), 74 crystals, 15.8 images/sec.\n",
      "167 images processed, 167 hits (100.0%), 158 indexable (94.6% of hits, 94.6% overall), 158 crystals, 17.4 images/sec.\n",
      "246 images processed, 246 hits (100.0%), 231 indexable (93.9% of hits, 93.9% overall), 231 crystals, 15.7 images/sec.\n",
      "Waiting for the last patterns to be processed...\n",
      "Final: 300 images processed, 300 hits (100.0%), 282 indexable (94.0% of hits, 94.0% overall), 282 crystals.\n",
      "Processing XY pairs:   2%|▏         | 5/313 [01:25<1:30:58, 17.72s/it]This is what I understood your unit cell to be:\n",
      "cubic P, right handed.\n",
      "a      b      c            alpha   beta  gamma\n",
      " 11.87  11.87  11.87 A     90.00  90.00  90.00 deg\n",
      "List of indexing methods:\n",
      "   0: xgandalf-nolatt-cell      (xgandalf using cell parameters as prior information)\n",
      "Indexing parameters:\n",
      "                  Check unit cell parameters: on\n",
      "                        Check peak alignment: on\n",
      "                   Refine indexing solutions: off\n",
      " Multi-lattice indexing (\"delete and retry\"): off\n",
      "                              Retry indexing: on\n"
     ]
    },
    {
     "name": "stdout",
     "output_type": "stream",
     "text": [
      "Running for x=-512.6, y=-512.6\n"
     ]
    },
    {
     "name": "stderr",
     "output_type": "stream",
     "text": [
      "86 images processed, 86 hits (100.0%), 79 indexable (91.9% of hits, 91.9% overall), 79 crystals, 17.1 images/sec.\n",
      "198 images processed, 198 hits (100.0%), 191 indexable (96.5% of hits, 96.5% overall), 191 crystals, 22.3 images/sec.\n",
      "Waiting for the last patterns to be processed...\n",
      "297 images processed, 297 hits (100.0%), 286 indexable (96.3% of hits, 96.3% overall), 286 crystals, 19.0 images/sec.\n",
      "Final: 300 images processed, 300 hits (100.0%), 288 indexable (96.0% of hits, 96.0% overall), 288 crystals.\n",
      "Processing XY pairs:   2%|▏         | 6/313 [01:42<1:28:34, 17.31s/it]This is what I understood your unit cell to be:\n",
      "cubic P, right handed.\n",
      "a      b      c            alpha   beta  gamma\n",
      " 11.87  11.87  11.87 A     90.00  90.00  90.00 deg\n",
      "List of indexing methods:\n",
      "   0: xgandalf-nolatt-cell      (xgandalf using cell parameters as prior information)\n",
      "Indexing parameters:\n",
      "                  Check unit cell parameters: on\n",
      "                        Check peak alignment: on\n",
      "                   Refine indexing solutions: off\n",
      " Multi-lattice indexing (\"delete and retry\"): off\n",
      "                              Retry indexing: on\n"
     ]
    },
    {
     "name": "stdout",
     "output_type": "stream",
     "text": [
      "Running for x=-512.6, y=-512.4\n"
     ]
    },
    {
     "name": "stderr",
     "output_type": "stream",
     "text": [
      "77 images processed, 77 hits (100.0%), 69 indexable (89.6% of hits, 89.6% overall), 69 crystals, 15.2 images/sec.\n",
      "169 images processed, 169 hits (100.0%), 159 indexable (94.1% of hits, 94.1% overall), 159 crystals, 18.2 images/sec.\n",
      "Waiting for the last patterns to be processed...\n",
      "281 images processed, 281 hits (100.0%), 267 indexable (95.0% of hits, 95.0% overall), 267 crystals, 22.3 images/sec.\n",
      "Final: 300 images processed, 300 hits (100.0%), 281 indexable (93.7% of hits, 93.7% overall), 281 crystals.\n",
      "Processing XY pairs:   2%|▏         | 7/313 [01:58<1:27:25, 17.14s/it]This is what I understood your unit cell to be:\n",
      "cubic P, right handed.\n",
      "a      b      c            alpha   beta  gamma\n",
      " 11.87  11.87  11.87 A     90.00  90.00  90.00 deg\n",
      "List of indexing methods:\n",
      "   0: xgandalf-nolatt-cell      (xgandalf using cell parameters as prior information)\n",
      "Indexing parameters:\n",
      "                  Check unit cell parameters: on\n",
      "                        Check peak alignment: on\n",
      "                   Refine indexing solutions: off\n",
      " Multi-lattice indexing (\"delete and retry\"): off\n",
      "                              Retry indexing: on\n"
     ]
    },
    {
     "name": "stdout",
     "output_type": "stream",
     "text": [
      "Running for x=-512.4, y=-512.6\n"
     ]
    },
    {
     "name": "stderr",
     "output_type": "stream",
     "text": [
      "82 images processed, 82 hits (100.0%), 73 indexable (89.0% of hits, 89.0% overall), 73 crystals, 16.3 images/sec.\n",
      "178 images processed, 178 hits (100.0%), 169 indexable (94.9% of hits, 94.9% overall), 169 crystals, 19.2 images/sec.\n",
      "271 images processed, 271 hits (100.0%), 257 indexable (94.8% of hits, 94.8% overall), 257 crystals, 18.6 images/sec.\n",
      "Waiting for the last patterns to be processed...\n",
      "Final: 300 images processed, 300 hits (100.0%), 280 indexable (93.3% of hits, 93.3% overall), 280 crystals.\n",
      "Processing XY pairs:   3%|▎         | 8/313 [02:17<1:29:41, 17.64s/it]This is what I understood your unit cell to be:\n",
      "cubic P, right handed.\n",
      "a      b      c            alpha   beta  gamma\n",
      " 11.87  11.87  11.87 A     90.00  90.00  90.00 deg\n",
      "List of indexing methods:\n",
      "   0: xgandalf-nolatt-cell      (xgandalf using cell parameters as prior information)\n",
      "Indexing parameters:\n",
      "                  Check unit cell parameters: on\n",
      "                        Check peak alignment: on\n",
      "                   Refine indexing solutions: off\n",
      " Multi-lattice indexing (\"delete and retry\"): off\n",
      "                              Retry indexing: on\n"
     ]
    },
    {
     "name": "stdout",
     "output_type": "stream",
     "text": [
      "Running for x=-512.4, y=-512.4\n"
     ]
    },
    {
     "name": "stderr",
     "output_type": "stream",
     "text": [
      "72 images processed, 72 hits (100.0%), 63 indexable (87.5% of hits, 87.5% overall), 63 crystals, 14.3 images/sec.\n",
      "144 images processed, 144 hits (100.0%), 127 indexable (88.2% of hits, 88.2% overall), 127 crystals, 14.3 images/sec.\n",
      "222 images processed, 222 hits (100.0%), 194 indexable (87.4% of hits, 87.4% overall), 194 crystals, 15.5 images/sec.\n",
      "Waiting for the last patterns to be processed...\n",
      "Final: 300 images processed, 300 hits (100.0%), 267 indexable (89.0% of hits, 89.0% overall), 267 crystals.\n",
      "Processing XY pairs:   3%|▎         | 9/313 [02:37<1:32:48, 18.32s/it]This is what I understood your unit cell to be:\n",
      "cubic P, right handed.\n",
      "a      b      c            alpha   beta  gamma\n",
      " 11.87  11.87  11.87 A     90.00  90.00  90.00 deg\n",
      "List of indexing methods:\n",
      "   0: xgandalf-nolatt-cell      (xgandalf using cell parameters as prior information)\n",
      "Indexing parameters:\n",
      "                  Check unit cell parameters: on\n",
      "                        Check peak alignment: on\n",
      "                   Refine indexing solutions: off\n",
      " Multi-lattice indexing (\"delete and retry\"): off\n",
      "                              Retry indexing: on\n"
     ]
    },
    {
     "name": "stdout",
     "output_type": "stream",
     "text": [
      "Running for x=-512.7, y=-512.5\n"
     ]
    },
    {
     "name": "stderr",
     "output_type": "stream",
     "text": [
      "86 images processed, 86 hits (100.0%), 80 indexable (93.0% of hits, 93.0% overall), 80 crystals, 17.1 images/sec.\n",
      "195 images processed, 195 hits (100.0%), 185 indexable (94.9% of hits, 94.9% overall), 185 crystals, 21.8 images/sec.\n",
      "Waiting for the last patterns to be processed...\n",
      "297 images processed, 297 hits (100.0%), 283 indexable (95.3% of hits, 95.3% overall), 283 crystals, 20.3 images/sec.\n",
      "Final: 300 images processed, 300 hits (100.0%), 284 indexable (94.7% of hits, 94.7% overall), 284 crystals.\n",
      "Processing XY pairs:   3%|▎         | 10/313 [02:54<1:30:00, 17.82s/it]This is what I understood your unit cell to be:\n",
      "cubic P, right handed.\n",
      "a      b      c            alpha   beta  gamma\n",
      " 11.87  11.87  11.87 A     90.00  90.00  90.00 deg\n",
      "List of indexing methods:\n",
      "   0: xgandalf-nolatt-cell      (xgandalf using cell parameters as prior information)\n",
      "Indexing parameters:\n",
      "                  Check unit cell parameters: on\n",
      "                        Check peak alignment: on\n",
      "                   Refine indexing solutions: off\n",
      " Multi-lattice indexing (\"delete and retry\"): off\n",
      "                              Retry indexing: on\n"
     ]
    },
    {
     "name": "stdout",
     "output_type": "stream",
     "text": [
      "Running for x=-512.5, y=-512.7\n"
     ]
    },
    {
     "name": "stderr",
     "output_type": "stream",
     "text": [
      "87 images processed, 87 hits (100.0%), 79 indexable (90.8% of hits, 90.8% overall), 79 crystals, 17.1 images/sec.\n",
      "204 images processed, 204 hits (100.0%), 195 indexable (95.6% of hits, 95.6% overall), 195 crystals, 23.3 images/sec.\n",
      "Waiting for the last patterns to be processed...\n",
      "298 images processed, 298 hits (100.0%), 286 indexable (96.0% of hits, 96.0% overall), 286 crystals, 18.8 images/sec.\n",
      "Final: 300 images processed, 300 hits (100.0%), 287 indexable (95.7% of hits, 95.7% overall), 287 crystals.\n",
      "Processing XY pairs:   4%|▎         | 11/313 [03:09<1:25:54, 17.07s/it]This is what I understood your unit cell to be:\n",
      "cubic P, right handed.\n",
      "a      b      c            alpha   beta  gamma\n",
      " 11.87  11.87  11.87 A     90.00  90.00  90.00 deg\n",
      "List of indexing methods:\n",
      "   0: xgandalf-nolatt-cell      (xgandalf using cell parameters as prior information)\n",
      "Indexing parameters:\n",
      "                  Check unit cell parameters: on\n",
      "                        Check peak alignment: on\n",
      "                   Refine indexing solutions: off\n",
      " Multi-lattice indexing (\"delete and retry\"): off\n",
      "                              Retry indexing: on\n"
     ]
    },
    {
     "name": "stdout",
     "output_type": "stream",
     "text": [
      "Running for x=-512.5, y=-512.3\n"
     ]
    },
    {
     "name": "stderr",
     "output_type": "stream",
     "text": [
      "66 images processed, 66 hits (100.0%), 54 indexable (81.8% of hits, 81.8% overall), 54 crystals, 13.1 images/sec.\n",
      "127 images processed, 127 hits (100.0%), 108 indexable (85.0% of hits, 85.0% overall), 108 crystals, 12.0 images/sec.\n",
      "205 images processed, 205 hits (100.0%), 176 indexable (85.9% of hits, 85.9% overall), 176 crystals, 15.2 images/sec.\n",
      "Waiting for the last patterns to be processed...\n",
      "300 images processed, 300 hits (100.0%), 264 indexable (88.0% of hits, 88.0% overall), 264 crystals, 18.4 images/sec.\n",
      "Final: 300 images processed, 300 hits (100.0%), 264 indexable (88.0% of hits, 88.0% overall), 264 crystals.\n",
      "Processing XY pairs:   4%|▍         | 12/313 [03:30<1:32:24, 18.42s/it]This is what I understood your unit cell to be:\n",
      "cubic P, right handed.\n",
      "a      b      c            alpha   beta  gamma\n",
      " 11.87  11.87  11.87 A     90.00  90.00  90.00 deg\n",
      "List of indexing methods:\n",
      "   0: xgandalf-nolatt-cell      (xgandalf using cell parameters as prior information)\n",
      "Indexing parameters:\n",
      "                  Check unit cell parameters: on\n",
      "                        Check peak alignment: on\n",
      "                   Refine indexing solutions: off\n",
      " Multi-lattice indexing (\"delete and retry\"): off\n",
      "                              Retry indexing: on\n"
     ]
    },
    {
     "name": "stdout",
     "output_type": "stream",
     "text": [
      "Running for x=-512.3, y=-512.5\n"
     ]
    },
    {
     "name": "stderr",
     "output_type": "stream",
     "text": [
      "77 images processed, 77 hits (100.0%), 70 indexable (90.9% of hits, 90.9% overall), 70 crystals, 15.3 images/sec.\n",
      "157 images processed, 157 hits (100.0%), 144 indexable (91.7% of hits, 91.7% overall), 144 crystals, 16.0 images/sec.\n",
      "228 images processed, 228 hits (100.0%), 205 indexable (89.9% of hits, 89.9% overall), 205 crystals, 14.2 images/sec.\n",
      "Waiting for the last patterns to be processed...\n",
      "Final: 300 images processed, 300 hits (100.0%), 270 indexable (90.0% of hits, 90.0% overall), 270 crystals.\n",
      "Processing XY pairs:   4%|▍         | 13/313 [03:51<1:36:06, 19.22s/it]This is what I understood your unit cell to be:\n",
      "cubic P, right handed.\n",
      "a      b      c            alpha   beta  gamma\n",
      " 11.87  11.87  11.87 A     90.00  90.00  90.00 deg\n",
      "List of indexing methods:\n",
      "   0: xgandalf-nolatt-cell      (xgandalf using cell parameters as prior information)\n",
      "Indexing parameters:\n",
      "                  Check unit cell parameters: on\n",
      "                        Check peak alignment: on\n",
      "                   Refine indexing solutions: off\n",
      " Multi-lattice indexing (\"delete and retry\"): off\n",
      "                              Retry indexing: on\n"
     ]
    },
    {
     "name": "stdout",
     "output_type": "stream",
     "text": [
      "Running for x=-512.7, y=-512.6\n"
     ]
    },
    {
     "name": "stderr",
     "output_type": "stream",
     "text": [
      "81 images processed, 81 hits (100.0%), 74 indexable (91.4% of hits, 91.4% overall), 74 crystals, 16.0 images/sec.\n",
      "217 images processed, 217 hits (100.0%), 209 indexable (96.3% of hits, 96.3% overall), 209 crystals, 27.2 images/sec.\n",
      "Waiting for the last patterns to be processed...\n",
      "Final: 300 images processed, 300 hits (100.0%), 288 indexable (96.0% of hits, 96.0% overall), 288 crystals.\n",
      "Processing XY pairs:   4%|▍         | 14/313 [04:06<1:28:40, 17.79s/it]This is what I understood your unit cell to be:\n",
      "cubic P, right handed.\n",
      "a      b      c            alpha   beta  gamma\n",
      " 11.87  11.87  11.87 A     90.00  90.00  90.00 deg\n",
      "List of indexing methods:\n",
      "   0: xgandalf-nolatt-cell      (xgandalf using cell parameters as prior information)\n",
      "Indexing parameters:\n",
      "                  Check unit cell parameters: on\n",
      "                        Check peak alignment: on\n",
      "                   Refine indexing solutions: off\n",
      " Multi-lattice indexing (\"delete and retry\"): off\n",
      "                              Retry indexing: on\n"
     ]
    },
    {
     "name": "stdout",
     "output_type": "stream",
     "text": [
      "Running for x=-512.7, y=-512.4\n"
     ]
    },
    {
     "name": "stderr",
     "output_type": "stream",
     "text": [
      "81 images processed, 81 hits (100.0%), 72 indexable (88.9% of hits, 88.9% overall), 72 crystals, 16.1 images/sec.\n",
      "179 images processed, 179 hits (100.0%), 167 indexable (93.3% of hits, 93.3% overall), 167 crystals, 19.2 images/sec.\n",
      "Waiting for the last patterns to be processed...\n",
      "289 images processed, 289 hits (100.0%), 273 indexable (94.5% of hits, 94.5% overall), 273 crystals, 21.9 images/sec.\n",
      "Final: 300 images processed, 300 hits (100.0%), 280 indexable (93.3% of hits, 93.3% overall), 280 crystals.\n",
      "Processing XY pairs:   5%|▍         | 15/313 [04:24<1:28:15, 17.77s/it]This is what I understood your unit cell to be:\n",
      "cubic P, right handed.\n",
      "a      b      c            alpha   beta  gamma\n",
      " 11.87  11.87  11.87 A     90.00  90.00  90.00 deg\n",
      "List of indexing methods:\n",
      "   0: xgandalf-nolatt-cell      (xgandalf using cell parameters as prior information)\n",
      "Indexing parameters:\n",
      "                  Check unit cell parameters: on\n",
      "                        Check peak alignment: on\n",
      "                   Refine indexing solutions: off\n",
      " Multi-lattice indexing (\"delete and retry\"): off\n",
      "                              Retry indexing: on\n"
     ]
    },
    {
     "name": "stdout",
     "output_type": "stream",
     "text": [
      "Running for x=-512.6, y=-512.7\n"
     ]
    },
    {
     "name": "stderr",
     "output_type": "stream",
     "text": [
      "78 images processed, 78 hits (100.0%), 70 indexable (89.7% of hits, 89.7% overall), 70 crystals, 15.5 images/sec.\n",
      "205 images processed, 205 hits (100.0%), 197 indexable (96.1% of hits, 96.1% overall), 197 crystals, 25.4 images/sec.\n",
      "Waiting for the last patterns to be processed...\n",
      "Final: 300 images processed, 300 hits (100.0%), 286 indexable (95.3% of hits, 95.3% overall), 286 crystals.\n",
      "Processing XY pairs:   5%|▌         | 16/313 [04:39<1:23:47, 16.93s/it]This is what I understood your unit cell to be:\n",
      "cubic P, right handed.\n",
      "a      b      c            alpha   beta  gamma\n",
      " 11.87  11.87  11.87 A     90.00  90.00  90.00 deg\n",
      "List of indexing methods:\n",
      "   0: xgandalf-nolatt-cell      (xgandalf using cell parameters as prior information)\n",
      "Indexing parameters:\n",
      "                  Check unit cell parameters: on\n",
      "                        Check peak alignment: on\n",
      "                   Refine indexing solutions: off\n",
      " Multi-lattice indexing (\"delete and retry\"): off\n",
      "                              Retry indexing: on\n"
     ]
    },
    {
     "name": "stdout",
     "output_type": "stream",
     "text": [
      "Running for x=-512.6, y=-512.3\n"
     ]
    },
    {
     "name": "stderr",
     "output_type": "stream",
     "text": [
      "69 images processed, 69 hits (100.0%), 58 indexable (84.1% of hits, 84.1% overall), 58 crystals, 13.4 images/sec.\n",
      "137 images processed, 137 hits (100.0%), 120 indexable (87.6% of hits, 87.6% overall), 120 crystals, 13.1 images/sec.\n",
      "207 images processed, 207 hits (100.0%), 183 indexable (88.4% of hits, 88.4% overall), 183 crystals, 14.0 images/sec.\n",
      "Waiting for the last patterns to be processed...\n",
      "300 images processed, 300 hits (100.0%), 271 indexable (90.3% of hits, 90.3% overall), 271 crystals, 18.5 images/sec.\n",
      "Final: 300 images processed, 300 hits (100.0%), 271 indexable (90.3% of hits, 90.3% overall), 271 crystals.\n",
      "Processing XY pairs:   5%|▌         | 17/313 [05:00<1:30:14, 18.29s/it]This is what I understood your unit cell to be:\n",
      "cubic P, right handed.\n",
      "a      b      c            alpha   beta  gamma\n",
      " 11.87  11.87  11.87 A     90.00  90.00  90.00 deg\n",
      "List of indexing methods:\n",
      "   0: xgandalf-nolatt-cell      (xgandalf using cell parameters as prior information)\n",
      "Indexing parameters:\n",
      "                  Check unit cell parameters: on\n",
      "                        Check peak alignment: on\n",
      "                   Refine indexing solutions: off\n",
      " Multi-lattice indexing (\"delete and retry\"): off\n",
      "                              Retry indexing: on\n"
     ]
    },
    {
     "name": "stdout",
     "output_type": "stream",
     "text": [
      "Running for x=-512.4, y=-512.7\n"
     ]
    },
    {
     "name": "stderr",
     "output_type": "stream",
     "text": [
      "84 images processed, 84 hits (100.0%), 76 indexable (90.5% of hits, 90.5% overall), 76 crystals, 16.7 images/sec.\n",
      "197 images processed, 197 hits (100.0%), 187 indexable (94.9% of hits, 94.9% overall), 187 crystals, 22.0 images/sec.\n",
      "Waiting for the last patterns to be processed...\n",
      "286 images processed, 286 hits (100.0%), 273 indexable (95.5% of hits, 95.5% overall), 273 crystals, 17.7 images/sec.\n",
      "Final: 300 images processed, 300 hits (100.0%), 281 indexable (93.7% of hits, 93.7% overall), 281 crystals.\n",
      "Processing XY pairs:   6%|▌         | 18/313 [05:17<1:27:39, 17.83s/it]This is what I understood your unit cell to be:\n",
      "cubic P, right handed.\n",
      "a      b      c            alpha   beta  gamma\n",
      " 11.87  11.87  11.87 A     90.00  90.00  90.00 deg\n",
      "List of indexing methods:\n",
      "   0: xgandalf-nolatt-cell      (xgandalf using cell parameters as prior information)\n",
      "Indexing parameters:\n",
      "                  Check unit cell parameters: on\n",
      "                        Check peak alignment: on\n",
      "                   Refine indexing solutions: off\n",
      " Multi-lattice indexing (\"delete and retry\"): off\n",
      "                              Retry indexing: on\n"
     ]
    },
    {
     "name": "stdout",
     "output_type": "stream",
     "text": [
      "Running for x=-512.4, y=-512.3\n"
     ]
    },
    {
     "name": "stderr",
     "output_type": "stream",
     "text": [
      "60 images processed, 60 hits (100.0%), 49 indexable (81.7% of hits, 81.7% overall), 49 crystals, 11.9 images/sec.\n",
      "118 images processed, 118 hits (100.0%), 95 indexable (80.5% of hits, 80.5% overall), 95 crystals, 11.5 images/sec.\n",
      "179 images processed, 179 hits (100.0%), 144 indexable (80.4% of hits, 80.4% overall), 144 crystals, 12.1 images/sec.\n",
      "249 images processed, 249 hits (100.0%), 208 indexable (83.5% of hits, 83.5% overall), 208 crystals, 14.0 images/sec.\n",
      "Waiting for the last patterns to be processed...\n",
      "Final: 300 images processed, 300 hits (100.0%), 251 indexable (83.7% of hits, 83.7% overall), 251 crystals.\n",
      "Processing XY pairs:   6%|▌         | 19/313 [05:41<1:36:53, 19.77s/it]This is what I understood your unit cell to be:\n",
      "cubic P, right handed.\n",
      "a      b      c            alpha   beta  gamma\n",
      " 11.87  11.87  11.87 A     90.00  90.00  90.00 deg\n",
      "List of indexing methods:\n",
      "   0: xgandalf-nolatt-cell      (xgandalf using cell parameters as prior information)\n",
      "Indexing parameters:\n",
      "                  Check unit cell parameters: on\n",
      "                        Check peak alignment: on\n",
      "                   Refine indexing solutions: off\n",
      " Multi-lattice indexing (\"delete and retry\"): off\n",
      "                              Retry indexing: on\n"
     ]
    },
    {
     "name": "stdout",
     "output_type": "stream",
     "text": [
      "Running for x=-512.3, y=-512.6\n"
     ]
    },
    {
     "name": "stderr",
     "output_type": "stream",
     "text": [
      "79 images processed, 79 hits (100.0%), 71 indexable (89.9% of hits, 89.9% overall), 71 crystals, 15.0 images/sec.\n",
      "169 images processed, 169 hits (100.0%), 160 indexable (94.7% of hits, 94.7% overall), 160 crystals, 18.0 images/sec.\n",
      "246 images processed, 246 hits (100.0%), 229 indexable (93.1% of hits, 93.1% overall), 229 crystals, 15.4 images/sec.\n",
      "Waiting for the last patterns to be processed...\n",
      "Final: 300 images processed, 300 hits (100.0%), 276 indexable (92.0% of hits, 92.0% overall), 276 crystals.\n",
      "Processing XY pairs:   6%|▋         | 20/313 [06:01<1:36:13, 19.70s/it]This is what I understood your unit cell to be:\n",
      "cubic P, right handed.\n",
      "a      b      c            alpha   beta  gamma\n",
      " 11.87  11.87  11.87 A     90.00  90.00  90.00 deg\n",
      "List of indexing methods:\n",
      "   0: xgandalf-nolatt-cell      (xgandalf using cell parameters as prior information)\n",
      "Indexing parameters:\n",
      "                  Check unit cell parameters: on\n",
      "                        Check peak alignment: on\n",
      "                   Refine indexing solutions: off\n",
      " Multi-lattice indexing (\"delete and retry\"): off\n",
      "                              Retry indexing: on\n"
     ]
    },
    {
     "name": "stdout",
     "output_type": "stream",
     "text": [
      "Running for x=-512.3, y=-512.4\n"
     ]
    },
    {
     "name": "stderr",
     "output_type": "stream",
     "text": [
      "68 images processed, 68 hits (100.0%), 57 indexable (83.8% of hits, 83.8% overall), 57 crystals, 12.9 images/sec.\n",
      "135 images processed, 135 hits (100.0%), 112 indexable (83.0% of hits, 83.0% overall), 112 crystals, 13.4 images/sec.\n",
      "196 images processed, 196 hits (100.0%), 161 indexable (82.1% of hits, 82.1% overall), 161 crystals, 12.2 images/sec.\n",
      "Waiting for the last patterns to be processed...\n",
      "281 images processed, 281 hits (100.0%), 238 indexable (84.7% of hits, 84.7% overall), 238 crystals, 16.8 images/sec.\n",
      "Final: 300 images processed, 300 hits (100.0%), 252 indexable (84.0% of hits, 84.0% overall), 252 crystals.\n",
      "Processing XY pairs:   7%|▋         | 21/313 [06:24<1:41:19, 20.82s/it]This is what I understood your unit cell to be:\n",
      "cubic P, right handed.\n",
      "a      b      c            alpha   beta  gamma\n",
      " 11.87  11.87  11.87 A     90.00  90.00  90.00 deg\n",
      "List of indexing methods:\n",
      "   0: xgandalf-nolatt-cell      (xgandalf using cell parameters as prior information)\n",
      "Indexing parameters:\n",
      "                  Check unit cell parameters: on\n",
      "                        Check peak alignment: on\n",
      "                   Refine indexing solutions: off\n",
      " Multi-lattice indexing (\"delete and retry\"): off\n",
      "                              Retry indexing: on\n"
     ]
    },
    {
     "name": "stdout",
     "output_type": "stream",
     "text": [
      "Running for x=-512.7, y=-512.7\n"
     ]
    },
    {
     "name": "stderr",
     "output_type": "stream",
     "text": [
      "81 images processed, 81 hits (100.0%), 73 indexable (90.1% of hits, 90.1% overall), 73 crystals, 16.0 images/sec.\n",
      "197 images processed, 197 hits (100.0%), 187 indexable (94.9% of hits, 94.9% overall), 187 crystals, 23.1 images/sec.\n",
      "Waiting for the last patterns to be processed...\n",
      "296 images processed, 296 hits (100.0%), 283 indexable (95.6% of hits, 95.6% overall), 283 crystals, 18.9 images/sec.\n",
      "Final: 300 images processed, 300 hits (100.0%), 284 indexable (94.7% of hits, 94.7% overall), 284 crystals.\n",
      "Processing XY pairs:   7%|▋         | 22/313 [06:41<1:35:09, 19.62s/it]This is what I understood your unit cell to be:\n",
      "cubic P, right handed.\n",
      "a      b      c            alpha   beta  gamma\n",
      " 11.87  11.87  11.87 A     90.00  90.00  90.00 deg\n",
      "List of indexing methods:\n",
      "   0: xgandalf-nolatt-cell      (xgandalf using cell parameters as prior information)\n",
      "Indexing parameters:\n",
      "                  Check unit cell parameters: on\n",
      "                        Check peak alignment: on\n",
      "                   Refine indexing solutions: off\n",
      " Multi-lattice indexing (\"delete and retry\"): off\n",
      "                              Retry indexing: on\n"
     ]
    },
    {
     "name": "stdout",
     "output_type": "stream",
     "text": [
      "Running for x=-512.7, y=-512.3\n"
     ]
    },
    {
     "name": "stderr",
     "output_type": "stream",
     "text": [
      "72 images processed, 72 hits (100.0%), 62 indexable (86.1% of hits, 86.1% overall), 62 crystals, 14.3 images/sec.\n",
      "159 images processed, 159 hits (100.0%), 146 indexable (91.8% of hits, 91.8% overall), 146 crystals, 17.2 images/sec.\n",
      "254 images processed, 254 hits (100.0%), 235 indexable (92.5% of hits, 92.5% overall), 235 crystals, 18.9 images/sec.\n",
      "Waiting for the last patterns to be processed...\n",
      "Final: 300 images processed, 300 hits (100.0%), 276 indexable (92.0% of hits, 92.0% overall), 276 crystals.\n",
      "Processing XY pairs:   7%|▋         | 23/313 [06:59<1:32:34, 19.15s/it]This is what I understood your unit cell to be:\n",
      "cubic P, right handed.\n",
      "a      b      c            alpha   beta  gamma\n",
      " 11.87  11.87  11.87 A     90.00  90.00  90.00 deg\n",
      "List of indexing methods:\n",
      "   0: xgandalf-nolatt-cell      (xgandalf using cell parameters as prior information)\n",
      "Indexing parameters:\n",
      "                  Check unit cell parameters: on\n",
      "                        Check peak alignment: on\n",
      "                   Refine indexing solutions: off\n",
      " Multi-lattice indexing (\"delete and retry\"): off\n",
      "                              Retry indexing: on\n"
     ]
    },
    {
     "name": "stdout",
     "output_type": "stream",
     "text": [
      "Running for x=-512.3, y=-512.7\n"
     ]
    },
    {
     "name": "stderr",
     "output_type": "stream",
     "text": [
      "85 images processed, 85 hits (100.0%), 78 indexable (91.8% of hits, 91.8% overall), 78 crystals, 17.0 images/sec.\n",
      "173 images processed, 173 hits (100.0%), 166 indexable (96.0% of hits, 96.0% overall), 166 crystals, 17.3 images/sec.\n",
      "252 images processed, 252 hits (100.0%), 240 indexable (95.2% of hits, 95.2% overall), 240 crystals, 15.7 images/sec.\n",
      "Waiting for the last patterns to be processed...\n",
      "Final: 300 images processed, 300 hits (100.0%), 278 indexable (92.7% of hits, 92.7% overall), 278 crystals.\n",
      "Processing XY pairs:   8%|▊         | 24/313 [07:19<1:33:14, 19.36s/it]This is what I understood your unit cell to be:\n",
      "cubic P, right handed.\n",
      "a      b      c            alpha   beta  gamma\n",
      " 11.87  11.87  11.87 A     90.00  90.00  90.00 deg\n",
      "List of indexing methods:\n",
      "   0: xgandalf-nolatt-cell      (xgandalf using cell parameters as prior information)\n",
      "Indexing parameters:\n",
      "                  Check unit cell parameters: on\n",
      "                        Check peak alignment: on\n",
      "                   Refine indexing solutions: off\n",
      " Multi-lattice indexing (\"delete and retry\"): off\n",
      "                              Retry indexing: on\n"
     ]
    },
    {
     "name": "stdout",
     "output_type": "stream",
     "text": [
      "Running for x=-512.3, y=-512.3\n"
     ]
    },
    {
     "name": "stderr",
     "output_type": "stream",
     "text": [
      "65 images processed, 65 hits (100.0%), 53 indexable (81.5% of hits, 81.5% overall), 53 crystals, 12.3 images/sec.\n",
      "117 images processed, 117 hits (100.0%), 93 indexable (79.5% of hits, 79.5% overall), 93 crystals, 10.3 images/sec.\n",
      "169 images processed, 169 hits (100.0%), 132 indexable (78.1% of hits, 78.1% overall), 132 crystals, 10.2 images/sec.\n",
      "236 images processed, 236 hits (100.0%), 187 indexable (79.2% of hits, 79.2% overall), 187 crystals, 13.3 images/sec.\n",
      "Waiting for the last patterns to be processed...\n",
      "Final: 300 images processed, 300 hits (100.0%), 243 indexable (81.0% of hits, 81.0% overall), 243 crystals.\n",
      "Processing XY pairs:   8%|▊         | 25/313 [07:45<1:42:29, 21.35s/it]This is what I understood your unit cell to be:\n",
      "cubic P, right handed.\n",
      "a      b      c            alpha   beta  gamma\n",
      " 11.87  11.87  11.87 A     90.00  90.00  90.00 deg\n",
      "List of indexing methods:\n",
      "   0: xgandalf-nolatt-cell      (xgandalf using cell parameters as prior information)\n",
      "Indexing parameters:\n",
      "                  Check unit cell parameters: on\n",
      "                        Check peak alignment: on\n",
      "                   Refine indexing solutions: off\n",
      " Multi-lattice indexing (\"delete and retry\"): off\n",
      "                              Retry indexing: on\n"
     ]
    },
    {
     "name": "stdout",
     "output_type": "stream",
     "text": [
      "Running for x=-512.8, y=-512.5\n"
     ]
    },
    {
     "name": "stderr",
     "output_type": "stream",
     "text": [
      "76 images processed, 76 hits (100.0%), 69 indexable (90.8% of hits, 90.8% overall), 69 crystals, 15.1 images/sec.\n",
      "184 images processed, 184 hits (100.0%), 175 indexable (95.1% of hits, 95.1% overall), 175 crystals, 21.2 images/sec.\n",
      "Waiting for the last patterns to be processed...\n",
      "289 images processed, 289 hits (100.0%), 276 indexable (95.5% of hits, 95.5% overall), 276 crystals, 20.9 images/sec.\n",
      "Final: 300 images processed, 300 hits (100.0%), 283 indexable (94.3% of hits, 94.3% overall), 283 crystals.\n",
      "Processing XY pairs:   8%|▊         | 26/313 [08:01<1:35:13, 19.91s/it]This is what I understood your unit cell to be:\n",
      "cubic P, right handed.\n",
      "a      b      c            alpha   beta  gamma\n",
      " 11.87  11.87  11.87 A     90.00  90.00  90.00 deg\n",
      "List of indexing methods:\n",
      "   0: xgandalf-nolatt-cell      (xgandalf using cell parameters as prior information)\n",
      "Indexing parameters:\n",
      "                  Check unit cell parameters: on\n",
      "                        Check peak alignment: on\n",
      "                   Refine indexing solutions: off\n",
      " Multi-lattice indexing (\"delete and retry\"): off\n",
      "                              Retry indexing: on\n"
     ]
    },
    {
     "name": "stdout",
     "output_type": "stream",
     "text": [
      "Running for x=-512.5, y=-512.8\n"
     ]
    },
    {
     "name": "stderr",
     "output_type": "stream",
     "text": [
      "79 images processed, 79 hits (100.0%), 69 indexable (87.3% of hits, 87.3% overall), 69 crystals, 15.3 images/sec.\n",
      "184 images processed, 184 hits (100.0%), 171 indexable (92.9% of hits, 92.9% overall), 171 crystals, 20.8 images/sec.\n",
      "Waiting for the last patterns to be processed...\n",
      "288 images processed, 288 hits (100.0%), 273 indexable (94.8% of hits, 94.8% overall), 273 crystals, 20.5 images/sec.\n",
      "Final: 300 images processed, 300 hits (100.0%), 281 indexable (93.7% of hits, 93.7% overall), 281 crystals.\n",
      "Processing XY pairs:   9%|▊         | 27/313 [08:19<1:31:47, 19.26s/it]This is what I understood your unit cell to be:\n",
      "cubic P, right handed.\n",
      "a      b      c            alpha   beta  gamma\n",
      " 11.87  11.87  11.87 A     90.00  90.00  90.00 deg\n",
      "List of indexing methods:\n",
      "   0: xgandalf-nolatt-cell      (xgandalf using cell parameters as prior information)\n",
      "Indexing parameters:\n",
      "                  Check unit cell parameters: on\n",
      "                        Check peak alignment: on\n",
      "                   Refine indexing solutions: off\n",
      " Multi-lattice indexing (\"delete and retry\"): off\n",
      "                              Retry indexing: on\n"
     ]
    },
    {
     "name": "stdout",
     "output_type": "stream",
     "text": [
      "Running for x=-512.5, y=-512.2\n"
     ]
    },
    {
     "name": "stderr",
     "output_type": "stream",
     "text": [
      "52 images processed, 52 hits (100.0%), 39 indexable (75.0% of hits, 75.0% overall), 39 crystals, 10.3 images/sec.\n",
      "108 images processed, 108 hits (100.0%), 88 indexable (81.5% of hits, 81.5% overall), 88 crystals, 11.2 images/sec.\n",
      "167 images processed, 167 hits (100.0%), 132 indexable (79.0% of hits, 79.0% overall), 132 crystals, 11.7 images/sec.\n",
      "250 images processed, 250 hits (100.0%), 205 indexable (82.0% of hits, 82.0% overall), 205 crystals, 16.3 images/sec.\n",
      "Waiting for the last patterns to be processed...\n",
      "Final: 300 images processed, 300 hits (100.0%), 251 indexable (83.7% of hits, 83.7% overall), 251 crystals.\n",
      "Processing XY pairs:   9%|▉         | 28/313 [08:42<1:37:07, 20.45s/it]This is what I understood your unit cell to be:\n",
      "cubic P, right handed.\n",
      "a      b      c            alpha   beta  gamma\n",
      " 11.87  11.87  11.87 A     90.00  90.00  90.00 deg\n",
      "List of indexing methods:\n",
      "   0: xgandalf-nolatt-cell      (xgandalf using cell parameters as prior information)\n",
      "Indexing parameters:\n",
      "                  Check unit cell parameters: on\n",
      "                        Check peak alignment: on\n",
      "                   Refine indexing solutions: off\n",
      " Multi-lattice indexing (\"delete and retry\"): off\n",
      "                              Retry indexing: on\n"
     ]
    },
    {
     "name": "stdout",
     "output_type": "stream",
     "text": [
      "Running for x=-512.2, y=-512.5\n"
     ]
    },
    {
     "name": "stderr",
     "output_type": "stream",
     "text": [
      "69 images processed, 69 hits (100.0%), 60 indexable (87.0% of hits, 87.0% overall), 60 crystals, 13.6 images/sec.\n",
      "133 images processed, 133 hits (100.0%), 119 indexable (89.5% of hits, 89.5% overall), 119 crystals, 12.5 images/sec.\n",
      "193 images processed, 193 hits (100.0%), 170 indexable (88.1% of hits, 88.1% overall), 170 crystals, 11.8 images/sec.\n",
      "249 images processed, 249 hits (100.0%), 214 indexable (85.9% of hits, 85.9% overall), 214 crystals, 10.9 images/sec.\n",
      "Waiting for the last patterns to be processed...\n",
      "Final: 300 images processed, 300 hits (100.0%), 254 indexable (84.7% of hits, 84.7% overall), 254 crystals.\n",
      "Processing XY pairs:   9%|▉         | 29/313 [09:08<1:43:49, 21.93s/it]This is what I understood your unit cell to be:\n",
      "cubic P, right handed.\n",
      "a      b      c            alpha   beta  gamma\n",
      " 11.87  11.87  11.87 A     90.00  90.00  90.00 deg\n",
      "List of indexing methods:\n",
      "   0: xgandalf-nolatt-cell      (xgandalf using cell parameters as prior information)\n",
      "Indexing parameters:\n",
      "                  Check unit cell parameters: on\n",
      "                        Check peak alignment: on\n",
      "                   Refine indexing solutions: off\n",
      " Multi-lattice indexing (\"delete and retry\"): off\n",
      "                              Retry indexing: on\n"
     ]
    },
    {
     "name": "stdout",
     "output_type": "stream",
     "text": [
      "Running for x=-512.8, y=-512.6\n"
     ]
    },
    {
     "name": "stderr",
     "output_type": "stream",
     "text": [
      "87 images processed, 87 hits (100.0%), 82 indexable (94.3% of hits, 94.3% overall), 82 crystals, 17.4 images/sec.\n",
      "204 images processed, 204 hits (100.0%), 198 indexable (97.1% of hits, 97.1% overall), 198 crystals, 23.0 images/sec.\n",
      "Waiting for the last patterns to be processed...\n",
      "293 images processed, 293 hits (100.0%), 282 indexable (96.2% of hits, 96.2% overall), 282 crystals, 17.4 images/sec.\n",
      "Final: 300 images processed, 300 hits (100.0%), 287 indexable (95.7% of hits, 95.7% overall), 287 crystals.\n",
      "Processing XY pairs:  10%|▉         | 30/313 [09:25<1:36:56, 20.55s/it]This is what I understood your unit cell to be:\n",
      "cubic P, right handed.\n",
      "a      b      c            alpha   beta  gamma\n",
      " 11.87  11.87  11.87 A     90.00  90.00  90.00 deg\n",
      "List of indexing methods:\n",
      "   0: xgandalf-nolatt-cell      (xgandalf using cell parameters as prior information)\n",
      "Indexing parameters:\n",
      "                  Check unit cell parameters: on\n",
      "                        Check peak alignment: on\n",
      "                   Refine indexing solutions: off\n",
      " Multi-lattice indexing (\"delete and retry\"): off\n",
      "                              Retry indexing: on\n"
     ]
    },
    {
     "name": "stdout",
     "output_type": "stream",
     "text": [
      "Running for x=-512.8, y=-512.4\n"
     ]
    },
    {
     "name": "stderr",
     "output_type": "stream",
     "text": [
      "80 images processed, 80 hits (100.0%), 74 indexable (92.5% of hits, 92.5% overall), 74 crystals, 15.9 images/sec.\n",
      "180 images processed, 180 hits (100.0%), 172 indexable (95.6% of hits, 95.6% overall), 172 crystals, 19.7 images/sec.\n",
      "Waiting for the last patterns to be processed...\n",
      "280 images processed, 280 hits (100.0%), 269 indexable (96.1% of hits, 96.1% overall), 269 crystals, 19.6 images/sec.\n",
      "Final: 300 images processed, 300 hits (100.0%), 285 indexable (95.0% of hits, 95.0% overall), 285 crystals.\n",
      "Processing XY pairs:  10%|▉         | 31/313 [09:42<1:31:30, 19.47s/it]This is what I understood your unit cell to be:\n",
      "cubic P, right handed.\n",
      "a      b      c            alpha   beta  gamma\n",
      " 11.87  11.87  11.87 A     90.00  90.00  90.00 deg\n",
      "List of indexing methods:\n",
      "   0: xgandalf-nolatt-cell      (xgandalf using cell parameters as prior information)\n",
      "Indexing parameters:\n",
      "                  Check unit cell parameters: on\n",
      "                        Check peak alignment: on\n",
      "                   Refine indexing solutions: off\n",
      " Multi-lattice indexing (\"delete and retry\"): off\n",
      "                              Retry indexing: on\n"
     ]
    },
    {
     "name": "stdout",
     "output_type": "stream",
     "text": [
      "Running for x=-512.6, y=-512.8\n"
     ]
    },
    {
     "name": "stderr",
     "output_type": "stream",
     "text": [
      "83 images processed, 83 hits (100.0%), 74 indexable (89.2% of hits, 89.2% overall), 74 crystals, 16.1 images/sec.\n",
      "199 images processed, 199 hits (100.0%), 189 indexable (95.0% of hits, 95.0% overall), 189 crystals, 23.0 images/sec.\n",
      "Waiting for the last patterns to be processed...\n",
      "296 images processed, 296 hits (100.0%), 284 indexable (95.9% of hits, 95.9% overall), 284 crystals, 18.6 images/sec.\n",
      "Final: 300 images processed, 300 hits (100.0%), 285 indexable (95.0% of hits, 95.0% overall), 285 crystals.\n",
      "Processing XY pairs:  10%|█         | 32/313 [09:59<1:27:25, 18.67s/it]This is what I understood your unit cell to be:\n",
      "cubic P, right handed.\n",
      "a      b      c            alpha   beta  gamma\n",
      " 11.87  11.87  11.87 A     90.00  90.00  90.00 deg\n",
      "List of indexing methods:\n",
      "   0: xgandalf-nolatt-cell      (xgandalf using cell parameters as prior information)\n",
      "Indexing parameters:\n",
      "                  Check unit cell parameters: on\n",
      "                        Check peak alignment: on\n",
      "                   Refine indexing solutions: off\n",
      " Multi-lattice indexing (\"delete and retry\"): off\n",
      "                              Retry indexing: on\n"
     ]
    },
    {
     "name": "stdout",
     "output_type": "stream",
     "text": [
      "Running for x=-512.6, y=-512.2\n"
     ]
    },
    {
     "name": "stderr",
     "output_type": "stream",
     "text": [
      "61 images processed, 61 hits (100.0%), 48 indexable (78.7% of hits, 78.7% overall), 48 crystals, 12.1 images/sec.\n",
      "124 images processed, 124 hits (100.0%), 99 indexable (79.8% of hits, 79.8% overall), 99 crystals, 12.0 images/sec.\n",
      "204 images processed, 204 hits (100.0%), 166 indexable (81.4% of hits, 81.4% overall), 166 crystals, 15.9 images/sec.\n",
      "Waiting for the last patterns to be processed...\n",
      "298 images processed, 298 hits (100.0%), 256 indexable (85.9% of hits, 85.9% overall), 256 crystals, 18.8 images/sec.\n",
      "Final: 300 images processed, 300 hits (100.0%), 256 indexable (85.3% of hits, 85.3% overall), 256 crystals.\n",
      "Processing XY pairs:  11%|█         | 33/313 [10:19<1:29:52, 19.26s/it]This is what I understood your unit cell to be:\n",
      "cubic P, right handed.\n",
      "a      b      c            alpha   beta  gamma\n",
      " 11.87  11.87  11.87 A     90.00  90.00  90.00 deg\n",
      "List of indexing methods:\n",
      "   0: xgandalf-nolatt-cell      (xgandalf using cell parameters as prior information)\n",
      "Indexing parameters:\n",
      "                  Check unit cell parameters: on\n",
      "                        Check peak alignment: on\n",
      "                   Refine indexing solutions: off\n",
      " Multi-lattice indexing (\"delete and retry\"): off\n",
      "                              Retry indexing: on\n"
     ]
    },
    {
     "name": "stdout",
     "output_type": "stream",
     "text": [
      "Running for x=-512.4, y=-512.8\n"
     ]
    },
    {
     "name": "stderr",
     "output_type": "stream",
     "text": [
      "81 images processed, 81 hits (100.0%), 72 indexable (88.9% of hits, 88.9% overall), 72 crystals, 15.7 images/sec.\n",
      "186 images processed, 186 hits (100.0%), 176 indexable (94.6% of hits, 94.6% overall), 176 crystals, 20.9 images/sec.\n",
      "Waiting for the last patterns to be processed...\n",
      "286 images processed, 286 hits (100.0%), 272 indexable (95.1% of hits, 95.1% overall), 272 crystals, 20.0 images/sec.\n",
      "Final: 300 images processed, 300 hits (100.0%), 282 indexable (94.0% of hits, 94.0% overall), 282 crystals.\n",
      "Processing XY pairs:  11%|█         | 34/313 [10:37<1:27:17, 18.77s/it]This is what I understood your unit cell to be:\n",
      "cubic P, right handed.\n",
      "a      b      c            alpha   beta  gamma\n",
      " 11.87  11.87  11.87 A     90.00  90.00  90.00 deg\n",
      "List of indexing methods:\n",
      "   0: xgandalf-nolatt-cell      (xgandalf using cell parameters as prior information)\n",
      "Indexing parameters:\n",
      "                  Check unit cell parameters: on\n",
      "                        Check peak alignment: on\n",
      "                   Refine indexing solutions: off\n",
      " Multi-lattice indexing (\"delete and retry\"): off\n",
      "                              Retry indexing: on\n"
     ]
    },
    {
     "name": "stdout",
     "output_type": "stream",
     "text": [
      "Running for x=-512.4, y=-512.2\n"
     ]
    },
    {
     "name": "stderr",
     "output_type": "stream",
     "text": [
      "62 images processed, 62 hits (100.0%), 51 indexable (82.3% of hits, 82.3% overall), 51 crystals, 12.0 images/sec.\n",
      "109 images processed, 109 hits (100.0%), 86 indexable (78.9% of hits, 78.9% overall), 86 crystals, 9.4 images/sec.\n",
      "160 images processed, 160 hits (100.0%), 124 indexable (77.5% of hits, 77.5% overall), 124 crystals, 10.2 images/sec.\n",
      "221 images processed, 221 hits (100.0%), 173 indexable (78.3% of hits, 78.3% overall), 173 crystals, 12.2 images/sec.\n",
      "Waiting for the last patterns to be processed...\n",
      "299 images processed, 299 hits (100.0%), 242 indexable (80.9% of hits, 80.9% overall), 242 crystals, 15.5 images/sec.\n",
      "Final: 300 images processed, 300 hits (100.0%), 242 indexable (80.7% of hits, 80.7% overall), 242 crystals.\n",
      "Processing XY pairs:  11%|█         | 35/313 [11:03<1:37:26, 21.03s/it]This is what I understood your unit cell to be:\n",
      "cubic P, right handed.\n",
      "a      b      c            alpha   beta  gamma\n",
      " 11.87  11.87  11.87 A     90.00  90.00  90.00 deg\n",
      "List of indexing methods:\n",
      "   0: xgandalf-nolatt-cell      (xgandalf using cell parameters as prior information)\n",
      "Indexing parameters:\n",
      "                  Check unit cell parameters: on\n",
      "                        Check peak alignment: on\n",
      "                   Refine indexing solutions: off\n",
      " Multi-lattice indexing (\"delete and retry\"): off\n",
      "                              Retry indexing: on\n"
     ]
    },
    {
     "name": "stdout",
     "output_type": "stream",
     "text": [
      "Running for x=-512.2, y=-512.6\n"
     ]
    },
    {
     "name": "stderr",
     "output_type": "stream",
     "text": [
      "75 images processed, 75 hits (100.0%), 68 indexable (90.7% of hits, 90.7% overall), 68 crystals, 14.9 images/sec.\n",
      "156 images processed, 156 hits (100.0%), 146 indexable (93.6% of hits, 93.6% overall), 146 crystals, 16.1 images/sec.\n",
      "221 images processed, 221 hits (100.0%), 200 indexable (90.5% of hits, 90.5% overall), 200 crystals, 12.9 images/sec.\n",
      "Waiting for the last patterns to be processed...\n",
      "285 images processed, 285 hits (100.0%), 257 indexable (90.2% of hits, 90.2% overall), 257 crystals, 12.5 images/sec.\n",
      "Final: 300 images processed, 300 hits (100.0%), 263 indexable (87.7% of hits, 87.7% overall), 263 crystals.\n",
      "Processing XY pairs:  12%|█▏        | 36/313 [11:25<1:38:13, 21.27s/it]This is what I understood your unit cell to be:\n",
      "cubic P, right handed.\n",
      "a      b      c            alpha   beta  gamma\n",
      " 11.87  11.87  11.87 A     90.00  90.00  90.00 deg\n",
      "List of indexing methods:\n",
      "   0: xgandalf-nolatt-cell      (xgandalf using cell parameters as prior information)\n",
      "Indexing parameters:\n",
      "                  Check unit cell parameters: on\n",
      "                        Check peak alignment: on\n",
      "                   Refine indexing solutions: off\n",
      " Multi-lattice indexing (\"delete and retry\"): off\n",
      "                              Retry indexing: on\n"
     ]
    },
    {
     "name": "stdout",
     "output_type": "stream",
     "text": [
      "Running for x=-512.2, y=-512.4\n"
     ]
    },
    {
     "name": "stderr",
     "output_type": "stream",
     "text": [
      "68 images processed, 68 hits (100.0%), 59 indexable (86.8% of hits, 86.8% overall), 59 crystals, 13.5 images/sec.\n",
      "122 images processed, 122 hits (100.0%), 100 indexable (82.0% of hits, 82.0% overall), 100 crystals, 10.7 images/sec.\n",
      "172 images processed, 172 hits (100.0%), 135 indexable (78.5% of hits, 78.5% overall), 135 crystals, 9.9 images/sec.\n",
      "235 images processed, 235 hits (100.0%), 180 indexable (76.6% of hits, 76.6% overall), 180 crystals, 12.6 images/sec.\n",
      "Waiting for the last patterns to be processed...\n",
      "300 images processed, 300 hits (100.0%), 234 indexable (78.0% of hits, 78.0% overall), 234 crystals, 12.7 images/sec.\n",
      "Final: 300 images processed, 300 hits (100.0%), 234 indexable (78.0% of hits, 78.0% overall), 234 crystals.\n",
      "Processing XY pairs:  12%|█▏        | 37/313 [11:52<1:45:23, 22.91s/it]This is what I understood your unit cell to be:\n",
      "cubic P, right handed.\n",
      "a      b      c            alpha   beta  gamma\n",
      " 11.87  11.87  11.87 A     90.00  90.00  90.00 deg\n",
      "List of indexing methods:\n",
      "   0: xgandalf-nolatt-cell      (xgandalf using cell parameters as prior information)\n",
      "Indexing parameters:\n",
      "                  Check unit cell parameters: on\n",
      "                        Check peak alignment: on\n",
      "                   Refine indexing solutions: off\n",
      " Multi-lattice indexing (\"delete and retry\"): off\n",
      "                              Retry indexing: on\n"
     ]
    },
    {
     "name": "stdout",
     "output_type": "stream",
     "text": [
      "Running for x=-512.8, y=-512.7\n"
     ]
    },
    {
     "name": "stderr",
     "output_type": "stream",
     "text": [
      "86 images processed, 86 hits (100.0%), 79 indexable (91.9% of hits, 91.9% overall), 79 crystals, 16.6 images/sec.\n",
      "210 images processed, 210 hits (100.0%), 199 indexable (94.8% of hits, 94.8% overall), 199 crystals, 24.7 images/sec.\n",
      "Waiting for the last patterns to be processed...\n",
      "298 images processed, 298 hits (100.0%), 284 indexable (95.3% of hits, 95.3% overall), 284 crystals, 17.4 images/sec.\n",
      "Final: 300 images processed, 300 hits (100.0%), 284 indexable (94.7% of hits, 94.7% overall), 284 crystals.\n",
      "Processing XY pairs:  12%|█▏        | 38/313 [12:07<1:34:50, 20.69s/it]This is what I understood your unit cell to be:\n",
      "cubic P, right handed.\n",
      "a      b      c            alpha   beta  gamma\n",
      " 11.87  11.87  11.87 A     90.00  90.00  90.00 deg\n",
      "List of indexing methods:\n",
      "   0: xgandalf-nolatt-cell      (xgandalf using cell parameters as prior information)\n",
      "Indexing parameters:\n",
      "                  Check unit cell parameters: on\n",
      "                        Check peak alignment: on\n",
      "                   Refine indexing solutions: off\n",
      " Multi-lattice indexing (\"delete and retry\"): off\n",
      "                              Retry indexing: on\n"
     ]
    },
    {
     "name": "stdout",
     "output_type": "stream",
     "text": [
      "Running for x=-512.8, y=-512.3\n"
     ]
    },
    {
     "name": "stderr",
     "output_type": "stream",
     "text": [
      "72 images processed, 72 hits (100.0%), 62 indexable (86.1% of hits, 86.1% overall), 62 crystals, 14.2 images/sec.\n",
      "158 images processed, 158 hits (100.0%), 143 indexable (90.5% of hits, 90.5% overall), 143 crystals, 16.9 images/sec.\n",
      "241 images processed, 241 hits (100.0%), 218 indexable (90.5% of hits, 90.5% overall), 218 crystals, 16.4 images/sec.\n",
      "Waiting for the last patterns to be processed...\n",
      "Final: 300 images processed, 300 hits (100.0%), 271 indexable (90.3% of hits, 90.3% overall), 271 crystals.\n",
      "Processing XY pairs:  12%|█▏        | 39/313 [12:27<1:33:27, 20.47s/it]This is what I understood your unit cell to be:\n",
      "cubic P, right handed.\n",
      "a      b      c            alpha   beta  gamma\n",
      " 11.87  11.87  11.87 A     90.00  90.00  90.00 deg\n",
      "List of indexing methods:\n",
      "   0: xgandalf-nolatt-cell      (xgandalf using cell parameters as prior information)\n",
      "Indexing parameters:\n",
      "                  Check unit cell parameters: on\n",
      "                        Check peak alignment: on\n",
      "                   Refine indexing solutions: off\n",
      " Multi-lattice indexing (\"delete and retry\"): off\n",
      "                              Retry indexing: on\n"
     ]
    },
    {
     "name": "stdout",
     "output_type": "stream",
     "text": [
      "Running for x=-512.7, y=-512.8\n"
     ]
    },
    {
     "name": "stderr",
     "output_type": "stream",
     "text": [
      "74 images processed, 74 hits (100.0%), 66 indexable (89.2% of hits, 89.2% overall), 66 crystals, 14.8 images/sec.\n",
      "182 images processed, 182 hits (100.0%), 170 indexable (93.4% of hits, 93.4% overall), 170 crystals, 21.4 images/sec.\n",
      "Waiting for the last patterns to be processed...\n",
      "295 images processed, 295 hits (100.0%), 280 indexable (94.9% of hits, 94.9% overall), 280 crystals, 22.5 images/sec.\n",
      "Final: 300 images processed, 300 hits (100.0%), 283 indexable (94.3% of hits, 94.3% overall), 283 crystals.\n",
      "Processing XY pairs:  13%|█▎        | 40/313 [12:44<1:28:16, 19.40s/it]This is what I understood your unit cell to be:\n",
      "cubic P, right handed.\n",
      "a      b      c            alpha   beta  gamma\n",
      " 11.87  11.87  11.87 A     90.00  90.00  90.00 deg\n",
      "List of indexing methods:\n",
      "   0: xgandalf-nolatt-cell      (xgandalf using cell parameters as prior information)\n",
      "Indexing parameters:\n",
      "                  Check unit cell parameters: on\n",
      "                        Check peak alignment: on\n",
      "                   Refine indexing solutions: off\n",
      " Multi-lattice indexing (\"delete and retry\"): off\n",
      "                              Retry indexing: on\n"
     ]
    },
    {
     "name": "stdout",
     "output_type": "stream",
     "text": [
      "Running for x=-512.7, y=-512.2\n"
     ]
    },
    {
     "name": "stderr",
     "output_type": "stream",
     "text": [
      "58 images processed, 58 hits (100.0%), 45 indexable (77.6% of hits, 77.6% overall), 45 crystals, 11.4 images/sec.\n",
      "125 images processed, 125 hits (100.0%), 105 indexable (84.0% of hits, 84.0% overall), 105 crystals, 13.2 images/sec.\n",
      "208 images processed, 208 hits (100.0%), 180 indexable (86.5% of hits, 86.5% overall), 180 crystals, 16.5 images/sec.\n",
      "Waiting for the last patterns to be processed...\n",
      "300 images processed, 300 hits (100.0%), 266 indexable (88.7% of hits, 88.7% overall), 266 crystals, 18.1 images/sec.\n",
      "Final: 300 images processed, 300 hits (100.0%), 266 indexable (88.7% of hits, 88.7% overall), 266 crystals.\n",
      "Processing XY pairs:  13%|█▎        | 41/313 [13:05<1:29:07, 19.66s/it]This is what I understood your unit cell to be:\n",
      "cubic P, right handed.\n",
      "a      b      c            alpha   beta  gamma\n",
      " 11.87  11.87  11.87 A     90.00  90.00  90.00 deg\n",
      "List of indexing methods:\n",
      "   0: xgandalf-nolatt-cell      (xgandalf using cell parameters as prior information)\n",
      "Indexing parameters:\n",
      "                  Check unit cell parameters: on\n",
      "                        Check peak alignment: on\n",
      "                   Refine indexing solutions: off\n",
      " Multi-lattice indexing (\"delete and retry\"): off\n",
      "                              Retry indexing: on\n"
     ]
    },
    {
     "name": "stdout",
     "output_type": "stream",
     "text": [
      "Running for x=-512.3, y=-512.8\n"
     ]
    },
    {
     "name": "stderr",
     "output_type": "stream",
     "text": [
      "77 images processed, 77 hits (100.0%), 69 indexable (89.6% of hits, 89.6% overall), 69 crystals, 15.4 images/sec.\n",
      "170 images processed, 170 hits (100.0%), 159 indexable (93.5% of hits, 93.5% overall), 159 crystals, 18.6 images/sec.\n",
      "265 images processed, 265 hits (100.0%), 249 indexable (94.0% of hits, 94.0% overall), 249 crystals, 18.2 images/sec.\n",
      "Waiting for the last patterns to be processed...\n",
      "Final: 300 images processed, 300 hits (100.0%), 277 indexable (92.3% of hits, 92.3% overall), 277 crystals.\n",
      "Processing XY pairs:  13%|█▎        | 42/313 [13:24<1:28:00, 19.48s/it]This is what I understood your unit cell to be:\n",
      "cubic P, right handed.\n",
      "a      b      c            alpha   beta  gamma\n",
      " 11.87  11.87  11.87 A     90.00  90.00  90.00 deg\n",
      "List of indexing methods:\n",
      "   0: xgandalf-nolatt-cell      (xgandalf using cell parameters as prior information)\n",
      "Indexing parameters:\n",
      "                  Check unit cell parameters: on\n",
      "                        Check peak alignment: on\n",
      "                   Refine indexing solutions: off\n",
      " Multi-lattice indexing (\"delete and retry\"): off\n",
      "                              Retry indexing: on\n"
     ]
    },
    {
     "name": "stdout",
     "output_type": "stream",
     "text": [
      "Running for x=-512.3, y=-512.2\n"
     ]
    },
    {
     "name": "stderr",
     "output_type": "stream",
     "text": [
      "55 images processed, 55 hits (100.0%), 40 indexable (72.7% of hits, 72.7% overall), 40 crystals, 10.5 images/sec.\n",
      "102 images processed, 102 hits (100.0%), 71 indexable (69.6% of hits, 69.6% overall), 71 crystals, 9.4 images/sec.\n",
      "150 images processed, 150 hits (100.0%), 96 indexable (64.0% of hits, 64.0% overall), 96 crystals, 9.6 images/sec.\n",
      "201 images processed, 201 hits (100.0%), 131 indexable (65.2% of hits, 65.2% overall), 131 crystals, 10.1 images/sec.\n",
      "273 images processed, 273 hits (100.0%), 192 indexable (70.3% of hits, 70.3% overall), 192 crystals, 14.1 images/sec.\n",
      "Waiting for the last patterns to be processed...\n",
      "Final: 300 images processed, 300 hits (100.0%), 213 indexable (71.0% of hits, 71.0% overall), 213 crystals.\n",
      "Processing XY pairs:  14%|█▎        | 43/313 [13:52<1:39:53, 22.20s/it]This is what I understood your unit cell to be:\n",
      "cubic P, right handed.\n",
      "a      b      c            alpha   beta  gamma\n",
      " 11.87  11.87  11.87 A     90.00  90.00  90.00 deg\n",
      "List of indexing methods:\n",
      "   0: xgandalf-nolatt-cell      (xgandalf using cell parameters as prior information)\n",
      "Indexing parameters:\n",
      "                  Check unit cell parameters: on\n",
      "                        Check peak alignment: on\n",
      "                   Refine indexing solutions: off\n",
      " Multi-lattice indexing (\"delete and retry\"): off\n",
      "                              Retry indexing: on\n"
     ]
    },
    {
     "name": "stdout",
     "output_type": "stream",
     "text": [
      "Running for x=-512.2, y=-512.7\n"
     ]
    },
    {
     "name": "stderr",
     "output_type": "stream",
     "text": [
      "82 images processed, 82 hits (100.0%), 74 indexable (90.2% of hits, 90.2% overall), 74 crystals, 16.0 images/sec.\n",
      "158 images processed, 158 hits (100.0%), 149 indexable (94.3% of hits, 94.3% overall), 149 crystals, 14.7 images/sec.\n",
      "231 images processed, 231 hits (100.0%), 214 indexable (92.6% of hits, 92.6% overall), 214 crystals, 14.3 images/sec.\n",
      "Waiting for the last patterns to be processed...\n",
      "288 images processed, 288 hits (100.0%), 264 indexable (91.7% of hits, 91.7% overall), 264 crystals, 11.2 images/sec.\n",
      "Final: 300 images processed, 300 hits (100.0%), 269 indexable (89.7% of hits, 89.7% overall), 269 crystals.\n",
      "Processing XY pairs:  14%|█▍        | 44/313 [14:14<1:38:29, 21.97s/it]This is what I understood your unit cell to be:\n",
      "cubic P, right handed.\n",
      "a      b      c            alpha   beta  gamma\n",
      " 11.87  11.87  11.87 A     90.00  90.00  90.00 deg\n",
      "List of indexing methods:\n",
      "   0: xgandalf-nolatt-cell      (xgandalf using cell parameters as prior information)\n",
      "Indexing parameters:\n",
      "                  Check unit cell parameters: on\n",
      "                        Check peak alignment: on\n",
      "                   Refine indexing solutions: off\n",
      " Multi-lattice indexing (\"delete and retry\"): off\n",
      "                              Retry indexing: on\n"
     ]
    },
    {
     "name": "stdout",
     "output_type": "stream",
     "text": [
      "Running for x=-512.2, y=-512.3\n"
     ]
    },
    {
     "name": "stderr",
     "output_type": "stream",
     "text": [
      "63 images processed, 63 hits (100.0%), 50 indexable (79.4% of hits, 79.4% overall), 50 crystals, 12.5 images/sec.\n",
      "107 images processed, 107 hits (100.0%), 85 indexable (79.4% of hits, 79.4% overall), 85 crystals, 8.7 images/sec.\n",
      "155 images processed, 155 hits (100.0%), 116 indexable (74.8% of hits, 74.8% overall), 116 crystals, 9.5 images/sec.\n",
      "207 images processed, 207 hits (100.0%), 153 indexable (73.9% of hits, 73.9% overall), 153 crystals, 10.3 images/sec.\n",
      "Waiting for the last patterns to be processed...\n",
      "279 images processed, 279 hits (100.0%), 212 indexable (76.0% of hits, 76.0% overall), 212 crystals, 14.4 images/sec.\n",
      "Final: 300 images processed, 300 hits (100.0%), 227 indexable (75.7% of hits, 75.7% overall), 227 crystals.\n",
      "Processing XY pairs:  14%|█▍        | 45/313 [14:42<1:46:43, 23.90s/it]This is what I understood your unit cell to be:\n",
      "cubic P, right handed.\n",
      "a      b      c            alpha   beta  gamma\n",
      " 11.87  11.87  11.87 A     90.00  90.00  90.00 deg\n",
      "List of indexing methods:\n",
      "   0: xgandalf-nolatt-cell      (xgandalf using cell parameters as prior information)\n",
      "Indexing parameters:\n",
      "                  Check unit cell parameters: on\n",
      "                        Check peak alignment: on\n",
      "                   Refine indexing solutions: off\n",
      " Multi-lattice indexing (\"delete and retry\"): off\n",
      "                              Retry indexing: on\n"
     ]
    },
    {
     "name": "stdout",
     "output_type": "stream",
     "text": [
      "Running for x=-512.9, y=-512.5\n"
     ]
    },
    {
     "name": "stderr",
     "output_type": "stream",
     "text": [
      "86 images processed, 86 hits (100.0%), 82 indexable (95.3% of hits, 95.3% overall), 82 crystals, 16.9 images/sec.\n",
      "185 images processed, 185 hits (100.0%), 180 indexable (97.3% of hits, 97.3% overall), 180 crystals, 19.6 images/sec.\n",
      "262 images processed, 262 hits (100.0%), 247 indexable (94.3% of hits, 94.3% overall), 247 crystals, 15.1 images/sec.\n",
      "Waiting for the last patterns to be processed...\n",
      "Final: 300 images processed, 300 hits (100.0%), 280 indexable (93.3% of hits, 93.3% overall), 280 crystals.\n",
      "Processing XY pairs:  15%|█▍        | 46/313 [15:01<1:39:36, 22.38s/it]This is what I understood your unit cell to be:\n",
      "cubic P, right handed.\n",
      "a      b      c            alpha   beta  gamma\n",
      " 11.87  11.87  11.87 A     90.00  90.00  90.00 deg\n",
      "List of indexing methods:\n",
      "   0: xgandalf-nolatt-cell      (xgandalf using cell parameters as prior information)\n",
      "Indexing parameters:\n",
      "                  Check unit cell parameters: on\n",
      "                        Check peak alignment: on\n",
      "                   Refine indexing solutions: off\n",
      " Multi-lattice indexing (\"delete and retry\"): off\n",
      "                              Retry indexing: on\n"
     ]
    },
    {
     "name": "stdout",
     "output_type": "stream",
     "text": [
      "Running for x=-512.5, y=-512.9\n"
     ]
    },
    {
     "name": "stderr",
     "output_type": "stream",
     "text": [
      "67 images processed, 67 hits (100.0%), 55 indexable (82.1% of hits, 82.1% overall), 55 crystals, 13.4 images/sec.\n",
      "165 images processed, 165 hits (100.0%), 150 indexable (90.9% of hits, 90.9% overall), 150 crystals, 19.5 images/sec.\n",
      "Waiting for the last patterns to be processed...\n",
      "281 images processed, 281 hits (100.0%), 264 indexable (94.0% of hits, 94.0% overall), 264 crystals, 23.1 images/sec.\n",
      "Final: 300 images processed, 300 hits (100.0%), 277 indexable (92.3% of hits, 92.3% overall), 277 crystals.\n",
      "Processing XY pairs:  15%|█▌        | 47/313 [15:18<1:31:44, 20.70s/it]This is what I understood your unit cell to be:\n",
      "cubic P, right handed.\n",
      "a      b      c            alpha   beta  gamma\n",
      " 11.87  11.87  11.87 A     90.00  90.00  90.00 deg\n",
      "List of indexing methods:\n",
      "   0: xgandalf-nolatt-cell      (xgandalf using cell parameters as prior information)\n",
      "Indexing parameters:\n",
      "                  Check unit cell parameters: on\n",
      "                        Check peak alignment: on\n",
      "                   Refine indexing solutions: off\n",
      " Multi-lattice indexing (\"delete and retry\"): off\n",
      "                              Retry indexing: on\n"
     ]
    },
    {
     "name": "stdout",
     "output_type": "stream",
     "text": [
      "Running for x=-512.5, y=-512.1\n"
     ]
    },
    {
     "name": "stderr",
     "output_type": "stream",
     "text": [
      "43 images processed, 43 hits (100.0%), 29 indexable (67.4% of hits, 67.4% overall), 29 crystals, 8.4 images/sec.\n",
      "88 images processed, 88 hits (100.0%), 52 indexable (59.1% of hits, 59.1% overall), 52 crystals, 8.6 images/sec.\n",
      "139 images processed, 139 hits (100.0%), 82 indexable (59.0% of hits, 59.0% overall), 82 crystals, 10.0 images/sec.\n",
      "198 images processed, 198 hits (100.0%), 128 indexable (64.6% of hits, 64.6% overall), 128 crystals, 11.8 images/sec.\n",
      "Waiting for the last patterns to be processed...\n",
      "278 images processed, 278 hits (100.0%), 200 indexable (71.9% of hits, 71.9% overall), 200 crystals, 16.0 images/sec.\n",
      "Final: 300 images processed, 300 hits (100.0%), 216 indexable (72.0% of hits, 72.0% overall), 216 crystals.\n",
      "Processing XY pairs:  15%|█▌        | 48/313 [15:46<1:41:33, 22.99s/it]This is what I understood your unit cell to be:\n",
      "cubic P, right handed.\n",
      "a      b      c            alpha   beta  gamma\n",
      " 11.87  11.87  11.87 A     90.00  90.00  90.00 deg\n",
      "List of indexing methods:\n",
      "   0: xgandalf-nolatt-cell      (xgandalf using cell parameters as prior information)\n",
      "Indexing parameters:\n",
      "                  Check unit cell parameters: on\n",
      "                        Check peak alignment: on\n",
      "                   Refine indexing solutions: off\n",
      " Multi-lattice indexing (\"delete and retry\"): off\n",
      "                              Retry indexing: on\n"
     ]
    },
    {
     "name": "stdout",
     "output_type": "stream",
     "text": [
      "Running for x=-512.1, y=-512.5\n"
     ]
    },
    {
     "name": "stderr",
     "output_type": "stream",
     "text": [
      "67 images processed, 67 hits (100.0%), 60 indexable (89.6% of hits, 89.6% overall), 60 crystals, 13.3 images/sec.\n",
      "136 images processed, 136 hits (100.0%), 122 indexable (89.7% of hits, 89.7% overall), 122 crystals, 13.6 images/sec.\n",
      "186 images processed, 186 hits (100.0%), 159 indexable (85.5% of hits, 85.5% overall), 159 crystals, 9.9 images/sec.\n",
      "235 images processed, 235 hits (100.0%), 194 indexable (82.6% of hits, 82.6% overall), 194 crystals, 9.5 images/sec.\n",
      "Waiting for the last patterns to be processed...\n",
      "296 images processed, 296 hits (100.0%), 235 indexable (79.4% of hits, 79.4% overall), 235 crystals, 12.0 images/sec.\n",
      "Final: 300 images processed, 300 hits (100.0%), 237 indexable (79.0% of hits, 79.0% overall), 237 crystals.\n",
      "Processing XY pairs:  16%|█▌        | 49/313 [16:13<1:46:18, 24.16s/it]This is what I understood your unit cell to be:\n",
      "cubic P, right handed.\n",
      "a      b      c            alpha   beta  gamma\n",
      " 11.87  11.87  11.87 A     90.00  90.00  90.00 deg\n",
      "List of indexing methods:\n",
      "   0: xgandalf-nolatt-cell      (xgandalf using cell parameters as prior information)\n",
      "Indexing parameters:\n",
      "                  Check unit cell parameters: on\n",
      "                        Check peak alignment: on\n",
      "                   Refine indexing solutions: off\n",
      " Multi-lattice indexing (\"delete and retry\"): off\n",
      "                              Retry indexing: on\n"
     ]
    },
    {
     "name": "stdout",
     "output_type": "stream",
     "text": [
      "Running for x=-512.9, y=-512.6\n"
     ]
    },
    {
     "name": "stderr",
     "output_type": "stream",
     "text": [
      "82 images processed, 82 hits (100.0%), 77 indexable (93.9% of hits, 93.9% overall), 77 crystals, 16.4 images/sec.\n",
      "193 images processed, 193 hits (100.0%), 186 indexable (96.4% of hits, 96.4% overall), 186 crystals, 21.8 images/sec.\n",
      "265 images processed, 265 hits (100.0%), 253 indexable (95.5% of hits, 95.5% overall), 253 crystals, 14.0 images/sec.\n",
      "Waiting for the last patterns to be processed...\n",
      "Final: 300 images processed, 300 hits (100.0%), 282 indexable (94.0% of hits, 94.0% overall), 282 crystals.\n",
      "Processing XY pairs:  16%|█▌        | 50/313 [16:31<1:37:19, 22.20s/it]This is what I understood your unit cell to be:\n",
      "cubic P, right handed.\n",
      "a      b      c            alpha   beta  gamma\n",
      " 11.87  11.87  11.87 A     90.00  90.00  90.00 deg\n",
      "List of indexing methods:\n",
      "   0: xgandalf-nolatt-cell      (xgandalf using cell parameters as prior information)\n",
      "Indexing parameters:\n",
      "                  Check unit cell parameters: on\n",
      "                        Check peak alignment: on\n",
      "                   Refine indexing solutions: off\n",
      " Multi-lattice indexing (\"delete and retry\"): off\n",
      "                              Retry indexing: on\n"
     ]
    },
    {
     "name": "stdout",
     "output_type": "stream",
     "text": [
      "Running for x=-512.9, y=-512.4\n"
     ]
    },
    {
     "name": "stderr",
     "output_type": "stream",
     "text": [
      "75 images processed, 75 hits (100.0%), 67 indexable (89.3% of hits, 89.3% overall), 67 crystals, 14.3 images/sec.\n",
      "168 images processed, 168 hits (100.0%), 157 indexable (93.5% of hits, 93.5% overall), 157 crystals, 18.0 images/sec.\n",
      "234 images processed, 234 hits (100.0%), 216 indexable (92.3% of hits, 92.3% overall), 216 crystals, 13.2 images/sec.\n",
      "Waiting for the last patterns to be processed...\n",
      "Final: 300 images processed, 300 hits (100.0%), 272 indexable (90.7% of hits, 90.7% overall), 272 crystals.\n",
      "Processing XY pairs:  16%|█▋        | 51/313 [16:51<1:35:07, 21.78s/it]This is what I understood your unit cell to be:\n",
      "cubic P, right handed.\n",
      "a      b      c            alpha   beta  gamma\n",
      " 11.87  11.87  11.87 A     90.00  90.00  90.00 deg\n",
      "List of indexing methods:\n",
      "   0: xgandalf-nolatt-cell      (xgandalf using cell parameters as prior information)\n",
      "Indexing parameters:\n",
      "                  Check unit cell parameters: on\n",
      "                        Check peak alignment: on\n",
      "                   Refine indexing solutions: off\n",
      " Multi-lattice indexing (\"delete and retry\"): off\n",
      "                              Retry indexing: on\n"
     ]
    },
    {
     "name": "stdout",
     "output_type": "stream",
     "text": [
      "Running for x=-512.6, y=-512.9\n"
     ]
    },
    {
     "name": "stderr",
     "output_type": "stream",
     "text": [
      "66 images processed, 66 hits (100.0%), 56 indexable (84.8% of hits, 84.8% overall), 56 crystals, 13.1 images/sec.\n",
      "152 images processed, 152 hits (100.0%), 136 indexable (89.5% of hits, 89.5% overall), 136 crystals, 17.2 images/sec.\n",
      "264 images processed, 264 hits (100.0%), 243 indexable (92.0% of hits, 92.0% overall), 243 crystals, 22.1 images/sec.\n",
      "Waiting for the last patterns to be processed...\n",
      "Final: 300 images processed, 300 hits (100.0%), 274 indexable (91.3% of hits, 91.3% overall), 274 crystals.\n",
      "Processing XY pairs:  17%|█▋        | 52/313 [17:10<1:30:53, 20.89s/it]This is what I understood your unit cell to be:\n",
      "cubic P, right handed.\n",
      "a      b      c            alpha   beta  gamma\n",
      " 11.87  11.87  11.87 A     90.00  90.00  90.00 deg\n",
      "List of indexing methods:\n",
      "   0: xgandalf-nolatt-cell      (xgandalf using cell parameters as prior information)\n",
      "Indexing parameters:\n",
      "                  Check unit cell parameters: on\n",
      "                        Check peak alignment: on\n",
      "                   Refine indexing solutions: off\n",
      " Multi-lattice indexing (\"delete and retry\"): off\n",
      "                              Retry indexing: on\n"
     ]
    },
    {
     "name": "stdout",
     "output_type": "stream",
     "text": [
      "Running for x=-512.6, y=-512.1\n"
     ]
    },
    {
     "name": "stderr",
     "output_type": "stream",
     "text": [
      "48 images processed, 48 hits (100.0%), 33 indexable (68.8% of hits, 68.8% overall), 33 crystals, 9.5 images/sec.\n",
      "98 images processed, 98 hits (100.0%), 69 indexable (70.4% of hits, 70.4% overall), 69 crystals, 9.7 images/sec.\n",
      "159 images processed, 159 hits (100.0%), 108 indexable (67.9% of hits, 67.9% overall), 108 crystals, 11.9 images/sec.\n",
      "239 images processed, 239 hits (100.0%), 178 indexable (74.5% of hits, 74.5% overall), 178 crystals, 15.9 images/sec.\n",
      "Waiting for the last patterns to be processed...\n",
      "Final: 300 images processed, 300 hits (100.0%), 233 indexable (77.7% of hits, 77.7% overall), 233 crystals.\n",
      "Processing XY pairs:  17%|█▋        | 53/313 [17:35<1:35:15, 21.98s/it]This is what I understood your unit cell to be:\n",
      "cubic P, right handed.\n",
      "a      b      c            alpha   beta  gamma\n",
      " 11.87  11.87  11.87 A     90.00  90.00  90.00 deg\n",
      "List of indexing methods:\n",
      "   0: xgandalf-nolatt-cell      (xgandalf using cell parameters as prior information)\n",
      "Indexing parameters:\n",
      "                  Check unit cell parameters: on\n",
      "                        Check peak alignment: on\n",
      "                   Refine indexing solutions: off\n",
      " Multi-lattice indexing (\"delete and retry\"): off\n",
      "                              Retry indexing: on\n"
     ]
    },
    {
     "name": "stdout",
     "output_type": "stream",
     "text": [
      "Running for x=-512.4, y=-512.9\n"
     ]
    },
    {
     "name": "stderr",
     "output_type": "stream",
     "text": [
      "68 images processed, 68 hits (100.0%), 57 indexable (83.8% of hits, 83.8% overall), 57 crystals, 13.1 images/sec.\n",
      "160 images processed, 160 hits (100.0%), 144 indexable (90.0% of hits, 90.0% overall), 144 crystals, 18.3 images/sec.\n",
      "251 images processed, 251 hits (100.0%), 232 indexable (92.4% of hits, 92.4% overall), 232 crystals, 18.1 images/sec.\n",
      "Waiting for the last patterns to be processed...\n",
      "Final: 300 images processed, 300 hits (100.0%), 275 indexable (91.7% of hits, 91.7% overall), 275 crystals.\n",
      "Processing XY pairs:  17%|█▋        | 54/313 [17:54<1:32:04, 21.33s/it]This is what I understood your unit cell to be:\n",
      "cubic P, right handed.\n",
      "a      b      c            alpha   beta  gamma\n",
      " 11.87  11.87  11.87 A     90.00  90.00  90.00 deg\n",
      "List of indexing methods:\n",
      "   0: xgandalf-nolatt-cell      (xgandalf using cell parameters as prior information)\n",
      "Indexing parameters:\n",
      "                  Check unit cell parameters: on\n",
      "                        Check peak alignment: on\n",
      "                   Refine indexing solutions: off\n",
      " Multi-lattice indexing (\"delete and retry\"): off\n",
      "                              Retry indexing: on\n"
     ]
    },
    {
     "name": "stdout",
     "output_type": "stream",
     "text": [
      "Running for x=-512.4, y=-512.1\n"
     ]
    },
    {
     "name": "stderr",
     "output_type": "stream",
     "text": [
      "43 images processed, 43 hits (100.0%), 27 indexable (62.8% of hits, 62.8% overall), 27 crystals, 8.6 images/sec.\n",
      "87 images processed, 87 hits (100.0%), 54 indexable (62.1% of hits, 62.1% overall), 54 crystals, 8.8 images/sec.\n",
      "126 images processed, 126 hits (100.0%), 69 indexable (54.8% of hits, 54.8% overall), 69 crystals, 7.6 images/sec.\n",
      "172 images processed, 172 hits (100.0%), 99 indexable (57.6% of hits, 57.6% overall), 99 crystals, 9.1 images/sec.\n",
      "249 images processed, 249 hits (100.0%), 160 indexable (64.3% of hits, 64.3% overall), 160 crystals, 15.2 images/sec.\n",
      "Waiting for the last patterns to be processed...\n",
      "Final: 300 images processed, 300 hits (100.0%), 203 indexable (67.7% of hits, 67.7% overall), 203 crystals.\n",
      "Processing XY pairs:  18%|█▊        | 55/313 [18:25<1:43:05, 23.97s/it]This is what I understood your unit cell to be:\n",
      "cubic P, right handed.\n",
      "a      b      c            alpha   beta  gamma\n",
      " 11.87  11.87  11.87 A     90.00  90.00  90.00 deg\n",
      "List of indexing methods:\n",
      "   0: xgandalf-nolatt-cell      (xgandalf using cell parameters as prior information)\n",
      "Indexing parameters:\n",
      "                  Check unit cell parameters: on\n",
      "                        Check peak alignment: on\n",
      "                   Refine indexing solutions: off\n",
      " Multi-lattice indexing (\"delete and retry\"): off\n",
      "                              Retry indexing: on\n"
     ]
    },
    {
     "name": "stdout",
     "output_type": "stream",
     "text": [
      "Running for x=-512.1, y=-512.6\n"
     ]
    },
    {
     "name": "stderr",
     "output_type": "stream",
     "text": [
      "76 images processed, 76 hits (100.0%), 70 indexable (92.1% of hits, 92.1% overall), 70 crystals, 15.1 images/sec.\n",
      "139 images processed, 139 hits (100.0%), 127 indexable (91.4% of hits, 91.4% overall), 127 crystals, 12.5 images/sec.\n",
      "193 images processed, 193 hits (100.0%), 172 indexable (89.1% of hits, 89.1% overall), 172 crystals, 10.6 images/sec.\n",
      "246 images processed, 246 hits (100.0%), 211 indexable (85.8% of hits, 85.8% overall), 211 crystals, 10.4 images/sec.\n",
      "Waiting for the last patterns to be processed...\n",
      "Final: 300 images processed, 300 hits (100.0%), 250 indexable (83.3% of hits, 83.3% overall), 250 crystals.\n",
      "Processing XY pairs:  18%|█▊        | 56/313 [18:51<1:45:14, 24.57s/it]This is what I understood your unit cell to be:\n",
      "cubic P, right handed.\n",
      "a      b      c            alpha   beta  gamma\n",
      " 11.87  11.87  11.87 A     90.00  90.00  90.00 deg\n",
      "List of indexing methods:\n",
      "   0: xgandalf-nolatt-cell      (xgandalf using cell parameters as prior information)\n",
      "Indexing parameters:\n",
      "                  Check unit cell parameters: on\n",
      "                        Check peak alignment: on\n",
      "                   Refine indexing solutions: off\n",
      " Multi-lattice indexing (\"delete and retry\"): off\n",
      "                              Retry indexing: on\n"
     ]
    },
    {
     "name": "stdout",
     "output_type": "stream",
     "text": [
      "Running for x=-512.1, y=-512.4\n"
     ]
    },
    {
     "name": "stderr",
     "output_type": "stream",
     "text": [
      "61 images processed, 61 hits (100.0%), 53 indexable (86.9% of hits, 86.9% overall), 53 crystals, 12.2 images/sec.\n",
      "113 images processed, 113 hits (100.0%), 93 indexable (82.3% of hits, 82.3% overall), 93 crystals, 10.3 images/sec.\n",
      "162 images processed, 162 hits (100.0%), 125 indexable (77.2% of hits, 77.2% overall), 125 crystals, 9.7 images/sec.\n",
      "210 images processed, 210 hits (100.0%), 159 indexable (75.7% of hits, 75.7% overall), 159 crystals, 9.5 images/sec.\n",
      "265 images processed, 265 hits (100.0%), 201 indexable (75.8% of hits, 75.8% overall), 201 crystals, 11.0 images/sec.\n",
      "Waiting for the last patterns to be processed...\n",
      "Final: 300 images processed, 300 hits (100.0%), 226 indexable (75.3% of hits, 75.3% overall), 226 crystals.\n",
      "Processing XY pairs:  18%|█▊        | 57/313 [19:19<1:49:24, 25.64s/it]This is what I understood your unit cell to be:\n",
      "cubic P, right handed.\n",
      "a      b      c            alpha   beta  gamma\n",
      " 11.87  11.87  11.87 A     90.00  90.00  90.00 deg\n",
      "List of indexing methods:\n",
      "   0: xgandalf-nolatt-cell      (xgandalf using cell parameters as prior information)\n",
      "Indexing parameters:\n",
      "                  Check unit cell parameters: on\n",
      "                        Check peak alignment: on\n",
      "                   Refine indexing solutions: off\n",
      " Multi-lattice indexing (\"delete and retry\"): off\n",
      "                              Retry indexing: on\n"
     ]
    },
    {
     "name": "stdout",
     "output_type": "stream",
     "text": [
      "Running for x=-512.8, y=-512.8\n"
     ]
    },
    {
     "name": "stderr",
     "output_type": "stream",
     "text": [
      "77 images processed, 77 hits (100.0%), 69 indexable (89.6% of hits, 89.6% overall), 69 crystals, 15.2 images/sec.\n",
      "180 images processed, 180 hits (100.0%), 170 indexable (94.4% of hits, 94.4% overall), 170 crystals, 20.6 images/sec.\n",
      "Waiting for the last patterns to be processed...\n",
      "282 images processed, 282 hits (100.0%), 271 indexable (96.1% of hits, 96.1% overall), 271 crystals, 20.2 images/sec.\n",
      "Final: 300 images processed, 300 hits (100.0%), 284 indexable (94.7% of hits, 94.7% overall), 284 crystals.\n",
      "Processing XY pairs:  19%|█▊        | 58/313 [19:37<1:39:15, 23.36s/it]This is what I understood your unit cell to be:\n",
      "cubic P, right handed.\n",
      "a      b      c            alpha   beta  gamma\n",
      " 11.87  11.87  11.87 A     90.00  90.00  90.00 deg\n",
      "List of indexing methods:\n",
      "   0: xgandalf-nolatt-cell      (xgandalf using cell parameters as prior information)\n",
      "Indexing parameters:\n",
      "                  Check unit cell parameters: on\n",
      "                        Check peak alignment: on\n",
      "                   Refine indexing solutions: off\n",
      " Multi-lattice indexing (\"delete and retry\"): off\n",
      "                              Retry indexing: on\n"
     ]
    },
    {
     "name": "stdout",
     "output_type": "stream",
     "text": [
      "Running for x=-512.8, y=-512.2\n"
     ]
    },
    {
     "name": "stderr",
     "output_type": "stream",
     "text": [
      "59 images processed, 59 hits (100.0%), 47 indexable (79.7% of hits, 79.7% overall), 47 crystals, 11.5 images/sec.\n",
      "123 images processed, 123 hits (100.0%), 104 indexable (84.6% of hits, 84.6% overall), 104 crystals, 12.6 images/sec.\n",
      "194 images processed, 194 hits (100.0%), 167 indexable (86.1% of hits, 86.1% overall), 167 crystals, 14.2 images/sec.\n",
      "Waiting for the last patterns to be processed...\n",
      "290 images processed, 290 hits (100.0%), 255 indexable (87.9% of hits, 87.9% overall), 255 crystals, 19.0 images/sec.\n",
      "Final: 300 images processed, 300 hits (100.0%), 261 indexable (87.0% of hits, 87.0% overall), 261 crystals.\n",
      "Processing XY pairs:  19%|█▉        | 59/313 [19:59<1:38:04, 23.17s/it]This is what I understood your unit cell to be:\n",
      "cubic P, right handed.\n",
      "a      b      c            alpha   beta  gamma\n",
      " 11.87  11.87  11.87 A     90.00  90.00  90.00 deg\n",
      "List of indexing methods:\n",
      "   0: xgandalf-nolatt-cell      (xgandalf using cell parameters as prior information)\n",
      "Indexing parameters:\n",
      "                  Check unit cell parameters: on\n",
      "                        Check peak alignment: on\n",
      "                   Refine indexing solutions: off\n",
      " Multi-lattice indexing (\"delete and retry\"): off\n",
      "                              Retry indexing: on\n"
     ]
    },
    {
     "name": "stdout",
     "output_type": "stream",
     "text": [
      "Running for x=-512.2, y=-512.8\n"
     ]
    },
    {
     "name": "stderr",
     "output_type": "stream",
     "text": [
      "69 images processed, 69 hits (100.0%), 60 indexable (87.0% of hits, 87.0% overall), 60 crystals, 13.7 images/sec.\n",
      "160 images processed, 160 hits (100.0%), 145 indexable (90.6% of hits, 90.6% overall), 145 crystals, 18.1 images/sec.\n",
      "236 images processed, 236 hits (100.0%), 216 indexable (91.5% of hits, 91.5% overall), 216 crystals, 15.1 images/sec.\n",
      "Waiting for the last patterns to be processed...\n",
      "294 images processed, 294 hits (100.0%), 264 indexable (89.8% of hits, 89.8% overall), 264 crystals, 11.5 images/sec.\n",
      "Final: 300 images processed, 300 hits (100.0%), 265 indexable (88.3% of hits, 88.3% overall), 265 crystals.\n",
      "Processing XY pairs:  19%|█▉        | 60/313 [20:20<1:34:22, 22.38s/it]This is what I understood your unit cell to be:\n",
      "cubic P, right handed.\n",
      "a      b      c            alpha   beta  gamma\n",
      " 11.87  11.87  11.87 A     90.00  90.00  90.00 deg\n",
      "List of indexing methods:\n",
      "   0: xgandalf-nolatt-cell      (xgandalf using cell parameters as prior information)\n",
      "Indexing parameters:\n",
      "                  Check unit cell parameters: on\n",
      "                        Check peak alignment: on\n",
      "                   Refine indexing solutions: off\n",
      " Multi-lattice indexing (\"delete and retry\"): off\n",
      "                              Retry indexing: on\n"
     ]
    },
    {
     "name": "stdout",
     "output_type": "stream",
     "text": [
      "Running for x=-512.2, y=-512.2\n"
     ]
    },
    {
     "name": "stderr",
     "output_type": "stream",
     "text": [
      "52 images processed, 52 hits (100.0%), 37 indexable (71.2% of hits, 71.2% overall), 37 crystals, 10.1 images/sec.\n",
      "92 images processed, 92 hits (100.0%), 61 indexable (66.3% of hits, 66.3% overall), 61 crystals, 7.8 images/sec.\n",
      "135 images processed, 135 hits (100.0%), 80 indexable (59.3% of hits, 59.3% overall), 80 crystals, 8.5 images/sec.\n",
      "173 images processed, 173 hits (100.0%), 98 indexable (56.6% of hits, 56.6% overall), 98 crystals, 7.4 images/sec.\n",
      "230 images processed, 230 hits (100.0%), 137 indexable (59.6% of hits, 59.6% overall), 137 crystals, 11.3 images/sec.\n",
      "Waiting for the last patterns to be processed...\n",
      "Final: 300 images processed, 300 hits (100.0%), 198 indexable (66.0% of hits, 66.0% overall), 198 crystals.\n",
      "Processing XY pairs:  19%|█▉        | 61/313 [20:52<1:45:34, 25.14s/it]This is what I understood your unit cell to be:\n",
      "cubic P, right handed.\n",
      "a      b      c            alpha   beta  gamma\n",
      " 11.87  11.87  11.87 A     90.00  90.00  90.00 deg\n",
      "List of indexing methods:\n",
      "   0: xgandalf-nolatt-cell      (xgandalf using cell parameters as prior information)\n",
      "Indexing parameters:\n",
      "                  Check unit cell parameters: on\n",
      "                        Check peak alignment: on\n",
      "                   Refine indexing solutions: off\n",
      " Multi-lattice indexing (\"delete and retry\"): off\n",
      "                              Retry indexing: on\n"
     ]
    },
    {
     "name": "stdout",
     "output_type": "stream",
     "text": [
      "Running for x=-512.9, y=-512.7\n"
     ]
    },
    {
     "name": "stderr",
     "output_type": "stream",
     "text": [
      "79 images processed, 79 hits (100.0%), 74 indexable (93.7% of hits, 93.7% overall), 74 crystals, 15.1 images/sec.\n",
      "180 images processed, 180 hits (100.0%), 171 indexable (95.0% of hits, 95.0% overall), 171 crystals, 20.0 images/sec.\n",
      "255 images processed, 255 hits (100.0%), 241 indexable (94.5% of hits, 94.5% overall), 241 crystals, 15.0 images/sec.\n",
      "Waiting for the last patterns to be processed...\n",
      "Final: 300 images processed, 300 hits (100.0%), 276 indexable (92.0% of hits, 92.0% overall), 276 crystals.\n",
      "Processing XY pairs:  20%|█▉        | 62/313 [21:11<1:38:17, 23.49s/it]This is what I understood your unit cell to be:\n",
      "cubic P, right handed.\n",
      "a      b      c            alpha   beta  gamma\n",
      " 11.87  11.87  11.87 A     90.00  90.00  90.00 deg\n",
      "List of indexing methods:\n",
      "   0: xgandalf-nolatt-cell      (xgandalf using cell parameters as prior information)\n",
      "Indexing parameters:\n",
      "                  Check unit cell parameters: on\n",
      "                        Check peak alignment: on\n",
      "                   Refine indexing solutions: off\n",
      " Multi-lattice indexing (\"delete and retry\"): off\n",
      "                              Retry indexing: on\n"
     ]
    },
    {
     "name": "stdout",
     "output_type": "stream",
     "text": [
      "Running for x=-512.9, y=-512.3\n"
     ]
    },
    {
     "name": "stderr",
     "output_type": "stream",
     "text": [
      "63 images processed, 63 hits (100.0%), 55 indexable (87.3% of hits, 87.3% overall), 55 crystals, 12.4 images/sec.\n",
      "145 images processed, 145 hits (100.0%), 133 indexable (91.7% of hits, 91.7% overall), 133 crystals, 16.4 images/sec.\n",
      "208 images processed, 208 hits (100.0%), 186 indexable (89.4% of hits, 89.4% overall), 186 crystals, 12.6 images/sec.\n",
      "Waiting for the last patterns to be processed...\n",
      "280 images processed, 280 hits (100.0%), 244 indexable (87.1% of hits, 87.1% overall), 244 crystals, 14.3 images/sec.\n",
      "Final: 300 images processed, 300 hits (100.0%), 260 indexable (86.7% of hits, 86.7% overall), 260 crystals.\n",
      "Processing XY pairs:  20%|██        | 63/313 [21:33<1:35:48, 22.99s/it]This is what I understood your unit cell to be:\n",
      "cubic P, right handed.\n",
      "a      b      c            alpha   beta  gamma\n",
      " 11.87  11.87  11.87 A     90.00  90.00  90.00 deg\n",
      "List of indexing methods:\n",
      "   0: xgandalf-nolatt-cell      (xgandalf using cell parameters as prior information)\n",
      "Indexing parameters:\n",
      "                  Check unit cell parameters: on\n",
      "                        Check peak alignment: on\n",
      "                   Refine indexing solutions: off\n",
      " Multi-lattice indexing (\"delete and retry\"): off\n",
      "                              Retry indexing: on\n"
     ]
    },
    {
     "name": "stdout",
     "output_type": "stream",
     "text": [
      "Running for x=-512.7, y=-512.9\n"
     ]
    },
    {
     "name": "stderr",
     "output_type": "stream",
     "text": [
      "64 images processed, 64 hits (100.0%), 53 indexable (82.8% of hits, 82.8% overall), 53 crystals, 12.6 images/sec.\n",
      "152 images processed, 152 hits (100.0%), 136 indexable (89.5% of hits, 89.5% overall), 136 crystals, 17.5 images/sec.\n",
      "257 images processed, 257 hits (100.0%), 237 indexable (92.2% of hits, 92.2% overall), 237 crystals, 20.7 images/sec.\n",
      "Waiting for the last patterns to be processed...\n",
      "Final: 300 images processed, 300 hits (100.0%), 274 indexable (91.3% of hits, 91.3% overall), 274 crystals.\n",
      "Processing XY pairs:  20%|██        | 64/313 [21:53<1:31:08, 21.96s/it]This is what I understood your unit cell to be:\n",
      "cubic P, right handed.\n",
      "a      b      c            alpha   beta  gamma\n",
      " 11.87  11.87  11.87 A     90.00  90.00  90.00 deg\n",
      "List of indexing methods:\n",
      "   0: xgandalf-nolatt-cell      (xgandalf using cell parameters as prior information)\n",
      "Indexing parameters:\n",
      "                  Check unit cell parameters: on\n",
      "                        Check peak alignment: on\n",
      "                   Refine indexing solutions: off\n",
      " Multi-lattice indexing (\"delete and retry\"): off\n",
      "                              Retry indexing: on\n"
     ]
    },
    {
     "name": "stdout",
     "output_type": "stream",
     "text": [
      "Running for x=-512.7, y=-512.1\n"
     ]
    },
    {
     "name": "stderr",
     "output_type": "stream",
     "text": [
      "52 images processed, 52 hits (100.0%), 38 indexable (73.1% of hits, 73.1% overall), 38 crystals, 10.3 images/sec.\n",
      "101 images processed, 101 hits (100.0%), 75 indexable (74.3% of hits, 74.3% overall), 75 crystals, 9.8 images/sec.\n",
      "167 images processed, 167 hits (100.0%), 125 indexable (74.9% of hits, 74.9% overall), 125 crystals, 13.2 images/sec.\n",
      "244 images processed, 244 hits (100.0%), 193 indexable (79.1% of hits, 79.1% overall), 193 crystals, 15.3 images/sec.\n",
      "Waiting for the last patterns to be processed...\n",
      "Final: 300 images processed, 300 hits (100.0%), 243 indexable (81.0% of hits, 81.0% overall), 243 crystals.\n",
      "Processing XY pairs:  21%|██        | 65/313 [22:18<1:34:23, 22.84s/it]This is what I understood your unit cell to be:\n",
      "cubic P, right handed.\n",
      "a      b      c            alpha   beta  gamma\n",
      " 11.87  11.87  11.87 A     90.00  90.00  90.00 deg\n",
      "List of indexing methods:\n",
      "   0: xgandalf-nolatt-cell      (xgandalf using cell parameters as prior information)\n",
      "Indexing parameters:\n",
      "                  Check unit cell parameters: on\n",
      "                        Check peak alignment: on\n",
      "                   Refine indexing solutions: off\n",
      " Multi-lattice indexing (\"delete and retry\"): off\n",
      "                              Retry indexing: on\n"
     ]
    },
    {
     "name": "stdout",
     "output_type": "stream",
     "text": [
      "Running for x=-512.3, y=-512.9\n"
     ]
    },
    {
     "name": "stderr",
     "output_type": "stream",
     "text": [
      "61 images processed, 61 hits (100.0%), 51 indexable (83.6% of hits, 83.6% overall), 51 crystals, 11.7 images/sec.\n",
      "148 images processed, 148 hits (100.0%), 130 indexable (87.8% of hits, 87.8% overall), 130 crystals, 17.4 images/sec.\n",
      "234 images processed, 234 hits (100.0%), 210 indexable (89.7% of hits, 89.7% overall), 210 crystals, 17.1 images/sec.\n",
      "Waiting for the last patterns to be processed...\n",
      "Final: 300 images processed, 300 hits (100.0%), 267 indexable (89.0% of hits, 89.0% overall), 267 crystals.\n",
      "Processing XY pairs:  21%|██        | 66/313 [22:37<1:30:28, 21.98s/it]This is what I understood your unit cell to be:\n",
      "cubic P, right handed.\n",
      "a      b      c            alpha   beta  gamma\n",
      " 11.87  11.87  11.87 A     90.00  90.00  90.00 deg\n",
      "List of indexing methods:\n",
      "   0: xgandalf-nolatt-cell      (xgandalf using cell parameters as prior information)\n",
      "Indexing parameters:\n",
      "                  Check unit cell parameters: on\n",
      "                        Check peak alignment: on\n",
      "                   Refine indexing solutions: off\n",
      " Multi-lattice indexing (\"delete and retry\"): off\n",
      "                              Retry indexing: on\n"
     ]
    },
    {
     "name": "stdout",
     "output_type": "stream",
     "text": [
      "Running for x=-512.3, y=-512.1\n"
     ]
    },
    {
     "name": "stderr",
     "output_type": "stream",
     "text": [
      "45 images processed, 45 hits (100.0%), 33 indexable (73.3% of hits, 73.3% overall), 33 crystals, 9.0 images/sec.\n",
      "85 images processed, 85 hits (100.0%), 56 indexable (65.9% of hits, 65.9% overall), 56 crystals, 7.8 images/sec.\n",
      "129 images processed, 129 hits (100.0%), 79 indexable (61.2% of hits, 61.2% overall), 79 crystals, 8.4 images/sec.\n",
      "171 images processed, 171 hits (100.0%), 99 indexable (57.9% of hits, 57.9% overall), 99 crystals, 8.3 images/sec.\n",
      "226 images processed, 226 hits (100.0%), 139 indexable (61.5% of hits, 61.5% overall), 139 crystals, 10.7 images/sec.\n",
      "Waiting for the last patterns to be processed...\n",
      "Final: 300 images processed, 300 hits (100.0%), 204 indexable (68.0% of hits, 68.0% overall), 204 crystals.\n",
      "Processing XY pairs:  21%|██▏       | 67/313 [23:09<1:41:53, 24.85s/it]This is what I understood your unit cell to be:\n",
      "cubic P, right handed.\n",
      "a      b      c            alpha   beta  gamma\n",
      " 11.87  11.87  11.87 A     90.00  90.00  90.00 deg\n",
      "List of indexing methods:\n",
      "   0: xgandalf-nolatt-cell      (xgandalf using cell parameters as prior information)\n",
      "Indexing parameters:\n",
      "                  Check unit cell parameters: on\n",
      "                        Check peak alignment: on\n",
      "                   Refine indexing solutions: off\n",
      " Multi-lattice indexing (\"delete and retry\"): off\n",
      "                              Retry indexing: on\n"
     ]
    },
    {
     "name": "stdout",
     "output_type": "stream",
     "text": [
      "Running for x=-512.1, y=-512.7\n"
     ]
    },
    {
     "name": "stderr",
     "output_type": "stream",
     "text": [
      "64 images processed, 64 hits (100.0%), 55 indexable (85.9% of hits, 85.9% overall), 55 crystals, 12.6 images/sec.\n",
      "138 images processed, 138 hits (100.0%), 125 indexable (90.6% of hits, 90.6% overall), 125 crystals, 14.8 images/sec.\n",
      "199 images processed, 199 hits (100.0%), 171 indexable (85.9% of hits, 85.9% overall), 171 crystals, 12.0 images/sec.\n",
      "251 images processed, 251 hits (100.0%), 208 indexable (82.9% of hits, 82.9% overall), 208 crystals, 10.3 images/sec.\n",
      "Waiting for the last patterns to be processed...\n",
      "Final: 300 images processed, 300 hits (100.0%), 244 indexable (81.3% of hits, 81.3% overall), 244 crystals.\n",
      "Processing XY pairs:  22%|██▏       | 68/313 [23:35<1:42:41, 25.15s/it]This is what I understood your unit cell to be:\n",
      "cubic P, right handed.\n",
      "a      b      c            alpha   beta  gamma\n",
      " 11.87  11.87  11.87 A     90.00  90.00  90.00 deg\n",
      "List of indexing methods:\n",
      "   0: xgandalf-nolatt-cell      (xgandalf using cell parameters as prior information)\n",
      "Indexing parameters:\n",
      "                  Check unit cell parameters: on\n",
      "                        Check peak alignment: on\n",
      "                   Refine indexing solutions: off\n",
      " Multi-lattice indexing (\"delete and retry\"): off\n",
      "                              Retry indexing: on\n"
     ]
    },
    {
     "name": "stdout",
     "output_type": "stream",
     "text": [
      "Running for x=-512.1, y=-512.3\n"
     ]
    },
    {
     "name": "stderr",
     "output_type": "stream",
     "text": [
      "59 images processed, 59 hits (100.0%), 45 indexable (76.3% of hits, 76.3% overall), 45 crystals, 11.4 images/sec.\n",
      "97 images processed, 97 hits (100.0%), 67 indexable (69.1% of hits, 69.1% overall), 67 crystals, 7.5 images/sec.\n",
      "135 images processed, 135 hits (100.0%), 85 indexable (63.0% of hits, 63.0% overall), 85 crystals, 7.6 images/sec.\n",
      "177 images processed, 177 hits (100.0%), 102 indexable (57.6% of hits, 57.6% overall), 102 crystals, 8.2 images/sec.\n",
      "228 images processed, 228 hits (100.0%), 135 indexable (59.2% of hits, 59.2% overall), 135 crystals, 9.8 images/sec.\n",
      "Waiting for the last patterns to be processed...\n",
      "297 images processed, 297 hits (100.0%), 188 indexable (63.3% of hits, 63.3% overall), 188 crystals, 13.1 images/sec.\n",
      "Final: 300 images processed, 300 hits (100.0%), 190 indexable (63.3% of hits, 63.3% overall), 190 crystals.\n",
      "Processing XY pairs:  22%|██▏       | 69/313 [24:07<1:51:08, 27.33s/it]This is what I understood your unit cell to be:\n",
      "cubic P, right handed.\n",
      "a      b      c            alpha   beta  gamma\n",
      " 11.87  11.87  11.87 A     90.00  90.00  90.00 deg\n",
      "List of indexing methods:\n",
      "   0: xgandalf-nolatt-cell      (xgandalf using cell parameters as prior information)\n",
      "Indexing parameters:\n",
      "                  Check unit cell parameters: on\n",
      "                        Check peak alignment: on\n",
      "                   Refine indexing solutions: off\n",
      " Multi-lattice indexing (\"delete and retry\"): off\n",
      "                              Retry indexing: on\n"
     ]
    },
    {
     "name": "stdout",
     "output_type": "stream",
     "text": [
      "Running for x=-512.9, y=-512.8\n"
     ]
    },
    {
     "name": "stderr",
     "output_type": "stream",
     "text": [
      "70 images processed, 70 hits (100.0%), 61 indexable (87.1% of hits, 87.1% overall), 61 crystals, 14.0 images/sec.\n",
      "155 images processed, 155 hits (100.0%), 141 indexable (91.0% of hits, 91.0% overall), 141 crystals, 17.0 images/sec.\n",
      "248 images processed, 248 hits (100.0%), 230 indexable (92.7% of hits, 92.7% overall), 230 crystals, 18.0 images/sec.\n",
      "Waiting for the last patterns to be processed...\n",
      "Final: 300 images processed, 300 hits (100.0%), 271 indexable (90.3% of hits, 90.3% overall), 271 crystals.\n",
      "Processing XY pairs:  22%|██▏       | 70/313 [24:28<1:43:05, 25.45s/it]This is what I understood your unit cell to be:\n",
      "cubic P, right handed.\n",
      "a      b      c            alpha   beta  gamma\n",
      " 11.87  11.87  11.87 A     90.00  90.00  90.00 deg\n",
      "List of indexing methods:\n",
      "   0: xgandalf-nolatt-cell      (xgandalf using cell parameters as prior information)\n",
      "Indexing parameters:\n",
      "                  Check unit cell parameters: on\n",
      "                        Check peak alignment: on\n",
      "                   Refine indexing solutions: off\n",
      " Multi-lattice indexing (\"delete and retry\"): off\n",
      "                              Retry indexing: on\n"
     ]
    },
    {
     "name": "stdout",
     "output_type": "stream",
     "text": [
      "Running for x=-512.9, y=-512.2\n"
     ]
    },
    {
     "name": "stderr",
     "output_type": "stream",
     "text": [
      "58 images processed, 58 hits (100.0%), 44 indexable (75.9% of hits, 75.9% overall), 44 crystals, 11.5 images/sec.\n",
      "116 images processed, 116 hits (100.0%), 94 indexable (81.0% of hits, 81.0% overall), 94 crystals, 11.1 images/sec.\n",
      "172 images processed, 172 hits (100.0%), 137 indexable (79.7% of hits, 79.7% overall), 137 crystals, 11.0 images/sec.\n",
      "236 images processed, 236 hits (100.0%), 182 indexable (77.1% of hits, 77.1% overall), 182 crystals, 12.8 images/sec.\n",
      "Waiting for the last patterns to be processed...\n",
      "Final: 300 images processed, 300 hits (100.0%), 235 indexable (78.3% of hits, 78.3% overall), 235 crystals.\n",
      "Processing XY pairs:  23%|██▎       | 71/313 [24:53<1:42:03, 25.30s/it]This is what I understood your unit cell to be:\n",
      "cubic P, right handed.\n",
      "a      b      c            alpha   beta  gamma\n",
      " 11.87  11.87  11.87 A     90.00  90.00  90.00 deg\n",
      "List of indexing methods:\n",
      "   0: xgandalf-nolatt-cell      (xgandalf using cell parameters as prior information)\n",
      "Indexing parameters:\n",
      "                  Check unit cell parameters: on\n",
      "                        Check peak alignment: on\n",
      "                   Refine indexing solutions: off\n",
      " Multi-lattice indexing (\"delete and retry\"): off\n",
      "                              Retry indexing: on\n"
     ]
    },
    {
     "name": "stdout",
     "output_type": "stream",
     "text": [
      "Running for x=-512.8, y=-512.9\n"
     ]
    },
    {
     "name": "stderr",
     "output_type": "stream",
     "text": [
      "63 images processed, 63 hits (100.0%), 53 indexable (84.1% of hits, 84.1% overall), 53 crystals, 12.5 images/sec.\n",
      "144 images processed, 144 hits (100.0%), 125 indexable (86.8% of hits, 86.8% overall), 125 crystals, 15.9 images/sec.\n",
      "239 images processed, 239 hits (100.0%), 215 indexable (90.0% of hits, 90.0% overall), 215 crystals, 18.9 images/sec.\n",
      "Waiting for the last patterns to be processed...\n",
      "Final: 300 images processed, 300 hits (100.0%), 270 indexable (90.0% of hits, 90.0% overall), 270 crystals.\n",
      "Processing XY pairs:  23%|██▎       | 72/313 [25:14<1:36:01, 23.91s/it]This is what I understood your unit cell to be:\n",
      "cubic P, right handed.\n",
      "a      b      c            alpha   beta  gamma\n",
      " 11.87  11.87  11.87 A     90.00  90.00  90.00 deg\n",
      "List of indexing methods:\n",
      "   0: xgandalf-nolatt-cell      (xgandalf using cell parameters as prior information)\n",
      "Indexing parameters:\n",
      "                  Check unit cell parameters: on\n",
      "                        Check peak alignment: on\n",
      "                   Refine indexing solutions: off\n",
      " Multi-lattice indexing (\"delete and retry\"): off\n",
      "                              Retry indexing: on\n"
     ]
    },
    {
     "name": "stdout",
     "output_type": "stream",
     "text": [
      "Running for x=-512.8, y=-512.1\n"
     ]
    },
    {
     "name": "stderr",
     "output_type": "stream",
     "text": [
      "48 images processed, 48 hits (100.0%), 39 indexable (81.2% of hits, 81.2% overall), 39 crystals, 9.5 images/sec.\n",
      "105 images processed, 105 hits (100.0%), 82 indexable (78.1% of hits, 78.1% overall), 82 crystals, 11.1 images/sec.\n",
      "162 images processed, 162 hits (100.0%), 121 indexable (74.7% of hits, 74.7% overall), 121 crystals, 11.2 images/sec.\n",
      "218 images processed, 218 hits (100.0%), 164 indexable (75.2% of hits, 75.2% overall), 164 crystals, 11.1 images/sec.\n",
      "Waiting for the last patterns to be processed...\n",
      "295 images processed, 295 hits (100.0%), 230 indexable (78.0% of hits, 78.0% overall), 230 crystals, 15.3 images/sec.\n",
      "Final: 300 images processed, 300 hits (100.0%), 231 indexable (77.0% of hits, 77.0% overall), 231 crystals.\n",
      "Processing XY pairs:  23%|██▎       | 73/313 [25:41<1:39:36, 24.90s/it]This is what I understood your unit cell to be:\n",
      "cubic P, right handed.\n",
      "a      b      c            alpha   beta  gamma\n",
      " 11.87  11.87  11.87 A     90.00  90.00  90.00 deg\n",
      "List of indexing methods:\n",
      "   0: xgandalf-nolatt-cell      (xgandalf using cell parameters as prior information)\n",
      "Indexing parameters:\n",
      "                  Check unit cell parameters: on\n",
      "                        Check peak alignment: on\n",
      "                   Refine indexing solutions: off\n",
      " Multi-lattice indexing (\"delete and retry\"): off\n",
      "                              Retry indexing: on\n"
     ]
    },
    {
     "name": "stdout",
     "output_type": "stream",
     "text": [
      "Running for x=-512.2, y=-512.9\n"
     ]
    },
    {
     "name": "stderr",
     "output_type": "stream",
     "text": [
      "67 images processed, 67 hits (100.0%), 59 indexable (88.1% of hits, 88.1% overall), 59 crystals, 13.3 images/sec.\n",
      "138 images processed, 138 hits (100.0%), 125 indexable (90.6% of hits, 90.6% overall), 125 crystals, 14.0 images/sec.\n",
      "208 images processed, 208 hits (100.0%), 185 indexable (88.9% of hits, 88.9% overall), 185 crystals, 13.6 images/sec.\n",
      "273 images processed, 273 hits (100.0%), 244 indexable (89.4% of hits, 89.4% overall), 244 crystals, 12.9 images/sec.\n",
      "Waiting for the last patterns to be processed...\n",
      "Final: 300 images processed, 300 hits (100.0%), 260 indexable (86.7% of hits, 86.7% overall), 260 crystals.\n",
      "Processing XY pairs:  24%|██▎       | 74/313 [26:05<1:38:11, 24.65s/it]This is what I understood your unit cell to be:\n",
      "cubic P, right handed.\n",
      "a      b      c            alpha   beta  gamma\n",
      " 11.87  11.87  11.87 A     90.00  90.00  90.00 deg\n",
      "List of indexing methods:\n",
      "   0: xgandalf-nolatt-cell      (xgandalf using cell parameters as prior information)\n",
      "Indexing parameters:\n",
      "                  Check unit cell parameters: on\n",
      "                        Check peak alignment: on\n",
      "                   Refine indexing solutions: off\n",
      " Multi-lattice indexing (\"delete and retry\"): off\n",
      "                              Retry indexing: on\n"
     ]
    },
    {
     "name": "stdout",
     "output_type": "stream",
     "text": [
      "Running for x=-512.2, y=-512.1\n"
     ]
    },
    {
     "name": "stderr",
     "output_type": "stream",
     "text": [
      "41 images processed, 41 hits (100.0%), 31 indexable (75.6% of hits, 75.6% overall), 31 crystals, 8.0 images/sec.\n",
      "82 images processed, 82 hits (100.0%), 47 indexable (57.3% of hits, 57.3% overall), 47 crystals, 8.2 images/sec.\n",
      "123 images processed, 123 hits (100.0%), 58 indexable (47.2% of hits, 47.2% overall), 58 crystals, 8.1 images/sec.\n",
      "160 images processed, 160 hits (100.0%), 69 indexable (43.1% of hits, 43.1% overall), 69 crystals, 7.1 images/sec.\n",
      "206 images processed, 206 hits (100.0%), 90 indexable (43.7% of hits, 43.7% overall), 90 crystals, 9.1 images/sec.\n",
      "266 images processed, 266 hits (100.0%), 129 indexable (48.5% of hits, 48.5% overall), 129 crystals, 12.0 images/sec.\n",
      "Waiting for the last patterns to be processed...\n",
      "Final: 300 images processed, 300 hits (100.0%), 156 indexable (52.0% of hits, 52.0% overall), 156 crystals.\n",
      "Processing XY pairs:  24%|██▍       | 75/313 [26:40<1:49:17, 27.55s/it]This is what I understood your unit cell to be:\n",
      "cubic P, right handed.\n",
      "a      b      c            alpha   beta  gamma\n",
      " 11.87  11.87  11.87 A     90.00  90.00  90.00 deg\n",
      "List of indexing methods:\n",
      "   0: xgandalf-nolatt-cell      (xgandalf using cell parameters as prior information)\n",
      "Indexing parameters:\n",
      "                  Check unit cell parameters: on\n",
      "                        Check peak alignment: on\n",
      "                   Refine indexing solutions: off\n",
      " Multi-lattice indexing (\"delete and retry\"): off\n",
      "                              Retry indexing: on\n"
     ]
    },
    {
     "name": "stdout",
     "output_type": "stream",
     "text": [
      "Running for x=-512.1, y=-512.8\n"
     ]
    },
    {
     "name": "stderr",
     "output_type": "stream",
     "text": [
      "61 images processed, 61 hits (100.0%), 49 indexable (80.3% of hits, 80.3% overall), 49 crystals, 12.1 images/sec.\n",
      "129 images processed, 129 hits (100.0%), 107 indexable (82.9% of hits, 82.9% overall), 107 crystals, 13.4 images/sec.\n",
      "194 images processed, 194 hits (100.0%), 163 indexable (84.0% of hits, 84.0% overall), 163 crystals, 12.4 images/sec.\n",
      "252 images processed, 252 hits (100.0%), 209 indexable (82.9% of hits, 82.9% overall), 209 crystals, 11.4 images/sec.\n",
      "Waiting for the last patterns to be processed...\n",
      "Final: 300 images processed, 300 hits (100.0%), 240 indexable (80.0% of hits, 80.0% overall), 240 crystals.\n",
      "Processing XY pairs:  24%|██▍       | 76/313 [27:05<1:46:10, 26.88s/it]This is what I understood your unit cell to be:\n",
      "cubic P, right handed.\n",
      "a      b      c            alpha   beta  gamma\n",
      " 11.87  11.87  11.87 A     90.00  90.00  90.00 deg\n",
      "List of indexing methods:\n",
      "   0: xgandalf-nolatt-cell      (xgandalf using cell parameters as prior information)\n",
      "Indexing parameters:\n",
      "                  Check unit cell parameters: on\n",
      "                        Check peak alignment: on\n",
      "                   Refine indexing solutions: off\n",
      " Multi-lattice indexing (\"delete and retry\"): off\n",
      "                              Retry indexing: on\n"
     ]
    },
    {
     "name": "stdout",
     "output_type": "stream",
     "text": [
      "Running for x=-512.1, y=-512.2\n"
     ]
    },
    {
     "name": "stderr",
     "output_type": "stream",
     "text": [
      "52 images processed, 52 hits (100.0%), 38 indexable (73.1% of hits, 73.1% overall), 38 crystals, 10.4 images/sec.\n",
      "88 images processed, 88 hits (100.0%), 53 indexable (60.2% of hits, 60.2% overall), 53 crystals, 6.6 images/sec.\n",
      "126 images processed, 126 hits (100.0%), 65 indexable (51.6% of hits, 51.6% overall), 65 crystals, 7.6 images/sec.\n",
      "166 images processed, 166 hits (100.0%), 81 indexable (48.8% of hits, 48.8% overall), 81 crystals, 7.9 images/sec.\n",
      "212 images processed, 212 hits (100.0%), 101 indexable (47.6% of hits, 47.6% overall), 101 crystals, 9.0 images/sec.\n",
      "267 images processed, 267 hits (100.0%), 139 indexable (52.1% of hits, 52.1% overall), 139 crystals, 10.8 images/sec.\n",
      "Waiting for the last patterns to be processed...\n",
      "Final: 300 images processed, 300 hits (100.0%), 162 indexable (54.0% of hits, 54.0% overall), 162 crystals.\n",
      "Processing XY pairs:  25%|██▍       | 77/313 [27:40<1:54:51, 29.20s/it]This is what I understood your unit cell to be:\n",
      "cubic P, right handed.\n",
      "a      b      c            alpha   beta  gamma\n",
      " 11.87  11.87  11.87 A     90.00  90.00  90.00 deg\n",
      "List of indexing methods:\n",
      "   0: xgandalf-nolatt-cell      (xgandalf using cell parameters as prior information)\n",
      "Indexing parameters:\n",
      "                  Check unit cell parameters: on\n",
      "                        Check peak alignment: on\n",
      "                   Refine indexing solutions: off\n",
      " Multi-lattice indexing (\"delete and retry\"): off\n",
      "                              Retry indexing: on\n"
     ]
    },
    {
     "name": "stdout",
     "output_type": "stream",
     "text": [
      "Running for x=-513.0, y=-512.5\n"
     ]
    },
    {
     "name": "stderr",
     "output_type": "stream",
     "text": [
      "77 images processed, 77 hits (100.0%), 73 indexable (94.8% of hits, 94.8% overall), 73 crystals, 15.1 images/sec.\n",
      "156 images processed, 156 hits (100.0%), 151 indexable (96.8% of hits, 96.8% overall), 151 crystals, 15.7 images/sec.\n",
      "208 images processed, 208 hits (100.0%), 190 indexable (91.3% of hits, 91.3% overall), 190 crystals, 10.3 images/sec.\n",
      "264 images processed, 264 hits (100.0%), 231 indexable (87.5% of hits, 87.5% overall), 231 crystals, 10.5 images/sec.\n",
      "Waiting for the last patterns to be processed...\n",
      "Final: 300 images processed, 300 hits (100.0%), 259 indexable (86.3% of hits, 86.3% overall), 259 crystals.\n",
      "Processing XY pairs:  25%|██▍       | 78/313 [28:04<1:48:44, 27.76s/it]This is what I understood your unit cell to be:\n",
      "cubic P, right handed.\n",
      "a      b      c            alpha   beta  gamma\n",
      " 11.87  11.87  11.87 A     90.00  90.00  90.00 deg\n",
      "List of indexing methods:\n",
      "   0: xgandalf-nolatt-cell      (xgandalf using cell parameters as prior information)\n",
      "Indexing parameters:\n",
      "                  Check unit cell parameters: on\n",
      "                        Check peak alignment: on\n",
      "                   Refine indexing solutions: off\n",
      " Multi-lattice indexing (\"delete and retry\"): off\n",
      "                              Retry indexing: on\n"
     ]
    },
    {
     "name": "stdout",
     "output_type": "stream",
     "text": [
      "Running for x=-512.5, y=-513.0\n"
     ]
    },
    {
     "name": "stderr",
     "output_type": "stream",
     "text": [
      "53 images processed, 53 hits (100.0%), 36 indexable (67.9% of hits, 67.9% overall), 36 crystals, 10.6 images/sec.\n",
      "117 images processed, 117 hits (100.0%), 90 indexable (76.9% of hits, 76.9% overall), 90 crystals, 12.8 images/sec.\n",
      "192 images processed, 192 hits (100.0%), 157 indexable (81.8% of hits, 81.8% overall), 157 crystals, 14.7 images/sec.\n",
      "272 images processed, 272 hits (100.0%), 229 indexable (84.2% of hits, 84.2% overall), 229 crystals, 15.9 images/sec.\n",
      "Waiting for the last patterns to be processed...\n",
      "Final: 300 images processed, 300 hits (100.0%), 248 indexable (82.7% of hits, 82.7% overall), 248 crystals.\n",
      "Processing XY pairs:  25%|██▌       | 79/313 [28:28<1:43:24, 26.52s/it]This is what I understood your unit cell to be:\n",
      "cubic P, right handed.\n",
      "a      b      c            alpha   beta  gamma\n",
      " 11.87  11.87  11.87 A     90.00  90.00  90.00 deg\n",
      "List of indexing methods:\n",
      "   0: xgandalf-nolatt-cell      (xgandalf using cell parameters as prior information)\n",
      "Indexing parameters:\n",
      "                  Check unit cell parameters: on\n",
      "                        Check peak alignment: on\n",
      "                   Refine indexing solutions: off\n",
      " Multi-lattice indexing (\"delete and retry\"): off\n",
      "                              Retry indexing: on\n"
     ]
    },
    {
     "name": "stdout",
     "output_type": "stream",
     "text": [
      "Running for x=-512.5, y=-512.0\n"
     ]
    },
    {
     "name": "stderr",
     "output_type": "stream",
     "text": [
      "39 images processed, 39 hits (100.0%), 22 indexable (56.4% of hits, 56.4% overall), 22 crystals, 7.7 images/sec.\n",
      "76 images processed, 76 hits (100.0%), 37 indexable (48.7% of hits, 48.7% overall), 37 crystals, 7.3 images/sec.\n",
      "117 images processed, 117 hits (100.0%), 51 indexable (43.6% of hits, 43.6% overall), 51 crystals, 8.1 images/sec.\n",
      "163 images processed, 163 hits (100.0%), 73 indexable (44.8% of hits, 44.8% overall), 73 crystals, 9.1 images/sec.\n",
      "213 images processed, 213 hits (100.0%), 105 indexable (49.3% of hits, 49.3% overall), 105 crystals, 10.0 images/sec.\n",
      "Waiting for the last patterns to be processed...\n",
      "281 images processed, 281 hits (100.0%), 160 indexable (56.9% of hits, 56.9% overall), 160 crystals, 13.3 images/sec.\n",
      "Final: 300 images processed, 300 hits (100.0%), 171 indexable (57.0% of hits, 57.0% overall), 171 crystals.\n",
      "Processing XY pairs:  26%|██▌       | 80/313 [29:01<1:50:37, 28.49s/it]This is what I understood your unit cell to be:\n",
      "cubic P, right handed.\n",
      "a      b      c            alpha   beta  gamma\n",
      " 11.87  11.87  11.87 A     90.00  90.00  90.00 deg\n",
      "List of indexing methods:\n",
      "   0: xgandalf-nolatt-cell      (xgandalf using cell parameters as prior information)\n",
      "Indexing parameters:\n",
      "                  Check unit cell parameters: on\n",
      "                        Check peak alignment: on\n",
      "                   Refine indexing solutions: off\n",
      " Multi-lattice indexing (\"delete and retry\"): off\n",
      "                              Retry indexing: on\n"
     ]
    },
    {
     "name": "stdout",
     "output_type": "stream",
     "text": [
      "Running for x=-512.0, y=-512.5\n"
     ]
    },
    {
     "name": "stderr",
     "output_type": "stream",
     "text": [
      "64 images processed, 64 hits (100.0%), 55 indexable (85.9% of hits, 85.9% overall), 55 crystals, 12.3 images/sec.\n",
      "117 images processed, 117 hits (100.0%), 95 indexable (81.2% of hits, 81.2% overall), 95 crystals, 10.5 images/sec.\n",
      "163 images processed, 163 hits (100.0%), 128 indexable (78.5% of hits, 78.5% overall), 128 crystals, 9.0 images/sec.\n",
      "206 images processed, 206 hits (100.0%), 156 indexable (75.7% of hits, 75.7% overall), 156 crystals, 8.5 images/sec.\n",
      "254 images processed, 254 hits (100.0%), 182 indexable (71.7% of hits, 71.7% overall), 182 crystals, 9.6 images/sec.\n",
      "Waiting for the last patterns to be processed...\n",
      "Final: 300 images processed, 300 hits (100.0%), 209 indexable (69.7% of hits, 69.7% overall), 209 crystals.\n",
      "Processing XY pairs:  26%|██▌       | 81/313 [29:31<1:52:45, 29.16s/it]This is what I understood your unit cell to be:\n",
      "cubic P, right handed.\n",
      "a      b      c            alpha   beta  gamma\n",
      " 11.87  11.87  11.87 A     90.00  90.00  90.00 deg\n",
      "List of indexing methods:\n",
      "   0: xgandalf-nolatt-cell      (xgandalf using cell parameters as prior information)\n",
      "Indexing parameters:\n",
      "                  Check unit cell parameters: on\n",
      "                        Check peak alignment: on\n",
      "                   Refine indexing solutions: off\n",
      " Multi-lattice indexing (\"delete and retry\"): off\n",
      "                              Retry indexing: on\n"
     ]
    },
    {
     "name": "stdout",
     "output_type": "stream",
     "text": [
      "Running for x=-513.0, y=-512.6\n"
     ]
    },
    {
     "name": "stderr",
     "output_type": "stream",
     "text": [
      "81 images processed, 81 hits (100.0%), 75 indexable (92.6% of hits, 92.6% overall), 75 crystals, 16.0 images/sec.\n",
      "163 images processed, 163 hits (100.0%), 153 indexable (93.9% of hits, 93.9% overall), 153 crystals, 16.3 images/sec.\n",
      "214 images processed, 214 hits (100.0%), 192 indexable (89.7% of hits, 89.7% overall), 192 crystals, 9.8 images/sec.\n",
      "269 images processed, 269 hits (100.0%), 232 indexable (86.2% of hits, 86.2% overall), 232 crystals, 10.6 images/sec.\n",
      "Waiting for the last patterns to be processed...\n",
      "Final: 300 images processed, 300 hits (100.0%), 253 indexable (84.3% of hits, 84.3% overall), 253 crystals.\n",
      "Processing XY pairs:  26%|██▌       | 82/313 [29:54<1:44:53, 27.25s/it]This is what I understood your unit cell to be:\n",
      "cubic P, right handed.\n",
      "a      b      c            alpha   beta  gamma\n",
      " 11.87  11.87  11.87 A     90.00  90.00  90.00 deg\n",
      "List of indexing methods:\n",
      "   0: xgandalf-nolatt-cell      (xgandalf using cell parameters as prior information)\n",
      "Indexing parameters:\n",
      "                  Check unit cell parameters: on\n",
      "                        Check peak alignment: on\n",
      "                   Refine indexing solutions: off\n",
      " Multi-lattice indexing (\"delete and retry\"): off\n",
      "                              Retry indexing: on\n"
     ]
    },
    {
     "name": "stdout",
     "output_type": "stream",
     "text": [
      "Running for x=-513.0, y=-512.4\n"
     ]
    },
    {
     "name": "stderr",
     "output_type": "stream",
     "text": [
      "70 images processed, 70 hits (100.0%), 64 indexable (91.4% of hits, 91.4% overall), 64 crystals, 13.9 images/sec.\n",
      "137 images processed, 137 hits (100.0%), 124 indexable (90.5% of hits, 90.5% overall), 124 crystals, 13.2 images/sec.\n",
      "199 images processed, 199 hits (100.0%), 172 indexable (86.4% of hits, 86.4% overall), 172 crystals, 11.9 images/sec.\n",
      "253 images processed, 253 hits (100.0%), 213 indexable (84.2% of hits, 84.2% overall), 213 crystals, 10.7 images/sec.\n",
      "Waiting for the last patterns to be processed...\n",
      "Final: 300 images processed, 300 hits (100.0%), 254 indexable (84.7% of hits, 84.7% overall), 254 crystals.\n",
      "Processing XY pairs:  27%|██▋       | 83/313 [30:19<1:41:48, 26.56s/it]This is what I understood your unit cell to be:\n",
      "cubic P, right handed.\n",
      "a      b      c            alpha   beta  gamma\n",
      " 11.87  11.87  11.87 A     90.00  90.00  90.00 deg\n",
      "List of indexing methods:\n",
      "   0: xgandalf-nolatt-cell      (xgandalf using cell parameters as prior information)\n",
      "Indexing parameters:\n",
      "                  Check unit cell parameters: on\n",
      "                        Check peak alignment: on\n",
      "                   Refine indexing solutions: off\n",
      " Multi-lattice indexing (\"delete and retry\"): off\n",
      "                              Retry indexing: on\n"
     ]
    },
    {
     "name": "stdout",
     "output_type": "stream",
     "text": [
      "Running for x=-512.6, y=-513.0\n"
     ]
    },
    {
     "name": "stderr",
     "output_type": "stream",
     "text": [
      "47 images processed, 47 hits (100.0%), 32 indexable (68.1% of hits, 68.1% overall), 32 crystals, 9.3 images/sec.\n",
      "113 images processed, 113 hits (100.0%), 89 indexable (78.8% of hits, 78.8% overall), 89 crystals, 13.2 images/sec.\n",
      "181 images processed, 181 hits (100.0%), 149 indexable (82.3% of hits, 82.3% overall), 149 crystals, 13.4 images/sec.\n",
      "264 images processed, 264 hits (100.0%), 223 indexable (84.5% of hits, 84.5% overall), 223 crystals, 16.3 images/sec.\n",
      "Waiting for the last patterns to be processed...\n",
      "Final: 300 images processed, 300 hits (100.0%), 249 indexable (83.0% of hits, 83.0% overall), 249 crystals.\n",
      "Processing XY pairs:  27%|██▋       | 84/313 [30:43<1:38:35, 25.83s/it]This is what I understood your unit cell to be:\n",
      "cubic P, right handed.\n",
      "a      b      c            alpha   beta  gamma\n",
      " 11.87  11.87  11.87 A     90.00  90.00  90.00 deg\n",
      "List of indexing methods:\n",
      "   0: xgandalf-nolatt-cell      (xgandalf using cell parameters as prior information)\n",
      "Indexing parameters:\n",
      "                  Check unit cell parameters: on\n",
      "                        Check peak alignment: on\n",
      "                   Refine indexing solutions: off\n",
      " Multi-lattice indexing (\"delete and retry\"): off\n",
      "                              Retry indexing: on\n"
     ]
    },
    {
     "name": "stdout",
     "output_type": "stream",
     "text": [
      "Running for x=-512.6, y=-512.0\n"
     ]
    },
    {
     "name": "stderr",
     "output_type": "stream",
     "text": [
      "42 images processed, 42 hits (100.0%), 23 indexable (54.8% of hits, 54.8% overall), 23 crystals, 8.3 images/sec.\n",
      "79 images processed, 79 hits (100.0%), 39 indexable (49.4% of hits, 49.4% overall), 39 crystals, 7.3 images/sec.\n",
      "123 images processed, 123 hits (100.0%), 57 indexable (46.3% of hits, 46.3% overall), 57 crystals, 8.7 images/sec.\n",
      "170 images processed, 170 hits (100.0%), 89 indexable (52.4% of hits, 52.4% overall), 89 crystals, 9.1 images/sec.\n",
      "245 images processed, 245 hits (100.0%), 149 indexable (60.8% of hits, 60.8% overall), 149 crystals, 14.8 images/sec.\n",
      "Waiting for the last patterns to be processed...\n",
      "Final: 300 images processed, 300 hits (100.0%), 192 indexable (64.0% of hits, 64.0% overall), 192 crystals.\n",
      "Processing XY pairs:  27%|██▋       | 85/313 [31:13<1:42:47, 27.05s/it]This is what I understood your unit cell to be:\n",
      "cubic P, right handed.\n",
      "a      b      c            alpha   beta  gamma\n",
      " 11.87  11.87  11.87 A     90.00  90.00  90.00 deg\n",
      "List of indexing methods:\n",
      "   0: xgandalf-nolatt-cell      (xgandalf using cell parameters as prior information)\n",
      "Indexing parameters:\n",
      "                  Check unit cell parameters: on\n",
      "                        Check peak alignment: on\n",
      "                   Refine indexing solutions: off\n",
      " Multi-lattice indexing (\"delete and retry\"): off\n",
      "                              Retry indexing: on\n"
     ]
    },
    {
     "name": "stdout",
     "output_type": "stream",
     "text": [
      "Running for x=-512.4, y=-513.0\n"
     ]
    },
    {
     "name": "stderr",
     "output_type": "stream",
     "text": [
      "53 images processed, 53 hits (100.0%), 41 indexable (77.4% of hits, 77.4% overall), 41 crystals, 10.6 images/sec.\n",
      "113 images processed, 113 hits (100.0%), 91 indexable (80.5% of hits, 80.5% overall), 91 crystals, 11.8 images/sec.\n",
      "176 images processed, 176 hits (100.0%), 145 indexable (82.4% of hits, 82.4% overall), 145 crystals, 12.6 images/sec.\n",
      "245 images processed, 245 hits (100.0%), 204 indexable (83.3% of hits, 83.3% overall), 204 crystals, 13.7 images/sec.\n",
      "Waiting for the last patterns to be processed...\n",
      "Final: 300 images processed, 300 hits (100.0%), 247 indexable (82.3% of hits, 82.3% overall), 247 crystals.\n",
      "Processing XY pairs:  27%|██▋       | 86/313 [31:38<1:39:23, 26.27s/it]This is what I understood your unit cell to be:\n",
      "cubic P, right handed.\n",
      "a      b      c            alpha   beta  gamma\n",
      " 11.87  11.87  11.87 A     90.00  90.00  90.00 deg\n",
      "List of indexing methods:\n",
      "   0: xgandalf-nolatt-cell      (xgandalf using cell parameters as prior information)\n",
      "Indexing parameters:\n",
      "                  Check unit cell parameters: on\n",
      "                        Check peak alignment: on\n",
      "                   Refine indexing solutions: off\n",
      " Multi-lattice indexing (\"delete and retry\"): off\n",
      "                              Retry indexing: on\n"
     ]
    },
    {
     "name": "stdout",
     "output_type": "stream",
     "text": [
      "Running for x=-512.4, y=-512.0\n"
     ]
    },
    {
     "name": "stderr",
     "output_type": "stream",
     "text": [
      "33 images processed, 33 hits (100.0%), 19 indexable (57.6% of hits, 57.6% overall), 19 crystals, 6.5 images/sec.\n",
      "78 images processed, 78 hits (100.0%), 34 indexable (43.6% of hits, 43.6% overall), 34 crystals, 8.5 images/sec.\n",
      "117 images processed, 117 hits (100.0%), 42 indexable (35.9% of hits, 35.9% overall), 42 crystals, 7.2 images/sec.\n",
      "157 images processed, 157 hits (100.0%), 60 indexable (38.2% of hits, 38.2% overall), 60 crystals, 7.9 images/sec.\n",
      "204 images processed, 204 hits (100.0%), 81 indexable (39.7% of hits, 39.7% overall), 81 crystals, 9.4 images/sec.\n",
      "267 images processed, 267 hits (100.0%), 132 indexable (49.4% of hits, 49.4% overall), 132 crystals, 12.4 images/sec.\n",
      "Waiting for the last patterns to be processed...\n",
      "Final: 300 images processed, 300 hits (100.0%), 155 indexable (51.7% of hits, 51.7% overall), 155 crystals.\n",
      "Processing XY pairs:  28%|██▊       | 87/313 [32:12<1:48:01, 28.68s/it]This is what I understood your unit cell to be:\n",
      "cubic P, right handed.\n",
      "a      b      c            alpha   beta  gamma\n",
      " 11.87  11.87  11.87 A     90.00  90.00  90.00 deg\n",
      "List of indexing methods:\n",
      "   0: xgandalf-nolatt-cell      (xgandalf using cell parameters as prior information)\n",
      "Indexing parameters:\n",
      "                  Check unit cell parameters: on\n",
      "                        Check peak alignment: on\n",
      "                   Refine indexing solutions: off\n",
      " Multi-lattice indexing (\"delete and retry\"): off\n",
      "                              Retry indexing: on\n"
     ]
    },
    {
     "name": "stdout",
     "output_type": "stream",
     "text": [
      "Running for x=-512.0, y=-512.6\n"
     ]
    },
    {
     "name": "stderr",
     "output_type": "stream",
     "text": [
      "63 images processed, 63 hits (100.0%), 55 indexable (87.3% of hits, 87.3% overall), 55 crystals, 12.5 images/sec.\n",
      "122 images processed, 122 hits (100.0%), 105 indexable (86.1% of hits, 86.1% overall), 105 crystals, 11.8 images/sec.\n",
      "167 images processed, 167 hits (100.0%), 139 indexable (83.2% of hits, 83.2% overall), 139 crystals, 9.0 images/sec.\n",
      "216 images processed, 216 hits (100.0%), 171 indexable (79.2% of hits, 79.2% overall), 171 crystals, 9.4 images/sec.\n",
      "262 images processed, 262 hits (100.0%), 201 indexable (76.7% of hits, 76.7% overall), 201 crystals, 8.9 images/sec.\n",
      "Waiting for the last patterns to be processed...\n",
      "Final: 300 images processed, 300 hits (100.0%), 224 indexable (74.7% of hits, 74.7% overall), 224 crystals.\n",
      "Processing XY pairs:  28%|██▊       | 88/313 [32:42<1:49:08, 29.11s/it]This is what I understood your unit cell to be:\n",
      "cubic P, right handed.\n",
      "a      b      c            alpha   beta  gamma\n",
      " 11.87  11.87  11.87 A     90.00  90.00  90.00 deg\n",
      "List of indexing methods:\n",
      "   0: xgandalf-nolatt-cell      (xgandalf using cell parameters as prior information)\n",
      "Indexing parameters:\n",
      "                  Check unit cell parameters: on\n",
      "                        Check peak alignment: on\n",
      "                   Refine indexing solutions: off\n",
      " Multi-lattice indexing (\"delete and retry\"): off\n",
      "                              Retry indexing: on\n"
     ]
    },
    {
     "name": "stdout",
     "output_type": "stream",
     "text": [
      "Running for x=-512.0, y=-512.4\n"
     ]
    },
    {
     "name": "stderr",
     "output_type": "stream",
     "text": [
      "62 images processed, 62 hits (100.0%), 51 indexable (82.3% of hits, 82.3% overall), 51 crystals, 12.1 images/sec.\n",
      "98 images processed, 98 hits (100.0%), 76 indexable (77.6% of hits, 77.6% overall), 76 crystals, 7.1 images/sec.\n",
      "142 images processed, 142 hits (100.0%), 99 indexable (69.7% of hits, 69.7% overall), 99 crystals, 8.7 images/sec.\n",
      "179 images processed, 179 hits (100.0%), 114 indexable (63.7% of hits, 63.7% overall), 114 crystals, 7.3 images/sec.\n",
      "218 images processed, 218 hits (100.0%), 130 indexable (59.6% of hits, 59.6% overall), 130 crystals, 7.6 images/sec.\n",
      "271 images processed, 271 hits (100.0%), 167 indexable (61.6% of hits, 61.6% overall), 167 crystals, 10.4 images/sec.\n",
      "Waiting for the last patterns to be processed...\n",
      "Final: 300 images processed, 300 hits (100.0%), 187 indexable (62.3% of hits, 62.3% overall), 187 crystals.\n",
      "Processing XY pairs:  28%|██▊       | 89/313 [33:16<1:54:11, 30.58s/it]This is what I understood your unit cell to be:\n",
      "cubic P, right handed.\n",
      "a      b      c            alpha   beta  gamma\n",
      " 11.87  11.87  11.87 A     90.00  90.00  90.00 deg\n",
      "List of indexing methods:\n",
      "   0: xgandalf-nolatt-cell      (xgandalf using cell parameters as prior information)\n",
      "Indexing parameters:\n",
      "                  Check unit cell parameters: on\n",
      "                        Check peak alignment: on\n",
      "                   Refine indexing solutions: off\n",
      " Multi-lattice indexing (\"delete and retry\"): off\n",
      "                              Retry indexing: on\n"
     ]
    },
    {
     "name": "stdout",
     "output_type": "stream",
     "text": [
      "Running for x=-513.0, y=-512.7\n"
     ]
    },
    {
     "name": "stderr",
     "output_type": "stream",
     "text": [
      "76 images processed, 76 hits (100.0%), 69 indexable (90.8% of hits, 90.8% overall), 69 crystals, 15.1 images/sec.\n",
      "159 images processed, 159 hits (100.0%), 147 indexable (92.5% of hits, 92.5% overall), 147 crystals, 16.5 images/sec.\n",
      "218 images processed, 218 hits (100.0%), 197 indexable (90.4% of hits, 90.4% overall), 197 crystals, 11.7 images/sec.\n",
      "266 images processed, 266 hits (100.0%), 236 indexable (88.7% of hits, 88.7% overall), 236 crystals, 9.3 images/sec.\n",
      "Waiting for the last patterns to be processed...\n",
      "Final: 300 images processed, 300 hits (100.0%), 261 indexable (87.0% of hits, 87.0% overall), 261 crystals.\n",
      "Processing XY pairs:  29%|██▉       | 90/313 [33:39<1:45:17, 28.33s/it]This is what I understood your unit cell to be:\n",
      "cubic P, right handed.\n",
      "a      b      c            alpha   beta  gamma\n",
      " 11.87  11.87  11.87 A     90.00  90.00  90.00 deg\n",
      "List of indexing methods:\n",
      "   0: xgandalf-nolatt-cell      (xgandalf using cell parameters as prior information)\n",
      "Indexing parameters:\n",
      "                  Check unit cell parameters: on\n",
      "                        Check peak alignment: on\n",
      "                   Refine indexing solutions: off\n",
      " Multi-lattice indexing (\"delete and retry\"): off\n",
      "                              Retry indexing: on\n"
     ]
    },
    {
     "name": "stdout",
     "output_type": "stream",
     "text": [
      "Running for x=-513.0, y=-512.3\n"
     ]
    },
    {
     "name": "stderr",
     "output_type": "stream",
     "text": [
      "61 images processed, 61 hits (100.0%), 48 indexable (78.7% of hits, 78.7% overall), 48 crystals, 12.2 images/sec.\n",
      "117 images processed, 117 hits (100.0%), 97 indexable (82.9% of hits, 82.9% overall), 97 crystals, 11.0 images/sec.\n",
      "170 images processed, 170 hits (100.0%), 134 indexable (78.8% of hits, 78.8% overall), 134 crystals, 10.3 images/sec.\n",
      "222 images processed, 222 hits (100.0%), 169 indexable (76.1% of hits, 76.1% overall), 169 crystals, 10.3 images/sec.\n",
      "Waiting for the last patterns to be processed...\n",
      "287 images processed, 287 hits (100.0%), 219 indexable (76.3% of hits, 76.3% overall), 219 crystals, 12.9 images/sec.\n",
      "Final: 300 images processed, 300 hits (100.0%), 229 indexable (76.3% of hits, 76.3% overall), 229 crystals.\n",
      "Processing XY pairs:  29%|██▉       | 91/313 [34:07<1:44:11, 28.16s/it]This is what I understood your unit cell to be:\n",
      "cubic P, right handed.\n",
      "a      b      c            alpha   beta  gamma\n",
      " 11.87  11.87  11.87 A     90.00  90.00  90.00 deg\n",
      "List of indexing methods:\n",
      "   0: xgandalf-nolatt-cell      (xgandalf using cell parameters as prior information)\n",
      "Indexing parameters:\n",
      "                  Check unit cell parameters: on\n",
      "                        Check peak alignment: on\n",
      "                   Refine indexing solutions: off\n",
      " Multi-lattice indexing (\"delete and retry\"): off\n",
      "                              Retry indexing: on\n"
     ]
    },
    {
     "name": "stdout",
     "output_type": "stream",
     "text": [
      "Running for x=-512.7, y=-513.0\n"
     ]
    },
    {
     "name": "stderr",
     "output_type": "stream",
     "text": [
      "55 images processed, 55 hits (100.0%), 42 indexable (76.4% of hits, 76.4% overall), 42 crystals, 10.9 images/sec.\n",
      "121 images processed, 121 hits (100.0%), 99 indexable (81.8% of hits, 81.8% overall), 99 crystals, 13.1 images/sec.\n",
      "198 images processed, 198 hits (100.0%), 167 indexable (84.3% of hits, 84.3% overall), 167 crystals, 15.3 images/sec.\n",
      "271 images processed, 271 hits (100.0%), 229 indexable (84.5% of hits, 84.5% overall), 229 crystals, 14.4 images/sec.\n",
      "Waiting for the last patterns to be processed...\n",
      "Final: 300 images processed, 300 hits (100.0%), 249 indexable (83.0% of hits, 83.0% overall), 249 crystals.\n",
      "Processing XY pairs:  29%|██▉       | 92/313 [34:31<1:39:02, 26.89s/it]This is what I understood your unit cell to be:\n",
      "cubic P, right handed.\n",
      "a      b      c            alpha   beta  gamma\n",
      " 11.87  11.87  11.87 A     90.00  90.00  90.00 deg\n",
      "List of indexing methods:\n",
      "   0: xgandalf-nolatt-cell      (xgandalf using cell parameters as prior information)\n",
      "Indexing parameters:\n",
      "                  Check unit cell parameters: on\n",
      "                        Check peak alignment: on\n",
      "                   Refine indexing solutions: off\n",
      " Multi-lattice indexing (\"delete and retry\"): off\n",
      "                              Retry indexing: on\n"
     ]
    },
    {
     "name": "stdout",
     "output_type": "stream",
     "text": [
      "Running for x=-512.7, y=-512.0\n"
     ]
    },
    {
     "name": "stderr",
     "output_type": "stream",
     "text": [
      "41 images processed, 41 hits (100.0%), 26 indexable (63.4% of hits, 63.4% overall), 26 crystals, 8.0 images/sec.\n",
      "84 images processed, 84 hits (100.0%), 50 indexable (59.5% of hits, 59.5% overall), 50 crystals, 8.4 images/sec.\n",
      "134 images processed, 134 hits (100.0%), 78 indexable (58.2% of hits, 58.2% overall), 78 crystals, 10.0 images/sec.\n",
      "185 images processed, 185 hits (100.0%), 114 indexable (61.6% of hits, 61.6% overall), 114 crystals, 10.1 images/sec.\n",
      "248 images processed, 248 hits (100.0%), 163 indexable (65.7% of hits, 65.7% overall), 163 crystals, 12.6 images/sec.\n",
      "Waiting for the last patterns to be processed...\n",
      "Final: 300 images processed, 300 hits (100.0%), 201 indexable (67.0% of hits, 67.0% overall), 201 crystals.\n",
      "Processing XY pairs:  30%|██▉       | 93/313 [35:01<1:42:36, 27.98s/it]This is what I understood your unit cell to be:\n",
      "cubic P, right handed.\n",
      "a      b      c            alpha   beta  gamma\n",
      " 11.87  11.87  11.87 A     90.00  90.00  90.00 deg\n",
      "List of indexing methods:\n",
      "   0: xgandalf-nolatt-cell      (xgandalf using cell parameters as prior information)\n",
      "Indexing parameters:\n",
      "                  Check unit cell parameters: on\n",
      "                        Check peak alignment: on\n",
      "                   Refine indexing solutions: off\n",
      " Multi-lattice indexing (\"delete and retry\"): off\n",
      "                              Retry indexing: on\n"
     ]
    },
    {
     "name": "stdout",
     "output_type": "stream",
     "text": [
      "Running for x=-512.3, y=-513.0\n"
     ]
    },
    {
     "name": "stderr",
     "output_type": "stream",
     "text": [
      "55 images processed, 55 hits (100.0%), 44 indexable (80.0% of hits, 80.0% overall), 44 crystals, 10.8 images/sec.\n",
      "119 images processed, 119 hits (100.0%), 94 indexable (79.0% of hits, 79.0% overall), 94 crystals, 12.4 images/sec.\n",
      "179 images processed, 179 hits (100.0%), 144 indexable (80.4% of hits, 80.4% overall), 144 crystals, 11.7 images/sec.\n",
      "245 images processed, 245 hits (100.0%), 201 indexable (82.0% of hits, 82.0% overall), 201 crystals, 13.1 images/sec.\n",
      "Waiting for the last patterns to be processed...\n",
      "Final: 300 images processed, 300 hits (100.0%), 244 indexable (81.3% of hits, 81.3% overall), 244 crystals.\n",
      "Processing XY pairs:  30%|███       | 94/313 [35:26<1:38:54, 27.10s/it]This is what I understood your unit cell to be:\n",
      "cubic P, right handed.\n",
      "a      b      c            alpha   beta  gamma\n",
      " 11.87  11.87  11.87 A     90.00  90.00  90.00 deg\n",
      "List of indexing methods:\n",
      "   0: xgandalf-nolatt-cell      (xgandalf using cell parameters as prior information)\n",
      "Indexing parameters:\n",
      "                  Check unit cell parameters: on\n",
      "                        Check peak alignment: on\n",
      "                   Refine indexing solutions: off\n",
      " Multi-lattice indexing (\"delete and retry\"): off\n",
      "                              Retry indexing: on\n"
     ]
    },
    {
     "name": "stdout",
     "output_type": "stream",
     "text": [
      "Running for x=-512.3, y=-512.0\n"
     ]
    },
    {
     "name": "stderr",
     "output_type": "stream",
     "text": [
      "38 images processed, 38 hits (100.0%), 21 indexable (55.3% of hits, 55.3% overall), 21 crystals, 7.4 images/sec.\n",
      "72 images processed, 72 hits (100.0%), 28 indexable (38.9% of hits, 38.9% overall), 28 crystals, 6.8 images/sec.\n",
      "111 images processed, 111 hits (100.0%), 37 indexable (33.3% of hits, 33.3% overall), 37 crystals, 7.8 images/sec.\n",
      "146 images processed, 146 hits (100.0%), 41 indexable (28.1% of hits, 28.1% overall), 41 crystals, 6.9 images/sec.\n",
      "188 images processed, 188 hits (100.0%), 59 indexable (31.4% of hits, 31.4% overall), 59 crystals, 8.3 images/sec.\n",
      "237 images processed, 237 hits (100.0%), 84 indexable (35.4% of hits, 35.4% overall), 84 crystals, 9.8 images/sec.\n",
      "Waiting for the last patterns to be processed...\n",
      "300 images processed, 300 hits (100.0%), 134 indexable (44.7% of hits, 44.7% overall), 134 crystals, 12.5 images/sec.\n",
      "Final: 300 images processed, 300 hits (100.0%), 134 indexable (44.7% of hits, 44.7% overall), 134 crystals.\n",
      "Processing XY pairs:  30%|███       | 95/313 [36:04<1:49:42, 30.19s/it]This is what I understood your unit cell to be:\n",
      "cubic P, right handed.\n",
      "a      b      c            alpha   beta  gamma\n",
      " 11.87  11.87  11.87 A     90.00  90.00  90.00 deg\n",
      "List of indexing methods:\n",
      "   0: xgandalf-nolatt-cell      (xgandalf using cell parameters as prior information)\n",
      "Indexing parameters:\n",
      "                  Check unit cell parameters: on\n",
      "                        Check peak alignment: on\n",
      "                   Refine indexing solutions: off\n",
      " Multi-lattice indexing (\"delete and retry\"): off\n",
      "                              Retry indexing: on\n"
     ]
    },
    {
     "name": "stdout",
     "output_type": "stream",
     "text": [
      "Running for x=-512.0, y=-512.7\n"
     ]
    },
    {
     "name": "stderr",
     "output_type": "stream",
     "text": [
      "58 images processed, 58 hits (100.0%), 52 indexable (89.7% of hits, 89.7% overall), 52 crystals, 11.6 images/sec.\n",
      "125 images processed, 125 hits (100.0%), 115 indexable (92.0% of hits, 92.0% overall), 115 crystals, 13.1 images/sec.\n",
      "179 images processed, 179 hits (100.0%), 161 indexable (89.9% of hits, 89.9% overall), 161 crystals, 10.6 images/sec.\n",
      "231 images processed, 231 hits (100.0%), 196 indexable (84.8% of hits, 84.8% overall), 196 crystals, 10.2 images/sec.\n",
      "Waiting for the last patterns to be processed...\n",
      "277 images processed, 277 hits (100.0%), 224 indexable (80.9% of hits, 80.9% overall), 224 crystals, 8.9 images/sec.\n",
      "Final: 300 images processed, 300 hits (100.0%), 234 indexable (78.0% of hits, 78.0% overall), 234 crystals.\n",
      "Processing XY pairs:  31%|███       | 96/313 [36:31<1:46:25, 29.43s/it]This is what I understood your unit cell to be:\n",
      "cubic P, right handed.\n",
      "a      b      c            alpha   beta  gamma\n",
      " 11.87  11.87  11.87 A     90.00  90.00  90.00 deg\n",
      "List of indexing methods:\n",
      "   0: xgandalf-nolatt-cell      (xgandalf using cell parameters as prior information)\n",
      "Indexing parameters:\n",
      "                  Check unit cell parameters: on\n",
      "                        Check peak alignment: on\n",
      "                   Refine indexing solutions: off\n",
      " Multi-lattice indexing (\"delete and retry\"): off\n",
      "                              Retry indexing: on\n"
     ]
    },
    {
     "name": "stdout",
     "output_type": "stream",
     "text": [
      "Running for x=-512.0, y=-512.3\n"
     ]
    },
    {
     "name": "stderr",
     "output_type": "stream",
     "text": [
      "52 images processed, 52 hits (100.0%), 40 indexable (76.9% of hits, 76.9% overall), 40 crystals, 10.0 images/sec.\n",
      "93 images processed, 93 hits (100.0%), 63 indexable (67.7% of hits, 67.7% overall), 63 crystals, 8.2 images/sec.\n",
      "136 images processed, 136 hits (100.0%), 80 indexable (58.8% of hits, 58.8% overall), 80 crystals, 8.2 images/sec.\n",
      "174 images processed, 174 hits (100.0%), 94 indexable (54.0% of hits, 54.0% overall), 94 crystals, 7.6 images/sec.\n",
      "216 images processed, 216 hits (100.0%), 109 indexable (50.5% of hits, 50.5% overall), 109 crystals, 8.0 images/sec.\n",
      "267 images processed, 267 hits (100.0%), 142 indexable (53.2% of hits, 53.2% overall), 142 crystals, 10.2 images/sec.\n",
      "Waiting for the last patterns to be processed...\n",
      "Final: 300 images processed, 300 hits (100.0%), 161 indexable (53.7% of hits, 53.7% overall), 161 crystals.\n",
      "Processing XY pairs:  31%|███       | 97/313 [37:06<1:51:41, 31.02s/it]This is what I understood your unit cell to be:\n",
      "cubic P, right handed.\n",
      "a      b      c            alpha   beta  gamma\n",
      " 11.87  11.87  11.87 A     90.00  90.00  90.00 deg\n",
      "List of indexing methods:\n",
      "   0: xgandalf-nolatt-cell      (xgandalf using cell parameters as prior information)\n",
      "Indexing parameters:\n",
      "                  Check unit cell parameters: on\n",
      "                        Check peak alignment: on\n",
      "                   Refine indexing solutions: off\n",
      " Multi-lattice indexing (\"delete and retry\"): off\n",
      "                              Retry indexing: on\n"
     ]
    },
    {
     "name": "stdout",
     "output_type": "stream",
     "text": [
      "Running for x=-512.9, y=-512.9\n"
     ]
    },
    {
     "name": "stderr",
     "output_type": "stream",
     "text": [
      "62 images processed, 62 hits (100.0%), 53 indexable (85.5% of hits, 85.5% overall), 53 crystals, 12.4 images/sec.\n",
      "130 images processed, 130 hits (100.0%), 114 indexable (87.7% of hits, 87.7% overall), 114 crystals, 13.5 images/sec.\n",
      "213 images processed, 213 hits (100.0%), 188 indexable (88.3% of hits, 88.3% overall), 188 crystals, 16.5 images/sec.\n",
      "272 images processed, 272 hits (100.0%), 237 indexable (87.1% of hits, 87.1% overall), 237 crystals, 11.5 images/sec.\n",
      "Waiting for the last patterns to be processed...\n",
      "Final: 300 images processed, 300 hits (100.0%), 256 indexable (85.3% of hits, 85.3% overall), 256 crystals.\n",
      "Processing XY pairs:  31%|███▏      | 98/313 [37:30<1:43:11, 28.80s/it]This is what I understood your unit cell to be:\n",
      "cubic P, right handed.\n",
      "a      b      c            alpha   beta  gamma\n",
      " 11.87  11.87  11.87 A     90.00  90.00  90.00 deg\n",
      "List of indexing methods:\n",
      "   0: xgandalf-nolatt-cell      (xgandalf using cell parameters as prior information)\n",
      "Indexing parameters:\n",
      "                  Check unit cell parameters: on\n",
      "                        Check peak alignment: on\n",
      "                   Refine indexing solutions: off\n",
      " Multi-lattice indexing (\"delete and retry\"): off\n",
      "                              Retry indexing: on\n"
     ]
    },
    {
     "name": "stdout",
     "output_type": "stream",
     "text": [
      "Running for x=-512.9, y=-512.1\n"
     ]
    },
    {
     "name": "stderr",
     "output_type": "stream",
     "text": [
      "54 images processed, 54 hits (100.0%), 42 indexable (77.8% of hits, 77.8% overall), 42 crystals, 10.7 images/sec.\n",
      "97 images processed, 97 hits (100.0%), 74 indexable (76.3% of hits, 76.3% overall), 74 crystals, 8.5 images/sec.\n",
      "146 images processed, 146 hits (100.0%), 106 indexable (72.6% of hits, 72.6% overall), 106 crystals, 9.7 images/sec.\n",
      "196 images processed, 196 hits (100.0%), 138 indexable (70.4% of hits, 70.4% overall), 138 crystals, 9.4 images/sec.\n",
      "253 images processed, 253 hits (100.0%), 176 indexable (69.6% of hits, 69.6% overall), 176 crystals, 11.4 images/sec.\n",
      "Waiting for the last patterns to be processed...\n",
      "Final: 300 images processed, 300 hits (100.0%), 209 indexable (69.7% of hits, 69.7% overall), 209 crystals.\n",
      "Processing XY pairs:  32%|███▏      | 99/313 [38:00<1:43:57, 29.15s/it]This is what I understood your unit cell to be:\n",
      "cubic P, right handed.\n",
      "a      b      c            alpha   beta  gamma\n",
      " 11.87  11.87  11.87 A     90.00  90.00  90.00 deg\n",
      "List of indexing methods:\n",
      "   0: xgandalf-nolatt-cell      (xgandalf using cell parameters as prior information)\n",
      "Indexing parameters:\n",
      "                  Check unit cell parameters: on\n",
      "                        Check peak alignment: on\n",
      "                   Refine indexing solutions: off\n",
      " Multi-lattice indexing (\"delete and retry\"): off\n",
      "                              Retry indexing: on\n"
     ]
    },
    {
     "name": "stdout",
     "output_type": "stream",
     "text": [
      "Running for x=-512.1, y=-512.9\n"
     ]
    },
    {
     "name": "stderr",
     "output_type": "stream",
     "text": [
      "56 images processed, 56 hits (100.0%), 44 indexable (78.6% of hits, 78.6% overall), 44 crystals, 10.7 images/sec.\n",
      "114 images processed, 114 hits (100.0%), 86 indexable (75.4% of hits, 75.4% overall), 86 crystals, 11.4 images/sec.\n",
      "182 images processed, 182 hits (100.0%), 145 indexable (79.7% of hits, 79.7% overall), 145 crystals, 13.3 images/sec.\n",
      "240 images processed, 240 hits (100.0%), 190 indexable (79.2% of hits, 79.2% overall), 190 crystals, 11.1 images/sec.\n",
      "Waiting for the last patterns to be processed...\n",
      "290 images processed, 290 hits (100.0%), 223 indexable (76.9% of hits, 76.9% overall), 223 crystals, 9.8 images/sec.\n",
      "Final: 300 images processed, 300 hits (100.0%), 225 indexable (75.0% of hits, 75.0% overall), 225 crystals.\n",
      "Processing XY pairs:  32%|███▏      | 100/313 [38:27<1:41:52, 28.70s/it]This is what I understood your unit cell to be:\n",
      "cubic P, right handed.\n",
      "a      b      c            alpha   beta  gamma\n",
      " 11.87  11.87  11.87 A     90.00  90.00  90.00 deg\n",
      "List of indexing methods:\n",
      "   0: xgandalf-nolatt-cell      (xgandalf using cell parameters as prior information)\n",
      "Indexing parameters:\n",
      "                  Check unit cell parameters: on\n",
      "                        Check peak alignment: on\n",
      "                   Refine indexing solutions: off\n",
      " Multi-lattice indexing (\"delete and retry\"): off\n",
      "                              Retry indexing: on\n"
     ]
    },
    {
     "name": "stdout",
     "output_type": "stream",
     "text": [
      "Running for x=-512.1, y=-512.1\n"
     ]
    },
    {
     "name": "stderr",
     "output_type": "stream",
     "text": [
      "43 images processed, 43 hits (100.0%), 29 indexable (67.4% of hits, 67.4% overall), 29 crystals, 8.5 images/sec.\n",
      "81 images processed, 81 hits (100.0%), 43 indexable (53.1% of hits, 53.1% overall), 43 crystals, 7.0 images/sec.\n",
      "123 images processed, 123 hits (100.0%), 53 indexable (43.1% of hits, 43.1% overall), 53 crystals, 8.2 images/sec.\n",
      "159 images processed, 159 hits (100.0%), 64 indexable (40.3% of hits, 40.3% overall), 64 crystals, 6.9 images/sec.\n",
      "205 images processed, 205 hits (100.0%), 81 indexable (39.5% of hits, 39.5% overall), 81 crystals, 8.9 images/sec.\n",
      "250 images processed, 250 hits (100.0%), 105 indexable (42.0% of hits, 42.0% overall), 105 crystals, 8.9 images/sec.\n",
      "Waiting for the last patterns to be processed...\n",
      "Final: 300 images processed, 300 hits (100.0%), 142 indexable (47.3% of hits, 47.3% overall), 142 crystals.\n",
      "Processing XY pairs:  32%|███▏      | 101/313 [39:04<1:49:26, 30.98s/it]This is what I understood your unit cell to be:\n",
      "cubic P, right handed.\n",
      "a      b      c            alpha   beta  gamma\n",
      " 11.87  11.87  11.87 A     90.00  90.00  90.00 deg\n",
      "List of indexing methods:\n",
      "   0: xgandalf-nolatt-cell      (xgandalf using cell parameters as prior information)\n",
      "Indexing parameters:\n",
      "                  Check unit cell parameters: on\n",
      "                        Check peak alignment: on\n",
      "                   Refine indexing solutions: off\n",
      " Multi-lattice indexing (\"delete and retry\"): off\n",
      "                              Retry indexing: on\n"
     ]
    },
    {
     "name": "stdout",
     "output_type": "stream",
     "text": [
      "Running for x=-513.0, y=-512.8\n"
     ]
    },
    {
     "name": "stderr",
     "output_type": "stream",
     "text": [
      "70 images processed, 70 hits (100.0%), 62 indexable (88.6% of hits, 88.6% overall), 62 crystals, 14.0 images/sec.\n",
      "141 images processed, 141 hits (100.0%), 119 indexable (84.4% of hits, 84.4% overall), 119 crystals, 14.2 images/sec.\n",
      "209 images processed, 209 hits (100.0%), 180 indexable (86.1% of hits, 86.1% overall), 180 crystals, 13.5 images/sec.\n",
      "258 images processed, 258 hits (100.0%), 218 indexable (84.5% of hits, 84.5% overall), 218 crystals, 9.5 images/sec.\n",
      "Waiting for the last patterns to be processed...\n",
      "Final: 300 images processed, 300 hits (100.0%), 248 indexable (82.7% of hits, 82.7% overall), 248 crystals.\n",
      "Processing XY pairs:  33%|███▎      | 102/313 [39:28<1:42:19, 29.10s/it]This is what I understood your unit cell to be:\n",
      "cubic P, right handed.\n",
      "a      b      c            alpha   beta  gamma\n",
      " 11.87  11.87  11.87 A     90.00  90.00  90.00 deg\n",
      "List of indexing methods:\n",
      "   0: xgandalf-nolatt-cell      (xgandalf using cell parameters as prior information)\n",
      "Indexing parameters:\n",
      "                  Check unit cell parameters: on\n",
      "                        Check peak alignment: on\n",
      "                   Refine indexing solutions: off\n",
      " Multi-lattice indexing (\"delete and retry\"): off\n",
      "                              Retry indexing: on\n"
     ]
    },
    {
     "name": "stdout",
     "output_type": "stream",
     "text": [
      "Running for x=-513.0, y=-512.2\n"
     ]
    },
    {
     "name": "stderr",
     "output_type": "stream",
     "text": [
      "52 images processed, 52 hits (100.0%), 42 indexable (80.8% of hits, 80.8% overall), 42 crystals, 10.3 images/sec.\n",
      "94 images processed, 94 hits (100.0%), 72 indexable (76.6% of hits, 76.6% overall), 72 crystals, 8.3 images/sec.\n",
      "142 images processed, 142 hits (100.0%), 98 indexable (69.0% of hits, 69.0% overall), 98 crystals, 9.5 images/sec.\n",
      "188 images processed, 188 hits (100.0%), 127 indexable (67.6% of hits, 67.6% overall), 127 crystals, 8.8 images/sec.\n",
      "240 images processed, 240 hits (100.0%), 156 indexable (65.0% of hits, 65.0% overall), 156 crystals, 10.3 images/sec.\n",
      "Waiting for the last patterns to be processed...\n",
      "Final: 300 images processed, 300 hits (100.0%), 203 indexable (67.7% of hits, 67.7% overall), 203 crystals.\n",
      "Processing XY pairs:  33%|███▎      | 103/313 [40:00<1:44:18, 29.80s/it]This is what I understood your unit cell to be:\n",
      "cubic P, right handed.\n",
      "a      b      c            alpha   beta  gamma\n",
      " 11.87  11.87  11.87 A     90.00  90.00  90.00 deg\n",
      "List of indexing methods:\n",
      "   0: xgandalf-nolatt-cell      (xgandalf using cell parameters as prior information)\n",
      "Indexing parameters:\n",
      "                  Check unit cell parameters: on\n",
      "                        Check peak alignment: on\n",
      "                   Refine indexing solutions: off\n",
      " Multi-lattice indexing (\"delete and retry\"): off\n",
      "                              Retry indexing: on\n"
     ]
    },
    {
     "name": "stdout",
     "output_type": "stream",
     "text": [
      "Running for x=-512.8, y=-513.0\n"
     ]
    },
    {
     "name": "stderr",
     "output_type": "stream",
     "text": [
      "55 images processed, 55 hits (100.0%), 45 indexable (81.8% of hits, 81.8% overall), 45 crystals, 11.0 images/sec.\n",
      "119 images processed, 119 hits (100.0%), 103 indexable (86.6% of hits, 86.6% overall), 103 crystals, 12.8 images/sec.\n",
      "184 images processed, 184 hits (100.0%), 159 indexable (86.4% of hits, 86.4% overall), 159 crystals, 12.9 images/sec.\n",
      "259 images processed, 259 hits (100.0%), 222 indexable (85.7% of hits, 85.7% overall), 222 crystals, 14.9 images/sec.\n",
      "Waiting for the last patterns to be processed...\n",
      "Final: 300 images processed, 300 hits (100.0%), 253 indexable (84.3% of hits, 84.3% overall), 253 crystals.\n",
      "Processing XY pairs:  33%|███▎      | 104/313 [40:24<1:37:35, 28.01s/it]This is what I understood your unit cell to be:\n",
      "cubic P, right handed.\n",
      "a      b      c            alpha   beta  gamma\n",
      " 11.87  11.87  11.87 A     90.00  90.00  90.00 deg\n",
      "List of indexing methods:\n",
      "   0: xgandalf-nolatt-cell      (xgandalf using cell parameters as prior information)\n",
      "Indexing parameters:\n",
      "                  Check unit cell parameters: on\n",
      "                        Check peak alignment: on\n",
      "                   Refine indexing solutions: off\n",
      " Multi-lattice indexing (\"delete and retry\"): off\n",
      "                              Retry indexing: on\n"
     ]
    },
    {
     "name": "stdout",
     "output_type": "stream",
     "text": [
      "Running for x=-512.8, y=-512.0\n"
     ]
    },
    {
     "name": "stderr",
     "output_type": "stream",
     "text": [
      "41 images processed, 41 hits (100.0%), 25 indexable (61.0% of hits, 61.0% overall), 25 crystals, 8.0 images/sec.\n",
      "83 images processed, 83 hits (100.0%), 52 indexable (62.7% of hits, 62.7% overall), 52 crystals, 8.3 images/sec.\n",
      "131 images processed, 131 hits (100.0%), 72 indexable (55.0% of hits, 55.0% overall), 72 crystals, 9.6 images/sec.\n",
      "173 images processed, 173 hits (100.0%), 94 indexable (54.3% of hits, 54.3% overall), 94 crystals, 8.4 images/sec.\n",
      "229 images processed, 229 hits (100.0%), 125 indexable (54.6% of hits, 54.6% overall), 125 crystals, 10.8 images/sec.\n",
      "Waiting for the last patterns to be processed...\n",
      "295 images processed, 295 hits (100.0%), 175 indexable (59.3% of hits, 59.3% overall), 175 crystals, 13.1 images/sec.\n",
      "Final: 300 images processed, 300 hits (100.0%), 177 indexable (59.0% of hits, 59.0% overall), 177 crystals.\n",
      "Processing XY pairs:  34%|███▎      | 105/313 [40:56<1:41:49, 29.37s/it]This is what I understood your unit cell to be:\n",
      "cubic P, right handed.\n",
      "a      b      c            alpha   beta  gamma\n",
      " 11.87  11.87  11.87 A     90.00  90.00  90.00 deg\n",
      "List of indexing methods:\n",
      "   0: xgandalf-nolatt-cell      (xgandalf using cell parameters as prior information)\n",
      "Indexing parameters:\n",
      "                  Check unit cell parameters: on\n",
      "                        Check peak alignment: on\n",
      "                   Refine indexing solutions: off\n",
      " Multi-lattice indexing (\"delete and retry\"): off\n",
      "                              Retry indexing: on\n"
     ]
    },
    {
     "name": "stdout",
     "output_type": "stream",
     "text": [
      "Running for x=-512.2, y=-513.0\n"
     ]
    },
    {
     "name": "stderr",
     "output_type": "stream",
     "text": [
      "57 images processed, 57 hits (100.0%), 47 indexable (82.5% of hits, 82.5% overall), 47 crystals, 11.3 images/sec.\n",
      "119 images processed, 119 hits (100.0%), 97 indexable (81.5% of hits, 81.5% overall), 97 crystals, 12.1 images/sec.\n",
      "180 images processed, 180 hits (100.0%), 149 indexable (82.8% of hits, 82.8% overall), 149 crystals, 11.7 images/sec.\n",
      "254 images processed, 254 hits (100.0%), 214 indexable (84.3% of hits, 84.3% overall), 214 crystals, 14.7 images/sec.\n",
      "Waiting for the last patterns to be processed...\n",
      "Final: 300 images processed, 300 hits (100.0%), 245 indexable (81.7% of hits, 81.7% overall), 245 crystals.\n",
      "Processing XY pairs:  34%|███▍      | 106/313 [41:22<1:37:33, 28.28s/it]This is what I understood your unit cell to be:\n",
      "cubic P, right handed.\n",
      "a      b      c            alpha   beta  gamma\n",
      " 11.87  11.87  11.87 A     90.00  90.00  90.00 deg\n",
      "List of indexing methods:\n",
      "   0: xgandalf-nolatt-cell      (xgandalf using cell parameters as prior information)\n",
      "Indexing parameters:\n",
      "                  Check unit cell parameters: on\n",
      "                        Check peak alignment: on\n",
      "                   Refine indexing solutions: off\n",
      " Multi-lattice indexing (\"delete and retry\"): off\n",
      "                              Retry indexing: on\n"
     ]
    },
    {
     "name": "stdout",
     "output_type": "stream",
     "text": [
      "Running for x=-512.2, y=-512.0\n"
     ]
    },
    {
     "name": "stderr",
     "output_type": "stream",
     "text": [
      "41 images processed, 41 hits (100.0%), 27 indexable (65.9% of hits, 65.9% overall), 27 crystals, 8.0 images/sec.\n",
      "72 images processed, 72 hits (100.0%), 34 indexable (47.2% of hits, 47.2% overall), 34 crystals, 6.0 images/sec.\n",
      "116 images processed, 116 hits (100.0%), 41 indexable (35.3% of hits, 35.3% overall), 41 crystals, 8.3 images/sec.\n",
      "153 images processed, 153 hits (100.0%), 48 indexable (31.4% of hits, 31.4% overall), 48 crystals, 7.3 images/sec.\n",
      "193 images processed, 193 hits (100.0%), 60 indexable (31.1% of hits, 31.1% overall), 60 crystals, 8.0 images/sec.\n",
      "233 images processed, 233 hits (100.0%), 79 indexable (33.9% of hits, 33.9% overall), 79 crystals, 8.0 images/sec.\n",
      "Waiting for the last patterns to be processed...\n",
      "300 images processed, 300 hits (100.0%), 129 indexable (43.0% of hits, 43.0% overall), 129 crystals, 12.5 images/sec.\n",
      "Final: 300 images processed, 300 hits (100.0%), 129 indexable (43.0% of hits, 43.0% overall), 129 crystals.\n",
      "Processing XY pairs:  34%|███▍      | 107/313 [41:59<1:46:11, 30.93s/it]This is what I understood your unit cell to be:\n",
      "cubic P, right handed.\n",
      "a      b      c            alpha   beta  gamma\n",
      " 11.87  11.87  11.87 A     90.00  90.00  90.00 deg\n",
      "List of indexing methods:\n",
      "   0: xgandalf-nolatt-cell      (xgandalf using cell parameters as prior information)\n",
      "Indexing parameters:\n",
      "                  Check unit cell parameters: on\n",
      "                        Check peak alignment: on\n",
      "                   Refine indexing solutions: off\n",
      " Multi-lattice indexing (\"delete and retry\"): off\n",
      "                              Retry indexing: on\n"
     ]
    },
    {
     "name": "stdout",
     "output_type": "stream",
     "text": [
      "Running for x=-512.0, y=-512.8\n"
     ]
    },
    {
     "name": "stderr",
     "output_type": "stream",
     "text": [
      "57 images processed, 57 hits (100.0%), 47 indexable (82.5% of hits, 82.5% overall), 47 crystals, 11.4 images/sec.\n",
      "124 images processed, 124 hits (100.0%), 103 indexable (83.1% of hits, 83.1% overall), 103 crystals, 13.4 images/sec.\n",
      "179 images processed, 179 hits (100.0%), 147 indexable (82.1% of hits, 82.1% overall), 147 crystals, 10.9 images/sec.\n",
      "229 images processed, 229 hits (100.0%), 180 indexable (78.6% of hits, 78.6% overall), 180 crystals, 9.7 images/sec.\n",
      "275 images processed, 275 hits (100.0%), 207 indexable (75.3% of hits, 75.3% overall), 207 crystals, 9.2 images/sec.\n",
      "Waiting for the last patterns to be processed...\n",
      "Final: 300 images processed, 300 hits (100.0%), 217 indexable (72.3% of hits, 72.3% overall), 217 crystals.\n",
      "Processing XY pairs:  35%|███▍      | 108/313 [42:28<1:43:22, 30.25s/it]This is what I understood your unit cell to be:\n",
      "cubic P, right handed.\n",
      "a      b      c            alpha   beta  gamma\n",
      " 11.87  11.87  11.87 A     90.00  90.00  90.00 deg\n",
      "List of indexing methods:\n",
      "   0: xgandalf-nolatt-cell      (xgandalf using cell parameters as prior information)\n",
      "Indexing parameters:\n",
      "                  Check unit cell parameters: on\n",
      "                        Check peak alignment: on\n",
      "                   Refine indexing solutions: off\n",
      " Multi-lattice indexing (\"delete and retry\"): off\n",
      "                              Retry indexing: on\n"
     ]
    },
    {
     "name": "stdout",
     "output_type": "stream",
     "text": [
      "Running for x=-512.0, y=-512.2\n"
     ]
    },
    {
     "name": "stderr",
     "output_type": "stream",
     "text": [
      "49 images processed, 49 hits (100.0%), 34 indexable (69.4% of hits, 69.4% overall), 34 crystals, 9.5 images/sec.\n",
      "80 images processed, 80 hits (100.0%), 44 indexable (55.0% of hits, 55.0% overall), 44 crystals, 6.2 images/sec.\n",
      "121 images processed, 121 hits (100.0%), 52 indexable (43.0% of hits, 43.0% overall), 52 crystals, 8.1 images/sec.\n",
      "158 images processed, 158 hits (100.0%), 59 indexable (37.3% of hits, 37.3% overall), 59 crystals, 7.0 images/sec.\n",
      "197 images processed, 197 hits (100.0%), 66 indexable (33.5% of hits, 33.5% overall), 66 crystals, 7.7 images/sec.\n",
      "239 images processed, 239 hits (100.0%), 84 indexable (35.1% of hits, 35.1% overall), 84 crystals, 8.3 images/sec.\n",
      "Waiting for the last patterns to be processed...\n",
      "296 images processed, 296 hits (100.0%), 119 indexable (40.2% of hits, 40.2% overall), 119 crystals, 11.4 images/sec.\n",
      "Final: 300 images processed, 300 hits (100.0%), 120 indexable (40.0% of hits, 40.0% overall), 120 crystals.\n",
      "Processing XY pairs:  35%|███▍      | 109/313 [43:05<1:50:02, 32.36s/it]This is what I understood your unit cell to be:\n",
      "cubic P, right handed.\n",
      "a      b      c            alpha   beta  gamma\n",
      " 11.87  11.87  11.87 A     90.00  90.00  90.00 deg\n",
      "List of indexing methods:\n",
      "   0: xgandalf-nolatt-cell      (xgandalf using cell parameters as prior information)\n",
      "Indexing parameters:\n",
      "                  Check unit cell parameters: on\n",
      "                        Check peak alignment: on\n",
      "                   Refine indexing solutions: off\n",
      " Multi-lattice indexing (\"delete and retry\"): off\n",
      "                              Retry indexing: on\n"
     ]
    },
    {
     "name": "stdout",
     "output_type": "stream",
     "text": [
      "Running for x=-513.1, y=-512.5\n"
     ]
    },
    {
     "name": "stderr",
     "output_type": "stream",
     "text": [
      "67 images processed, 67 hits (100.0%), 63 indexable (94.0% of hits, 94.0% overall), 63 crystals, 13.2 images/sec.\n",
      "121 images processed, 121 hits (100.0%), 107 indexable (88.4% of hits, 88.4% overall), 107 crystals, 10.5 images/sec.\n",
      "169 images processed, 169 hits (100.0%), 138 indexable (81.7% of hits, 81.7% overall), 138 crystals, 9.5 images/sec.\n",
      "216 images processed, 216 hits (100.0%), 155 indexable (71.8% of hits, 71.8% overall), 155 crystals, 9.4 images/sec.\n",
      "262 images processed, 262 hits (100.0%), 178 indexable (67.9% of hits, 67.9% overall), 178 crystals, 9.2 images/sec.\n",
      "Waiting for the last patterns to be processed...\n",
      "Final: 300 images processed, 300 hits (100.0%), 205 indexable (68.3% of hits, 68.3% overall), 205 crystals.\n",
      "Processing XY pairs:  35%|███▌      | 110/313 [43:34<1:46:22, 31.44s/it]This is what I understood your unit cell to be:\n",
      "cubic P, right handed.\n",
      "a      b      c            alpha   beta  gamma\n",
      " 11.87  11.87  11.87 A     90.00  90.00  90.00 deg\n",
      "List of indexing methods:\n",
      "   0: xgandalf-nolatt-cell      (xgandalf using cell parameters as prior information)\n",
      "Indexing parameters:\n",
      "                  Check unit cell parameters: on\n",
      "                        Check peak alignment: on\n",
      "                   Refine indexing solutions: off\n",
      " Multi-lattice indexing (\"delete and retry\"): off\n",
      "                              Retry indexing: on\n"
     ]
    },
    {
     "name": "stdout",
     "output_type": "stream",
     "text": [
      "Running for x=-512.5, y=-513.1\n"
     ]
    },
    {
     "name": "stderr",
     "output_type": "stream",
     "text": [
      "41 images processed, 41 hits (100.0%), 25 indexable (61.0% of hits, 61.0% overall), 25 crystals, 8.1 images/sec.\n",
      "97 images processed, 97 hits (100.0%), 61 indexable (62.9% of hits, 62.9% overall), 61 crystals, 11.0 images/sec.\n",
      "152 images processed, 152 hits (100.0%), 97 indexable (63.8% of hits, 63.8% overall), 97 crystals, 10.9 images/sec.\n",
      "204 images processed, 204 hits (100.0%), 135 indexable (66.2% of hits, 66.2% overall), 135 crystals, 10.4 images/sec.\n",
      "269 images processed, 269 hits (100.0%), 178 indexable (66.2% of hits, 66.2% overall), 178 crystals, 12.7 images/sec.\n",
      "Waiting for the last patterns to be processed...\n",
      "Final: 300 images processed, 300 hits (100.0%), 197 indexable (65.7% of hits, 65.7% overall), 197 crystals.\n",
      "Processing XY pairs:  35%|███▌      | 111/313 [44:03<1:43:25, 30.72s/it]This is what I understood your unit cell to be:\n",
      "cubic P, right handed.\n",
      "a      b      c            alpha   beta  gamma\n",
      " 11.87  11.87  11.87 A     90.00  90.00  90.00 deg\n",
      "List of indexing methods:\n",
      "   0: xgandalf-nolatt-cell      (xgandalf using cell parameters as prior information)\n",
      "Indexing parameters:\n",
      "                  Check unit cell parameters: on\n",
      "                        Check peak alignment: on\n",
      "                   Refine indexing solutions: off\n",
      " Multi-lattice indexing (\"delete and retry\"): off\n",
      "                              Retry indexing: on\n"
     ]
    },
    {
     "name": "stdout",
     "output_type": "stream",
     "text": [
      "Running for x=-512.5, y=-511.9\n"
     ]
    },
    {
     "name": "stderr",
     "output_type": "stream",
     "text": [
      "29 images processed, 29 hits (100.0%), 15 indexable (51.7% of hits, 51.7% overall), 15 crystals, 5.8 images/sec.\n",
      "71 images processed, 71 hits (100.0%), 25 indexable (35.2% of hits, 35.2% overall), 25 crystals, 7.6 images/sec.\n",
      "110 images processed, 110 hits (100.0%), 32 indexable (29.1% of hits, 29.1% overall), 32 crystals, 7.7 images/sec.\n",
      "150 images processed, 150 hits (100.0%), 42 indexable (28.0% of hits, 28.0% overall), 42 crystals, 7.7 images/sec.\n",
      "200 images processed, 200 hits (100.0%), 62 indexable (31.0% of hits, 31.0% overall), 62 crystals, 9.5 images/sec.\n",
      "252 images processed, 252 hits (100.0%), 93 indexable (36.9% of hits, 36.9% overall), 93 crystals, 10.3 images/sec.\n",
      "Waiting for the last patterns to be processed...\n",
      "Final: 300 images processed, 300 hits (100.0%), 118 indexable (39.3% of hits, 39.3% overall), 118 crystals.\n",
      "Processing XY pairs:  36%|███▌      | 112/313 [44:41<1:49:25, 32.66s/it]This is what I understood your unit cell to be:\n",
      "cubic P, right handed.\n",
      "a      b      c            alpha   beta  gamma\n",
      " 11.87  11.87  11.87 A     90.00  90.00  90.00 deg\n",
      "List of indexing methods:\n",
      "   0: xgandalf-nolatt-cell      (xgandalf using cell parameters as prior information)\n",
      "Indexing parameters:\n",
      "                  Check unit cell parameters: on\n",
      "                        Check peak alignment: on\n",
      "                   Refine indexing solutions: off\n",
      " Multi-lattice indexing (\"delete and retry\"): off\n",
      "                              Retry indexing: on\n"
     ]
    },
    {
     "name": "stdout",
     "output_type": "stream",
     "text": [
      "Running for x=-511.9, y=-512.5\n"
     ]
    },
    {
     "name": "stderr",
     "output_type": "stream",
     "text": [
      "54 images processed, 54 hits (100.0%), 45 indexable (83.3% of hits, 83.3% overall), 45 crystals, 10.7 images/sec.\n",
      "102 images processed, 102 hits (100.0%), 79 indexable (77.5% of hits, 77.5% overall), 79 crystals, 9.3 images/sec.\n",
      "150 images processed, 150 hits (100.0%), 105 indexable (70.0% of hits, 70.0% overall), 105 crystals, 9.6 images/sec.\n",
      "191 images processed, 191 hits (100.0%), 125 indexable (65.4% of hits, 65.4% overall), 125 crystals, 8.1 images/sec.\n",
      "233 images processed, 233 hits (100.0%), 143 indexable (61.4% of hits, 61.4% overall), 143 crystals, 8.2 images/sec.\n",
      "Waiting for the last patterns to be processed...\n",
      "277 images processed, 277 hits (100.0%), 168 indexable (60.6% of hits, 60.6% overall), 168 crystals, 8.7 images/sec.\n",
      "Final: 300 images processed, 300 hits (100.0%), 179 indexable (59.7% of hits, 59.7% overall), 179 crystals.\n",
      "Processing XY pairs:  36%|███▌      | 113/313 [45:14<1:49:51, 32.96s/it]This is what I understood your unit cell to be:\n",
      "cubic P, right handed.\n",
      "a      b      c            alpha   beta  gamma\n",
      " 11.87  11.87  11.87 A     90.00  90.00  90.00 deg\n",
      "List of indexing methods:\n",
      "   0: xgandalf-nolatt-cell      (xgandalf using cell parameters as prior information)\n",
      "Indexing parameters:\n",
      "                  Check unit cell parameters: on\n",
      "                        Check peak alignment: on\n",
      "                   Refine indexing solutions: off\n",
      " Multi-lattice indexing (\"delete and retry\"): off\n",
      "                              Retry indexing: on\n"
     ]
    },
    {
     "name": "stdout",
     "output_type": "stream",
     "text": [
      "Running for x=-513.1, y=-512.6\n"
     ]
    },
    {
     "name": "stderr",
     "output_type": "stream",
     "text": [
      "72 images processed, 72 hits (100.0%), 66 indexable (91.7% of hits, 91.7% overall), 66 crystals, 14.2 images/sec.\n",
      "127 images processed, 127 hits (100.0%), 109 indexable (85.8% of hits, 85.8% overall), 109 crystals, 11.0 images/sec.\n",
      "177 images processed, 177 hits (100.0%), 143 indexable (80.8% of hits, 80.8% overall), 143 crystals, 9.8 images/sec.\n",
      "225 images processed, 225 hits (100.0%), 164 indexable (72.9% of hits, 72.9% overall), 164 crystals, 9.4 images/sec.\n",
      "271 images processed, 271 hits (100.0%), 190 indexable (70.1% of hits, 70.1% overall), 190 crystals, 9.2 images/sec.\n",
      "Waiting for the last patterns to be processed...\n",
      "Final: 300 images processed, 300 hits (100.0%), 210 indexable (70.0% of hits, 70.0% overall), 210 crystals.\n",
      "Processing XY pairs:  36%|███▋      | 114/313 [45:42<1:44:08, 31.40s/it]This is what I understood your unit cell to be:\n",
      "cubic P, right handed.\n",
      "a      b      c            alpha   beta  gamma\n",
      " 11.87  11.87  11.87 A     90.00  90.00  90.00 deg\n",
      "List of indexing methods:\n",
      "   0: xgandalf-nolatt-cell      (xgandalf using cell parameters as prior information)\n",
      "Indexing parameters:\n",
      "                  Check unit cell parameters: on\n",
      "                        Check peak alignment: on\n",
      "                   Refine indexing solutions: off\n",
      " Multi-lattice indexing (\"delete and retry\"): off\n",
      "                              Retry indexing: on\n"
     ]
    },
    {
     "name": "stdout",
     "output_type": "stream",
     "text": [
      "Running for x=-513.1, y=-512.4\n"
     ]
    },
    {
     "name": "stderr",
     "output_type": "stream",
     "text": [
      "56 images processed, 56 hits (100.0%), 48 indexable (85.7% of hits, 85.7% overall), 48 crystals, 11.2 images/sec.\n",
      "107 images processed, 107 hits (100.0%), 88 indexable (82.2% of hits, 82.2% overall), 88 crystals, 10.2 images/sec.\n",
      "151 images processed, 151 hits (100.0%), 115 indexable (76.2% of hits, 76.2% overall), 115 crystals, 8.7 images/sec.\n",
      "199 images processed, 199 hits (100.0%), 138 indexable (69.3% of hits, 69.3% overall), 138 crystals, 9.4 images/sec.\n",
      "243 images processed, 243 hits (100.0%), 161 indexable (66.3% of hits, 66.3% overall), 161 crystals, 8.6 images/sec.\n",
      "Waiting for the last patterns to be processed...\n",
      "300 images processed, 300 hits (100.0%), 200 indexable (66.7% of hits, 66.7% overall), 200 crystals, 11.0 images/sec.\n",
      "Final: 300 images processed, 300 hits (100.0%), 200 indexable (66.7% of hits, 66.7% overall), 200 crystals.\n",
      "Processing XY pairs:  37%|███▋      | 115/313 [46:14<1:43:51, 31.47s/it]This is what I understood your unit cell to be:\n",
      "cubic P, right handed.\n",
      "a      b      c            alpha   beta  gamma\n",
      " 11.87  11.87  11.87 A     90.00  90.00  90.00 deg\n",
      "List of indexing methods:\n",
      "   0: xgandalf-nolatt-cell      (xgandalf using cell parameters as prior information)\n",
      "Indexing parameters:\n",
      "                  Check unit cell parameters: on\n",
      "                        Check peak alignment: on\n",
      "                   Refine indexing solutions: off\n",
      " Multi-lattice indexing (\"delete and retry\"): off\n",
      "                              Retry indexing: on\n"
     ]
    },
    {
     "name": "stdout",
     "output_type": "stream",
     "text": [
      "Running for x=-512.6, y=-513.1\n"
     ]
    },
    {
     "name": "stderr",
     "output_type": "stream",
     "text": [
      "40 images processed, 40 hits (100.0%), 22 indexable (55.0% of hits, 55.0% overall), 22 crystals, 7.9 images/sec.\n",
      "90 images processed, 90 hits (100.0%), 51 indexable (56.7% of hits, 56.7% overall), 51 crystals, 10.0 images/sec.\n",
      "144 images processed, 144 hits (100.0%), 86 indexable (59.7% of hits, 59.7% overall), 86 crystals, 10.7 images/sec.\n",
      "199 images processed, 199 hits (100.0%), 124 indexable (62.3% of hits, 62.3% overall), 124 crystals, 10.9 images/sec.\n",
      "267 images processed, 267 hits (100.0%), 175 indexable (65.5% of hits, 65.5% overall), 175 crystals, 13.6 images/sec.\n",
      "Waiting for the last patterns to be processed...\n",
      "Final: 300 images processed, 300 hits (100.0%), 196 indexable (65.3% of hits, 65.3% overall), 196 crystals.\n",
      "Processing XY pairs:  37%|███▋      | 116/313 [46:43<1:41:30, 30.92s/it]This is what I understood your unit cell to be:\n",
      "cubic P, right handed.\n",
      "a      b      c            alpha   beta  gamma\n",
      " 11.87  11.87  11.87 A     90.00  90.00  90.00 deg\n",
      "List of indexing methods:\n",
      "   0: xgandalf-nolatt-cell      (xgandalf using cell parameters as prior information)\n",
      "Indexing parameters:\n",
      "                  Check unit cell parameters: on\n",
      "                        Check peak alignment: on\n",
      "                   Refine indexing solutions: off\n",
      " Multi-lattice indexing (\"delete and retry\"): off\n",
      "                              Retry indexing: on\n"
     ]
    },
    {
     "name": "stdout",
     "output_type": "stream",
     "text": [
      "Running for x=-512.6, y=-511.9\n"
     ]
    },
    {
     "name": "stderr",
     "output_type": "stream",
     "text": [
      "30 images processed, 30 hits (100.0%), 16 indexable (53.3% of hits, 53.3% overall), 16 crystals, 5.9 images/sec.\n",
      "75 images processed, 75 hits (100.0%), 32 indexable (42.7% of hits, 42.7% overall), 32 crystals, 8.3 images/sec.\n",
      "115 images processed, 115 hits (100.0%), 43 indexable (37.4% of hits, 37.4% overall), 43 crystals, 7.6 images/sec.\n",
      "156 images processed, 156 hits (100.0%), 54 indexable (34.6% of hits, 34.6% overall), 54 crystals, 7.9 images/sec.\n",
      "209 images processed, 209 hits (100.0%), 80 indexable (38.3% of hits, 38.3% overall), 80 crystals, 10.2 images/sec.\n",
      "256 images processed, 256 hits (100.0%), 107 indexable (41.8% of hits, 41.8% overall), 107 crystals, 9.2 images/sec.\n",
      "Waiting for the last patterns to be processed...\n",
      "Final: 300 images processed, 300 hits (100.0%), 130 indexable (43.3% of hits, 43.3% overall), 130 crystals.\n",
      "Processing XY pairs:  37%|███▋      | 117/313 [47:19<1:46:13, 32.52s/it]This is what I understood your unit cell to be:\n",
      "cubic P, right handed.\n",
      "a      b      c            alpha   beta  gamma\n",
      " 11.87  11.87  11.87 A     90.00  90.00  90.00 deg\n",
      "List of indexing methods:\n",
      "   0: xgandalf-nolatt-cell      (xgandalf using cell parameters as prior information)\n",
      "Indexing parameters:\n",
      "                  Check unit cell parameters: on\n",
      "                        Check peak alignment: on\n",
      "                   Refine indexing solutions: off\n",
      " Multi-lattice indexing (\"delete and retry\"): off\n",
      "                              Retry indexing: on\n"
     ]
    },
    {
     "name": "stdout",
     "output_type": "stream",
     "text": [
      "Running for x=-512.4, y=-513.1\n"
     ]
    },
    {
     "name": "stderr",
     "output_type": "stream",
     "text": [
      "40 images processed, 40 hits (100.0%), 26 indexable (65.0% of hits, 65.0% overall), 26 crystals, 8.0 images/sec.\n",
      "95 images processed, 95 hits (100.0%), 58 indexable (61.1% of hits, 61.1% overall), 58 crystals, 10.8 images/sec.\n",
      "150 images processed, 150 hits (100.0%), 100 indexable (66.7% of hits, 66.7% overall), 100 crystals, 11.0 images/sec.\n",
      "204 images processed, 204 hits (100.0%), 134 indexable (65.7% of hits, 65.7% overall), 134 crystals, 10.6 images/sec.\n",
      "262 images processed, 262 hits (100.0%), 173 indexable (66.0% of hits, 66.0% overall), 173 crystals, 11.3 images/sec.\n",
      "Waiting for the last patterns to be processed...\n",
      "Final: 300 images processed, 300 hits (100.0%), 199 indexable (66.3% of hits, 66.3% overall), 199 crystals.\n",
      "Processing XY pairs:  38%|███▊      | 118/313 [47:49<1:43:05, 31.72s/it]This is what I understood your unit cell to be:\n",
      "cubic P, right handed.\n",
      "a      b      c            alpha   beta  gamma\n",
      " 11.87  11.87  11.87 A     90.00  90.00  90.00 deg\n",
      "List of indexing methods:\n",
      "   0: xgandalf-nolatt-cell      (xgandalf using cell parameters as prior information)\n",
      "Indexing parameters:\n",
      "                  Check unit cell parameters: on\n",
      "                        Check peak alignment: on\n",
      "                   Refine indexing solutions: off\n",
      " Multi-lattice indexing (\"delete and retry\"): off\n",
      "                              Retry indexing: on\n"
     ]
    },
    {
     "name": "stdout",
     "output_type": "stream",
     "text": [
      "Running for x=-512.4, y=-511.9\n"
     ]
    },
    {
     "name": "stderr",
     "output_type": "stream",
     "text": [
      "32 images processed, 32 hits (100.0%), 16 indexable (50.0% of hits, 50.0% overall), 16 crystals, 6.1 images/sec.\n",
      "71 images processed, 71 hits (100.0%), 19 indexable (26.8% of hits, 26.8% overall), 19 crystals, 7.7 images/sec.\n",
      "112 images processed, 112 hits (100.0%), 26 indexable (23.2% of hits, 23.2% overall), 26 crystals, 7.9 images/sec.\n",
      "147 images processed, 147 hits (100.0%), 33 indexable (22.4% of hits, 22.4% overall), 33 crystals, 6.7 images/sec.\n",
      "190 images processed, 190 hits (100.0%), 42 indexable (22.1% of hits, 22.1% overall), 42 crystals, 8.4 images/sec.\n",
      "241 images processed, 241 hits (100.0%), 68 indexable (28.2% of hits, 28.2% overall), 68 crystals, 10.1 images/sec.\n",
      "Waiting for the last patterns to be processed...\n",
      "298 images processed, 298 hits (100.0%), 103 indexable (34.6% of hits, 34.6% overall), 103 crystals, 11.1 images/sec.\n",
      "Final: 300 images processed, 300 hits (100.0%), 103 indexable (34.3% of hits, 34.3% overall), 103 crystals.\n",
      "Processing XY pairs:  38%|███▊      | 119/313 [48:27<1:48:24, 33.53s/it]This is what I understood your unit cell to be:\n",
      "cubic P, right handed.\n",
      "a      b      c            alpha   beta  gamma\n",
      " 11.87  11.87  11.87 A     90.00  90.00  90.00 deg\n",
      "List of indexing methods:\n",
      "   0: xgandalf-nolatt-cell      (xgandalf using cell parameters as prior information)\n",
      "Indexing parameters:\n",
      "                  Check unit cell parameters: on\n",
      "                        Check peak alignment: on\n",
      "                   Refine indexing solutions: off\n",
      " Multi-lattice indexing (\"delete and retry\"): off\n",
      "                              Retry indexing: on\n"
     ]
    },
    {
     "name": "stdout",
     "output_type": "stream",
     "text": [
      "Running for x=-511.9, y=-512.6\n"
     ]
    },
    {
     "name": "stderr",
     "output_type": "stream",
     "text": [
      "58 images processed, 58 hits (100.0%), 49 indexable (84.5% of hits, 84.5% overall), 49 crystals, 11.0 images/sec.\n",
      "108 images processed, 108 hits (100.0%), 89 indexable (82.4% of hits, 82.4% overall), 89 crystals, 9.8 images/sec.\n",
      "161 images processed, 161 hits (100.0%), 122 indexable (75.8% of hits, 75.8% overall), 122 crystals, 9.7 images/sec.\n",
      "200 images processed, 200 hits (100.0%), 139 indexable (69.5% of hits, 69.5% overall), 139 crystals, 7.7 images/sec.\n",
      "241 images processed, 241 hits (100.0%), 154 indexable (63.9% of hits, 63.9% overall), 154 crystals, 7.9 images/sec.\n",
      "Waiting for the last patterns to be processed...\n",
      "289 images processed, 289 hits (100.0%), 177 indexable (61.2% of hits, 61.2% overall), 177 crystals, 9.4 images/sec.\n",
      "Final: 300 images processed, 300 hits (100.0%), 180 indexable (60.0% of hits, 60.0% overall), 180 crystals.\n",
      "Processing XY pairs:  38%|███▊      | 120/313 [49:00<1:47:42, 33.49s/it]This is what I understood your unit cell to be:\n",
      "cubic P, right handed.\n",
      "a      b      c            alpha   beta  gamma\n",
      " 11.87  11.87  11.87 A     90.00  90.00  90.00 deg\n",
      "List of indexing methods:\n",
      "   0: xgandalf-nolatt-cell      (xgandalf using cell parameters as prior information)\n",
      "Indexing parameters:\n",
      "                  Check unit cell parameters: on\n",
      "                        Check peak alignment: on\n",
      "                   Refine indexing solutions: off\n",
      " Multi-lattice indexing (\"delete and retry\"): off\n",
      "                              Retry indexing: on\n"
     ]
    },
    {
     "name": "stdout",
     "output_type": "stream",
     "text": [
      "Running for x=-511.9, y=-512.4\n"
     ]
    },
    {
     "name": "stderr",
     "output_type": "stream",
     "text": [
      "55 images processed, 55 hits (100.0%), 41 indexable (74.5% of hits, 74.5% overall), 41 crystals, 10.6 images/sec.\n",
      "88 images processed, 88 hits (100.0%), 58 indexable (65.9% of hits, 65.9% overall), 58 crystals, 6.6 images/sec.\n",
      "132 images processed, 132 hits (100.0%), 69 indexable (52.3% of hits, 52.3% overall), 69 crystals, 8.1 images/sec.\n",
      "172 images processed, 172 hits (100.0%), 81 indexable (47.1% of hits, 47.1% overall), 81 crystals, 7.9 images/sec.\n",
      "215 images processed, 215 hits (100.0%), 96 indexable (44.7% of hits, 44.7% overall), 96 crystals, 8.6 images/sec.\n",
      "256 images processed, 256 hits (100.0%), 112 indexable (43.8% of hits, 43.8% overall), 112 crystals, 8.1 images/sec.\n",
      "Waiting for the last patterns to be processed...\n",
      "Final: 300 images processed, 300 hits (100.0%), 134 indexable (44.7% of hits, 44.7% overall), 134 crystals.\n",
      "Processing XY pairs:  39%|███▊      | 121/313 [49:38<1:51:00, 34.69s/it]This is what I understood your unit cell to be:\n",
      "cubic P, right handed.\n",
      "a      b      c            alpha   beta  gamma\n",
      " 11.87  11.87  11.87 A     90.00  90.00  90.00 deg\n",
      "List of indexing methods:\n",
      "   0: xgandalf-nolatt-cell      (xgandalf using cell parameters as prior information)\n",
      "Indexing parameters:\n",
      "                  Check unit cell parameters: on\n",
      "                        Check peak alignment: on\n",
      "                   Refine indexing solutions: off\n",
      " Multi-lattice indexing (\"delete and retry\"): off\n",
      "                              Retry indexing: on\n"
     ]
    },
    {
     "name": "stdout",
     "output_type": "stream",
     "text": [
      "Running for x=-513.1, y=-512.7\n"
     ]
    },
    {
     "name": "stderr",
     "output_type": "stream",
     "text": [
      "66 images processed, 66 hits (100.0%), 57 indexable (86.4% of hits, 86.4% overall), 57 crystals, 13.2 images/sec.\n",
      "114 images processed, 114 hits (100.0%), 97 indexable (85.1% of hits, 85.1% overall), 97 crystals, 9.1 images/sec.\n",
      "171 images processed, 171 hits (100.0%), 135 indexable (78.9% of hits, 78.9% overall), 135 crystals, 10.7 images/sec.\n",
      "220 images processed, 220 hits (100.0%), 156 indexable (70.9% of hits, 70.9% overall), 156 crystals, 9.7 images/sec.\n",
      "258 images processed, 258 hits (100.0%), 174 indexable (67.4% of hits, 67.4% overall), 174 crystals, 7.6 images/sec.\n",
      "Waiting for the last patterns to be processed...\n",
      "Final: 300 images processed, 300 hits (100.0%), 200 indexable (66.7% of hits, 66.7% overall), 200 crystals.\n",
      "Processing XY pairs:  39%|███▉      | 122/313 [50:07<1:45:24, 33.11s/it]This is what I understood your unit cell to be:\n",
      "cubic P, right handed.\n",
      "a      b      c            alpha   beta  gamma\n",
      " 11.87  11.87  11.87 A     90.00  90.00  90.00 deg\n",
      "List of indexing methods:\n",
      "   0: xgandalf-nolatt-cell      (xgandalf using cell parameters as prior information)\n",
      "Indexing parameters:\n",
      "                  Check unit cell parameters: on\n",
      "                        Check peak alignment: on\n",
      "                   Refine indexing solutions: off\n",
      " Multi-lattice indexing (\"delete and retry\"): off\n",
      "                              Retry indexing: on\n"
     ]
    },
    {
     "name": "stdout",
     "output_type": "stream",
     "text": [
      "Running for x=-513.1, y=-512.3\n"
     ]
    },
    {
     "name": "stderr",
     "output_type": "stream",
     "text": [
      "55 images processed, 55 hits (100.0%), 44 indexable (80.0% of hits, 80.0% overall), 44 crystals, 10.8 images/sec.\n",
      "99 images processed, 99 hits (100.0%), 77 indexable (77.8% of hits, 77.8% overall), 77 crystals, 8.7 images/sec.\n",
      "145 images processed, 145 hits (100.0%), 102 indexable (70.3% of hits, 70.3% overall), 102 crystals, 9.0 images/sec.\n",
      "189 images processed, 189 hits (100.0%), 120 indexable (63.5% of hits, 63.5% overall), 120 crystals, 8.4 images/sec.\n",
      "231 images processed, 231 hits (100.0%), 135 indexable (58.4% of hits, 58.4% overall), 135 crystals, 8.2 images/sec.\n",
      "Waiting for the last patterns to be processed...\n",
      "291 images processed, 291 hits (100.0%), 174 indexable (59.8% of hits, 59.8% overall), 174 crystals, 11.9 images/sec.\n",
      "Final: 300 images processed, 300 hits (100.0%), 180 indexable (60.0% of hits, 60.0% overall), 180 crystals.\n",
      "Processing XY pairs:  39%|███▉      | 123/313 [50:40<1:44:37, 33.04s/it]This is what I understood your unit cell to be:\n",
      "cubic P, right handed.\n",
      "a      b      c            alpha   beta  gamma\n",
      " 11.87  11.87  11.87 A     90.00  90.00  90.00 deg\n",
      "List of indexing methods:\n",
      "   0: xgandalf-nolatt-cell      (xgandalf using cell parameters as prior information)\n",
      "Indexing parameters:\n",
      "                  Check unit cell parameters: on\n",
      "                        Check peak alignment: on\n",
      "                   Refine indexing solutions: off\n",
      " Multi-lattice indexing (\"delete and retry\"): off\n",
      "                              Retry indexing: on\n"
     ]
    },
    {
     "name": "stdout",
     "output_type": "stream",
     "text": [
      "Running for x=-512.7, y=-513.1\n"
     ]
    },
    {
     "name": "stderr",
     "output_type": "stream",
     "text": [
      "43 images processed, 43 hits (100.0%), 26 indexable (60.5% of hits, 60.5% overall), 26 crystals, 8.5 images/sec.\n",
      "95 images processed, 95 hits (100.0%), 63 indexable (66.3% of hits, 66.3% overall), 63 crystals, 10.4 images/sec.\n",
      "145 images processed, 145 hits (100.0%), 92 indexable (63.4% of hits, 63.4% overall), 92 crystals, 10.0 images/sec.\n",
      "202 images processed, 202 hits (100.0%), 133 indexable (65.8% of hits, 65.8% overall), 133 crystals, 11.3 images/sec.\n",
      "263 images processed, 263 hits (100.0%), 181 indexable (68.8% of hits, 68.8% overall), 181 crystals, 11.7 images/sec.\n",
      "Waiting for the last patterns to be processed...\n",
      "Final: 300 images processed, 300 hits (100.0%), 203 indexable (67.7% of hits, 67.7% overall), 203 crystals.\n",
      "Processing XY pairs:  40%|███▉      | 124/313 [51:10<1:41:00, 32.07s/it]This is what I understood your unit cell to be:\n",
      "cubic P, right handed.\n",
      "a      b      c            alpha   beta  gamma\n",
      " 11.87  11.87  11.87 A     90.00  90.00  90.00 deg\n",
      "List of indexing methods:\n",
      "   0: xgandalf-nolatt-cell      (xgandalf using cell parameters as prior information)\n",
      "Indexing parameters:\n",
      "                  Check unit cell parameters: on\n",
      "                        Check peak alignment: on\n",
      "                   Refine indexing solutions: off\n",
      " Multi-lattice indexing (\"delete and retry\"): off\n",
      "                              Retry indexing: on\n"
     ]
    },
    {
     "name": "stdout",
     "output_type": "stream",
     "text": [
      "Running for x=-512.7, y=-511.9\n"
     ]
    },
    {
     "name": "stderr",
     "output_type": "stream",
     "text": [
      "31 images processed, 31 hits (100.0%), 15 indexable (48.4% of hits, 48.4% overall), 15 crystals, 6.1 images/sec.\n",
      "74 images processed, 74 hits (100.0%), 33 indexable (44.6% of hits, 44.6% overall), 33 crystals, 8.1 images/sec.\n",
      "118 images processed, 118 hits (100.0%), 49 indexable (41.5% of hits, 41.5% overall), 49 crystals, 8.7 images/sec.\n",
      "160 images processed, 160 hits (100.0%), 67 indexable (41.9% of hits, 41.9% overall), 67 crystals, 8.3 images/sec.\n",
      "203 images processed, 203 hits (100.0%), 87 indexable (42.9% of hits, 42.9% overall), 87 crystals, 8.5 images/sec.\n",
      "254 images processed, 254 hits (100.0%), 114 indexable (44.9% of hits, 44.9% overall), 114 crystals, 10.0 images/sec.\n",
      "Waiting for the last patterns to be processed...\n",
      "Final: 300 images processed, 300 hits (100.0%), 139 indexable (46.3% of hits, 46.3% overall), 139 crystals.\n",
      "Processing XY pairs:  40%|███▉      | 125/313 [51:46<1:44:30, 33.36s/it]This is what I understood your unit cell to be:\n",
      "cubic P, right handed.\n",
      "a      b      c            alpha   beta  gamma\n",
      " 11.87  11.87  11.87 A     90.00  90.00  90.00 deg\n",
      "List of indexing methods:\n",
      "   0: xgandalf-nolatt-cell      (xgandalf using cell parameters as prior information)\n",
      "Indexing parameters:\n",
      "                  Check unit cell parameters: on\n",
      "                        Check peak alignment: on\n",
      "                   Refine indexing solutions: off\n",
      " Multi-lattice indexing (\"delete and retry\"): off\n",
      "                              Retry indexing: on\n"
     ]
    },
    {
     "name": "stdout",
     "output_type": "stream",
     "text": [
      "Running for x=-512.3, y=-513.1\n"
     ]
    },
    {
     "name": "stderr",
     "output_type": "stream",
     "text": [
      "45 images processed, 45 hits (100.0%), 34 indexable (75.6% of hits, 75.6% overall), 34 crystals, 8.9 images/sec.\n",
      "98 images processed, 98 hits (100.0%), 70 indexable (71.4% of hits, 71.4% overall), 70 crystals, 10.4 images/sec.\n",
      "154 images processed, 154 hits (100.0%), 110 indexable (71.4% of hits, 71.4% overall), 110 crystals, 10.9 images/sec.\n",
      "206 images processed, 206 hits (100.0%), 142 indexable (68.9% of hits, 68.9% overall), 142 crystals, 10.3 images/sec.\n",
      "262 images processed, 262 hits (100.0%), 182 indexable (69.5% of hits, 69.5% overall), 182 crystals, 11.1 images/sec.\n",
      "Waiting for the last patterns to be processed...\n",
      "Final: 300 images processed, 300 hits (100.0%), 204 indexable (68.0% of hits, 68.0% overall), 204 crystals.\n",
      "Processing XY pairs:  40%|████      | 126/313 [52:17<1:41:14, 32.48s/it]This is what I understood your unit cell to be:\n",
      "cubic P, right handed.\n",
      "a      b      c            alpha   beta  gamma\n",
      " 11.87  11.87  11.87 A     90.00  90.00  90.00 deg\n",
      "List of indexing methods:\n",
      "   0: xgandalf-nolatt-cell      (xgandalf using cell parameters as prior information)\n",
      "Indexing parameters:\n",
      "                  Check unit cell parameters: on\n",
      "                        Check peak alignment: on\n",
      "                   Refine indexing solutions: off\n",
      " Multi-lattice indexing (\"delete and retry\"): off\n",
      "                              Retry indexing: on\n"
     ]
    },
    {
     "name": "stdout",
     "output_type": "stream",
     "text": [
      "Running for x=-512.3, y=-511.9\n"
     ]
    },
    {
     "name": "stderr",
     "output_type": "stream",
     "text": [
      "34 images processed, 34 hits (100.0%), 19 indexable (55.9% of hits, 55.9% overall), 19 crystals, 6.5 images/sec.\n",
      "70 images processed, 70 hits (100.0%), 25 indexable (35.7% of hits, 35.7% overall), 25 crystals, 7.1 images/sec.\n",
      "108 images processed, 108 hits (100.0%), 27 indexable (25.0% of hits, 25.0% overall), 27 crystals, 7.6 images/sec.\n",
      "145 images processed, 145 hits (100.0%), 35 indexable (24.1% of hits, 24.1% overall), 35 crystals, 7.4 images/sec.\n",
      "182 images processed, 182 hits (100.0%), 42 indexable (23.1% of hits, 23.1% overall), 42 crystals, 7.4 images/sec.\n",
      "224 images processed, 224 hits (100.0%), 54 indexable (24.1% of hits, 24.1% overall), 54 crystals, 8.4 images/sec.\n",
      "Waiting for the last patterns to be processed...\n",
      "279 images processed, 279 hits (100.0%), 89 indexable (31.9% of hits, 31.9% overall), 89 crystals, 10.8 images/sec.\n",
      "Final: 300 images processed, 300 hits (100.0%), 94 indexable (31.3% of hits, 31.3% overall), 94 crystals.\n",
      "Processing XY pairs:  41%|████      | 127/313 [52:56<1:46:32, 34.37s/it]This is what I understood your unit cell to be:\n",
      "cubic P, right handed.\n",
      "a      b      c            alpha   beta  gamma\n",
      " 11.87  11.87  11.87 A     90.00  90.00  90.00 deg\n",
      "List of indexing methods:\n",
      "   0: xgandalf-nolatt-cell      (xgandalf using cell parameters as prior information)\n",
      "Indexing parameters:\n",
      "                  Check unit cell parameters: on\n",
      "                        Check peak alignment: on\n",
      "                   Refine indexing solutions: off\n",
      " Multi-lattice indexing (\"delete and retry\"): off\n",
      "                              Retry indexing: on\n"
     ]
    },
    {
     "name": "stdout",
     "output_type": "stream",
     "text": [
      "Running for x=-511.9, y=-512.7\n"
     ]
    },
    {
     "name": "stderr",
     "output_type": "stream",
     "text": [
      "58 images processed, 58 hits (100.0%), 47 indexable (81.0% of hits, 81.0% overall), 47 crystals, 11.3 images/sec.\n",
      "114 images processed, 114 hits (100.0%), 89 indexable (78.1% of hits, 78.1% overall), 89 crystals, 11.1 images/sec.\n",
      "164 images processed, 164 hits (100.0%), 125 indexable (76.2% of hits, 76.2% overall), 125 crystals, 9.9 images/sec.\n",
      "210 images processed, 210 hits (100.0%), 148 indexable (70.5% of hits, 70.5% overall), 148 crystals, 8.7 images/sec.\n",
      "251 images processed, 251 hits (100.0%), 160 indexable (63.7% of hits, 63.7% overall), 160 crystals, 8.0 images/sec.\n",
      "Waiting for the last patterns to be processed...\n",
      "300 images processed, 300 hits (100.0%), 181 indexable (60.3% of hits, 60.3% overall), 181 crystals, 9.7 images/sec.\n",
      "Final: 300 images processed, 300 hits (100.0%), 181 indexable (60.3% of hits, 60.3% overall), 181 crystals.\n",
      "Processing XY pairs:  41%|████      | 128/313 [53:27<1:43:38, 33.61s/it]This is what I understood your unit cell to be:\n",
      "cubic P, right handed.\n",
      "a      b      c            alpha   beta  gamma\n",
      " 11.87  11.87  11.87 A     90.00  90.00  90.00 deg\n",
      "List of indexing methods:\n",
      "   0: xgandalf-nolatt-cell      (xgandalf using cell parameters as prior information)\n",
      "Indexing parameters:\n",
      "                  Check unit cell parameters: on\n",
      "                        Check peak alignment: on\n",
      "                   Refine indexing solutions: off\n",
      " Multi-lattice indexing (\"delete and retry\"): off\n",
      "                              Retry indexing: on\n"
     ]
    },
    {
     "name": "stdout",
     "output_type": "stream",
     "text": [
      "Running for x=-511.9, y=-512.3\n"
     ]
    },
    {
     "name": "stderr",
     "output_type": "stream",
     "text": [
      "50 images processed, 50 hits (100.0%), 32 indexable (64.0% of hits, 64.0% overall), 32 crystals, 9.7 images/sec.\n",
      "84 images processed, 84 hits (100.0%), 43 indexable (51.2% of hits, 51.2% overall), 43 crystals, 6.5 images/sec.\n",
      "124 images processed, 124 hits (100.0%), 48 indexable (38.7% of hits, 38.7% overall), 48 crystals, 7.7 images/sec.\n",
      "161 images processed, 161 hits (100.0%), 59 indexable (36.6% of hits, 36.6% overall), 59 crystals, 7.3 images/sec.\n",
      "202 images processed, 202 hits (100.0%), 63 indexable (31.2% of hits, 31.2% overall), 63 crystals, 8.1 images/sec.\n",
      "243 images processed, 243 hits (100.0%), 78 indexable (32.1% of hits, 32.1% overall), 78 crystals, 8.0 images/sec.\n",
      "Waiting for the last patterns to be processed...\n",
      "295 images processed, 295 hits (100.0%), 109 indexable (36.9% of hits, 36.9% overall), 109 crystals, 10.4 images/sec.\n",
      "Final: 300 images processed, 300 hits (100.0%), 110 indexable (36.7% of hits, 36.7% overall), 110 crystals.\n",
      "Processing XY pairs:  41%|████      | 129/313 [54:06<1:47:58, 35.21s/it]This is what I understood your unit cell to be:\n",
      "cubic P, right handed.\n",
      "a      b      c            alpha   beta  gamma\n",
      " 11.87  11.87  11.87 A     90.00  90.00  90.00 deg\n",
      "List of indexing methods:\n",
      "   0: xgandalf-nolatt-cell      (xgandalf using cell parameters as prior information)\n",
      "Indexing parameters:\n",
      "                  Check unit cell parameters: on\n",
      "                        Check peak alignment: on\n",
      "                   Refine indexing solutions: off\n",
      " Multi-lattice indexing (\"delete and retry\"): off\n",
      "                              Retry indexing: on\n"
     ]
    },
    {
     "name": "stdout",
     "output_type": "stream",
     "text": [
      "Running for x=-513.0, y=-512.9\n"
     ]
    },
    {
     "name": "stderr",
     "output_type": "stream",
     "text": [
      "55 images processed, 55 hits (100.0%), 45 indexable (81.8% of hits, 81.8% overall), 45 crystals, 10.8 images/sec.\n",
      "118 images processed, 118 hits (100.0%), 97 indexable (82.2% of hits, 82.2% overall), 97 crystals, 12.5 images/sec.\n",
      "186 images processed, 186 hits (100.0%), 158 indexable (84.9% of hits, 84.9% overall), 158 crystals, 13.6 images/sec.\n",
      "236 images processed, 236 hits (100.0%), 196 indexable (83.1% of hits, 83.1% overall), 196 crystals, 9.8 images/sec.\n",
      "Waiting for the last patterns to be processed...\n",
      "288 images processed, 288 hits (100.0%), 233 indexable (80.9% of hits, 80.9% overall), 233 crystals, 10.4 images/sec.\n",
      "Final: 300 images processed, 300 hits (100.0%), 241 indexable (80.3% of hits, 80.3% overall), 241 crystals.\n",
      "Processing XY pairs:  42%|████▏     | 130/313 [54:33<1:39:18, 32.56s/it]This is what I understood your unit cell to be:\n",
      "cubic P, right handed.\n",
      "a      b      c            alpha   beta  gamma\n",
      " 11.87  11.87  11.87 A     90.00  90.00  90.00 deg\n",
      "List of indexing methods:\n",
      "   0: xgandalf-nolatt-cell      (xgandalf using cell parameters as prior information)\n",
      "Indexing parameters:\n",
      "                  Check unit cell parameters: on\n",
      "                        Check peak alignment: on\n",
      "                   Refine indexing solutions: off\n",
      " Multi-lattice indexing (\"delete and retry\"): off\n",
      "                              Retry indexing: on\n"
     ]
    },
    {
     "name": "stdout",
     "output_type": "stream",
     "text": [
      "Running for x=-513.0, y=-512.1\n"
     ]
    },
    {
     "name": "stderr",
     "output_type": "stream",
     "text": [
      "50 images processed, 50 hits (100.0%), 36 indexable (72.0% of hits, 72.0% overall), 36 crystals, 9.8 images/sec.\n",
      "90 images processed, 90 hits (100.0%), 61 indexable (67.8% of hits, 67.8% overall), 61 crystals, 8.0 images/sec.\n",
      "133 images processed, 133 hits (100.0%), 79 indexable (59.4% of hits, 59.4% overall), 79 crystals, 8.6 images/sec.\n",
      "175 images processed, 175 hits (100.0%), 93 indexable (53.1% of hits, 53.1% overall), 93 crystals, 8.3 images/sec.\n",
      "220 images processed, 220 hits (100.0%), 110 indexable (50.0% of hits, 50.0% overall), 110 crystals, 8.5 images/sec.\n",
      "275 images processed, 275 hits (100.0%), 149 indexable (54.2% of hits, 54.2% overall), 149 crystals, 10.5 images/sec.\n",
      "Waiting for the last patterns to be processed...\n",
      "Final: 300 images processed, 300 hits (100.0%), 162 indexable (54.0% of hits, 54.0% overall), 162 crystals.\n",
      "Processing XY pairs:  42%|████▏     | 131/313 [55:07<1:40:04, 32.99s/it]This is what I understood your unit cell to be:\n",
      "cubic P, right handed.\n",
      "a      b      c            alpha   beta  gamma\n",
      " 11.87  11.87  11.87 A     90.00  90.00  90.00 deg\n",
      "List of indexing methods:\n",
      "   0: xgandalf-nolatt-cell      (xgandalf using cell parameters as prior information)\n",
      "Indexing parameters:\n",
      "                  Check unit cell parameters: on\n",
      "                        Check peak alignment: on\n",
      "                   Refine indexing solutions: off\n",
      " Multi-lattice indexing (\"delete and retry\"): off\n",
      "                              Retry indexing: on\n"
     ]
    },
    {
     "name": "stdout",
     "output_type": "stream",
     "text": [
      "Running for x=-512.9, y=-513.0\n"
     ]
    },
    {
     "name": "stderr",
     "output_type": "stream",
     "text": [
      "57 images processed, 57 hits (100.0%), 45 indexable (78.9% of hits, 78.9% overall), 45 crystals, 11.2 images/sec.\n",
      "117 images processed, 117 hits (100.0%), 93 indexable (79.5% of hits, 79.5% overall), 93 crystals, 12.0 images/sec.\n",
      "176 images processed, 176 hits (100.0%), 136 indexable (77.3% of hits, 77.3% overall), 136 crystals, 11.5 images/sec.\n",
      "242 images processed, 242 hits (100.0%), 190 indexable (78.5% of hits, 78.5% overall), 190 crystals, 13.2 images/sec.\n",
      "Waiting for the last patterns to be processed...\n",
      "298 images processed, 298 hits (100.0%), 229 indexable (76.8% of hits, 76.8% overall), 229 crystals, 11.0 images/sec.\n",
      "Final: 300 images processed, 300 hits (100.0%), 229 indexable (76.3% of hits, 76.3% overall), 229 crystals.\n",
      "Processing XY pairs:  42%|████▏     | 132/313 [55:34<1:33:58, 31.15s/it]This is what I understood your unit cell to be:\n",
      "cubic P, right handed.\n",
      "a      b      c            alpha   beta  gamma\n",
      " 11.87  11.87  11.87 A     90.00  90.00  90.00 deg\n",
      "List of indexing methods:\n",
      "   0: xgandalf-nolatt-cell      (xgandalf using cell parameters as prior information)\n",
      "Indexing parameters:\n",
      "                  Check unit cell parameters: on\n",
      "                        Check peak alignment: on\n",
      "                   Refine indexing solutions: off\n",
      " Multi-lattice indexing (\"delete and retry\"): off\n",
      "                              Retry indexing: on\n"
     ]
    },
    {
     "name": "stdout",
     "output_type": "stream",
     "text": [
      "Running for x=-512.9, y=-512.0\n"
     ]
    },
    {
     "name": "stderr",
     "output_type": "stream",
     "text": [
      "41 images processed, 41 hits (100.0%), 26 indexable (63.4% of hits, 63.4% overall), 26 crystals, 8.2 images/sec.\n",
      "78 images processed, 78 hits (100.0%), 43 indexable (55.1% of hits, 55.1% overall), 43 crystals, 7.4 images/sec.\n",
      "121 images processed, 121 hits (100.0%), 62 indexable (51.2% of hits, 51.2% overall), 62 crystals, 8.5 images/sec.\n",
      "161 images processed, 161 hits (100.0%), 80 indexable (49.7% of hits, 49.7% overall), 80 crystals, 7.5 images/sec.\n",
      "208 images processed, 208 hits (100.0%), 96 indexable (46.2% of hits, 46.2% overall), 96 crystals, 9.3 images/sec.\n",
      "258 images processed, 258 hits (100.0%), 125 indexable (48.4% of hits, 48.4% overall), 125 crystals, 9.9 images/sec.\n",
      "Waiting for the last patterns to be processed...\n",
      "Final: 300 images processed, 300 hits (100.0%), 152 indexable (50.7% of hits, 50.7% overall), 152 crystals.\n",
      "Processing XY pairs:  42%|████▏     | 133/313 [56:09<1:37:27, 32.48s/it]This is what I understood your unit cell to be:\n",
      "cubic P, right handed.\n",
      "a      b      c            alpha   beta  gamma\n",
      " 11.87  11.87  11.87 A     90.00  90.00  90.00 deg\n",
      "List of indexing methods:\n",
      "   0: xgandalf-nolatt-cell      (xgandalf using cell parameters as prior information)\n",
      "Indexing parameters:\n",
      "                  Check unit cell parameters: on\n",
      "                        Check peak alignment: on\n",
      "                   Refine indexing solutions: off\n",
      " Multi-lattice indexing (\"delete and retry\"): off\n",
      "                              Retry indexing: on\n"
     ]
    },
    {
     "name": "stdout",
     "output_type": "stream",
     "text": [
      "Running for x=-512.1, y=-513.0\n"
     ]
    },
    {
     "name": "stderr",
     "output_type": "stream",
     "text": [
      "48 images processed, 48 hits (100.0%), 36 indexable (75.0% of hits, 75.0% overall), 36 crystals, 9.5 images/sec.\n",
      "102 images processed, 102 hits (100.0%), 75 indexable (73.5% of hits, 73.5% overall), 75 crystals, 10.5 images/sec.\n",
      "161 images processed, 161 hits (100.0%), 120 indexable (74.5% of hits, 74.5% overall), 120 crystals, 11.7 images/sec.\n",
      "215 images processed, 215 hits (100.0%), 160 indexable (74.4% of hits, 74.4% overall), 160 crystals, 10.4 images/sec.\n",
      "264 images processed, 264 hits (100.0%), 194 indexable (73.5% of hits, 73.5% overall), 194 crystals, 9.4 images/sec.\n",
      "Waiting for the last patterns to be processed...\n",
      "Final: 300 images processed, 300 hits (100.0%), 208 indexable (69.3% of hits, 69.3% overall), 208 crystals.\n",
      "Processing XY pairs:  43%|████▎     | 134/313 [56:40<1:35:00, 31.84s/it]This is what I understood your unit cell to be:\n",
      "cubic P, right handed.\n",
      "a      b      c            alpha   beta  gamma\n",
      " 11.87  11.87  11.87 A     90.00  90.00  90.00 deg\n",
      "List of indexing methods:\n",
      "   0: xgandalf-nolatt-cell      (xgandalf using cell parameters as prior information)\n",
      "Indexing parameters:\n",
      "                  Check unit cell parameters: on\n",
      "                        Check peak alignment: on\n",
      "                   Refine indexing solutions: off\n",
      " Multi-lattice indexing (\"delete and retry\"): off\n",
      "                              Retry indexing: on\n"
     ]
    },
    {
     "name": "stdout",
     "output_type": "stream",
     "text": [
      "Running for x=-512.1, y=-512.0\n"
     ]
    },
    {
     "name": "stderr",
     "output_type": "stream",
     "text": [
      "40 images processed, 40 hits (100.0%), 25 indexable (62.5% of hits, 62.5% overall), 25 crystals, 7.4 images/sec.\n",
      "73 images processed, 73 hits (100.0%), 29 indexable (39.7% of hits, 39.7% overall), 29 crystals, 6.3 images/sec.\n",
      "117 images processed, 117 hits (100.0%), 36 indexable (30.8% of hits, 30.8% overall), 36 crystals, 8.7 images/sec.\n",
      "150 images processed, 150 hits (100.0%), 40 indexable (26.7% of hits, 26.7% overall), 40 crystals, 6.6 images/sec.\n",
      "187 images processed, 187 hits (100.0%), 50 indexable (26.7% of hits, 26.7% overall), 50 crystals, 6.9 images/sec.\n",
      "232 images processed, 232 hits (100.0%), 61 indexable (26.3% of hits, 26.3% overall), 61 crystals, 8.7 images/sec.\n",
      "Waiting for the last patterns to be processed...\n",
      "299 images processed, 299 hits (100.0%), 101 indexable (33.8% of hits, 33.8% overall), 101 crystals, 13.2 images/sec.\n",
      "Final: 300 images processed, 300 hits (100.0%), 101 indexable (33.7% of hits, 33.7% overall), 101 crystals.\n",
      "Processing XY pairs:  43%|████▎     | 135/313 [57:18<1:39:57, 33.69s/it]This is what I understood your unit cell to be:\n",
      "cubic P, right handed.\n",
      "a      b      c            alpha   beta  gamma\n",
      " 11.87  11.87  11.87 A     90.00  90.00  90.00 deg\n",
      "List of indexing methods:\n",
      "   0: xgandalf-nolatt-cell      (xgandalf using cell parameters as prior information)\n",
      "Indexing parameters:\n",
      "                  Check unit cell parameters: on\n",
      "                        Check peak alignment: on\n",
      "                   Refine indexing solutions: off\n",
      " Multi-lattice indexing (\"delete and retry\"): off\n",
      "                              Retry indexing: on\n"
     ]
    },
    {
     "name": "stdout",
     "output_type": "stream",
     "text": [
      "Running for x=-512.0, y=-512.9\n"
     ]
    },
    {
     "name": "stderr",
     "output_type": "stream",
     "text": [
      "54 images processed, 54 hits (100.0%), 44 indexable (81.5% of hits, 81.5% overall), 44 crystals, 10.7 images/sec.\n",
      "107 images processed, 107 hits (100.0%), 82 indexable (76.6% of hits, 76.6% overall), 82 crystals, 10.4 images/sec.\n",
      "168 images processed, 168 hits (100.0%), 122 indexable (72.6% of hits, 72.6% overall), 122 crystals, 12.1 images/sec.\n",
      "219 images processed, 219 hits (100.0%), 157 indexable (71.7% of hits, 71.7% overall), 157 crystals, 9.9 images/sec.\n",
      "261 images processed, 261 hits (100.0%), 181 indexable (69.3% of hits, 69.3% overall), 181 crystals, 8.2 images/sec.\n",
      "Waiting for the last patterns to be processed...\n",
      "Final: 300 images processed, 300 hits (100.0%), 196 indexable (65.3% of hits, 65.3% overall), 196 crystals.\n",
      "Processing XY pairs:  43%|████▎     | 136/313 [57:48<1:36:28, 32.70s/it]This is what I understood your unit cell to be:\n",
      "cubic P, right handed.\n",
      "a      b      c            alpha   beta  gamma\n",
      " 11.87  11.87  11.87 A     90.00  90.00  90.00 deg\n",
      "List of indexing methods:\n",
      "   0: xgandalf-nolatt-cell      (xgandalf using cell parameters as prior information)\n",
      "Indexing parameters:\n",
      "                  Check unit cell parameters: on\n",
      "                        Check peak alignment: on\n",
      "                   Refine indexing solutions: off\n",
      " Multi-lattice indexing (\"delete and retry\"): off\n",
      "                              Retry indexing: on\n"
     ]
    },
    {
     "name": "stdout",
     "output_type": "stream",
     "text": [
      "Running for x=-512.0, y=-512.1\n"
     ]
    },
    {
     "name": "stderr",
     "output_type": "stream",
     "text": [
      "42 images processed, 42 hits (100.0%), 26 indexable (61.9% of hits, 61.9% overall), 26 crystals, 8.1 images/sec.\n",
      "77 images processed, 77 hits (100.0%), 35 indexable (45.5% of hits, 45.5% overall), 35 crystals, 6.7 images/sec.\n",
      "118 images processed, 118 hits (100.0%), 42 indexable (35.6% of hits, 35.6% overall), 42 crystals, 8.0 images/sec.\n",
      "153 images processed, 153 hits (100.0%), 46 indexable (30.1% of hits, 30.1% overall), 46 crystals, 6.9 images/sec.\n",
      "190 images processed, 190 hits (100.0%), 54 indexable (28.4% of hits, 28.4% overall), 54 crystals, 7.3 images/sec.\n",
      "232 images processed, 232 hits (100.0%), 66 indexable (28.4% of hits, 28.4% overall), 66 crystals, 8.3 images/sec.\n",
      "Waiting for the last patterns to be processed...\n",
      "284 images processed, 284 hits (100.0%), 101 indexable (35.6% of hits, 35.6% overall), 101 crystals, 10.4 images/sec.\n",
      "Final: 300 images processed, 300 hits (100.0%), 109 indexable (36.3% of hits, 36.3% overall), 109 crystals.\n",
      "Processing XY pairs:  44%|████▍     | 137/313 [58:26<1:40:47, 34.36s/it]This is what I understood your unit cell to be:\n",
      "cubic P, right handed.\n",
      "a      b      c            alpha   beta  gamma\n",
      " 11.87  11.87  11.87 A     90.00  90.00  90.00 deg\n",
      "List of indexing methods:\n",
      "   0: xgandalf-nolatt-cell      (xgandalf using cell parameters as prior information)\n",
      "Indexing parameters:\n",
      "                  Check unit cell parameters: on\n",
      "                        Check peak alignment: on\n",
      "                   Refine indexing solutions: off\n",
      " Multi-lattice indexing (\"delete and retry\"): off\n",
      "                              Retry indexing: on\n"
     ]
    },
    {
     "name": "stdout",
     "output_type": "stream",
     "text": [
      "Running for x=-513.1, y=-512.8\n"
     ]
    },
    {
     "name": "stderr",
     "output_type": "stream",
     "text": [
      "58 images processed, 58 hits (100.0%), 50 indexable (86.2% of hits, 86.2% overall), 50 crystals, 11.5 images/sec.\n",
      "115 images processed, 115 hits (100.0%), 90 indexable (78.3% of hits, 78.3% overall), 90 crystals, 11.2 images/sec.\n",
      "170 images processed, 170 hits (100.0%), 128 indexable (75.3% of hits, 75.3% overall), 128 crystals, 10.7 images/sec.\n",
      "217 images processed, 217 hits (100.0%), 155 indexable (71.4% of hits, 71.4% overall), 155 crystals, 9.3 images/sec.\n",
      "261 images processed, 261 hits (100.0%), 177 indexable (67.8% of hits, 67.8% overall), 177 crystals, 8.8 images/sec.\n",
      "Waiting for the last patterns to be processed...\n",
      "Final: 300 images processed, 300 hits (100.0%), 198 indexable (66.0% of hits, 66.0% overall), 198 crystals.\n",
      "Processing XY pairs:  44%|████▍     | 138/313 [58:56<1:36:28, 33.08s/it]This is what I understood your unit cell to be:\n",
      "cubic P, right handed.\n",
      "a      b      c            alpha   beta  gamma\n",
      " 11.87  11.87  11.87 A     90.00  90.00  90.00 deg\n",
      "List of indexing methods:\n",
      "   0: xgandalf-nolatt-cell      (xgandalf using cell parameters as prior information)\n",
      "Indexing parameters:\n",
      "                  Check unit cell parameters: on\n",
      "                        Check peak alignment: on\n",
      "                   Refine indexing solutions: off\n",
      " Multi-lattice indexing (\"delete and retry\"): off\n",
      "                              Retry indexing: on\n"
     ]
    },
    {
     "name": "stdout",
     "output_type": "stream",
     "text": [
      "Running for x=-513.1, y=-512.2\n"
     ]
    },
    {
     "name": "stderr",
     "output_type": "stream",
     "text": [
      "45 images processed, 45 hits (100.0%), 29 indexable (64.4% of hits, 64.4% overall), 29 crystals, 8.9 images/sec.\n",
      "86 images processed, 86 hits (100.0%), 52 indexable (60.5% of hits, 60.5% overall), 52 crystals, 8.2 images/sec.\n",
      "124 images processed, 124 hits (100.0%), 67 indexable (54.0% of hits, 54.0% overall), 67 crystals, 7.5 images/sec.\n",
      "169 images processed, 169 hits (100.0%), 85 indexable (50.3% of hits, 50.3% overall), 85 crystals, 8.6 images/sec.\n",
      "211 images processed, 211 hits (100.0%), 101 indexable (47.9% of hits, 47.9% overall), 101 crystals, 8.4 images/sec.\n",
      "257 images processed, 257 hits (100.0%), 121 indexable (47.1% of hits, 47.1% overall), 121 crystals, 8.6 images/sec.\n",
      "Waiting for the last patterns to be processed...\n",
      "Final: 300 images processed, 300 hits (100.0%), 151 indexable (50.3% of hits, 50.3% overall), 151 crystals.\n",
      "Processing XY pairs:  44%|████▍     | 139/313 [59:32<1:38:01, 33.80s/it]This is what I understood your unit cell to be:\n",
      "cubic P, right handed.\n",
      "a      b      c            alpha   beta  gamma\n",
      " 11.87  11.87  11.87 A     90.00  90.00  90.00 deg\n",
      "List of indexing methods:\n",
      "   0: xgandalf-nolatt-cell      (xgandalf using cell parameters as prior information)\n",
      "Indexing parameters:\n",
      "                  Check unit cell parameters: on\n",
      "                        Check peak alignment: on\n",
      "                   Refine indexing solutions: off\n",
      " Multi-lattice indexing (\"delete and retry\"): off\n",
      "                              Retry indexing: on\n"
     ]
    },
    {
     "name": "stdout",
     "output_type": "stream",
     "text": [
      "Running for x=-512.8, y=-513.1\n"
     ]
    },
    {
     "name": "stderr",
     "output_type": "stream",
     "text": [
      "49 images processed, 49 hits (100.0%), 33 indexable (67.3% of hits, 67.3% overall), 33 crystals, 9.8 images/sec.\n",
      "104 images processed, 104 hits (100.0%), 75 indexable (72.1% of hits, 72.1% overall), 75 crystals, 10.8 images/sec.\n",
      "160 images processed, 160 hits (100.0%), 117 indexable (73.1% of hits, 73.1% overall), 117 crystals, 11.2 images/sec.\n",
      "218 images processed, 218 hits (100.0%), 158 indexable (72.5% of hits, 72.5% overall), 158 crystals, 11.6 images/sec.\n",
      "276 images processed, 276 hits (100.0%), 207 indexable (75.0% of hits, 75.0% overall), 207 crystals, 11.4 images/sec.\n",
      "Waiting for the last patterns to be processed...\n",
      "Final: 300 images processed, 300 hits (100.0%), 224 indexable (74.7% of hits, 74.7% overall), 224 crystals.\n",
      "Processing XY pairs:  45%|████▍     | 140/313 [1:00:00<1:32:47, 32.18s/it]This is what I understood your unit cell to be:\n",
      "cubic P, right handed.\n",
      "a      b      c            alpha   beta  gamma\n",
      " 11.87  11.87  11.87 A     90.00  90.00  90.00 deg\n",
      "List of indexing methods:\n",
      "   0: xgandalf-nolatt-cell      (xgandalf using cell parameters as prior information)\n",
      "Indexing parameters:\n",
      "                  Check unit cell parameters: on\n",
      "                        Check peak alignment: on\n",
      "                   Refine indexing solutions: off\n",
      " Multi-lattice indexing (\"delete and retry\"): off\n",
      "                              Retry indexing: on\n"
     ]
    },
    {
     "name": "stdout",
     "output_type": "stream",
     "text": [
      "Running for x=-512.8, y=-511.9\n"
     ]
    },
    {
     "name": "stderr",
     "output_type": "stream",
     "text": [
      "40 images processed, 40 hits (100.0%), 21 indexable (52.5% of hits, 52.5% overall), 21 crystals, 8.0 images/sec.\n",
      "76 images processed, 76 hits (100.0%), 35 indexable (46.1% of hits, 46.1% overall), 35 crystals, 7.2 images/sec.\n",
      "118 images processed, 118 hits (100.0%), 50 indexable (42.4% of hits, 42.4% overall), 50 crystals, 8.3 images/sec.\n",
      "161 images processed, 161 hits (100.0%), 69 indexable (42.9% of hits, 42.9% overall), 69 crystals, 8.6 images/sec.\n",
      "201 images processed, 201 hits (100.0%), 81 indexable (40.3% of hits, 40.3% overall), 81 crystals, 7.6 images/sec.\n",
      "253 images processed, 253 hits (100.0%), 106 indexable (41.9% of hits, 41.9% overall), 106 crystals, 10.3 images/sec.\n",
      "Waiting for the last patterns to be processed...\n",
      "Final: 300 images processed, 300 hits (100.0%), 134 indexable (44.7% of hits, 44.7% overall), 134 crystals.\n",
      "Processing XY pairs:  45%|████▌     | 141/313 [1:00:36<1:35:47, 33.41s/it]This is what I understood your unit cell to be:\n",
      "cubic P, right handed.\n",
      "a      b      c            alpha   beta  gamma\n",
      " 11.87  11.87  11.87 A     90.00  90.00  90.00 deg\n",
      "List of indexing methods:\n",
      "   0: xgandalf-nolatt-cell      (xgandalf using cell parameters as prior information)\n",
      "Indexing parameters:\n",
      "                  Check unit cell parameters: on\n",
      "                        Check peak alignment: on\n",
      "                   Refine indexing solutions: off\n",
      " Multi-lattice indexing (\"delete and retry\"): off\n",
      "                              Retry indexing: on\n"
     ]
    },
    {
     "name": "stdout",
     "output_type": "stream",
     "text": [
      "Running for x=-512.2, y=-513.1\n"
     ]
    },
    {
     "name": "stderr",
     "output_type": "stream",
     "text": [
      "44 images processed, 44 hits (100.0%), 27 indexable (61.4% of hits, 61.4% overall), 27 crystals, 8.7 images/sec.\n",
      "93 images processed, 93 hits (100.0%), 58 indexable (62.4% of hits, 62.4% overall), 58 crystals, 9.5 images/sec.\n",
      "144 images processed, 144 hits (100.0%), 91 indexable (63.2% of hits, 63.2% overall), 91 crystals, 10.2 images/sec.\n",
      "193 images processed, 193 hits (100.0%), 121 indexable (62.7% of hits, 62.7% overall), 121 crystals, 9.8 images/sec.\n",
      "247 images processed, 247 hits (100.0%), 157 indexable (63.6% of hits, 63.6% overall), 157 crystals, 10.3 images/sec.\n",
      "Waiting for the last patterns to be processed...\n",
      "Final: 300 images processed, 300 hits (100.0%), 195 indexable (65.0% of hits, 65.0% overall), 195 crystals.\n",
      "Processing XY pairs:  45%|████▌     | 142/313 [1:01:08<1:33:38, 32.86s/it]This is what I understood your unit cell to be:\n",
      "cubic P, right handed.\n",
      "a      b      c            alpha   beta  gamma\n",
      " 11.87  11.87  11.87 A     90.00  90.00  90.00 deg\n",
      "List of indexing methods:\n",
      "   0: xgandalf-nolatt-cell      (xgandalf using cell parameters as prior information)\n",
      "Indexing parameters:\n",
      "                  Check unit cell parameters: on\n",
      "                        Check peak alignment: on\n",
      "                   Refine indexing solutions: off\n",
      " Multi-lattice indexing (\"delete and retry\"): off\n",
      "                              Retry indexing: on\n"
     ]
    },
    {
     "name": "stdout",
     "output_type": "stream",
     "text": [
      "Running for x=-512.2, y=-511.9\n"
     ]
    },
    {
     "name": "stderr",
     "output_type": "stream",
     "text": [
      "33 images processed, 33 hits (100.0%), 20 indexable (60.6% of hits, 60.6% overall), 20 crystals, 6.4 images/sec.\n",
      "72 images processed, 72 hits (100.0%), 28 indexable (38.9% of hits, 38.9% overall), 28 crystals, 7.6 images/sec.\n",
      "110 images processed, 110 hits (100.0%), 32 indexable (29.1% of hits, 29.1% overall), 32 crystals, 7.5 images/sec.\n",
      "148 images processed, 148 hits (100.0%), 37 indexable (25.0% of hits, 25.0% overall), 37 crystals, 7.1 images/sec.\n",
      "187 images processed, 187 hits (100.0%), 45 indexable (24.1% of hits, 24.1% overall), 45 crystals, 7.7 images/sec.\n",
      "228 images processed, 228 hits (100.0%), 53 indexable (23.2% of hits, 23.2% overall), 53 crystals, 7.9 images/sec.\n",
      "Waiting for the last patterns to be processed...\n",
      "284 images processed, 284 hits (100.0%), 86 indexable (30.3% of hits, 30.3% overall), 86 crystals, 11.1 images/sec.\n",
      "Final: 300 images processed, 300 hits (100.0%), 92 indexable (30.7% of hits, 30.7% overall), 92 crystals.\n",
      "Processing XY pairs:  46%|████▌     | 143/313 [1:01:47<1:37:52, 34.55s/it]This is what I understood your unit cell to be:\n",
      "cubic P, right handed.\n",
      "a      b      c            alpha   beta  gamma\n",
      " 11.87  11.87  11.87 A     90.00  90.00  90.00 deg\n",
      "List of indexing methods:\n",
      "   0: xgandalf-nolatt-cell      (xgandalf using cell parameters as prior information)\n",
      "Indexing parameters:\n",
      "                  Check unit cell parameters: on\n",
      "                        Check peak alignment: on\n",
      "                   Refine indexing solutions: off\n",
      " Multi-lattice indexing (\"delete and retry\"): off\n",
      "                              Retry indexing: on\n"
     ]
    },
    {
     "name": "stdout",
     "output_type": "stream",
     "text": [
      "Running for x=-511.9, y=-512.8\n"
     ]
    },
    {
     "name": "stderr",
     "output_type": "stream",
     "text": [
      "51 images processed, 51 hits (100.0%), 35 indexable (68.6% of hits, 68.6% overall), 35 crystals, 9.8 images/sec.\n",
      "105 images processed, 105 hits (100.0%), 75 indexable (71.4% of hits, 71.4% overall), 75 crystals, 10.5 images/sec.\n",
      "158 images processed, 158 hits (100.0%), 110 indexable (69.6% of hits, 69.6% overall), 110 crystals, 10.3 images/sec.\n",
      "199 images processed, 199 hits (100.0%), 130 indexable (65.3% of hits, 65.3% overall), 130 crystals, 8.1 images/sec.\n",
      "241 images processed, 241 hits (100.0%), 147 indexable (61.0% of hits, 61.0% overall), 147 crystals, 8.4 images/sec.\n",
      "Waiting for the last patterns to be processed...\n",
      "285 images processed, 285 hits (100.0%), 165 indexable (57.9% of hits, 57.9% overall), 165 crystals, 8.7 images/sec.\n",
      "Final: 300 images processed, 300 hits (100.0%), 169 indexable (56.3% of hits, 56.3% overall), 169 crystals.\n",
      "Processing XY pairs:  46%|████▌     | 144/313 [1:02:20<1:36:10, 34.14s/it]This is what I understood your unit cell to be:\n",
      "cubic P, right handed.\n",
      "a      b      c            alpha   beta  gamma\n",
      " 11.87  11.87  11.87 A     90.00  90.00  90.00 deg\n",
      "List of indexing methods:\n",
      "   0: xgandalf-nolatt-cell      (xgandalf using cell parameters as prior information)\n",
      "Indexing parameters:\n",
      "                  Check unit cell parameters: on\n",
      "                        Check peak alignment: on\n",
      "                   Refine indexing solutions: off\n",
      " Multi-lattice indexing (\"delete and retry\"): off\n",
      "                              Retry indexing: on\n"
     ]
    },
    {
     "name": "stdout",
     "output_type": "stream",
     "text": [
      "Running for x=-511.9, y=-512.2\n"
     ]
    },
    {
     "name": "stderr",
     "output_type": "stream",
     "text": [
      "42 images processed, 42 hits (100.0%), 26 indexable (61.9% of hits, 61.9% overall), 26 crystals, 8.0 images/sec.\n",
      "73 images processed, 73 hits (100.0%), 31 indexable (42.5% of hits, 42.5% overall), 31 crystals, 6.2 images/sec.\n",
      "115 images processed, 115 hits (100.0%), 35 indexable (30.4% of hits, 30.4% overall), 35 crystals, 8.4 images/sec.\n",
      "153 images processed, 153 hits (100.0%), 42 indexable (27.5% of hits, 27.5% overall), 42 crystals, 7.3 images/sec.\n",
      "191 images processed, 191 hits (100.0%), 52 indexable (27.2% of hits, 27.2% overall), 52 crystals, 7.5 images/sec.\n",
      "230 images processed, 230 hits (100.0%), 59 indexable (25.7% of hits, 25.7% overall), 59 crystals, 7.7 images/sec.\n",
      "276 images processed, 276 hits (100.0%), 84 indexable (30.4% of hits, 30.4% overall), 84 crystals, 9.2 images/sec.\n",
      "Waiting for the last patterns to be processed...\n",
      "Final: 300 images processed, 300 hits (100.0%), 95 indexable (31.7% of hits, 31.7% overall), 95 crystals.\n",
      "Processing XY pairs:  46%|████▋     | 145/313 [1:02:59<1:39:31, 35.54s/it]This is what I understood your unit cell to be:\n",
      "cubic P, right handed.\n",
      "a      b      c            alpha   beta  gamma\n",
      " 11.87  11.87  11.87 A     90.00  90.00  90.00 deg\n",
      "List of indexing methods:\n",
      "   0: xgandalf-nolatt-cell      (xgandalf using cell parameters as prior information)\n",
      "Indexing parameters:\n",
      "                  Check unit cell parameters: on\n",
      "                        Check peak alignment: on\n",
      "                   Refine indexing solutions: off\n",
      " Multi-lattice indexing (\"delete and retry\"): off\n",
      "                              Retry indexing: on\n"
     ]
    },
    {
     "name": "stdout",
     "output_type": "stream",
     "text": [
      "Running for x=-512.5, y=-511.8\n"
     ]
    },
    {
     "name": "stderr",
     "output_type": "stream",
     "text": [
      "32 images processed, 32 hits (100.0%), 16 indexable (50.0% of hits, 50.0% overall), 16 crystals, 6.2 images/sec.\n",
      "73 images processed, 73 hits (100.0%), 21 indexable (28.8% of hits, 28.8% overall), 21 crystals, 7.7 images/sec.\n",
      "108 images processed, 108 hits (100.0%), 25 indexable (23.1% of hits, 23.1% overall), 25 crystals, 6.7 images/sec.\n",
      "147 images processed, 147 hits (100.0%), 29 indexable (19.7% of hits, 19.7% overall), 29 crystals, 7.7 images/sec.\n",
      "186 images processed, 186 hits (100.0%), 36 indexable (19.4% of hits, 19.4% overall), 36 crystals, 7.8 images/sec.\n",
      "230 images processed, 230 hits (100.0%), 52 indexable (22.6% of hits, 22.6% overall), 52 crystals, 8.7 images/sec.\n",
      "271 images processed, 271 hits (100.0%), 65 indexable (24.0% of hits, 24.0% overall), 65 crystals, 8.2 images/sec.\n",
      "Waiting for the last patterns to be processed...\n",
      "Final: 300 images processed, 300 hits (100.0%), 78 indexable (26.0% of hits, 26.0% overall), 78 crystals.\n",
      "Processing XY pairs:  47%|████▋     | 146/313 [1:03:39<1:43:04, 37.03s/it]This is what I understood your unit cell to be:\n",
      "cubic P, right handed.\n",
      "a      b      c            alpha   beta  gamma\n",
      " 11.87  11.87  11.87 A     90.00  90.00  90.00 deg\n",
      "List of indexing methods:\n",
      "   0: xgandalf-nolatt-cell      (xgandalf using cell parameters as prior information)\n",
      "Indexing parameters:\n",
      "                  Check unit cell parameters: on\n",
      "                        Check peak alignment: on\n",
      "                   Refine indexing solutions: off\n",
      " Multi-lattice indexing (\"delete and retry\"): off\n",
      "                              Retry indexing: on\n"
     ]
    },
    {
     "name": "stdout",
     "output_type": "stream",
     "text": [
      "Running for x=-511.8, y=-512.5\n"
     ]
    },
    {
     "name": "stderr",
     "output_type": "stream",
     "text": [
      "47 images processed, 47 hits (100.0%), 35 indexable (74.5% of hits, 74.5% overall), 35 crystals, 9.3 images/sec.\n",
      "92 images processed, 92 hits (100.0%), 59 indexable (64.1% of hits, 64.1% overall), 59 crystals, 8.5 images/sec.\n",
      "135 images processed, 135 hits (100.0%), 72 indexable (53.3% of hits, 53.3% overall), 72 crystals, 8.2 images/sec.\n",
      "174 images processed, 174 hits (100.0%), 85 indexable (48.9% of hits, 48.9% overall), 85 crystals, 7.6 images/sec.\n",
      "211 images processed, 211 hits (100.0%), 93 indexable (44.1% of hits, 44.1% overall), 93 crystals, 7.2 images/sec.\n",
      "254 images processed, 254 hits (100.0%), 106 indexable (41.7% of hits, 41.7% overall), 106 crystals, 8.4 images/sec.\n",
      "Waiting for the last patterns to be processed...\n",
      "Final: 300 images processed, 300 hits (100.0%), 123 indexable (41.0% of hits, 41.0% overall), 123 crystals.\n",
      "Processing XY pairs:  47%|████▋     | 147/313 [1:04:16<1:42:23, 37.01s/it]This is what I understood your unit cell to be:\n",
      "cubic P, right handed.\n",
      "a      b      c            alpha   beta  gamma\n",
      " 11.87  11.87  11.87 A     90.00  90.00  90.00 deg\n",
      "List of indexing methods:\n",
      "   0: xgandalf-nolatt-cell      (xgandalf using cell parameters as prior information)\n",
      "Indexing parameters:\n",
      "                  Check unit cell parameters: on\n",
      "                        Check peak alignment: on\n",
      "                   Refine indexing solutions: off\n",
      " Multi-lattice indexing (\"delete and retry\"): off\n",
      "                              Retry indexing: on\n"
     ]
    },
    {
     "name": "stdout",
     "output_type": "stream",
     "text": [
      "Running for x=-513.2, y=-512.5\n"
     ]
    },
    {
     "name": "stderr",
     "output_type": "stream",
     "text": [
      "47 images processed, 47 hits (100.0%), 32 indexable (68.1% of hits, 68.1% overall), 32 crystals, 9.4 images/sec.\n",
      "93 images processed, 93 hits (100.0%), 62 indexable (66.7% of hits, 66.7% overall), 62 crystals, 9.1 images/sec.\n",
      "135 images processed, 135 hits (100.0%), 75 indexable (55.6% of hits, 55.6% overall), 75 crystals, 8.3 images/sec.\n",
      "174 images processed, 174 hits (100.0%), 86 indexable (49.4% of hits, 49.4% overall), 86 crystals, 7.7 images/sec.\n",
      "210 images processed, 210 hits (100.0%), 92 indexable (43.8% of hits, 43.8% overall), 92 crystals, 7.2 images/sec.\n",
      "256 images processed, 256 hits (100.0%), 107 indexable (41.8% of hits, 41.8% overall), 107 crystals, 9.1 images/sec.\n",
      "Waiting for the last patterns to be processed...\n",
      "Final: 300 images processed, 300 hits (100.0%), 131 indexable (43.7% of hits, 43.7% overall), 131 crystals.\n",
      "Processing XY pairs:  47%|████▋     | 148/313 [1:04:52<1:40:44, 36.63s/it]This is what I understood your unit cell to be:\n",
      "cubic P, right handed.\n",
      "a      b      c            alpha   beta  gamma\n",
      " 11.87  11.87  11.87 A     90.00  90.00  90.00 deg\n",
      "List of indexing methods:\n",
      "   0: xgandalf-nolatt-cell      (xgandalf using cell parameters as prior information)\n",
      "Indexing parameters:\n",
      "                  Check unit cell parameters: on\n",
      "                        Check peak alignment: on\n",
      "                   Refine indexing solutions: off\n",
      " Multi-lattice indexing (\"delete and retry\"): off\n",
      "                              Retry indexing: on\n"
     ]
    },
    {
     "name": "stdout",
     "output_type": "stream",
     "text": [
      "Running for x=-512.5, y=-513.2\n"
     ]
    },
    {
     "name": "stderr",
     "output_type": "stream",
     "text": [
      "38 images processed, 38 hits (100.0%), 18 indexable (47.4% of hits, 47.4% overall), 18 crystals, 7.5 images/sec.\n",
      "78 images processed, 78 hits (100.0%), 31 indexable (39.7% of hits, 39.7% overall), 31 crystals, 7.4 images/sec.\n",
      "125 images processed, 125 hits (100.0%), 51 indexable (40.8% of hits, 40.8% overall), 51 crystals, 9.3 images/sec.\n",
      "169 images processed, 169 hits (100.0%), 73 indexable (43.2% of hits, 43.2% overall), 73 crystals, 8.7 images/sec.\n",
      "218 images processed, 218 hits (100.0%), 92 indexable (42.2% of hits, 42.2% overall), 92 crystals, 9.0 images/sec.\n",
      "269 images processed, 269 hits (100.0%), 119 indexable (44.2% of hits, 44.2% overall), 119 crystals, 9.9 images/sec.\n",
      "Waiting for the last patterns to be processed...\n",
      "Final: 300 images processed, 300 hits (100.0%), 135 indexable (45.0% of hits, 45.0% overall), 135 crystals.\n",
      "Processing XY pairs:  48%|████▊     | 149/313 [1:05:27<1:38:51, 36.17s/it]This is what I understood your unit cell to be:\n",
      "cubic P, right handed.\n",
      "a      b      c            alpha   beta  gamma\n",
      " 11.87  11.87  11.87 A     90.00  90.00  90.00 deg\n",
      "List of indexing methods:\n",
      "   0: xgandalf-nolatt-cell      (xgandalf using cell parameters as prior information)\n",
      "Indexing parameters:\n",
      "                  Check unit cell parameters: on\n",
      "                        Check peak alignment: on\n",
      "                   Refine indexing solutions: off\n",
      " Multi-lattice indexing (\"delete and retry\"): off\n",
      "                              Retry indexing: on\n"
     ]
    },
    {
     "name": "stdout",
     "output_type": "stream",
     "text": [
      "Running for x=-512.6, y=-511.8\n"
     ]
    },
    {
     "name": "stderr",
     "output_type": "stream",
     "text": [
      "27 images processed, 27 hits (100.0%), 13 indexable (48.1% of hits, 48.1% overall), 13 crystals, 5.3 images/sec.\n",
      "71 images processed, 71 hits (100.0%), 20 indexable (28.2% of hits, 28.2% overall), 20 crystals, 8.5 images/sec.\n",
      "105 images processed, 105 hits (100.0%), 29 indexable (27.6% of hits, 27.6% overall), 29 crystals, 6.5 images/sec.\n",
      "146 images processed, 146 hits (100.0%), 35 indexable (24.0% of hits, 24.0% overall), 35 crystals, 8.1 images/sec.\n",
      "183 images processed, 183 hits (100.0%), 42 indexable (23.0% of hits, 23.0% overall), 42 crystals, 7.3 images/sec.\n",
      "231 images processed, 231 hits (100.0%), 59 indexable (25.5% of hits, 25.5% overall), 59 crystals, 9.3 images/sec.\n",
      "269 images processed, 269 hits (100.0%), 71 indexable (26.4% of hits, 26.4% overall), 71 crystals, 7.6 images/sec.\n",
      "Waiting for the last patterns to be processed...\n",
      "Final: 300 images processed, 300 hits (100.0%), 79 indexable (26.3% of hits, 26.3% overall), 79 crystals.\n",
      "Processing XY pairs:  48%|████▊     | 150/313 [1:06:07<1:41:07, 37.23s/it]This is what I understood your unit cell to be:\n",
      "cubic P, right handed.\n",
      "a      b      c            alpha   beta  gamma\n",
      " 11.87  11.87  11.87 A     90.00  90.00  90.00 deg\n",
      "List of indexing methods:\n",
      "   0: xgandalf-nolatt-cell      (xgandalf using cell parameters as prior information)\n",
      "Indexing parameters:\n",
      "                  Check unit cell parameters: on\n",
      "                        Check peak alignment: on\n",
      "                   Refine indexing solutions: off\n",
      " Multi-lattice indexing (\"delete and retry\"): off\n",
      "                              Retry indexing: on\n"
     ]
    },
    {
     "name": "stdout",
     "output_type": "stream",
     "text": [
      "Running for x=-512.4, y=-511.8\n"
     ]
    },
    {
     "name": "stderr",
     "output_type": "stream",
     "text": [
      "28 images processed, 28 hits (100.0%), 13 indexable (46.4% of hits, 46.4% overall), 13 crystals, 5.6 images/sec.\n",
      "69 images processed, 69 hits (100.0%), 16 indexable (23.2% of hits, 23.2% overall), 16 crystals, 7.7 images/sec.\n",
      "101 images processed, 101 hits (100.0%), 18 indexable (17.8% of hits, 17.8% overall), 18 crystals, 6.4 images/sec.\n",
      "139 images processed, 139 hits (100.0%), 20 indexable (14.4% of hits, 14.4% overall), 20 crystals, 7.6 images/sec.\n",
      "179 images processed, 179 hits (100.0%), 30 indexable (16.8% of hits, 16.8% overall), 30 crystals, 8.0 images/sec.\n",
      "222 images processed, 222 hits (100.0%), 38 indexable (17.1% of hits, 17.1% overall), 38 crystals, 8.5 images/sec.\n",
      "264 images processed, 264 hits (100.0%), 57 indexable (21.6% of hits, 21.6% overall), 57 crystals, 8.3 images/sec.\n",
      "Waiting for the last patterns to be processed...\n",
      "Final: 300 images processed, 300 hits (100.0%), 70 indexable (23.3% of hits, 23.3% overall), 70 crystals.\n",
      "Processing XY pairs:  48%|████▊     | 151/313 [1:06:46<1:42:43, 38.05s/it]This is what I understood your unit cell to be:\n",
      "cubic P, right handed.\n",
      "a      b      c            alpha   beta  gamma\n",
      " 11.87  11.87  11.87 A     90.00  90.00  90.00 deg\n",
      "List of indexing methods:\n",
      "   0: xgandalf-nolatt-cell      (xgandalf using cell parameters as prior information)\n",
      "Indexing parameters:\n",
      "                  Check unit cell parameters: on\n",
      "                        Check peak alignment: on\n",
      "                   Refine indexing solutions: off\n",
      " Multi-lattice indexing (\"delete and retry\"): off\n",
      "                              Retry indexing: on\n"
     ]
    },
    {
     "name": "stdout",
     "output_type": "stream",
     "text": [
      "Running for x=-511.8, y=-512.6\n"
     ]
    },
    {
     "name": "stderr",
     "output_type": "stream",
     "text": [
      "55 images processed, 55 hits (100.0%), 40 indexable (72.7% of hits, 72.7% overall), 40 crystals, 10.8 images/sec.\n",
      "96 images processed, 96 hits (100.0%), 69 indexable (71.9% of hits, 71.9% overall), 69 crystals, 8.1 images/sec.\n",
      "142 images processed, 142 hits (100.0%), 89 indexable (62.7% of hits, 62.7% overall), 89 crystals, 9.2 images/sec.\n",
      "182 images processed, 182 hits (100.0%), 100 indexable (54.9% of hits, 54.9% overall), 100 crystals, 7.8 images/sec.\n",
      "219 images processed, 219 hits (100.0%), 111 indexable (50.7% of hits, 50.7% overall), 111 crystals, 7.4 images/sec.\n",
      "259 images processed, 259 hits (100.0%), 125 indexable (48.3% of hits, 48.3% overall), 125 crystals, 7.9 images/sec.\n",
      "Waiting for the last patterns to be processed...\n",
      "Final: 300 images processed, 300 hits (100.0%), 139 indexable (46.3% of hits, 46.3% overall), 139 crystals.\n",
      "Processing XY pairs:  49%|████▊     | 152/313 [1:07:22<1:40:06, 37.31s/it]This is what I understood your unit cell to be:\n",
      "cubic P, right handed.\n",
      "a      b      c            alpha   beta  gamma\n",
      " 11.87  11.87  11.87 A     90.00  90.00  90.00 deg\n",
      "List of indexing methods:\n",
      "   0: xgandalf-nolatt-cell      (xgandalf using cell parameters as prior information)\n",
      "Indexing parameters:\n",
      "                  Check unit cell parameters: on\n",
      "                        Check peak alignment: on\n",
      "                   Refine indexing solutions: off\n",
      " Multi-lattice indexing (\"delete and retry\"): off\n",
      "                              Retry indexing: on\n"
     ]
    },
    {
     "name": "stdout",
     "output_type": "stream",
     "text": [
      "Running for x=-511.8, y=-512.4\n"
     ]
    },
    {
     "name": "stderr",
     "output_type": "stream",
     "text": [
      "52 images processed, 52 hits (100.0%), 37 indexable (71.2% of hits, 71.2% overall), 37 crystals, 10.0 images/sec.\n",
      "88 images processed, 88 hits (100.0%), 50 indexable (56.8% of hits, 56.8% overall), 50 crystals, 7.0 images/sec.\n",
      "125 images processed, 125 hits (100.0%), 56 indexable (44.8% of hits, 44.8% overall), 56 crystals, 7.4 images/sec.\n",
      "164 images processed, 164 hits (100.0%), 63 indexable (38.4% of hits, 38.4% overall), 63 crystals, 7.7 images/sec.\n",
      "207 images processed, 207 hits (100.0%), 70 indexable (33.8% of hits, 33.8% overall), 70 crystals, 8.0 images/sec.\n",
      "248 images processed, 248 hits (100.0%), 82 indexable (33.1% of hits, 33.1% overall), 82 crystals, 7.8 images/sec.\n",
      "Waiting for the last patterns to be processed...\n",
      "295 images processed, 295 hits (100.0%), 103 indexable (34.9% of hits, 34.9% overall), 103 crystals, 9.3 images/sec.\n",
      "Final: 300 images processed, 300 hits (100.0%), 104 indexable (34.7% of hits, 34.7% overall), 104 crystals.\n",
      "Processing XY pairs:  49%|████▉     | 153/313 [1:08:01<1:40:57, 37.86s/it]This is what I understood your unit cell to be:\n",
      "cubic P, right handed.\n",
      "a      b      c            alpha   beta  gamma\n",
      " 11.87  11.87  11.87 A     90.00  90.00  90.00 deg\n",
      "List of indexing methods:\n",
      "   0: xgandalf-nolatt-cell      (xgandalf using cell parameters as prior information)\n",
      "Indexing parameters:\n",
      "                  Check unit cell parameters: on\n",
      "                        Check peak alignment: on\n",
      "                   Refine indexing solutions: off\n",
      " Multi-lattice indexing (\"delete and retry\"): off\n",
      "                              Retry indexing: on\n"
     ]
    },
    {
     "name": "stdout",
     "output_type": "stream",
     "text": [
      "Running for x=-513.0, y=-513.0\n"
     ]
    },
    {
     "name": "stderr",
     "output_type": "stream",
     "text": [
      "48 images processed, 48 hits (100.0%), 38 indexable (79.2% of hits, 79.2% overall), 38 crystals, 9.5 images/sec.\n",
      "103 images processed, 103 hits (100.0%), 83 indexable (80.6% of hits, 80.6% overall), 83 crystals, 10.5 images/sec.\n",
      "166 images processed, 166 hits (100.0%), 128 indexable (77.1% of hits, 77.1% overall), 128 crystals, 12.6 images/sec.\n",
      "220 images processed, 220 hits (100.0%), 167 indexable (75.9% of hits, 75.9% overall), 167 crystals, 10.8 images/sec.\n",
      "265 images processed, 265 hits (100.0%), 190 indexable (71.7% of hits, 71.7% overall), 190 crystals, 8.9 images/sec.\n",
      "Waiting for the last patterns to be processed...\n",
      "Final: 300 images processed, 300 hits (100.0%), 207 indexable (69.0% of hits, 69.0% overall), 207 crystals.\n",
      "Processing XY pairs:  49%|████▉     | 154/313 [1:08:30<1:32:58, 35.09s/it]This is what I understood your unit cell to be:\n",
      "cubic P, right handed.\n",
      "a      b      c            alpha   beta  gamma\n",
      " 11.87  11.87  11.87 A     90.00  90.00  90.00 deg\n",
      "List of indexing methods:\n",
      "   0: xgandalf-nolatt-cell      (xgandalf using cell parameters as prior information)\n",
      "Indexing parameters:\n",
      "                  Check unit cell parameters: on\n",
      "                        Check peak alignment: on\n",
      "                   Refine indexing solutions: off\n",
      " Multi-lattice indexing (\"delete and retry\"): off\n",
      "                              Retry indexing: on\n"
     ]
    },
    {
     "name": "stdout",
     "output_type": "stream",
     "text": [
      "Running for x=-513.0, y=-512.0\n"
     ]
    },
    {
     "name": "stderr",
     "output_type": "stream",
     "text": [
      "37 images processed, 37 hits (100.0%), 25 indexable (67.6% of hits, 67.6% overall), 25 crystals, 7.4 images/sec.\n",
      "77 images processed, 77 hits (100.0%), 39 indexable (50.6% of hits, 50.6% overall), 39 crystals, 7.8 images/sec.\n",
      "115 images processed, 115 hits (100.0%), 46 indexable (40.0% of hits, 40.0% overall), 46 crystals, 7.4 images/sec.\n",
      "160 images processed, 160 hits (100.0%), 56 indexable (35.0% of hits, 35.0% overall), 56 crystals, 8.7 images/sec.\n",
      "200 images processed, 200 hits (100.0%), 67 indexable (33.5% of hits, 33.5% overall), 67 crystals, 8.0 images/sec.\n",
      "246 images processed, 246 hits (100.0%), 87 indexable (35.4% of hits, 35.4% overall), 87 crystals, 9.1 images/sec.\n",
      "Waiting for the last patterns to be processed...\n",
      "Final: 300 images processed, 300 hits (100.0%), 116 indexable (38.7% of hits, 38.7% overall), 116 crystals.\n",
      "Processing XY pairs:  50%|████▉     | 155/313 [1:09:07<1:33:38, 35.56s/it]This is what I understood your unit cell to be:\n",
      "cubic P, right handed.\n",
      "a      b      c            alpha   beta  gamma\n",
      " 11.87  11.87  11.87 A     90.00  90.00  90.00 deg\n",
      "List of indexing methods:\n",
      "   0: xgandalf-nolatt-cell      (xgandalf using cell parameters as prior information)\n",
      "Indexing parameters:\n",
      "                  Check unit cell parameters: on\n",
      "                        Check peak alignment: on\n",
      "                   Refine indexing solutions: off\n",
      " Multi-lattice indexing (\"delete and retry\"): off\n",
      "                              Retry indexing: on\n"
     ]
    },
    {
     "name": "stdout",
     "output_type": "stream",
     "text": [
      "Running for x=-512.0, y=-513.0\n"
     ]
    },
    {
     "name": "stderr",
     "output_type": "stream",
     "text": [
      "52 images processed, 52 hits (100.0%), 39 indexable (75.0% of hits, 75.0% overall), 39 crystals, 10.3 images/sec.\n",
      "96 images processed, 96 hits (100.0%), 68 indexable (70.8% of hits, 70.8% overall), 68 crystals, 8.8 images/sec.\n",
      "149 images processed, 149 hits (100.0%), 100 indexable (67.1% of hits, 67.1% overall), 100 crystals, 10.1 images/sec.\n",
      "193 images processed, 193 hits (100.0%), 125 indexable (64.8% of hits, 64.8% overall), 125 crystals, 8.3 images/sec.\n",
      "243 images processed, 243 hits (100.0%), 153 indexable (63.0% of hits, 63.0% overall), 153 crystals, 9.9 images/sec.\n",
      "Waiting for the last patterns to be processed...\n",
      "284 images processed, 284 hits (100.0%), 168 indexable (59.2% of hits, 59.2% overall), 168 crystals, 8.1 images/sec.\n",
      "Final: 300 images processed, 300 hits (100.0%), 172 indexable (57.3% of hits, 57.3% overall), 172 crystals.\n",
      "Processing XY pairs:  50%|████▉     | 156/313 [1:09:40<1:31:19, 34.90s/it]This is what I understood your unit cell to be:\n",
      "cubic P, right handed.\n",
      "a      b      c            alpha   beta  gamma\n",
      " 11.87  11.87  11.87 A     90.00  90.00  90.00 deg\n",
      "List of indexing methods:\n",
      "   0: xgandalf-nolatt-cell      (xgandalf using cell parameters as prior information)\n",
      "Indexing parameters:\n",
      "                  Check unit cell parameters: on\n",
      "                        Check peak alignment: on\n",
      "                   Refine indexing solutions: off\n",
      " Multi-lattice indexing (\"delete and retry\"): off\n",
      "                              Retry indexing: on\n"
     ]
    },
    {
     "name": "stdout",
     "output_type": "stream",
     "text": [
      "Running for x=-512.0, y=-512.0\n"
     ]
    },
    {
     "name": "stderr",
     "output_type": "stream",
     "text": [
      "37 images processed, 37 hits (100.0%), 21 indexable (56.8% of hits, 56.8% overall), 21 crystals, 7.1 images/sec.\n",
      "72 images processed, 72 hits (100.0%), 26 indexable (36.1% of hits, 36.1% overall), 26 crystals, 6.8 images/sec.\n",
      "111 images processed, 111 hits (100.0%), 30 indexable (27.0% of hits, 27.0% overall), 30 crystals, 7.8 images/sec.\n",
      "146 images processed, 146 hits (100.0%), 32 indexable (21.9% of hits, 21.9% overall), 32 crystals, 6.9 images/sec.\n",
      "185 images processed, 185 hits (100.0%), 38 indexable (20.5% of hits, 20.5% overall), 38 crystals, 7.7 images/sec.\n",
      "222 images processed, 222 hits (100.0%), 42 indexable (18.9% of hits, 18.9% overall), 42 crystals, 7.3 images/sec.\n",
      "269 images processed, 269 hits (100.0%), 61 indexable (22.7% of hits, 22.7% overall), 61 crystals, 9.4 images/sec.\n",
      "Waiting for the last patterns to be processed...\n",
      "Final: 300 images processed, 300 hits (100.0%), 77 indexable (25.7% of hits, 25.7% overall), 77 crystals.\n",
      "Processing XY pairs:  50%|█████     | 157/313 [1:10:21<1:35:13, 36.62s/it]This is what I understood your unit cell to be:\n",
      "cubic P, right handed.\n",
      "a      b      c            alpha   beta  gamma\n",
      " 11.87  11.87  11.87 A     90.00  90.00  90.00 deg\n",
      "List of indexing methods:\n",
      "   0: xgandalf-nolatt-cell      (xgandalf using cell parameters as prior information)\n",
      "Indexing parameters:\n",
      "                  Check unit cell parameters: on\n",
      "                        Check peak alignment: on\n",
      "                   Refine indexing solutions: off\n",
      " Multi-lattice indexing (\"delete and retry\"): off\n",
      "                              Retry indexing: on\n"
     ]
    },
    {
     "name": "stdout",
     "output_type": "stream",
     "text": [
      "Running for x=-513.2, y=-512.6\n"
     ]
    },
    {
     "name": "stderr",
     "output_type": "stream",
     "text": [
      "59 images processed, 59 hits (100.0%), 49 indexable (83.1% of hits, 83.1% overall), 49 crystals, 11.2 images/sec.\n",
      "103 images processed, 103 hits (100.0%), 73 indexable (70.9% of hits, 70.9% overall), 73 crystals, 8.5 images/sec.\n",
      "142 images processed, 142 hits (100.0%), 91 indexable (64.1% of hits, 64.1% overall), 91 crystals, 7.4 images/sec.\n",
      "187 images processed, 187 hits (100.0%), 105 indexable (56.1% of hits, 56.1% overall), 105 crystals, 8.4 images/sec.\n",
      "227 images processed, 227 hits (100.0%), 113 indexable (49.8% of hits, 49.8% overall), 113 crystals, 8.0 images/sec.\n",
      "266 images processed, 266 hits (100.0%), 129 indexable (48.5% of hits, 48.5% overall), 129 crystals, 7.6 images/sec.\n",
      "Waiting for the last patterns to be processed...\n",
      "Final: 300 images processed, 300 hits (100.0%), 143 indexable (47.7% of hits, 47.7% overall), 143 crystals.\n",
      "Processing XY pairs:  50%|█████     | 158/313 [1:10:56<1:33:33, 36.22s/it]This is what I understood your unit cell to be:\n",
      "cubic P, right handed.\n",
      "a      b      c            alpha   beta  gamma\n",
      " 11.87  11.87  11.87 A     90.00  90.00  90.00 deg\n",
      "List of indexing methods:\n",
      "   0: xgandalf-nolatt-cell      (xgandalf using cell parameters as prior information)\n",
      "Indexing parameters:\n",
      "                  Check unit cell parameters: on\n",
      "                        Check peak alignment: on\n",
      "                   Refine indexing solutions: off\n",
      " Multi-lattice indexing (\"delete and retry\"): off\n",
      "                              Retry indexing: on\n"
     ]
    },
    {
     "name": "stdout",
     "output_type": "stream",
     "text": [
      "Running for x=-513.2, y=-512.4\n"
     ]
    },
    {
     "name": "stderr",
     "output_type": "stream",
     "text": [
      "45 images processed, 45 hits (100.0%), 32 indexable (71.1% of hits, 71.1% overall), 32 crystals, 8.8 images/sec.\n",
      "88 images processed, 88 hits (100.0%), 55 indexable (62.5% of hits, 62.5% overall), 55 crystals, 8.4 images/sec.\n",
      "131 images processed, 131 hits (100.0%), 71 indexable (54.2% of hits, 54.2% overall), 71 crystals, 8.3 images/sec.\n",
      "171 images processed, 171 hits (100.0%), 83 indexable (48.5% of hits, 48.5% overall), 83 crystals, 8.0 images/sec.\n",
      "207 images processed, 207 hits (100.0%), 89 indexable (43.0% of hits, 43.0% overall), 89 crystals, 7.1 images/sec.\n",
      "249 images processed, 249 hits (100.0%), 100 indexable (40.2% of hits, 40.2% overall), 100 crystals, 8.3 images/sec.\n",
      "Waiting for the last patterns to be processed...\n",
      "299 images processed, 299 hits (100.0%), 129 indexable (43.1% of hits, 43.1% overall), 129 crystals, 10.0 images/sec.\n",
      "Final: 300 images processed, 300 hits (100.0%), 129 indexable (43.0% of hits, 43.0% overall), 129 crystals.\n",
      "Processing XY pairs:  51%|█████     | 159/313 [1:11:32<1:33:14, 36.33s/it]This is what I understood your unit cell to be:\n",
      "cubic P, right handed.\n",
      "a      b      c            alpha   beta  gamma\n",
      " 11.87  11.87  11.87 A     90.00  90.00  90.00 deg\n",
      "List of indexing methods:\n",
      "   0: xgandalf-nolatt-cell      (xgandalf using cell parameters as prior information)\n",
      "Indexing parameters:\n",
      "                  Check unit cell parameters: on\n",
      "                        Check peak alignment: on\n",
      "                   Refine indexing solutions: off\n",
      " Multi-lattice indexing (\"delete and retry\"): off\n",
      "                              Retry indexing: on\n"
     ]
    },
    {
     "name": "stdout",
     "output_type": "stream",
     "text": [
      "Running for x=-512.6, y=-513.2\n"
     ]
    },
    {
     "name": "stderr",
     "output_type": "stream",
     "text": [
      "37 images processed, 37 hits (100.0%), 21 indexable (56.8% of hits, 56.8% overall), 21 crystals, 7.4 images/sec.\n",
      "75 images processed, 75 hits (100.0%), 32 indexable (42.7% of hits, 42.7% overall), 32 crystals, 7.2 images/sec.\n",
      "123 images processed, 123 hits (100.0%), 53 indexable (43.1% of hits, 43.1% overall), 53 crystals, 9.5 images/sec.\n",
      "163 images processed, 163 hits (100.0%), 70 indexable (42.9% of hits, 42.9% overall), 70 crystals, 7.9 images/sec.\n",
      "208 images processed, 208 hits (100.0%), 88 indexable (42.3% of hits, 42.3% overall), 88 crystals, 8.9 images/sec.\n",
      "261 images processed, 261 hits (100.0%), 118 indexable (45.2% of hits, 45.2% overall), 118 crystals, 10.6 images/sec.\n",
      "Waiting for the last patterns to be processed...\n",
      "Final: 300 images processed, 300 hits (100.0%), 137 indexable (45.7% of hits, 45.7% overall), 137 crystals.\n",
      "Processing XY pairs:  51%|█████     | 160/313 [1:12:07<1:31:40, 35.95s/it]This is what I understood your unit cell to be:\n",
      "cubic P, right handed.\n",
      "a      b      c            alpha   beta  gamma\n",
      " 11.87  11.87  11.87 A     90.00  90.00  90.00 deg\n",
      "List of indexing methods:\n",
      "   0: xgandalf-nolatt-cell      (xgandalf using cell parameters as prior information)\n",
      "Indexing parameters:\n",
      "                  Check unit cell parameters: on\n",
      "                        Check peak alignment: on\n",
      "                   Refine indexing solutions: off\n",
      " Multi-lattice indexing (\"delete and retry\"): off\n",
      "                              Retry indexing: on\n"
     ]
    },
    {
     "name": "stdout",
     "output_type": "stream",
     "text": [
      "Running for x=-512.4, y=-513.2\n"
     ]
    },
    {
     "name": "stderr",
     "output_type": "stream",
     "text": [
      "40 images processed, 40 hits (100.0%), 22 indexable (55.0% of hits, 55.0% overall), 22 crystals, 7.7 images/sec.\n",
      "77 images processed, 77 hits (100.0%), 36 indexable (46.8% of hits, 46.8% overall), 36 crystals, 7.4 images/sec.\n",
      "132 images processed, 132 hits (100.0%), 69 indexable (52.3% of hits, 52.3% overall), 69 crystals, 11.0 images/sec.\n",
      "172 images processed, 172 hits (100.0%), 90 indexable (52.3% of hits, 52.3% overall), 90 crystals, 7.9 images/sec.\n",
      "219 images processed, 219 hits (100.0%), 108 indexable (49.3% of hits, 49.3% overall), 108 crystals, 9.4 images/sec.\n",
      "268 images processed, 268 hits (100.0%), 132 indexable (49.3% of hits, 49.3% overall), 132 crystals, 9.7 images/sec.\n",
      "Waiting for the last patterns to be processed...\n",
      "Final: 300 images processed, 300 hits (100.0%), 145 indexable (48.3% of hits, 48.3% overall), 145 crystals.\n",
      "Processing XY pairs:  51%|█████▏    | 161/313 [1:12:42<1:30:05, 35.56s/it]This is what I understood your unit cell to be:\n",
      "cubic P, right handed.\n",
      "a      b      c            alpha   beta  gamma\n",
      " 11.87  11.87  11.87 A     90.00  90.00  90.00 deg\n",
      "List of indexing methods:\n",
      "   0: xgandalf-nolatt-cell      (xgandalf using cell parameters as prior information)\n",
      "Indexing parameters:\n",
      "                  Check unit cell parameters: on\n",
      "                        Check peak alignment: on\n",
      "                   Refine indexing solutions: off\n",
      " Multi-lattice indexing (\"delete and retry\"): off\n",
      "                              Retry indexing: on\n"
     ]
    },
    {
     "name": "stdout",
     "output_type": "stream",
     "text": [
      "Running for x=-513.1, y=-512.9\n"
     ]
    },
    {
     "name": "stderr",
     "output_type": "stream",
     "text": [
      "54 images processed, 54 hits (100.0%), 43 indexable (79.6% of hits, 79.6% overall), 43 crystals, 10.8 images/sec.\n",
      "107 images processed, 107 hits (100.0%), 79 indexable (73.8% of hits, 73.8% overall), 79 crystals, 10.6 images/sec.\n",
      "165 images processed, 165 hits (100.0%), 127 indexable (77.0% of hits, 77.0% overall), 127 crystals, 11.5 images/sec.\n",
      "211 images processed, 211 hits (100.0%), 152 indexable (72.0% of hits, 72.0% overall), 152 crystals, 9.0 images/sec.\n",
      "253 images processed, 253 hits (100.0%), 171 indexable (67.6% of hits, 67.6% overall), 171 crystals, 8.4 images/sec.\n",
      "Waiting for the last patterns to be processed...\n",
      "Final: 300 images processed, 300 hits (100.0%), 194 indexable (64.7% of hits, 64.7% overall), 194 crystals.\n",
      "Processing XY pairs:  52%|█████▏    | 162/313 [1:13:13<1:26:06, 34.22s/it]This is what I understood your unit cell to be:\n",
      "cubic P, right handed.\n",
      "a      b      c            alpha   beta  gamma\n",
      " 11.87  11.87  11.87 A     90.00  90.00  90.00 deg\n",
      "List of indexing methods:\n",
      "   0: xgandalf-nolatt-cell      (xgandalf using cell parameters as prior information)\n",
      "Indexing parameters:\n",
      "                  Check unit cell parameters: on\n",
      "                        Check peak alignment: on\n",
      "                   Refine indexing solutions: off\n",
      " Multi-lattice indexing (\"delete and retry\"): off\n",
      "                              Retry indexing: on\n"
     ]
    },
    {
     "name": "stdout",
     "output_type": "stream",
     "text": [
      "Running for x=-513.1, y=-512.1\n"
     ]
    },
    {
     "name": "stderr",
     "output_type": "stream",
     "text": [
      "38 images processed, 38 hits (100.0%), 26 indexable (68.4% of hits, 68.4% overall), 26 crystals, 7.5 images/sec.\n",
      "76 images processed, 76 hits (100.0%), 35 indexable (46.1% of hits, 46.1% overall), 35 crystals, 7.3 images/sec.\n",
      "113 images processed, 113 hits (100.0%), 42 indexable (37.2% of hits, 37.2% overall), 42 crystals, 7.2 images/sec.\n",
      "153 images processed, 153 hits (100.0%), 46 indexable (30.1% of hits, 30.1% overall), 46 crystals, 8.0 images/sec.\n",
      "189 images processed, 189 hits (100.0%), 53 indexable (28.0% of hits, 28.0% overall), 53 crystals, 7.1 images/sec.\n",
      "234 images processed, 234 hits (100.0%), 70 indexable (29.9% of hits, 29.9% overall), 70 crystals, 8.9 images/sec.\n",
      "275 images processed, 275 hits (100.0%), 90 indexable (32.7% of hits, 32.7% overall), 90 crystals, 8.1 images/sec.\n",
      "Waiting for the last patterns to be processed...\n",
      "Final: 300 images processed, 300 hits (100.0%), 101 indexable (33.7% of hits, 33.7% overall), 101 crystals.\n",
      "Processing XY pairs:  52%|█████▏    | 163/313 [1:13:52<1:28:55, 35.57s/it]This is what I understood your unit cell to be:\n",
      "cubic P, right handed.\n",
      "a      b      c            alpha   beta  gamma\n",
      " 11.87  11.87  11.87 A     90.00  90.00  90.00 deg\n",
      "List of indexing methods:\n",
      "   0: xgandalf-nolatt-cell      (xgandalf using cell parameters as prior information)\n",
      "Indexing parameters:\n",
      "                  Check unit cell parameters: on\n",
      "                        Check peak alignment: on\n",
      "                   Refine indexing solutions: off\n",
      " Multi-lattice indexing (\"delete and retry\"): off\n",
      "                              Retry indexing: on\n"
     ]
    },
    {
     "name": "stdout",
     "output_type": "stream",
     "text": [
      "Running for x=-512.9, y=-513.1\n"
     ]
    },
    {
     "name": "stderr",
     "output_type": "stream",
     "text": [
      "44 images processed, 44 hits (100.0%), 33 indexable (75.0% of hits, 75.0% overall), 33 crystals, 8.6 images/sec.\n",
      "96 images processed, 96 hits (100.0%), 65 indexable (67.7% of hits, 67.7% overall), 65 crystals, 10.3 images/sec.\n",
      "151 images processed, 151 hits (100.0%), 100 indexable (66.2% of hits, 66.2% overall), 100 crystals, 10.9 images/sec.\n",
      "202 images processed, 202 hits (100.0%), 136 indexable (67.3% of hits, 67.3% overall), 136 crystals, 10.0 images/sec.\n",
      "253 images processed, 253 hits (100.0%), 168 indexable (66.4% of hits, 66.4% overall), 168 crystals, 10.1 images/sec.\n",
      "Waiting for the last patterns to be processed...\n",
      "Final: 300 images processed, 300 hits (100.0%), 195 indexable (65.0% of hits, 65.0% overall), 195 crystals.\n",
      "Processing XY pairs:  52%|█████▏    | 164/313 [1:14:22<1:24:36, 34.07s/it]This is what I understood your unit cell to be:\n",
      "cubic P, right handed.\n",
      "a      b      c            alpha   beta  gamma\n",
      " 11.87  11.87  11.87 A     90.00  90.00  90.00 deg\n",
      "List of indexing methods:\n",
      "   0: xgandalf-nolatt-cell      (xgandalf using cell parameters as prior information)\n",
      "Indexing parameters:\n",
      "                  Check unit cell parameters: on\n",
      "                        Check peak alignment: on\n",
      "                   Refine indexing solutions: off\n",
      " Multi-lattice indexing (\"delete and retry\"): off\n",
      "                              Retry indexing: on\n"
     ]
    },
    {
     "name": "stdout",
     "output_type": "stream",
     "text": [
      "Running for x=-512.9, y=-511.9\n"
     ]
    },
    {
     "name": "stderr",
     "output_type": "stream",
     "text": [
      "38 images processed, 38 hits (100.0%), 20 indexable (52.6% of hits, 52.6% overall), 20 crystals, 7.1 images/sec.\n",
      "77 images processed, 77 hits (100.0%), 35 indexable (45.5% of hits, 45.5% overall), 35 crystals, 7.4 images/sec.\n",
      "118 images processed, 118 hits (100.0%), 41 indexable (34.7% of hits, 34.7% overall), 41 crystals, 8.2 images/sec.\n",
      "162 images processed, 162 hits (100.0%), 57 indexable (35.2% of hits, 35.2% overall), 57 crystals, 8.5 images/sec.\n",
      "200 images processed, 200 hits (100.0%), 69 indexable (34.5% of hits, 34.5% overall), 69 crystals, 7.5 images/sec.\n",
      "246 images processed, 246 hits (100.0%), 83 indexable (33.7% of hits, 33.7% overall), 83 crystals, 8.7 images/sec.\n",
      "Waiting for the last patterns to be processed...\n",
      "292 images processed, 292 hits (100.0%), 110 indexable (37.7% of hits, 37.7% overall), 110 crystals, 9.2 images/sec.\n",
      "Final: 300 images processed, 300 hits (100.0%), 113 indexable (37.7% of hits, 37.7% overall), 113 crystals.\n",
      "Processing XY pairs:  53%|█████▎    | 165/313 [1:15:00<1:26:53, 35.23s/it]This is what I understood your unit cell to be:\n",
      "cubic P, right handed.\n",
      "a      b      c            alpha   beta  gamma\n",
      " 11.87  11.87  11.87 A     90.00  90.00  90.00 deg\n",
      "List of indexing methods:\n",
      "   0: xgandalf-nolatt-cell      (xgandalf using cell parameters as prior information)\n",
      "Indexing parameters:\n",
      "                  Check unit cell parameters: on\n",
      "                        Check peak alignment: on\n",
      "                   Refine indexing solutions: off\n",
      " Multi-lattice indexing (\"delete and retry\"): off\n",
      "                              Retry indexing: on\n"
     ]
    },
    {
     "name": "stdout",
     "output_type": "stream",
     "text": [
      "Running for x=-512.1, y=-513.1\n"
     ]
    },
    {
     "name": "stderr",
     "output_type": "stream",
     "text": [
      "50 images processed, 50 hits (100.0%), 38 indexable (76.0% of hits, 76.0% overall), 38 crystals, 9.9 images/sec.\n",
      "93 images processed, 93 hits (100.0%), 63 indexable (67.7% of hits, 67.7% overall), 63 crystals, 8.5 images/sec.\n",
      "148 images processed, 148 hits (100.0%), 99 indexable (66.9% of hits, 66.9% overall), 99 crystals, 10.9 images/sec.\n",
      "192 images processed, 192 hits (100.0%), 117 indexable (60.9% of hits, 60.9% overall), 117 crystals, 8.7 images/sec.\n",
      "240 images processed, 240 hits (100.0%), 142 indexable (59.2% of hits, 59.2% overall), 142 crystals, 9.6 images/sec.\n",
      "Waiting for the last patterns to be processed...\n",
      "286 images processed, 286 hits (100.0%), 170 indexable (59.4% of hits, 59.4% overall), 170 crystals, 9.0 images/sec.\n",
      "Final: 300 images processed, 300 hits (100.0%), 173 indexable (57.7% of hits, 57.7% overall), 173 crystals.\n",
      "Processing XY pairs:  53%|█████▎    | 166/313 [1:15:33<1:24:10, 34.36s/it]This is what I understood your unit cell to be:\n",
      "cubic P, right handed.\n",
      "a      b      c            alpha   beta  gamma\n",
      " 11.87  11.87  11.87 A     90.00  90.00  90.00 deg\n",
      "List of indexing methods:\n",
      "   0: xgandalf-nolatt-cell      (xgandalf using cell parameters as prior information)\n",
      "Indexing parameters:\n",
      "                  Check unit cell parameters: on\n",
      "                        Check peak alignment: on\n",
      "                   Refine indexing solutions: off\n",
      " Multi-lattice indexing (\"delete and retry\"): off\n",
      "                              Retry indexing: on\n"
     ]
    },
    {
     "name": "stdout",
     "output_type": "stream",
     "text": [
      "Running for x=-512.1, y=-511.9\n"
     ]
    },
    {
     "name": "stderr",
     "output_type": "stream",
     "text": [
      "32 images processed, 32 hits (100.0%), 20 indexable (62.5% of hits, 62.5% overall), 20 crystals, 6.3 images/sec.\n",
      "70 images processed, 70 hits (100.0%), 25 indexable (35.7% of hits, 35.7% overall), 25 crystals, 7.2 images/sec.\n",
      "107 images processed, 107 hits (100.0%), 27 indexable (25.2% of hits, 25.2% overall), 27 crystals, 7.3 images/sec.\n",
      "144 images processed, 144 hits (100.0%), 30 indexable (20.8% of hits, 20.8% overall), 30 crystals, 6.9 images/sec.\n",
      "184 images processed, 184 hits (100.0%), 32 indexable (17.4% of hits, 17.4% overall), 32 crystals, 7.8 images/sec.\n",
      "228 images processed, 228 hits (100.0%), 39 indexable (17.1% of hits, 17.1% overall), 39 crystals, 8.3 images/sec.\n",
      "275 images processed, 275 hits (100.0%), 65 indexable (23.6% of hits, 23.6% overall), 65 crystals, 9.3 images/sec.\n",
      "Waiting for the last patterns to be processed...\n",
      "Final: 300 images processed, 300 hits (100.0%), 78 indexable (26.0% of hits, 26.0% overall), 78 crystals.\n",
      "Processing XY pairs:  53%|█████▎    | 167/313 [1:16:12<1:27:20, 35.90s/it]This is what I understood your unit cell to be:\n",
      "cubic P, right handed.\n",
      "a      b      c            alpha   beta  gamma\n",
      " 11.87  11.87  11.87 A     90.00  90.00  90.00 deg\n",
      "List of indexing methods:\n",
      "   0: xgandalf-nolatt-cell      (xgandalf using cell parameters as prior information)\n",
      "Indexing parameters:\n",
      "                  Check unit cell parameters: on\n",
      "                        Check peak alignment: on\n",
      "                   Refine indexing solutions: off\n",
      " Multi-lattice indexing (\"delete and retry\"): off\n",
      "                              Retry indexing: on\n"
     ]
    },
    {
     "name": "stdout",
     "output_type": "stream",
     "text": [
      "Running for x=-511.9, y=-512.9\n"
     ]
    },
    {
     "name": "stderr",
     "output_type": "stream",
     "text": [
      "49 images processed, 49 hits (100.0%), 38 indexable (77.6% of hits, 77.6% overall), 38 crystals, 9.6 images/sec.\n",
      "97 images processed, 97 hits (100.0%), 65 indexable (67.0% of hits, 67.0% overall), 65 crystals, 9.2 images/sec.\n",
      "153 images processed, 153 hits (100.0%), 100 indexable (65.4% of hits, 65.4% overall), 100 crystals, 11.0 images/sec.\n",
      "192 images processed, 192 hits (100.0%), 120 indexable (62.5% of hits, 62.5% overall), 120 crystals, 7.6 images/sec.\n",
      "236 images processed, 236 hits (100.0%), 137 indexable (58.1% of hits, 58.1% overall), 137 crystals, 8.2 images/sec.\n",
      "Waiting for the last patterns to be processed...\n",
      "279 images processed, 279 hits (100.0%), 152 indexable (54.5% of hits, 54.5% overall), 152 crystals, 8.5 images/sec.\n",
      "Final: 300 images processed, 300 hits (100.0%), 154 indexable (51.3% of hits, 51.3% overall), 154 crystals.\n",
      "Processing XY pairs:  54%|█████▎    | 168/313 [1:16:46<1:25:23, 35.34s/it]This is what I understood your unit cell to be:\n",
      "cubic P, right handed.\n",
      "a      b      c            alpha   beta  gamma\n",
      " 11.87  11.87  11.87 A     90.00  90.00  90.00 deg\n",
      "List of indexing methods:\n",
      "   0: xgandalf-nolatt-cell      (xgandalf using cell parameters as prior information)\n",
      "Indexing parameters:\n",
      "                  Check unit cell parameters: on\n",
      "                        Check peak alignment: on\n",
      "                   Refine indexing solutions: off\n",
      " Multi-lattice indexing (\"delete and retry\"): off\n",
      "                              Retry indexing: on\n"
     ]
    },
    {
     "name": "stdout",
     "output_type": "stream",
     "text": [
      "Running for x=-511.9, y=-512.1\n"
     ]
    },
    {
     "name": "stderr",
     "output_type": "stream",
     "text": [
      "40 images processed, 40 hits (100.0%), 25 indexable (62.5% of hits, 62.5% overall), 25 crystals, 7.7 images/sec.\n",
      "72 images processed, 72 hits (100.0%), 28 indexable (38.9% of hits, 38.9% overall), 28 crystals, 6.4 images/sec.\n",
      "110 images processed, 110 hits (100.0%), 30 indexable (27.3% of hits, 27.3% overall), 30 crystals, 7.5 images/sec.\n",
      "146 images processed, 146 hits (100.0%), 34 indexable (23.3% of hits, 23.3% overall), 34 crystals, 6.9 images/sec.\n",
      "184 images processed, 184 hits (100.0%), 37 indexable (20.1% of hits, 20.1% overall), 37 crystals, 7.6 images/sec.\n",
      "224 images processed, 224 hits (100.0%), 41 indexable (18.3% of hits, 18.3% overall), 41 crystals, 7.5 images/sec.\n",
      "270 images processed, 270 hits (100.0%), 59 indexable (21.9% of hits, 21.9% overall), 59 crystals, 8.6 images/sec.\n",
      "Waiting for the last patterns to be processed...\n",
      "Final: 300 images processed, 300 hits (100.0%), 73 indexable (24.3% of hits, 24.3% overall), 73 crystals.\n",
      "Processing XY pairs:  54%|█████▍    | 169/313 [1:17:26<1:27:56, 36.64s/it]This is what I understood your unit cell to be:\n",
      "cubic P, right handed.\n",
      "a      b      c            alpha   beta  gamma\n",
      " 11.87  11.87  11.87 A     90.00  90.00  90.00 deg\n",
      "List of indexing methods:\n",
      "   0: xgandalf-nolatt-cell      (xgandalf using cell parameters as prior information)\n",
      "Indexing parameters:\n",
      "                  Check unit cell parameters: on\n",
      "                        Check peak alignment: on\n",
      "                   Refine indexing solutions: off\n",
      " Multi-lattice indexing (\"delete and retry\"): off\n",
      "                              Retry indexing: on\n"
     ]
    },
    {
     "name": "stdout",
     "output_type": "stream",
     "text": [
      "Running for x=-512.7, y=-511.8\n"
     ]
    },
    {
     "name": "stderr",
     "output_type": "stream",
     "text": [
      "28 images processed, 28 hits (100.0%), 13 indexable (46.4% of hits, 46.4% overall), 13 crystals, 5.5 images/sec.\n",
      "72 images processed, 72 hits (100.0%), 27 indexable (37.5% of hits, 37.5% overall), 27 crystals, 8.2 images/sec.\n",
      "111 images processed, 111 hits (100.0%), 35 indexable (31.5% of hits, 31.5% overall), 35 crystals, 7.8 images/sec.\n",
      "153 images processed, 153 hits (100.0%), 46 indexable (30.1% of hits, 30.1% overall), 46 crystals, 8.3 images/sec.\n",
      "190 images processed, 190 hits (100.0%), 58 indexable (30.5% of hits, 30.5% overall), 58 crystals, 7.4 images/sec.\n",
      "231 images processed, 231 hits (100.0%), 69 indexable (29.9% of hits, 29.9% overall), 69 crystals, 7.8 images/sec.\n",
      "Waiting for the last patterns to be processed...\n",
      "278 images processed, 278 hits (100.0%), 82 indexable (29.5% of hits, 29.5% overall), 82 crystals, 9.3 images/sec.\n",
      "Final: 300 images processed, 300 hits (100.0%), 90 indexable (30.0% of hits, 30.0% overall), 90 crystals.\n",
      "Processing XY pairs:  54%|█████▍    | 170/313 [1:18:06<1:30:00, 37.76s/it]This is what I understood your unit cell to be:\n",
      "cubic P, right handed.\n",
      "a      b      c            alpha   beta  gamma\n",
      " 11.87  11.87  11.87 A     90.00  90.00  90.00 deg\n",
      "List of indexing methods:\n",
      "   0: xgandalf-nolatt-cell      (xgandalf using cell parameters as prior information)\n",
      "Indexing parameters:\n",
      "                  Check unit cell parameters: on\n",
      "                        Check peak alignment: on\n",
      "                   Refine indexing solutions: off\n",
      " Multi-lattice indexing (\"delete and retry\"): off\n",
      "                              Retry indexing: on\n"
     ]
    },
    {
     "name": "stdout",
     "output_type": "stream",
     "text": [
      "Running for x=-512.3, y=-511.8\n"
     ]
    },
    {
     "name": "stderr",
     "output_type": "stream",
     "text": [
      "31 images processed, 31 hits (100.0%), 15 indexable (48.4% of hits, 48.4% overall), 15 crystals, 6.0 images/sec.\n",
      "69 images processed, 69 hits (100.0%), 20 indexable (29.0% of hits, 29.0% overall), 20 crystals, 7.4 images/sec.\n",
      "105 images processed, 105 hits (100.0%), 20 indexable (19.0% of hits, 19.0% overall), 20 crystals, 7.0 images/sec.\n",
      "142 images processed, 142 hits (100.0%), 23 indexable (16.2% of hits, 16.2% overall), 23 crystals, 7.1 images/sec.\n",
      "181 images processed, 181 hits (100.0%), 25 indexable (13.8% of hits, 13.8% overall), 25 crystals, 7.7 images/sec.\n",
      "219 images processed, 219 hits (100.0%), 35 indexable (16.0% of hits, 16.0% overall), 35 crystals, 7.6 images/sec.\n",
      "265 images processed, 265 hits (100.0%), 56 indexable (21.1% of hits, 21.1% overall), 56 crystals, 8.7 images/sec.\n",
      "Waiting for the last patterns to be processed...\n",
      "Final: 300 images processed, 300 hits (100.0%), 65 indexable (21.7% of hits, 21.7% overall), 65 crystals.\n",
      "Processing XY pairs:  55%|█████▍    | 171/313 [1:18:47<1:31:22, 38.61s/it]This is what I understood your unit cell to be:\n",
      "cubic P, right handed.\n",
      "a      b      c            alpha   beta  gamma\n",
      " 11.87  11.87  11.87 A     90.00  90.00  90.00 deg\n",
      "List of indexing methods:\n",
      "   0: xgandalf-nolatt-cell      (xgandalf using cell parameters as prior information)\n",
      "Indexing parameters:\n",
      "                  Check unit cell parameters: on\n",
      "                        Check peak alignment: on\n",
      "                   Refine indexing solutions: off\n",
      " Multi-lattice indexing (\"delete and retry\"): off\n",
      "                              Retry indexing: on\n"
     ]
    },
    {
     "name": "stdout",
     "output_type": "stream",
     "text": [
      "Running for x=-511.8, y=-512.7\n"
     ]
    },
    {
     "name": "stderr",
     "output_type": "stream",
     "text": [
      "55 images processed, 55 hits (100.0%), 45 indexable (81.8% of hits, 81.8% overall), 45 crystals, 10.4 images/sec.\n",
      "104 images processed, 104 hits (100.0%), 80 indexable (76.9% of hits, 76.9% overall), 80 crystals, 9.6 images/sec.\n",
      "152 images processed, 152 hits (100.0%), 105 indexable (69.1% of hits, 69.1% overall), 105 crystals, 9.4 images/sec.\n",
      "190 images processed, 190 hits (100.0%), 121 indexable (63.7% of hits, 63.7% overall), 121 crystals, 7.0 images/sec.\n",
      "231 images processed, 231 hits (100.0%), 128 indexable (55.4% of hits, 55.4% overall), 128 crystals, 8.2 images/sec.\n",
      "273 images processed, 273 hits (100.0%), 147 indexable (53.8% of hits, 53.8% overall), 147 crystals, 8.4 images/sec.\n",
      "Waiting for the last patterns to be processed...\n",
      "Final: 300 images processed, 300 hits (100.0%), 158 indexable (52.7% of hits, 52.7% overall), 158 crystals.\n",
      "Processing XY pairs:  55%|█████▍    | 172/313 [1:19:21<1:27:49, 37.37s/it]This is what I understood your unit cell to be:\n",
      "cubic P, right handed.\n",
      "a      b      c            alpha   beta  gamma\n",
      " 11.87  11.87  11.87 A     90.00  90.00  90.00 deg\n",
      "List of indexing methods:\n",
      "   0: xgandalf-nolatt-cell      (xgandalf using cell parameters as prior information)\n",
      "Indexing parameters:\n",
      "                  Check unit cell parameters: on\n",
      "                        Check peak alignment: on\n",
      "                   Refine indexing solutions: off\n",
      " Multi-lattice indexing (\"delete and retry\"): off\n",
      "                              Retry indexing: on\n"
     ]
    },
    {
     "name": "stdout",
     "output_type": "stream",
     "text": [
      "Running for x=-511.8, y=-512.3\n"
     ]
    },
    {
     "name": "stderr",
     "output_type": "stream",
     "text": [
      "50 images processed, 50 hits (100.0%), 32 indexable (64.0% of hits, 64.0% overall), 32 crystals, 9.2 images/sec.\n",
      "81 images processed, 81 hits (100.0%), 38 indexable (46.9% of hits, 46.9% overall), 38 crystals, 6.0 images/sec.\n",
      "124 images processed, 124 hits (100.0%), 43 indexable (34.7% of hits, 34.7% overall), 43 crystals, 8.1 images/sec.\n",
      "157 images processed, 157 hits (100.0%), 48 indexable (30.6% of hits, 30.6% overall), 48 crystals, 6.5 images/sec.\n",
      "200 images processed, 200 hits (100.0%), 56 indexable (28.0% of hits, 28.0% overall), 56 crystals, 8.4 images/sec.\n",
      "232 images processed, 232 hits (100.0%), 63 indexable (27.2% of hits, 27.2% overall), 63 crystals, 6.3 images/sec.\n",
      "Waiting for the last patterns to be processed...\n",
      "278 images processed, 278 hits (100.0%), 82 indexable (29.5% of hits, 29.5% overall), 82 crystals, 9.1 images/sec.\n",
      "Final: 300 images processed, 300 hits (100.0%), 91 indexable (30.3% of hits, 30.3% overall), 91 crystals.\n",
      "Processing XY pairs:  55%|█████▌    | 173/313 [1:20:01<1:28:29, 37.93s/it]This is what I understood your unit cell to be:\n",
      "cubic P, right handed.\n",
      "a      b      c            alpha   beta  gamma\n",
      " 11.87  11.87  11.87 A     90.00  90.00  90.00 deg\n",
      "List of indexing methods:\n",
      "   0: xgandalf-nolatt-cell      (xgandalf using cell parameters as prior information)\n",
      "Indexing parameters:\n",
      "                  Check unit cell parameters: on\n",
      "                        Check peak alignment: on\n",
      "                   Refine indexing solutions: off\n",
      " Multi-lattice indexing (\"delete and retry\"): off\n",
      "                              Retry indexing: on\n"
     ]
    },
    {
     "name": "stdout",
     "output_type": "stream",
     "text": [
      "Running for x=-513.2, y=-512.7\n"
     ]
    },
    {
     "name": "stderr",
     "output_type": "stream",
     "text": [
      "56 images processed, 56 hits (100.0%), 50 indexable (89.3% of hits, 89.3% overall), 50 crystals, 11.0 images/sec.\n",
      "97 images processed, 97 hits (100.0%), 72 indexable (74.2% of hits, 74.2% overall), 72 crystals, 7.6 images/sec.\n",
      "141 images processed, 141 hits (100.0%), 87 indexable (61.7% of hits, 61.7% overall), 87 crystals, 8.4 images/sec.\n",
      "183 images processed, 183 hits (100.0%), 101 indexable (55.2% of hits, 55.2% overall), 101 crystals, 8.3 images/sec.\n",
      "222 images processed, 222 hits (100.0%), 111 indexable (50.0% of hits, 50.0% overall), 111 crystals, 7.7 images/sec.\n",
      "262 images processed, 262 hits (100.0%), 127 indexable (48.5% of hits, 48.5% overall), 127 crystals, 7.9 images/sec.\n",
      "Waiting for the last patterns to be processed...\n",
      "Final: 300 images processed, 300 hits (100.0%), 142 indexable (47.3% of hits, 47.3% overall), 142 crystals.\n",
      "Processing XY pairs:  56%|█████▌    | 174/313 [1:20:36<1:26:22, 37.28s/it]This is what I understood your unit cell to be:\n",
      "cubic P, right handed.\n",
      "a      b      c            alpha   beta  gamma\n",
      " 11.87  11.87  11.87 A     90.00  90.00  90.00 deg\n",
      "List of indexing methods:\n",
      "   0: xgandalf-nolatt-cell      (xgandalf using cell parameters as prior information)\n",
      "Indexing parameters:\n",
      "                  Check unit cell parameters: on\n",
      "                        Check peak alignment: on\n",
      "                   Refine indexing solutions: off\n",
      " Multi-lattice indexing (\"delete and retry\"): off\n",
      "                              Retry indexing: on\n"
     ]
    },
    {
     "name": "stdout",
     "output_type": "stream",
     "text": [
      "Running for x=-513.2, y=-512.3\n"
     ]
    },
    {
     "name": "stderr",
     "output_type": "stream",
     "text": [
      "45 images processed, 45 hits (100.0%), 31 indexable (68.9% of hits, 68.9% overall), 31 crystals, 8.9 images/sec.\n",
      "79 images processed, 79 hits (100.0%), 44 indexable (55.7% of hits, 55.7% overall), 44 crystals, 6.8 images/sec.\n",
      "123 images processed, 123 hits (100.0%), 59 indexable (48.0% of hits, 48.0% overall), 59 crystals, 8.7 images/sec.\n",
      "160 images processed, 160 hits (100.0%), 68 indexable (42.5% of hits, 42.5% overall), 68 crystals, 7.3 images/sec.\n",
      "199 images processed, 199 hits (100.0%), 74 indexable (37.2% of hits, 37.2% overall), 74 crystals, 7.6 images/sec.\n",
      "238 images processed, 238 hits (100.0%), 83 indexable (34.9% of hits, 34.9% overall), 83 crystals, 7.6 images/sec.\n",
      "Waiting for the last patterns to be processed...\n",
      "283 images processed, 283 hits (100.0%), 109 indexable (38.5% of hits, 38.5% overall), 109 crystals, 8.8 images/sec.\n",
      "Final: 300 images processed, 300 hits (100.0%), 117 indexable (39.0% of hits, 39.0% overall), 117 crystals.\n",
      "Processing XY pairs:  56%|█████▌    | 175/313 [1:21:14<1:26:10, 37.47s/it]This is what I understood your unit cell to be:\n",
      "cubic P, right handed.\n",
      "a      b      c            alpha   beta  gamma\n",
      " 11.87  11.87  11.87 A     90.00  90.00  90.00 deg\n",
      "List of indexing methods:\n",
      "   0: xgandalf-nolatt-cell      (xgandalf using cell parameters as prior information)\n",
      "Indexing parameters:\n",
      "                  Check unit cell parameters: on\n",
      "                        Check peak alignment: on\n",
      "                   Refine indexing solutions: off\n",
      " Multi-lattice indexing (\"delete and retry\"): off\n",
      "                              Retry indexing: on\n"
     ]
    },
    {
     "name": "stdout",
     "output_type": "stream",
     "text": [
      "Running for x=-512.7, y=-513.2\n"
     ]
    },
    {
     "name": "stderr",
     "output_type": "stream",
     "text": [
      "37 images processed, 37 hits (100.0%), 18 indexable (48.6% of hits, 48.6% overall), 18 crystals, 7.3 images/sec.\n",
      "83 images processed, 83 hits (100.0%), 42 indexable (50.6% of hits, 50.6% overall), 42 crystals, 9.0 images/sec.\n",
      "126 images processed, 126 hits (100.0%), 56 indexable (44.4% of hits, 44.4% overall), 56 crystals, 8.3 images/sec.\n",
      "171 images processed, 171 hits (100.0%), 79 indexable (46.2% of hits, 46.2% overall), 79 crystals, 8.9 images/sec.\n",
      "222 images processed, 222 hits (100.0%), 104 indexable (46.8% of hits, 46.8% overall), 104 crystals, 10.0 images/sec.\n",
      "276 images processed, 276 hits (100.0%), 136 indexable (49.3% of hits, 49.3% overall), 136 crystals, 10.3 images/sec.\n",
      "Waiting for the last patterns to be processed...\n",
      "Final: 300 images processed, 300 hits (100.0%), 145 indexable (48.3% of hits, 48.3% overall), 145 crystals.\n",
      "Processing XY pairs:  56%|█████▌    | 176/313 [1:21:48<1:22:55, 36.32s/it]This is what I understood your unit cell to be:\n",
      "cubic P, right handed.\n",
      "a      b      c            alpha   beta  gamma\n",
      " 11.87  11.87  11.87 A     90.00  90.00  90.00 deg\n",
      "List of indexing methods:\n",
      "   0: xgandalf-nolatt-cell      (xgandalf using cell parameters as prior information)\n",
      "Indexing parameters:\n",
      "                  Check unit cell parameters: on\n",
      "                        Check peak alignment: on\n",
      "                   Refine indexing solutions: off\n",
      " Multi-lattice indexing (\"delete and retry\"): off\n",
      "                              Retry indexing: on\n"
     ]
    },
    {
     "name": "stdout",
     "output_type": "stream",
     "text": [
      "Running for x=-512.3, y=-513.2\n"
     ]
    },
    {
     "name": "stderr",
     "output_type": "stream",
     "text": [
      "42 images processed, 42 hits (100.0%), 26 indexable (61.9% of hits, 61.9% overall), 26 crystals, 8.2 images/sec.\n",
      "84 images processed, 84 hits (100.0%), 47 indexable (56.0% of hits, 56.0% overall), 47 crystals, 8.4 images/sec.\n",
      "124 images processed, 124 hits (100.0%), 65 indexable (52.4% of hits, 52.4% overall), 65 crystals, 8.0 images/sec.\n",
      "170 images processed, 170 hits (100.0%), 87 indexable (51.2% of hits, 51.2% overall), 87 crystals, 9.1 images/sec.\n",
      "218 images processed, 218 hits (100.0%), 104 indexable (47.7% of hits, 47.7% overall), 104 crystals, 9.0 images/sec.\n",
      "266 images processed, 266 hits (100.0%), 131 indexable (49.2% of hits, 49.2% overall), 131 crystals, 9.5 images/sec.\n",
      "Waiting for the last patterns to be processed...\n",
      "Final: 300 images processed, 300 hits (100.0%), 148 indexable (49.3% of hits, 49.3% overall), 148 crystals.\n",
      "Processing XY pairs:  57%|█████▋    | 177/313 [1:22:23<1:21:10, 35.81s/it]This is what I understood your unit cell to be:\n",
      "cubic P, right handed.\n",
      "a      b      c            alpha   beta  gamma\n",
      " 11.87  11.87  11.87 A     90.00  90.00  90.00 deg\n",
      "List of indexing methods:\n",
      "   0: xgandalf-nolatt-cell      (xgandalf using cell parameters as prior information)\n",
      "Indexing parameters:\n",
      "                  Check unit cell parameters: on\n",
      "                        Check peak alignment: on\n",
      "                   Refine indexing solutions: off\n",
      " Multi-lattice indexing (\"delete and retry\"): off\n",
      "                              Retry indexing: on\n"
     ]
    },
    {
     "name": "stdout",
     "output_type": "stream",
     "text": [
      "Running for x=-512.8, y=-511.8\n"
     ]
    },
    {
     "name": "stderr",
     "output_type": "stream",
     "text": [
      "32 images processed, 32 hits (100.0%), 14 indexable (43.8% of hits, 43.8% overall), 14 crystals, 6.0 images/sec.\n",
      "72 images processed, 72 hits (100.0%), 25 indexable (34.7% of hits, 34.7% overall), 25 crystals, 7.5 images/sec.\n",
      "108 images processed, 108 hits (100.0%), 34 indexable (31.5% of hits, 31.5% overall), 34 crystals, 7.2 images/sec.\n",
      "152 images processed, 152 hits (100.0%), 44 indexable (28.9% of hits, 28.9% overall), 44 crystals, 8.7 images/sec.\n",
      "191 images processed, 191 hits (100.0%), 58 indexable (30.4% of hits, 30.4% overall), 58 crystals, 7.6 images/sec.\n",
      "232 images processed, 232 hits (100.0%), 70 indexable (30.2% of hits, 30.2% overall), 70 crystals, 8.1 images/sec.\n",
      "274 images processed, 274 hits (100.0%), 84 indexable (30.7% of hits, 30.7% overall), 84 crystals, 8.1 images/sec.\n",
      "Waiting for the last patterns to be processed...\n",
      "Final: 300 images processed, 300 hits (100.0%), 93 indexable (31.0% of hits, 31.0% overall), 93 crystals.\n",
      "Processing XY pairs:  57%|█████▋    | 178/313 [1:23:03<1:23:46, 37.23s/it]This is what I understood your unit cell to be:\n",
      "cubic P, right handed.\n",
      "a      b      c            alpha   beta  gamma\n",
      " 11.87  11.87  11.87 A     90.00  90.00  90.00 deg\n",
      "List of indexing methods:\n",
      "   0: xgandalf-nolatt-cell      (xgandalf using cell parameters as prior information)\n",
      "Indexing parameters:\n",
      "                  Check unit cell parameters: on\n",
      "                        Check peak alignment: on\n",
      "                   Refine indexing solutions: off\n",
      " Multi-lattice indexing (\"delete and retry\"): off\n",
      "                              Retry indexing: on\n"
     ]
    },
    {
     "name": "stdout",
     "output_type": "stream",
     "text": [
      "Running for x=-512.2, y=-511.8\n"
     ]
    },
    {
     "name": "stderr",
     "output_type": "stream",
     "text": [
      "28 images processed, 28 hits (100.0%), 14 indexable (50.0% of hits, 50.0% overall), 14 crystals, 5.5 images/sec.\n",
      "69 images processed, 69 hits (100.0%), 15 indexable (21.7% of hits, 21.7% overall), 15 crystals, 7.9 images/sec.\n",
      "104 images processed, 104 hits (100.0%), 16 indexable (15.4% of hits, 15.4% overall), 16 crystals, 7.0 images/sec.\n",
      "141 images processed, 141 hits (100.0%), 19 indexable (13.5% of hits, 13.5% overall), 19 crystals, 7.1 images/sec.\n",
      "178 images processed, 178 hits (100.0%), 21 indexable (11.8% of hits, 11.8% overall), 21 crystals, 7.2 images/sec.\n",
      "218 images processed, 218 hits (100.0%), 25 indexable (11.5% of hits, 11.5% overall), 25 crystals, 7.9 images/sec.\n",
      "262 images processed, 262 hits (100.0%), 43 indexable (16.4% of hits, 16.4% overall), 43 crystals, 8.8 images/sec.\n",
      "Waiting for the last patterns to be processed...\n",
      "Final: 300 images processed, 300 hits (100.0%), 55 indexable (18.3% of hits, 18.3% overall), 55 crystals.\n",
      "Processing XY pairs:  57%|█████▋    | 179/313 [1:23:44<1:25:36, 38.33s/it]This is what I understood your unit cell to be:\n",
      "cubic P, right handed.\n",
      "a      b      c            alpha   beta  gamma\n",
      " 11.87  11.87  11.87 A     90.00  90.00  90.00 deg\n",
      "List of indexing methods:\n",
      "   0: xgandalf-nolatt-cell      (xgandalf using cell parameters as prior information)\n",
      "Indexing parameters:\n",
      "                  Check unit cell parameters: on\n",
      "                        Check peak alignment: on\n",
      "                   Refine indexing solutions: off\n",
      " Multi-lattice indexing (\"delete and retry\"): off\n",
      "                              Retry indexing: on\n"
     ]
    },
    {
     "name": "stdout",
     "output_type": "stream",
     "text": [
      "Running for x=-511.8, y=-512.8\n"
     ]
    },
    {
     "name": "stderr",
     "output_type": "stream",
     "text": [
      "53 images processed, 53 hits (100.0%), 39 indexable (73.6% of hits, 73.6% overall), 39 crystals, 10.2 images/sec.\n",
      "104 images processed, 104 hits (100.0%), 74 indexable (71.2% of hits, 71.2% overall), 74 crystals, 10.0 images/sec.\n",
      "152 images processed, 152 hits (100.0%), 99 indexable (65.1% of hits, 65.1% overall), 99 crystals, 9.3 images/sec.\n",
      "188 images processed, 188 hits (100.0%), 112 indexable (59.6% of hits, 59.6% overall), 112 crystals, 7.1 images/sec.\n",
      "232 images processed, 232 hits (100.0%), 124 indexable (53.4% of hits, 53.4% overall), 124 crystals, 8.5 images/sec.\n",
      "271 images processed, 271 hits (100.0%), 137 indexable (50.6% of hits, 50.6% overall), 137 crystals, 7.8 images/sec.\n",
      "Waiting for the last patterns to be processed...\n",
      "Final: 300 images processed, 300 hits (100.0%), 141 indexable (47.0% of hits, 47.0% overall), 141 crystals.\n",
      "Processing XY pairs:  58%|█████▊    | 180/313 [1:24:19<1:22:29, 37.21s/it]This is what I understood your unit cell to be:\n",
      "cubic P, right handed.\n",
      "a      b      c            alpha   beta  gamma\n",
      " 11.87  11.87  11.87 A     90.00  90.00  90.00 deg\n",
      "List of indexing methods:\n",
      "   0: xgandalf-nolatt-cell      (xgandalf using cell parameters as prior information)\n",
      "Indexing parameters:\n",
      "                  Check unit cell parameters: on\n",
      "                        Check peak alignment: on\n",
      "                   Refine indexing solutions: off\n",
      " Multi-lattice indexing (\"delete and retry\"): off\n",
      "                              Retry indexing: on\n"
     ]
    },
    {
     "name": "stdout",
     "output_type": "stream",
     "text": [
      "Running for x=-511.8, y=-512.2\n"
     ]
    },
    {
     "name": "stderr",
     "output_type": "stream",
     "text": [
      "39 images processed, 39 hits (100.0%), 21 indexable (53.8% of hits, 53.8% overall), 21 crystals, 7.8 images/sec.\n",
      "73 images processed, 73 hits (100.0%), 27 indexable (37.0% of hits, 37.0% overall), 27 crystals, 6.7 images/sec.\n",
      "112 images processed, 112 hits (100.0%), 29 indexable (25.9% of hits, 25.9% overall), 29 crystals, 7.4 images/sec.\n",
      "151 images processed, 151 hits (100.0%), 32 indexable (21.2% of hits, 21.2% overall), 32 crystals, 7.7 images/sec.\n",
      "183 images processed, 183 hits (100.0%), 36 indexable (19.7% of hits, 19.7% overall), 36 crystals, 6.4 images/sec.\n",
      "225 images processed, 225 hits (100.0%), 40 indexable (17.8% of hits, 17.8% overall), 40 crystals, 7.6 images/sec.\n",
      "271 images processed, 271 hits (100.0%), 60 indexable (22.1% of hits, 22.1% overall), 60 crystals, 9.2 images/sec.\n",
      "Waiting for the last patterns to be processed...\n",
      "Final: 300 images processed, 300 hits (100.0%), 74 indexable (24.7% of hits, 24.7% overall), 74 crystals.\n",
      "Processing XY pairs:  58%|█████▊    | 181/313 [1:24:59<1:23:45, 38.07s/it]This is what I understood your unit cell to be:\n",
      "cubic P, right handed.\n",
      "a      b      c            alpha   beta  gamma\n",
      " 11.87  11.87  11.87 A     90.00  90.00  90.00 deg\n",
      "List of indexing methods:\n",
      "   0: xgandalf-nolatt-cell      (xgandalf using cell parameters as prior information)\n",
      "Indexing parameters:\n",
      "                  Check unit cell parameters: on\n",
      "                        Check peak alignment: on\n",
      "                   Refine indexing solutions: off\n",
      " Multi-lattice indexing (\"delete and retry\"): off\n",
      "                              Retry indexing: on\n"
     ]
    },
    {
     "name": "stdout",
     "output_type": "stream",
     "text": [
      "Running for x=-513.2, y=-512.8\n"
     ]
    },
    {
     "name": "stderr",
     "output_type": "stream",
     "text": [
      "50 images processed, 50 hits (100.0%), 36 indexable (72.0% of hits, 72.0% overall), 36 crystals, 9.9 images/sec.\n",
      "96 images processed, 96 hits (100.0%), 67 indexable (69.8% of hits, 69.8% overall), 67 crystals, 9.2 images/sec.\n",
      "132 images processed, 132 hits (100.0%), 80 indexable (60.6% of hits, 60.6% overall), 80 crystals, 6.8 images/sec.\n",
      "181 images processed, 181 hits (100.0%), 99 indexable (54.7% of hits, 54.7% overall), 99 crystals, 9.5 images/sec.\n",
      "221 images processed, 221 hits (100.0%), 111 indexable (50.2% of hits, 50.2% overall), 111 crystals, 7.8 images/sec.\n",
      "264 images processed, 264 hits (100.0%), 127 indexable (48.1% of hits, 48.1% overall), 127 crystals, 8.5 images/sec.\n",
      "Waiting for the last patterns to be processed...\n",
      "Final: 300 images processed, 300 hits (100.0%), 138 indexable (46.0% of hits, 46.0% overall), 138 crystals.\n",
      "Processing XY pairs:  58%|█████▊    | 182/313 [1:25:34<1:21:12, 37.19s/it]This is what I understood your unit cell to be:\n",
      "cubic P, right handed.\n",
      "a      b      c            alpha   beta  gamma\n",
      " 11.87  11.87  11.87 A     90.00  90.00  90.00 deg\n",
      "List of indexing methods:\n",
      "   0: xgandalf-nolatt-cell      (xgandalf using cell parameters as prior information)\n",
      "Indexing parameters:\n",
      "                  Check unit cell parameters: on\n",
      "                        Check peak alignment: on\n",
      "                   Refine indexing solutions: off\n",
      " Multi-lattice indexing (\"delete and retry\"): off\n",
      "                              Retry indexing: on\n"
     ]
    },
    {
     "name": "stdout",
     "output_type": "stream",
     "text": [
      "Running for x=-513.2, y=-512.2\n"
     ]
    },
    {
     "name": "stderr",
     "output_type": "stream",
     "text": [
      "40 images processed, 40 hits (100.0%), 23 indexable (57.5% of hits, 57.5% overall), 23 crystals, 7.8 images/sec.\n",
      "74 images processed, 74 hits (100.0%), 32 indexable (43.2% of hits, 43.2% overall), 32 crystals, 6.7 images/sec.\n",
      "114 images processed, 114 hits (100.0%), 44 indexable (38.6% of hits, 38.6% overall), 44 crystals, 8.0 images/sec.\n",
      "151 images processed, 151 hits (100.0%), 50 indexable (33.1% of hits, 33.1% overall), 50 crystals, 6.9 images/sec.\n",
      "190 images processed, 190 hits (100.0%), 59 indexable (31.1% of hits, 31.1% overall), 59 crystals, 7.8 images/sec.\n",
      "230 images processed, 230 hits (100.0%), 66 indexable (28.7% of hits, 28.7% overall), 66 crystals, 7.7 images/sec.\n",
      "Waiting for the last patterns to be processed...\n",
      "280 images processed, 280 hits (100.0%), 87 indexable (31.1% of hits, 31.1% overall), 87 crystals, 9.6 images/sec.\n",
      "Final: 300 images processed, 300 hits (100.0%), 97 indexable (32.3% of hits, 32.3% overall), 97 crystals.\n",
      "Processing XY pairs:  58%|█████▊    | 183/313 [1:26:13<1:21:48, 37.75s/it]This is what I understood your unit cell to be:\n",
      "cubic P, right handed.\n",
      "a      b      c            alpha   beta  gamma\n",
      " 11.87  11.87  11.87 A     90.00  90.00  90.00 deg\n",
      "List of indexing methods:\n",
      "   0: xgandalf-nolatt-cell      (xgandalf using cell parameters as prior information)\n",
      "Indexing parameters:\n",
      "                  Check unit cell parameters: on\n",
      "                        Check peak alignment: on\n",
      "                   Refine indexing solutions: off\n",
      " Multi-lattice indexing (\"delete and retry\"): off\n",
      "                              Retry indexing: on\n"
     ]
    },
    {
     "name": "stdout",
     "output_type": "stream",
     "text": [
      "Running for x=-512.8, y=-513.2\n"
     ]
    },
    {
     "name": "stderr",
     "output_type": "stream",
     "text": [
      "42 images processed, 42 hits (100.0%), 27 indexable (64.3% of hits, 64.3% overall), 27 crystals, 8.3 images/sec.\n",
      "84 images processed, 84 hits (100.0%), 48 indexable (57.1% of hits, 57.1% overall), 48 crystals, 8.1 images/sec.\n",
      "131 images processed, 131 hits (100.0%), 68 indexable (51.9% of hits, 51.9% overall), 68 crystals, 9.1 images/sec.\n",
      "178 images processed, 178 hits (100.0%), 91 indexable (51.1% of hits, 51.1% overall), 91 crystals, 9.0 images/sec.\n",
      "228 images processed, 228 hits (100.0%), 110 indexable (48.2% of hits, 48.2% overall), 110 crystals, 9.9 images/sec.\n",
      "Waiting for the last patterns to be processed...\n",
      "282 images processed, 282 hits (100.0%), 148 indexable (52.5% of hits, 52.5% overall), 148 crystals, 10.6 images/sec.\n",
      "Final: 300 images processed, 300 hits (100.0%), 151 indexable (50.3% of hits, 50.3% overall), 151 crystals.\n",
      "Processing XY pairs:  59%|█████▉    | 184/313 [1:26:46<1:18:29, 36.51s/it]This is what I understood your unit cell to be:\n",
      "cubic P, right handed.\n",
      "a      b      c            alpha   beta  gamma\n",
      " 11.87  11.87  11.87 A     90.00  90.00  90.00 deg\n",
      "List of indexing methods:\n",
      "   0: xgandalf-nolatt-cell      (xgandalf using cell parameters as prior information)\n",
      "Indexing parameters:\n",
      "                  Check unit cell parameters: on\n",
      "                        Check peak alignment: on\n",
      "                   Refine indexing solutions: off\n",
      " Multi-lattice indexing (\"delete and retry\"): off\n",
      "                              Retry indexing: on\n"
     ]
    },
    {
     "name": "stdout",
     "output_type": "stream",
     "text": [
      "Running for x=-512.2, y=-513.2\n"
     ]
    },
    {
     "name": "stderr",
     "output_type": "stream",
     "text": [
      "40 images processed, 40 hits (100.0%), 27 indexable (67.5% of hits, 67.5% overall), 27 crystals, 8.0 images/sec.\n",
      "81 images processed, 81 hits (100.0%), 45 indexable (55.6% of hits, 55.6% overall), 45 crystals, 8.0 images/sec.\n",
      "128 images processed, 128 hits (100.0%), 71 indexable (55.5% of hits, 55.5% overall), 71 crystals, 9.3 images/sec.\n",
      "173 images processed, 173 hits (100.0%), 87 indexable (50.3% of hits, 50.3% overall), 87 crystals, 8.9 images/sec.\n",
      "217 images processed, 217 hits (100.0%), 103 indexable (47.5% of hits, 47.5% overall), 103 crystals, 8.7 images/sec.\n",
      "262 images processed, 262 hits (100.0%), 124 indexable (47.3% of hits, 47.3% overall), 124 crystals, 8.3 images/sec.\n",
      "Waiting for the last patterns to be processed...\n",
      "Final: 300 images processed, 300 hits (100.0%), 138 indexable (46.0% of hits, 46.0% overall), 138 crystals.\n",
      "Processing XY pairs:  59%|█████▉    | 185/313 [1:27:22<1:17:17, 36.23s/it]This is what I understood your unit cell to be:\n",
      "cubic P, right handed.\n",
      "a      b      c            alpha   beta  gamma\n",
      " 11.87  11.87  11.87 A     90.00  90.00  90.00 deg\n",
      "List of indexing methods:\n",
      "   0: xgandalf-nolatt-cell      (xgandalf using cell parameters as prior information)\n",
      "Indexing parameters:\n",
      "                  Check unit cell parameters: on\n",
      "                        Check peak alignment: on\n",
      "                   Refine indexing solutions: off\n",
      " Multi-lattice indexing (\"delete and retry\"): off\n",
      "                              Retry indexing: on\n"
     ]
    },
    {
     "name": "stdout",
     "output_type": "stream",
     "text": [
      "Running for x=-513.1, y=-513.0\n"
     ]
    },
    {
     "name": "stderr",
     "output_type": "stream",
     "text": [
      "49 images processed, 49 hits (100.0%), 39 indexable (79.6% of hits, 79.6% overall), 39 crystals, 9.7 images/sec.\n",
      "103 images processed, 103 hits (100.0%), 82 indexable (79.6% of hits, 79.6% overall), 82 crystals, 10.5 images/sec.\n",
      "159 images processed, 159 hits (100.0%), 122 indexable (76.7% of hits, 76.7% overall), 122 crystals, 11.0 images/sec.\n",
      "209 images processed, 209 hits (100.0%), 151 indexable (72.2% of hits, 72.2% overall), 151 crystals, 9.3 images/sec.\n",
      "252 images processed, 252 hits (100.0%), 170 indexable (67.5% of hits, 67.5% overall), 170 crystals, 8.5 images/sec.\n",
      "Waiting for the last patterns to be processed...\n",
      "Final: 300 images processed, 300 hits (100.0%), 191 indexable (63.7% of hits, 63.7% overall), 191 crystals.\n",
      "Processing XY pairs:  59%|█████▉    | 186/313 [1:27:54<1:13:48, 34.87s/it]This is what I understood your unit cell to be:\n",
      "cubic P, right handed.\n",
      "a      b      c            alpha   beta  gamma\n",
      " 11.87  11.87  11.87 A     90.00  90.00  90.00 deg\n",
      "List of indexing methods:\n",
      "   0: xgandalf-nolatt-cell      (xgandalf using cell parameters as prior information)\n",
      "Indexing parameters:\n",
      "                  Check unit cell parameters: on\n",
      "                        Check peak alignment: on\n",
      "                   Refine indexing solutions: off\n",
      " Multi-lattice indexing (\"delete and retry\"): off\n",
      "                              Retry indexing: on\n"
     ]
    },
    {
     "name": "stdout",
     "output_type": "stream",
     "text": [
      "Running for x=-513.1, y=-512.0\n"
     ]
    },
    {
     "name": "stderr",
     "output_type": "stream",
     "text": [
      "33 images processed, 33 hits (100.0%), 22 indexable (66.7% of hits, 66.7% overall), 22 crystals, 6.6 images/sec.\n",
      "72 images processed, 72 hits (100.0%), 32 indexable (44.4% of hits, 44.4% overall), 32 crystals, 7.7 images/sec.\n",
      "106 images processed, 106 hits (100.0%), 35 indexable (33.0% of hits, 33.0% overall), 35 crystals, 6.5 images/sec.\n",
      "147 images processed, 147 hits (100.0%), 39 indexable (26.5% of hits, 26.5% overall), 39 crystals, 8.2 images/sec.\n",
      "184 images processed, 184 hits (100.0%), 43 indexable (23.4% of hits, 23.4% overall), 43 crystals, 7.2 images/sec.\n",
      "227 images processed, 227 hits (100.0%), 48 indexable (21.1% of hits, 21.1% overall), 48 crystals, 8.5 images/sec.\n",
      "266 images processed, 266 hits (100.0%), 65 indexable (24.4% of hits, 24.4% overall), 65 crystals, 7.7 images/sec.\n",
      "Waiting for the last patterns to be processed...\n",
      "Final: 300 images processed, 300 hits (100.0%), 78 indexable (26.0% of hits, 26.0% overall), 78 crystals.\n",
      "Processing XY pairs:  60%|█████▉    | 187/313 [1:28:34<1:16:26, 36.40s/it]This is what I understood your unit cell to be:\n",
      "cubic P, right handed.\n",
      "a      b      c            alpha   beta  gamma\n",
      " 11.87  11.87  11.87 A     90.00  90.00  90.00 deg\n",
      "List of indexing methods:\n",
      "   0: xgandalf-nolatt-cell      (xgandalf using cell parameters as prior information)\n",
      "Indexing parameters:\n",
      "                  Check unit cell parameters: on\n",
      "                        Check peak alignment: on\n",
      "                   Refine indexing solutions: off\n",
      " Multi-lattice indexing (\"delete and retry\"): off\n",
      "                              Retry indexing: on\n"
     ]
    },
    {
     "name": "stdout",
     "output_type": "stream",
     "text": [
      "Running for x=-513.0, y=-513.1\n"
     ]
    },
    {
     "name": "stderr",
     "output_type": "stream",
     "text": [
      "43 images processed, 43 hits (100.0%), 34 indexable (79.1% of hits, 79.1% overall), 34 crystals, 8.5 images/sec.\n",
      "96 images processed, 96 hits (100.0%), 66 indexable (68.8% of hits, 68.8% overall), 66 crystals, 10.5 images/sec.\n",
      "144 images processed, 144 hits (100.0%), 96 indexable (66.7% of hits, 66.7% overall), 96 crystals, 9.6 images/sec.\n",
      "199 images processed, 199 hits (100.0%), 132 indexable (66.3% of hits, 66.3% overall), 132 crystals, 10.7 images/sec.\n",
      "244 images processed, 244 hits (100.0%), 156 indexable (63.9% of hits, 63.9% overall), 156 crystals, 9.0 images/sec.\n",
      "Waiting for the last patterns to be processed...\n",
      "291 images processed, 291 hits (100.0%), 177 indexable (60.8% of hits, 60.8% overall), 177 crystals, 9.3 images/sec.\n",
      "Final: 300 images processed, 300 hits (100.0%), 181 indexable (60.3% of hits, 60.3% overall), 181 crystals.\n",
      "Processing XY pairs:  60%|██████    | 188/313 [1:29:06<1:13:20, 35.20s/it]This is what I understood your unit cell to be:\n",
      "cubic P, right handed.\n",
      "a      b      c            alpha   beta  gamma\n",
      " 11.87  11.87  11.87 A     90.00  90.00  90.00 deg\n",
      "List of indexing methods:\n",
      "   0: xgandalf-nolatt-cell      (xgandalf using cell parameters as prior information)\n",
      "Indexing parameters:\n",
      "                  Check unit cell parameters: on\n",
      "                        Check peak alignment: on\n",
      "                   Refine indexing solutions: off\n",
      " Multi-lattice indexing (\"delete and retry\"): off\n",
      "                              Retry indexing: on\n"
     ]
    },
    {
     "name": "stdout",
     "output_type": "stream",
     "text": [
      "Running for x=-513.0, y=-511.9\n"
     ]
    },
    {
     "name": "stderr",
     "output_type": "stream",
     "text": [
      "35 images processed, 35 hits (100.0%), 18 indexable (51.4% of hits, 51.4% overall), 18 crystals, 6.5 images/sec.\n",
      "76 images processed, 76 hits (100.0%), 28 indexable (36.8% of hits, 36.8% overall), 28 crystals, 7.8 images/sec.\n",
      "121 images processed, 121 hits (100.0%), 40 indexable (33.1% of hits, 33.1% overall), 40 crystals, 8.5 images/sec.\n",
      "163 images processed, 163 hits (100.0%), 50 indexable (30.7% of hits, 30.7% overall), 50 crystals, 8.2 images/sec.\n",
      "200 images processed, 200 hits (100.0%), 56 indexable (28.0% of hits, 28.0% overall), 56 crystals, 7.0 images/sec.\n",
      "245 images processed, 245 hits (100.0%), 69 indexable (28.2% of hits, 28.2% overall), 69 crystals, 9.0 images/sec.\n",
      "Waiting for the last patterns to be processed...\n",
      "289 images processed, 289 hits (100.0%), 95 indexable (32.9% of hits, 32.9% overall), 95 crystals, 8.7 images/sec.\n",
      "Final: 300 images processed, 300 hits (100.0%), 98 indexable (32.7% of hits, 32.7% overall), 98 crystals.\n",
      "Processing XY pairs:  60%|██████    | 189/313 [1:29:46<1:15:27, 36.51s/it]This is what I understood your unit cell to be:\n",
      "cubic P, right handed.\n",
      "a      b      c            alpha   beta  gamma\n",
      " 11.87  11.87  11.87 A     90.00  90.00  90.00 deg\n",
      "List of indexing methods:\n",
      "   0: xgandalf-nolatt-cell      (xgandalf using cell parameters as prior information)\n",
      "Indexing parameters:\n",
      "                  Check unit cell parameters: on\n",
      "                        Check peak alignment: on\n",
      "                   Refine indexing solutions: off\n",
      " Multi-lattice indexing (\"delete and retry\"): off\n",
      "                              Retry indexing: on\n"
     ]
    },
    {
     "name": "stdout",
     "output_type": "stream",
     "text": [
      "Running for x=-512.0, y=-513.1\n"
     ]
    },
    {
     "name": "stderr",
     "output_type": "stream",
     "text": [
      "43 images processed, 43 hits (100.0%), 31 indexable (72.1% of hits, 72.1% overall), 31 crystals, 8.6 images/sec.\n",
      "91 images processed, 91 hits (100.0%), 58 indexable (63.7% of hits, 63.7% overall), 58 crystals, 9.6 images/sec.\n",
      "138 images processed, 138 hits (100.0%), 81 indexable (58.7% of hits, 58.7% overall), 81 crystals, 9.2 images/sec.\n",
      "181 images processed, 181 hits (100.0%), 102 indexable (56.4% of hits, 56.4% overall), 102 crystals, 8.5 images/sec.\n",
      "225 images processed, 225 hits (100.0%), 123 indexable (54.7% of hits, 54.7% overall), 123 crystals, 8.7 images/sec.\n",
      "263 images processed, 263 hits (100.0%), 137 indexable (52.1% of hits, 52.1% overall), 137 crystals, 7.5 images/sec.\n",
      "Waiting for the last patterns to be processed...\n",
      "Final: 300 images processed, 300 hits (100.0%), 149 indexable (49.7% of hits, 49.7% overall), 149 crystals.\n",
      "Processing XY pairs:  61%|██████    | 190/313 [1:30:20<1:13:45, 35.98s/it]This is what I understood your unit cell to be:\n",
      "cubic P, right handed.\n",
      "a      b      c            alpha   beta  gamma\n",
      " 11.87  11.87  11.87 A     90.00  90.00  90.00 deg\n",
      "List of indexing methods:\n",
      "   0: xgandalf-nolatt-cell      (xgandalf using cell parameters as prior information)\n",
      "Indexing parameters:\n",
      "                  Check unit cell parameters: on\n",
      "                        Check peak alignment: on\n",
      "                   Refine indexing solutions: off\n",
      " Multi-lattice indexing (\"delete and retry\"): off\n",
      "                              Retry indexing: on\n"
     ]
    },
    {
     "name": "stdout",
     "output_type": "stream",
     "text": [
      "Running for x=-512.0, y=-511.9\n"
     ]
    },
    {
     "name": "stderr",
     "output_type": "stream",
     "text": [
      "35 images processed, 35 hits (100.0%), 18 indexable (51.4% of hits, 51.4% overall), 18 crystals, 7.0 images/sec.\n",
      "70 images processed, 70 hits (100.0%), 22 indexable (31.4% of hits, 31.4% overall), 22 crystals, 6.6 images/sec.\n",
      "111 images processed, 111 hits (100.0%), 24 indexable (21.6% of hits, 21.6% overall), 24 crystals, 8.0 images/sec.\n",
      "144 images processed, 144 hits (100.0%), 27 indexable (18.8% of hits, 18.8% overall), 27 crystals, 6.5 images/sec.\n",
      "183 images processed, 183 hits (100.0%), 31 indexable (16.9% of hits, 16.9% overall), 31 crystals, 7.6 images/sec.\n",
      "218 images processed, 218 hits (100.0%), 34 indexable (15.6% of hits, 15.6% overall), 34 crystals, 6.9 images/sec.\n",
      "267 images processed, 267 hits (100.0%), 50 indexable (18.7% of hits, 18.7% overall), 50 crystals, 9.4 images/sec.\n",
      "Waiting for the last patterns to be processed...\n",
      "Final: 300 images processed, 300 hits (100.0%), 66 indexable (22.0% of hits, 22.0% overall), 66 crystals.\n",
      "Processing XY pairs:  61%|██████    | 191/313 [1:31:01<1:15:50, 37.30s/it]This is what I understood your unit cell to be:\n",
      "cubic P, right handed.\n",
      "a      b      c            alpha   beta  gamma\n",
      " 11.87  11.87  11.87 A     90.00  90.00  90.00 deg\n",
      "List of indexing methods:\n",
      "   0: xgandalf-nolatt-cell      (xgandalf using cell parameters as prior information)\n",
      "Indexing parameters:\n",
      "                  Check unit cell parameters: on\n",
      "                        Check peak alignment: on\n",
      "                   Refine indexing solutions: off\n",
      " Multi-lattice indexing (\"delete and retry\"): off\n",
      "                              Retry indexing: on\n"
     ]
    },
    {
     "name": "stdout",
     "output_type": "stream",
     "text": [
      "Running for x=-511.9, y=-513.0\n"
     ]
    },
    {
     "name": "stderr",
     "output_type": "stream",
     "text": [
      "42 images processed, 42 hits (100.0%), 29 indexable (69.0% of hits, 69.0% overall), 29 crystals, 8.2 images/sec.\n",
      "88 images processed, 88 hits (100.0%), 50 indexable (56.8% of hits, 56.8% overall), 50 crystals, 8.9 images/sec.\n",
      "134 images processed, 134 hits (100.0%), 73 indexable (54.5% of hits, 54.5% overall), 73 crystals, 8.9 images/sec.\n",
      "181 images processed, 181 hits (100.0%), 93 indexable (51.4% of hits, 51.4% overall), 93 crystals, 9.3 images/sec.\n",
      "221 images processed, 221 hits (100.0%), 112 indexable (50.7% of hits, 50.7% overall), 112 crystals, 7.9 images/sec.\n",
      "262 images processed, 262 hits (100.0%), 126 indexable (48.1% of hits, 48.1% overall), 126 crystals, 8.2 images/sec.\n",
      "Waiting for the last patterns to be processed...\n",
      "Final: 300 images processed, 300 hits (100.0%), 132 indexable (44.0% of hits, 44.0% overall), 132 crystals.\n",
      "Processing XY pairs:  61%|██████▏   | 192/313 [1:31:37<1:14:19, 36.86s/it]This is what I understood your unit cell to be:\n",
      "cubic P, right handed.\n",
      "a      b      c            alpha   beta  gamma\n",
      " 11.87  11.87  11.87 A     90.00  90.00  90.00 deg\n",
      "List of indexing methods:\n",
      "   0: xgandalf-nolatt-cell      (xgandalf using cell parameters as prior information)\n",
      "Indexing parameters:\n",
      "                  Check unit cell parameters: on\n",
      "                        Check peak alignment: on\n",
      "                   Refine indexing solutions: off\n",
      " Multi-lattice indexing (\"delete and retry\"): off\n",
      "                              Retry indexing: on\n"
     ]
    },
    {
     "name": "stdout",
     "output_type": "stream",
     "text": [
      "Running for x=-511.9, y=-512.0\n"
     ]
    },
    {
     "name": "stderr",
     "output_type": "stream",
     "text": [
      "38 images processed, 38 hits (100.0%), 18 indexable (47.4% of hits, 47.4% overall), 18 crystals, 7.2 images/sec.\n",
      "71 images processed, 71 hits (100.0%), 23 indexable (32.4% of hits, 32.4% overall), 23 crystals, 6.5 images/sec.\n",
      "112 images processed, 112 hits (100.0%), 25 indexable (22.3% of hits, 22.3% overall), 25 crystals, 8.1 images/sec.\n",
      "147 images processed, 147 hits (100.0%), 29 indexable (19.7% of hits, 19.7% overall), 29 crystals, 6.7 images/sec.\n",
      "186 images processed, 186 hits (100.0%), 34 indexable (18.3% of hits, 18.3% overall), 34 crystals, 7.6 images/sec.\n",
      "223 images processed, 223 hits (100.0%), 35 indexable (15.7% of hits, 15.7% overall), 35 crystals, 7.3 images/sec.\n",
      "267 images processed, 267 hits (100.0%), 51 indexable (19.1% of hits, 19.1% overall), 51 crystals, 8.7 images/sec.\n",
      "Waiting for the last patterns to be processed...\n",
      "Final: 300 images processed, 300 hits (100.0%), 64 indexable (21.3% of hits, 21.3% overall), 64 crystals.\n",
      "Processing XY pairs:  62%|██████▏   | 193/313 [1:32:17<1:15:40, 37.83s/it]This is what I understood your unit cell to be:\n",
      "cubic P, right handed.\n",
      "a      b      c            alpha   beta  gamma\n",
      " 11.87  11.87  11.87 A     90.00  90.00  90.00 deg\n",
      "List of indexing methods:\n",
      "   0: xgandalf-nolatt-cell      (xgandalf using cell parameters as prior information)\n",
      "Indexing parameters:\n",
      "                  Check unit cell parameters: on\n",
      "                        Check peak alignment: on\n",
      "                   Refine indexing solutions: off\n",
      " Multi-lattice indexing (\"delete and retry\"): off\n",
      "                              Retry indexing: on\n"
     ]
    },
    {
     "name": "stdout",
     "output_type": "stream",
     "text": [
      "Running for x=-513.3, y=-512.5\n"
     ]
    },
    {
     "name": "stderr",
     "output_type": "stream",
     "text": [
      "41 images processed, 41 hits (100.0%), 25 indexable (61.0% of hits, 61.0% overall), 25 crystals, 7.8 images/sec.\n",
      "80 images processed, 80 hits (100.0%), 41 indexable (51.2% of hits, 51.2% overall), 41 crystals, 7.5 images/sec.\n",
      "120 images processed, 120 hits (100.0%), 47 indexable (39.2% of hits, 39.2% overall), 47 crystals, 7.9 images/sec.\n",
      "158 images processed, 158 hits (100.0%), 55 indexable (34.8% of hits, 34.8% overall), 55 crystals, 7.4 images/sec.\n",
      "195 images processed, 195 hits (100.0%), 59 indexable (30.3% of hits, 30.3% overall), 59 crystals, 7.2 images/sec.\n",
      "232 images processed, 232 hits (100.0%), 64 indexable (27.6% of hits, 27.6% overall), 64 crystals, 7.2 images/sec.\n",
      "274 images processed, 274 hits (100.0%), 81 indexable (29.6% of hits, 29.6% overall), 81 crystals, 8.4 images/sec.\n",
      "Waiting for the last patterns to be processed...\n",
      "Final: 300 images processed, 300 hits (100.0%), 88 indexable (29.3% of hits, 29.3% overall), 88 crystals.\n",
      "Processing XY pairs:  62%|██████▏   | 194/313 [1:32:56<1:15:58, 38.31s/it]This is what I understood your unit cell to be:\n",
      "cubic P, right handed.\n",
      "a      b      c            alpha   beta  gamma\n",
      " 11.87  11.87  11.87 A     90.00  90.00  90.00 deg\n",
      "List of indexing methods:\n",
      "   0: xgandalf-nolatt-cell      (xgandalf using cell parameters as prior information)\n",
      "Indexing parameters:\n",
      "                  Check unit cell parameters: on\n",
      "                        Check peak alignment: on\n",
      "                   Refine indexing solutions: off\n",
      " Multi-lattice indexing (\"delete and retry\"): off\n",
      "                              Retry indexing: on\n"
     ]
    },
    {
     "name": "stdout",
     "output_type": "stream",
     "text": [
      "Running for x=-512.5, y=-513.3\n"
     ]
    },
    {
     "name": "stderr",
     "output_type": "stream",
     "text": [
      "36 images processed, 36 hits (100.0%), 18 indexable (50.0% of hits, 50.0% overall), 18 crystals, 6.9 images/sec.\n",
      "77 images processed, 77 hits (100.0%), 27 indexable (35.1% of hits, 35.1% overall), 27 crystals, 8.0 images/sec.\n",
      "116 images processed, 116 hits (100.0%), 38 indexable (32.8% of hits, 32.8% overall), 38 crystals, 7.6 images/sec.\n",
      "161 images processed, 161 hits (100.0%), 52 indexable (32.3% of hits, 32.3% overall), 52 crystals, 9.0 images/sec.\n",
      "202 images processed, 202 hits (100.0%), 62 indexable (30.7% of hits, 30.7% overall), 62 crystals, 8.2 images/sec.\n",
      "247 images processed, 247 hits (100.0%), 75 indexable (30.4% of hits, 30.4% overall), 75 crystals, 8.9 images/sec.\n",
      "Waiting for the last patterns to be processed...\n",
      "291 images processed, 291 hits (100.0%), 87 indexable (29.9% of hits, 29.9% overall), 87 crystals, 8.8 images/sec.\n",
      "Final: 300 images processed, 300 hits (100.0%), 88 indexable (29.3% of hits, 29.3% overall), 88 crystals.\n",
      "Processing XY pairs:  62%|██████▏   | 195/313 [1:33:34<1:14:50, 38.06s/it]This is what I understood your unit cell to be:\n",
      "cubic P, right handed.\n",
      "a      b      c            alpha   beta  gamma\n",
      " 11.87  11.87  11.87 A     90.00  90.00  90.00 deg\n",
      "List of indexing methods:\n",
      "   0: xgandalf-nolatt-cell      (xgandalf using cell parameters as prior information)\n",
      "Indexing parameters:\n",
      "                  Check unit cell parameters: on\n",
      "                        Check peak alignment: on\n",
      "                   Refine indexing solutions: off\n",
      " Multi-lattice indexing (\"delete and retry\"): off\n",
      "                              Retry indexing: on\n"
     ]
    },
    {
     "name": "stdout",
     "output_type": "stream",
     "text": [
      "Running for x=-512.5, y=-511.7\n"
     ]
    },
    {
     "name": "stderr",
     "output_type": "stream",
     "text": [
      "28 images processed, 28 hits (100.0%), 6 indexable (21.4% of hits, 21.4% overall), 6 crystals, 5.3 images/sec.\n",
      "71 images processed, 71 hits (100.0%), 10 indexable (14.1% of hits, 14.1% overall), 10 crystals, 8.6 images/sec.\n",
      "102 images processed, 102 hits (100.0%), 11 indexable (10.8% of hits, 10.8% overall), 11 crystals, 5.8 images/sec.\n",
      "143 images processed, 143 hits (100.0%), 14 indexable (9.8% of hits, 9.8% overall), 14 crystals, 8.1 images/sec.\n",
      "177 images processed, 177 hits (100.0%), 18 indexable (10.2% of hits, 10.2% overall), 18 crystals, 6.7 images/sec.\n",
      "221 images processed, 221 hits (100.0%), 25 indexable (11.3% of hits, 11.3% overall), 25 crystals, 8.8 images/sec.\n",
      "259 images processed, 259 hits (100.0%), 34 indexable (13.1% of hits, 13.1% overall), 34 crystals, 7.3 images/sec.\n",
      "Waiting for the last patterns to be processed...\n",
      "Final: 300 images processed, 300 hits (100.0%), 44 indexable (14.7% of hits, 14.7% overall), 44 crystals.\n",
      "Processing XY pairs:  63%|██████▎   | 196/313 [1:34:16<1:16:30, 39.23s/it]This is what I understood your unit cell to be:\n",
      "cubic P, right handed.\n",
      "a      b      c            alpha   beta  gamma\n",
      " 11.87  11.87  11.87 A     90.00  90.00  90.00 deg\n",
      "List of indexing methods:\n",
      "   0: xgandalf-nolatt-cell      (xgandalf using cell parameters as prior information)\n",
      "Indexing parameters:\n",
      "                  Check unit cell parameters: on\n",
      "                        Check peak alignment: on\n",
      "                   Refine indexing solutions: off\n",
      " Multi-lattice indexing (\"delete and retry\"): off\n",
      "                              Retry indexing: on\n"
     ]
    },
    {
     "name": "stdout",
     "output_type": "stream",
     "text": [
      "Running for x=-511.7, y=-512.5\n"
     ]
    },
    {
     "name": "stderr",
     "output_type": "stream",
     "text": [
      "48 images processed, 48 hits (100.0%), 30 indexable (62.5% of hits, 62.5% overall), 30 crystals, 9.3 images/sec.\n",
      "87 images processed, 87 hits (100.0%), 51 indexable (58.6% of hits, 58.6% overall), 51 crystals, 7.3 images/sec.\n",
      "129 images processed, 129 hits (100.0%), 61 indexable (47.3% of hits, 47.3% overall), 61 crystals, 8.2 images/sec.\n",
      "160 images processed, 160 hits (100.0%), 65 indexable (40.6% of hits, 40.6% overall), 65 crystals, 6.1 images/sec.\n",
      "202 images processed, 202 hits (100.0%), 69 indexable (34.2% of hits, 34.2% overall), 69 crystals, 7.9 images/sec.\n",
      "239 images processed, 239 hits (100.0%), 74 indexable (31.0% of hits, 31.0% overall), 74 crystals, 7.2 images/sec.\n",
      "Waiting for the last patterns to be processed...\n",
      "286 images processed, 286 hits (100.0%), 97 indexable (33.9% of hits, 33.9% overall), 97 crystals, 9.3 images/sec.\n",
      "Final: 300 images processed, 300 hits (100.0%), 101 indexable (33.7% of hits, 33.7% overall), 101 crystals.\n",
      "Processing XY pairs:  63%|██████▎   | 197/313 [1:34:54<1:15:38, 39.12s/it]This is what I understood your unit cell to be:\n",
      "cubic P, right handed.\n",
      "a      b      c            alpha   beta  gamma\n",
      " 11.87  11.87  11.87 A     90.00  90.00  90.00 deg\n",
      "List of indexing methods:\n",
      "   0: xgandalf-nolatt-cell      (xgandalf using cell parameters as prior information)\n",
      "Indexing parameters:\n",
      "                  Check unit cell parameters: on\n",
      "                        Check peak alignment: on\n",
      "                   Refine indexing solutions: off\n",
      " Multi-lattice indexing (\"delete and retry\"): off\n",
      "                              Retry indexing: on\n"
     ]
    },
    {
     "name": "stdout",
     "output_type": "stream",
     "text": [
      "Running for x=-513.3, y=-512.6\n"
     ]
    },
    {
     "name": "stderr",
     "output_type": "stream",
     "text": [
      "42 images processed, 42 hits (100.0%), 29 indexable (69.0% of hits, 69.0% overall), 29 crystals, 8.2 images/sec.\n",
      "78 images processed, 78 hits (100.0%), 41 indexable (52.6% of hits, 52.6% overall), 41 crystals, 7.1 images/sec.\n",
      "118 images processed, 118 hits (100.0%), 47 indexable (39.8% of hits, 39.8% overall), 47 crystals, 7.8 images/sec.\n",
      "156 images processed, 156 hits (100.0%), 52 indexable (33.3% of hits, 33.3% overall), 52 crystals, 7.5 images/sec.\n",
      "195 images processed, 195 hits (100.0%), 56 indexable (28.7% of hits, 28.7% overall), 56 crystals, 7.8 images/sec.\n",
      "230 images processed, 230 hits (100.0%), 59 indexable (25.7% of hits, 25.7% overall), 59 crystals, 6.9 images/sec.\n",
      "269 images processed, 269 hits (100.0%), 69 indexable (25.7% of hits, 25.7% overall), 69 crystals, 7.7 images/sec.\n",
      "Waiting for the last patterns to be processed...\n",
      "Final: 300 images processed, 300 hits (100.0%), 77 indexable (25.7% of hits, 25.7% overall), 77 crystals.\n",
      "Processing XY pairs:  63%|██████▎   | 198/313 [1:35:34<1:15:13, 39.25s/it]This is what I understood your unit cell to be:\n",
      "cubic P, right handed.\n",
      "a      b      c            alpha   beta  gamma\n",
      " 11.87  11.87  11.87 A     90.00  90.00  90.00 deg\n",
      "List of indexing methods:\n",
      "   0: xgandalf-nolatt-cell      (xgandalf using cell parameters as prior information)\n",
      "Indexing parameters:\n",
      "                  Check unit cell parameters: on\n",
      "                        Check peak alignment: on\n",
      "                   Refine indexing solutions: off\n",
      " Multi-lattice indexing (\"delete and retry\"): off\n",
      "                              Retry indexing: on\n"
     ]
    },
    {
     "name": "stdout",
     "output_type": "stream",
     "text": [
      "Running for x=-513.3, y=-512.4\n"
     ]
    },
    {
     "name": "stderr",
     "output_type": "stream",
     "text": [
      "42 images processed, 42 hits (100.0%), 22 indexable (52.4% of hits, 52.4% overall), 22 crystals, 8.0 images/sec.\n",
      "76 images processed, 76 hits (100.0%), 36 indexable (47.4% of hits, 47.4% overall), 36 crystals, 6.6 images/sec.\n",
      "118 images processed, 118 hits (100.0%), 45 indexable (38.1% of hits, 38.1% overall), 45 crystals, 8.3 images/sec.\n",
      "154 images processed, 154 hits (100.0%), 51 indexable (33.1% of hits, 33.1% overall), 51 crystals, 6.8 images/sec.\n",
      "190 images processed, 190 hits (100.0%), 55 indexable (28.9% of hits, 28.9% overall), 55 crystals, 7.1 images/sec.\n",
      "227 images processed, 227 hits (100.0%), 57 indexable (25.1% of hits, 25.1% overall), 57 crystals, 7.1 images/sec.\n",
      "269 images processed, 269 hits (100.0%), 72 indexable (26.8% of hits, 26.8% overall), 72 crystals, 8.0 images/sec.\n",
      "Waiting for the last patterns to be processed...\n",
      "Final: 300 images processed, 300 hits (100.0%), 87 indexable (29.0% of hits, 29.0% overall), 87 crystals.\n",
      "Processing XY pairs:  64%|██████▎   | 199/313 [1:36:14<1:15:04, 39.51s/it]This is what I understood your unit cell to be:\n",
      "cubic P, right handed.\n",
      "a      b      c            alpha   beta  gamma\n",
      " 11.87  11.87  11.87 A     90.00  90.00  90.00 deg\n",
      "List of indexing methods:\n",
      "   0: xgandalf-nolatt-cell      (xgandalf using cell parameters as prior information)\n",
      "Indexing parameters:\n",
      "                  Check unit cell parameters: on\n",
      "                        Check peak alignment: on\n",
      "                   Refine indexing solutions: off\n",
      " Multi-lattice indexing (\"delete and retry\"): off\n",
      "                              Retry indexing: on\n"
     ]
    },
    {
     "name": "stdout",
     "output_type": "stream",
     "text": [
      "Running for x=-512.6, y=-513.3\n"
     ]
    },
    {
     "name": "stderr",
     "output_type": "stream",
     "text": [
      "36 images processed, 36 hits (100.0%), 19 indexable (52.8% of hits, 52.8% overall), 19 crystals, 7.0 images/sec.\n",
      "76 images processed, 76 hits (100.0%), 27 indexable (35.5% of hits, 35.5% overall), 27 crystals, 7.8 images/sec.\n",
      "119 images processed, 119 hits (100.0%), 40 indexable (33.6% of hits, 33.6% overall), 40 crystals, 8.4 images/sec.\n",
      "162 images processed, 162 hits (100.0%), 57 indexable (35.2% of hits, 35.2% overall), 57 crystals, 8.5 images/sec.\n",
      "204 images processed, 204 hits (100.0%), 68 indexable (33.3% of hits, 33.3% overall), 68 crystals, 8.3 images/sec.\n",
      "251 images processed, 251 hits (100.0%), 89 indexable (35.5% of hits, 35.5% overall), 89 crystals, 9.2 images/sec.\n",
      "Waiting for the last patterns to be processed...\n",
      "298 images processed, 298 hits (100.0%), 106 indexable (35.6% of hits, 35.6% overall), 106 crystals, 9.3 images/sec.\n",
      "Final: 300 images processed, 300 hits (100.0%), 106 indexable (35.3% of hits, 35.3% overall), 106 crystals.\n",
      "Processing XY pairs:  64%|██████▍   | 200/313 [1:36:51<1:12:57, 38.74s/it]"
     ]
    },
    {
     "name": "stdout",
     "output_type": "stream",
     "text": [
      "Running for x=-512.4, y=-513.3\n"
     ]
    },
    {
     "name": "stderr",
     "output_type": "stream",
     "text": [
      "This is what I understood your unit cell to be:\n",
      "cubic P, right handed.\n",
      "a      b      c            alpha   beta  gamma\n",
      " 11.87  11.87  11.87 A     90.00  90.00  90.00 deg\n",
      "List of indexing methods:\n",
      "   0: xgandalf-nolatt-cell      (xgandalf using cell parameters as prior information)\n",
      "Indexing parameters:\n",
      "                  Check unit cell parameters: on\n",
      "                        Check peak alignment: on\n",
      "                   Refine indexing solutions: off\n",
      " Multi-lattice indexing (\"delete and retry\"): off\n",
      "                              Retry indexing: on\n",
      "35 images processed, 35 hits (100.0%), 20 indexable (57.1% of hits, 57.1% overall), 20 crystals, 6.9 images/sec.\n",
      "74 images processed, 74 hits (100.0%), 29 indexable (39.2% of hits, 39.2% overall), 29 crystals, 7.7 images/sec.\n",
      "115 images processed, 115 hits (100.0%), 39 indexable (33.9% of hits, 33.9% overall), 39 crystals, 8.2 images/sec.\n",
      "159 images processed, 159 hits (100.0%), 55 indexable (34.6% of hits, 34.6% overall), 55 crystals, 8.6 images/sec.\n",
      "202 images processed, 202 hits (100.0%), 68 indexable (33.7% of hits, 33.7% overall), 68 crystals, 8.2 images/sec.\n",
      "241 images processed, 241 hits (100.0%), 75 indexable (31.1% of hits, 31.1% overall), 75 crystals, 7.7 images/sec.\n",
      "Waiting for the last patterns to be processed...\n",
      "282 images processed, 282 hits (100.0%), 86 indexable (30.5% of hits, 30.5% overall), 86 crystals, 8.2 images/sec.\n",
      "Final: 300 images processed, 300 hits (100.0%), 92 indexable (30.7% of hits, 30.7% overall), 92 crystals.\n",
      "Processing XY pairs:  64%|██████▍   | 201/313 [1:37:30<1:12:34, 38.88s/it]This is what I understood your unit cell to be:\n",
      "cubic P, right handed.\n",
      "a      b      c            alpha   beta  gamma\n",
      " 11.87  11.87  11.87 A     90.00  90.00  90.00 deg\n",
      "List of indexing methods:\n",
      "   0: xgandalf-nolatt-cell      (xgandalf using cell parameters as prior information)\n",
      "Indexing parameters:\n",
      "                  Check unit cell parameters: on\n",
      "                        Check peak alignment: on\n",
      "                   Refine indexing solutions: off\n",
      " Multi-lattice indexing (\"delete and retry\"): off\n",
      "                              Retry indexing: on\n"
     ]
    },
    {
     "name": "stdout",
     "output_type": "stream",
     "text": [
      "Running for x=-512.9, y=-511.8\n"
     ]
    },
    {
     "name": "stderr",
     "output_type": "stream",
     "text": [
      "31 images processed, 31 hits (100.0%), 14 indexable (45.2% of hits, 45.2% overall), 14 crystals, 5.8 images/sec.\n",
      "72 images processed, 72 hits (100.0%), 23 indexable (31.9% of hits, 31.9% overall), 23 crystals, 8.2 images/sec.\n",
      "109 images processed, 109 hits (100.0%), 31 indexable (28.4% of hits, 28.4% overall), 31 crystals, 7.4 images/sec.\n",
      "146 images processed, 146 hits (100.0%), 38 indexable (26.0% of hits, 26.0% overall), 38 crystals, 7.3 images/sec.\n",
      "185 images processed, 185 hits (100.0%), 45 indexable (24.3% of hits, 24.3% overall), 45 crystals, 7.6 images/sec.\n",
      "228 images processed, 228 hits (100.0%), 53 indexable (23.2% of hits, 23.2% overall), 53 crystals, 8.4 images/sec.\n",
      "269 images processed, 269 hits (100.0%), 68 indexable (25.3% of hits, 25.3% overall), 68 crystals, 7.9 images/sec.\n",
      "Waiting for the last patterns to be processed...\n",
      "Final: 300 images processed, 300 hits (100.0%), 79 indexable (26.3% of hits, 26.3% overall), 79 crystals.\n",
      "Processing XY pairs:  65%|██████▍   | 202/313 [1:38:10<1:12:26, 39.16s/it]This is what I understood your unit cell to be:\n",
      "cubic P, right handed.\n",
      "a      b      c            alpha   beta  gamma\n",
      " 11.87  11.87  11.87 A     90.00  90.00  90.00 deg\n",
      "List of indexing methods:\n",
      "   0: xgandalf-nolatt-cell      (xgandalf using cell parameters as prior information)\n",
      "Indexing parameters:\n",
      "                  Check unit cell parameters: on\n",
      "                        Check peak alignment: on\n",
      "                   Refine indexing solutions: off\n",
      " Multi-lattice indexing (\"delete and retry\"): off\n",
      "                              Retry indexing: on\n"
     ]
    },
    {
     "name": "stdout",
     "output_type": "stream",
     "text": [
      "Running for x=-512.1, y=-511.8\n"
     ]
    },
    {
     "name": "stderr",
     "output_type": "stream",
     "text": [
      "33 images processed, 33 hits (100.0%), 18 indexable (54.5% of hits, 54.5% overall), 18 crystals, 6.5 images/sec.\n",
      "72 images processed, 72 hits (100.0%), 20 indexable (27.8% of hits, 27.8% overall), 20 crystals, 7.5 images/sec.\n",
      "106 images processed, 106 hits (100.0%), 21 indexable (19.8% of hits, 19.8% overall), 21 crystals, 6.6 images/sec.\n",
      "146 images processed, 146 hits (100.0%), 22 indexable (15.1% of hits, 15.1% overall), 22 crystals, 7.9 images/sec.\n",
      "181 images processed, 181 hits (100.0%), 28 indexable (15.5% of hits, 15.5% overall), 28 crystals, 6.5 images/sec.\n",
      "227 images processed, 227 hits (100.0%), 36 indexable (15.9% of hits, 15.9% overall), 36 crystals, 8.5 images/sec.\n",
      "275 images processed, 275 hits (100.0%), 64 indexable (23.3% of hits, 23.3% overall), 64 crystals, 9.5 images/sec.\n",
      "Waiting for the last patterns to be processed...\n",
      "Final: 300 images processed, 300 hits (100.0%), 72 indexable (24.0% of hits, 24.0% overall), 72 crystals.\n",
      "Processing XY pairs:  65%|██████▍   | 203/313 [1:38:50<1:11:57, 39.25s/it]This is what I understood your unit cell to be:\n",
      "cubic P, right handed.\n",
      "a      b      c            alpha   beta  gamma\n",
      " 11.87  11.87  11.87 A     90.00  90.00  90.00 deg\n",
      "List of indexing methods:\n",
      "   0: xgandalf-nolatt-cell      (xgandalf using cell parameters as prior information)\n",
      "Indexing parameters:\n",
      "                  Check unit cell parameters: on\n",
      "                        Check peak alignment: on\n",
      "                   Refine indexing solutions: off\n",
      " Multi-lattice indexing (\"delete and retry\"): off\n",
      "                              Retry indexing: on\n"
     ]
    },
    {
     "name": "stdout",
     "output_type": "stream",
     "text": [
      "Running for x=-511.8, y=-512.9\n"
     ]
    },
    {
     "name": "stderr",
     "output_type": "stream",
     "text": [
      "46 images processed, 46 hits (100.0%), 29 indexable (63.0% of hits, 63.0% overall), 29 crystals, 9.0 images/sec.\n",
      "84 images processed, 84 hits (100.0%), 45 indexable (53.6% of hits, 53.6% overall), 45 crystals, 7.6 images/sec.\n",
      "138 images processed, 138 hits (100.0%), 73 indexable (52.9% of hits, 52.9% overall), 73 crystals, 10.7 images/sec.\n",
      "182 images processed, 182 hits (100.0%), 94 indexable (51.6% of hits, 51.6% overall), 94 crystals, 8.7 images/sec.\n",
      "220 images processed, 220 hits (100.0%), 105 indexable (47.7% of hits, 47.7% overall), 105 crystals, 7.5 images/sec.\n",
      "260 images processed, 260 hits (100.0%), 115 indexable (44.2% of hits, 44.2% overall), 115 crystals, 7.7 images/sec.\n",
      "Waiting for the last patterns to be processed...\n",
      "Final: 300 images processed, 300 hits (100.0%), 120 indexable (40.0% of hits, 40.0% overall), 120 crystals.\n",
      "Processing XY pairs:  65%|██████▌   | 204/313 [1:39:25<1:09:24, 38.20s/it]This is what I understood your unit cell to be:\n",
      "cubic P, right handed.\n",
      "a      b      c            alpha   beta  gamma\n",
      " 11.87  11.87  11.87 A     90.00  90.00  90.00 deg\n",
      "List of indexing methods:\n",
      "   0: xgandalf-nolatt-cell      (xgandalf using cell parameters as prior information)\n",
      "Indexing parameters:\n",
      "                  Check unit cell parameters: on\n",
      "                        Check peak alignment: on\n",
      "                   Refine indexing solutions: off\n",
      " Multi-lattice indexing (\"delete and retry\"): off\n",
      "                              Retry indexing: on\n"
     ]
    },
    {
     "name": "stdout",
     "output_type": "stream",
     "text": [
      "Running for x=-511.8, y=-512.1\n"
     ]
    },
    {
     "name": "stderr",
     "output_type": "stream",
     "text": [
      "35 images processed, 35 hits (100.0%), 16 indexable (45.7% of hits, 45.7% overall), 16 crystals, 7.0 images/sec.\n",
      "71 images processed, 71 hits (100.0%), 22 indexable (31.0% of hits, 31.0% overall), 22 crystals, 6.8 images/sec.\n",
      "109 images processed, 109 hits (100.0%), 25 indexable (22.9% of hits, 22.9% overall), 25 crystals, 7.5 images/sec.\n",
      "143 images processed, 143 hits (100.0%), 27 indexable (18.9% of hits, 18.9% overall), 27 crystals, 6.7 images/sec.\n",
      "180 images processed, 180 hits (100.0%), 30 indexable (16.7% of hits, 16.7% overall), 30 crystals, 7.2 images/sec.\n",
      "217 images processed, 217 hits (100.0%), 32 indexable (14.7% of hits, 14.7% overall), 32 crystals, 7.1 images/sec.\n",
      "256 images processed, 256 hits (100.0%), 40 indexable (15.6% of hits, 15.6% overall), 40 crystals, 7.6 images/sec.\n",
      "Waiting for the last patterns to be processed...\n",
      "Final: 300 images processed, 300 hits (100.0%), 52 indexable (17.3% of hits, 17.3% overall), 52 crystals.\n",
      "Processing XY pairs:  65%|██████▌   | 205/313 [1:40:07<1:10:32, 39.19s/it]This is what I understood your unit cell to be:\n",
      "cubic P, right handed.\n",
      "a      b      c            alpha   beta  gamma\n",
      " 11.87  11.87  11.87 A     90.00  90.00  90.00 deg\n",
      "List of indexing methods:\n",
      "   0: xgandalf-nolatt-cell      (xgandalf using cell parameters as prior information)\n",
      "Indexing parameters:\n",
      "                  Check unit cell parameters: on\n",
      "                        Check peak alignment: on\n",
      "                   Refine indexing solutions: off\n",
      " Multi-lattice indexing (\"delete and retry\"): off\n",
      "                              Retry indexing: on\n"
     ]
    },
    {
     "name": "stdout",
     "output_type": "stream",
     "text": [
      "Running for x=-512.6, y=-511.7\n"
     ]
    },
    {
     "name": "stderr",
     "output_type": "stream",
     "text": [
      "27 images processed, 27 hits (100.0%), 11 indexable (40.7% of hits, 40.7% overall), 11 crystals, 5.2 images/sec.\n",
      "69 images processed, 69 hits (100.0%), 15 indexable (21.7% of hits, 21.7% overall), 15 crystals, 8.0 images/sec.\n",
      "102 images processed, 102 hits (100.0%), 19 indexable (18.6% of hits, 18.6% overall), 19 crystals, 6.6 images/sec.\n",
      "142 images processed, 142 hits (100.0%), 23 indexable (16.2% of hits, 16.2% overall), 23 crystals, 7.8 images/sec.\n",
      "178 images processed, 178 hits (100.0%), 27 indexable (15.2% of hits, 15.2% overall), 27 crystals, 7.1 images/sec.\n",
      "218 images processed, 218 hits (100.0%), 32 indexable (14.7% of hits, 14.7% overall), 32 crystals, 7.9 images/sec.\n",
      "258 images processed, 258 hits (100.0%), 40 indexable (15.5% of hits, 15.5% overall), 40 crystals, 7.7 images/sec.\n",
      "Waiting for the last patterns to be processed...\n",
      "Final: 300 images processed, 300 hits (100.0%), 53 indexable (17.7% of hits, 17.7% overall), 53 crystals.\n",
      "Processing XY pairs:  66%|██████▌   | 206/313 [1:40:48<1:10:45, 39.68s/it]This is what I understood your unit cell to be:\n",
      "cubic P, right handed.\n",
      "a      b      c            alpha   beta  gamma\n",
      " 11.87  11.87  11.87 A     90.00  90.00  90.00 deg\n",
      "List of indexing methods:\n",
      "   0: xgandalf-nolatt-cell      (xgandalf using cell parameters as prior information)\n",
      "Indexing parameters:\n",
      "                  Check unit cell parameters: on\n",
      "                        Check peak alignment: on\n",
      "                   Refine indexing solutions: off\n",
      " Multi-lattice indexing (\"delete and retry\"): off\n",
      "                              Retry indexing: on\n"
     ]
    },
    {
     "name": "stdout",
     "output_type": "stream",
     "text": [
      "Running for x=-512.4, y=-511.7\n"
     ]
    },
    {
     "name": "stderr",
     "output_type": "stream",
     "text": [
      "25 images processed, 25 hits (100.0%), 7 indexable (28.0% of hits, 28.0% overall), 7 crystals, 4.8 images/sec.\n",
      "70 images processed, 70 hits (100.0%), 10 indexable (14.3% of hits, 14.3% overall), 10 crystals, 8.2 images/sec.\n",
      "102 images processed, 102 hits (100.0%), 10 indexable (9.8% of hits, 9.8% overall), 10 crystals, 6.3 images/sec.\n",
      "144 images processed, 144 hits (100.0%), 11 indexable (7.6% of hits, 7.6% overall), 11 crystals, 7.7 images/sec.\n",
      "182 images processed, 182 hits (100.0%), 13 indexable (7.1% of hits, 7.1% overall), 13 crystals, 7.5 images/sec.\n",
      "221 images processed, 221 hits (100.0%), 18 indexable (8.1% of hits, 8.1% overall), 18 crystals, 7.5 images/sec.\n",
      "261 images processed, 261 hits (100.0%), 28 indexable (10.7% of hits, 10.7% overall), 28 crystals, 7.7 images/sec.\n",
      "Waiting for the last patterns to be processed...\n",
      "Final: 300 images processed, 300 hits (100.0%), 34 indexable (11.3% of hits, 11.3% overall), 34 crystals.\n",
      "Processing XY pairs:  66%|██████▌   | 207/313 [1:41:31<1:11:51, 40.68s/it]This is what I understood your unit cell to be:\n",
      "cubic P, right handed.\n",
      "a      b      c            alpha   beta  gamma\n",
      " 11.87  11.87  11.87 A     90.00  90.00  90.00 deg\n",
      "List of indexing methods:\n",
      "   0: xgandalf-nolatt-cell      (xgandalf using cell parameters as prior information)\n",
      "Indexing parameters:\n",
      "                  Check unit cell parameters: on\n",
      "                        Check peak alignment: on\n",
      "                   Refine indexing solutions: off\n",
      " Multi-lattice indexing (\"delete and retry\"): off\n",
      "                              Retry indexing: on\n"
     ]
    },
    {
     "name": "stdout",
     "output_type": "stream",
     "text": [
      "Running for x=-511.7, y=-512.6\n"
     ]
    },
    {
     "name": "stderr",
     "output_type": "stream",
     "text": [
      "42 images processed, 42 hits (100.0%), 26 indexable (61.9% of hits, 61.9% overall), 26 crystals, 8.4 images/sec.\n",
      "91 images processed, 91 hits (100.0%), 59 indexable (64.8% of hits, 64.8% overall), 59 crystals, 9.7 images/sec.\n",
      "132 images processed, 132 hits (100.0%), 76 indexable (57.6% of hits, 57.6% overall), 76 crystals, 8.1 images/sec.\n",
      "165 images processed, 165 hits (100.0%), 79 indexable (47.9% of hits, 47.9% overall), 79 crystals, 6.2 images/sec.\n",
      "206 images processed, 206 hits (100.0%), 87 indexable (42.2% of hits, 42.2% overall), 87 crystals, 8.0 images/sec.\n",
      "245 images processed, 245 hits (100.0%), 97 indexable (39.6% of hits, 39.6% overall), 97 crystals, 7.7 images/sec.\n",
      "Waiting for the last patterns to be processed...\n",
      "287 images processed, 287 hits (100.0%), 115 indexable (40.1% of hits, 40.1% overall), 115 crystals, 8.2 images/sec.\n",
      "Final: 300 images processed, 300 hits (100.0%), 115 indexable (38.3% of hits, 38.3% overall), 115 crystals.\n",
      "Processing XY pairs:  66%|██████▋   | 208/313 [1:42:09<1:09:43, 39.84s/it]This is what I understood your unit cell to be:\n",
      "cubic P, right handed.\n",
      "a      b      c            alpha   beta  gamma\n",
      " 11.87  11.87  11.87 A     90.00  90.00  90.00 deg\n",
      "List of indexing methods:\n",
      "   0: xgandalf-nolatt-cell      (xgandalf using cell parameters as prior information)\n",
      "Indexing parameters:\n",
      "                  Check unit cell parameters: on\n",
      "                        Check peak alignment: on\n",
      "                   Refine indexing solutions: off\n",
      " Multi-lattice indexing (\"delete and retry\"): off\n",
      "                              Retry indexing: on\n"
     ]
    },
    {
     "name": "stdout",
     "output_type": "stream",
     "text": [
      "Running for x=-511.7, y=-512.4\n"
     ]
    },
    {
     "name": "stderr",
     "output_type": "stream",
     "text": [
      "43 images processed, 43 hits (100.0%), 23 indexable (53.5% of hits, 53.5% overall), 23 crystals, 8.6 images/sec.\n",
      "76 images processed, 76 hits (100.0%), 34 indexable (44.7% of hits, 44.7% overall), 34 crystals, 6.4 images/sec.\n",
      "120 images processed, 120 hits (100.0%), 39 indexable (32.5% of hits, 32.5% overall), 39 crystals, 8.8 images/sec.\n",
      "154 images processed, 154 hits (100.0%), 43 indexable (27.9% of hits, 27.9% overall), 43 crystals, 6.6 images/sec.\n",
      "187 images processed, 187 hits (100.0%), 45 indexable (24.1% of hits, 24.1% overall), 45 crystals, 6.5 images/sec.\n",
      "229 images processed, 229 hits (100.0%), 50 indexable (21.8% of hits, 21.8% overall), 50 crystals, 7.9 images/sec.\n",
      "267 images processed, 267 hits (100.0%), 63 indexable (23.6% of hits, 23.6% overall), 63 crystals, 7.5 images/sec.\n",
      "Waiting for the last patterns to be processed...\n",
      "Final: 300 images processed, 300 hits (100.0%), 71 indexable (23.7% of hits, 23.7% overall), 71 crystals.\n",
      "Processing XY pairs:  67%|██████▋   | 209/313 [1:42:49<1:09:14, 39.95s/it]This is what I understood your unit cell to be:\n",
      "cubic P, right handed.\n",
      "a      b      c            alpha   beta  gamma\n",
      " 11.87  11.87  11.87 A     90.00  90.00  90.00 deg\n",
      "List of indexing methods:\n",
      "   0: xgandalf-nolatt-cell      (xgandalf using cell parameters as prior information)\n",
      "Indexing parameters:\n",
      "                  Check unit cell parameters: on\n",
      "                        Check peak alignment: on\n",
      "                   Refine indexing solutions: off\n",
      " Multi-lattice indexing (\"delete and retry\"): off\n",
      "                              Retry indexing: on\n"
     ]
    },
    {
     "name": "stdout",
     "output_type": "stream",
     "text": [
      "Running for x=-513.2, y=-512.9\n"
     ]
    },
    {
     "name": "stderr",
     "output_type": "stream",
     "text": [
      "45 images processed, 45 hits (100.0%), 34 indexable (75.6% of hits, 75.6% overall), 34 crystals, 8.9 images/sec.\n",
      "92 images processed, 92 hits (100.0%), 68 indexable (73.9% of hits, 73.9% overall), 68 crystals, 9.2 images/sec.\n",
      "137 images processed, 137 hits (100.0%), 88 indexable (64.2% of hits, 64.2% overall), 88 crystals, 8.8 images/sec.\n",
      "185 images processed, 185 hits (100.0%), 111 indexable (60.0% of hits, 60.0% overall), 111 crystals, 9.3 images/sec.\n",
      "223 images processed, 223 hits (100.0%), 118 indexable (52.9% of hits, 52.9% overall), 118 crystals, 7.5 images/sec.\n",
      "263 images processed, 263 hits (100.0%), 127 indexable (48.3% of hits, 48.3% overall), 127 crystals, 7.7 images/sec.\n",
      "Waiting for the last patterns to be processed...\n",
      "Final: 300 images processed, 300 hits (100.0%), 139 indexable (46.3% of hits, 46.3% overall), 139 crystals.\n",
      "Processing XY pairs:  67%|██████▋   | 210/313 [1:43:24<1:06:09, 38.54s/it]This is what I understood your unit cell to be:\n",
      "cubic P, right handed.\n",
      "a      b      c            alpha   beta  gamma\n",
      " 11.87  11.87  11.87 A     90.00  90.00  90.00 deg\n",
      "List of indexing methods:\n",
      "   0: xgandalf-nolatt-cell      (xgandalf using cell parameters as prior information)\n",
      "Indexing parameters:\n",
      "                  Check unit cell parameters: on\n",
      "                        Check peak alignment: on\n",
      "                   Refine indexing solutions: off\n",
      " Multi-lattice indexing (\"delete and retry\"): off\n",
      "                              Retry indexing: on\n"
     ]
    },
    {
     "name": "stdout",
     "output_type": "stream",
     "text": [
      "Running for x=-513.2, y=-512.1\n"
     ]
    },
    {
     "name": "stderr",
     "output_type": "stream",
     "text": [
      "39 images processed, 39 hits (100.0%), 27 indexable (69.2% of hits, 69.2% overall), 27 crystals, 7.5 images/sec.\n",
      "70 images processed, 70 hits (100.0%), 29 indexable (41.4% of hits, 41.4% overall), 29 crystals, 6.0 images/sec.\n",
      "110 images processed, 110 hits (100.0%), 35 indexable (31.8% of hits, 31.8% overall), 35 crystals, 7.6 images/sec.\n",
      "147 images processed, 147 hits (100.0%), 39 indexable (26.5% of hits, 26.5% overall), 39 crystals, 7.4 images/sec.\n",
      "183 images processed, 183 hits (100.0%), 42 indexable (23.0% of hits, 23.0% overall), 42 crystals, 7.0 images/sec.\n",
      "225 images processed, 225 hits (100.0%), 47 indexable (20.9% of hits, 20.9% overall), 47 crystals, 8.1 images/sec.\n",
      "266 images processed, 266 hits (100.0%), 64 indexable (24.1% of hits, 24.1% overall), 64 crystals, 8.1 images/sec.\n",
      "Waiting for the last patterns to be processed...\n",
      "Final: 300 images processed, 300 hits (100.0%), 76 indexable (25.3% of hits, 25.3% overall), 76 crystals.\n",
      "Processing XY pairs:  67%|██████▋   | 211/313 [1:44:05<1:06:34, 39.17s/it]This is what I understood your unit cell to be:\n",
      "cubic P, right handed.\n",
      "a      b      c            alpha   beta  gamma\n",
      " 11.87  11.87  11.87 A     90.00  90.00  90.00 deg\n",
      "List of indexing methods:\n",
      "   0: xgandalf-nolatt-cell      (xgandalf using cell parameters as prior information)\n",
      "Indexing parameters:\n",
      "                  Check unit cell parameters: on\n",
      "                        Check peak alignment: on\n",
      "                   Refine indexing solutions: off\n",
      " Multi-lattice indexing (\"delete and retry\"): off\n",
      "                              Retry indexing: on\n"
     ]
    },
    {
     "name": "stdout",
     "output_type": "stream",
     "text": [
      "Running for x=-512.9, y=-513.2\n"
     ]
    },
    {
     "name": "stderr",
     "output_type": "stream",
     "text": [
      "39 images processed, 39 hits (100.0%), 27 indexable (69.2% of hits, 69.2% overall), 27 crystals, 7.7 images/sec.\n",
      "87 images processed, 87 hits (100.0%), 55 indexable (63.2% of hits, 63.2% overall), 55 crystals, 9.5 images/sec.\n",
      "135 images processed, 135 hits (100.0%), 81 indexable (60.0% of hits, 60.0% overall), 81 crystals, 8.9 images/sec.\n",
      "184 images processed, 184 hits (100.0%), 106 indexable (57.6% of hits, 57.6% overall), 106 crystals, 9.7 images/sec.\n",
      "230 images processed, 230 hits (100.0%), 126 indexable (54.8% of hits, 54.8% overall), 126 crystals, 9.1 images/sec.\n",
      "273 images processed, 273 hits (100.0%), 148 indexable (54.2% of hits, 54.2% overall), 148 crystals, 8.5 images/sec.\n",
      "Waiting for the last patterns to be processed...\n",
      "Final: 300 images processed, 300 hits (100.0%), 159 indexable (53.0% of hits, 53.0% overall), 159 crystals.\n",
      "Processing XY pairs:  68%|██████▊   | 212/313 [1:44:39<1:03:20, 37.63s/it]This is what I understood your unit cell to be:\n",
      "cubic P, right handed.\n",
      "a      b      c            alpha   beta  gamma\n",
      " 11.87  11.87  11.87 A     90.00  90.00  90.00 deg\n",
      "List of indexing methods:\n",
      "   0: xgandalf-nolatt-cell      (xgandalf using cell parameters as prior information)\n",
      "Indexing parameters:\n",
      "                  Check unit cell parameters: on\n",
      "                        Check peak alignment: on\n",
      "                   Refine indexing solutions: off\n",
      " Multi-lattice indexing (\"delete and retry\"): off\n",
      "                              Retry indexing: on\n"
     ]
    },
    {
     "name": "stdout",
     "output_type": "stream",
     "text": [
      "Running for x=-512.1, y=-513.2\n"
     ]
    },
    {
     "name": "stderr",
     "output_type": "stream",
     "text": [
      "39 images processed, 39 hits (100.0%), 24 indexable (61.5% of hits, 61.5% overall), 24 crystals, 7.7 images/sec.\n",
      "80 images processed, 80 hits (100.0%), 43 indexable (53.8% of hits, 53.8% overall), 43 crystals, 8.0 images/sec.\n",
      "126 images processed, 126 hits (100.0%), 65 indexable (51.6% of hits, 51.6% overall), 65 crystals, 8.9 images/sec.\n",
      "169 images processed, 169 hits (100.0%), 83 indexable (49.1% of hits, 49.1% overall), 83 crystals, 8.5 images/sec.\n",
      "213 images processed, 213 hits (100.0%), 100 indexable (46.9% of hits, 46.9% overall), 100 crystals, 8.8 images/sec.\n",
      "259 images processed, 259 hits (100.0%), 124 indexable (47.9% of hits, 47.9% overall), 124 crystals, 9.0 images/sec.\n",
      "Waiting for the last patterns to be processed...\n",
      "Final: 300 images processed, 300 hits (100.0%), 147 indexable (49.0% of hits, 49.0% overall), 147 crystals.\n",
      "Processing XY pairs:  68%|██████▊   | 213/313 [1:45:14<1:01:46, 37.07s/it]This is what I understood your unit cell to be:\n",
      "cubic P, right handed.\n",
      "a      b      c            alpha   beta  gamma\n",
      " 11.87  11.87  11.87 A     90.00  90.00  90.00 deg\n",
      "List of indexing methods:\n",
      "   0: xgandalf-nolatt-cell      (xgandalf using cell parameters as prior information)\n",
      "Indexing parameters:\n",
      "                  Check unit cell parameters: on\n",
      "                        Check peak alignment: on\n",
      "                   Refine indexing solutions: off\n",
      " Multi-lattice indexing (\"delete and retry\"): off\n",
      "                              Retry indexing: on\n"
     ]
    },
    {
     "name": "stdout",
     "output_type": "stream",
     "text": [
      "Running for x=-513.3, y=-512.7\n"
     ]
    },
    {
     "name": "stderr",
     "output_type": "stream",
     "text": [
      "42 images processed, 42 hits (100.0%), 27 indexable (64.3% of hits, 64.3% overall), 27 crystals, 8.4 images/sec.\n",
      "75 images processed, 75 hits (100.0%), 35 indexable (46.7% of hits, 46.7% overall), 35 crystals, 6.3 images/sec.\n",
      "118 images processed, 118 hits (100.0%), 43 indexable (36.4% of hits, 36.4% overall), 43 crystals, 8.5 images/sec.\n",
      "156 images processed, 156 hits (100.0%), 47 indexable (30.1% of hits, 30.1% overall), 47 crystals, 7.4 images/sec.\n",
      "197 images processed, 197 hits (100.0%), 53 indexable (26.9% of hits, 26.9% overall), 53 crystals, 7.8 images/sec.\n",
      "231 images processed, 231 hits (100.0%), 58 indexable (25.1% of hits, 25.1% overall), 58 crystals, 6.6 images/sec.\n",
      "276 images processed, 276 hits (100.0%), 70 indexable (25.4% of hits, 25.4% overall), 70 crystals, 8.9 images/sec.\n",
      "Waiting for the last patterns to be processed...\n",
      "Final: 300 images processed, 300 hits (100.0%), 77 indexable (25.7% of hits, 25.7% overall), 77 crystals.\n",
      "Processing XY pairs:  68%|██████▊   | 214/313 [1:45:55<1:03:00, 38.18s/it]This is what I understood your unit cell to be:\n",
      "cubic P, right handed.\n",
      "a      b      c            alpha   beta  gamma\n",
      " 11.87  11.87  11.87 A     90.00  90.00  90.00 deg\n",
      "List of indexing methods:\n",
      "   0: xgandalf-nolatt-cell      (xgandalf using cell parameters as prior information)\n",
      "Indexing parameters:\n",
      "                  Check unit cell parameters: on\n",
      "                        Check peak alignment: on\n",
      "                   Refine indexing solutions: off\n",
      " Multi-lattice indexing (\"delete and retry\"): off\n",
      "                              Retry indexing: on\n"
     ]
    },
    {
     "name": "stdout",
     "output_type": "stream",
     "text": [
      "Running for x=-513.3, y=-512.3\n"
     ]
    },
    {
     "name": "stderr",
     "output_type": "stream",
     "text": [
      "36 images processed, 36 hits (100.0%), 19 indexable (52.8% of hits, 52.8% overall), 19 crystals, 7.1 images/sec.\n",
      "71 images processed, 71 hits (100.0%), 25 indexable (35.2% of hits, 35.2% overall), 25 crystals, 6.9 images/sec.\n",
      "108 images processed, 108 hits (100.0%), 32 indexable (29.6% of hits, 29.6% overall), 32 crystals, 7.4 images/sec.\n",
      "146 images processed, 146 hits (100.0%), 36 indexable (24.7% of hits, 24.7% overall), 36 crystals, 7.3 images/sec.\n",
      "183 images processed, 183 hits (100.0%), 44 indexable (24.0% of hits, 24.0% overall), 44 crystals, 7.3 images/sec.\n",
      "223 images processed, 223 hits (100.0%), 47 indexable (21.1% of hits, 21.1% overall), 47 crystals, 7.5 images/sec.\n",
      "257 images processed, 257 hits (100.0%), 55 indexable (21.4% of hits, 21.4% overall), 55 crystals, 6.6 images/sec.\n",
      "Waiting for the last patterns to be processed...\n",
      "Final: 300 images processed, 300 hits (100.0%), 75 indexable (25.0% of hits, 25.0% overall), 75 crystals.\n",
      "Processing XY pairs:  69%|██████▊   | 215/313 [1:46:36<1:03:44, 39.03s/it]This is what I understood your unit cell to be:\n",
      "cubic P, right handed.\n",
      "a      b      c            alpha   beta  gamma\n",
      " 11.87  11.87  11.87 A     90.00  90.00  90.00 deg\n",
      "List of indexing methods:\n",
      "   0: xgandalf-nolatt-cell      (xgandalf using cell parameters as prior information)\n",
      "Indexing parameters:\n",
      "                  Check unit cell parameters: on\n",
      "                        Check peak alignment: on\n",
      "                   Refine indexing solutions: off\n",
      " Multi-lattice indexing (\"delete and retry\"): off\n",
      "                              Retry indexing: on\n"
     ]
    },
    {
     "name": "stdout",
     "output_type": "stream",
     "text": [
      "Running for x=-512.7, y=-513.3\n"
     ]
    },
    {
     "name": "stderr",
     "output_type": "stream",
     "text": [
      "33 images processed, 33 hits (100.0%), 17 indexable (51.5% of hits, 51.5% overall), 17 crystals, 6.3 images/sec.\n",
      "74 images processed, 74 hits (100.0%), 28 indexable (37.8% of hits, 37.8% overall), 28 crystals, 8.2 images/sec.\n",
      "111 images processed, 111 hits (100.0%), 36 indexable (32.4% of hits, 32.4% overall), 36 crystals, 7.3 images/sec.\n",
      "158 images processed, 158 hits (100.0%), 51 indexable (32.3% of hits, 32.3% overall), 51 crystals, 9.3 images/sec.\n",
      "196 images processed, 196 hits (100.0%), 63 indexable (32.1% of hits, 32.1% overall), 63 crystals, 7.3 images/sec.\n",
      "248 images processed, 248 hits (100.0%), 84 indexable (33.9% of hits, 33.9% overall), 84 crystals, 10.4 images/sec.\n",
      "Waiting for the last patterns to be processed...\n",
      "Final: 300 images processed, 300 hits (100.0%), 114 indexable (38.0% of hits, 38.0% overall), 114 crystals.\n",
      "Processing XY pairs:  69%|██████▉   | 216/313 [1:47:13<1:01:48, 38.24s/it]This is what I understood your unit cell to be:\n",
      "cubic P, right handed.\n",
      "a      b      c            alpha   beta  gamma\n",
      " 11.87  11.87  11.87 A     90.00  90.00  90.00 deg\n",
      "List of indexing methods:\n",
      "   0: xgandalf-nolatt-cell      (xgandalf using cell parameters as prior information)\n",
      "Indexing parameters:\n",
      "                  Check unit cell parameters: on\n",
      "                        Check peak alignment: on\n",
      "                   Refine indexing solutions: off\n",
      " Multi-lattice indexing (\"delete and retry\"): off\n",
      "                              Retry indexing: on\n"
     ]
    },
    {
     "name": "stdout",
     "output_type": "stream",
     "text": [
      "Running for x=-512.3, y=-513.3\n"
     ]
    },
    {
     "name": "stderr",
     "output_type": "stream",
     "text": [
      "37 images processed, 37 hits (100.0%), 20 indexable (54.1% of hits, 54.1% overall), 20 crystals, 7.3 images/sec.\n",
      "77 images processed, 77 hits (100.0%), 33 indexable (42.9% of hits, 42.9% overall), 33 crystals, 8.0 images/sec.\n",
      "120 images processed, 120 hits (100.0%), 45 indexable (37.5% of hits, 37.5% overall), 45 crystals, 8.4 images/sec.\n",
      "161 images processed, 161 hits (100.0%), 64 indexable (39.8% of hits, 39.8% overall), 64 crystals, 7.8 images/sec.\n",
      "203 images processed, 203 hits (100.0%), 75 indexable (36.9% of hits, 36.9% overall), 75 crystals, 8.4 images/sec.\n",
      "244 images processed, 244 hits (100.0%), 84 indexable (34.4% of hits, 34.4% overall), 84 crystals, 8.1 images/sec.\n",
      "Waiting for the last patterns to be processed...\n",
      "294 images processed, 294 hits (100.0%), 105 indexable (35.7% of hits, 35.7% overall), 105 crystals, 9.8 images/sec.\n",
      "Final: 300 images processed, 300 hits (100.0%), 107 indexable (35.7% of hits, 35.7% overall), 107 crystals.\n",
      "Processing XY pairs:  69%|██████▉   | 217/313 [1:47:50<1:00:39, 37.92s/it]This is what I understood your unit cell to be:\n",
      "cubic P, right handed.\n",
      "a      b      c            alpha   beta  gamma\n",
      " 11.87  11.87  11.87 A     90.00  90.00  90.00 deg\n",
      "List of indexing methods:\n",
      "   0: xgandalf-nolatt-cell      (xgandalf using cell parameters as prior information)\n",
      "Indexing parameters:\n",
      "                  Check unit cell parameters: on\n",
      "                        Check peak alignment: on\n",
      "                   Refine indexing solutions: off\n",
      " Multi-lattice indexing (\"delete and retry\"): off\n",
      "                              Retry indexing: on\n"
     ]
    },
    {
     "name": "stdout",
     "output_type": "stream",
     "text": [
      "Running for x=-512.7, y=-511.7\n"
     ]
    },
    {
     "name": "stderr",
     "output_type": "stream",
     "text": [
      "27 images processed, 27 hits (100.0%), 12 indexable (44.4% of hits, 44.4% overall), 12 crystals, 5.0 images/sec.\n",
      "71 images processed, 71 hits (100.0%), 14 indexable (19.7% of hits, 19.7% overall), 14 crystals, 8.3 images/sec.\n",
      "99 images processed, 99 hits (100.0%), 18 indexable (18.2% of hits, 18.2% overall), 18 crystals, 5.6 images/sec.\n",
      "144 images processed, 144 hits (100.0%), 21 indexable (14.6% of hits, 14.6% overall), 21 crystals, 8.8 images/sec.\n",
      "179 images processed, 179 hits (100.0%), 30 indexable (16.8% of hits, 16.8% overall), 30 crystals, 7.0 images/sec.\n",
      "225 images processed, 225 hits (100.0%), 36 indexable (16.0% of hits, 16.0% overall), 36 crystals, 8.4 images/sec.\n",
      "264 images processed, 264 hits (100.0%), 45 indexable (17.0% of hits, 17.0% overall), 45 crystals, 7.7 images/sec.\n",
      "Waiting for the last patterns to be processed...\n",
      "Final: 300 images processed, 300 hits (100.0%), 53 indexable (17.7% of hits, 17.7% overall), 53 crystals.\n",
      "Processing XY pairs:  70%|██████▉   | 218/313 [1:48:31<1:01:28, 38.83s/it]This is what I understood your unit cell to be:\n",
      "cubic P, right handed.\n",
      "a      b      c            alpha   beta  gamma\n",
      " 11.87  11.87  11.87 A     90.00  90.00  90.00 deg\n",
      "List of indexing methods:\n",
      "   0: xgandalf-nolatt-cell      (xgandalf using cell parameters as prior information)\n",
      "Indexing parameters:\n",
      "                  Check unit cell parameters: on\n",
      "                        Check peak alignment: on\n",
      "                   Refine indexing solutions: off\n",
      " Multi-lattice indexing (\"delete and retry\"): off\n",
      "                              Retry indexing: on\n"
     ]
    },
    {
     "name": "stdout",
     "output_type": "stream",
     "text": [
      "Running for x=-512.3, y=-511.7\n"
     ]
    },
    {
     "name": "stderr",
     "output_type": "stream",
     "text": [
      "30 images processed, 30 hits (100.0%), 11 indexable (36.7% of hits, 36.7% overall), 11 crystals, 5.6 images/sec.\n",
      "70 images processed, 70 hits (100.0%), 14 indexable (20.0% of hits, 20.0% overall), 14 crystals, 7.5 images/sec.\n",
      "105 images processed, 105 hits (100.0%), 14 indexable (13.3% of hits, 13.3% overall), 14 crystals, 7.0 images/sec.\n",
      "143 images processed, 143 hits (100.0%), 16 indexable (11.2% of hits, 11.2% overall), 16 crystals, 7.6 images/sec.\n",
      "179 images processed, 179 hits (100.0%), 17 indexable (9.5% of hits, 9.5% overall), 17 crystals, 7.1 images/sec.\n",
      "216 images processed, 216 hits (100.0%), 20 indexable (9.3% of hits, 9.3% overall), 20 crystals, 7.3 images/sec.\n",
      "260 images processed, 260 hits (100.0%), 35 indexable (13.5% of hits, 13.5% overall), 35 crystals, 8.2 images/sec.\n",
      "Waiting for the last patterns to be processed...\n",
      "Final: 300 images processed, 300 hits (100.0%), 43 indexable (14.3% of hits, 14.3% overall), 43 crystals.\n",
      "Processing XY pairs:  70%|██████▉   | 219/313 [1:49:13<1:02:35, 39.96s/it]This is what I understood your unit cell to be:\n",
      "cubic P, right handed.\n",
      "a      b      c            alpha   beta  gamma\n",
      " 11.87  11.87  11.87 A     90.00  90.00  90.00 deg\n",
      "List of indexing methods:\n",
      "   0: xgandalf-nolatt-cell      (xgandalf using cell parameters as prior information)\n",
      "Indexing parameters:\n",
      "                  Check unit cell parameters: on\n",
      "                        Check peak alignment: on\n",
      "                   Refine indexing solutions: off\n",
      " Multi-lattice indexing (\"delete and retry\"): off\n",
      "                              Retry indexing: on\n"
     ]
    },
    {
     "name": "stdout",
     "output_type": "stream",
     "text": [
      "Running for x=-511.7, y=-512.7\n"
     ]
    },
    {
     "name": "stderr",
     "output_type": "stream",
     "text": [
      "46 images processed, 46 hits (100.0%), 31 indexable (67.4% of hits, 67.4% overall), 31 crystals, 9.2 images/sec.\n",
      "92 images processed, 92 hits (100.0%), 56 indexable (60.9% of hits, 60.9% overall), 56 crystals, 9.2 images/sec.\n",
      "135 images processed, 135 hits (100.0%), 77 indexable (57.0% of hits, 57.0% overall), 77 crystals, 8.2 images/sec.\n",
      "175 images processed, 175 hits (100.0%), 87 indexable (49.7% of hits, 49.7% overall), 87 crystals, 7.7 images/sec.\n",
      "213 images processed, 213 hits (100.0%), 96 indexable (45.1% of hits, 45.1% overall), 96 crystals, 7.6 images/sec.\n",
      "251 images processed, 251 hits (100.0%), 102 indexable (40.6% of hits, 40.6% overall), 102 crystals, 7.4 images/sec.\n",
      "Waiting for the last patterns to be processed...\n",
      "298 images processed, 298 hits (100.0%), 117 indexable (39.3% of hits, 39.3% overall), 117 crystals, 9.2 images/sec.\n",
      "Final: 300 images processed, 300 hits (100.0%), 117 indexable (39.0% of hits, 39.0% overall), 117 crystals.\n",
      "Processing XY pairs:  70%|███████   | 220/313 [1:49:50<1:00:33, 39.07s/it]This is what I understood your unit cell to be:\n",
      "cubic P, right handed.\n",
      "a      b      c            alpha   beta  gamma\n",
      " 11.87  11.87  11.87 A     90.00  90.00  90.00 deg\n",
      "List of indexing methods:\n",
      "   0: xgandalf-nolatt-cell      (xgandalf using cell parameters as prior information)\n",
      "Indexing parameters:\n",
      "                  Check unit cell parameters: on\n",
      "                        Check peak alignment: on\n",
      "                   Refine indexing solutions: off\n",
      " Multi-lattice indexing (\"delete and retry\"): off\n",
      "                              Retry indexing: on\n"
     ]
    },
    {
     "name": "stdout",
     "output_type": "stream",
     "text": [
      "Running for x=-511.7, y=-512.3\n"
     ]
    },
    {
     "name": "stderr",
     "output_type": "stream",
     "text": [
      "40 images processed, 40 hits (100.0%), 24 indexable (60.0% of hits, 60.0% overall), 24 crystals, 7.9 images/sec.\n",
      "75 images processed, 75 hits (100.0%), 29 indexable (38.7% of hits, 38.7% overall), 29 crystals, 6.5 images/sec.\n",
      "118 images processed, 118 hits (100.0%), 29 indexable (24.6% of hits, 24.6% overall), 29 crystals, 8.2 images/sec.\n",
      "152 images processed, 152 hits (100.0%), 34 indexable (22.4% of hits, 22.4% overall), 34 crystals, 6.7 images/sec.\n",
      "187 images processed, 187 hits (100.0%), 37 indexable (19.8% of hits, 19.8% overall), 37 crystals, 6.9 images/sec.\n",
      "226 images processed, 226 hits (100.0%), 38 indexable (16.8% of hits, 16.8% overall), 38 crystals, 7.6 images/sec.\n",
      "266 images processed, 266 hits (100.0%), 47 indexable (17.7% of hits, 17.7% overall), 47 crystals, 7.9 images/sec.\n",
      "Waiting for the last patterns to be processed...\n",
      "Final: 300 images processed, 300 hits (100.0%), 56 indexable (18.7% of hits, 18.7% overall), 56 crystals.\n",
      "Processing XY pairs:  71%|███████   | 221/313 [1:50:31<1:00:37, 39.54s/it]This is what I understood your unit cell to be:\n",
      "cubic P, right handed.\n",
      "a      b      c            alpha   beta  gamma\n",
      " 11.87  11.87  11.87 A     90.00  90.00  90.00 deg\n",
      "List of indexing methods:\n",
      "   0: xgandalf-nolatt-cell      (xgandalf using cell parameters as prior information)\n",
      "Indexing parameters:\n",
      "                  Check unit cell parameters: on\n",
      "                        Check peak alignment: on\n",
      "                   Refine indexing solutions: off\n",
      " Multi-lattice indexing (\"delete and retry\"): off\n",
      "                              Retry indexing: on\n"
     ]
    },
    {
     "name": "stdout",
     "output_type": "stream",
     "text": [
      "Running for x=-513.1, y=-513.1\n"
     ]
    },
    {
     "name": "stderr",
     "output_type": "stream",
     "text": [
      "38 images processed, 38 hits (100.0%), 30 indexable (78.9% of hits, 78.9% overall), 30 crystals, 7.5 images/sec.\n",
      "89 images processed, 89 hits (100.0%), 62 indexable (69.7% of hits, 69.7% overall), 62 crystals, 9.8 images/sec.\n",
      "137 images processed, 137 hits (100.0%), 90 indexable (65.7% of hits, 65.7% overall), 90 crystals, 9.6 images/sec.\n",
      "187 images processed, 187 hits (100.0%), 119 indexable (63.6% of hits, 63.6% overall), 119 crystals, 9.7 images/sec.\n",
      "227 images processed, 227 hits (100.0%), 140 indexable (61.7% of hits, 61.7% overall), 140 crystals, 8.0 images/sec.\n",
      "272 images processed, 272 hits (100.0%), 156 indexable (57.4% of hits, 57.4% overall), 156 crystals, 8.9 images/sec.\n",
      "Waiting for the last patterns to be processed...\n",
      "Final: 300 images processed, 300 hits (100.0%), 165 indexable (55.0% of hits, 55.0% overall), 165 crystals.\n",
      "Processing XY pairs:  71%|███████   | 222/313 [1:51:05<57:41, 38.04s/it]  This is what I understood your unit cell to be:\n",
      "cubic P, right handed.\n",
      "a      b      c            alpha   beta  gamma\n",
      " 11.87  11.87  11.87 A     90.00  90.00  90.00 deg\n",
      "List of indexing methods:\n",
      "   0: xgandalf-nolatt-cell      (xgandalf using cell parameters as prior information)\n",
      "Indexing parameters:\n",
      "                  Check unit cell parameters: on\n",
      "                        Check peak alignment: on\n",
      "                   Refine indexing solutions: off\n",
      " Multi-lattice indexing (\"delete and retry\"): off\n",
      "                              Retry indexing: on\n"
     ]
    },
    {
     "name": "stdout",
     "output_type": "stream",
     "text": [
      "Running for x=-513.1, y=-511.9\n"
     ]
    },
    {
     "name": "stderr",
     "output_type": "stream",
     "text": [
      "31 images processed, 31 hits (100.0%), 17 indexable (54.8% of hits, 54.8% overall), 17 crystals, 6.2 images/sec.\n",
      "69 images processed, 69 hits (100.0%), 23 indexable (33.3% of hits, 33.3% overall), 23 crystals, 7.5 images/sec.\n",
      "104 images processed, 104 hits (100.0%), 30 indexable (28.8% of hits, 28.8% overall), 30 crystals, 6.8 images/sec.\n",
      "142 images processed, 142 hits (100.0%), 34 indexable (23.9% of hits, 23.9% overall), 34 crystals, 7.5 images/sec.\n",
      "180 images processed, 180 hits (100.0%), 38 indexable (21.1% of hits, 21.1% overall), 38 crystals, 7.4 images/sec.\n",
      "218 images processed, 218 hits (100.0%), 40 indexable (18.3% of hits, 18.3% overall), 40 crystals, 7.5 images/sec.\n",
      "261 images processed, 261 hits (100.0%), 52 indexable (19.9% of hits, 19.9% overall), 52 crystals, 8.3 images/sec.\n",
      "Waiting for the last patterns to be processed...\n",
      "Final: 300 images processed, 300 hits (100.0%), 68 indexable (22.7% of hits, 22.7% overall), 68 crystals.\n",
      "Processing XY pairs:  71%|███████   | 223/313 [1:51:46<58:13, 38.82s/it]This is what I understood your unit cell to be:\n",
      "cubic P, right handed.\n",
      "a      b      c            alpha   beta  gamma\n",
      " 11.87  11.87  11.87 A     90.00  90.00  90.00 deg\n",
      "List of indexing methods:\n",
      "   0: xgandalf-nolatt-cell      (xgandalf using cell parameters as prior information)\n",
      "Indexing parameters:\n",
      "                  Check unit cell parameters: on\n",
      "                        Check peak alignment: on\n",
      "                   Refine indexing solutions: off\n",
      " Multi-lattice indexing (\"delete and retry\"): off\n",
      "                              Retry indexing: on\n"
     ]
    },
    {
     "name": "stdout",
     "output_type": "stream",
     "text": [
      "Running for x=-511.9, y=-513.1\n"
     ]
    },
    {
     "name": "stderr",
     "output_type": "stream",
     "text": [
      "42 images processed, 42 hits (100.0%), 28 indexable (66.7% of hits, 66.7% overall), 28 crystals, 8.4 images/sec.\n",
      "79 images processed, 79 hits (100.0%), 41 indexable (51.9% of hits, 51.9% overall), 41 crystals, 7.2 images/sec.\n",
      "132 images processed, 132 hits (100.0%), 60 indexable (45.5% of hits, 45.5% overall), 60 crystals, 10.5 images/sec.\n",
      "170 images processed, 170 hits (100.0%), 79 indexable (46.5% of hits, 46.5% overall), 79 crystals, 7.5 images/sec.\n",
      "214 images processed, 214 hits (100.0%), 98 indexable (45.8% of hits, 45.8% overall), 98 crystals, 8.8 images/sec.\n",
      "257 images processed, 257 hits (100.0%), 116 indexable (45.1% of hits, 45.1% overall), 116 crystals, 8.5 images/sec.\n",
      "Waiting for the last patterns to be processed...\n",
      "Final: 300 images processed, 300 hits (100.0%), 123 indexable (41.0% of hits, 41.0% overall), 123 crystals.\n",
      "Processing XY pairs:  72%|███████▏  | 224/313 [1:52:22<56:27, 38.06s/it]This is what I understood your unit cell to be:\n",
      "cubic P, right handed.\n",
      "a      b      c            alpha   beta  gamma\n",
      " 11.87  11.87  11.87 A     90.00  90.00  90.00 deg\n",
      "List of indexing methods:\n",
      "   0: xgandalf-nolatt-cell      (xgandalf using cell parameters as prior information)\n",
      "Indexing parameters:\n",
      "                  Check unit cell parameters: on\n",
      "                        Check peak alignment: on\n",
      "                   Refine indexing solutions: off\n",
      " Multi-lattice indexing (\"delete and retry\"): off\n",
      "                              Retry indexing: on\n"
     ]
    },
    {
     "name": "stdout",
     "output_type": "stream",
     "text": [
      "Running for x=-511.9, y=-511.9\n"
     ]
    },
    {
     "name": "stderr",
     "output_type": "stream",
     "text": [
      "38 images processed, 38 hits (100.0%), 19 indexable (50.0% of hits, 50.0% overall), 19 crystals, 7.0 images/sec.\n",
      "74 images processed, 74 hits (100.0%), 22 indexable (29.7% of hits, 29.7% overall), 22 crystals, 6.8 images/sec.\n",
      "113 images processed, 113 hits (100.0%), 23 indexable (20.4% of hits, 20.4% overall), 23 crystals, 7.4 images/sec.\n",
      "149 images processed, 149 hits (100.0%), 25 indexable (16.8% of hits, 16.8% overall), 25 crystals, 6.9 images/sec.\n",
      "188 images processed, 188 hits (100.0%), 31 indexable (16.5% of hits, 16.5% overall), 31 crystals, 7.6 images/sec.\n",
      "228 images processed, 228 hits (100.0%), 35 indexable (15.4% of hits, 15.4% overall), 35 crystals, 7.8 images/sec.\n",
      "271 images processed, 271 hits (100.0%), 51 indexable (18.8% of hits, 18.8% overall), 51 crystals, 8.0 images/sec.\n",
      "Waiting for the last patterns to be processed...\n",
      "Final: 300 images processed, 300 hits (100.0%), 64 indexable (21.3% of hits, 21.3% overall), 64 crystals.\n",
      "Processing XY pairs:  72%|███████▏  | 225/313 [1:53:03<56:52, 38.77s/it]This is what I understood your unit cell to be:\n",
      "cubic P, right handed.\n",
      "a      b      c            alpha   beta  gamma\n",
      " 11.87  11.87  11.87 A     90.00  90.00  90.00 deg\n",
      "List of indexing methods:\n",
      "   0: xgandalf-nolatt-cell      (xgandalf using cell parameters as prior information)\n",
      "Indexing parameters:\n",
      "                  Check unit cell parameters: on\n",
      "                        Check peak alignment: on\n",
      "                   Refine indexing solutions: off\n",
      " Multi-lattice indexing (\"delete and retry\"): off\n",
      "                              Retry indexing: on\n"
     ]
    },
    {
     "name": "stdout",
     "output_type": "stream",
     "text": [
      "Running for x=-513.3, y=-512.8\n"
     ]
    },
    {
     "name": "stderr",
     "output_type": "stream",
     "text": [
      "45 images processed, 45 hits (100.0%), 31 indexable (68.9% of hits, 68.9% overall), 31 crystals, 8.9 images/sec.\n",
      "79 images processed, 79 hits (100.0%), 45 indexable (57.0% of hits, 57.0% overall), 45 crystals, 6.4 images/sec.\n",
      "121 images processed, 121 hits (100.0%), 55 indexable (45.5% of hits, 45.5% overall), 55 crystals, 8.3 images/sec.\n",
      "163 images processed, 163 hits (100.0%), 68 indexable (41.7% of hits, 41.7% overall), 68 crystals, 8.1 images/sec.\n",
      "201 images processed, 201 hits (100.0%), 71 indexable (35.3% of hits, 35.3% overall), 71 crystals, 7.2 images/sec.\n",
      "240 images processed, 240 hits (100.0%), 75 indexable (31.2% of hits, 31.2% overall), 75 crystals, 7.6 images/sec.\n",
      "Waiting for the last patterns to be processed...\n",
      "284 images processed, 284 hits (100.0%), 92 indexable (32.4% of hits, 32.4% overall), 92 crystals, 8.7 images/sec.\n",
      "Final: 300 images processed, 300 hits (100.0%), 98 indexable (32.7% of hits, 32.7% overall), 98 crystals.\n",
      "Processing XY pairs:  72%|███████▏  | 226/313 [1:53:43<56:37, 39.05s/it]This is what I understood your unit cell to be:\n",
      "cubic P, right handed.\n",
      "a      b      c            alpha   beta  gamma\n",
      " 11.87  11.87  11.87 A     90.00  90.00  90.00 deg\n",
      "List of indexing methods:\n",
      "   0: xgandalf-nolatt-cell      (xgandalf using cell parameters as prior information)\n",
      "Indexing parameters:\n",
      "                  Check unit cell parameters: on\n",
      "                        Check peak alignment: on\n",
      "                   Refine indexing solutions: off\n",
      " Multi-lattice indexing (\"delete and retry\"): off\n",
      "                              Retry indexing: on\n"
     ]
    },
    {
     "name": "stdout",
     "output_type": "stream",
     "text": [
      "Running for x=-513.3, y=-512.2\n"
     ]
    },
    {
     "name": "stderr",
     "output_type": "stream",
     "text": [
      "39 images processed, 39 hits (100.0%), 23 indexable (59.0% of hits, 59.0% overall), 23 crystals, 7.5 images/sec.\n",
      "69 images processed, 69 hits (100.0%), 29 indexable (42.0% of hits, 42.0% overall), 29 crystals, 5.9 images/sec.\n",
      "109 images processed, 109 hits (100.0%), 35 indexable (32.1% of hits, 32.1% overall), 35 crystals, 8.0 images/sec.\n",
      "143 images processed, 143 hits (100.0%), 40 indexable (28.0% of hits, 28.0% overall), 40 crystals, 6.6 images/sec.\n",
      "183 images processed, 183 hits (100.0%), 46 indexable (25.1% of hits, 25.1% overall), 46 crystals, 8.0 images/sec.\n",
      "220 images processed, 220 hits (100.0%), 48 indexable (21.8% of hits, 21.8% overall), 48 crystals, 7.3 images/sec.\n",
      "259 images processed, 259 hits (100.0%), 58 indexable (22.4% of hits, 22.4% overall), 58 crystals, 7.8 images/sec.\n",
      "Waiting for the last patterns to be processed...\n",
      "Final: 300 images processed, 300 hits (100.0%), 73 indexable (24.3% of hits, 24.3% overall), 73 crystals.\n",
      "Processing XY pairs:  73%|███████▎  | 227/313 [1:54:24<56:48, 39.64s/it]This is what I understood your unit cell to be:\n",
      "cubic P, right handed.\n",
      "a      b      c            alpha   beta  gamma\n",
      " 11.87  11.87  11.87 A     90.00  90.00  90.00 deg\n",
      "List of indexing methods:\n",
      "   0: xgandalf-nolatt-cell      (xgandalf using cell parameters as prior information)\n",
      "Indexing parameters:\n",
      "                  Check unit cell parameters: on\n",
      "                        Check peak alignment: on\n",
      "                   Refine indexing solutions: off\n",
      " Multi-lattice indexing (\"delete and retry\"): off\n",
      "                              Retry indexing: on\n"
     ]
    },
    {
     "name": "stdout",
     "output_type": "stream",
     "text": [
      "Running for x=-512.8, y=-513.3\n"
     ]
    },
    {
     "name": "stderr",
     "output_type": "stream",
     "text": [
      "41 images processed, 41 hits (100.0%), 24 indexable (58.5% of hits, 58.5% overall), 24 crystals, 8.0 images/sec.\n",
      "74 images processed, 74 hits (100.0%), 37 indexable (50.0% of hits, 50.0% overall), 37 crystals, 6.6 images/sec.\n",
      "118 images processed, 118 hits (100.0%), 47 indexable (39.8% of hits, 39.8% overall), 47 crystals, 8.8 images/sec.\n",
      "164 images processed, 164 hits (100.0%), 67 indexable (40.9% of hits, 40.9% overall), 67 crystals, 8.8 images/sec.\n",
      "202 images processed, 202 hits (100.0%), 74 indexable (36.6% of hits, 36.6% overall), 74 crystals, 7.4 images/sec.\n",
      "255 images processed, 255 hits (100.0%), 98 indexable (38.4% of hits, 38.4% overall), 98 crystals, 10.4 images/sec.\n",
      "Waiting for the last patterns to be processed...\n",
      "Final: 300 images processed, 300 hits (100.0%), 116 indexable (38.7% of hits, 38.7% overall), 116 crystals.\n",
      "Processing XY pairs:  73%|███████▎  | 228/313 [1:55:00<54:44, 38.64s/it]This is what I understood your unit cell to be:\n",
      "cubic P, right handed.\n",
      "a      b      c            alpha   beta  gamma\n",
      " 11.87  11.87  11.87 A     90.00  90.00  90.00 deg\n",
      "List of indexing methods:\n",
      "   0: xgandalf-nolatt-cell      (xgandalf using cell parameters as prior information)\n",
      "Indexing parameters:\n",
      "                  Check unit cell parameters: on\n",
      "                        Check peak alignment: on\n",
      "                   Refine indexing solutions: off\n",
      " Multi-lattice indexing (\"delete and retry\"): off\n",
      "                              Retry indexing: on\n"
     ]
    },
    {
     "name": "stdout",
     "output_type": "stream",
     "text": [
      "Running for x=-512.2, y=-513.3\n"
     ]
    },
    {
     "name": "stderr",
     "output_type": "stream",
     "text": [
      "36 images processed, 36 hits (100.0%), 21 indexable (58.3% of hits, 58.3% overall), 21 crystals, 7.2 images/sec.\n",
      "79 images processed, 79 hits (100.0%), 35 indexable (44.3% of hits, 44.3% overall), 35 crystals, 8.2 images/sec.\n",
      "121 images processed, 121 hits (100.0%), 56 indexable (46.3% of hits, 46.3% overall), 56 crystals, 8.2 images/sec.\n",
      "160 images processed, 160 hits (100.0%), 69 indexable (43.1% of hits, 43.1% overall), 69 crystals, 7.7 images/sec.\n",
      "207 images processed, 207 hits (100.0%), 82 indexable (39.6% of hits, 39.6% overall), 82 crystals, 9.3 images/sec.\n",
      "246 images processed, 246 hits (100.0%), 90 indexable (36.6% of hits, 36.6% overall), 90 crystals, 7.8 images/sec.\n",
      "Waiting for the last patterns to be processed...\n",
      "297 images processed, 297 hits (100.0%), 115 indexable (38.7% of hits, 38.7% overall), 115 crystals, 10.2 images/sec.\n",
      "Final: 300 images processed, 300 hits (100.0%), 115 indexable (38.3% of hits, 38.3% overall), 115 crystals.\n",
      "Processing XY pairs:  73%|███████▎  | 229/313 [1:55:37<53:28, 38.20s/it]This is what I understood your unit cell to be:\n",
      "cubic P, right handed.\n",
      "a      b      c            alpha   beta  gamma\n",
      " 11.87  11.87  11.87 A     90.00  90.00  90.00 deg\n",
      "List of indexing methods:\n",
      "   0: xgandalf-nolatt-cell      (xgandalf using cell parameters as prior information)\n",
      "Indexing parameters:\n",
      "                  Check unit cell parameters: on\n",
      "                        Check peak alignment: on\n",
      "                   Refine indexing solutions: off\n",
      " Multi-lattice indexing (\"delete and retry\"): off\n",
      "                              Retry indexing: on\n"
     ]
    },
    {
     "name": "stdout",
     "output_type": "stream",
     "text": [
      "Running for x=-512.8, y=-511.7\n"
     ]
    },
    {
     "name": "stderr",
     "output_type": "stream",
     "text": [
      "28 images processed, 28 hits (100.0%), 12 indexable (42.9% of hits, 42.9% overall), 12 crystals, 5.5 images/sec.\n",
      "70 images processed, 70 hits (100.0%), 18 indexable (25.7% of hits, 25.7% overall), 18 crystals, 8.2 images/sec.\n",
      "102 images processed, 102 hits (100.0%), 25 indexable (24.5% of hits, 24.5% overall), 25 crystals, 6.3 images/sec.\n",
      "145 images processed, 145 hits (100.0%), 32 indexable (22.1% of hits, 22.1% overall), 32 crystals, 8.2 images/sec.\n",
      "185 images processed, 185 hits (100.0%), 43 indexable (23.2% of hits, 23.2% overall), 43 crystals, 8.0 images/sec.\n",
      "225 images processed, 225 hits (100.0%), 49 indexable (21.8% of hits, 21.8% overall), 49 crystals, 7.8 images/sec.\n",
      "262 images processed, 262 hits (100.0%), 56 indexable (21.4% of hits, 21.4% overall), 56 crystals, 7.3 images/sec.\n",
      "Waiting for the last patterns to be processed...\n",
      "Final: 300 images processed, 300 hits (100.0%), 70 indexable (23.3% of hits, 23.3% overall), 70 crystals.\n",
      "Processing XY pairs:  73%|███████▎  | 230/313 [1:56:17<53:46, 38.87s/it]This is what I understood your unit cell to be:\n",
      "cubic P, right handed.\n",
      "a      b      c            alpha   beta  gamma\n",
      " 11.87  11.87  11.87 A     90.00  90.00  90.00 deg\n",
      "List of indexing methods:\n",
      "   0: xgandalf-nolatt-cell      (xgandalf using cell parameters as prior information)\n",
      "Indexing parameters:\n",
      "                  Check unit cell parameters: on\n",
      "                        Check peak alignment: on\n",
      "                   Refine indexing solutions: off\n",
      " Multi-lattice indexing (\"delete and retry\"): off\n",
      "                              Retry indexing: on\n"
     ]
    },
    {
     "name": "stdout",
     "output_type": "stream",
     "text": [
      "Running for x=-512.2, y=-511.7\n"
     ]
    },
    {
     "name": "stderr",
     "output_type": "stream",
     "text": [
      "27 images processed, 27 hits (100.0%), 9 indexable (33.3% of hits, 33.3% overall), 9 crystals, 5.3 images/sec.\n",
      "68 images processed, 68 hits (100.0%), 9 indexable (13.2% of hits, 13.2% overall), 9 crystals, 7.9 images/sec.\n",
      "100 images processed, 100 hits (100.0%), 11 indexable (11.0% of hits, 11.0% overall), 11 crystals, 6.4 images/sec.\n",
      "140 images processed, 140 hits (100.0%), 13 indexable (9.3% of hits, 9.3% overall), 13 crystals, 7.8 images/sec.\n",
      "174 images processed, 174 hits (100.0%), 14 indexable (8.0% of hits, 8.0% overall), 14 crystals, 6.6 images/sec.\n",
      "215 images processed, 215 hits (100.0%), 16 indexable (7.4% of hits, 7.4% overall), 16 crystals, 8.1 images/sec.\n",
      "255 images processed, 255 hits (100.0%), 27 indexable (10.6% of hits, 10.6% overall), 27 crystals, 7.8 images/sec.\n",
      "Waiting for the last patterns to be processed...\n",
      "Final: 300 images processed, 300 hits (100.0%), 38 indexable (12.7% of hits, 12.7% overall), 38 crystals.\n",
      "Processing XY pairs:  74%|███████▍  | 231/313 [1:57:00<54:43, 40.04s/it]This is what I understood your unit cell to be:\n",
      "cubic P, right handed.\n",
      "a      b      c            alpha   beta  gamma\n",
      " 11.87  11.87  11.87 A     90.00  90.00  90.00 deg\n",
      "List of indexing methods:\n",
      "   0: xgandalf-nolatt-cell      (xgandalf using cell parameters as prior information)\n",
      "Indexing parameters:\n",
      "                  Check unit cell parameters: on\n",
      "                        Check peak alignment: on\n",
      "                   Refine indexing solutions: off\n",
      " Multi-lattice indexing (\"delete and retry\"): off\n",
      "                              Retry indexing: on\n"
     ]
    },
    {
     "name": "stdout",
     "output_type": "stream",
     "text": [
      "Running for x=-511.7, y=-512.8\n"
     ]
    },
    {
     "name": "stderr",
     "output_type": "stream",
     "text": [
      "42 images processed, 42 hits (100.0%), 26 indexable (61.9% of hits, 61.9% overall), 26 crystals, 8.3 images/sec.\n",
      "81 images processed, 81 hits (100.0%), 44 indexable (54.3% of hits, 54.3% overall), 44 crystals, 7.7 images/sec.\n",
      "131 images processed, 131 hits (100.0%), 67 indexable (51.1% of hits, 51.1% overall), 67 crystals, 9.9 images/sec.\n",
      "172 images processed, 172 hits (100.0%), 82 indexable (47.7% of hits, 47.7% overall), 82 crystals, 8.1 images/sec.\n",
      "207 images processed, 207 hits (100.0%), 88 indexable (42.5% of hits, 42.5% overall), 88 crystals, 6.8 images/sec.\n",
      "249 images processed, 249 hits (100.0%), 92 indexable (36.9% of hits, 36.9% overall), 92 crystals, 8.3 images/sec.\n",
      "Waiting for the last patterns to be processed...\n",
      "287 images processed, 287 hits (100.0%), 99 indexable (34.5% of hits, 34.5% overall), 99 crystals, 7.5 images/sec.\n",
      "Final: 300 images processed, 300 hits (100.0%), 102 indexable (34.0% of hits, 34.0% overall), 102 crystals.\n",
      "Processing XY pairs:  74%|███████▍  | 232/313 [1:57:38<53:11, 39.40s/it]This is what I understood your unit cell to be:\n",
      "cubic P, right handed.\n",
      "a      b      c            alpha   beta  gamma\n",
      " 11.87  11.87  11.87 A     90.00  90.00  90.00 deg\n",
      "List of indexing methods:\n",
      "   0: xgandalf-nolatt-cell      (xgandalf using cell parameters as prior information)\n",
      "Indexing parameters:\n",
      "                  Check unit cell parameters: on\n",
      "                        Check peak alignment: on\n",
      "                   Refine indexing solutions: off\n",
      " Multi-lattice indexing (\"delete and retry\"): off\n",
      "                              Retry indexing: on\n"
     ]
    },
    {
     "name": "stdout",
     "output_type": "stream",
     "text": [
      "Running for x=-511.7, y=-512.2\n"
     ]
    },
    {
     "name": "stderr",
     "output_type": "stream",
     "text": [
      "34 images processed, 34 hits (100.0%), 21 indexable (61.8% of hits, 61.8% overall), 21 crystals, 6.7 images/sec.\n",
      "72 images processed, 72 hits (100.0%), 26 indexable (36.1% of hits, 36.1% overall), 26 crystals, 7.3 images/sec.\n",
      "106 images processed, 106 hits (100.0%), 26 indexable (24.5% of hits, 24.5% overall), 26 crystals, 6.7 images/sec.\n",
      "145 images processed, 145 hits (100.0%), 26 indexable (17.9% of hits, 17.9% overall), 26 crystals, 7.7 images/sec.\n",
      "182 images processed, 182 hits (100.0%), 32 indexable (17.6% of hits, 17.6% overall), 32 crystals, 6.8 images/sec.\n",
      "219 images processed, 219 hits (100.0%), 33 indexable (15.1% of hits, 15.1% overall), 33 crystals, 7.4 images/sec.\n",
      "259 images processed, 259 hits (100.0%), 44 indexable (17.0% of hits, 17.0% overall), 44 crystals, 7.8 images/sec.\n",
      "Waiting for the last patterns to be processed...\n",
      "Final: 300 images processed, 300 hits (100.0%), 55 indexable (18.3% of hits, 18.3% overall), 55 crystals.\n",
      "Processing XY pairs:  74%|███████▍  | 233/313 [1:58:19<53:15, 39.94s/it]This is what I understood your unit cell to be:\n",
      "cubic P, right handed.\n",
      "a      b      c            alpha   beta  gamma\n",
      " 11.87  11.87  11.87 A     90.00  90.00  90.00 deg\n",
      "List of indexing methods:\n",
      "   0: xgandalf-nolatt-cell      (xgandalf using cell parameters as prior information)\n",
      "Indexing parameters:\n",
      "                  Check unit cell parameters: on\n",
      "                        Check peak alignment: on\n",
      "                   Refine indexing solutions: off\n",
      " Multi-lattice indexing (\"delete and retry\"): off\n",
      "                              Retry indexing: on\n"
     ]
    },
    {
     "name": "stdout",
     "output_type": "stream",
     "text": [
      "Running for x=-513.0, y=-511.8\n"
     ]
    },
    {
     "name": "stderr",
     "output_type": "stream",
     "text": [
      "31 images processed, 31 hits (100.0%), 16 indexable (51.6% of hits, 51.6% overall), 16 crystals, 6.2 images/sec.\n",
      "72 images processed, 72 hits (100.0%), 23 indexable (31.9% of hits, 31.9% overall), 23 crystals, 8.1 images/sec.\n",
      "108 images processed, 108 hits (100.0%), 28 indexable (25.9% of hits, 25.9% overall), 28 crystals, 7.0 images/sec.\n",
      "146 images processed, 146 hits (100.0%), 32 indexable (21.9% of hits, 21.9% overall), 32 crystals, 7.4 images/sec.\n",
      "185 images processed, 185 hits (100.0%), 35 indexable (18.9% of hits, 18.9% overall), 35 crystals, 7.8 images/sec.\n",
      "224 images processed, 224 hits (100.0%), 42 indexable (18.8% of hits, 18.8% overall), 42 crystals, 7.7 images/sec.\n",
      "261 images processed, 261 hits (100.0%), 49 indexable (18.8% of hits, 18.8% overall), 49 crystals, 7.2 images/sec.\n",
      "Waiting for the last patterns to be processed...\n",
      "Final: 300 images processed, 300 hits (100.0%), 56 indexable (18.7% of hits, 18.7% overall), 56 crystals.\n",
      "Processing XY pairs:  75%|███████▍  | 234/313 [1:59:00<52:48, 40.11s/it]This is what I understood your unit cell to be:\n",
      "cubic P, right handed.\n",
      "a      b      c            alpha   beta  gamma\n",
      " 11.87  11.87  11.87 A     90.00  90.00  90.00 deg\n",
      "List of indexing methods:\n",
      "   0: xgandalf-nolatt-cell      (xgandalf using cell parameters as prior information)\n",
      "Indexing parameters:\n",
      "                  Check unit cell parameters: on\n",
      "                        Check peak alignment: on\n",
      "                   Refine indexing solutions: off\n",
      " Multi-lattice indexing (\"delete and retry\"): off\n",
      "                              Retry indexing: on\n"
     ]
    },
    {
     "name": "stdout",
     "output_type": "stream",
     "text": [
      "Running for x=-512.0, y=-511.8\n"
     ]
    },
    {
     "name": "stderr",
     "output_type": "stream",
     "text": [
      "32 images processed, 32 hits (100.0%), 19 indexable (59.4% of hits, 59.4% overall), 19 crystals, 6.0 images/sec.\n",
      "74 images processed, 74 hits (100.0%), 23 indexable (31.1% of hits, 31.1% overall), 23 crystals, 7.7 images/sec.\n",
      "109 images processed, 109 hits (100.0%), 23 indexable (21.1% of hits, 21.1% overall), 23 crystals, 6.9 images/sec.\n",
      "149 images processed, 149 hits (100.0%), 25 indexable (16.8% of hits, 16.8% overall), 25 crystals, 7.8 images/sec.\n",
      "184 images processed, 184 hits (100.0%), 29 indexable (15.8% of hits, 15.8% overall), 29 crystals, 6.7 images/sec.\n",
      "226 images processed, 226 hits (100.0%), 33 indexable (14.6% of hits, 14.6% overall), 33 crystals, 7.8 images/sec.\n",
      "272 images processed, 272 hits (100.0%), 55 indexable (20.2% of hits, 20.2% overall), 55 crystals, 9.1 images/sec.\n",
      "Waiting for the last patterns to be processed...\n",
      "Final: 300 images processed, 300 hits (100.0%), 66 indexable (22.0% of hits, 22.0% overall), 66 crystals.\n",
      "Processing XY pairs:  75%|███████▌  | 235/313 [1:59:40<52:10, 40.14s/it]This is what I understood your unit cell to be:\n",
      "cubic P, right handed.\n",
      "a      b      c            alpha   beta  gamma\n",
      " 11.87  11.87  11.87 A     90.00  90.00  90.00 deg\n",
      "List of indexing methods:\n",
      "   0: xgandalf-nolatt-cell      (xgandalf using cell parameters as prior information)\n",
      "Indexing parameters:\n",
      "                  Check unit cell parameters: on\n",
      "                        Check peak alignment: on\n",
      "                   Refine indexing solutions: off\n",
      " Multi-lattice indexing (\"delete and retry\"): off\n",
      "                              Retry indexing: on\n"
     ]
    },
    {
     "name": "stdout",
     "output_type": "stream",
     "text": [
      "Running for x=-511.8, y=-513.0\n"
     ]
    },
    {
     "name": "stderr",
     "output_type": "stream",
     "text": [
      "43 images processed, 43 hits (100.0%), 28 indexable (65.1% of hits, 65.1% overall), 28 crystals, 8.5 images/sec.\n",
      "80 images processed, 80 hits (100.0%), 41 indexable (51.2% of hits, 51.2% overall), 41 crystals, 7.4 images/sec.\n",
      "133 images processed, 133 hits (100.0%), 61 indexable (45.9% of hits, 45.9% overall), 61 crystals, 10.0 images/sec.\n",
      "174 images processed, 174 hits (100.0%), 80 indexable (46.0% of hits, 46.0% overall), 80 crystals, 7.8 images/sec.\n",
      "214 images processed, 214 hits (100.0%), 87 indexable (40.7% of hits, 40.7% overall), 87 crystals, 7.9 images/sec.\n",
      "254 images processed, 254 hits (100.0%), 95 indexable (37.4% of hits, 37.4% overall), 95 crystals, 7.9 images/sec.\n",
      "Waiting for the last patterns to be processed...\n",
      "298 images processed, 298 hits (100.0%), 104 indexable (34.9% of hits, 34.9% overall), 104 crystals, 8.7 images/sec.\n",
      "Final: 300 images processed, 300 hits (100.0%), 104 indexable (34.7% of hits, 34.7% overall), 104 crystals.\n",
      "Processing XY pairs:  75%|███████▌  | 236/313 [2:00:17<50:19, 39.22s/it]This is what I understood your unit cell to be:\n",
      "cubic P, right handed.\n",
      "a      b      c            alpha   beta  gamma\n",
      " 11.87  11.87  11.87 A     90.00  90.00  90.00 deg\n",
      "List of indexing methods:\n",
      "   0: xgandalf-nolatt-cell      (xgandalf using cell parameters as prior information)\n",
      "Indexing parameters:\n",
      "                  Check unit cell parameters: on\n",
      "                        Check peak alignment: on\n",
      "                   Refine indexing solutions: off\n",
      " Multi-lattice indexing (\"delete and retry\"): off\n",
      "                              Retry indexing: on\n"
     ]
    },
    {
     "name": "stdout",
     "output_type": "stream",
     "text": [
      "Running for x=-511.8, y=-512.0\n"
     ]
    },
    {
     "name": "stderr",
     "output_type": "stream",
     "text": [
      "33 images processed, 33 hits (100.0%), 14 indexable (42.4% of hits, 42.4% overall), 14 crystals, 6.6 images/sec.\n",
      "70 images processed, 70 hits (100.0%), 18 indexable (25.7% of hits, 25.7% overall), 18 crystals, 7.0 images/sec.\n",
      "106 images processed, 106 hits (100.0%), 19 indexable (17.9% of hits, 17.9% overall), 19 crystals, 7.1 images/sec.\n",
      "143 images processed, 143 hits (100.0%), 21 indexable (14.7% of hits, 14.7% overall), 21 crystals, 7.2 images/sec.\n",
      "182 images processed, 182 hits (100.0%), 25 indexable (13.7% of hits, 13.7% overall), 25 crystals, 7.6 images/sec.\n",
      "217 images processed, 217 hits (100.0%), 30 indexable (13.8% of hits, 13.8% overall), 30 crystals, 6.9 images/sec.\n",
      "257 images processed, 257 hits (100.0%), 39 indexable (15.2% of hits, 15.2% overall), 39 crystals, 7.8 images/sec.\n",
      "Waiting for the last patterns to be processed...\n",
      "Final: 300 images processed, 300 hits (100.0%), 52 indexable (17.3% of hits, 17.3% overall), 52 crystals.\n",
      "Processing XY pairs:  76%|███████▌  | 237/313 [2:01:00<51:01, 40.28s/it]This is what I understood your unit cell to be:\n",
      "cubic P, right handed.\n",
      "a      b      c            alpha   beta  gamma\n",
      " 11.87  11.87  11.87 A     90.00  90.00  90.00 deg\n",
      "List of indexing methods:\n",
      "   0: xgandalf-nolatt-cell      (xgandalf using cell parameters as prior information)\n",
      "Indexing parameters:\n",
      "                  Check unit cell parameters: on\n",
      "                        Check peak alignment: on\n",
      "                   Refine indexing solutions: off\n",
      " Multi-lattice indexing (\"delete and retry\"): off\n",
      "                              Retry indexing: on\n"
     ]
    },
    {
     "name": "stdout",
     "output_type": "stream",
     "text": [
      "Running for x=-513.2, y=-513.0\n"
     ]
    },
    {
     "name": "stderr",
     "output_type": "stream",
     "text": [
      "42 images processed, 42 hits (100.0%), 29 indexable (69.0% of hits, 69.0% overall), 29 crystals, 8.3 images/sec.\n",
      "94 images processed, 94 hits (100.0%), 61 indexable (64.9% of hits, 64.9% overall), 61 crystals, 10.2 images/sec.\n",
      "141 images processed, 141 hits (100.0%), 83 indexable (58.9% of hits, 58.9% overall), 83 crystals, 9.3 images/sec.\n",
      "185 images processed, 185 hits (100.0%), 102 indexable (55.1% of hits, 55.1% overall), 102 crystals, 8.8 images/sec.\n",
      "226 images processed, 226 hits (100.0%), 109 indexable (48.2% of hits, 48.2% overall), 109 crystals, 8.2 images/sec.\n",
      "262 images processed, 262 hits (100.0%), 120 indexable (45.8% of hits, 45.8% overall), 120 crystals, 7.2 images/sec.\n",
      "Waiting for the last patterns to be processed...\n",
      "Final: 300 images processed, 300 hits (100.0%), 127 indexable (42.3% of hits, 42.3% overall), 127 crystals.\n",
      "Processing XY pairs:  76%|███████▌  | 238/313 [2:01:35<48:28, 38.77s/it]This is what I understood your unit cell to be:\n",
      "cubic P, right handed.\n",
      "a      b      c            alpha   beta  gamma\n",
      " 11.87  11.87  11.87 A     90.00  90.00  90.00 deg\n",
      "List of indexing methods:\n",
      "   0: xgandalf-nolatt-cell      (xgandalf using cell parameters as prior information)\n",
      "Indexing parameters:\n",
      "                  Check unit cell parameters: on\n",
      "                        Check peak alignment: on\n",
      "                   Refine indexing solutions: off\n",
      " Multi-lattice indexing (\"delete and retry\"): off\n",
      "                              Retry indexing: on\n"
     ]
    },
    {
     "name": "stdout",
     "output_type": "stream",
     "text": [
      "Running for x=-513.2, y=-512.0\n"
     ]
    },
    {
     "name": "stderr",
     "output_type": "stream",
     "text": [
      "33 images processed, 33 hits (100.0%), 19 indexable (57.6% of hits, 57.6% overall), 19 crystals, 6.4 images/sec.\n",
      "70 images processed, 70 hits (100.0%), 23 indexable (32.9% of hits, 32.9% overall), 23 crystals, 7.3 images/sec.\n",
      "106 images processed, 106 hits (100.0%), 24 indexable (22.6% of hits, 22.6% overall), 24 crystals, 7.1 images/sec.\n",
      "144 images processed, 144 hits (100.0%), 27 indexable (18.8% of hits, 18.8% overall), 27 crystals, 7.4 images/sec.\n",
      "181 images processed, 181 hits (100.0%), 31 indexable (17.1% of hits, 17.1% overall), 31 crystals, 6.9 images/sec.\n",
      "221 images processed, 221 hits (100.0%), 33 indexable (14.9% of hits, 14.9% overall), 33 crystals, 7.9 images/sec.\n",
      "259 images processed, 259 hits (100.0%), 41 indexable (15.8% of hits, 15.8% overall), 41 crystals, 7.5 images/sec.\n",
      "Waiting for the last patterns to be processed...\n",
      "Final: 300 images processed, 300 hits (100.0%), 53 indexable (17.7% of hits, 17.7% overall), 53 crystals.\n",
      "Processing XY pairs:  76%|███████▋  | 239/313 [2:02:16<48:44, 39.52s/it]This is what I understood your unit cell to be:\n",
      "cubic P, right handed.\n",
      "a      b      c            alpha   beta  gamma\n",
      " 11.87  11.87  11.87 A     90.00  90.00  90.00 deg\n",
      "List of indexing methods:\n",
      "   0: xgandalf-nolatt-cell      (xgandalf using cell parameters as prior information)\n",
      "Indexing parameters:\n",
      "                  Check unit cell parameters: on\n",
      "                        Check peak alignment: on\n",
      "                   Refine indexing solutions: off\n",
      " Multi-lattice indexing (\"delete and retry\"): off\n",
      "                              Retry indexing: on\n"
     ]
    },
    {
     "name": "stdout",
     "output_type": "stream",
     "text": [
      "Running for x=-513.0, y=-513.2\n"
     ]
    },
    {
     "name": "stderr",
     "output_type": "stream",
     "text": [
      "38 images processed, 38 hits (100.0%), 28 indexable (73.7% of hits, 73.7% overall), 28 crystals, 7.5 images/sec.\n",
      "88 images processed, 88 hits (100.0%), 57 indexable (64.8% of hits, 64.8% overall), 57 crystals, 10.0 images/sec.\n",
      "139 images processed, 139 hits (100.0%), 87 indexable (62.6% of hits, 62.6% overall), 87 crystals, 9.8 images/sec.\n",
      "184 images processed, 184 hits (100.0%), 111 indexable (60.3% of hits, 60.3% overall), 111 crystals, 9.0 images/sec.\n",
      "227 images processed, 227 hits (100.0%), 130 indexable (57.3% of hits, 57.3% overall), 130 crystals, 8.4 images/sec.\n",
      "269 images processed, 269 hits (100.0%), 145 indexable (53.9% of hits, 53.9% overall), 145 crystals, 8.0 images/sec.\n",
      "Waiting for the last patterns to be processed...\n",
      "Final: 300 images processed, 300 hits (100.0%), 155 indexable (51.7% of hits, 51.7% overall), 155 crystals.\n",
      "Processing XY pairs:  77%|███████▋  | 240/313 [2:02:51<46:14, 38.01s/it]This is what I understood your unit cell to be:\n",
      "cubic P, right handed.\n",
      "a      b      c            alpha   beta  gamma\n",
      " 11.87  11.87  11.87 A     90.00  90.00  90.00 deg\n",
      "List of indexing methods:\n",
      "   0: xgandalf-nolatt-cell      (xgandalf using cell parameters as prior information)\n",
      "Indexing parameters:\n",
      "                  Check unit cell parameters: on\n",
      "                        Check peak alignment: on\n",
      "                   Refine indexing solutions: off\n",
      " Multi-lattice indexing (\"delete and retry\"): off\n",
      "                              Retry indexing: on\n"
     ]
    },
    {
     "name": "stdout",
     "output_type": "stream",
     "text": [
      "Running for x=-512.0, y=-513.2\n"
     ]
    },
    {
     "name": "stderr",
     "output_type": "stream",
     "text": [
      "46 images processed, 46 hits (100.0%), 33 indexable (71.7% of hits, 71.7% overall), 33 crystals, 8.7 images/sec.\n",
      "84 images processed, 84 hits (100.0%), 50 indexable (59.5% of hits, 59.5% overall), 50 crystals, 7.6 images/sec.\n",
      "134 images processed, 134 hits (100.0%), 69 indexable (51.5% of hits, 51.5% overall), 69 crystals, 9.6 images/sec.\n",
      "172 images processed, 172 hits (100.0%), 83 indexable (48.3% of hits, 48.3% overall), 83 crystals, 7.3 images/sec.\n",
      "216 images processed, 216 hits (100.0%), 96 indexable (44.4% of hits, 44.4% overall), 96 crystals, 8.7 images/sec.\n",
      "260 images processed, 260 hits (100.0%), 116 indexable (44.6% of hits, 44.6% overall), 116 crystals, 8.5 images/sec.\n",
      "Waiting for the last patterns to be processed...\n",
      "Final: 300 images processed, 300 hits (100.0%), 127 indexable (42.3% of hits, 42.3% overall), 127 crystals.\n",
      "Processing XY pairs:  77%|███████▋  | 241/313 [2:03:27<44:56, 37.45s/it]This is what I understood your unit cell to be:\n",
      "cubic P, right handed.\n",
      "a      b      c            alpha   beta  gamma\n",
      " 11.87  11.87  11.87 A     90.00  90.00  90.00 deg\n",
      "List of indexing methods:\n",
      "   0: xgandalf-nolatt-cell      (xgandalf using cell parameters as prior information)\n",
      "Indexing parameters:\n",
      "                  Check unit cell parameters: on\n",
      "                        Check peak alignment: on\n",
      "                   Refine indexing solutions: off\n",
      " Multi-lattice indexing (\"delete and retry\"): off\n",
      "                              Retry indexing: on\n"
     ]
    },
    {
     "name": "stdout",
     "output_type": "stream",
     "text": [
      "Running for x=-513.3, y=-512.9\n"
     ]
    },
    {
     "name": "stderr",
     "output_type": "stream",
     "text": [
      "42 images processed, 42 hits (100.0%), 27 indexable (64.3% of hits, 64.3% overall), 27 crystals, 8.1 images/sec.\n",
      "78 images processed, 78 hits (100.0%), 40 indexable (51.3% of hits, 51.3% overall), 40 crystals, 6.8 images/sec.\n",
      "122 images processed, 122 hits (100.0%), 51 indexable (41.8% of hits, 41.8% overall), 51 crystals, 8.7 images/sec.\n",
      "161 images processed, 161 hits (100.0%), 62 indexable (38.5% of hits, 38.5% overall), 62 crystals, 7.5 images/sec.\n",
      "203 images processed, 203 hits (100.0%), 70 indexable (34.5% of hits, 34.5% overall), 70 crystals, 8.3 images/sec.\n",
      "238 images processed, 238 hits (100.0%), 72 indexable (30.3% of hits, 30.3% overall), 72 crystals, 6.9 images/sec.\n",
      "Waiting for the last patterns to be processed...\n",
      "281 images processed, 281 hits (100.0%), 84 indexable (29.9% of hits, 29.9% overall), 84 crystals, 8.3 images/sec.\n",
      "Final: 300 images processed, 300 hits (100.0%), 87 indexable (29.0% of hits, 29.0% overall), 87 crystals.\n",
      "Processing XY pairs:  77%|███████▋  | 242/313 [2:04:06<44:49, 37.88s/it]This is what I understood your unit cell to be:\n",
      "cubic P, right handed.\n",
      "a      b      c            alpha   beta  gamma\n",
      " 11.87  11.87  11.87 A     90.00  90.00  90.00 deg\n",
      "List of indexing methods:\n",
      "   0: xgandalf-nolatt-cell      (xgandalf using cell parameters as prior information)\n",
      "Indexing parameters:\n",
      "                  Check unit cell parameters: on\n",
      "                        Check peak alignment: on\n",
      "                   Refine indexing solutions: off\n",
      " Multi-lattice indexing (\"delete and retry\"): off\n",
      "                              Retry indexing: on\n"
     ]
    },
    {
     "name": "stdout",
     "output_type": "stream",
     "text": [
      "Running for x=-513.3, y=-512.1\n"
     ]
    },
    {
     "name": "stderr",
     "output_type": "stream",
     "text": [
      "34 images processed, 34 hits (100.0%), 16 indexable (47.1% of hits, 47.1% overall), 16 crystals, 6.4 images/sec.\n",
      "70 images processed, 70 hits (100.0%), 20 indexable (28.6% of hits, 28.6% overall), 20 crystals, 7.1 images/sec.\n",
      "104 images processed, 104 hits (100.0%), 23 indexable (22.1% of hits, 22.1% overall), 23 crystals, 6.8 images/sec.\n",
      "143 images processed, 143 hits (100.0%), 24 indexable (16.8% of hits, 16.8% overall), 24 crystals, 7.2 images/sec.\n",
      "183 images processed, 183 hits (100.0%), 28 indexable (15.3% of hits, 15.3% overall), 28 crystals, 7.7 images/sec.\n",
      "221 images processed, 221 hits (100.0%), 31 indexable (14.0% of hits, 14.0% overall), 31 crystals, 7.6 images/sec.\n",
      "255 images processed, 255 hits (100.0%), 39 indexable (15.3% of hits, 15.3% overall), 39 crystals, 6.8 images/sec.\n",
      "Waiting for the last patterns to be processed...\n",
      "Final: 300 images processed, 300 hits (100.0%), 49 indexable (16.3% of hits, 16.3% overall), 49 crystals.\n",
      "Processing XY pairs:  78%|███████▊  | 243/313 [2:04:49<46:01, 39.45s/it]This is what I understood your unit cell to be:\n",
      "cubic P, right handed.\n",
      "a      b      c            alpha   beta  gamma\n",
      " 11.87  11.87  11.87 A     90.00  90.00  90.00 deg\n",
      "List of indexing methods:\n",
      "   0: xgandalf-nolatt-cell      (xgandalf using cell parameters as prior information)\n",
      "Indexing parameters:\n",
      "                  Check unit cell parameters: on\n",
      "                        Check peak alignment: on\n",
      "                   Refine indexing solutions: off\n",
      " Multi-lattice indexing (\"delete and retry\"): off\n",
      "                              Retry indexing: on\n"
     ]
    },
    {
     "name": "stdout",
     "output_type": "stream",
     "text": [
      "Running for x=-512.9, y=-513.3\n"
     ]
    },
    {
     "name": "stderr",
     "output_type": "stream",
     "text": [
      "35 images processed, 35 hits (100.0%), 20 indexable (57.1% of hits, 57.1% overall), 20 crystals, 7.0 images/sec.\n",
      "77 images processed, 77 hits (100.0%), 37 indexable (48.1% of hits, 48.1% overall), 37 crystals, 7.9 images/sec.\n",
      "121 images processed, 121 hits (100.0%), 48 indexable (39.7% of hits, 39.7% overall), 48 crystals, 8.5 images/sec.\n",
      "165 images processed, 165 hits (100.0%), 67 indexable (40.6% of hits, 40.6% overall), 67 crystals, 8.7 images/sec.\n",
      "209 images processed, 209 hits (100.0%), 79 indexable (37.8% of hits, 37.8% overall), 79 crystals, 8.8 images/sec.\n",
      "260 images processed, 260 hits (100.0%), 106 indexable (40.8% of hits, 40.8% overall), 106 crystals, 9.7 images/sec.\n",
      "Waiting for the last patterns to be processed...\n",
      "Final: 300 images processed, 300 hits (100.0%), 119 indexable (39.7% of hits, 39.7% overall), 119 crystals.\n",
      "Processing XY pairs:  78%|███████▊  | 244/313 [2:05:26<44:21, 38.58s/it]This is what I understood your unit cell to be:\n",
      "cubic P, right handed.\n",
      "a      b      c            alpha   beta  gamma\n",
      " 11.87  11.87  11.87 A     90.00  90.00  90.00 deg\n",
      "List of indexing methods:\n",
      "   0: xgandalf-nolatt-cell      (xgandalf using cell parameters as prior information)\n",
      "Indexing parameters:\n",
      "                  Check unit cell parameters: on\n",
      "                        Check peak alignment: on\n",
      "                   Refine indexing solutions: off\n",
      " Multi-lattice indexing (\"delete and retry\"): off\n",
      "                              Retry indexing: on\n"
     ]
    },
    {
     "name": "stdout",
     "output_type": "stream",
     "text": [
      "Running for x=-512.1, y=-513.3\n"
     ]
    },
    {
     "name": "stderr",
     "output_type": "stream",
     "text": [
      "39 images processed, 39 hits (100.0%), 22 indexable (56.4% of hits, 56.4% overall), 22 crystals, 7.7 images/sec.\n",
      "85 images processed, 85 hits (100.0%), 39 indexable (45.9% of hits, 45.9% overall), 39 crystals, 9.0 images/sec.\n",
      "126 images processed, 126 hits (100.0%), 59 indexable (46.8% of hits, 46.8% overall), 59 crystals, 8.2 images/sec.\n",
      "168 images processed, 168 hits (100.0%), 73 indexable (43.5% of hits, 43.5% overall), 73 crystals, 8.1 images/sec.\n",
      "209 images processed, 209 hits (100.0%), 83 indexable (39.7% of hits, 39.7% overall), 83 crystals, 8.2 images/sec.\n",
      "253 images processed, 253 hits (100.0%), 97 indexable (38.3% of hits, 38.3% overall), 97 crystals, 8.6 images/sec.\n",
      "Waiting for the last patterns to be processed...\n",
      "Final: 300 images processed, 300 hits (100.0%), 115 indexable (38.3% of hits, 38.3% overall), 115 crystals.\n",
      "Processing XY pairs:  78%|███████▊  | 245/313 [2:06:02<43:02, 37.97s/it]This is what I understood your unit cell to be:\n",
      "cubic P, right handed.\n",
      "a      b      c            alpha   beta  gamma\n",
      " 11.87  11.87  11.87 A     90.00  90.00  90.00 deg\n",
      "List of indexing methods:\n",
      "   0: xgandalf-nolatt-cell      (xgandalf using cell parameters as prior information)\n",
      "Indexing parameters:\n",
      "                  Check unit cell parameters: on\n",
      "                        Check peak alignment: on\n",
      "                   Refine indexing solutions: off\n",
      " Multi-lattice indexing (\"delete and retry\"): off\n",
      "                              Retry indexing: on\n"
     ]
    },
    {
     "name": "stdout",
     "output_type": "stream",
     "text": [
      "Running for x=-512.9, y=-511.7\n"
     ]
    },
    {
     "name": "stderr",
     "output_type": "stream",
     "text": [
      "29 images processed, 29 hits (100.0%), 8 indexable (27.6% of hits, 27.6% overall), 8 crystals, 5.5 images/sec.\n",
      "72 images processed, 72 hits (100.0%), 18 indexable (25.0% of hits, 25.0% overall), 18 crystals, 8.6 images/sec.\n",
      "109 images processed, 109 hits (100.0%), 25 indexable (22.9% of hits, 22.9% overall), 25 crystals, 6.9 images/sec.\n",
      "146 images processed, 146 hits (100.0%), 29 indexable (19.9% of hits, 19.9% overall), 29 crystals, 7.3 images/sec.\n",
      "185 images processed, 185 hits (100.0%), 37 indexable (20.0% of hits, 20.0% overall), 37 crystals, 7.6 images/sec.\n",
      "225 images processed, 225 hits (100.0%), 44 indexable (19.6% of hits, 19.6% overall), 44 crystals, 7.8 images/sec.\n",
      "268 images processed, 268 hits (100.0%), 54 indexable (20.1% of hits, 20.1% overall), 54 crystals, 8.5 images/sec.\n",
      "Waiting for the last patterns to be processed...\n",
      "Final: 300 images processed, 300 hits (100.0%), 61 indexable (20.3% of hits, 20.3% overall), 61 crystals.\n",
      "Processing XY pairs:  79%|███████▊  | 246/313 [2:06:42<43:08, 38.63s/it]This is what I understood your unit cell to be:\n",
      "cubic P, right handed.\n",
      "a      b      c            alpha   beta  gamma\n",
      " 11.87  11.87  11.87 A     90.00  90.00  90.00 deg\n",
      "List of indexing methods:\n",
      "   0: xgandalf-nolatt-cell      (xgandalf using cell parameters as prior information)\n",
      "Indexing parameters:\n",
      "                  Check unit cell parameters: on\n",
      "                        Check peak alignment: on\n",
      "                   Refine indexing solutions: off\n",
      " Multi-lattice indexing (\"delete and retry\"): off\n",
      "                              Retry indexing: on\n"
     ]
    },
    {
     "name": "stdout",
     "output_type": "stream",
     "text": [
      "Running for x=-512.1, y=-511.7\n"
     ]
    },
    {
     "name": "stderr",
     "output_type": "stream",
     "text": [
      "28 images processed, 28 hits (100.0%), 9 indexable (32.1% of hits, 32.1% overall), 9 crystals, 5.3 images/sec.\n",
      "70 images processed, 70 hits (100.0%), 13 indexable (18.6% of hits, 18.6% overall), 13 crystals, 7.7 images/sec.\n",
      "104 images processed, 104 hits (100.0%), 14 indexable (13.5% of hits, 13.5% overall), 14 crystals, 6.7 images/sec.\n",
      "141 images processed, 141 hits (100.0%), 15 indexable (10.6% of hits, 10.6% overall), 15 crystals, 7.0 images/sec.\n",
      "181 images processed, 181 hits (100.0%), 17 indexable (9.4% of hits, 9.4% overall), 17 crystals, 8.0 images/sec.\n",
      "219 images processed, 219 hits (100.0%), 23 indexable (10.5% of hits, 10.5% overall), 23 crystals, 7.5 images/sec.\n",
      "262 images processed, 262 hits (100.0%), 34 indexable (13.0% of hits, 13.0% overall), 34 crystals, 8.4 images/sec.\n",
      "Waiting for the last patterns to be processed...\n",
      "Final: 300 images processed, 300 hits (100.0%), 40 indexable (13.3% of hits, 13.3% overall), 40 crystals.\n",
      "Processing XY pairs:  79%|███████▉  | 247/313 [2:07:24<43:26, 39.49s/it]This is what I understood your unit cell to be:\n",
      "cubic P, right handed.\n",
      "a      b      c            alpha   beta  gamma\n",
      " 11.87  11.87  11.87 A     90.00  90.00  90.00 deg\n",
      "List of indexing methods:\n",
      "   0: xgandalf-nolatt-cell      (xgandalf using cell parameters as prior information)\n",
      "Indexing parameters:\n",
      "                  Check unit cell parameters: on\n",
      "                        Check peak alignment: on\n",
      "                   Refine indexing solutions: off\n",
      " Multi-lattice indexing (\"delete and retry\"): off\n",
      "                              Retry indexing: on\n"
     ]
    },
    {
     "name": "stdout",
     "output_type": "stream",
     "text": [
      "Running for x=-511.7, y=-512.9\n"
     ]
    },
    {
     "name": "stderr",
     "output_type": "stream",
     "text": [
      "37 images processed, 37 hits (100.0%), 18 indexable (48.6% of hits, 48.6% overall), 18 crystals, 7.3 images/sec.\n",
      "77 images processed, 77 hits (100.0%), 29 indexable (37.7% of hits, 37.7% overall), 29 crystals, 7.8 images/sec.\n",
      "127 images processed, 127 hits (100.0%), 52 indexable (40.9% of hits, 40.9% overall), 52 crystals, 9.8 images/sec.\n",
      "167 images processed, 167 hits (100.0%), 67 indexable (40.1% of hits, 40.1% overall), 67 crystals, 7.9 images/sec.\n",
      "209 images processed, 209 hits (100.0%), 78 indexable (37.3% of hits, 37.3% overall), 78 crystals, 8.4 images/sec.\n",
      "245 images processed, 245 hits (100.0%), 84 indexable (34.3% of hits, 34.3% overall), 84 crystals, 7.1 images/sec.\n",
      "Waiting for the last patterns to be processed...\n",
      "290 images processed, 290 hits (100.0%), 97 indexable (33.4% of hits, 33.4% overall), 97 crystals, 8.9 images/sec.\n",
      "Final: 300 images processed, 300 hits (100.0%), 99 indexable (33.0% of hits, 33.0% overall), 99 crystals.\n",
      "Processing XY pairs:  79%|███████▉  | 248/313 [2:08:01<42:09, 38.92s/it]This is what I understood your unit cell to be:\n",
      "cubic P, right handed.\n",
      "a      b      c            alpha   beta  gamma\n",
      " 11.87  11.87  11.87 A     90.00  90.00  90.00 deg\n",
      "List of indexing methods:\n",
      "   0: xgandalf-nolatt-cell      (xgandalf using cell parameters as prior information)\n",
      "Indexing parameters:\n",
      "                  Check unit cell parameters: on\n",
      "                        Check peak alignment: on\n",
      "                   Refine indexing solutions: off\n",
      " Multi-lattice indexing (\"delete and retry\"): off\n",
      "                              Retry indexing: on\n"
     ]
    },
    {
     "name": "stdout",
     "output_type": "stream",
     "text": [
      "Running for x=-511.7, y=-512.1\n"
     ]
    },
    {
     "name": "stderr",
     "output_type": "stream",
     "text": [
      "35 images processed, 35 hits (100.0%), 18 indexable (51.4% of hits, 51.4% overall), 18 crystals, 6.9 images/sec.\n",
      "70 images processed, 70 hits (100.0%), 23 indexable (32.9% of hits, 32.9% overall), 23 crystals, 7.0 images/sec.\n",
      "106 images processed, 106 hits (100.0%), 24 indexable (22.6% of hits, 22.6% overall), 24 crystals, 7.0 images/sec.\n",
      "145 images processed, 145 hits (100.0%), 25 indexable (17.2% of hits, 17.2% overall), 25 crystals, 7.4 images/sec.\n",
      "182 images processed, 182 hits (100.0%), 27 indexable (14.8% of hits, 14.8% overall), 27 crystals, 7.4 images/sec.\n",
      "221 images processed, 221 hits (100.0%), 29 indexable (13.1% of hits, 13.1% overall), 29 crystals, 7.8 images/sec.\n",
      "255 images processed, 255 hits (100.0%), 34 indexable (13.3% of hits, 13.3% overall), 34 crystals, 6.7 images/sec.\n",
      "Waiting for the last patterns to be processed...\n",
      "Final: 300 images processed, 300 hits (100.0%), 43 indexable (14.3% of hits, 14.3% overall), 43 crystals.\n",
      "Processing XY pairs:  80%|███████▉  | 249/313 [2:08:44<42:46, 40.10s/it]This is what I understood your unit cell to be:\n",
      "cubic P, right handed.\n",
      "a      b      c            alpha   beta  gamma\n",
      " 11.87  11.87  11.87 A     90.00  90.00  90.00 deg\n",
      "List of indexing methods:\n",
      "   0: xgandalf-nolatt-cell      (xgandalf using cell parameters as prior information)\n",
      "Indexing parameters:\n",
      "                  Check unit cell parameters: on\n",
      "                        Check peak alignment: on\n",
      "                   Refine indexing solutions: off\n",
      " Multi-lattice indexing (\"delete and retry\"): off\n",
      "                              Retry indexing: on\n"
     ]
    },
    {
     "name": "stdout",
     "output_type": "stream",
     "text": [
      "Running for x=-513.4, y=-512.5\n"
     ]
    },
    {
     "name": "stderr",
     "output_type": "stream",
     "text": [
      "39 images processed, 39 hits (100.0%), 22 indexable (56.4% of hits, 56.4% overall), 22 crystals, 7.6 images/sec.\n",
      "74 images processed, 74 hits (100.0%), 31 indexable (41.9% of hits, 41.9% overall), 31 crystals, 6.7 images/sec.\n",
      "116 images processed, 116 hits (100.0%), 34 indexable (29.3% of hits, 29.3% overall), 34 crystals, 8.3 images/sec.\n",
      "149 images processed, 149 hits (100.0%), 39 indexable (26.2% of hits, 26.2% overall), 39 crystals, 6.5 images/sec.\n",
      "185 images processed, 185 hits (100.0%), 43 indexable (23.2% of hits, 23.2% overall), 43 crystals, 7.1 images/sec.\n",
      "224 images processed, 224 hits (100.0%), 47 indexable (21.0% of hits, 21.0% overall), 47 crystals, 7.7 images/sec.\n",
      "260 images processed, 260 hits (100.0%), 52 indexable (20.0% of hits, 20.0% overall), 52 crystals, 7.1 images/sec.\n",
      "Waiting for the last patterns to be processed...\n",
      "Final: 300 images processed, 300 hits (100.0%), 61 indexable (20.3% of hits, 20.3% overall), 61 crystals.\n",
      "Processing XY pairs:  80%|███████▉  | 250/313 [2:09:25<42:21, 40.34s/it]This is what I understood your unit cell to be:\n",
      "cubic P, right handed.\n",
      "a      b      c            alpha   beta  gamma\n",
      " 11.87  11.87  11.87 A     90.00  90.00  90.00 deg\n",
      "List of indexing methods:\n",
      "   0: xgandalf-nolatt-cell      (xgandalf using cell parameters as prior information)\n",
      "Indexing parameters:\n",
      "                  Check unit cell parameters: on\n",
      "                        Check peak alignment: on\n",
      "                   Refine indexing solutions: off\n",
      " Multi-lattice indexing (\"delete and retry\"): off\n",
      "                              Retry indexing: on\n"
     ]
    },
    {
     "name": "stdout",
     "output_type": "stream",
     "text": [
      "Running for x=-512.5, y=-513.4\n"
     ]
    },
    {
     "name": "stderr",
     "output_type": "stream",
     "text": [
      "38 images processed, 38 hits (100.0%), 21 indexable (55.3% of hits, 55.3% overall), 21 crystals, 7.5 images/sec.\n",
      "75 images processed, 75 hits (100.0%), 27 indexable (36.0% of hits, 36.0% overall), 27 crystals, 7.3 images/sec.\n",
      "116 images processed, 116 hits (100.0%), 33 indexable (28.4% of hits, 28.4% overall), 33 crystals, 8.1 images/sec.\n",
      "156 images processed, 156 hits (100.0%), 42 indexable (26.9% of hits, 26.9% overall), 42 crystals, 7.9 images/sec.\n",
      "194 images processed, 194 hits (100.0%), 49 indexable (25.3% of hits, 25.3% overall), 49 crystals, 7.4 images/sec.\n",
      "234 images processed, 234 hits (100.0%), 57 indexable (24.4% of hits, 24.4% overall), 57 crystals, 7.8 images/sec.\n",
      "Waiting for the last patterns to be processed...\n",
      "277 images processed, 277 hits (100.0%), 68 indexable (24.5% of hits, 24.5% overall), 68 crystals, 8.4 images/sec.\n",
      "Final: 300 images processed, 300 hits (100.0%), 70 indexable (23.3% of hits, 23.3% overall), 70 crystals.\n",
      "Processing XY pairs:  80%|████████  | 251/313 [2:10:04<41:13, 39.90s/it]This is what I understood your unit cell to be:\n",
      "cubic P, right handed.\n",
      "a      b      c            alpha   beta  gamma\n",
      " 11.87  11.87  11.87 A     90.00  90.00  90.00 deg\n",
      "List of indexing methods:\n",
      "   0: xgandalf-nolatt-cell      (xgandalf using cell parameters as prior information)\n",
      "Indexing parameters:\n",
      "                  Check unit cell parameters: on\n",
      "                        Check peak alignment: on\n",
      "                   Refine indexing solutions: off\n",
      " Multi-lattice indexing (\"delete and retry\"): off\n",
      "                              Retry indexing: on\n"
     ]
    },
    {
     "name": "stdout",
     "output_type": "stream",
     "text": [
      "Running for x=-512.5, y=-511.6\n"
     ]
    },
    {
     "name": "stderr",
     "output_type": "stream",
     "text": [
      "27 images processed, 27 hits (100.0%), 7 indexable (25.9% of hits, 25.9% overall), 7 crystals, 5.2 images/sec.\n",
      "69 images processed, 69 hits (100.0%), 10 indexable (14.5% of hits, 14.5% overall), 10 crystals, 8.3 images/sec.\n",
      "98 images processed, 98 hits (100.0%), 10 indexable (10.2% of hits, 10.2% overall), 10 crystals, 5.7 images/sec.\n",
      "138 images processed, 138 hits (100.0%), 11 indexable (8.0% of hits, 8.0% overall), 11 crystals, 7.8 images/sec.\n",
      "177 images processed, 177 hits (100.0%), 14 indexable (7.9% of hits, 7.9% overall), 14 crystals, 7.6 images/sec.\n",
      "216 images processed, 216 hits (100.0%), 17 indexable (7.9% of hits, 7.9% overall), 17 crystals, 7.7 images/sec.\n",
      "253 images processed, 253 hits (100.0%), 22 indexable (8.7% of hits, 8.7% overall), 22 crystals, 7.3 images/sec.\n",
      "Waiting for the last patterns to be processed...\n",
      "297 images processed, 297 hits (100.0%), 29 indexable (9.8% of hits, 9.8% overall), 29 crystals, 8.7 images/sec.\n",
      "Final: 300 images processed, 300 hits (100.0%), 29 indexable (9.7% of hits, 9.7% overall), 29 crystals.\n",
      "Processing XY pairs:  81%|████████  | 252/313 [2:10:46<41:16, 40.59s/it]This is what I understood your unit cell to be:\n",
      "cubic P, right handed.\n",
      "a      b      c            alpha   beta  gamma\n",
      " 11.87  11.87  11.87 A     90.00  90.00  90.00 deg\n",
      "List of indexing methods:\n",
      "   0: xgandalf-nolatt-cell      (xgandalf using cell parameters as prior information)\n",
      "Indexing parameters:\n",
      "                  Check unit cell parameters: on\n",
      "                        Check peak alignment: on\n",
      "                   Refine indexing solutions: off\n",
      " Multi-lattice indexing (\"delete and retry\"): off\n",
      "                              Retry indexing: on\n"
     ]
    },
    {
     "name": "stdout",
     "output_type": "stream",
     "text": [
      "Running for x=-511.6, y=-512.5\n"
     ]
    },
    {
     "name": "stderr",
     "output_type": "stream",
     "text": [
      "39 images processed, 39 hits (100.0%), 26 indexable (66.7% of hits, 66.7% overall), 26 crystals, 7.6 images/sec.\n",
      "76 images processed, 76 hits (100.0%), 40 indexable (52.6% of hits, 52.6% overall), 40 crystals, 6.7 images/sec.\n",
      "116 images processed, 116 hits (100.0%), 44 indexable (37.9% of hits, 37.9% overall), 44 crystals, 7.9 images/sec.\n",
      "153 images processed, 153 hits (100.0%), 47 indexable (30.7% of hits, 30.7% overall), 47 crystals, 7.2 images/sec.\n",
      "191 images processed, 191 hits (100.0%), 51 indexable (26.7% of hits, 26.7% overall), 51 crystals, 7.6 images/sec.\n",
      "224 images processed, 224 hits (100.0%), 52 indexable (23.2% of hits, 23.2% overall), 52 crystals, 6.5 images/sec.\n",
      "261 images processed, 261 hits (100.0%), 60 indexable (23.0% of hits, 23.0% overall), 60 crystals, 7.1 images/sec.\n",
      "Waiting for the last patterns to be processed...\n",
      "Final: 300 images processed, 300 hits (100.0%), 70 indexable (23.3% of hits, 23.3% overall), 70 crystals.\n",
      "Processing XY pairs:  81%|████████  | 253/313 [2:11:28<40:49, 40.82s/it]This is what I understood your unit cell to be:\n",
      "cubic P, right handed.\n",
      "a      b      c            alpha   beta  gamma\n",
      " 11.87  11.87  11.87 A     90.00  90.00  90.00 deg\n",
      "List of indexing methods:\n",
      "   0: xgandalf-nolatt-cell      (xgandalf using cell parameters as prior information)\n",
      "Indexing parameters:\n",
      "                  Check unit cell parameters: on\n",
      "                        Check peak alignment: on\n",
      "                   Refine indexing solutions: off\n",
      " Multi-lattice indexing (\"delete and retry\"): off\n",
      "                              Retry indexing: on\n"
     ]
    },
    {
     "name": "stdout",
     "output_type": "stream",
     "text": [
      "Running for x=-513.4, y=-512.6\n"
     ]
    },
    {
     "name": "stderr",
     "output_type": "stream",
     "text": [
      "37 images processed, 37 hits (100.0%), 24 indexable (64.9% of hits, 64.9% overall), 24 crystals, 7.0 images/sec.\n",
      "78 images processed, 78 hits (100.0%), 35 indexable (44.9% of hits, 44.9% overall), 35 crystals, 7.9 images/sec.\n",
      "117 images processed, 117 hits (100.0%), 37 indexable (31.6% of hits, 31.6% overall), 37 crystals, 7.6 images/sec.\n",
      "154 images processed, 154 hits (100.0%), 40 indexable (26.0% of hits, 26.0% overall), 40 crystals, 7.2 images/sec.\n",
      "186 images processed, 186 hits (100.0%), 42 indexable (22.6% of hits, 22.6% overall), 42 crystals, 6.4 images/sec.\n",
      "225 images processed, 225 hits (100.0%), 45 indexable (20.0% of hits, 20.0% overall), 45 crystals, 7.4 images/sec.\n",
      "262 images processed, 262 hits (100.0%), 52 indexable (19.8% of hits, 19.8% overall), 52 crystals, 7.2 images/sec.\n",
      "Waiting for the last patterns to be processed...\n",
      "Final: 300 images processed, 300 hits (100.0%), 66 indexable (22.0% of hits, 22.0% overall), 66 crystals.\n",
      "Processing XY pairs:  81%|████████  | 254/313 [2:12:09<40:19, 41.01s/it]This is what I understood your unit cell to be:\n",
      "cubic P, right handed.\n",
      "a      b      c            alpha   beta  gamma\n",
      " 11.87  11.87  11.87 A     90.00  90.00  90.00 deg\n",
      "List of indexing methods:\n",
      "   0: xgandalf-nolatt-cell      (xgandalf using cell parameters as prior information)\n",
      "Indexing parameters:\n",
      "                  Check unit cell parameters: on\n",
      "                        Check peak alignment: on\n",
      "                   Refine indexing solutions: off\n",
      " Multi-lattice indexing (\"delete and retry\"): off\n",
      "                              Retry indexing: on\n"
     ]
    },
    {
     "name": "stdout",
     "output_type": "stream",
     "text": [
      "Running for x=-513.4, y=-512.4\n"
     ]
    },
    {
     "name": "stderr",
     "output_type": "stream",
     "text": [
      "38 images processed, 38 hits (100.0%), 20 indexable (52.6% of hits, 52.6% overall), 20 crystals, 7.3 images/sec.\n",
      "72 images processed, 72 hits (100.0%), 27 indexable (37.5% of hits, 37.5% overall), 27 crystals, 6.5 images/sec.\n",
      "111 images processed, 111 hits (100.0%), 34 indexable (30.6% of hits, 30.6% overall), 34 crystals, 7.7 images/sec.\n",
      "143 images processed, 143 hits (100.0%), 37 indexable (25.9% of hits, 25.9% overall), 37 crystals, 6.4 images/sec.\n",
      "179 images processed, 179 hits (100.0%), 43 indexable (24.0% of hits, 24.0% overall), 43 crystals, 7.1 images/sec.\n",
      "218 images processed, 218 hits (100.0%), 44 indexable (20.2% of hits, 20.2% overall), 44 crystals, 7.8 images/sec.\n",
      "257 images processed, 257 hits (100.0%), 47 indexable (18.3% of hits, 18.3% overall), 47 crystals, 7.5 images/sec.\n",
      "Waiting for the last patterns to be processed...\n",
      "Final: 300 images processed, 300 hits (100.0%), 57 indexable (19.0% of hits, 19.0% overall), 57 crystals.\n",
      "Processing XY pairs:  81%|████████▏ | 255/313 [2:12:50<39:38, 41.01s/it]This is what I understood your unit cell to be:\n",
      "cubic P, right handed.\n",
      "a      b      c            alpha   beta  gamma\n",
      " 11.87  11.87  11.87 A     90.00  90.00  90.00 deg\n",
      "List of indexing methods:\n",
      "   0: xgandalf-nolatt-cell      (xgandalf using cell parameters as prior information)\n",
      "Indexing parameters:\n",
      "                  Check unit cell parameters: on\n",
      "                        Check peak alignment: on\n",
      "                   Refine indexing solutions: off\n",
      " Multi-lattice indexing (\"delete and retry\"): off\n",
      "                              Retry indexing: on\n"
     ]
    },
    {
     "name": "stdout",
     "output_type": "stream",
     "text": [
      "Running for x=-512.6, y=-513.4\n"
     ]
    },
    {
     "name": "stderr",
     "output_type": "stream",
     "text": [
      "34 images processed, 34 hits (100.0%), 18 indexable (52.9% of hits, 52.9% overall), 18 crystals, 6.5 images/sec.\n",
      "71 images processed, 71 hits (100.0%), 23 indexable (32.4% of hits, 32.4% overall), 23 crystals, 7.1 images/sec.\n",
      "107 images processed, 107 hits (100.0%), 28 indexable (26.2% of hits, 26.2% overall), 28 crystals, 7.0 images/sec.\n",
      "147 images processed, 147 hits (100.0%), 35 indexable (23.8% of hits, 23.8% overall), 35 crystals, 7.5 images/sec.\n",
      "190 images processed, 190 hits (100.0%), 41 indexable (21.6% of hits, 21.6% overall), 41 crystals, 8.5 images/sec.\n",
      "228 images processed, 228 hits (100.0%), 45 indexable (19.7% of hits, 19.7% overall), 45 crystals, 7.6 images/sec.\n",
      "271 images processed, 271 hits (100.0%), 57 indexable (21.0% of hits, 21.0% overall), 57 crystals, 8.2 images/sec.\n",
      "Waiting for the last patterns to be processed...\n",
      "Final: 300 images processed, 300 hits (100.0%), 58 indexable (19.3% of hits, 19.3% overall), 58 crystals.\n",
      "Processing XY pairs:  82%|████████▏ | 256/313 [2:13:30<38:39, 40.69s/it]This is what I understood your unit cell to be:\n",
      "cubic P, right handed.\n",
      "a      b      c            alpha   beta  gamma\n",
      " 11.87  11.87  11.87 A     90.00  90.00  90.00 deg\n",
      "List of indexing methods:\n",
      "   0: xgandalf-nolatt-cell      (xgandalf using cell parameters as prior information)\n",
      "Indexing parameters:\n",
      "                  Check unit cell parameters: on\n",
      "                        Check peak alignment: on\n",
      "                   Refine indexing solutions: off\n",
      " Multi-lattice indexing (\"delete and retry\"): off\n",
      "                              Retry indexing: on\n"
     ]
    },
    {
     "name": "stdout",
     "output_type": "stream",
     "text": [
      "Running for x=-512.6, y=-511.6\n"
     ]
    },
    {
     "name": "stderr",
     "output_type": "stream",
     "text": [
      "26 images processed, 26 hits (100.0%), 6 indexable (23.1% of hits, 23.1% overall), 6 crystals, 4.9 images/sec.\n",
      "68 images processed, 68 hits (100.0%), 12 indexable (17.6% of hits, 17.6% overall), 12 crystals, 8.2 images/sec.\n",
      "99 images processed, 99 hits (100.0%), 14 indexable (14.1% of hits, 14.1% overall), 14 crystals, 5.8 images/sec.\n",
      "144 images processed, 144 hits (100.0%), 17 indexable (11.8% of hits, 11.8% overall), 17 crystals, 8.9 images/sec.\n",
      "176 images processed, 176 hits (100.0%), 19 indexable (10.8% of hits, 10.8% overall), 19 crystals, 6.3 images/sec.\n",
      "218 images processed, 218 hits (100.0%), 25 indexable (11.5% of hits, 11.5% overall), 25 crystals, 8.3 images/sec.\n",
      "255 images processed, 255 hits (100.0%), 30 indexable (11.8% of hits, 11.8% overall), 30 crystals, 7.3 images/sec.\n",
      "Waiting for the last patterns to be processed...\n",
      "Final: 300 images processed, 300 hits (100.0%), 40 indexable (13.3% of hits, 13.3% overall), 40 crystals.\n",
      "Processing XY pairs:  82%|████████▏ | 257/313 [2:14:12<38:16, 41.01s/it]This is what I understood your unit cell to be:\n",
      "cubic P, right handed.\n",
      "a      b      c            alpha   beta  gamma\n",
      " 11.87  11.87  11.87 A     90.00  90.00  90.00 deg\n",
      "List of indexing methods:\n",
      "   0: xgandalf-nolatt-cell      (xgandalf using cell parameters as prior information)\n",
      "Indexing parameters:\n",
      "                  Check unit cell parameters: on\n",
      "                        Check peak alignment: on\n",
      "                   Refine indexing solutions: off\n",
      " Multi-lattice indexing (\"delete and retry\"): off\n",
      "                              Retry indexing: on\n"
     ]
    },
    {
     "name": "stdout",
     "output_type": "stream",
     "text": [
      "Running for x=-512.4, y=-513.4\n"
     ]
    },
    {
     "name": "stderr",
     "output_type": "stream",
     "text": [
      "37 images processed, 37 hits (100.0%), 17 indexable (45.9% of hits, 45.9% overall), 17 crystals, 7.1 images/sec.\n",
      "77 images processed, 77 hits (100.0%), 23 indexable (29.9% of hits, 29.9% overall), 23 crystals, 7.9 images/sec.\n",
      "117 images processed, 117 hits (100.0%), 31 indexable (26.5% of hits, 26.5% overall), 31 crystals, 7.9 images/sec.\n",
      "157 images processed, 157 hits (100.0%), 39 indexable (24.8% of hits, 24.8% overall), 39 crystals, 8.0 images/sec.\n",
      "191 images processed, 191 hits (100.0%), 46 indexable (24.1% of hits, 24.1% overall), 46 crystals, 6.8 images/sec.\n",
      "231 images processed, 231 hits (100.0%), 50 indexable (21.6% of hits, 21.6% overall), 50 crystals, 7.8 images/sec.\n",
      "273 images processed, 273 hits (100.0%), 62 indexable (22.7% of hits, 22.7% overall), 62 crystals, 8.4 images/sec.\n",
      "Waiting for the last patterns to be processed...\n",
      "Final: 300 images processed, 300 hits (100.0%), 70 indexable (23.3% of hits, 23.3% overall), 70 crystals.\n",
      "Processing XY pairs:  82%|████████▏ | 258/313 [2:14:51<37:14, 40.63s/it]This is what I understood your unit cell to be:\n",
      "cubic P, right handed.\n",
      "a      b      c            alpha   beta  gamma\n",
      " 11.87  11.87  11.87 A     90.00  90.00  90.00 deg\n",
      "List of indexing methods:\n",
      "   0: xgandalf-nolatt-cell      (xgandalf using cell parameters as prior information)\n",
      "Indexing parameters:\n",
      "                  Check unit cell parameters: on\n",
      "                        Check peak alignment: on\n",
      "                   Refine indexing solutions: off\n",
      " Multi-lattice indexing (\"delete and retry\"): off\n",
      "                              Retry indexing: on\n"
     ]
    },
    {
     "name": "stdout",
     "output_type": "stream",
     "text": [
      "Running for x=-512.4, y=-511.6\n"
     ]
    },
    {
     "name": "stderr",
     "output_type": "stream",
     "text": [
      "28 images processed, 28 hits (100.0%), 12 indexable (42.9% of hits, 42.9% overall), 12 crystals, 5.3 images/sec.\n",
      "70 images processed, 70 hits (100.0%), 15 indexable (21.4% of hits, 21.4% overall), 15 crystals, 8.3 images/sec.\n",
      "105 images processed, 105 hits (100.0%), 15 indexable (14.3% of hits, 14.3% overall), 15 crystals, 6.8 images/sec.\n",
      "139 images processed, 139 hits (100.0%), 16 indexable (11.5% of hits, 11.5% overall), 16 crystals, 6.6 images/sec.\n",
      "176 images processed, 176 hits (100.0%), 18 indexable (10.2% of hits, 10.2% overall), 18 crystals, 7.4 images/sec.\n",
      "216 images processed, 216 hits (100.0%), 20 indexable (9.3% of hits, 9.3% overall), 20 crystals, 7.4 images/sec.\n",
      "256 images processed, 256 hits (100.0%), 27 indexable (10.5% of hits, 10.5% overall), 27 crystals, 7.9 images/sec.\n",
      "Waiting for the last patterns to be processed...\n",
      "Final: 300 images processed, 300 hits (100.0%), 33 indexable (11.0% of hits, 11.0% overall), 33 crystals.\n",
      "Processing XY pairs:  83%|████████▎ | 259/313 [2:15:33<36:45, 40.84s/it]This is what I understood your unit cell to be:\n",
      "cubic P, right handed.\n",
      "a      b      c            alpha   beta  gamma\n",
      " 11.87  11.87  11.87 A     90.00  90.00  90.00 deg\n",
      "List of indexing methods:\n",
      "   0: xgandalf-nolatt-cell      (xgandalf using cell parameters as prior information)\n",
      "Indexing parameters:\n",
      "                  Check unit cell parameters: on\n",
      "                        Check peak alignment: on\n",
      "                   Refine indexing solutions: off\n",
      " Multi-lattice indexing (\"delete and retry\"): off\n",
      "                              Retry indexing: on\n"
     ]
    },
    {
     "name": "stdout",
     "output_type": "stream",
     "text": [
      "Running for x=-511.6, y=-512.6\n"
     ]
    },
    {
     "name": "stderr",
     "output_type": "stream",
     "text": [
      "37 images processed, 37 hits (100.0%), 24 indexable (64.9% of hits, 64.9% overall), 24 crystals, 7.4 images/sec.\n",
      "74 images processed, 74 hits (100.0%), 38 indexable (51.4% of hits, 51.4% overall), 38 crystals, 7.4 images/sec.\n",
      "110 images processed, 110 hits (100.0%), 49 indexable (44.5% of hits, 44.5% overall), 49 crystals, 7.1 images/sec.\n",
      "150 images processed, 150 hits (100.0%), 58 indexable (38.7% of hits, 38.7% overall), 58 crystals, 7.7 images/sec.\n",
      "186 images processed, 186 hits (100.0%), 65 indexable (34.9% of hits, 34.9% overall), 65 crystals, 7.0 images/sec.\n",
      "225 images processed, 225 hits (100.0%), 69 indexable (30.7% of hits, 30.7% overall), 69 crystals, 7.5 images/sec.\n",
      "257 images processed, 257 hits (100.0%), 74 indexable (28.8% of hits, 28.8% overall), 74 crystals, 6.3 images/sec.\n",
      "Waiting for the last patterns to be processed...\n",
      "Final: 300 images processed, 300 hits (100.0%), 83 indexable (27.7% of hits, 27.7% overall), 83 crystals.\n",
      "Processing XY pairs:  83%|████████▎ | 260/313 [2:16:14<36:10, 40.95s/it]This is what I understood your unit cell to be:\n",
      "cubic P, right handed.\n",
      "a      b      c            alpha   beta  gamma\n",
      " 11.87  11.87  11.87 A     90.00  90.00  90.00 deg\n",
      "List of indexing methods:\n",
      "   0: xgandalf-nolatt-cell      (xgandalf using cell parameters as prior information)\n",
      "Indexing parameters:\n",
      "                  Check unit cell parameters: on\n",
      "                        Check peak alignment: on\n",
      "                   Refine indexing solutions: off\n",
      " Multi-lattice indexing (\"delete and retry\"): off\n",
      "                              Retry indexing: on\n"
     ]
    },
    {
     "name": "stdout",
     "output_type": "stream",
     "text": [
      "Running for x=-511.6, y=-512.4\n"
     ]
    },
    {
     "name": "stderr",
     "output_type": "stream",
     "text": [
      "39 images processed, 39 hits (100.0%), 27 indexable (69.2% of hits, 69.2% overall), 27 crystals, 7.4 images/sec.\n",
      "72 images processed, 72 hits (100.0%), 31 indexable (43.1% of hits, 43.1% overall), 31 crystals, 6.4 images/sec.\n",
      "111 images processed, 111 hits (100.0%), 32 indexable (28.8% of hits, 28.8% overall), 32 crystals, 7.5 images/sec.\n",
      "148 images processed, 148 hits (100.0%), 34 indexable (23.0% of hits, 23.0% overall), 34 crystals, 7.3 images/sec.\n",
      "188 images processed, 188 hits (100.0%), 36 indexable (19.1% of hits, 19.1% overall), 36 crystals, 8.0 images/sec.\n",
      "225 images processed, 225 hits (100.0%), 39 indexable (17.3% of hits, 17.3% overall), 39 crystals, 7.3 images/sec.\n",
      "260 images processed, 260 hits (100.0%), 45 indexable (17.3% of hits, 17.3% overall), 45 crystals, 6.6 images/sec.\n",
      "Waiting for the last patterns to be processed...\n",
      "Final: 300 images processed, 300 hits (100.0%), 57 indexable (19.0% of hits, 19.0% overall), 57 crystals.\n",
      "Processing XY pairs:  83%|████████▎ | 261/313 [2:16:54<35:17, 40.73s/it]This is what I understood your unit cell to be:\n",
      "cubic P, right handed.\n",
      "a      b      c            alpha   beta  gamma\n",
      " 11.87  11.87  11.87 A     90.00  90.00  90.00 deg\n",
      "List of indexing methods:\n",
      "   0: xgandalf-nolatt-cell      (xgandalf using cell parameters as prior information)\n",
      "Indexing parameters:\n",
      "                  Check unit cell parameters: on\n",
      "                        Check peak alignment: on\n",
      "                   Refine indexing solutions: off\n",
      " Multi-lattice indexing (\"delete and retry\"): off\n",
      "                              Retry indexing: on\n"
     ]
    },
    {
     "name": "stdout",
     "output_type": "stream",
     "text": [
      "Running for x=-513.4, y=-512.7\n"
     ]
    },
    {
     "name": "stderr",
     "output_type": "stream",
     "text": [
      "33 images processed, 33 hits (100.0%), 21 indexable (63.6% of hits, 63.6% overall), 21 crystals, 6.5 images/sec.\n",
      "70 images processed, 70 hits (100.0%), 25 indexable (35.7% of hits, 35.7% overall), 25 crystals, 7.2 images/sec.\n",
      "106 images processed, 106 hits (100.0%), 29 indexable (27.4% of hits, 27.4% overall), 29 crystals, 6.7 images/sec.\n",
      "147 images processed, 147 hits (100.0%), 31 indexable (21.1% of hits, 21.1% overall), 31 crystals, 7.6 images/sec.\n",
      "184 images processed, 184 hits (100.0%), 37 indexable (20.1% of hits, 20.1% overall), 37 crystals, 7.3 images/sec.\n",
      "222 images processed, 222 hits (100.0%), 41 indexable (18.5% of hits, 18.5% overall), 41 crystals, 7.5 images/sec.\n",
      "255 images processed, 255 hits (100.0%), 45 indexable (17.6% of hits, 17.6% overall), 45 crystals, 6.4 images/sec.\n",
      "Waiting for the last patterns to be processed...\n",
      "Final: 300 images processed, 300 hits (100.0%), 57 indexable (19.0% of hits, 19.0% overall), 57 crystals.\n",
      "Processing XY pairs:  84%|████████▎ | 262/313 [2:17:36<34:59, 41.17s/it]This is what I understood your unit cell to be:\n",
      "cubic P, right handed.\n",
      "a      b      c            alpha   beta  gamma\n",
      " 11.87  11.87  11.87 A     90.00  90.00  90.00 deg\n",
      "List of indexing methods:\n",
      "   0: xgandalf-nolatt-cell      (xgandalf using cell parameters as prior information)\n",
      "Indexing parameters:\n",
      "                  Check unit cell parameters: on\n",
      "                        Check peak alignment: on\n",
      "                   Refine indexing solutions: off\n",
      " Multi-lattice indexing (\"delete and retry\"): off\n",
      "                              Retry indexing: on\n"
     ]
    },
    {
     "name": "stdout",
     "output_type": "stream",
     "text": [
      "Running for x=-513.4, y=-512.3\n"
     ]
    },
    {
     "name": "stderr",
     "output_type": "stream",
     "text": [
      "31 images processed, 31 hits (100.0%), 19 indexable (61.3% of hits, 61.3% overall), 19 crystals, 6.1 images/sec.\n",
      "69 images processed, 69 hits (100.0%), 22 indexable (31.9% of hits, 31.9% overall), 22 crystals, 7.6 images/sec.\n",
      "96 images processed, 96 hits (100.0%), 26 indexable (27.1% of hits, 27.1% overall), 26 crystals, 5.4 images/sec.\n",
      "138 images processed, 138 hits (100.0%), 27 indexable (19.6% of hits, 19.6% overall), 27 crystals, 8.1 images/sec.\n",
      "173 images processed, 173 hits (100.0%), 29 indexable (16.8% of hits, 16.8% overall), 29 crystals, 6.6 images/sec.\n",
      "215 images processed, 215 hits (100.0%), 30 indexable (14.0% of hits, 14.0% overall), 30 crystals, 8.1 images/sec.\n",
      "253 images processed, 253 hits (100.0%), 38 indexable (15.0% of hits, 15.0% overall), 38 crystals, 7.4 images/sec.\n",
      "Waiting for the last patterns to be processed...\n",
      "299 images processed, 299 hits (100.0%), 50 indexable (16.7% of hits, 16.7% overall), 50 crystals, 9.0 images/sec.\n",
      "Final: 300 images processed, 300 hits (100.0%), 50 indexable (16.7% of hits, 16.7% overall), 50 crystals.\n",
      "Processing XY pairs:  84%|████████▍ | 263/313 [2:18:18<34:30, 41.41s/it]This is what I understood your unit cell to be:\n",
      "cubic P, right handed.\n",
      "a      b      c            alpha   beta  gamma\n",
      " 11.87  11.87  11.87 A     90.00  90.00  90.00 deg\n",
      "List of indexing methods:\n",
      "   0: xgandalf-nolatt-cell      (xgandalf using cell parameters as prior information)\n",
      "Indexing parameters:\n",
      "                  Check unit cell parameters: on\n",
      "                        Check peak alignment: on\n",
      "                   Refine indexing solutions: off\n",
      " Multi-lattice indexing (\"delete and retry\"): off\n",
      "                              Retry indexing: on\n"
     ]
    },
    {
     "name": "stdout",
     "output_type": "stream",
     "text": [
      "Running for x=-512.7, y=-513.4\n"
     ]
    },
    {
     "name": "stderr",
     "output_type": "stream",
     "text": [
      "35 images processed, 35 hits (100.0%), 15 indexable (42.9% of hits, 42.9% overall), 15 crystals, 6.9 images/sec.\n",
      "73 images processed, 73 hits (100.0%), 23 indexable (31.5% of hits, 31.5% overall), 23 crystals, 7.3 images/sec.\n",
      "110 images processed, 110 hits (100.0%), 29 indexable (26.4% of hits, 26.4% overall), 29 crystals, 7.3 images/sec.\n",
      "152 images processed, 152 hits (100.0%), 38 indexable (25.0% of hits, 25.0% overall), 38 crystals, 8.0 images/sec.\n",
      "187 images processed, 187 hits (100.0%), 44 indexable (23.5% of hits, 23.5% overall), 44 crystals, 6.7 images/sec.\n",
      "229 images processed, 229 hits (100.0%), 50 indexable (21.8% of hits, 21.8% overall), 50 crystals, 8.4 images/sec.\n",
      "270 images processed, 270 hits (100.0%), 64 indexable (23.7% of hits, 23.7% overall), 64 crystals, 8.2 images/sec.\n",
      "Waiting for the last patterns to be processed...\n",
      "Final: 300 images processed, 300 hits (100.0%), 70 indexable (23.3% of hits, 23.3% overall), 70 crystals.\n",
      "Processing XY pairs:  84%|████████▍ | 264/313 [2:18:57<33:13, 40.68s/it]This is what I understood your unit cell to be:\n",
      "cubic P, right handed.\n",
      "a      b      c            alpha   beta  gamma\n",
      " 11.87  11.87  11.87 A     90.00  90.00  90.00 deg\n",
      "List of indexing methods:\n",
      "   0: xgandalf-nolatt-cell      (xgandalf using cell parameters as prior information)\n",
      "Indexing parameters:\n",
      "                  Check unit cell parameters: on\n",
      "                        Check peak alignment: on\n",
      "                   Refine indexing solutions: off\n",
      " Multi-lattice indexing (\"delete and retry\"): off\n",
      "                              Retry indexing: on\n"
     ]
    },
    {
     "name": "stdout",
     "output_type": "stream",
     "text": [
      "Running for x=-512.7, y=-511.6\n"
     ]
    },
    {
     "name": "stderr",
     "output_type": "stream",
     "text": [
      "28 images processed, 28 hits (100.0%), 11 indexable (39.3% of hits, 39.3% overall), 11 crystals, 5.5 images/sec.\n",
      "68 images processed, 68 hits (100.0%), 14 indexable (20.6% of hits, 20.6% overall), 14 crystals, 7.9 images/sec.\n",
      "102 images processed, 102 hits (100.0%), 18 indexable (17.6% of hits, 17.6% overall), 18 crystals, 6.6 images/sec.\n",
      "142 images processed, 142 hits (100.0%), 22 indexable (15.5% of hits, 15.5% overall), 22 crystals, 7.9 images/sec.\n",
      "177 images processed, 177 hits (100.0%), 24 indexable (13.6% of hits, 13.6% overall), 24 crystals, 6.8 images/sec.\n",
      "215 images processed, 215 hits (100.0%), 26 indexable (12.1% of hits, 12.1% overall), 26 crystals, 7.5 images/sec.\n",
      "253 images processed, 253 hits (100.0%), 29 indexable (11.5% of hits, 11.5% overall), 29 crystals, 7.3 images/sec.\n",
      "Waiting for the last patterns to be processed...\n",
      "Final: 300 images processed, 300 hits (100.0%), 38 indexable (12.7% of hits, 12.7% overall), 38 crystals.\n",
      "Processing XY pairs:  85%|████████▍ | 265/313 [2:19:39<32:43, 40.90s/it]This is what I understood your unit cell to be:\n",
      "cubic P, right handed.\n",
      "a      b      c            alpha   beta  gamma\n",
      " 11.87  11.87  11.87 A     90.00  90.00  90.00 deg\n",
      "List of indexing methods:\n",
      "   0: xgandalf-nolatt-cell      (xgandalf using cell parameters as prior information)\n",
      "Indexing parameters:\n",
      "                  Check unit cell parameters: on\n",
      "                        Check peak alignment: on\n",
      "                   Refine indexing solutions: off\n",
      " Multi-lattice indexing (\"delete and retry\"): off\n",
      "                              Retry indexing: on\n"
     ]
    },
    {
     "name": "stdout",
     "output_type": "stream",
     "text": [
      "Running for x=-512.3, y=-513.4\n"
     ]
    },
    {
     "name": "stderr",
     "output_type": "stream",
     "text": [
      "36 images processed, 36 hits (100.0%), 17 indexable (47.2% of hits, 47.2% overall), 17 crystals, 6.7 images/sec.\n",
      "74 images processed, 74 hits (100.0%), 23 indexable (31.1% of hits, 31.1% overall), 23 crystals, 7.5 images/sec.\n",
      "111 images processed, 111 hits (100.0%), 32 indexable (28.8% of hits, 28.8% overall), 32 crystals, 7.3 images/sec.\n",
      "152 images processed, 152 hits (100.0%), 37 indexable (24.3% of hits, 24.3% overall), 37 crystals, 8.1 images/sec.\n",
      "190 images processed, 190 hits (100.0%), 44 indexable (23.2% of hits, 23.2% overall), 44 crystals, 7.6 images/sec.\n",
      "229 images processed, 229 hits (100.0%), 47 indexable (20.5% of hits, 20.5% overall), 47 crystals, 7.8 images/sec.\n",
      "275 images processed, 275 hits (100.0%), 62 indexable (22.5% of hits, 22.5% overall), 62 crystals, 9.2 images/sec.\n",
      "Waiting for the last patterns to be processed...\n",
      "Final: 300 images processed, 300 hits (100.0%), 67 indexable (22.3% of hits, 22.3% overall), 67 crystals.\n",
      "Processing XY pairs:  85%|████████▍ | 266/313 [2:20:19<31:47, 40.58s/it]This is what I understood your unit cell to be:\n",
      "cubic P, right handed.\n",
      "a      b      c            alpha   beta  gamma\n",
      " 11.87  11.87  11.87 A     90.00  90.00  90.00 deg\n",
      "List of indexing methods:\n",
      "   0: xgandalf-nolatt-cell      (xgandalf using cell parameters as prior information)\n",
      "Indexing parameters:\n",
      "                  Check unit cell parameters: on\n",
      "                        Check peak alignment: on\n",
      "                   Refine indexing solutions: off\n",
      " Multi-lattice indexing (\"delete and retry\"): off\n",
      "                              Retry indexing: on\n"
     ]
    },
    {
     "name": "stdout",
     "output_type": "stream",
     "text": [
      "Running for x=-512.3, y=-511.6\n"
     ]
    },
    {
     "name": "stderr",
     "output_type": "stream",
     "text": [
      "30 images processed, 30 hits (100.0%), 12 indexable (40.0% of hits, 40.0% overall), 12 crystals, 5.6 images/sec.\n",
      "71 images processed, 71 hits (100.0%), 13 indexable (18.3% of hits, 18.3% overall), 13 crystals, 7.5 images/sec.\n",
      "107 images processed, 107 hits (100.0%), 13 indexable (12.1% of hits, 12.1% overall), 13 crystals, 7.1 images/sec.\n",
      "145 images processed, 145 hits (100.0%), 14 indexable (9.7% of hits, 9.7% overall), 14 crystals, 7.5 images/sec.\n",
      "180 images processed, 180 hits (100.0%), 15 indexable (8.3% of hits, 8.3% overall), 15 crystals, 6.8 images/sec.\n",
      "219 images processed, 219 hits (100.0%), 18 indexable (8.2% of hits, 8.2% overall), 18 crystals, 7.8 images/sec.\n",
      "258 images processed, 258 hits (100.0%), 25 indexable (9.7% of hits, 9.7% overall), 25 crystals, 7.4 images/sec.\n",
      "Waiting for the last patterns to be processed...\n",
      "Final: 300 images processed, 300 hits (100.0%), 31 indexable (10.3% of hits, 10.3% overall), 31 crystals.\n",
      "Processing XY pairs:  85%|████████▌ | 267/313 [2:21:00<31:22, 40.92s/it]This is what I understood your unit cell to be:\n",
      "cubic P, right handed.\n",
      "a      b      c            alpha   beta  gamma\n",
      " 11.87  11.87  11.87 A     90.00  90.00  90.00 deg\n",
      "List of indexing methods:\n",
      "   0: xgandalf-nolatt-cell      (xgandalf using cell parameters as prior information)\n",
      "Indexing parameters:\n",
      "                  Check unit cell parameters: on\n",
      "                        Check peak alignment: on\n",
      "                   Refine indexing solutions: off\n",
      " Multi-lattice indexing (\"delete and retry\"): off\n",
      "                              Retry indexing: on\n"
     ]
    },
    {
     "name": "stdout",
     "output_type": "stream",
     "text": [
      "Running for x=-511.6, y=-512.7\n"
     ]
    },
    {
     "name": "stderr",
     "output_type": "stream",
     "text": [
      "34 images processed, 34 hits (100.0%), 20 indexable (58.8% of hits, 58.8% overall), 20 crystals, 6.8 images/sec.\n",
      "81 images processed, 81 hits (100.0%), 40 indexable (49.4% of hits, 49.4% overall), 40 crystals, 8.9 images/sec.\n",
      "112 images processed, 112 hits (100.0%), 50 indexable (44.6% of hits, 44.6% overall), 50 crystals, 6.2 images/sec.\n",
      "159 images processed, 159 hits (100.0%), 68 indexable (42.8% of hits, 42.8% overall), 68 crystals, 8.8 images/sec.\n",
      "196 images processed, 196 hits (100.0%), 74 indexable (37.8% of hits, 37.8% overall), 74 crystals, 7.3 images/sec.\n",
      "230 images processed, 230 hits (100.0%), 78 indexable (33.9% of hits, 33.9% overall), 78 crystals, 6.6 images/sec.\n",
      "271 images processed, 271 hits (100.0%), 88 indexable (32.5% of hits, 32.5% overall), 88 crystals, 8.0 images/sec.\n",
      "Waiting for the last patterns to be processed...\n",
      "Final: 300 images processed, 300 hits (100.0%), 94 indexable (31.3% of hits, 31.3% overall), 94 crystals.\n",
      "Processing XY pairs:  86%|████████▌ | 268/313 [2:21:40<30:23, 40.53s/it]This is what I understood your unit cell to be:\n",
      "cubic P, right handed.\n",
      "a      b      c            alpha   beta  gamma\n",
      " 11.87  11.87  11.87 A     90.00  90.00  90.00 deg\n",
      "List of indexing methods:\n",
      "   0: xgandalf-nolatt-cell      (xgandalf using cell parameters as prior information)\n",
      "Indexing parameters:\n",
      "                  Check unit cell parameters: on\n",
      "                        Check peak alignment: on\n",
      "                   Refine indexing solutions: off\n",
      " Multi-lattice indexing (\"delete and retry\"): off\n",
      "                              Retry indexing: on\n"
     ]
    },
    {
     "name": "stdout",
     "output_type": "stream",
     "text": [
      "Running for x=-511.6, y=-512.3\n"
     ]
    },
    {
     "name": "stderr",
     "output_type": "stream",
     "text": [
      "37 images processed, 37 hits (100.0%), 20 indexable (54.1% of hits, 54.1% overall), 20 crystals, 7.2 images/sec.\n",
      "71 images processed, 71 hits (100.0%), 23 indexable (32.4% of hits, 32.4% overall), 23 crystals, 6.7 images/sec.\n",
      "109 images processed, 109 hits (100.0%), 25 indexable (22.9% of hits, 22.9% overall), 25 crystals, 7.2 images/sec.\n",
      "145 images processed, 145 hits (100.0%), 27 indexable (18.6% of hits, 18.6% overall), 27 crystals, 7.0 images/sec.\n",
      "183 images processed, 183 hits (100.0%), 28 indexable (15.3% of hits, 15.3% overall), 28 crystals, 7.2 images/sec.\n",
      "218 images processed, 218 hits (100.0%), 29 indexable (13.3% of hits, 13.3% overall), 29 crystals, 6.9 images/sec.\n",
      "253 images processed, 253 hits (100.0%), 33 indexable (13.0% of hits, 13.0% overall), 33 crystals, 6.9 images/sec.\n",
      "Waiting for the last patterns to be processed...\n",
      "297 images processed, 297 hits (100.0%), 42 indexable (14.1% of hits, 14.1% overall), 42 crystals, 8.7 images/sec.\n",
      "Final: 300 images processed, 300 hits (100.0%), 42 indexable (14.0% of hits, 14.0% overall), 42 crystals.\n",
      "Processing XY pairs:  86%|████████▌ | 269/313 [2:22:22<30:05, 41.04s/it]This is what I understood your unit cell to be:\n",
      "cubic P, right handed.\n",
      "a      b      c            alpha   beta  gamma\n",
      " 11.87  11.87  11.87 A     90.00  90.00  90.00 deg\n",
      "List of indexing methods:\n",
      "   0: xgandalf-nolatt-cell      (xgandalf using cell parameters as prior information)\n",
      "Indexing parameters:\n",
      "                  Check unit cell parameters: on\n",
      "                        Check peak alignment: on\n",
      "                   Refine indexing solutions: off\n",
      " Multi-lattice indexing (\"delete and retry\"): off\n",
      "                              Retry indexing: on\n"
     ]
    },
    {
     "name": "stdout",
     "output_type": "stream",
     "text": [
      "Running for x=-513.1, y=-511.8\n"
     ]
    },
    {
     "name": "stderr",
     "output_type": "stream",
     "text": [
      "29 images processed, 29 hits (100.0%), 12 indexable (41.4% of hits, 41.4% overall), 12 crystals, 5.7 images/sec.\n",
      "68 images processed, 68 hits (100.0%), 16 indexable (23.5% of hits, 23.5% overall), 16 crystals, 7.4 images/sec.\n",
      "101 images processed, 101 hits (100.0%), 18 indexable (17.8% of hits, 17.8% overall), 18 crystals, 6.4 images/sec.\n",
      "141 images processed, 141 hits (100.0%), 20 indexable (14.2% of hits, 14.2% overall), 20 crystals, 8.0 images/sec.\n",
      "178 images processed, 178 hits (100.0%), 24 indexable (13.5% of hits, 13.5% overall), 24 crystals, 7.0 images/sec.\n",
      "218 images processed, 218 hits (100.0%), 27 indexable (12.4% of hits, 12.4% overall), 27 crystals, 7.9 images/sec.\n",
      "257 images processed, 257 hits (100.0%), 36 indexable (14.0% of hits, 14.0% overall), 36 crystals, 7.4 images/sec.\n",
      "Waiting for the last patterns to be processed...\n",
      "Final: 300 images processed, 300 hits (100.0%), 45 indexable (15.0% of hits, 15.0% overall), 45 crystals.\n",
      "Processing XY pairs:  86%|████████▋ | 270/313 [2:23:05<29:41, 41.42s/it]This is what I understood your unit cell to be:\n",
      "cubic P, right handed.\n",
      "a      b      c            alpha   beta  gamma\n",
      " 11.87  11.87  11.87 A     90.00  90.00  90.00 deg\n",
      "List of indexing methods:\n",
      "   0: xgandalf-nolatt-cell      (xgandalf using cell parameters as prior information)\n",
      "Indexing parameters:\n",
      "                  Check unit cell parameters: on\n",
      "                        Check peak alignment: on\n",
      "                   Refine indexing solutions: off\n",
      " Multi-lattice indexing (\"delete and retry\"): off\n",
      "                              Retry indexing: on\n"
     ]
    },
    {
     "name": "stdout",
     "output_type": "stream",
     "text": [
      "Running for x=-511.9, y=-511.8\n"
     ]
    },
    {
     "name": "stderr",
     "output_type": "stream",
     "text": [
      "33 images processed, 33 hits (100.0%), 18 indexable (54.5% of hits, 54.5% overall), 18 crystals, 6.4 images/sec.\n",
      "69 images processed, 69 hits (100.0%), 24 indexable (34.8% of hits, 34.8% overall), 24 crystals, 7.2 images/sec.\n",
      "105 images processed, 105 hits (100.0%), 26 indexable (24.8% of hits, 24.8% overall), 26 crystals, 7.0 images/sec.\n",
      "142 images processed, 142 hits (100.0%), 28 indexable (19.7% of hits, 19.7% overall), 28 crystals, 7.1 images/sec.\n",
      "179 images processed, 179 hits (100.0%), 32 indexable (17.9% of hits, 17.9% overall), 32 crystals, 7.2 images/sec.\n",
      "217 images processed, 217 hits (100.0%), 35 indexable (16.1% of hits, 16.1% overall), 35 crystals, 7.6 images/sec.\n",
      "257 images processed, 257 hits (100.0%), 44 indexable (17.1% of hits, 17.1% overall), 44 crystals, 7.6 images/sec.\n",
      "Waiting for the last patterns to be processed...\n",
      "Final: 300 images processed, 300 hits (100.0%), 56 indexable (18.7% of hits, 18.7% overall), 56 crystals.\n",
      "Processing XY pairs:  87%|████████▋ | 271/313 [2:23:46<29:00, 41.43s/it]This is what I understood your unit cell to be:\n",
      "cubic P, right handed.\n",
      "a      b      c            alpha   beta  gamma\n",
      " 11.87  11.87  11.87 A     90.00  90.00  90.00 deg\n",
      "List of indexing methods:\n",
      "   0: xgandalf-nolatt-cell      (xgandalf using cell parameters as prior information)\n",
      "Indexing parameters:\n",
      "                  Check unit cell parameters: on\n",
      "                        Check peak alignment: on\n",
      "                   Refine indexing solutions: off\n",
      " Multi-lattice indexing (\"delete and retry\"): off\n",
      "                              Retry indexing: on\n"
     ]
    },
    {
     "name": "stdout",
     "output_type": "stream",
     "text": [
      "Running for x=-511.8, y=-513.1\n"
     ]
    },
    {
     "name": "stderr",
     "output_type": "stream",
     "text": [
      "39 images processed, 39 hits (100.0%), 19 indexable (48.7% of hits, 48.7% overall), 19 crystals, 7.6 images/sec.\n",
      "73 images processed, 73 hits (100.0%), 25 indexable (34.2% of hits, 34.2% overall), 25 crystals, 6.5 images/sec.\n",
      "120 images processed, 120 hits (100.0%), 38 indexable (31.7% of hits, 31.7% overall), 38 crystals, 9.3 images/sec.\n",
      "159 images processed, 159 hits (100.0%), 53 indexable (33.3% of hits, 33.3% overall), 53 crystals, 7.4 images/sec.\n",
      "205 images processed, 205 hits (100.0%), 69 indexable (33.7% of hits, 33.7% overall), 69 crystals, 9.2 images/sec.\n",
      "243 images processed, 243 hits (100.0%), 75 indexable (30.9% of hits, 30.9% overall), 75 crystals, 7.1 images/sec.\n",
      "Waiting for the last patterns to be processed...\n",
      "286 images processed, 286 hits (100.0%), 86 indexable (30.1% of hits, 30.1% overall), 86 crystals, 8.5 images/sec.\n",
      "Final: 300 images processed, 300 hits (100.0%), 89 indexable (29.7% of hits, 29.7% overall), 89 crystals.\n",
      "Processing XY pairs:  87%|████████▋ | 272/313 [2:24:24<27:39, 40.49s/it]This is what I understood your unit cell to be:\n",
      "cubic P, right handed.\n",
      "a      b      c            alpha   beta  gamma\n",
      " 11.87  11.87  11.87 A     90.00  90.00  90.00 deg\n",
      "List of indexing methods:\n",
      "   0: xgandalf-nolatt-cell      (xgandalf using cell parameters as prior information)\n",
      "Indexing parameters:\n",
      "                  Check unit cell parameters: on\n",
      "                        Check peak alignment: on\n",
      "                   Refine indexing solutions: off\n",
      " Multi-lattice indexing (\"delete and retry\"): off\n",
      "                              Retry indexing: on\n"
     ]
    },
    {
     "name": "stdout",
     "output_type": "stream",
     "text": [
      "Running for x=-511.8, y=-511.9\n"
     ]
    },
    {
     "name": "stderr",
     "output_type": "stream",
     "text": [
      "38 images processed, 38 hits (100.0%), 20 indexable (52.6% of hits, 52.6% overall), 20 crystals, 7.4 images/sec.\n",
      "73 images processed, 73 hits (100.0%), 22 indexable (30.1% of hits, 30.1% overall), 22 crystals, 7.0 images/sec.\n",
      "107 images processed, 107 hits (100.0%), 22 indexable (20.6% of hits, 20.6% overall), 22 crystals, 6.7 images/sec.\n",
      "144 images processed, 144 hits (100.0%), 24 indexable (16.7% of hits, 16.7% overall), 24 crystals, 7.3 images/sec.\n",
      "182 images processed, 182 hits (100.0%), 28 indexable (15.4% of hits, 15.4% overall), 28 crystals, 7.2 images/sec.\n",
      "222 images processed, 222 hits (100.0%), 32 indexable (14.4% of hits, 14.4% overall), 32 crystals, 7.9 images/sec.\n",
      "260 images processed, 260 hits (100.0%), 42 indexable (16.2% of hits, 16.2% overall), 42 crystals, 7.4 images/sec.\n",
      "Waiting for the last patterns to be processed...\n",
      "Final: 300 images processed, 300 hits (100.0%), 56 indexable (18.7% of hits, 18.7% overall), 56 crystals.\n",
      "Processing XY pairs:  87%|████████▋ | 273/313 [2:25:05<26:59, 40.48s/it]This is what I understood your unit cell to be:\n",
      "cubic P, right handed.\n",
      "a      b      c            alpha   beta  gamma\n",
      " 11.87  11.87  11.87 A     90.00  90.00  90.00 deg\n",
      "List of indexing methods:\n",
      "   0: xgandalf-nolatt-cell      (xgandalf using cell parameters as prior information)\n",
      "Indexing parameters:\n",
      "                  Check unit cell parameters: on\n",
      "                        Check peak alignment: on\n",
      "                   Refine indexing solutions: off\n",
      " Multi-lattice indexing (\"delete and retry\"): off\n",
      "                              Retry indexing: on\n"
     ]
    },
    {
     "name": "stdout",
     "output_type": "stream",
     "text": [
      "Running for x=-513.2, y=-513.1\n"
     ]
    },
    {
     "name": "stderr",
     "output_type": "stream",
     "text": [
      "41 images processed, 41 hits (100.0%), 29 indexable (70.7% of hits, 70.7% overall), 29 crystals, 7.9 images/sec.\n",
      "83 images processed, 83 hits (100.0%), 47 indexable (56.6% of hits, 56.6% overall), 47 crystals, 8.2 images/sec.\n",
      "130 images processed, 130 hits (100.0%), 70 indexable (53.8% of hits, 53.8% overall), 70 crystals, 9.1 images/sec.\n",
      "172 images processed, 172 hits (100.0%), 86 indexable (50.0% of hits, 50.0% overall), 86 crystals, 8.4 images/sec.\n",
      "217 images processed, 217 hits (100.0%), 101 indexable (46.5% of hits, 46.5% overall), 101 crystals, 8.5 images/sec.\n",
      "256 images processed, 256 hits (100.0%), 110 indexable (43.0% of hits, 43.0% overall), 110 crystals, 7.7 images/sec.\n",
      "Waiting for the last patterns to be processed...\n",
      "Final: 300 images processed, 300 hits (100.0%), 122 indexable (40.7% of hits, 40.7% overall), 122 crystals.\n",
      "Processing XY pairs:  88%|████████▊ | 274/313 [2:25:41<25:31, 39.27s/it]This is what I understood your unit cell to be:\n",
      "cubic P, right handed.\n",
      "a      b      c            alpha   beta  gamma\n",
      " 11.87  11.87  11.87 A     90.00  90.00  90.00 deg\n",
      "List of indexing methods:\n",
      "   0: xgandalf-nolatt-cell      (xgandalf using cell parameters as prior information)\n",
      "Indexing parameters:\n",
      "                  Check unit cell parameters: on\n",
      "                        Check peak alignment: on\n",
      "                   Refine indexing solutions: off\n",
      " Multi-lattice indexing (\"delete and retry\"): off\n",
      "                              Retry indexing: on\n"
     ]
    },
    {
     "name": "stdout",
     "output_type": "stream",
     "text": [
      "Running for x=-513.2, y=-511.9\n"
     ]
    },
    {
     "name": "stderr",
     "output_type": "stream",
     "text": [
      "30 images processed, 30 hits (100.0%), 16 indexable (53.3% of hits, 53.3% overall), 16 crystals, 5.8 images/sec.\n",
      "71 images processed, 71 hits (100.0%), 18 indexable (25.4% of hits, 25.4% overall), 18 crystals, 7.6 images/sec.\n",
      "105 images processed, 105 hits (100.0%), 23 indexable (21.9% of hits, 21.9% overall), 23 crystals, 6.8 images/sec.\n",
      "146 images processed, 146 hits (100.0%), 24 indexable (16.4% of hits, 16.4% overall), 24 crystals, 8.1 images/sec.\n",
      "183 images processed, 183 hits (100.0%), 29 indexable (15.8% of hits, 15.8% overall), 29 crystals, 7.0 images/sec.\n",
      "223 images processed, 223 hits (100.0%), 31 indexable (13.9% of hits, 13.9% overall), 31 crystals, 7.8 images/sec.\n",
      "259 images processed, 259 hits (100.0%), 37 indexable (14.3% of hits, 14.3% overall), 37 crystals, 7.2 images/sec.\n",
      "Waiting for the last patterns to be processed...\n",
      "Final: 300 images processed, 300 hits (100.0%), 47 indexable (15.7% of hits, 15.7% overall), 47 crystals.\n",
      "Processing XY pairs:  88%|████████▊ | 275/313 [2:26:24<25:29, 40.24s/it]This is what I understood your unit cell to be:\n",
      "cubic P, right handed.\n",
      "a      b      c            alpha   beta  gamma\n",
      " 11.87  11.87  11.87 A     90.00  90.00  90.00 deg\n",
      "List of indexing methods:\n",
      "   0: xgandalf-nolatt-cell      (xgandalf using cell parameters as prior information)\n",
      "Indexing parameters:\n",
      "                  Check unit cell parameters: on\n",
      "                        Check peak alignment: on\n",
      "                   Refine indexing solutions: off\n",
      " Multi-lattice indexing (\"delete and retry\"): off\n",
      "                              Retry indexing: on\n"
     ]
    },
    {
     "name": "stdout",
     "output_type": "stream",
     "text": [
      "Running for x=-513.1, y=-513.2\n"
     ]
    },
    {
     "name": "stderr",
     "output_type": "stream",
     "text": [
      "38 images processed, 38 hits (100.0%), 23 indexable (60.5% of hits, 60.5% overall), 23 crystals, 7.2 images/sec.\n",
      "84 images processed, 84 hits (100.0%), 44 indexable (52.4% of hits, 52.4% overall), 44 crystals, 9.1 images/sec.\n",
      "128 images processed, 128 hits (100.0%), 66 indexable (51.6% of hits, 51.6% overall), 66 crystals, 8.6 images/sec.\n",
      "174 images processed, 174 hits (100.0%), 85 indexable (48.9% of hits, 48.9% overall), 85 crystals, 9.1 images/sec.\n",
      "222 images processed, 222 hits (100.0%), 109 indexable (49.1% of hits, 49.1% overall), 109 crystals, 9.3 images/sec.\n",
      "261 images processed, 261 hits (100.0%), 122 indexable (46.7% of hits, 46.7% overall), 122 crystals, 7.6 images/sec.\n",
      "Waiting for the last patterns to be processed...\n",
      "Final: 300 images processed, 300 hits (100.0%), 135 indexable (45.0% of hits, 45.0% overall), 135 crystals.\n",
      "Processing XY pairs:  88%|████████▊ | 276/313 [2:26:59<23:58, 38.89s/it]This is what I understood your unit cell to be:\n",
      "cubic P, right handed.\n",
      "a      b      c            alpha   beta  gamma\n",
      " 11.87  11.87  11.87 A     90.00  90.00  90.00 deg\n",
      "List of indexing methods:\n",
      "   0: xgandalf-nolatt-cell      (xgandalf using cell parameters as prior information)\n",
      "Indexing parameters:\n",
      "                  Check unit cell parameters: on\n",
      "                        Check peak alignment: on\n",
      "                   Refine indexing solutions: off\n",
      " Multi-lattice indexing (\"delete and retry\"): off\n",
      "                              Retry indexing: on\n"
     ]
    },
    {
     "name": "stdout",
     "output_type": "stream",
     "text": [
      "Running for x=-511.9, y=-513.2\n"
     ]
    },
    {
     "name": "stderr",
     "output_type": "stream",
     "text": [
      "45 images processed, 45 hits (100.0%), 25 indexable (55.6% of hits, 55.6% overall), 25 crystals, 8.8 images/sec.\n",
      "81 images processed, 81 hits (100.0%), 32 indexable (39.5% of hits, 39.5% overall), 32 crystals, 6.8 images/sec.\n",
      "132 images processed, 132 hits (100.0%), 50 indexable (37.9% of hits, 37.9% overall), 50 crystals, 9.4 images/sec.\n",
      "167 images processed, 167 hits (100.0%), 59 indexable (35.3% of hits, 35.3% overall), 59 crystals, 6.9 images/sec.\n",
      "212 images processed, 212 hits (100.0%), 71 indexable (33.5% of hits, 33.5% overall), 71 crystals, 8.5 images/sec.\n",
      "251 images processed, 251 hits (100.0%), 85 indexable (33.9% of hits, 33.9% overall), 85 crystals, 7.7 images/sec.\n",
      "Waiting for the last patterns to be processed...\n",
      "294 images processed, 294 hits (100.0%), 94 indexable (32.0% of hits, 32.0% overall), 94 crystals, 8.4 images/sec.\n",
      "Final: 300 images processed, 300 hits (100.0%), 96 indexable (32.0% of hits, 32.0% overall), 96 crystals.\n",
      "Processing XY pairs:  88%|████████▊ | 277/313 [2:27:37<23:10, 38.62s/it]This is what I understood your unit cell to be:\n",
      "cubic P, right handed.\n",
      "a      b      c            alpha   beta  gamma\n",
      " 11.87  11.87  11.87 A     90.00  90.00  90.00 deg\n",
      "List of indexing methods:\n",
      "   0: xgandalf-nolatt-cell      (xgandalf using cell parameters as prior information)\n",
      "Indexing parameters:\n",
      "                  Check unit cell parameters: on\n",
      "                        Check peak alignment: on\n",
      "                   Refine indexing solutions: off\n",
      " Multi-lattice indexing (\"delete and retry\"): off\n",
      "                              Retry indexing: on\n"
     ]
    },
    {
     "name": "stdout",
     "output_type": "stream",
     "text": [
      "Running for x=-513.3, y=-513.0\n"
     ]
    },
    {
     "name": "stderr",
     "output_type": "stream",
     "text": [
      "37 images processed, 37 hits (100.0%), 24 indexable (64.9% of hits, 64.9% overall), 24 crystals, 7.3 images/sec.\n",
      "76 images processed, 76 hits (100.0%), 38 indexable (50.0% of hits, 50.0% overall), 38 crystals, 7.7 images/sec.\n",
      "113 images processed, 113 hits (100.0%), 48 indexable (42.5% of hits, 42.5% overall), 48 crystals, 7.4 images/sec.\n",
      "155 images processed, 155 hits (100.0%), 56 indexable (36.1% of hits, 36.1% overall), 56 crystals, 8.2 images/sec.\n",
      "192 images processed, 192 hits (100.0%), 64 indexable (33.3% of hits, 33.3% overall), 64 crystals, 7.3 images/sec.\n",
      "230 images processed, 230 hits (100.0%), 69 indexable (30.0% of hits, 30.0% overall), 69 crystals, 7.5 images/sec.\n",
      "265 images processed, 265 hits (100.0%), 76 indexable (28.7% of hits, 28.7% overall), 76 crystals, 6.9 images/sec.\n",
      "Waiting for the last patterns to be processed...\n",
      "Final: 300 images processed, 300 hits (100.0%), 78 indexable (26.0% of hits, 26.0% overall), 78 crystals.\n",
      "Processing XY pairs:  89%|████████▉ | 278/313 [2:28:17<22:43, 38.97s/it]This is what I understood your unit cell to be:\n",
      "cubic P, right handed.\n",
      "a      b      c            alpha   beta  gamma\n",
      " 11.87  11.87  11.87 A     90.00  90.00  90.00 deg\n",
      "List of indexing methods:\n",
      "   0: xgandalf-nolatt-cell      (xgandalf using cell parameters as prior information)\n",
      "Indexing parameters:\n",
      "                  Check unit cell parameters: on\n",
      "                        Check peak alignment: on\n",
      "                   Refine indexing solutions: off\n",
      " Multi-lattice indexing (\"delete and retry\"): off\n",
      "                              Retry indexing: on\n"
     ]
    },
    {
     "name": "stdout",
     "output_type": "stream",
     "text": [
      "Running for x=-513.3, y=-512.0\n"
     ]
    },
    {
     "name": "stderr",
     "output_type": "stream",
     "text": [
      "31 images processed, 31 hits (100.0%), 15 indexable (48.4% of hits, 48.4% overall), 15 crystals, 5.9 images/sec.\n",
      "70 images processed, 70 hits (100.0%), 16 indexable (22.9% of hits, 22.9% overall), 16 crystals, 7.6 images/sec.\n",
      "104 images processed, 104 hits (100.0%), 18 indexable (17.3% of hits, 17.3% overall), 18 crystals, 6.8 images/sec.\n",
      "144 images processed, 144 hits (100.0%), 22 indexable (15.3% of hits, 15.3% overall), 22 crystals, 7.9 images/sec.\n",
      "177 images processed, 177 hits (100.0%), 23 indexable (13.0% of hits, 13.0% overall), 23 crystals, 6.4 images/sec.\n",
      "218 images processed, 218 hits (100.0%), 26 indexable (11.9% of hits, 11.9% overall), 26 crystals, 7.7 images/sec.\n",
      "257 images processed, 257 hits (100.0%), 32 indexable (12.5% of hits, 12.5% overall), 32 crystals, 7.2 images/sec.\n",
      "Waiting for the last patterns to be processed...\n",
      "Final: 300 images processed, 300 hits (100.0%), 45 indexable (15.0% of hits, 15.0% overall), 45 crystals.\n",
      "Processing XY pairs:  89%|████████▉ | 279/313 [2:28:59<22:32, 39.77s/it]This is what I understood your unit cell to be:\n",
      "cubic P, right handed.\n",
      "a      b      c            alpha   beta  gamma\n",
      " 11.87  11.87  11.87 A     90.00  90.00  90.00 deg\n",
      "List of indexing methods:\n",
      "   0: xgandalf-nolatt-cell      (xgandalf using cell parameters as prior information)\n",
      "Indexing parameters:\n",
      "                  Check unit cell parameters: on\n",
      "                        Check peak alignment: on\n",
      "                   Refine indexing solutions: off\n",
      " Multi-lattice indexing (\"delete and retry\"): off\n",
      "                              Retry indexing: on\n"
     ]
    },
    {
     "name": "stdout",
     "output_type": "stream",
     "text": [
      "Running for x=-513.0, y=-513.3\n"
     ]
    },
    {
     "name": "stderr",
     "output_type": "stream",
     "text": [
      "36 images processed, 36 hits (100.0%), 23 indexable (63.9% of hits, 63.9% overall), 23 crystals, 7.2 images/sec.\n",
      "80 images processed, 80 hits (100.0%), 40 indexable (50.0% of hits, 50.0% overall), 40 crystals, 8.7 images/sec.\n",
      "119 images processed, 119 hits (100.0%), 53 indexable (44.5% of hits, 44.5% overall), 53 crystals, 7.7 images/sec.\n",
      "160 images processed, 160 hits (100.0%), 64 indexable (40.0% of hits, 40.0% overall), 64 crystals, 8.0 images/sec.\n",
      "206 images processed, 206 hits (100.0%), 77 indexable (37.4% of hits, 37.4% overall), 77 crystals, 9.0 images/sec.\n",
      "244 images processed, 244 hits (100.0%), 87 indexable (35.7% of hits, 35.7% overall), 87 crystals, 7.4 images/sec.\n",
      "Waiting for the last patterns to be processed...\n",
      "285 images processed, 285 hits (100.0%), 100 indexable (35.1% of hits, 35.1% overall), 100 crystals, 8.1 images/sec.\n",
      "Final: 300 images processed, 300 hits (100.0%), 101 indexable (33.7% of hits, 33.7% overall), 101 crystals.\n",
      "Processing XY pairs:  89%|████████▉ | 280/313 [2:29:37<21:32, 39.18s/it]This is what I understood your unit cell to be:\n",
      "cubic P, right handed.\n",
      "a      b      c            alpha   beta  gamma\n",
      " 11.87  11.87  11.87 A     90.00  90.00  90.00 deg\n",
      "List of indexing methods:\n",
      "   0: xgandalf-nolatt-cell      (xgandalf using cell parameters as prior information)\n",
      "Indexing parameters:\n",
      "                  Check unit cell parameters: on\n",
      "                        Check peak alignment: on\n",
      "                   Refine indexing solutions: off\n",
      " Multi-lattice indexing (\"delete and retry\"): off\n",
      "                              Retry indexing: on\n"
     ]
    },
    {
     "name": "stdout",
     "output_type": "stream",
     "text": [
      "Running for x=-512.0, y=-513.3\n"
     ]
    },
    {
     "name": "stderr",
     "output_type": "stream",
     "text": [
      "34 images processed, 34 hits (100.0%), 24 indexable (70.6% of hits, 70.6% overall), 24 crystals, 6.8 images/sec.\n",
      "74 images processed, 74 hits (100.0%), 37 indexable (50.0% of hits, 50.0% overall), 37 crystals, 8.0 images/sec.\n",
      "117 images processed, 117 hits (100.0%), 51 indexable (43.6% of hits, 43.6% overall), 51 crystals, 8.2 images/sec.\n",
      "155 images processed, 155 hits (100.0%), 59 indexable (38.1% of hits, 38.1% overall), 59 crystals, 7.5 images/sec.\n",
      "189 images processed, 189 hits (100.0%), 64 indexable (33.9% of hits, 33.9% overall), 64 crystals, 6.7 images/sec.\n",
      "232 images processed, 232 hits (100.0%), 73 indexable (31.5% of hits, 31.5% overall), 73 crystals, 8.6 images/sec.\n",
      "270 images processed, 270 hits (100.0%), 88 indexable (32.6% of hits, 32.6% overall), 88 crystals, 7.6 images/sec.\n",
      "Waiting for the last patterns to be processed...\n",
      "Final: 300 images processed, 300 hits (100.0%), 98 indexable (32.7% of hits, 32.7% overall), 98 crystals.\n",
      "Processing XY pairs:  90%|████████▉ | 281/313 [2:30:17<21:03, 39.47s/it]This is what I understood your unit cell to be:\n",
      "cubic P, right handed.\n",
      "a      b      c            alpha   beta  gamma\n",
      " 11.87  11.87  11.87 A     90.00  90.00  90.00 deg\n",
      "List of indexing methods:\n",
      "   0: xgandalf-nolatt-cell      (xgandalf using cell parameters as prior information)\n",
      "Indexing parameters:\n",
      "                  Check unit cell parameters: on\n",
      "                        Check peak alignment: on\n",
      "                   Refine indexing solutions: off\n",
      " Multi-lattice indexing (\"delete and retry\"): off\n",
      "                              Retry indexing: on\n"
     ]
    },
    {
     "name": "stdout",
     "output_type": "stream",
     "text": [
      "Running for x=-513.0, y=-511.7\n"
     ]
    },
    {
     "name": "stderr",
     "output_type": "stream",
     "text": [
      "29 images processed, 29 hits (100.0%), 12 indexable (41.4% of hits, 41.4% overall), 12 crystals, 5.5 images/sec.\n",
      "72 images processed, 72 hits (100.0%), 22 indexable (30.6% of hits, 30.6% overall), 22 crystals, 8.3 images/sec.\n",
      "105 images processed, 105 hits (100.0%), 26 indexable (24.8% of hits, 24.8% overall), 26 crystals, 6.6 images/sec.\n",
      "144 images processed, 144 hits (100.0%), 31 indexable (21.5% of hits, 21.5% overall), 31 crystals, 7.7 images/sec.\n",
      "182 images processed, 182 hits (100.0%), 34 indexable (18.7% of hits, 18.7% overall), 34 crystals, 7.4 images/sec.\n",
      "223 images processed, 223 hits (100.0%), 39 indexable (17.5% of hits, 17.5% overall), 39 crystals, 7.7 images/sec.\n",
      "258 images processed, 258 hits (100.0%), 46 indexable (17.8% of hits, 17.8% overall), 46 crystals, 7.0 images/sec.\n",
      "Waiting for the last patterns to be processed...\n",
      "Final: 300 images processed, 300 hits (100.0%), 52 indexable (17.3% of hits, 17.3% overall), 52 crystals.\n",
      "Processing XY pairs:  90%|█████████ | 282/313 [2:30:58<20:38, 39.94s/it]This is what I understood your unit cell to be:\n",
      "cubic P, right handed.\n",
      "a      b      c            alpha   beta  gamma\n",
      " 11.87  11.87  11.87 A     90.00  90.00  90.00 deg\n",
      "List of indexing methods:\n",
      "   0: xgandalf-nolatt-cell      (xgandalf using cell parameters as prior information)\n",
      "Indexing parameters:\n",
      "                  Check unit cell parameters: on\n",
      "                        Check peak alignment: on\n",
      "                   Refine indexing solutions: off\n",
      " Multi-lattice indexing (\"delete and retry\"): off\n",
      "                              Retry indexing: on\n"
     ]
    },
    {
     "name": "stdout",
     "output_type": "stream",
     "text": [
      "Running for x=-512.0, y=-511.7\n"
     ]
    },
    {
     "name": "stderr",
     "output_type": "stream",
     "text": [
      "30 images processed, 30 hits (100.0%), 14 indexable (46.7% of hits, 46.7% overall), 14 crystals, 6.0 images/sec.\n",
      "70 images processed, 70 hits (100.0%), 19 indexable (27.1% of hits, 27.1% overall), 19 crystals, 7.7 images/sec.\n",
      "105 images processed, 105 hits (100.0%), 20 indexable (19.0% of hits, 19.0% overall), 20 crystals, 6.7 images/sec.\n",
      "144 images processed, 144 hits (100.0%), 21 indexable (14.6% of hits, 14.6% overall), 21 crystals, 7.3 images/sec.\n",
      "181 images processed, 181 hits (100.0%), 22 indexable (12.2% of hits, 12.2% overall), 22 crystals, 7.3 images/sec.\n",
      "223 images processed, 223 hits (100.0%), 28 indexable (12.6% of hits, 12.6% overall), 28 crystals, 8.0 images/sec.\n",
      "268 images processed, 268 hits (100.0%), 44 indexable (16.4% of hits, 16.4% overall), 44 crystals, 8.5 images/sec.\n",
      "Waiting for the last patterns to be processed...\n",
      "Final: 300 images processed, 300 hits (100.0%), 54 indexable (18.0% of hits, 18.0% overall), 54 crystals.\n",
      "Processing XY pairs:  90%|█████████ | 283/313 [2:31:38<20:02, 40.07s/it]This is what I understood your unit cell to be:\n",
      "cubic P, right handed.\n",
      "a      b      c            alpha   beta  gamma\n",
      " 11.87  11.87  11.87 A     90.00  90.00  90.00 deg\n",
      "List of indexing methods:\n",
      "   0: xgandalf-nolatt-cell      (xgandalf using cell parameters as prior information)\n",
      "Indexing parameters:\n",
      "                  Check unit cell parameters: on\n",
      "                        Check peak alignment: on\n",
      "                   Refine indexing solutions: off\n",
      " Multi-lattice indexing (\"delete and retry\"): off\n",
      "                              Retry indexing: on\n"
     ]
    },
    {
     "name": "stdout",
     "output_type": "stream",
     "text": [
      "Running for x=-511.7, y=-513.0\n"
     ]
    },
    {
     "name": "stderr",
     "output_type": "stream",
     "text": [
      "36 images processed, 36 hits (100.0%), 20 indexable (55.6% of hits, 55.6% overall), 20 crystals, 7.2 images/sec.\n",
      "73 images processed, 73 hits (100.0%), 29 indexable (39.7% of hits, 39.7% overall), 29 crystals, 7.3 images/sec.\n",
      "116 images processed, 116 hits (100.0%), 43 indexable (37.1% of hits, 37.1% overall), 43 crystals, 8.5 images/sec.\n",
      "162 images processed, 162 hits (100.0%), 60 indexable (37.0% of hits, 37.0% overall), 60 crystals, 8.4 images/sec.\n",
      "204 images processed, 204 hits (100.0%), 67 indexable (32.8% of hits, 32.8% overall), 67 crystals, 8.2 images/sec.\n",
      "239 images processed, 239 hits (100.0%), 73 indexable (30.5% of hits, 30.5% overall), 73 crystals, 7.0 images/sec.\n",
      "Waiting for the last patterns to be processed...\n",
      "282 images processed, 282 hits (100.0%), 84 indexable (29.8% of hits, 29.8% overall), 84 crystals, 8.6 images/sec.\n",
      "Final: 300 images processed, 300 hits (100.0%), 86 indexable (28.7% of hits, 28.7% overall), 86 crystals.\n",
      "Processing XY pairs:  91%|█████████ | 284/313 [2:32:17<19:07, 39.56s/it]This is what I understood your unit cell to be:\n",
      "cubic P, right handed.\n",
      "a      b      c            alpha   beta  gamma\n",
      " 11.87  11.87  11.87 A     90.00  90.00  90.00 deg\n",
      "List of indexing methods:\n",
      "   0: xgandalf-nolatt-cell      (xgandalf using cell parameters as prior information)\n",
      "Indexing parameters:\n",
      "                  Check unit cell parameters: on\n",
      "                        Check peak alignment: on\n",
      "                   Refine indexing solutions: off\n",
      " Multi-lattice indexing (\"delete and retry\"): off\n",
      "                              Retry indexing: on\n"
     ]
    },
    {
     "name": "stdout",
     "output_type": "stream",
     "text": [
      "Running for x=-511.7, y=-512.0\n"
     ]
    },
    {
     "name": "stderr",
     "output_type": "stream",
     "text": [
      "36 images processed, 36 hits (100.0%), 20 indexable (55.6% of hits, 55.6% overall), 20 crystals, 7.2 images/sec.\n",
      "69 images processed, 69 hits (100.0%), 21 indexable (30.4% of hits, 30.4% overall), 21 crystals, 6.5 images/sec.\n",
      "104 images processed, 104 hits (100.0%), 22 indexable (21.2% of hits, 21.2% overall), 22 crystals, 7.0 images/sec.\n",
      "141 images processed, 141 hits (100.0%), 25 indexable (17.7% of hits, 17.7% overall), 25 crystals, 7.3 images/sec.\n",
      "180 images processed, 180 hits (100.0%), 29 indexable (16.1% of hits, 16.1% overall), 29 crystals, 7.4 images/sec.\n",
      "219 images processed, 219 hits (100.0%), 29 indexable (13.2% of hits, 13.2% overall), 29 crystals, 7.3 images/sec.\n",
      "256 images processed, 256 hits (100.0%), 35 indexable (13.7% of hits, 13.7% overall), 35 crystals, 7.3 images/sec.\n",
      "Waiting for the last patterns to be processed...\n",
      "Final: 300 images processed, 300 hits (100.0%), 50 indexable (16.7% of hits, 16.7% overall), 50 crystals.\n",
      "Processing XY pairs:  91%|█████████ | 285/313 [2:32:58<18:41, 40.07s/it]This is what I understood your unit cell to be:\n",
      "cubic P, right handed.\n",
      "a      b      c            alpha   beta  gamma\n",
      " 11.87  11.87  11.87 A     90.00  90.00  90.00 deg\n",
      "List of indexing methods:\n",
      "   0: xgandalf-nolatt-cell      (xgandalf using cell parameters as prior information)\n",
      "Indexing parameters:\n",
      "                  Check unit cell parameters: on\n",
      "                        Check peak alignment: on\n",
      "                   Refine indexing solutions: off\n",
      " Multi-lattice indexing (\"delete and retry\"): off\n",
      "                              Retry indexing: on\n"
     ]
    },
    {
     "name": "stdout",
     "output_type": "stream",
     "text": [
      "Running for x=-513.4, y=-512.8\n"
     ]
    },
    {
     "name": "stderr",
     "output_type": "stream",
     "text": [
      "36 images processed, 36 hits (100.0%), 18 indexable (50.0% of hits, 50.0% overall), 18 crystals, 7.1 images/sec.\n",
      "72 images processed, 72 hits (100.0%), 23 indexable (31.9% of hits, 31.9% overall), 23 crystals, 7.1 images/sec.\n",
      "109 images processed, 109 hits (100.0%), 29 indexable (26.6% of hits, 26.6% overall), 29 crystals, 7.3 images/sec.\n",
      "151 images processed, 151 hits (100.0%), 35 indexable (23.2% of hits, 23.2% overall), 35 crystals, 7.8 images/sec.\n",
      "186 images processed, 186 hits (100.0%), 39 indexable (21.0% of hits, 21.0% overall), 39 crystals, 6.9 images/sec.\n",
      "224 images processed, 224 hits (100.0%), 41 indexable (18.3% of hits, 18.3% overall), 41 crystals, 7.5 images/sec.\n",
      "262 images processed, 262 hits (100.0%), 46 indexable (17.6% of hits, 17.6% overall), 46 crystals, 7.5 images/sec.\n",
      "Waiting for the last patterns to be processed...\n",
      "Final: 300 images processed, 300 hits (100.0%), 56 indexable (18.7% of hits, 18.7% overall), 56 crystals.\n",
      "Processing XY pairs:  91%|█████████▏| 286/313 [2:33:40<18:18, 40.68s/it]This is what I understood your unit cell to be:\n",
      "cubic P, right handed.\n",
      "a      b      c            alpha   beta  gamma\n",
      " 11.87  11.87  11.87 A     90.00  90.00  90.00 deg\n",
      "List of indexing methods:\n",
      "   0: xgandalf-nolatt-cell      (xgandalf using cell parameters as prior information)\n",
      "Indexing parameters:\n",
      "                  Check unit cell parameters: on\n",
      "                        Check peak alignment: on\n",
      "                   Refine indexing solutions: off\n",
      " Multi-lattice indexing (\"delete and retry\"): off\n",
      "                              Retry indexing: on\n"
     ]
    },
    {
     "name": "stdout",
     "output_type": "stream",
     "text": [
      "Running for x=-513.4, y=-512.2\n"
     ]
    },
    {
     "name": "stderr",
     "output_type": "stream",
     "text": [
      "29 images processed, 29 hits (100.0%), 12 indexable (41.4% of hits, 41.4% overall), 12 crystals, 5.8 images/sec.\n",
      "70 images processed, 70 hits (100.0%), 16 indexable (22.9% of hits, 22.9% overall), 16 crystals, 7.8 images/sec.\n",
      "101 images processed, 101 hits (100.0%), 19 indexable (18.8% of hits, 18.8% overall), 19 crystals, 6.2 images/sec.\n",
      "142 images processed, 142 hits (100.0%), 21 indexable (14.8% of hits, 14.8% overall), 21 crystals, 7.5 images/sec.\n",
      "176 images processed, 176 hits (100.0%), 24 indexable (13.6% of hits, 13.6% overall), 24 crystals, 6.7 images/sec.\n",
      "215 images processed, 215 hits (100.0%), 26 indexable (12.1% of hits, 12.1% overall), 26 crystals, 7.3 images/sec.\n",
      "253 images processed, 253 hits (100.0%), 34 indexable (13.4% of hits, 13.4% overall), 34 crystals, 7.3 images/sec.\n",
      "Waiting for the last patterns to be processed...\n",
      "Final: 300 images processed, 300 hits (100.0%), 50 indexable (16.7% of hits, 16.7% overall), 50 crystals.\n",
      "Processing XY pairs:  92%|█████████▏| 287/313 [2:34:22<17:50, 41.16s/it]This is what I understood your unit cell to be:\n",
      "cubic P, right handed.\n",
      "a      b      c            alpha   beta  gamma\n",
      " 11.87  11.87  11.87 A     90.00  90.00  90.00 deg\n",
      "List of indexing methods:\n",
      "   0: xgandalf-nolatt-cell      (xgandalf using cell parameters as prior information)\n",
      "Indexing parameters:\n",
      "                  Check unit cell parameters: on\n",
      "                        Check peak alignment: on\n",
      "                   Refine indexing solutions: off\n",
      " Multi-lattice indexing (\"delete and retry\"): off\n",
      "                              Retry indexing: on\n"
     ]
    },
    {
     "name": "stdout",
     "output_type": "stream",
     "text": [
      "Running for x=-512.8, y=-513.4\n"
     ]
    },
    {
     "name": "stderr",
     "output_type": "stream",
     "text": [
      "36 images processed, 36 hits (100.0%), 16 indexable (44.4% of hits, 44.4% overall), 16 crystals, 6.7 images/sec.\n",
      "73 images processed, 73 hits (100.0%), 22 indexable (30.1% of hits, 30.1% overall), 22 crystals, 7.0 images/sec.\n",
      "110 images processed, 110 hits (100.0%), 28 indexable (25.5% of hits, 25.5% overall), 28 crystals, 7.4 images/sec.\n",
      "153 images processed, 153 hits (100.0%), 35 indexable (22.9% of hits, 22.9% overall), 35 crystals, 8.5 images/sec.\n",
      "188 images processed, 188 hits (100.0%), 41 indexable (21.8% of hits, 21.8% overall), 41 crystals, 6.9 images/sec.\n",
      "229 images processed, 229 hits (100.0%), 45 indexable (19.7% of hits, 19.7% overall), 45 crystals, 7.7 images/sec.\n",
      "Waiting for the last patterns to be processed...\n",
      "279 images processed, 279 hits (100.0%), 68 indexable (24.4% of hits, 24.4% overall), 68 crystals, 9.9 images/sec.\n",
      "Final: 300 images processed, 300 hits (100.0%), 74 indexable (24.7% of hits, 24.7% overall), 74 crystals.\n",
      "Processing XY pairs:  92%|█████████▏| 288/313 [2:35:01<16:51, 40.46s/it]This is what I understood your unit cell to be:\n",
      "cubic P, right handed.\n",
      "a      b      c            alpha   beta  gamma\n",
      " 11.87  11.87  11.87 A     90.00  90.00  90.00 deg\n",
      "List of indexing methods:\n",
      "   0: xgandalf-nolatt-cell      (xgandalf using cell parameters as prior information)\n",
      "Indexing parameters:\n",
      "                  Check unit cell parameters: on\n",
      "                        Check peak alignment: on\n",
      "                   Refine indexing solutions: off\n",
      " Multi-lattice indexing (\"delete and retry\"): off\n",
      "                              Retry indexing: on\n"
     ]
    },
    {
     "name": "stdout",
     "output_type": "stream",
     "text": [
      "Running for x=-512.8, y=-511.6\n"
     ]
    },
    {
     "name": "stderr",
     "output_type": "stream",
     "text": [
      "28 images processed, 28 hits (100.0%), 10 indexable (35.7% of hits, 35.7% overall), 10 crystals, 5.4 images/sec.\n",
      "73 images processed, 73 hits (100.0%), 16 indexable (21.9% of hits, 21.9% overall), 16 crystals, 8.5 images/sec.\n",
      "105 images processed, 105 hits (100.0%), 21 indexable (20.0% of hits, 20.0% overall), 21 crystals, 6.3 images/sec.\n",
      "146 images processed, 146 hits (100.0%), 23 indexable (15.8% of hits, 15.8% overall), 23 crystals, 8.1 images/sec.\n",
      "184 images processed, 184 hits (100.0%), 28 indexable (15.2% of hits, 15.2% overall), 28 crystals, 7.6 images/sec.\n",
      "223 images processed, 223 hits (100.0%), 32 indexable (14.3% of hits, 14.3% overall), 32 crystals, 7.8 images/sec.\n",
      "258 images processed, 258 hits (100.0%), 36 indexable (14.0% of hits, 14.0% overall), 36 crystals, 7.0 images/sec.\n",
      "Waiting for the last patterns to be processed...\n",
      "Final: 300 images processed, 300 hits (100.0%), 43 indexable (14.3% of hits, 14.3% overall), 43 crystals.\n",
      "Processing XY pairs:  92%|█████████▏| 289/313 [2:35:42<16:17, 40.73s/it]This is what I understood your unit cell to be:\n",
      "cubic P, right handed.\n",
      "a      b      c            alpha   beta  gamma\n",
      " 11.87  11.87  11.87 A     90.00  90.00  90.00 deg\n",
      "List of indexing methods:\n",
      "   0: xgandalf-nolatt-cell      (xgandalf using cell parameters as prior information)\n",
      "Indexing parameters:\n",
      "                  Check unit cell parameters: on\n",
      "                        Check peak alignment: on\n",
      "                   Refine indexing solutions: off\n",
      " Multi-lattice indexing (\"delete and retry\"): off\n",
      "                              Retry indexing: on\n"
     ]
    },
    {
     "name": "stdout",
     "output_type": "stream",
     "text": [
      "Running for x=-512.2, y=-513.4\n"
     ]
    },
    {
     "name": "stderr",
     "output_type": "stream",
     "text": [
      "39 images processed, 39 hits (100.0%), 21 indexable (53.8% of hits, 53.8% overall), 21 crystals, 7.7 images/sec.\n",
      "75 images processed, 75 hits (100.0%), 28 indexable (37.3% of hits, 37.3% overall), 28 crystals, 6.9 images/sec.\n",
      "116 images processed, 116 hits (100.0%), 37 indexable (31.9% of hits, 31.9% overall), 37 crystals, 8.0 images/sec.\n",
      "155 images processed, 155 hits (100.0%), 50 indexable (32.3% of hits, 32.3% overall), 50 crystals, 7.6 images/sec.\n",
      "193 images processed, 193 hits (100.0%), 55 indexable (28.5% of hits, 28.5% overall), 55 crystals, 7.5 images/sec.\n",
      "233 images processed, 233 hits (100.0%), 61 indexable (26.2% of hits, 26.2% overall), 61 crystals, 7.9 images/sec.\n",
      "275 images processed, 275 hits (100.0%), 76 indexable (27.6% of hits, 27.6% overall), 76 crystals, 8.3 images/sec.\n",
      "Waiting for the last patterns to be processed...\n",
      "Final: 300 images processed, 300 hits (100.0%), 82 indexable (27.3% of hits, 27.3% overall), 82 crystals.\n",
      "Processing XY pairs:  93%|█████████▎| 290/313 [2:36:22<15:32, 40.53s/it]This is what I understood your unit cell to be:\n",
      "cubic P, right handed.\n",
      "a      b      c            alpha   beta  gamma\n",
      " 11.87  11.87  11.87 A     90.00  90.00  90.00 deg\n",
      "List of indexing methods:\n",
      "   0: xgandalf-nolatt-cell      (xgandalf using cell parameters as prior information)\n",
      "Indexing parameters:\n",
      "                  Check unit cell parameters: on\n",
      "                        Check peak alignment: on\n",
      "                   Refine indexing solutions: off\n",
      " Multi-lattice indexing (\"delete and retry\"): off\n",
      "                              Retry indexing: on\n"
     ]
    },
    {
     "name": "stdout",
     "output_type": "stream",
     "text": [
      "Running for x=-512.2, y=-511.6\n"
     ]
    },
    {
     "name": "stderr",
     "output_type": "stream",
     "text": [
      "27 images processed, 27 hits (100.0%), 6 indexable (22.2% of hits, 22.2% overall), 6 crystals, 5.3 images/sec.\n",
      "67 images processed, 67 hits (100.0%), 8 indexable (11.9% of hits, 11.9% overall), 8 crystals, 7.9 images/sec.\n",
      "98 images processed, 98 hits (100.0%), 8 indexable (8.2% of hits, 8.2% overall), 8 crystals, 6.0 images/sec.\n",
      "139 images processed, 139 hits (100.0%), 9 indexable (6.5% of hits, 6.5% overall), 9 crystals, 8.2 images/sec.\n",
      "172 images processed, 172 hits (100.0%), 10 indexable (5.8% of hits, 5.8% overall), 10 crystals, 6.6 images/sec.\n",
      "209 images processed, 209 hits (100.0%), 11 indexable (5.3% of hits, 5.3% overall), 11 crystals, 7.4 images/sec.\n",
      "252 images processed, 252 hits (100.0%), 23 indexable (9.1% of hits, 9.1% overall), 23 crystals, 8.5 images/sec.\n",
      "Waiting for the last patterns to be processed...\n",
      "291 images processed, 291 hits (100.0%), 28 indexable (9.6% of hits, 9.6% overall), 28 crystals, 7.7 images/sec.\n",
      "Final: 300 images processed, 300 hits (100.0%), 29 indexable (9.7% of hits, 9.7% overall), 29 crystals.\n",
      "Processing XY pairs:  93%|█████████▎| 291/313 [2:37:05<15:01, 41.00s/it]This is what I understood your unit cell to be:\n",
      "cubic P, right handed.\n",
      "a      b      c            alpha   beta  gamma\n",
      " 11.87  11.87  11.87 A     90.00  90.00  90.00 deg\n",
      "List of indexing methods:\n",
      "   0: xgandalf-nolatt-cell      (xgandalf using cell parameters as prior information)\n",
      "Indexing parameters:\n",
      "                  Check unit cell parameters: on\n",
      "                        Check peak alignment: on\n",
      "                   Refine indexing solutions: off\n",
      " Multi-lattice indexing (\"delete and retry\"): off\n",
      "                              Retry indexing: on\n"
     ]
    },
    {
     "name": "stdout",
     "output_type": "stream",
     "text": [
      "Running for x=-511.6, y=-512.8\n"
     ]
    },
    {
     "name": "stderr",
     "output_type": "stream",
     "text": [
      "34 images processed, 34 hits (100.0%), 16 indexable (47.1% of hits, 47.1% overall), 16 crystals, 6.7 images/sec.\n",
      "78 images processed, 78 hits (100.0%), 31 indexable (39.7% of hits, 39.7% overall), 31 crystals, 8.4 images/sec.\n",
      "117 images processed, 117 hits (100.0%), 46 indexable (39.3% of hits, 39.3% overall), 46 crystals, 7.7 images/sec.\n",
      "158 images processed, 158 hits (100.0%), 55 indexable (34.8% of hits, 34.8% overall), 55 crystals, 7.9 images/sec.\n",
      "197 images processed, 197 hits (100.0%), 63 indexable (32.0% of hits, 32.0% overall), 63 crystals, 7.7 images/sec.\n",
      "229 images processed, 229 hits (100.0%), 66 indexable (28.8% of hits, 28.8% overall), 66 crystals, 6.3 images/sec.\n",
      "272 images processed, 272 hits (100.0%), 71 indexable (26.1% of hits, 26.1% overall), 71 crystals, 8.5 images/sec.\n",
      "Waiting for the last patterns to be processed...\n",
      "Final: 300 images processed, 300 hits (100.0%), 74 indexable (24.7% of hits, 24.7% overall), 74 crystals.\n",
      "Processing XY pairs:  93%|█████████▎| 292/313 [2:37:44<14:13, 40.63s/it]This is what I understood your unit cell to be:\n",
      "cubic P, right handed.\n",
      "a      b      c            alpha   beta  gamma\n",
      " 11.87  11.87  11.87 A     90.00  90.00  90.00 deg\n",
      "List of indexing methods:\n",
      "   0: xgandalf-nolatt-cell      (xgandalf using cell parameters as prior information)\n",
      "Indexing parameters:\n",
      "                  Check unit cell parameters: on\n",
      "                        Check peak alignment: on\n",
      "                   Refine indexing solutions: off\n",
      " Multi-lattice indexing (\"delete and retry\"): off\n",
      "                              Retry indexing: on\n"
     ]
    },
    {
     "name": "stdout",
     "output_type": "stream",
     "text": [
      "Running for x=-511.6, y=-512.2\n"
     ]
    },
    {
     "name": "stderr",
     "output_type": "stream",
     "text": [
      "33 images processed, 33 hits (100.0%), 18 indexable (54.5% of hits, 54.5% overall), 18 crystals, 6.6 images/sec.\n",
      "69 images processed, 69 hits (100.0%), 21 indexable (30.4% of hits, 30.4% overall), 21 crystals, 7.1 images/sec.\n",
      "105 images processed, 105 hits (100.0%), 23 indexable (21.9% of hits, 21.9% overall), 23 crystals, 7.1 images/sec.\n",
      "140 images processed, 140 hits (100.0%), 24 indexable (17.1% of hits, 17.1% overall), 24 crystals, 6.8 images/sec.\n",
      "178 images processed, 178 hits (100.0%), 25 indexable (14.0% of hits, 14.0% overall), 25 crystals, 7.3 images/sec.\n",
      "215 images processed, 215 hits (100.0%), 26 indexable (12.1% of hits, 12.1% overall), 26 crystals, 7.2 images/sec.\n",
      "253 images processed, 253 hits (100.0%), 33 indexable (13.0% of hits, 13.0% overall), 33 crystals, 7.0 images/sec.\n",
      "Waiting for the last patterns to be processed...\n",
      "Final: 300 images processed, 300 hits (100.0%), 47 indexable (15.7% of hits, 15.7% overall), 47 crystals.\n",
      "Processing XY pairs:  94%|█████████▎| 293/313 [2:38:26<13:40, 41.02s/it]This is what I understood your unit cell to be:\n",
      "cubic P, right handed.\n",
      "a      b      c            alpha   beta  gamma\n",
      " 11.87  11.87  11.87 A     90.00  90.00  90.00 deg\n",
      "List of indexing methods:\n",
      "   0: xgandalf-nolatt-cell      (xgandalf using cell parameters as prior information)\n",
      "Indexing parameters:\n",
      "                  Check unit cell parameters: on\n",
      "                        Check peak alignment: on\n",
      "                   Refine indexing solutions: off\n",
      " Multi-lattice indexing (\"delete and retry\"): off\n",
      "                              Retry indexing: on\n"
     ]
    },
    {
     "name": "stdout",
     "output_type": "stream",
     "text": [
      "Running for x=-513.4, y=-512.9\n"
     ]
    },
    {
     "name": "stderr",
     "output_type": "stream",
     "text": [
      "31 images processed, 31 hits (100.0%), 14 indexable (45.2% of hits, 45.2% overall), 14 crystals, 5.9 images/sec.\n",
      "73 images processed, 73 hits (100.0%), 19 indexable (26.0% of hits, 26.0% overall), 19 crystals, 8.0 images/sec.\n",
      "105 images processed, 105 hits (100.0%), 23 indexable (21.9% of hits, 21.9% overall), 23 crystals, 6.4 images/sec.\n",
      "148 images processed, 148 hits (100.0%), 29 indexable (19.6% of hits, 19.6% overall), 29 crystals, 8.0 images/sec.\n",
      "185 images processed, 185 hits (100.0%), 32 indexable (17.3% of hits, 17.3% overall), 32 crystals, 7.4 images/sec.\n",
      "225 images processed, 225 hits (100.0%), 38 indexable (16.9% of hits, 16.9% overall), 38 crystals, 7.9 images/sec.\n",
      "263 images processed, 263 hits (100.0%), 48 indexable (18.3% of hits, 18.3% overall), 48 crystals, 7.4 images/sec.\n",
      "Waiting for the last patterns to be processed...\n",
      "Final: 300 images processed, 300 hits (100.0%), 54 indexable (18.0% of hits, 18.0% overall), 54 crystals.\n",
      "Processing XY pairs:  94%|█████████▍| 294/313 [2:39:08<13:05, 41.35s/it]This is what I understood your unit cell to be:\n",
      "cubic P, right handed.\n",
      "a      b      c            alpha   beta  gamma\n",
      " 11.87  11.87  11.87 A     90.00  90.00  90.00 deg\n",
      "List of indexing methods:\n",
      "   0: xgandalf-nolatt-cell      (xgandalf using cell parameters as prior information)\n",
      "Indexing parameters:\n",
      "                  Check unit cell parameters: on\n",
      "                        Check peak alignment: on\n",
      "                   Refine indexing solutions: off\n",
      " Multi-lattice indexing (\"delete and retry\"): off\n",
      "                              Retry indexing: on\n"
     ]
    },
    {
     "name": "stdout",
     "output_type": "stream",
     "text": [
      "Running for x=-513.4, y=-512.1\n"
     ]
    },
    {
     "name": "stderr",
     "output_type": "stream",
     "text": [
      "31 images processed, 31 hits (100.0%), 17 indexable (54.8% of hits, 54.8% overall), 17 crystals, 6.0 images/sec.\n",
      "70 images processed, 70 hits (100.0%), 18 indexable (25.7% of hits, 25.7% overall), 18 crystals, 7.1 images/sec.\n",
      "106 images processed, 106 hits (100.0%), 22 indexable (20.8% of hits, 20.8% overall), 22 crystals, 7.2 images/sec.\n",
      "142 images processed, 142 hits (100.0%), 24 indexable (16.9% of hits, 16.9% overall), 24 crystals, 7.1 images/sec.\n",
      "180 images processed, 180 hits (100.0%), 30 indexable (16.7% of hits, 16.7% overall), 30 crystals, 7.6 images/sec.\n",
      "216 images processed, 216 hits (100.0%), 32 indexable (14.8% of hits, 14.8% overall), 32 crystals, 7.1 images/sec.\n",
      "253 images processed, 253 hits (100.0%), 36 indexable (14.2% of hits, 14.2% overall), 36 crystals, 7.1 images/sec.\n",
      "Waiting for the last patterns to be processed...\n",
      "298 images processed, 298 hits (100.0%), 42 indexable (14.1% of hits, 14.1% overall), 42 crystals, 8.9 images/sec.\n",
      "Final: 300 images processed, 300 hits (100.0%), 42 indexable (14.0% of hits, 14.0% overall), 42 crystals.\n",
      "Processing XY pairs:  94%|█████████▍| 295/313 [2:39:51<12:29, 41.66s/it]This is what I understood your unit cell to be:\n",
      "cubic P, right handed.\n",
      "a      b      c            alpha   beta  gamma\n",
      " 11.87  11.87  11.87 A     90.00  90.00  90.00 deg\n",
      "List of indexing methods:\n",
      "   0: xgandalf-nolatt-cell      (xgandalf using cell parameters as prior information)\n",
      "Indexing parameters:\n",
      "                  Check unit cell parameters: on\n",
      "                        Check peak alignment: on\n",
      "                   Refine indexing solutions: off\n",
      " Multi-lattice indexing (\"delete and retry\"): off\n",
      "                              Retry indexing: on\n"
     ]
    },
    {
     "name": "stdout",
     "output_type": "stream",
     "text": [
      "Running for x=-512.9, y=-513.4\n"
     ]
    },
    {
     "name": "stderr",
     "output_type": "stream",
     "text": [
      "36 images processed, 36 hits (100.0%), 21 indexable (58.3% of hits, 58.3% overall), 21 crystals, 7.1 images/sec.\n",
      "76 images processed, 76 hits (100.0%), 31 indexable (40.8% of hits, 40.8% overall), 31 crystals, 7.7 images/sec.\n",
      "111 images processed, 111 hits (100.0%), 39 indexable (35.1% of hits, 35.1% overall), 39 crystals, 6.9 images/sec.\n",
      "157 images processed, 157 hits (100.0%), 47 indexable (29.9% of hits, 29.9% overall), 47 crystals, 9.1 images/sec.\n",
      "192 images processed, 192 hits (100.0%), 53 indexable (27.6% of hits, 27.6% overall), 53 crystals, 7.0 images/sec.\n",
      "231 images processed, 231 hits (100.0%), 59 indexable (25.5% of hits, 25.5% overall), 59 crystals, 7.4 images/sec.\n",
      "Waiting for the last patterns to be processed...\n",
      "282 images processed, 282 hits (100.0%), 82 indexable (29.1% of hits, 29.1% overall), 82 crystals, 10.1 images/sec.\n",
      "Final: 300 images processed, 300 hits (100.0%), 84 indexable (28.0% of hits, 28.0% overall), 84 crystals.\n",
      "Processing XY pairs:  95%|█████████▍| 296/313 [2:40:29<11:31, 40.70s/it]This is what I understood your unit cell to be:\n",
      "cubic P, right handed.\n",
      "a      b      c            alpha   beta  gamma\n",
      " 11.87  11.87  11.87 A     90.00  90.00  90.00 deg\n",
      "List of indexing methods:\n",
      "   0: xgandalf-nolatt-cell      (xgandalf using cell parameters as prior information)\n",
      "Indexing parameters:\n",
      "                  Check unit cell parameters: on\n",
      "                        Check peak alignment: on\n",
      "                   Refine indexing solutions: off\n",
      " Multi-lattice indexing (\"delete and retry\"): off\n",
      "                              Retry indexing: on\n"
     ]
    },
    {
     "name": "stdout",
     "output_type": "stream",
     "text": [
      "Running for x=-512.9, y=-511.6\n"
     ]
    },
    {
     "name": "stderr",
     "output_type": "stream",
     "text": [
      "25 images processed, 25 hits (100.0%), 10 indexable (40.0% of hits, 40.0% overall), 10 crystals, 5.0 images/sec.\n",
      "70 images processed, 70 hits (100.0%), 17 indexable (24.3% of hits, 24.3% overall), 17 crystals, 8.4 images/sec.\n",
      "104 images processed, 104 hits (100.0%), 23 indexable (22.1% of hits, 22.1% overall), 23 crystals, 6.7 images/sec.\n",
      "140 images processed, 140 hits (100.0%), 27 indexable (19.3% of hits, 19.3% overall), 27 crystals, 7.2 images/sec.\n",
      "175 images processed, 175 hits (100.0%), 30 indexable (17.1% of hits, 17.1% overall), 30 crystals, 6.9 images/sec.\n",
      "215 images processed, 215 hits (100.0%), 35 indexable (16.3% of hits, 16.3% overall), 35 crystals, 8.0 images/sec.\n",
      "253 images processed, 253 hits (100.0%), 41 indexable (16.2% of hits, 16.2% overall), 41 crystals, 7.5 images/sec.\n",
      "Waiting for the last patterns to be processed...\n",
      "Final: 300 images processed, 300 hits (100.0%), 51 indexable (17.0% of hits, 17.0% overall), 51 crystals.\n",
      "Processing XY pairs:  95%|█████████▍| 297/313 [2:41:11<10:55, 40.98s/it]This is what I understood your unit cell to be:\n",
      "cubic P, right handed.\n",
      "a      b      c            alpha   beta  gamma\n",
      " 11.87  11.87  11.87 A     90.00  90.00  90.00 deg\n",
      "List of indexing methods:\n",
      "   0: xgandalf-nolatt-cell      (xgandalf using cell parameters as prior information)\n",
      "Indexing parameters:\n",
      "                  Check unit cell parameters: on\n",
      "                        Check peak alignment: on\n",
      "                   Refine indexing solutions: off\n",
      " Multi-lattice indexing (\"delete and retry\"): off\n",
      "                              Retry indexing: on\n"
     ]
    },
    {
     "name": "stdout",
     "output_type": "stream",
     "text": [
      "Running for x=-512.1, y=-513.4\n"
     ]
    },
    {
     "name": "stderr",
     "output_type": "stream",
     "text": [
      "35 images processed, 35 hits (100.0%), 18 indexable (51.4% of hits, 51.4% overall), 18 crystals, 6.8 images/sec.\n",
      "73 images processed, 73 hits (100.0%), 24 indexable (32.9% of hits, 32.9% overall), 24 crystals, 7.4 images/sec.\n",
      "111 images processed, 111 hits (100.0%), 33 indexable (29.7% of hits, 29.7% overall), 33 crystals, 7.6 images/sec.\n",
      "154 images processed, 154 hits (100.0%), 44 indexable (28.6% of hits, 28.6% overall), 44 crystals, 8.5 images/sec.\n",
      "192 images processed, 192 hits (100.0%), 54 indexable (28.1% of hits, 28.1% overall), 54 crystals, 7.5 images/sec.\n",
      "233 images processed, 233 hits (100.0%), 61 indexable (26.2% of hits, 26.2% overall), 61 crystals, 8.1 images/sec.\n",
      "274 images processed, 274 hits (100.0%), 74 indexable (27.0% of hits, 27.0% overall), 74 crystals, 8.1 images/sec.\n",
      "Waiting for the last patterns to be processed...\n",
      "Final: 300 images processed, 300 hits (100.0%), 79 indexable (26.3% of hits, 26.3% overall), 79 crystals.\n",
      "Processing XY pairs:  95%|█████████▌| 298/313 [2:41:50<10:05, 40.37s/it]This is what I understood your unit cell to be:\n",
      "cubic P, right handed.\n",
      "a      b      c            alpha   beta  gamma\n",
      " 11.87  11.87  11.87 A     90.00  90.00  90.00 deg\n",
      "List of indexing methods:\n",
      "   0: xgandalf-nolatt-cell      (xgandalf using cell parameters as prior information)\n",
      "Indexing parameters:\n",
      "                  Check unit cell parameters: on\n",
      "                        Check peak alignment: on\n",
      "                   Refine indexing solutions: off\n",
      " Multi-lattice indexing (\"delete and retry\"): off\n",
      "                              Retry indexing: on\n"
     ]
    },
    {
     "name": "stdout",
     "output_type": "stream",
     "text": [
      "Running for x=-512.1, y=-511.6\n"
     ]
    },
    {
     "name": "stderr",
     "output_type": "stream",
     "text": [
      "27 images processed, 27 hits (100.0%), 7 indexable (25.9% of hits, 25.9% overall), 7 crystals, 5.1 images/sec.\n",
      "67 images processed, 67 hits (100.0%), 9 indexable (13.4% of hits, 13.4% overall), 9 crystals, 8.0 images/sec.\n",
      "96 images processed, 96 hits (100.0%), 10 indexable (10.4% of hits, 10.4% overall), 10 crystals, 5.7 images/sec.\n",
      "137 images processed, 137 hits (100.0%), 11 indexable (8.0% of hits, 8.0% overall), 11 crystals, 8.0 images/sec.\n",
      "173 images processed, 173 hits (100.0%), 12 indexable (6.9% of hits, 6.9% overall), 12 crystals, 7.1 images/sec.\n",
      "211 images processed, 211 hits (100.0%), 12 indexable (5.7% of hits, 5.7% overall), 12 crystals, 7.3 images/sec.\n",
      "253 images processed, 253 hits (100.0%), 21 indexable (8.3% of hits, 8.3% overall), 21 crystals, 8.4 images/sec.\n",
      "Waiting for the last patterns to be processed...\n",
      "Final: 300 images processed, 300 hits (100.0%), 33 indexable (11.0% of hits, 11.0% overall), 33 crystals.\n",
      "Processing XY pairs:  96%|█████████▌| 299/313 [2:42:33<09:36, 41.15s/it]This is what I understood your unit cell to be:\n",
      "cubic P, right handed.\n",
      "a      b      c            alpha   beta  gamma\n",
      " 11.87  11.87  11.87 A     90.00  90.00  90.00 deg\n",
      "List of indexing methods:\n",
      "   0: xgandalf-nolatt-cell      (xgandalf using cell parameters as prior information)\n",
      "Indexing parameters:\n",
      "                  Check unit cell parameters: on\n",
      "                        Check peak alignment: on\n",
      "                   Refine indexing solutions: off\n",
      " Multi-lattice indexing (\"delete and retry\"): off\n",
      "                              Retry indexing: on\n"
     ]
    },
    {
     "name": "stdout",
     "output_type": "stream",
     "text": [
      "Running for x=-511.6, y=-512.9\n"
     ]
    },
    {
     "name": "stderr",
     "output_type": "stream",
     "text": [
      "34 images processed, 34 hits (100.0%), 18 indexable (52.9% of hits, 52.9% overall), 18 crystals, 6.6 images/sec.\n",
      "77 images processed, 77 hits (100.0%), 28 indexable (36.4% of hits, 36.4% overall), 28 crystals, 8.6 images/sec.\n",
      "116 images processed, 116 hits (100.0%), 43 indexable (37.1% of hits, 37.1% overall), 43 crystals, 7.7 images/sec.\n",
      "161 images processed, 161 hits (100.0%), 61 indexable (37.9% of hits, 37.9% overall), 61 crystals, 8.7 images/sec.\n",
      "199 images processed, 199 hits (100.0%), 65 indexable (32.7% of hits, 32.7% overall), 65 crystals, 7.6 images/sec.\n",
      "232 images processed, 232 hits (100.0%), 69 indexable (29.7% of hits, 29.7% overall), 69 crystals, 6.5 images/sec.\n",
      "272 images processed, 272 hits (100.0%), 74 indexable (27.2% of hits, 27.2% overall), 74 crystals, 8.0 images/sec.\n",
      "Waiting for the last patterns to be processed...\n",
      "Final: 300 images processed, 300 hits (100.0%), 78 indexable (26.0% of hits, 26.0% overall), 78 crystals.\n",
      "Processing XY pairs:  96%|█████████▌| 300/313 [2:43:12<08:48, 40.64s/it]This is what I understood your unit cell to be:\n",
      "cubic P, right handed.\n",
      "a      b      c            alpha   beta  gamma\n",
      " 11.87  11.87  11.87 A     90.00  90.00  90.00 deg\n",
      "List of indexing methods:\n",
      "   0: xgandalf-nolatt-cell      (xgandalf using cell parameters as prior information)\n",
      "Indexing parameters:\n",
      "                  Check unit cell parameters: on\n",
      "                        Check peak alignment: on\n",
      "                   Refine indexing solutions: off\n",
      " Multi-lattice indexing (\"delete and retry\"): off\n",
      "                              Retry indexing: on\n"
     ]
    },
    {
     "name": "stdout",
     "output_type": "stream",
     "text": [
      "Running for x=-511.6, y=-512.1\n"
     ]
    },
    {
     "name": "stderr",
     "output_type": "stream",
     "text": [
      "30 images processed, 30 hits (100.0%), 14 indexable (46.7% of hits, 46.7% overall), 14 crystals, 5.8 images/sec.\n",
      "71 images processed, 71 hits (100.0%), 15 indexable (21.1% of hits, 21.1% overall), 15 crystals, 8.1 images/sec.\n",
      "106 images processed, 106 hits (100.0%), 15 indexable (14.2% of hits, 14.2% overall), 15 crystals, 7.0 images/sec.\n",
      "144 images processed, 144 hits (100.0%), 18 indexable (12.5% of hits, 12.5% overall), 18 crystals, 7.5 images/sec.\n",
      "179 images processed, 179 hits (100.0%), 22 indexable (12.3% of hits, 12.3% overall), 22 crystals, 6.6 images/sec.\n",
      "218 images processed, 218 hits (100.0%), 22 indexable (10.1% of hits, 10.1% overall), 22 crystals, 7.8 images/sec.\n",
      "255 images processed, 255 hits (100.0%), 28 indexable (11.0% of hits, 11.0% overall), 28 crystals, 7.3 images/sec.\n",
      "Waiting for the last patterns to be processed...\n",
      "Final: 300 images processed, 300 hits (100.0%), 40 indexable (13.3% of hits, 13.3% overall), 40 crystals.\n",
      "Processing XY pairs:  96%|█████████▌| 301/313 [2:43:54<08:10, 40.86s/it]This is what I understood your unit cell to be:\n",
      "cubic P, right handed.\n",
      "a      b      c            alpha   beta  gamma\n",
      " 11.87  11.87  11.87 A     90.00  90.00  90.00 deg\n",
      "List of indexing methods:\n",
      "   0: xgandalf-nolatt-cell      (xgandalf using cell parameters as prior information)\n",
      "Indexing parameters:\n",
      "                  Check unit cell parameters: on\n",
      "                        Check peak alignment: on\n",
      "                   Refine indexing solutions: off\n",
      " Multi-lattice indexing (\"delete and retry\"): off\n",
      "                              Retry indexing: on\n"
     ]
    },
    {
     "name": "stdout",
     "output_type": "stream",
     "text": [
      "Running for x=-511.8, y=-511.8\n"
     ]
    },
    {
     "name": "stderr",
     "output_type": "stream",
     "text": [
      "32 images processed, 32 hits (100.0%), 18 indexable (56.2% of hits, 56.2% overall), 18 crystals, 6.0 images/sec.\n",
      "70 images processed, 70 hits (100.0%), 22 indexable (31.4% of hits, 31.4% overall), 22 crystals, 7.6 images/sec.\n",
      "105 images processed, 105 hits (100.0%), 22 indexable (21.0% of hits, 21.0% overall), 22 crystals, 6.9 images/sec.\n",
      "141 images processed, 141 hits (100.0%), 24 indexable (17.0% of hits, 17.0% overall), 24 crystals, 7.1 images/sec.\n",
      "180 images processed, 180 hits (100.0%), 27 indexable (15.0% of hits, 15.0% overall), 27 crystals, 7.6 images/sec.\n",
      "215 images processed, 215 hits (100.0%), 27 indexable (12.6% of hits, 12.6% overall), 27 crystals, 6.9 images/sec.\n",
      "256 images processed, 256 hits (100.0%), 34 indexable (13.3% of hits, 13.3% overall), 34 crystals, 8.1 images/sec.\n",
      "Waiting for the last patterns to be processed...\n",
      "Final: 300 images processed, 300 hits (100.0%), 45 indexable (15.0% of hits, 15.0% overall), 45 crystals.\n",
      "Processing XY pairs:  96%|█████████▋| 302/313 [2:44:35<07:31, 41.02s/it]This is what I understood your unit cell to be:\n",
      "cubic P, right handed.\n",
      "a      b      c            alpha   beta  gamma\n",
      " 11.87  11.87  11.87 A     90.00  90.00  90.00 deg\n",
      "List of indexing methods:\n",
      "   0: xgandalf-nolatt-cell      (xgandalf using cell parameters as prior information)\n",
      "Indexing parameters:\n",
      "                  Check unit cell parameters: on\n",
      "                        Check peak alignment: on\n",
      "                   Refine indexing solutions: off\n",
      " Multi-lattice indexing (\"delete and retry\"): off\n",
      "                              Retry indexing: on\n"
     ]
    },
    {
     "name": "stdout",
     "output_type": "stream",
     "text": [
      "Running for x=-513.2, y=-511.8\n"
     ]
    },
    {
     "name": "stderr",
     "output_type": "stream",
     "text": [
      "28 images processed, 28 hits (100.0%), 14 indexable (50.0% of hits, 50.0% overall), 14 crystals, 5.4 images/sec.\n",
      "71 images processed, 71 hits (100.0%), 16 indexable (22.5% of hits, 22.5% overall), 16 crystals, 7.9 images/sec.\n",
      "102 images processed, 102 hits (100.0%), 17 indexable (16.7% of hits, 16.7% overall), 17 crystals, 6.1 images/sec.\n",
      "143 images processed, 143 hits (100.0%), 18 indexable (12.6% of hits, 12.6% overall), 18 crystals, 8.1 images/sec.\n",
      "178 images processed, 178 hits (100.0%), 19 indexable (10.7% of hits, 10.7% overall), 19 crystals, 6.8 images/sec.\n",
      "217 images processed, 217 hits (100.0%), 20 indexable (9.2% of hits, 9.2% overall), 20 crystals, 7.6 images/sec.\n",
      "253 images processed, 253 hits (100.0%), 25 indexable (9.9% of hits, 9.9% overall), 25 crystals, 6.8 images/sec.\n",
      "Waiting for the last patterns to be processed...\n",
      "Final: 300 images processed, 300 hits (100.0%), 37 indexable (12.3% of hits, 12.3% overall), 37 crystals.\n",
      "Processing XY pairs:  97%|█████████▋| 303/313 [2:45:18<06:57, 41.70s/it]This is what I understood your unit cell to be:\n",
      "cubic P, right handed.\n",
      "a      b      c            alpha   beta  gamma\n",
      " 11.87  11.87  11.87 A     90.00  90.00  90.00 deg\n",
      "List of indexing methods:\n",
      "   0: xgandalf-nolatt-cell      (xgandalf using cell parameters as prior information)\n",
      "Indexing parameters:\n",
      "                  Check unit cell parameters: on\n",
      "                        Check peak alignment: on\n",
      "                   Refine indexing solutions: off\n",
      " Multi-lattice indexing (\"delete and retry\"): off\n",
      "                              Retry indexing: on\n"
     ]
    },
    {
     "name": "stdout",
     "output_type": "stream",
     "text": [
      "Running for x=-511.8, y=-513.2\n"
     ]
    },
    {
     "name": "stderr",
     "output_type": "stream",
     "text": [
      "39 images processed, 39 hits (100.0%), 23 indexable (59.0% of hits, 59.0% overall), 23 crystals, 7.5 images/sec.\n",
      "73 images processed, 73 hits (100.0%), 28 indexable (38.4% of hits, 38.4% overall), 28 crystals, 6.6 images/sec.\n",
      "117 images processed, 117 hits (100.0%), 34 indexable (29.1% of hits, 29.1% overall), 34 crystals, 8.1 images/sec.\n",
      "157 images processed, 157 hits (100.0%), 43 indexable (27.4% of hits, 27.4% overall), 43 crystals, 7.8 images/sec.\n",
      "199 images processed, 199 hits (100.0%), 55 indexable (27.6% of hits, 27.6% overall), 55 crystals, 8.2 images/sec.\n",
      "235 images processed, 235 hits (100.0%), 62 indexable (26.4% of hits, 26.4% overall), 62 crystals, 7.0 images/sec.\n",
      "Waiting for the last patterns to be processed...\n",
      "278 images processed, 278 hits (100.0%), 73 indexable (26.3% of hits, 26.3% overall), 73 crystals, 8.5 images/sec.\n",
      "Final: 300 images processed, 300 hits (100.0%), 76 indexable (25.3% of hits, 25.3% overall), 76 crystals.\n",
      "Processing XY pairs:  97%|█████████▋| 304/313 [2:45:58<06:09, 41.06s/it]This is what I understood your unit cell to be:\n",
      "cubic P, right handed.\n",
      "a      b      c            alpha   beta  gamma\n",
      " 11.87  11.87  11.87 A     90.00  90.00  90.00 deg\n",
      "List of indexing methods:\n",
      "   0: xgandalf-nolatt-cell      (xgandalf using cell parameters as prior information)\n",
      "Indexing parameters:\n",
      "                  Check unit cell parameters: on\n",
      "                        Check peak alignment: on\n",
      "                   Refine indexing solutions: off\n",
      " Multi-lattice indexing (\"delete and retry\"): off\n",
      "                              Retry indexing: on\n"
     ]
    },
    {
     "name": "stdout",
     "output_type": "stream",
     "text": [
      "Running for x=-513.2, y=-513.2\n"
     ]
    },
    {
     "name": "stderr",
     "output_type": "stream",
     "text": [
      "42 images processed, 42 hits (100.0%), 26 indexable (61.9% of hits, 61.9% overall), 26 crystals, 8.3 images/sec.\n",
      "82 images processed, 82 hits (100.0%), 45 indexable (54.9% of hits, 54.9% overall), 45 crystals, 8.0 images/sec.\n",
      "131 images processed, 131 hits (100.0%), 65 indexable (49.6% of hits, 49.6% overall), 65 crystals, 9.2 images/sec.\n",
      "168 images processed, 168 hits (100.0%), 75 indexable (44.6% of hits, 44.6% overall), 75 crystals, 7.2 images/sec.\n",
      "210 images processed, 210 hits (100.0%), 81 indexable (38.6% of hits, 38.6% overall), 81 crystals, 8.1 images/sec.\n",
      "250 images processed, 250 hits (100.0%), 92 indexable (36.8% of hits, 36.8% overall), 92 crystals, 7.8 images/sec.\n",
      "Waiting for the last patterns to be processed...\n",
      "300 images processed, 300 hits (100.0%), 110 indexable (36.7% of hits, 36.7% overall), 110 crystals, 10.0 images/sec.\n",
      "Final: 300 images processed, 300 hits (100.0%), 110 indexable (36.7% of hits, 36.7% overall), 110 crystals.\n",
      "Processing XY pairs:  97%|█████████▋| 305/313 [2:46:35<05:18, 39.85s/it]This is what I understood your unit cell to be:\n",
      "cubic P, right handed.\n",
      "a      b      c            alpha   beta  gamma\n",
      " 11.87  11.87  11.87 A     90.00  90.00  90.00 deg\n",
      "List of indexing methods:\n",
      "   0: xgandalf-nolatt-cell      (xgandalf using cell parameters as prior information)\n",
      "Indexing parameters:\n",
      "                  Check unit cell parameters: on\n",
      "                        Check peak alignment: on\n",
      "                   Refine indexing solutions: off\n",
      " Multi-lattice indexing (\"delete and retry\"): off\n",
      "                              Retry indexing: on\n"
     ]
    },
    {
     "name": "stdout",
     "output_type": "stream",
     "text": [
      "Running for x=-513.3, y=-513.1\n"
     ]
    },
    {
     "name": "stderr",
     "output_type": "stream",
     "text": [
      "37 images processed, 37 hits (100.0%), 22 indexable (59.5% of hits, 59.5% overall), 22 crystals, 7.2 images/sec.\n",
      "75 images processed, 75 hits (100.0%), 34 indexable (45.3% of hits, 45.3% overall), 34 crystals, 7.1 images/sec.\n",
      "123 images processed, 123 hits (100.0%), 50 indexable (40.7% of hits, 40.7% overall), 50 crystals, 9.2 images/sec.\n",
      "158 images processed, 158 hits (100.0%), 59 indexable (37.3% of hits, 37.3% overall), 59 crystals, 6.9 images/sec.\n",
      "202 images processed, 202 hits (100.0%), 67 indexable (33.2% of hits, 33.2% overall), 67 crystals, 8.5 images/sec.\n",
      "235 images processed, 235 hits (100.0%), 72 indexable (30.6% of hits, 30.6% overall), 72 crystals, 6.6 images/sec.\n",
      "Waiting for the last patterns to be processed...\n",
      "278 images processed, 278 hits (100.0%), 82 indexable (29.5% of hits, 29.5% overall), 82 crystals, 8.6 images/sec.\n",
      "Final: 300 images processed, 300 hits (100.0%), 87 indexable (29.0% of hits, 29.0% overall), 87 crystals.\n",
      "Processing XY pairs:  98%|█████████▊| 306/313 [2:47:14<04:37, 39.63s/it]This is what I understood your unit cell to be:\n",
      "cubic P, right handed.\n",
      "a      b      c            alpha   beta  gamma\n",
      " 11.87  11.87  11.87 A     90.00  90.00  90.00 deg\n",
      "List of indexing methods:\n",
      "   0: xgandalf-nolatt-cell      (xgandalf using cell parameters as prior information)\n",
      "Indexing parameters:\n",
      "                  Check unit cell parameters: on\n",
      "                        Check peak alignment: on\n",
      "                   Refine indexing solutions: off\n",
      " Multi-lattice indexing (\"delete and retry\"): off\n",
      "                              Retry indexing: on\n"
     ]
    },
    {
     "name": "stdout",
     "output_type": "stream",
     "text": [
      "Running for x=-513.3, y=-511.9\n"
     ]
    },
    {
     "name": "stderr",
     "output_type": "stream",
     "text": [
      "32 images processed, 32 hits (100.0%), 19 indexable (59.4% of hits, 59.4% overall), 19 crystals, 6.2 images/sec.\n",
      "70 images processed, 70 hits (100.0%), 19 indexable (27.1% of hits, 27.1% overall), 19 crystals, 7.1 images/sec.\n",
      "108 images processed, 108 hits (100.0%), 20 indexable (18.5% of hits, 18.5% overall), 20 crystals, 7.3 images/sec.\n",
      "144 images processed, 144 hits (100.0%), 21 indexable (14.6% of hits, 14.6% overall), 21 crystals, 6.7 images/sec.\n",
      "184 images processed, 184 hits (100.0%), 23 indexable (12.5% of hits, 12.5% overall), 23 crystals, 7.8 images/sec.\n",
      "223 images processed, 223 hits (100.0%), 25 indexable (11.2% of hits, 11.2% overall), 25 crystals, 7.7 images/sec.\n",
      "259 images processed, 259 hits (100.0%), 31 indexable (12.0% of hits, 12.0% overall), 31 crystals, 7.0 images/sec.\n",
      "Waiting for the last patterns to be processed...\n",
      "Final: 300 images processed, 300 hits (100.0%), 37 indexable (12.3% of hits, 12.3% overall), 37 crystals.\n",
      "Processing XY pairs:  98%|█████████▊| 307/313 [2:47:56<04:01, 40.29s/it]This is what I understood your unit cell to be:\n",
      "cubic P, right handed.\n",
      "a      b      c            alpha   beta  gamma\n",
      " 11.87  11.87  11.87 A     90.00  90.00  90.00 deg\n",
      "List of indexing methods:\n",
      "   0: xgandalf-nolatt-cell      (xgandalf using cell parameters as prior information)\n",
      "Indexing parameters:\n",
      "                  Check unit cell parameters: on\n",
      "                        Check peak alignment: on\n",
      "                   Refine indexing solutions: off\n",
      " Multi-lattice indexing (\"delete and retry\"): off\n",
      "                              Retry indexing: on\n"
     ]
    },
    {
     "name": "stdout",
     "output_type": "stream",
     "text": [
      "Running for x=-513.1, y=-513.3\n"
     ]
    },
    {
     "name": "stderr",
     "output_type": "stream",
     "text": [
      "32 images processed, 32 hits (100.0%), 16 indexable (50.0% of hits, 50.0% overall), 16 crystals, 6.2 images/sec.\n",
      "77 images processed, 77 hits (100.0%), 35 indexable (45.5% of hits, 45.5% overall), 35 crystals, 8.8 images/sec.\n",
      "118 images processed, 118 hits (100.0%), 52 indexable (44.1% of hits, 44.1% overall), 52 crystals, 8.0 images/sec.\n",
      "161 images processed, 161 hits (100.0%), 62 indexable (38.5% of hits, 38.5% overall), 62 crystals, 8.0 images/sec.\n",
      "206 images processed, 206 hits (100.0%), 77 indexable (37.4% of hits, 37.4% overall), 77 crystals, 8.8 images/sec.\n",
      "245 images processed, 245 hits (100.0%), 89 indexable (36.3% of hits, 36.3% overall), 89 crystals, 7.3 images/sec.\n",
      "Waiting for the last patterns to be processed...\n",
      "290 images processed, 290 hits (100.0%), 107 indexable (36.9% of hits, 36.9% overall), 107 crystals, 8.9 images/sec.\n",
      "Final: 300 images processed, 300 hits (100.0%), 108 indexable (36.0% of hits, 36.0% overall), 108 crystals.\n",
      "Processing XY pairs:  98%|█████████▊| 308/313 [2:48:34<03:18, 39.73s/it]This is what I understood your unit cell to be:\n",
      "cubic P, right handed.\n",
      "a      b      c            alpha   beta  gamma\n",
      " 11.87  11.87  11.87 A     90.00  90.00  90.00 deg\n",
      "List of indexing methods:\n",
      "   0: xgandalf-nolatt-cell      (xgandalf using cell parameters as prior information)\n",
      "Indexing parameters:\n",
      "                  Check unit cell parameters: on\n",
      "                        Check peak alignment: on\n",
      "                   Refine indexing solutions: off\n",
      " Multi-lattice indexing (\"delete and retry\"): off\n",
      "                              Retry indexing: on\n"
     ]
    },
    {
     "name": "stdout",
     "output_type": "stream",
     "text": [
      "Running for x=-511.9, y=-513.3\n"
     ]
    },
    {
     "name": "stderr",
     "output_type": "stream",
     "text": [
      "33 images processed, 33 hits (100.0%), 21 indexable (63.6% of hits, 63.6% overall), 21 crystals, 6.5 images/sec.\n",
      "76 images processed, 76 hits (100.0%), 31 indexable (40.8% of hits, 40.8% overall), 31 crystals, 8.4 images/sec.\n",
      "114 images processed, 114 hits (100.0%), 38 indexable (33.3% of hits, 33.3% overall), 38 crystals, 7.6 images/sec.\n",
      "155 images processed, 155 hits (100.0%), 51 indexable (32.9% of hits, 32.9% overall), 51 crystals, 8.1 images/sec.\n",
      "192 images processed, 192 hits (100.0%), 60 indexable (31.2% of hits, 31.2% overall), 60 crystals, 7.4 images/sec.\n",
      "234 images processed, 234 hits (100.0%), 68 indexable (29.1% of hits, 29.1% overall), 68 crystals, 8.2 images/sec.\n",
      "273 images processed, 273 hits (100.0%), 83 indexable (30.4% of hits, 30.4% overall), 83 crystals, 7.4 images/sec.\n",
      "Waiting for the last patterns to be processed...\n",
      "Final: 300 images processed, 300 hits (100.0%), 91 indexable (30.3% of hits, 30.3% overall), 91 crystals.\n",
      "Processing XY pairs:  99%|█████████▊| 309/313 [2:49:15<02:40, 40.01s/it]This is what I understood your unit cell to be:\n",
      "cubic P, right handed.\n",
      "a      b      c            alpha   beta  gamma\n",
      " 11.87  11.87  11.87 A     90.00  90.00  90.00 deg\n",
      "List of indexing methods:\n",
      "   0: xgandalf-nolatt-cell      (xgandalf using cell parameters as prior information)\n",
      "Indexing parameters:\n",
      "                  Check unit cell parameters: on\n",
      "                        Check peak alignment: on\n",
      "                   Refine indexing solutions: off\n",
      " Multi-lattice indexing (\"delete and retry\"): off\n",
      "                              Retry indexing: on\n"
     ]
    },
    {
     "name": "stdout",
     "output_type": "stream",
     "text": [
      "Running for x=-513.5, y=-512.5\n"
     ]
    },
    {
     "name": "stderr",
     "output_type": "stream",
     "text": [
      "38 images processed, 38 hits (100.0%), 20 indexable (52.6% of hits, 52.6% overall), 20 crystals, 7.5 images/sec.\n",
      "72 images processed, 72 hits (100.0%), 22 indexable (30.6% of hits, 30.6% overall), 22 crystals, 6.4 images/sec.\n",
      "110 images processed, 110 hits (100.0%), 25 indexable (22.7% of hits, 22.7% overall), 25 crystals, 7.5 images/sec.\n",
      "145 images processed, 145 hits (100.0%), 28 indexable (19.3% of hits, 19.3% overall), 28 crystals, 7.0 images/sec.\n",
      "181 images processed, 181 hits (100.0%), 29 indexable (16.0% of hits, 16.0% overall), 29 crystals, 6.9 images/sec.\n",
      "219 images processed, 219 hits (100.0%), 29 indexable (13.2% of hits, 13.2% overall), 29 crystals, 7.4 images/sec.\n",
      "254 images processed, 254 hits (100.0%), 31 indexable (12.2% of hits, 12.2% overall), 31 crystals, 6.9 images/sec.\n",
      "Waiting for the last patterns to be processed...\n",
      "Final: 300 images processed, 300 hits (100.0%), 42 indexable (14.0% of hits, 14.0% overall), 42 crystals.\n",
      "Processing XY pairs:  99%|█████████▉| 310/313 [2:49:57<02:01, 40.58s/it]This is what I understood your unit cell to be:\n",
      "cubic P, right handed.\n",
      "a      b      c            alpha   beta  gamma\n",
      " 11.87  11.87  11.87 A     90.00  90.00  90.00 deg\n",
      "List of indexing methods:\n",
      "   0: xgandalf-nolatt-cell      (xgandalf using cell parameters as prior information)\n",
      "Indexing parameters:\n",
      "                  Check unit cell parameters: on\n",
      "                        Check peak alignment: on\n",
      "                   Refine indexing solutions: off\n",
      " Multi-lattice indexing (\"delete and retry\"): off\n",
      "                              Retry indexing: on\n"
     ]
    },
    {
     "name": "stdout",
     "output_type": "stream",
     "text": [
      "Running for x=-512.5, y=-513.5\n"
     ]
    },
    {
     "name": "stderr",
     "output_type": "stream",
     "text": [
      "34 images processed, 34 hits (100.0%), 17 indexable (50.0% of hits, 50.0% overall), 17 crystals, 6.7 images/sec.\n",
      "72 images processed, 72 hits (100.0%), 21 indexable (29.2% of hits, 29.2% overall), 21 crystals, 7.5 images/sec.\n",
      "109 images processed, 109 hits (100.0%), 25 indexable (22.9% of hits, 22.9% overall), 25 crystals, 7.4 images/sec.\n",
      "143 images processed, 143 hits (100.0%), 27 indexable (18.9% of hits, 18.9% overall), 27 crystals, 6.7 images/sec.\n",
      "184 images processed, 184 hits (100.0%), 32 indexable (17.4% of hits, 17.4% overall), 32 crystals, 7.9 images/sec.\n",
      "223 images processed, 223 hits (100.0%), 37 indexable (16.6% of hits, 16.6% overall), 37 crystals, 7.5 images/sec.\n",
      "270 images processed, 270 hits (100.0%), 50 indexable (18.5% of hits, 18.5% overall), 50 crystals, 9.1 images/sec.\n",
      "Waiting for the last patterns to be processed...\n",
      "Final: 300 images processed, 300 hits (100.0%), 52 indexable (17.3% of hits, 17.3% overall), 52 crystals.\n",
      "Processing XY pairs:  99%|█████████▉| 311/313 [2:50:37<01:20, 40.47s/it]This is what I understood your unit cell to be:\n",
      "cubic P, right handed.\n",
      "a      b      c            alpha   beta  gamma\n",
      " 11.87  11.87  11.87 A     90.00  90.00  90.00 deg\n",
      "List of indexing methods:\n",
      "   0: xgandalf-nolatt-cell      (xgandalf using cell parameters as prior information)\n",
      "Indexing parameters:\n",
      "                  Check unit cell parameters: on\n",
      "                        Check peak alignment: on\n",
      "                   Refine indexing solutions: off\n",
      " Multi-lattice indexing (\"delete and retry\"): off\n",
      "                              Retry indexing: on\n"
     ]
    },
    {
     "name": "stdout",
     "output_type": "stream",
     "text": [
      "Running for x=-512.5, y=-511.5\n"
     ]
    },
    {
     "name": "stderr",
     "output_type": "stream",
     "text": [
      "30 images processed, 30 hits (100.0%), 12 indexable (40.0% of hits, 40.0% overall), 12 crystals, 5.7 images/sec.\n",
      "72 images processed, 72 hits (100.0%), 14 indexable (19.4% of hits, 19.4% overall), 14 crystals, 8.3 images/sec.\n",
      "102 images processed, 102 hits (100.0%), 14 indexable (13.7% of hits, 13.7% overall), 14 crystals, 5.9 images/sec.\n",
      "142 images processed, 142 hits (100.0%), 14 indexable (9.9% of hits, 9.9% overall), 14 crystals, 8.0 images/sec.\n",
      "176 images processed, 176 hits (100.0%), 15 indexable (8.5% of hits, 8.5% overall), 15 crystals, 6.7 images/sec.\n",
      "216 images processed, 216 hits (100.0%), 18 indexable (8.3% of hits, 8.3% overall), 18 crystals, 7.6 images/sec.\n",
      "253 images processed, 253 hits (100.0%), 20 indexable (7.9% of hits, 7.9% overall), 20 crystals, 7.2 images/sec.\n",
      "Waiting for the last patterns to be processed...\n",
      "Final: 300 images processed, 300 hits (100.0%), 26 indexable (8.7% of hits, 8.7% overall), 26 crystals.\n",
      "Processing XY pairs: 100%|█████████▉| 312/313 [2:51:19<00:40, 40.88s/it]This is what I understood your unit cell to be:\n",
      "cubic P, right handed.\n",
      "a      b      c            alpha   beta  gamma\n",
      " 11.87  11.87  11.87 A     90.00  90.00  90.00 deg\n",
      "List of indexing methods:\n",
      "   0: xgandalf-nolatt-cell      (xgandalf using cell parameters as prior information)\n",
      "Indexing parameters:\n",
      "                  Check unit cell parameters: on\n",
      "                        Check peak alignment: on\n",
      "                   Refine indexing solutions: off\n",
      " Multi-lattice indexing (\"delete and retry\"): off\n",
      "                              Retry indexing: on\n"
     ]
    },
    {
     "name": "stdout",
     "output_type": "stream",
     "text": [
      "Running for x=-511.5, y=-512.5\n"
     ]
    },
    {
     "name": "stderr",
     "output_type": "stream",
     "text": [
      "35 images processed, 35 hits (100.0%), 22 indexable (62.9% of hits, 62.9% overall), 22 crystals, 6.9 images/sec.\n",
      "71 images processed, 71 hits (100.0%), 28 indexable (39.4% of hits, 39.4% overall), 28 crystals, 6.9 images/sec.\n",
      "109 images processed, 109 hits (100.0%), 33 indexable (30.3% of hits, 30.3% overall), 33 crystals, 7.4 images/sec.\n",
      "145 images processed, 145 hits (100.0%), 36 indexable (24.8% of hits, 24.8% overall), 36 crystals, 7.1 images/sec.\n",
      "181 images processed, 181 hits (100.0%), 38 indexable (21.0% of hits, 21.0% overall), 38 crystals, 7.0 images/sec.\n",
      "218 images processed, 218 hits (100.0%), 38 indexable (17.4% of hits, 17.4% overall), 38 crystals, 7.2 images/sec.\n",
      "256 images processed, 256 hits (100.0%), 42 indexable (16.4% of hits, 16.4% overall), 42 crystals, 7.6 images/sec.\n",
      "Waiting for the last patterns to be processed...\n",
      "Final: 300 images processed, 300 hits (100.0%), 49 indexable (16.3% of hits, 16.3% overall), 49 crystals.\n",
      "Processing XY pairs: 100%|██████████| 313/313 [2:52:02<00:00, 32.98s/it]\n"
     ]
    }
   ],
   "source": [
    "from gandalf_radial_iterator import gandalf_iterator\n",
    "\n",
    "geomfile_path = \"/home/bubl3932/files/LTA_sim/LTAsim.geom\"\n",
    "cellfile_path = \"/home/bubl3932/files/LTA_sim/LTA.cell\"\n",
    "input_path =   \"/home/bubl3932/files/LTA_sim/simulation-43\"\n",
    "\n",
    "output_file_base = \"LTA\"\n",
    "\n",
    "num_threads = 24\n",
    "x, y = 512.5, 512.5\n",
    "max_radius = 1\n",
    "step = 0.1\n",
    "extra_flags=[\n",
    "# PEAKFINDING\n",
    "\"--no-revalidate\",\n",
    "\"--no-half-pixel-shift\",\n",
    "\"--peaks=peakfinder9\",\n",
    "\"--min-snr=1\",\n",
    "\"--min-snr-biggest-pix=1\",\n",
    "\"--min-sig=3\",\n",
    "\"--local-bg-radius=10\",\n",
    "# INDEXING\n",
    "\"--indexing=xgandalf\",\n",
    "\"--tolerance=10,10,10,5\",\n",
    "\"--no-refine\",\n",
    "# \"--no-retry\",\n",
    "\"--xgandalf-sampling-pitch=5\",\n",
    "\"--xgandalf-grad-desc-iterations=1\",\n",
    "\"--xgandalf-tolerance=0.02\",\n",
    "# \"--xgandalf-no-deviation-from-provided-cell\",\n",
    "# INTEGRATION\n",
    "\"--integration=rings\",\n",
    "\"--int-radius=4,5,9\",\n",
    "\"--fix-profile-radius=70000000\",\n",
    "# OUTPUT\n",
    "\"--no-non-hits-in-stream\",\n",
    "]\n",
    "\n",
    "\"\"\"Examples of extra flags(see crystfel documentation https://www.desy.de/~twhite/crystfel/manual-indexamajig.html):\"\"\"\n",
    "\n",
    "\"\"\" Basic options\n",
    "\"--highres=n\",\n",
    "\"--no-image-data\",\n",
    "\"\"\"\n",
    "\n",
    "\"\"\" Peakfinding\n",
    "\"--peaks=cxi\",\n",
    "\"--peak-radius=inner,middle,outer\",\n",
    "\"--min-peaks=n\",\n",
    "\"--median-filter=n\",\n",
    "\"--filter-noise\",\n",
    "\"--no-revalidate\",\n",
    "\"--no-half-pixel-shift\",\n",
    "\n",
    "\"--peaks=peakfinder9\",\n",
    "\"--min-snr=1\",\n",
    "\"--min-snr-peak-pix=6\",\n",
    "\"--min-snr-biggest-pix=1\",\n",
    "\"--min-sig=9\",\n",
    "\"--min-peak-over-neighbour=5\",\n",
    "\"--local-bg-radius=5\",\n",
    "\n",
    "\"--peaks=peakfinder8\",\n",
    "\"--threshold=45\",\n",
    "\"--min-snr=3\",\n",
    "\"--min-pix-count=3\",\n",
    "\"--max-pix-count=500\",\n",
    "\"--local-bg-radius=9\",\n",
    "\"--min-res=30\",\n",
    "\"--max-res=500\",\n",
    "\"\"\"\n",
    "\n",
    "\"\"\" Indexing\n",
    "\"--indexing=xgandalf\",\n",
    "\n",
    "\"--tolerance=tol\"\n",
    "\"--no-check-cell\",\n",
    "\"--no-check-peaks\",\n",
    "\"--multi\",\n",
    "\"--no-retry\",\n",
    "\"--no-refine\",\n",
    "\n",
    "\"--xgandalf-sampling-pitch=n\"\n",
    "\"--xgandalf-grad-desc-iterations=n\"\n",
    "\"--xgandalf-tolerance=n\"\n",
    "\"--xgandalf-no-deviation-from-provided-cell\"\n",
    "\"--xgandalf-max-lattice-vector-length=n\"\n",
    "\"--xgandalf-min-lattice-vector-length=n\"\n",
    "\"--xgandalf-max-peaks=n\"\n",
    "\"--xgandalf-fast-execution\"\n",
    "\"\"\"\n",
    "\n",
    "\"\"\" Integration\n",
    "\"--fix-profile-radius=n\",\n",
    "\"--fix-divergence=n\",\n",
    "\"--integration=rings\",\n",
    "\"--int-radius=4,5,10\",\n",
    "\"--push-res=n\",\n",
    "\"--overpredict\",\n",
    "\"--cell-parameters-only\",\n",
    "\"\"\"\n",
    "\n",
    "\"\"\" Output\n",
    "\"--no-non-hits-in-stream\",\n",
    "\"--no-peaks-in-stream\",\n",
    "\"--no-refls-in-stream\",\n",
    "\"--serial-offset\n",
    "\"\"\"\n",
    "\n",
    "gandalf_iterator(x, y, geomfile_path, cellfile_path, input_path, output_file_base, num_threads, max_radius=max_radius, step=step, extra_flags=extra_flags)\n"
   ]
  },
  {
   "cell_type": "code",
   "execution_count": null,
   "metadata": {},
   "outputs": [],
   "source": [
    "\n",
    "import os \n",
    "from run_partialator_and_convert import run_partialator_and_convert\n",
    "from convert_hkl_crystfel_to_shelx import convert_hkl_crystfel_to_shelx \n",
    "\n",
    "stream_file = f\"{input_path}/{output_file_base}_-{x}_-{y}.stream\"\n",
    "pointgroup = \"m-3m\"  # Point group of the crystal\n",
    "num_threads = 24\n",
    "iterations = 5\n",
    "\n",
    "output_dir = run_partialator_and_convert(\n",
    "    stream_file,\n",
    "    pointgroup=pointgroup,\n",
    "    num_threads=num_threads,\n",
    "    iterations=iterations,\n",
    "    convert_to_mtz=False,\n",
    "    cell_file=cellfile_path\n",
    ")\n",
    "\n",
    "if output_dir is not None:\n",
    "    print(\"All done. Results are in:\", output_dir)\n",
    "\n",
    "\n",
    "convert_hkl_crystfel_to_shelx(os.path.join(output_dir,\"crystfel.hkl\"))"
   ]
  },
  {
   "cell_type": "code",
   "execution_count": null,
   "metadata": {},
   "outputs": [],
   "source": [
    "import os \n",
    "from convert_hkl_crystfel_to_shelx import convert_hkl_crystfel_to_shelx\n",
    "\n",
    "convert_hkl_crystfel_to_shelx(os.path.join(output_dir,\"crystfel.hkl\"))"
   ]
  }
 ],
 "metadata": {
  "kernelspec": {
   "display_name": "pyxem-env",
   "language": "python",
   "name": "python3"
  },
  "language_info": {
   "codemirror_mode": {
    "name": "ipython",
    "version": 3
   },
   "file_extension": ".py",
   "mimetype": "text/x-python",
   "name": "python",
   "nbconvert_exporter": "python",
   "pygments_lexer": "ipython3",
   "version": "3.10.16"
  }
 },
 "nbformat": 4,
 "nbformat_minor": 2
}
