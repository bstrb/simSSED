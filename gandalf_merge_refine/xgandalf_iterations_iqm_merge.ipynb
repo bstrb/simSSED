{
 "cells": [
  {
   "cell_type": "markdown",
   "metadata": {},
   "source": [
    "# Index using XGANDALF and Integration using rings"
   ]
  },
  {
   "cell_type": "code",
   "execution_count": null,
   "metadata": {},
   "outputs": [],
   "source": [
    "from gandalf_iterator import gandalf_iterator\n",
    "\n",
    "geomfile_path = \"/home/bubl3932/files/LTA_sim/LTAsim.geom\"\n",
    "cellfile_path = \"/home/bubl3932/files/LTA_sim/LTA.cell\"\n",
    "input_path =   \"/home/bubl3932/files/LTA_sim/LTA-simulation\"\n",
    "\n",
    "output_file_base = \"LTA\"\n",
    "\n",
    "num_threads = 24\n",
    "x, y = 512.5, 512.5\n",
    "step_size = 0.1\n",
    "layers = 0\n",
    "extra_flags=[\n",
    "# PEAKFINDING\n",
    "\"--no-revalidate\",\n",
    "\"--no-half-pixel-shift\",\n",
    "\"--peaks=peakfinder9\",\n",
    "\"--min-snr=1\",\n",
    "\"--min-snr-biggest-pix=1\",\n",
    "\"--min-sig=3\",\n",
    "\"--local-bg-radius=10\",\n",
    "# INDEXING\n",
    "\"--indexing=xgandalf\",\n",
    "\"--tolerance=10,10,10,5\",\n",
    "\"--no-refine\",\n",
    "\"--xgandalf-sampling-pitch=5\",\n",
    "\"--xgandalf-grad-desc-iterations=1\",\n",
    "\"--xgandalf-tolerance=0.02\",\n",
    "# \"--xgandalf-no-deviation-from-provided-cell\",\n",
    "# INTEGRATION\n",
    "\"--integration=rings\",\n",
    "\"--int-radius=4,5,9\",\n",
    "\"--fix-profile-radius=70000000\",\n",
    "# OUTPUT\n",
    "\"--no-non-hits-in-stream\",\n",
    "]\n",
    "\n",
    "\"\"\"Examples of extra flags(see crystfel documentation https://www.desy.de/~twhite/crystfel/manual-indexamajig.html):\"\"\"\n",
    "\n",
    "\"\"\" Basic options\n",
    "\"--highres=n\",\n",
    "\"--no-image-data\",\n",
    "\"\"\"\n",
    "\n",
    "\"\"\" Peakfinding\n",
    "\"--peaks=cxi\",\n",
    "\"--peak-radius=inner,middle,outer\",\n",
    "\"--min-peaks=n\",\n",
    "\"--median-filter=n\",\n",
    "\"--filter-noise\",\n",
    "\"--no-revalidate\",\n",
    "\"--no-half-pixel-shift\",\n",
    "\n",
    "\"--peaks=peakfinder9\",\n",
    "\"--min-snr=1\",\n",
    "\"--min-snr-peak-pix=6\",\n",
    "\"--min-snr-biggest-pix=1\",\n",
    "\"--min-sig=9\",\n",
    "\"--min-peak-over-neighbour=5\",\n",
    "\"--local-bg-radius=5\",\n",
    "\n",
    "\"--peaks=peakfinder8\",\n",
    "\"--threshold=45\",\n",
    "\"--min-snr=3\",\n",
    "\"--min-pix-count=3\",\n",
    "\"--max-pix-count=500\",\n",
    "\"--local-bg-radius=9\",\n",
    "\"--min-res=30\",\n",
    "\"--max-res=500\",\n",
    "\"\"\"\n",
    "\n",
    "\"\"\" Indexing\n",
    "\"--indexing=xgandalf\",\n",
    "\n",
    "\"--tolerance=tol\"\n",
    "\"--no-check-cell\",\n",
    "\"--no-check-peaks\",\n",
    "\"--multi\",\n",
    "\"--no-retry\",\n",
    "\"--no-refine\",\n",
    "\n",
    "\"--xgandalf-sampling-pitch=n\"\n",
    "\"--xgandalf-grad-desc-iterations=n\"\n",
    "\"--xgandalf-tolerance=n\"\n",
    "\"--xgandalf-no-deviation-from-provided-cell\"\n",
    "\"--xgandalf-max-lattice-vector-length=n\"\n",
    "\"--xgandalf-min-lattice-vector-length=n\"\n",
    "\"--xgandalf-max-peaks=n\"\n",
    "\"--xgandalf-fast-execution\"\n",
    "\"\"\"\n",
    "\n",
    "\"\"\" Integration\n",
    "\"--fix-profile-radius=n\",\n",
    "\"--fix-divergence=n\",\n",
    "\"--integration=rings\",\n",
    "\"--int-radius=4,5,10\",\n",
    "\"--push-res=n\",\n",
    "\"--overpredict\",\n",
    "\"--cell-parameters-only\",\n",
    "\"\"\"\n",
    "\n",
    "\"\"\" Output\n",
    "\"--no-non-hits-in-stream\",\n",
    "\"--no-peaks-in-stream\",\n",
    "\"--no-refls-in-stream\",\n",
    "\"--serial-offset\n",
    "\"\"\"\n",
    "\n",
    "gandalf_iterator(x, y, geomfile_path, cellfile_path, input_path, output_file_base, num_threads, step_size, layers, extra_flags=extra_flags)\n"
   ]
  },
  {
   "cell_type": "code",
   "execution_count": 11,
   "metadata": {},
   "outputs": [
    {
     "name": "stdout",
     "output_type": "stream",
     "text": [
      "1\n"
     ]
    }
   ],
   "source": [
    "s = str(phase.point_group)\n",
    "# This splits the string on whitespace.\n",
    "tokens = s.split()\n",
    "# tokens would be something like: ['Symmetry', '(1,)', '1', '[[1.', '0.', '0.', '0.]]']\n",
    "pointgroup_symbol = tokens[2]\n",
    "print(pointgroup_symbol)\n"
   ]
  },
  {
   "cell_type": "code",
   "execution_count": 12,
   "metadata": {},
   "outputs": [
    {
     "name": "stdout",
     "output_type": "stream",
     "text": [
      "Running partialator for stream file: /home/bubl3932/files/lyso_sim/simulation-11/lyso_sim_from_file_-512.5_-512.5.stream\n"
     ]
    },
    {
     "name": "stderr",
     "output_type": "stream",
     "text": [
      "Partialator Progress: 100%|██████████| 7/7 [00:59<00:00,  8.52s/Residual]"
     ]
    },
    {
     "name": "stdout",
     "output_type": "stream",
     "text": [
      "Partialator completed for stream file: /home/bubl3932/files/lyso_sim/simulation-11/lyso_sim_from_file_-512.5_-512.5.stream\n",
      "[INFO] Converting crystfel.hkl to output.mtz in directory: /home/bubl3932/files/lyso_sim/simulation-11/lyso_sim_from_file_-512.5_-512.5_merge_5_iter\n",
      "[INFO] Conversion to output.mtz completed successfully in: /home/bubl3932/files/lyso_sim/simulation-11/lyso_sim_from_file_-512.5_-512.5_merge_5_iter\n",
      "Conversion to MTZ successful. Output in: /home/bubl3932/files/lyso_sim/simulation-11/lyso_sim_from_file_-512.5_-512.5_merge_5_iter\n",
      "All done. Results are in: /home/bubl3932/files/lyso_sim/simulation-11/lyso_sim_from_file_-512.5_-512.5_merge_5_iter\n"
     ]
    },
    {
     "name": "stderr",
     "output_type": "stream",
     "text": [
      "\n"
     ]
    }
   ],
   "source": [
    "from run_partialator_and_convert import run_partialator_and_convert\n",
    "\n",
    "stream_file = f\"{new_sim_folder}/{output_file_base}_-{x}_-{y}.stream\"\n",
    "pointgroup = pointgroup_symbol  # Point group of the crystal\n",
    "num_threads = 24\n",
    "iterations = 5\n",
    "\n",
    "output_dir = run_partialator_and_convert(\n",
    "    stream_file,\n",
    "    pointgroup=pointgroup,\n",
    "    num_threads=num_threads,\n",
    "    iterations=iterations,\n",
    "    convert_to_mtz=True,\n",
    "    cell_file=cellfile_path\n",
    ")\n",
    "\n",
    "if output_dir is not None:\n",
    "    print(\"All done. Results are in:\", output_dir)\n",
    "\n"
   ]
  },
  {
   "cell_type": "code",
   "execution_count": 13,
   "metadata": {},
   "outputs": [
    {
     "name": "stdout",
     "output_type": "stream",
     "text": [
      "Running ctruncate...\n",
      "Running freerflag...\n",
      "Running refmac5...\n"
     ]
    },
    {
     "name": "stderr",
     "output_type": "stream",
     "text": [
      "Refmac5 CGMAT cycles: 100%|██████████| 30/30 [00:51<00:00,  1.72s/cycle]"
     ]
    },
    {
     "name": "stdout",
     "output_type": "stream",
     "text": [
      "Done! Check the output files in /home/bubl3932/files/lyso_sim/simulation-11/lyso_sim_from_file_-512.5_-512.5_merge_5_iter\n"
     ]
    },
    {
     "name": "stderr",
     "output_type": "stream",
     "text": [
      "\n"
     ]
    }
   ],
   "source": [
    "from ctruncate_freerflag_refmac5 import ctruncate_freerflag_refmac5\n",
    "\n",
    "mtz_file = f\"{output_dir}/output.mtz\"\n",
    "min_res = 1/reciprocal_radius\n",
    "bins = 20\n",
    "\n",
    "ctruncate_freerflag_refmac5(mtz_file, pdbfile, min_res=min_res, bins=bins)"
   ]
  }
 ],
 "metadata": {
  "kernelspec": {
   "display_name": "pyxem-env",
   "language": "python",
   "name": "python3"
  },
  "language_info": {
   "codemirror_mode": {
    "name": "ipython",
    "version": 3
   },
   "file_extension": ".py",
   "mimetype": "text/x-python",
   "name": "python",
   "nbconvert_exporter": "python",
   "pygments_lexer": "ipython3",
   "version": "3.10.16"
  }
 },
 "nbformat": 4,
 "nbformat_minor": 2
}
