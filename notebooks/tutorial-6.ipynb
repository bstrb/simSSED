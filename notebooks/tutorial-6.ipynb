{
 "cells": [
  {
   "cell_type": "markdown",
   "metadata": {},
   "source": [
    "# 01. Perform simulations"
   ]
  },
  {
   "cell_type": "code",
   "execution_count": null,
   "metadata": {},
   "outputs": [
    {
     "name": "stdout",
     "output_type": "stream",
     "text": [
      "Symmetry (4,) 222\n",
      "[[1. 0. 0. 0.]\n",
      " [0. 0. 0. 1.]\n",
      " [0. 1. 0. 0.]\n",
      " [0. 0. 1. 0.]]\n"
     ]
    },
    {
     "name": "stderr",
     "output_type": "stream",
     "text": [
      " 36%|███▌      | 61/171 [00:04<00:07, 14.66it/s]"
     ]
    }
   ],
   "source": [
    "from orix.crystal_map import Phase\n",
    "from orix.sampling import get_sample_reduced_fundamental\n",
    "from diffsims.generators.simulation_generator import SimulationGenerator\n",
    "from diffpy.structure import Lattice, Structure, Atom\n",
    "from parse_pdb_with_scale_remove_h import parse_pdb_with_scale\n",
    "\n",
    "pdbfile = \"/Users/xiaodong/Desktop/UOX-simulations/UOX.pdb\"\n",
    "\n",
    "cell, sg_sym, atoms = parse_pdb_with_scale(pdbfile, remove_hydrogens=True, include_occupancy=True)\n",
    "\n",
    "lattice = Lattice(*cell)\n",
    "\n",
    "# Define the phase using less atoms than in the pdb for computational reasons\n",
    "atoms = [Atom(\"C\", (0, 0, 0), 1.0),]\n",
    "\n",
    "# Create the structure and corresponding phase\n",
    "structure = Structure(atoms, lattice)\n",
    "phase = Phase(space_group = 23, structure=structure)\n",
    "\n",
    "# Sample orientations in the symmetry-reduced zone (resolution in degrees)\n",
    "orientations = get_sample_reduced_fundamental(\n",
    "    resolution=10,\n",
    "    point_group=phase.point_group,\n",
    ")\n",
    "\n",
    "# Initialize the simulation generator (e.g., setting the accelerating voltage)\n",
    "generator = SimulationGenerator(\n",
    "        accelerating_voltage = 300,\n",
    "        scattering_params = \"lobato\",\n",
    "        precession_angle = 0,\n",
    "        shape_factor_model = \"lorentzian\",\n",
    "        approximate_precession = False,\n",
    "        minimum_intensity = 1e-20,\n",
    "        )\n",
    "\n",
    "# Calculate 2D diffraction simulations using the provided phase and orientations\n",
    "simulations = generator.calculate_diffraction2d(\n",
    "    phase = phase,\n",
    "    rotation = orientations,\n",
    "    reciprocal_radius = 1/1.3,  # 1/Å (i.e. Å⁻¹)\n",
    "    with_direct_beam = True,   # Include the direct beam\n",
    "    max_excitation_error = 0.0005,\n",
    "    shape_factor_width = None,\n",
    "    debye_waller_factors = None,\n",
    "    show_progressbar = True\n",
    ")\n",
    "\n",
    "# Plot the simulations (this may include an interactive slider)\n",
    "simulations.plot(in_plane_angle=0, calibration = 0.0015090274190359715)"
   ]
  },
  {
   "cell_type": "code",
   "execution_count": null,
   "metadata": {},
   "outputs": [
    {
     "name": "stderr",
     "output_type": "stream",
     "text": [
      "Processing images: 100%|██████████| 100/100 [00:01<00:00, 63.11it/s]\n"
     ]
    },
    {
     "name": "stdout",
     "output_type": "stream",
     "text": [
      "Processing complete. Updated file saved at: /Users/xiaodong/Desktop/UOX-simulations/simulation-28/sim.h5\n"
     ]
    },
    {
     "data": {
      "application/vnd.jupyter.widget-view+json": {
       "model_id": "41040023d1de44ccbe6d36ebfdf8261a",
       "version_major": 2,
       "version_minor": 0
      },
      "text/plain": [
       "interactive(children=(IntSlider(value=0, description='index', max=99), Output()), _dom_classes=('widget-intera…"
      ]
     },
     "metadata": {},
     "output_type": "display_data"
    },
    {
     "data": {
      "text/plain": [
       "<function __main__.<lambda>(index)>"
      ]
     },
     "execution_count": 10,
     "metadata": {},
     "output_type": "execute_result"
    }
   ],
   "source": [
    "# Make sure plots display inline\n",
    "%matplotlib inline\n",
    "import os\n",
    "import ipywidgets as widgets\n",
    "from ipywidgets import interact\n",
    "from process_simulation import process_simulation\n",
    "from helper_functions import copy_h5_file, get_next_simulation_folder, load_h5_data, view_image\n",
    "\n",
    "# Specify the input HDF5 file\n",
    "input_filename = \"/Users/xiaodong/Desktop/UOX-simulations/UOX1_sub_radial_backgrounds.h5\"\n",
    "base_dir = os.path.dirname(input_filename)\n",
    "\n",
    "# 1. Create a new simulation folder\n",
    "new_sim_folder = get_next_simulation_folder(base_dir)\n",
    "\n",
    "# 2. Copy the original file to the new simulation folder\n",
    "output_filename = os.path.join(new_sim_folder, \"sim.h5\")\n",
    "copy_h5_file(input_filename, output_filename)\n",
    "\n",
    "# 3. Process the simulation images.\n",
    "# Note: 'simulations' should be defined (or imported) before calling process_simulation.\n",
    "process_simulation(output_filename,\n",
    "                   simulations, \n",
    "                   intensity_scale=1000,\n",
    "                   calibration=0.0015090274190359715, \n",
    "                   sigma=1.5, \n",
    "                   fast_clip_threshold=0.1)\n",
    "\n",
    "# 4. Load the processed data for interactive visualization\n",
    "images_arr, angles_arr = load_h5_data(output_filename)\n",
    "\n",
    "# 5. Set up the interactive viewer\n",
    "interact(lambda index: view_image(index, images_arr, angles_arr), \n",
    "         index=widgets.IntSlider(min=0, max=images_arr.shape[0]-1, step=1, value=0))\n"
   ]
  }
 ],
 "metadata": {
  "kernelspec": {
   "display_name": "cupy_env",
   "language": "python",
   "name": "python3"
  },
  "language_info": {
   "codemirror_mode": {
    "name": "ipython",
    "version": 3
   },
   "file_extension": ".py",
   "mimetype": "text/x-python",
   "name": "python",
   "nbconvert_exporter": "python",
   "pygments_lexer": "ipython3",
   "version": "3.11.11"
  }
 },
 "nbformat": 4,
 "nbformat_minor": 2
}
