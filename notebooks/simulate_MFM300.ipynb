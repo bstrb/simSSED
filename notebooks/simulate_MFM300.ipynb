{
 "cells": [
  {
   "cell_type": "markdown",
   "metadata": {},
   "source": [
    "# Generate Simulations"
   ]
  },
  {
   "cell_type": "code",
   "execution_count": 11,
   "metadata": {},
   "outputs": [
    {
     "name": "stderr",
     "output_type": "stream",
     "text": [
      "4135627: 100%|██████████| 1657/1657 [00:59<00:00, 27.93it/s]\n"
     ]
    }
   ],
   "source": [
    "from orix.crystal_map import Phase\n",
    "from orix.sampling import get_sample_reduced_fundamental\n",
    "from diffsims.generators.simulation_generator import SimulationGenerator\n",
    "\n",
    "# cif_file = \"/Users/xiaodong/Desktop/simulations/MFM300-VIII/4135627.cif\"\n",
    "cif_file = \"/home/bubl3932/files/MFM300_VIII/simulations/4135627.cif\"\n",
    "resolution = 2                  # angular resolution(granularity) of simulation in degrees\n",
    "reciprocal_radius = 1/0.2       # 1/Å (i.e. Å⁻¹)\n",
    "with_direct_beam = False        # Include the direct beam\n",
    "max_excitation_error = 0.01        # approx 1/thickness of crystal\n",
    "shape_factor_width = 0.001       # None or float if none then set to max_excitation_error\n",
    "accelerating_voltage = 300      # kV\n",
    "\n",
    "# Get phase from cif\n",
    "phase = Phase.from_cif(cif_file)\n",
    "\n",
    "# Sample orientations in the symmetry-reduced zone (resolution in degrees)\n",
    "orientations = get_sample_reduced_fundamental(resolution=resolution, point_group=phase.point_group)\n",
    "\n",
    "# Initialize the simulation generator (e.g., setting the accelerating voltage)\n",
    "generator = SimulationGenerator(accelerating_voltage = accelerating_voltage, approximate_precession = False)\n",
    "\n",
    "# Calculate 2D diffraction simulations using the provided phase and orientations\n",
    "simulations = generator.calculate_diffraction2d(\n",
    "    phase = phase,\n",
    "    rotation = orientations,\n",
    "    reciprocal_radius = reciprocal_radius,\n",
    "    with_direct_beam = with_direct_beam,\n",
    "    max_excitation_error = max_excitation_error,\n",
    "    shape_factor_width = shape_factor_width,\n",
    "    debye_waller_factors = None,\n",
    "    show_progressbar = True\n",
    ")\n",
    "\n",
    "# simulations.plot();"
   ]
  },
  {
   "cell_type": "markdown",
   "metadata": {},
   "source": [
    "# Add Simulations to Image with or without Background"
   ]
  },
  {
   "cell_type": "code",
   "execution_count": 12,
   "metadata": {},
   "outputs": [
    {
     "name": "stdout",
     "output_type": "stream",
     "text": [
      "Created dataset 'backgrounds' in file: /home/bubl3932/files/MFM300_VIII/simulations/1657_empty_backgrounds.h5\n",
      "Dataset shape:     (1657, 1024, 1024)\n",
      "Data type:         float32\n",
      "Chunk dimensions:  (1000, 1024, 1024)\n",
      "→ Wrote /home/bubl3932/files/MFM300_VIII/simulations/simulation-3/4135627.geom\n"
     ]
    },
    {
     "name": "stderr",
     "output_type": "stream",
     "text": [
      "Processing images: 100%|██████████| 1657/1657 [00:52<00:00, 31.65it/s]"
     ]
    },
    {
     "name": "stdout",
     "output_type": "stream",
     "text": [
      "Processing complete. Updated file saved at: /home/bubl3932/files/MFM300_VIII/simulations/simulation-3/sim.h5\n",
      "Variables have been written to /home/bubl3932/files/MFM300_VIII/simulations/simulation-3/simulation_parameters.txt\n"
     ]
    },
    {
     "name": "stderr",
     "output_type": "stream",
     "text": [
      "\n"
     ]
    }
   ],
   "source": [
    "import os\n",
    "from tqdm import tqdm\n",
    "import h5py\n",
    "from cif2cell_gemmi import extract_parameters, write_cell\n",
    "from generate_geom import write_geom_file\n",
    "from calculate_calibration import calculate_calibration\n",
    "from create_empty_backgrounds import create_empty_backgrounds\n",
    "from helper_functions_UB import copy_h5_file, get_next_simulation_folder\n",
    "from compute_B import compute_B\n",
    "\n",
    "params = extract_parameters(cif_file) \n",
    "\n",
    "lattice = phase.structure.lattice\n",
    "cell = (\n",
    "    lattice.a,\n",
    "    lattice.b,\n",
    "    lattice.c,\n",
    "    lattice.alpha,\n",
    "    lattice.beta,\n",
    "    lattice.gamma,\n",
    ")\n",
    "in_plane_angle = 180                # set to correspond to geometry file definitions of xs and ss, if p0/corner_x = -512.5 p0/corner_y = -512.5 set to 180\n",
    "sigma = 2                           # spread of the  in pixels\n",
    "wavelength = 0.019687               # wavelength in Å\n",
    "clen = 0.3                          # camera length in m\n",
    "pixels_per_m = 17857.14285714286    # pixels per meter (i.e. 1e-6 m/pixel)\n",
    "calibration = calculate_calibration(\n",
    "    wavelength_A=wavelength, \n",
    "    clen_m=clen, res=pixels_per_m)  # calculated based on geometry (use script to calculate)\n",
    "fast = False                        # use fast if no subpixel accuracy is needed\n",
    "normalize = True                    # normalize the intensities of simulated spots\n",
    "fast_clip_threshold = 1e-12         # threshold for clipping the fast simulation\n",
    "intensity_scale = 10000             # scale the intensity of the simulated spots\n",
    "\n",
    "working_dir = os.path.dirname(cif_file)\n",
    "create_empty_backgrounds(working_dir, simulations.current_size)\n",
    "input_filename = os.path.join(working_dir, f\"{simulations.current_size}_empty_backgrounds.h5\")\n",
    "\n",
    "# Compute the B matrix from cell parameters\n",
    "B = compute_B(cell)\n",
    "\n",
    "# 1. Create a new simulation folder\n",
    "base_dir = os.path.dirname(input_filename)\n",
    "new_sim_folder = get_next_simulation_folder(base_dir)\n",
    "\n",
    "output_cell_base = os.path.basename(cif_file).replace(\".cif\", \".cell\")\n",
    "output_cell = os.path.join(new_sim_folder, output_cell_base)\n",
    "write_cell(params, output_cell)\n",
    "\n",
    "output_geom_base = os.path.basename(cif_file).replace(\".cif\", \".geom\")\n",
    "output_geom = os.path.join(new_sim_folder, output_geom_base)\n",
    "write_geom_file(\n",
    "    filename=output_geom,\n",
    "    wavelength=wavelength,\n",
    "    clen=clen,\n",
    "    res=pixels_per_m\n",
    ")\n",
    "# 2. Copy the original file to the new simulation folder\n",
    "output_filename = os.path.join(new_sim_folder, \"sim.h5\")\n",
    "copy_h5_file(input_filename, output_filename)\n",
    "\n",
    "# 3. Process the simulation images.\n",
    "with h5py.File(output_filename, \"r+\") as data:\n",
    "    images = data[\"entry\"][\"data\"][\"images\"]\n",
    "    orientation_matrices = data[\"entry\"][\"data\"].require_dataset(\n",
    "        \"simulation_orientation_matrices\", \n",
    "        shape=(images.shape[0], 3, 3), \n",
    "        dtype=float\n",
    "    )\n",
    "    det_shift_x_mm = data[\"entry\"][\"data\"].require_dataset(\n",
    "    \"det_shift_x_mm\",\n",
    "    shape=(images.shape[0],),\n",
    "    dtype=float,\n",
    "    fillvalue=0\n",
    "    )\n",
    "    det_shift_y_mm = data[\"entry\"][\"data\"].require_dataset(\n",
    "    \"det_shift_y_mm\",\n",
    "    shape=(images.shape[0],),\n",
    "    dtype=float,\n",
    "    fillvalue=0\n",
    "    )\n",
    "\n",
    "    shape = images.shape[-2:]\n",
    "    beam_pos = (shape[0] // 2, shape[1] // 2)\n",
    "\n",
    "    for i in tqdm(range(images.shape[0]), desc=\"Processing images\"):\n",
    "        img = simulations.irot[i].get_diffraction_pattern(\n",
    "            shape=shape,\n",
    "            direct_beam_position=beam_pos,\n",
    "            in_plane_angle=in_plane_angle,  \n",
    "            sigma=sigma,\n",
    "            calibration=calibration,\n",
    "            fast=fast,\n",
    "            normalize=normalize,\n",
    "            fast_clip_threshold=fast_clip_threshold\n",
    "        )\n",
    "        img = (img * intensity_scale).astype(images.dtype)\n",
    "        images[i] += img\n",
    "        orientation_matrices_i = simulations.rotations[i].to_matrix().squeeze()\n",
    "        \n",
    "        orientation_matrices[i] = B @ orientation_matrices_i \n",
    "\n",
    "print(\"Processing complete. Updated file saved at:\", output_filename)\n",
    "\n",
    "# Construct the full file path\n",
    "simulation_parameter_txt = os.path.join(new_sim_folder, \"simulation_parameters.txt\")\n",
    "\n",
    "# Write variables and their values to the file\n",
    "with open(simulation_parameter_txt, \"w\") as file:\n",
    "    file.write(f\"cif_file = {cif_file}\\n\")\n",
    "    file.write(f\"resolution = {resolution}\\n\")\n",
    "    file.write(f\"reciprocal_radius = {reciprocal_radius}\\n\")\n",
    "    file.write(f\"with_direct_beam = {with_direct_beam}\\n\")\n",
    "    file.write(f\"max_excitation_error = {max_excitation_error}\\n\")\n",
    "    file.write(f\"shape_factor_width = {shape_factor_width}\\n\")\n",
    "    file.write(f\"accelerating_voltage = {accelerating_voltage}\\n\")\n",
    "    file.write(f\"cell = {cell}\\n\")\n",
    "    file.write(f\"input_filename = {input_filename}\\n\")\n",
    "    file.write(f\"shape = {shape}\\n\")\n",
    "    file.write(f\"beam_pos = {beam_pos} (actually 0.5 pixels less i.e use p0/corner_x, p0/corner_y = -{(beam_pos[0] + 0.5, beam_pos[1] + 0.5)} in .geom file)\\n\")\n",
    "    file.write(f\"sigma = {sigma}\\n\")\n",
    "    file.write(f\"calibration = {calibration}\\n\")\n",
    "    file.write(f\"fast = {fast}\\n\")\n",
    "    file.write(f\"normalize = {normalize}\\n\")\n",
    "    file.write(f\"fast_clip_threshold = {fast_clip_threshold}\\n\")\n",
    "    file.write(f\"intensity_scale = {intensity_scale}\\n\")\n",
    "\n",
    "print(f\"Variables have been written to {simulation_parameter_txt}\")\n",
    "\n",
    "# Read back the entire dataset into memory\n",
    "with h5py.File(output_filename, \"r\") as data:\n",
    "    orientation_matrices_np = data[\"entry\"][\"data\"][\"simulation_orientation_matrices\"][:]\n",
    "output_sol = os.path.join(new_sim_folder, \"orientation_matrices.sol\")\n",
    "\n",
    "# Write orientation matrices to a .sol file\n",
    "with open(output_sol, \"w\") as sol_file:\n",
    "    for i, matrix in enumerate(orientation_matrices_np):\n",
    "        # Flatten the 3x3 matrix (row-major order)\n",
    "        # Each number is formatted with a sign (+ or -) and 7 decimal places.\n",
    "        line = \" \".join(f\"{num:+.7f}\" for num in matrix.flatten())\n",
    "        # sol_file.write(f\"{output_filename} //{i} \" + line + f\" 0.000 0.000 tI\\n\")\n",
    "        sol_file.write(f\"{output_filename} //{i} \" + line + f\" 0.000 0.000 {params['bravais']}\\n\")"
   ]
  },
  {
   "cell_type": "markdown",
   "metadata": {},
   "source": [
    "# Show Simulations on Background from .h5 file"
   ]
  },
  {
   "cell_type": "code",
   "execution_count": 6,
   "metadata": {},
   "outputs": [
    {
     "data": {
      "application/vnd.jupyter.widget-view+json": {
       "model_id": "3fd79ec1c5314853be1274828e23dff2",
       "version_major": 2,
       "version_minor": 0
      },
      "text/plain": [
       "interactive(children=(IntSlider(value=0, description='index', max=90), Output()), _dom_classes=('widget-intera…"
      ]
     },
     "metadata": {},
     "output_type": "display_data"
    },
    {
     "data": {
      "text/plain": [
       "<function __main__.<lambda>(index)>"
      ]
     },
     "execution_count": 6,
     "metadata": {},
     "output_type": "execute_result"
    }
   ],
   "source": [
    "# To make sure plots display inline\n",
    "%matplotlib inline\n",
    "import ipywidgets as widgets\n",
    "from ipywidgets import interact\n",
    "from helper_functions_UB import load_h5_data, view_image\n",
    "\n",
    "# 4. Load the processed data for interactive visualization\n",
    "images_arr, orientation_matrices_str = load_h5_data(output_filename)\n",
    "\n",
    "# 5. Set up the interactive viewer\n",
    "interact(lambda index: view_image(index, images_arr, orientation_matrices_str), \n",
    "         index=widgets.IntSlider(min=0, max=images_arr.shape[0]-1, step=1, value=0))"
   ]
  },
  {
   "cell_type": "markdown",
   "metadata": {},
   "source": [
    "# Integration from .sol file"
   ]
  },
  {
   "cell_type": "code",
   "execution_count": null,
   "metadata": {},
   "outputs": [
    {
     "name": "stdout",
     "output_type": "stream",
     "text": [
      "'list.lst' has been created with 1 entries at /home/bubl3932/files/MFM300_VIII/simulations/simulation-1/list.lst\n"
     ]
    },
    {
     "name": "stderr",
     "output_type": "stream",
     "text": [
      "Processing XY pairs:   0%|          | 0/1 [00:00<?, ?it/s]"
     ]
    },
    {
     "name": "stdout",
     "output_type": "stream",
     "text": [
      "Running for x=-512.5, y=-512.5\n"
     ]
    },
    {
     "name": "stderr",
     "output_type": "stream",
     "text": [
      "This is what I understood your unit cell to be:\n",
      "tetragonal I, unique axis c, right handed.\n",
      "a      b      c            alpha   beta  gamma\n",
      " 15.12  15.12  12.07 A     90.00  90.00  90.00 deg\n",
      "Invalid lattice type 'tI'\n",
      "Invalid lattice type 'tI'\n",
      "Invalid lattice type 'tI'\n",
      "Invalid lattice type 'tI'\n",
      "Invalid lattice type 'tI'\n",
      "Invalid lattice type 'tI'\n",
      "Invalid lattice type 'tI'\n",
      "Invalid lattice type 'tI'\n",
      "Invalid lattice type 'tI'\n",
      "Invalid lattice type 'tI'\n",
      "Invalid lattice type 'tI'\n",
      "Invalid lattice type 'tI'\n",
      "Invalid lattice type 'tI'\n",
      "Invalid lattice type 'tI'\n",
      "Invalid lattice type 'tI'\n",
      "Invalid lattice type 'tI'\n",
      "Invalid lattice type 'tI'\n",
      "Invalid lattice type 'tI'\n",
      "Invalid lattice type 'tI'\n",
      "Invalid lattice type 'tI'\n",
      "Invalid lattice type 'tI'\n",
      "Invalid lattice type 'tI'\n",
      "Invalid lattice type 'tI'\n",
      "Invalid lattice type 'tI'\n",
      "Invalid lattice type 'tI'\n",
      "Invalid lattice type 'tI'\n",
      "Invalid lattice type 'tI'\n",
      "Invalid lattice type 'tI'\n",
      "Invalid lattice type 'tI'\n",
      "Invalid lattice type 'tI'\n",
      "Invalid lattice type 'tI'\n",
      "Invalid lattice type 'tI'\n",
      "Invalid lattice type 'tI'\n",
      "Invalid lattice type 'tI'\n",
      "Invalid lattice type 'tI'\n",
      "Invalid lattice type 'tI'\n",
      "Invalid lattice type 'tI'\n",
      "Invalid lattice type 'tI'\n",
      "Invalid lattice type 'tI'\n",
      "Invalid lattice type 'tI'\n",
      "Invalid lattice type 'tI'\n",
      "Invalid lattice type 'tI'\n",
      "Invalid lattice type 'tI'\n",
      "Invalid lattice type 'tI'\n",
      "Invalid lattice type 'tI'\n",
      "Invalid lattice type 'tI'\n",
      "Invalid lattice type 'tI'\n",
      "Invalid lattice type 'tI'\n",
      "Invalid lattice type 'tI'\n",
      "Invalid lattice type 'tI'\n",
      "Invalid lattice type 'tI'\n",
      "Invalid lattice type 'tI'\n",
      "Invalid lattice type 'tI'\n",
      "Invalid lattice type 'tI'\n",
      "Invalid lattice type 'tI'\n",
      "Invalid lattice type 'tI'\n",
      "Invalid lattice type 'tI'\n",
      "Invalid lattice type 'tI'\n",
      "Invalid lattice type 'tI'\n",
      "Invalid lattice type 'tI'\n",
      "Invalid lattice type 'tI'\n",
      "Invalid lattice type 'tI'\n",
      "Invalid lattice type 'tI'\n",
      "Invalid lattice type 'tI'\n",
      "Invalid lattice type 'tI'\n",
      "Invalid lattice type 'tI'\n",
      "Invalid lattice type 'tI'\n",
      "Invalid lattice type 'tI'\n",
      "Invalid lattice type 'tI'\n",
      "Invalid lattice type 'tI'\n",
      "Invalid lattice type 'tI'\n",
      "Invalid lattice type 'tI'\n",
      "Invalid lattice type 'tI'\n",
      "Invalid lattice type 'tI'\n",
      "Invalid lattice type 'tI'\n",
      "Invalid lattice type 'tI'\n",
      "Invalid lattice type 'tI'\n",
      "Invalid lattice type 'tI'\n",
      "Invalid lattice type 'tI'\n",
      "Invalid lattice type 'tI'\n",
      "Invalid lattice type 'tI'\n",
      "Invalid lattice type 'tI'\n",
      "Invalid lattice type 'tI'\n",
      "Invalid lattice type 'tI'\n",
      "Invalid lattice type 'tI'\n",
      "Invalid lattice type 'tI'\n",
      "Invalid lattice type 'tI'\n",
      "Invalid lattice type 'tI'\n",
      "Invalid lattice type 'tI'\n",
      "Invalid lattice type 'tI'\n",
      "Invalid lattice type 'tI'\n",
      "Read 91 crystals from /home/bubl3932/files/MFM300_VIII/simulations/simulation-1/orientation_matrices.sol\n",
      "List of indexing methods:\n",
      "   0: file-nolatt-nocell        (file - no prior information)\n",
      "Indexing parameters:\n",
      "                  Check unit cell parameters: off\n",
      "                        Check peak alignment: off\n",
      "                   Refine indexing solutions: off\n",
      " Multi-lattice indexing (\"delete and retry\"): off\n",
      "                              Retry indexing: off\n",
      "Waiting for the last patterns to be processed...\n",
      "Final: 91 images processed, 91 hits (100.0%), 0 indexable (0.0% of hits, 0.0% overall), 0 crystals.\n",
      "Processing XY pairs: 100%|██████████| 1/1 [00:00<00:00,  3.38it/s]\n"
     ]
    }
   ],
   "source": [
    "from gandalf_iterator import gandalf_iterator\n",
    "\n",
    "geomfile_path = output_geom\n",
    "cellfile_path = output_cell\n",
    "input_path =   new_sim_folder\n",
    "input_sol_file = output_sol\n",
    "\n",
    "output_file_base = \"from_file\"\n",
    "\n",
    "num_threads = 8\n",
    "x, y = 512.5, 512.5\n",
    "step_size = 0.5\n",
    "layers = 0\n",
    "\n",
    "extra_flags=[\n",
    "# PEAKFINDING\n",
    "\"--no-revalidate\",\n",
    "\"--no-half-pixel-shift\",\n",
    "\n",
    "\"--peaks=peakfinder9\",\n",
    "# \"--min-snr=1\",\n",
    "# \"--min-snr-biggest-pix=1\",\n",
    "# \"--min-sig=10\",\n",
    "# \"--local-bg-radius=5\",\n",
    "\n",
    "# INDEXING\n",
    "\"--indexing=file\",\n",
    "f\"--fromfile-input-file={input_sol_file}\",\n",
    "\"--no-check-cell\",\n",
    "\"--no-check-peaks\",\n",
    "\"--no-retry\",\n",
    "\"--no-refine\",\n",
    "\n",
    "# INTEGRATION\n",
    "\"--integration=rings\",\n",
    "\"--int-radius=2,5,10\",\n",
    "\n",
    "# OUTPUT\n",
    "\"--no-non-hits-in-stream\",\n",
    "\"--fix-profile-radius=40000000\",\n",
    "]\n",
    "\n",
    "\"\"\"Examples of extra flags(see crystfel documentation https://www.desy.de/~twhite/crystfel/manual-indexamajig.html):\"\"\"\n",
    "\n",
    "\"\"\" Basic options\n",
    "\"--highres=n\",\n",
    "\"--no-image-data\",\n",
    "\"\"\"\n",
    "\n",
    "\"\"\" Peakfinding\n",
    "\"--peaks=cxi\",\n",
    "\"--peak-radius=inner,middle,outer\",\n",
    "\"--min-peaks=n\",\n",
    "\"--median-filter=n\",\n",
    "\"--filter-noise\",\n",
    "\"--no-revalidate\",\n",
    "\"--no-half-pixel-shift\",\n",
    "\n",
    "\"--peaks=peakfinder9\",\n",
    "\"--min-snr=1\",\n",
    "\"--min-snr-peak-pix=6\",\n",
    "\"--min-snr-biggest-pix=1\",\n",
    "\"--min-sig=9\",\n",
    "\"--min-peak-over-neighbour=5\",\n",
    "\"--local-bg-radius=5\",\n",
    "\n",
    "\"--peaks=peakfinder8\",\n",
    "\"--threshold=45\",\n",
    "\"--min-snr=3\",\n",
    "\"--min-pix-count=3\",\n",
    "\"--max-pix-count=500\",\n",
    "\"--local-bg-radius=9\",\n",
    "\"--min-res=30\",\n",
    "\"--max-res=500\",\n",
    "\"\"\"\n",
    "\n",
    "\"\"\" Indexing\n",
    "\"--indexing=xgandalf\",\n",
    "\n",
    "\"--tolerance=tol\"\n",
    "\"--no-check-cell\",\n",
    "\"--no-check-peaks\",\n",
    "\"--multi\",\n",
    "\"--no-retry\",\n",
    "\"--no-refine\",\n",
    "\n",
    "\"--xgandalf-sampling-pitch=n\"\n",
    "\"--xgandalf-grad-desc-iterations=n\"\n",
    "\"--xgandalf-tolerance=n\"\n",
    "\"--xgandalf-no-deviation-from-provided-cell\"\n",
    "\"--xgandalf-max-lattice-vector-length=n\"\n",
    "\"--xgandalf-min-lattice-vector-length=n\"\n",
    "\"--xgandalf-max-peaks=n\"\n",
    "\"--xgandalf-fast-execution\"\n",
    "\"\"\"\n",
    "\n",
    "\"\"\" Integration\n",
    "\"--integration=rings\",\n",
    "\"--int-radius=10,11,15\",\n",
    "\"--push-res=n\",\n",
    "\"--overpredict\",\n",
    "\"--cell-parameters-only\",\n",
    "\"\"\"\n",
    "\n",
    "\"\"\" Output\n",
    "\"--no-non-hits-in-stream\",\n",
    "\"--no-peaks-in-stream\",\n",
    "\"--no-refls-in-stream\",\n",
    "\"--serial-offset\n",
    "\"\"\"\n",
    "\n",
    "gandalf_iterator(x, y, geomfile_path, cellfile_path, input_path, output_file_base, num_threads, step_size, layers, extra_flags=extra_flags)\n"
   ]
  },
  {
   "cell_type": "markdown",
   "metadata": {},
   "source": [
    "# Index using XGANDALF and Integration using rings"
   ]
  },
  {
   "cell_type": "code",
   "execution_count": 10,
   "metadata": {},
   "outputs": [
    {
     "name": "stdout",
     "output_type": "stream",
     "text": [
      "'list.lst' has been created with 1 entries at /home/bubl3932/files/MFM300_VIII/simulations/simulation-1/list.lst\n"
     ]
    },
    {
     "name": "stderr",
     "output_type": "stream",
     "text": [
      "Processing XY pairs:   0%|          | 0/49 [00:00<?, ?it/s]"
     ]
    },
    {
     "name": "stdout",
     "output_type": "stream",
     "text": [
      "Running for x=-512.5, y=-512.5\n"
     ]
    },
    {
     "name": "stderr",
     "output_type": "stream",
     "text": [
      "This is what I understood your unit cell to be:\n",
      "tetragonal I, unique axis c, right handed.\n",
      "a      b      c            alpha   beta  gamma\n",
      " 15.12  15.12  12.07 A     90.00  90.00  90.00 deg\n",
      "List of indexing methods:\n",
      "   0: xgandalf-nolatt-cell      (xgandalf using cell parameters as prior information)\n",
      "Indexing parameters:\n",
      "                  Check unit cell parameters: on\n",
      "                        Check peak alignment: on\n",
      "                   Refine indexing solutions: off\n",
      " Multi-lattice indexing (\"delete and retry\"): off\n",
      "                              Retry indexing: on\n",
      "Waiting for the last patterns to be processed...\n",
      "Final: 91 images processed, 91 hits (100.0%), 90 indexable (98.9% of hits, 98.9% overall), 90 crystals.\n",
      "Processing XY pairs:   2%|▏         | 1/49 [00:03<03:08,  3.92s/it]This is what I understood your unit cell to be:\n",
      "tetragonal I, unique axis c, right handed.\n",
      "a      b      c            alpha   beta  gamma\n",
      " 15.12  15.12  12.07 A     90.00  90.00  90.00 deg\n",
      "List of indexing methods:\n",
      "   0: xgandalf-nolatt-cell      (xgandalf using cell parameters as prior information)\n",
      "Indexing parameters:\n",
      "                  Check unit cell parameters: on\n",
      "                        Check peak alignment: on\n",
      "                   Refine indexing solutions: off\n",
      " Multi-lattice indexing (\"delete and retry\"): off\n",
      "                              Retry indexing: on\n"
     ]
    },
    {
     "name": "stdout",
     "output_type": "stream",
     "text": [
      "Running for x=-513.0, y=-513.0\n"
     ]
    },
    {
     "name": "stderr",
     "output_type": "stream",
     "text": [
      "Waiting for the last patterns to be processed...\n",
      "Final: 91 images processed, 91 hits (100.0%), 90 indexable (98.9% of hits, 98.9% overall), 90 crystals.\n",
      "Processing XY pairs:   4%|▍         | 2/49 [00:07<03:00,  3.84s/it]This is what I understood your unit cell to be:\n",
      "tetragonal I, unique axis c, right handed.\n",
      "a      b      c            alpha   beta  gamma\n",
      " 15.12  15.12  12.07 A     90.00  90.00  90.00 deg\n",
      "List of indexing methods:\n",
      "   0: xgandalf-nolatt-cell      (xgandalf using cell parameters as prior information)\n",
      "Indexing parameters:\n",
      "                  Check unit cell parameters: on\n",
      "                        Check peak alignment: on\n",
      "                   Refine indexing solutions: off\n",
      " Multi-lattice indexing (\"delete and retry\"): off\n",
      "                              Retry indexing: on\n"
     ]
    },
    {
     "name": "stdout",
     "output_type": "stream",
     "text": [
      "Running for x=-513.0, y=-512.5\n"
     ]
    },
    {
     "name": "stderr",
     "output_type": "stream",
     "text": [
      "Waiting for the last patterns to be processed...\n",
      "Final: 91 images processed, 91 hits (100.0%), 90 indexable (98.9% of hits, 98.9% overall), 90 crystals.\n",
      "Processing XY pairs:   6%|▌         | 3/49 [00:11<02:57,  3.85s/it]This is what I understood your unit cell to be:\n",
      "tetragonal I, unique axis c, right handed.\n",
      "a      b      c            alpha   beta  gamma\n",
      " 15.12  15.12  12.07 A     90.00  90.00  90.00 deg\n",
      "List of indexing methods:\n",
      "   0: xgandalf-nolatt-cell      (xgandalf using cell parameters as prior information)\n",
      "Indexing parameters:\n",
      "                  Check unit cell parameters: on\n",
      "                        Check peak alignment: on\n",
      "                   Refine indexing solutions: off\n",
      " Multi-lattice indexing (\"delete and retry\"): off\n",
      "                              Retry indexing: on\n"
     ]
    },
    {
     "name": "stdout",
     "output_type": "stream",
     "text": [
      "Running for x=-513.0, y=-512.0\n"
     ]
    },
    {
     "name": "stderr",
     "output_type": "stream",
     "text": [
      "Waiting for the last patterns to be processed...\n",
      "Final: 91 images processed, 91 hits (100.0%), 90 indexable (98.9% of hits, 98.9% overall), 90 crystals.\n",
      "Processing XY pairs:   8%|▊         | 4/49 [00:15<02:55,  3.90s/it]This is what I understood your unit cell to be:\n",
      "tetragonal I, unique axis c, right handed.\n",
      "a      b      c            alpha   beta  gamma\n",
      " 15.12  15.12  12.07 A     90.00  90.00  90.00 deg\n",
      "List of indexing methods:\n",
      "   0: xgandalf-nolatt-cell      (xgandalf using cell parameters as prior information)\n",
      "Indexing parameters:\n",
      "                  Check unit cell parameters: on\n",
      "                        Check peak alignment: on\n",
      "                   Refine indexing solutions: off\n",
      " Multi-lattice indexing (\"delete and retry\"): off\n",
      "                              Retry indexing: on\n"
     ]
    },
    {
     "name": "stdout",
     "output_type": "stream",
     "text": [
      "Running for x=-512.5, y=-513.0\n"
     ]
    },
    {
     "name": "stderr",
     "output_type": "stream",
     "text": [
      "Waiting for the last patterns to be processed...\n",
      "Final: 91 images processed, 91 hits (100.0%), 90 indexable (98.9% of hits, 98.9% overall), 90 crystals.\n",
      "Processing XY pairs:  10%|█         | 5/49 [00:19<02:53,  3.93s/it]This is what I understood your unit cell to be:\n",
      "tetragonal I, unique axis c, right handed.\n",
      "a      b      c            alpha   beta  gamma\n",
      " 15.12  15.12  12.07 A     90.00  90.00  90.00 deg\n",
      "List of indexing methods:\n",
      "   0: xgandalf-nolatt-cell      (xgandalf using cell parameters as prior information)\n",
      "Indexing parameters:\n",
      "                  Check unit cell parameters: on\n",
      "                        Check peak alignment: on\n",
      "                   Refine indexing solutions: off\n",
      " Multi-lattice indexing (\"delete and retry\"): off\n",
      "                              Retry indexing: on\n"
     ]
    },
    {
     "name": "stdout",
     "output_type": "stream",
     "text": [
      "Running for x=-512.5, y=-512.0\n"
     ]
    },
    {
     "name": "stderr",
     "output_type": "stream",
     "text": [
      "Waiting for the last patterns to be processed...\n",
      "Final: 91 images processed, 91 hits (100.0%), 90 indexable (98.9% of hits, 98.9% overall), 90 crystals.\n",
      "Processing XY pairs:  12%|█▏        | 6/49 [00:23<02:51,  3.99s/it]This is what I understood your unit cell to be:\n",
      "tetragonal I, unique axis c, right handed.\n",
      "a      b      c            alpha   beta  gamma\n",
      " 15.12  15.12  12.07 A     90.00  90.00  90.00 deg\n",
      "List of indexing methods:\n",
      "   0: xgandalf-nolatt-cell      (xgandalf using cell parameters as prior information)\n",
      "Indexing parameters:\n",
      "                  Check unit cell parameters: on\n",
      "                        Check peak alignment: on\n",
      "                   Refine indexing solutions: off\n",
      " Multi-lattice indexing (\"delete and retry\"): off\n",
      "                              Retry indexing: on\n"
     ]
    },
    {
     "name": "stdout",
     "output_type": "stream",
     "text": [
      "Running for x=-512.0, y=-513.0\n"
     ]
    },
    {
     "name": "stderr",
     "output_type": "stream",
     "text": [
      "Waiting for the last patterns to be processed...\n",
      "Final: 91 images processed, 91 hits (100.0%), 90 indexable (98.9% of hits, 98.9% overall), 90 crystals.\n",
      "Processing XY pairs:  14%|█▍        | 7/49 [00:27<02:48,  4.02s/it]This is what I understood your unit cell to be:\n",
      "tetragonal I, unique axis c, right handed.\n",
      "a      b      c            alpha   beta  gamma\n",
      " 15.12  15.12  12.07 A     90.00  90.00  90.00 deg\n",
      "List of indexing methods:\n",
      "   0: xgandalf-nolatt-cell      (xgandalf using cell parameters as prior information)\n",
      "Indexing parameters:\n",
      "                  Check unit cell parameters: on\n",
      "                        Check peak alignment: on\n",
      "                   Refine indexing solutions: off\n",
      " Multi-lattice indexing (\"delete and retry\"): off\n",
      "                              Retry indexing: on\n"
     ]
    },
    {
     "name": "stdout",
     "output_type": "stream",
     "text": [
      "Running for x=-512.0, y=-512.5\n"
     ]
    },
    {
     "name": "stderr",
     "output_type": "stream",
     "text": [
      "Waiting for the last patterns to be processed...\n",
      "Final: 91 images processed, 91 hits (100.0%), 90 indexable (98.9% of hits, 98.9% overall), 90 crystals.\n",
      "Processing XY pairs:  16%|█▋        | 8/49 [00:31<02:47,  4.08s/it]This is what I understood your unit cell to be:\n",
      "tetragonal I, unique axis c, right handed.\n",
      "a      b      c            alpha   beta  gamma\n",
      " 15.12  15.12  12.07 A     90.00  90.00  90.00 deg\n",
      "List of indexing methods:\n",
      "   0: xgandalf-nolatt-cell      (xgandalf using cell parameters as prior information)\n",
      "Indexing parameters:\n",
      "                  Check unit cell parameters: on\n",
      "                        Check peak alignment: on\n",
      "                   Refine indexing solutions: off\n",
      " Multi-lattice indexing (\"delete and retry\"): off\n",
      "                              Retry indexing: on\n"
     ]
    },
    {
     "name": "stdout",
     "output_type": "stream",
     "text": [
      "Running for x=-512.0, y=-512.0\n"
     ]
    },
    {
     "name": "stderr",
     "output_type": "stream",
     "text": [
      "Waiting for the last patterns to be processed...\n",
      "Final: 91 images processed, 91 hits (100.0%), 90 indexable (98.9% of hits, 98.9% overall), 90 crystals.\n",
      "Processing XY pairs:  18%|█▊        | 9/49 [00:36<02:43,  4.10s/it]This is what I understood your unit cell to be:\n",
      "tetragonal I, unique axis c, right handed.\n",
      "a      b      c            alpha   beta  gamma\n",
      " 15.12  15.12  12.07 A     90.00  90.00  90.00 deg\n",
      "List of indexing methods:\n",
      "   0: xgandalf-nolatt-cell      (xgandalf using cell parameters as prior information)\n",
      "Indexing parameters:\n",
      "                  Check unit cell parameters: on\n",
      "                        Check peak alignment: on\n",
      "                   Refine indexing solutions: off\n",
      " Multi-lattice indexing (\"delete and retry\"): off\n",
      "                              Retry indexing: on\n"
     ]
    },
    {
     "name": "stdout",
     "output_type": "stream",
     "text": [
      "Running for x=-513.5, y=-513.5\n"
     ]
    },
    {
     "name": "stderr",
     "output_type": "stream",
     "text": [
      "Waiting for the last patterns to be processed...\n",
      "Final: 91 images processed, 91 hits (100.0%), 90 indexable (98.9% of hits, 98.9% overall), 90 crystals.\n",
      "Processing XY pairs:  20%|██        | 10/49 [00:40<02:39,  4.08s/it]This is what I understood your unit cell to be:\n",
      "tetragonal I, unique axis c, right handed.\n",
      "a      b      c            alpha   beta  gamma\n",
      " 15.12  15.12  12.07 A     90.00  90.00  90.00 deg\n",
      "List of indexing methods:\n",
      "   0: xgandalf-nolatt-cell      (xgandalf using cell parameters as prior information)\n",
      "Indexing parameters:\n",
      "                  Check unit cell parameters: on\n",
      "                        Check peak alignment: on\n",
      "                   Refine indexing solutions: off\n",
      " Multi-lattice indexing (\"delete and retry\"): off\n",
      "                              Retry indexing: on\n"
     ]
    },
    {
     "name": "stdout",
     "output_type": "stream",
     "text": [
      "Running for x=-513.5, y=-513.0\n"
     ]
    },
    {
     "name": "stderr",
     "output_type": "stream",
     "text": [
      "Waiting for the last patterns to be processed...\n",
      "Final: 91 images processed, 91 hits (100.0%), 90 indexable (98.9% of hits, 98.9% overall), 90 crystals.\n",
      "Processing XY pairs:  22%|██▏       | 11/49 [00:44<02:34,  4.06s/it]This is what I understood your unit cell to be:\n",
      "tetragonal I, unique axis c, right handed.\n",
      "a      b      c            alpha   beta  gamma\n",
      " 15.12  15.12  12.07 A     90.00  90.00  90.00 deg\n",
      "List of indexing methods:\n",
      "   0: xgandalf-nolatt-cell      (xgandalf using cell parameters as prior information)\n",
      "Indexing parameters:\n",
      "                  Check unit cell parameters: on\n",
      "                        Check peak alignment: on\n",
      "                   Refine indexing solutions: off\n",
      " Multi-lattice indexing (\"delete and retry\"): off\n",
      "                              Retry indexing: on\n"
     ]
    },
    {
     "name": "stdout",
     "output_type": "stream",
     "text": [
      "Running for x=-513.5, y=-512.5\n"
     ]
    },
    {
     "name": "stderr",
     "output_type": "stream",
     "text": [
      "Waiting for the last patterns to be processed...\n",
      "Final: 91 images processed, 91 hits (100.0%), 90 indexable (98.9% of hits, 98.9% overall), 90 crystals.\n",
      "Processing XY pairs:  24%|██▍       | 12/49 [00:48<02:29,  4.05s/it]This is what I understood your unit cell to be:\n",
      "tetragonal I, unique axis c, right handed.\n",
      "a      b      c            alpha   beta  gamma\n",
      " 15.12  15.12  12.07 A     90.00  90.00  90.00 deg\n",
      "List of indexing methods:\n",
      "   0: xgandalf-nolatt-cell      (xgandalf using cell parameters as prior information)\n",
      "Indexing parameters:\n",
      "                  Check unit cell parameters: on\n",
      "                        Check peak alignment: on\n",
      "                   Refine indexing solutions: off\n",
      " Multi-lattice indexing (\"delete and retry\"): off\n",
      "                              Retry indexing: on\n"
     ]
    },
    {
     "name": "stdout",
     "output_type": "stream",
     "text": [
      "Running for x=-513.5, y=-512.0\n"
     ]
    },
    {
     "name": "stderr",
     "output_type": "stream",
     "text": [
      "Waiting for the last patterns to be processed...\n",
      "Final: 91 images processed, 91 hits (100.0%), 90 indexable (98.9% of hits, 98.9% overall), 90 crystals.\n",
      "Processing XY pairs:  27%|██▋       | 13/49 [00:52<02:26,  4.06s/it]This is what I understood your unit cell to be:\n",
      "tetragonal I, unique axis c, right handed.\n",
      "a      b      c            alpha   beta  gamma\n",
      " 15.12  15.12  12.07 A     90.00  90.00  90.00 deg\n",
      "List of indexing methods:\n",
      "   0: xgandalf-nolatt-cell      (xgandalf using cell parameters as prior information)\n",
      "Indexing parameters:\n",
      "                  Check unit cell parameters: on\n",
      "                        Check peak alignment: on\n",
      "                   Refine indexing solutions: off\n",
      " Multi-lattice indexing (\"delete and retry\"): off\n",
      "                              Retry indexing: on\n"
     ]
    },
    {
     "name": "stdout",
     "output_type": "stream",
     "text": [
      "Running for x=-513.5, y=-511.5\n"
     ]
    },
    {
     "name": "stderr",
     "output_type": "stream",
     "text": [
      "Waiting for the last patterns to be processed...\n",
      "Final: 91 images processed, 91 hits (100.0%), 90 indexable (98.9% of hits, 98.9% overall), 90 crystals.\n",
      "Processing XY pairs:  29%|██▊       | 14/49 [00:56<02:22,  4.07s/it]This is what I understood your unit cell to be:\n",
      "tetragonal I, unique axis c, right handed.\n",
      "a      b      c            alpha   beta  gamma\n",
      " 15.12  15.12  12.07 A     90.00  90.00  90.00 deg\n",
      "List of indexing methods:\n",
      "   0: xgandalf-nolatt-cell      (xgandalf using cell parameters as prior information)\n",
      "Indexing parameters:\n",
      "                  Check unit cell parameters: on\n",
      "                        Check peak alignment: on\n",
      "                   Refine indexing solutions: off\n",
      " Multi-lattice indexing (\"delete and retry\"): off\n",
      "                              Retry indexing: on\n"
     ]
    },
    {
     "name": "stdout",
     "output_type": "stream",
     "text": [
      "Running for x=-513.0, y=-513.5\n"
     ]
    },
    {
     "name": "stderr",
     "output_type": "stream",
     "text": [
      "Waiting for the last patterns to be processed...\n",
      "Final: 91 images processed, 91 hits (100.0%), 90 indexable (98.9% of hits, 98.9% overall), 90 crystals.\n",
      "Processing XY pairs:  31%|███       | 15/49 [01:00<02:19,  4.09s/it]This is what I understood your unit cell to be:\n",
      "tetragonal I, unique axis c, right handed.\n",
      "a      b      c            alpha   beta  gamma\n",
      " 15.12  15.12  12.07 A     90.00  90.00  90.00 deg\n",
      "List of indexing methods:\n",
      "   0: xgandalf-nolatt-cell      (xgandalf using cell parameters as prior information)\n",
      "Indexing parameters:\n",
      "                  Check unit cell parameters: on\n",
      "                        Check peak alignment: on\n",
      "                   Refine indexing solutions: off\n",
      " Multi-lattice indexing (\"delete and retry\"): off\n",
      "                              Retry indexing: on\n"
     ]
    },
    {
     "name": "stdout",
     "output_type": "stream",
     "text": [
      "Running for x=-513.0, y=-511.5\n"
     ]
    },
    {
     "name": "stderr",
     "output_type": "stream",
     "text": [
      "Waiting for the last patterns to be processed...\n",
      "Final: 91 images processed, 91 hits (100.0%), 90 indexable (98.9% of hits, 98.9% overall), 90 crystals.\n",
      "Processing XY pairs:  33%|███▎      | 16/49 [01:04<02:18,  4.19s/it]This is what I understood your unit cell to be:\n",
      "tetragonal I, unique axis c, right handed.\n",
      "a      b      c            alpha   beta  gamma\n",
      " 15.12  15.12  12.07 A     90.00  90.00  90.00 deg\n",
      "List of indexing methods:\n",
      "   0: xgandalf-nolatt-cell      (xgandalf using cell parameters as prior information)\n",
      "Indexing parameters:\n",
      "                  Check unit cell parameters: on\n",
      "                        Check peak alignment: on\n",
      "                   Refine indexing solutions: off\n",
      " Multi-lattice indexing (\"delete and retry\"): off\n",
      "                              Retry indexing: on\n"
     ]
    },
    {
     "name": "stdout",
     "output_type": "stream",
     "text": [
      "Running for x=-512.5, y=-513.5\n"
     ]
    },
    {
     "name": "stderr",
     "output_type": "stream",
     "text": [
      "Waiting for the last patterns to be processed...\n",
      "Final: 91 images processed, 91 hits (100.0%), 90 indexable (98.9% of hits, 98.9% overall), 90 crystals.\n",
      "Processing XY pairs:  35%|███▍      | 17/49 [01:09<02:16,  4.26s/it]This is what I understood your unit cell to be:\n",
      "tetragonal I, unique axis c, right handed.\n",
      "a      b      c            alpha   beta  gamma\n",
      " 15.12  15.12  12.07 A     90.00  90.00  90.00 deg\n",
      "List of indexing methods:\n",
      "   0: xgandalf-nolatt-cell      (xgandalf using cell parameters as prior information)\n",
      "Indexing parameters:\n",
      "                  Check unit cell parameters: on\n",
      "                        Check peak alignment: on\n",
      "                   Refine indexing solutions: off\n",
      " Multi-lattice indexing (\"delete and retry\"): off\n",
      "                              Retry indexing: on\n"
     ]
    },
    {
     "name": "stdout",
     "output_type": "stream",
     "text": [
      "Running for x=-512.5, y=-511.5\n"
     ]
    },
    {
     "name": "stderr",
     "output_type": "stream",
     "text": [
      "Waiting for the last patterns to be processed...\n",
      "Final: 91 images processed, 91 hits (100.0%), 90 indexable (98.9% of hits, 98.9% overall), 90 crystals.\n",
      "Processing XY pairs:  37%|███▋      | 18/49 [01:13<02:11,  4.26s/it]This is what I understood your unit cell to be:\n",
      "tetragonal I, unique axis c, right handed.\n",
      "a      b      c            alpha   beta  gamma\n",
      " 15.12  15.12  12.07 A     90.00  90.00  90.00 deg\n",
      "List of indexing methods:\n",
      "   0: xgandalf-nolatt-cell      (xgandalf using cell parameters as prior information)\n",
      "Indexing parameters:\n",
      "                  Check unit cell parameters: on\n",
      "                        Check peak alignment: on\n",
      "                   Refine indexing solutions: off\n",
      " Multi-lattice indexing (\"delete and retry\"): off\n",
      "                              Retry indexing: on\n"
     ]
    },
    {
     "name": "stdout",
     "output_type": "stream",
     "text": [
      "Running for x=-512.0, y=-513.5\n"
     ]
    },
    {
     "name": "stderr",
     "output_type": "stream",
     "text": [
      "Waiting for the last patterns to be processed...\n",
      "Final: 91 images processed, 91 hits (100.0%), 90 indexable (98.9% of hits, 98.9% overall), 90 crystals.\n",
      "Processing XY pairs:  39%|███▉      | 19/49 [01:17<02:08,  4.29s/it]This is what I understood your unit cell to be:\n",
      "tetragonal I, unique axis c, right handed.\n",
      "a      b      c            alpha   beta  gamma\n",
      " 15.12  15.12  12.07 A     90.00  90.00  90.00 deg\n",
      "List of indexing methods:\n",
      "   0: xgandalf-nolatt-cell      (xgandalf using cell parameters as prior information)\n",
      "Indexing parameters:\n",
      "                  Check unit cell parameters: on\n",
      "                        Check peak alignment: on\n",
      "                   Refine indexing solutions: off\n",
      " Multi-lattice indexing (\"delete and retry\"): off\n",
      "                              Retry indexing: on\n"
     ]
    },
    {
     "name": "stdout",
     "output_type": "stream",
     "text": [
      "Running for x=-512.0, y=-511.5\n"
     ]
    },
    {
     "name": "stderr",
     "output_type": "stream",
     "text": [
      "Waiting for the last patterns to be processed...\n",
      "Final: 91 images processed, 91 hits (100.0%), 90 indexable (98.9% of hits, 98.9% overall), 90 crystals.\n",
      "Processing XY pairs:  41%|████      | 20/49 [01:22<02:05,  4.31s/it]This is what I understood your unit cell to be:\n",
      "tetragonal I, unique axis c, right handed.\n",
      "a      b      c            alpha   beta  gamma\n",
      " 15.12  15.12  12.07 A     90.00  90.00  90.00 deg\n",
      "List of indexing methods:\n",
      "   0: xgandalf-nolatt-cell      (xgandalf using cell parameters as prior information)\n",
      "Indexing parameters:\n",
      "                  Check unit cell parameters: on\n",
      "                        Check peak alignment: on\n",
      "                   Refine indexing solutions: off\n",
      " Multi-lattice indexing (\"delete and retry\"): off\n",
      "                              Retry indexing: on\n"
     ]
    },
    {
     "name": "stdout",
     "output_type": "stream",
     "text": [
      "Running for x=-511.5, y=-513.5\n"
     ]
    },
    {
     "name": "stderr",
     "output_type": "stream",
     "text": [
      "Waiting for the last patterns to be processed...\n",
      "Final: 91 images processed, 91 hits (100.0%), 90 indexable (98.9% of hits, 98.9% overall), 90 crystals.\n",
      "Processing XY pairs:  43%|████▎     | 21/49 [01:26<02:01,  4.33s/it]This is what I understood your unit cell to be:\n",
      "tetragonal I, unique axis c, right handed.\n",
      "a      b      c            alpha   beta  gamma\n",
      " 15.12  15.12  12.07 A     90.00  90.00  90.00 deg\n",
      "List of indexing methods:\n",
      "   0: xgandalf-nolatt-cell      (xgandalf using cell parameters as prior information)\n",
      "Indexing parameters:\n",
      "                  Check unit cell parameters: on\n",
      "                        Check peak alignment: on\n",
      "                   Refine indexing solutions: off\n",
      " Multi-lattice indexing (\"delete and retry\"): off\n",
      "                              Retry indexing: on\n"
     ]
    },
    {
     "name": "stdout",
     "output_type": "stream",
     "text": [
      "Running for x=-511.5, y=-513.0\n"
     ]
    },
    {
     "name": "stderr",
     "output_type": "stream",
     "text": [
      "Waiting for the last patterns to be processed...\n",
      "Final: 91 images processed, 91 hits (100.0%), 90 indexable (98.9% of hits, 98.9% overall), 90 crystals.\n",
      "Processing XY pairs:  45%|████▍     | 22/49 [01:31<01:57,  4.37s/it]This is what I understood your unit cell to be:\n",
      "tetragonal I, unique axis c, right handed.\n",
      "a      b      c            alpha   beta  gamma\n",
      " 15.12  15.12  12.07 A     90.00  90.00  90.00 deg\n",
      "List of indexing methods:\n",
      "   0: xgandalf-nolatt-cell      (xgandalf using cell parameters as prior information)\n",
      "Indexing parameters:\n",
      "                  Check unit cell parameters: on\n",
      "                        Check peak alignment: on\n",
      "                   Refine indexing solutions: off\n",
      " Multi-lattice indexing (\"delete and retry\"): off\n",
      "                              Retry indexing: on\n"
     ]
    },
    {
     "name": "stdout",
     "output_type": "stream",
     "text": [
      "Running for x=-511.5, y=-512.5\n"
     ]
    },
    {
     "name": "stderr",
     "output_type": "stream",
     "text": [
      "Waiting for the last patterns to be processed...\n",
      "Final: 91 images processed, 91 hits (100.0%), 90 indexable (98.9% of hits, 98.9% overall), 90 crystals.\n",
      "Processing XY pairs:  47%|████▋     | 23/49 [01:35<01:53,  4.36s/it]This is what I understood your unit cell to be:\n",
      "tetragonal I, unique axis c, right handed.\n",
      "a      b      c            alpha   beta  gamma\n",
      " 15.12  15.12  12.07 A     90.00  90.00  90.00 deg\n",
      "List of indexing methods:\n",
      "   0: xgandalf-nolatt-cell      (xgandalf using cell parameters as prior information)\n",
      "Indexing parameters:\n",
      "                  Check unit cell parameters: on\n",
      "                        Check peak alignment: on\n",
      "                   Refine indexing solutions: off\n",
      " Multi-lattice indexing (\"delete and retry\"): off\n",
      "                              Retry indexing: on\n"
     ]
    },
    {
     "name": "stdout",
     "output_type": "stream",
     "text": [
      "Running for x=-511.5, y=-512.0\n"
     ]
    },
    {
     "name": "stderr",
     "output_type": "stream",
     "text": [
      "Waiting for the last patterns to be processed...\n",
      "Final: 91 images processed, 91 hits (100.0%), 90 indexable (98.9% of hits, 98.9% overall), 90 crystals.\n",
      "Processing XY pairs:  49%|████▉     | 24/49 [01:39<01:49,  4.39s/it]This is what I understood your unit cell to be:\n",
      "tetragonal I, unique axis c, right handed.\n",
      "a      b      c            alpha   beta  gamma\n",
      " 15.12  15.12  12.07 A     90.00  90.00  90.00 deg\n",
      "List of indexing methods:\n",
      "   0: xgandalf-nolatt-cell      (xgandalf using cell parameters as prior information)\n",
      "Indexing parameters:\n",
      "                  Check unit cell parameters: on\n",
      "                        Check peak alignment: on\n",
      "                   Refine indexing solutions: off\n",
      " Multi-lattice indexing (\"delete and retry\"): off\n",
      "                              Retry indexing: on\n"
     ]
    },
    {
     "name": "stdout",
     "output_type": "stream",
     "text": [
      "Running for x=-511.5, y=-511.5\n"
     ]
    },
    {
     "name": "stderr",
     "output_type": "stream",
     "text": [
      "Waiting for the last patterns to be processed...\n",
      "Final: 91 images processed, 91 hits (100.0%), 90 indexable (98.9% of hits, 98.9% overall), 90 crystals.\n",
      "Processing XY pairs:  51%|█████     | 25/49 [01:44<01:44,  4.37s/it]This is what I understood your unit cell to be:\n",
      "tetragonal I, unique axis c, right handed.\n",
      "a      b      c            alpha   beta  gamma\n",
      " 15.12  15.12  12.07 A     90.00  90.00  90.00 deg\n",
      "List of indexing methods:\n",
      "   0: xgandalf-nolatt-cell      (xgandalf using cell parameters as prior information)\n",
      "Indexing parameters:\n",
      "                  Check unit cell parameters: on\n",
      "                        Check peak alignment: on\n",
      "                   Refine indexing solutions: off\n",
      " Multi-lattice indexing (\"delete and retry\"): off\n",
      "                              Retry indexing: on\n"
     ]
    },
    {
     "name": "stdout",
     "output_type": "stream",
     "text": [
      "Running for x=-514.0, y=-514.0\n"
     ]
    },
    {
     "name": "stderr",
     "output_type": "stream",
     "text": [
      "Waiting for the last patterns to be processed...\n",
      "Final: 91 images processed, 91 hits (100.0%), 90 indexable (98.9% of hits, 98.9% overall), 90 crystals.\n",
      "Processing XY pairs:  53%|█████▎    | 26/49 [01:48<01:40,  4.37s/it]This is what I understood your unit cell to be:\n",
      "tetragonal I, unique axis c, right handed.\n",
      "a      b      c            alpha   beta  gamma\n",
      " 15.12  15.12  12.07 A     90.00  90.00  90.00 deg\n",
      "List of indexing methods:\n",
      "   0: xgandalf-nolatt-cell      (xgandalf using cell parameters as prior information)\n",
      "Indexing parameters:\n",
      "                  Check unit cell parameters: on\n",
      "                        Check peak alignment: on\n",
      "                   Refine indexing solutions: off\n",
      " Multi-lattice indexing (\"delete and retry\"): off\n",
      "                              Retry indexing: on\n"
     ]
    },
    {
     "name": "stdout",
     "output_type": "stream",
     "text": [
      "Running for x=-514.0, y=-513.5\n"
     ]
    },
    {
     "name": "stderr",
     "output_type": "stream",
     "text": [
      "Waiting for the last patterns to be processed...\n",
      "Final: 91 images processed, 91 hits (100.0%), 90 indexable (98.9% of hits, 98.9% overall), 90 crystals.\n",
      "Processing XY pairs:  55%|█████▌    | 27/49 [01:52<01:36,  4.37s/it]This is what I understood your unit cell to be:\n",
      "tetragonal I, unique axis c, right handed.\n",
      "a      b      c            alpha   beta  gamma\n",
      " 15.12  15.12  12.07 A     90.00  90.00  90.00 deg\n",
      "List of indexing methods:\n",
      "   0: xgandalf-nolatt-cell      (xgandalf using cell parameters as prior information)\n",
      "Indexing parameters:\n",
      "                  Check unit cell parameters: on\n",
      "                        Check peak alignment: on\n",
      "                   Refine indexing solutions: off\n",
      " Multi-lattice indexing (\"delete and retry\"): off\n",
      "                              Retry indexing: on\n"
     ]
    },
    {
     "name": "stdout",
     "output_type": "stream",
     "text": [
      "Running for x=-514.0, y=-513.0\n"
     ]
    },
    {
     "name": "stderr",
     "output_type": "stream",
     "text": [
      "Waiting for the last patterns to be processed...\n",
      "Final: 91 images processed, 91 hits (100.0%), 90 indexable (98.9% of hits, 98.9% overall), 90 crystals.\n",
      "Processing XY pairs:  57%|█████▋    | 28/49 [01:57<01:32,  4.40s/it]This is what I understood your unit cell to be:\n",
      "tetragonal I, unique axis c, right handed.\n",
      "a      b      c            alpha   beta  gamma\n",
      " 15.12  15.12  12.07 A     90.00  90.00  90.00 deg\n",
      "List of indexing methods:\n",
      "   0: xgandalf-nolatt-cell      (xgandalf using cell parameters as prior information)\n",
      "Indexing parameters:\n",
      "                  Check unit cell parameters: on\n",
      "                        Check peak alignment: on\n",
      "                   Refine indexing solutions: off\n",
      " Multi-lattice indexing (\"delete and retry\"): off\n",
      "                              Retry indexing: on\n"
     ]
    },
    {
     "name": "stdout",
     "output_type": "stream",
     "text": [
      "Running for x=-514.0, y=-512.5\n"
     ]
    },
    {
     "name": "stderr",
     "output_type": "stream",
     "text": [
      "Waiting for the last patterns to be processed...\n",
      "Final: 91 images processed, 91 hits (100.0%), 90 indexable (98.9% of hits, 98.9% overall), 90 crystals.\n",
      "Processing XY pairs:  59%|█████▉    | 29/49 [02:01<01:28,  4.43s/it]This is what I understood your unit cell to be:\n",
      "tetragonal I, unique axis c, right handed.\n",
      "a      b      c            alpha   beta  gamma\n",
      " 15.12  15.12  12.07 A     90.00  90.00  90.00 deg\n",
      "List of indexing methods:\n",
      "   0: xgandalf-nolatt-cell      (xgandalf using cell parameters as prior information)\n",
      "Indexing parameters:\n",
      "                  Check unit cell parameters: on\n",
      "                        Check peak alignment: on\n",
      "                   Refine indexing solutions: off\n",
      " Multi-lattice indexing (\"delete and retry\"): off\n",
      "                              Retry indexing: on\n"
     ]
    },
    {
     "name": "stdout",
     "output_type": "stream",
     "text": [
      "Running for x=-514.0, y=-512.0\n"
     ]
    },
    {
     "name": "stderr",
     "output_type": "stream",
     "text": [
      "Waiting for the last patterns to be processed...\n",
      "Final: 91 images processed, 91 hits (100.0%), 90 indexable (98.9% of hits, 98.9% overall), 90 crystals.\n",
      "Processing XY pairs:  61%|██████    | 30/49 [02:06<01:24,  4.44s/it]This is what I understood your unit cell to be:\n",
      "tetragonal I, unique axis c, right handed.\n",
      "a      b      c            alpha   beta  gamma\n",
      " 15.12  15.12  12.07 A     90.00  90.00  90.00 deg\n",
      "List of indexing methods:\n",
      "   0: xgandalf-nolatt-cell      (xgandalf using cell parameters as prior information)\n",
      "Indexing parameters:\n",
      "                  Check unit cell parameters: on\n",
      "                        Check peak alignment: on\n",
      "                   Refine indexing solutions: off\n",
      " Multi-lattice indexing (\"delete and retry\"): off\n",
      "                              Retry indexing: on\n"
     ]
    },
    {
     "name": "stdout",
     "output_type": "stream",
     "text": [
      "Running for x=-514.0, y=-511.5\n"
     ]
    },
    {
     "name": "stderr",
     "output_type": "stream",
     "text": [
      "Waiting for the last patterns to be processed...\n",
      "Final: 91 images processed, 91 hits (100.0%), 90 indexable (98.9% of hits, 98.9% overall), 90 crystals.\n",
      "Processing XY pairs:  63%|██████▎   | 31/49 [02:10<01:20,  4.48s/it]This is what I understood your unit cell to be:\n",
      "tetragonal I, unique axis c, right handed.\n",
      "a      b      c            alpha   beta  gamma\n",
      " 15.12  15.12  12.07 A     90.00  90.00  90.00 deg\n",
      "List of indexing methods:\n",
      "   0: xgandalf-nolatt-cell      (xgandalf using cell parameters as prior information)\n",
      "Indexing parameters:\n",
      "                  Check unit cell parameters: on\n",
      "                        Check peak alignment: on\n",
      "                   Refine indexing solutions: off\n",
      " Multi-lattice indexing (\"delete and retry\"): off\n",
      "                              Retry indexing: on\n"
     ]
    },
    {
     "name": "stdout",
     "output_type": "stream",
     "text": [
      "Running for x=-514.0, y=-511.0\n"
     ]
    },
    {
     "name": "stderr",
     "output_type": "stream",
     "text": [
      "Waiting for the last patterns to be processed...\n",
      "Final: 91 images processed, 91 hits (100.0%), 90 indexable (98.9% of hits, 98.9% overall), 90 crystals.\n",
      "Processing XY pairs:  65%|██████▌   | 32/49 [02:15<01:15,  4.46s/it]This is what I understood your unit cell to be:\n",
      "tetragonal I, unique axis c, right handed.\n",
      "a      b      c            alpha   beta  gamma\n",
      " 15.12  15.12  12.07 A     90.00  90.00  90.00 deg\n",
      "List of indexing methods:\n",
      "   0: xgandalf-nolatt-cell      (xgandalf using cell parameters as prior information)\n",
      "Indexing parameters:\n",
      "                  Check unit cell parameters: on\n",
      "                        Check peak alignment: on\n",
      "                   Refine indexing solutions: off\n",
      " Multi-lattice indexing (\"delete and retry\"): off\n",
      "                              Retry indexing: on\n"
     ]
    },
    {
     "name": "stdout",
     "output_type": "stream",
     "text": [
      "Running for x=-513.5, y=-514.0\n"
     ]
    },
    {
     "name": "stderr",
     "output_type": "stream",
     "text": [
      "Waiting for the last patterns to be processed...\n",
      "Final: 91 images processed, 91 hits (100.0%), 90 indexable (98.9% of hits, 98.9% overall), 90 crystals.\n",
      "Processing XY pairs:  67%|██████▋   | 33/49 [02:19<01:10,  4.44s/it]This is what I understood your unit cell to be:\n",
      "tetragonal I, unique axis c, right handed.\n",
      "a      b      c            alpha   beta  gamma\n",
      " 15.12  15.12  12.07 A     90.00  90.00  90.00 deg\n",
      "List of indexing methods:\n",
      "   0: xgandalf-nolatt-cell      (xgandalf using cell parameters as prior information)\n",
      "Indexing parameters:\n",
      "                  Check unit cell parameters: on\n",
      "                        Check peak alignment: on\n",
      "                   Refine indexing solutions: off\n",
      " Multi-lattice indexing (\"delete and retry\"): off\n",
      "                              Retry indexing: on\n"
     ]
    },
    {
     "name": "stdout",
     "output_type": "stream",
     "text": [
      "Running for x=-513.5, y=-511.0\n"
     ]
    },
    {
     "name": "stderr",
     "output_type": "stream",
     "text": [
      "Waiting for the last patterns to be processed...\n",
      "Final: 91 images processed, 91 hits (100.0%), 90 indexable (98.9% of hits, 98.9% overall), 90 crystals.\n",
      "Processing XY pairs:  69%|██████▉   | 34/49 [02:24<01:06,  4.42s/it]This is what I understood your unit cell to be:\n",
      "tetragonal I, unique axis c, right handed.\n",
      "a      b      c            alpha   beta  gamma\n",
      " 15.12  15.12  12.07 A     90.00  90.00  90.00 deg\n",
      "List of indexing methods:\n",
      "   0: xgandalf-nolatt-cell      (xgandalf using cell parameters as prior information)\n",
      "Indexing parameters:\n",
      "                  Check unit cell parameters: on\n",
      "                        Check peak alignment: on\n",
      "                   Refine indexing solutions: off\n",
      " Multi-lattice indexing (\"delete and retry\"): off\n",
      "                              Retry indexing: on\n"
     ]
    },
    {
     "name": "stdout",
     "output_type": "stream",
     "text": [
      "Running for x=-513.0, y=-514.0\n"
     ]
    },
    {
     "name": "stderr",
     "output_type": "stream",
     "text": [
      "Waiting for the last patterns to be processed...\n",
      "Final: 91 images processed, 91 hits (100.0%), 90 indexable (98.9% of hits, 98.9% overall), 90 crystals.\n",
      "Processing XY pairs:  71%|███████▏  | 35/49 [02:28<01:01,  4.42s/it]This is what I understood your unit cell to be:\n",
      "tetragonal I, unique axis c, right handed.\n",
      "a      b      c            alpha   beta  gamma\n",
      " 15.12  15.12  12.07 A     90.00  90.00  90.00 deg\n",
      "List of indexing methods:\n",
      "   0: xgandalf-nolatt-cell      (xgandalf using cell parameters as prior information)\n",
      "Indexing parameters:\n",
      "                  Check unit cell parameters: on\n",
      "                        Check peak alignment: on\n",
      "                   Refine indexing solutions: off\n",
      " Multi-lattice indexing (\"delete and retry\"): off\n",
      "                              Retry indexing: on\n"
     ]
    },
    {
     "name": "stdout",
     "output_type": "stream",
     "text": [
      "Running for x=-513.0, y=-511.0\n"
     ]
    },
    {
     "name": "stderr",
     "output_type": "stream",
     "text": [
      "Waiting for the last patterns to be processed...\n",
      "Final: 91 images processed, 91 hits (100.0%), 90 indexable (98.9% of hits, 98.9% overall), 90 crystals.\n",
      "Processing XY pairs:  73%|███████▎  | 36/49 [02:33<00:57,  4.45s/it]This is what I understood your unit cell to be:\n",
      "tetragonal I, unique axis c, right handed.\n",
      "a      b      c            alpha   beta  gamma\n",
      " 15.12  15.12  12.07 A     90.00  90.00  90.00 deg\n",
      "List of indexing methods:\n",
      "   0: xgandalf-nolatt-cell      (xgandalf using cell parameters as prior information)\n",
      "Indexing parameters:\n",
      "                  Check unit cell parameters: on\n",
      "                        Check peak alignment: on\n",
      "                   Refine indexing solutions: off\n",
      " Multi-lattice indexing (\"delete and retry\"): off\n",
      "                              Retry indexing: on\n"
     ]
    },
    {
     "name": "stdout",
     "output_type": "stream",
     "text": [
      "Running for x=-512.5, y=-514.0\n"
     ]
    },
    {
     "name": "stderr",
     "output_type": "stream",
     "text": [
      "Waiting for the last patterns to be processed...\n",
      "Final: 91 images processed, 91 hits (100.0%), 90 indexable (98.9% of hits, 98.9% overall), 90 crystals.\n",
      "Processing XY pairs:  76%|███████▌  | 37/49 [02:37<00:53,  4.42s/it]This is what I understood your unit cell to be:\n",
      "tetragonal I, unique axis c, right handed.\n",
      "a      b      c            alpha   beta  gamma\n",
      " 15.12  15.12  12.07 A     90.00  90.00  90.00 deg\n",
      "List of indexing methods:\n",
      "   0: xgandalf-nolatt-cell      (xgandalf using cell parameters as prior information)\n",
      "Indexing parameters:\n",
      "                  Check unit cell parameters: on\n",
      "                        Check peak alignment: on\n",
      "                   Refine indexing solutions: off\n",
      " Multi-lattice indexing (\"delete and retry\"): off\n",
      "                              Retry indexing: on\n"
     ]
    },
    {
     "name": "stdout",
     "output_type": "stream",
     "text": [
      "Running for x=-512.5, y=-511.0\n"
     ]
    },
    {
     "name": "stderr",
     "output_type": "stream",
     "text": [
      "Waiting for the last patterns to be processed...\n",
      "Final: 91 images processed, 91 hits (100.0%), 90 indexable (98.9% of hits, 98.9% overall), 90 crystals.\n",
      "Processing XY pairs:  78%|███████▊  | 38/49 [02:41<00:48,  4.43s/it]This is what I understood your unit cell to be:\n",
      "tetragonal I, unique axis c, right handed.\n",
      "a      b      c            alpha   beta  gamma\n",
      " 15.12  15.12  12.07 A     90.00  90.00  90.00 deg\n",
      "List of indexing methods:\n",
      "   0: xgandalf-nolatt-cell      (xgandalf using cell parameters as prior information)\n",
      "Indexing parameters:\n",
      "                  Check unit cell parameters: on\n",
      "                        Check peak alignment: on\n",
      "                   Refine indexing solutions: off\n",
      " Multi-lattice indexing (\"delete and retry\"): off\n",
      "                              Retry indexing: on\n"
     ]
    },
    {
     "name": "stdout",
     "output_type": "stream",
     "text": [
      "Running for x=-512.0, y=-514.0\n"
     ]
    },
    {
     "name": "stderr",
     "output_type": "stream",
     "text": [
      "Waiting for the last patterns to be processed...\n",
      "Final: 91 images processed, 91 hits (100.0%), 90 indexable (98.9% of hits, 98.9% overall), 90 crystals.\n",
      "Processing XY pairs:  80%|███████▉  | 39/49 [02:46<00:44,  4.43s/it]This is what I understood your unit cell to be:\n",
      "tetragonal I, unique axis c, right handed.\n",
      "a      b      c            alpha   beta  gamma\n",
      " 15.12  15.12  12.07 A     90.00  90.00  90.00 deg\n",
      "List of indexing methods:\n",
      "   0: xgandalf-nolatt-cell      (xgandalf using cell parameters as prior information)\n",
      "Indexing parameters:\n",
      "                  Check unit cell parameters: on\n",
      "                        Check peak alignment: on\n",
      "                   Refine indexing solutions: off\n",
      " Multi-lattice indexing (\"delete and retry\"): off\n",
      "                              Retry indexing: on\n"
     ]
    },
    {
     "name": "stdout",
     "output_type": "stream",
     "text": [
      "Running for x=-512.0, y=-511.0\n"
     ]
    },
    {
     "name": "stderr",
     "output_type": "stream",
     "text": [
      "Waiting for the last patterns to be processed...\n",
      "Final: 91 images processed, 91 hits (100.0%), 90 indexable (98.9% of hits, 98.9% overall), 90 crystals.\n",
      "Processing XY pairs:  82%|████████▏ | 40/49 [02:50<00:39,  4.43s/it]This is what I understood your unit cell to be:\n",
      "tetragonal I, unique axis c, right handed.\n",
      "a      b      c            alpha   beta  gamma\n",
      " 15.12  15.12  12.07 A     90.00  90.00  90.00 deg\n",
      "List of indexing methods:\n",
      "   0: xgandalf-nolatt-cell      (xgandalf using cell parameters as prior information)\n",
      "Indexing parameters:\n",
      "                  Check unit cell parameters: on\n",
      "                        Check peak alignment: on\n",
      "                   Refine indexing solutions: off\n",
      " Multi-lattice indexing (\"delete and retry\"): off\n",
      "                              Retry indexing: on\n"
     ]
    },
    {
     "name": "stdout",
     "output_type": "stream",
     "text": [
      "Running for x=-511.5, y=-514.0\n"
     ]
    },
    {
     "name": "stderr",
     "output_type": "stream",
     "text": [
      "Waiting for the last patterns to be processed...\n",
      "Final: 91 images processed, 91 hits (100.0%), 90 indexable (98.9% of hits, 98.9% overall), 90 crystals.\n",
      "Processing XY pairs:  84%|████████▎ | 41/49 [02:55<00:35,  4.41s/it]This is what I understood your unit cell to be:\n",
      "tetragonal I, unique axis c, right handed.\n",
      "a      b      c            alpha   beta  gamma\n",
      " 15.12  15.12  12.07 A     90.00  90.00  90.00 deg\n",
      "List of indexing methods:\n",
      "   0: xgandalf-nolatt-cell      (xgandalf using cell parameters as prior information)\n",
      "Indexing parameters:\n",
      "                  Check unit cell parameters: on\n",
      "                        Check peak alignment: on\n",
      "                   Refine indexing solutions: off\n",
      " Multi-lattice indexing (\"delete and retry\"): off\n",
      "                              Retry indexing: on\n"
     ]
    },
    {
     "name": "stdout",
     "output_type": "stream",
     "text": [
      "Running for x=-511.5, y=-511.0\n"
     ]
    },
    {
     "name": "stderr",
     "output_type": "stream",
     "text": [
      "Waiting for the last patterns to be processed...\n",
      "Final: 91 images processed, 91 hits (100.0%), 90 indexable (98.9% of hits, 98.9% overall), 90 crystals.\n",
      "Processing XY pairs:  86%|████████▌ | 42/49 [02:59<00:30,  4.40s/it]This is what I understood your unit cell to be:\n",
      "tetragonal I, unique axis c, right handed.\n",
      "a      b      c            alpha   beta  gamma\n",
      " 15.12  15.12  12.07 A     90.00  90.00  90.00 deg\n",
      "List of indexing methods:\n",
      "   0: xgandalf-nolatt-cell      (xgandalf using cell parameters as prior information)\n",
      "Indexing parameters:\n",
      "                  Check unit cell parameters: on\n",
      "                        Check peak alignment: on\n",
      "                   Refine indexing solutions: off\n",
      " Multi-lattice indexing (\"delete and retry\"): off\n",
      "                              Retry indexing: on\n"
     ]
    },
    {
     "name": "stdout",
     "output_type": "stream",
     "text": [
      "Running for x=-511.0, y=-514.0\n"
     ]
    },
    {
     "name": "stderr",
     "output_type": "stream",
     "text": [
      "Waiting for the last patterns to be processed...\n",
      "Final: 91 images processed, 91 hits (100.0%), 90 indexable (98.9% of hits, 98.9% overall), 90 crystals.\n",
      "Processing XY pairs:  88%|████████▊ | 43/49 [03:04<00:26,  4.42s/it]This is what I understood your unit cell to be:\n",
      "tetragonal I, unique axis c, right handed.\n",
      "a      b      c            alpha   beta  gamma\n",
      " 15.12  15.12  12.07 A     90.00  90.00  90.00 deg\n",
      "List of indexing methods:\n",
      "   0: xgandalf-nolatt-cell      (xgandalf using cell parameters as prior information)\n",
      "Indexing parameters:\n",
      "                  Check unit cell parameters: on\n",
      "                        Check peak alignment: on\n",
      "                   Refine indexing solutions: off\n",
      " Multi-lattice indexing (\"delete and retry\"): off\n",
      "                              Retry indexing: on\n"
     ]
    },
    {
     "name": "stdout",
     "output_type": "stream",
     "text": [
      "Running for x=-511.0, y=-513.5\n"
     ]
    },
    {
     "name": "stderr",
     "output_type": "stream",
     "text": [
      "Waiting for the last patterns to be processed...\n",
      "Final: 91 images processed, 91 hits (100.0%), 90 indexable (98.9% of hits, 98.9% overall), 90 crystals.\n",
      "Processing XY pairs:  90%|████████▉ | 44/49 [03:08<00:22,  4.45s/it]This is what I understood your unit cell to be:\n",
      "tetragonal I, unique axis c, right handed.\n",
      "a      b      c            alpha   beta  gamma\n",
      " 15.12  15.12  12.07 A     90.00  90.00  90.00 deg\n",
      "List of indexing methods:\n",
      "   0: xgandalf-nolatt-cell      (xgandalf using cell parameters as prior information)\n",
      "Indexing parameters:\n",
      "                  Check unit cell parameters: on\n",
      "                        Check peak alignment: on\n",
      "                   Refine indexing solutions: off\n",
      " Multi-lattice indexing (\"delete and retry\"): off\n",
      "                              Retry indexing: on\n"
     ]
    },
    {
     "name": "stdout",
     "output_type": "stream",
     "text": [
      "Running for x=-511.0, y=-513.0\n"
     ]
    },
    {
     "name": "stderr",
     "output_type": "stream",
     "text": [
      "Waiting for the last patterns to be processed...\n",
      "Final: 91 images processed, 91 hits (100.0%), 90 indexable (98.9% of hits, 98.9% overall), 90 crystals.\n",
      "Processing XY pairs:  92%|█████████▏| 45/49 [03:12<00:17,  4.45s/it]This is what I understood your unit cell to be:\n",
      "tetragonal I, unique axis c, right handed.\n",
      "a      b      c            alpha   beta  gamma\n",
      " 15.12  15.12  12.07 A     90.00  90.00  90.00 deg\n",
      "List of indexing methods:\n",
      "   0: xgandalf-nolatt-cell      (xgandalf using cell parameters as prior information)\n",
      "Indexing parameters:\n",
      "                  Check unit cell parameters: on\n",
      "                        Check peak alignment: on\n",
      "                   Refine indexing solutions: off\n",
      " Multi-lattice indexing (\"delete and retry\"): off\n",
      "                              Retry indexing: on\n"
     ]
    },
    {
     "name": "stdout",
     "output_type": "stream",
     "text": [
      "Running for x=-511.0, y=-512.5\n"
     ]
    },
    {
     "name": "stderr",
     "output_type": "stream",
     "text": [
      "Waiting for the last patterns to be processed...\n",
      "Final: 91 images processed, 91 hits (100.0%), 90 indexable (98.9% of hits, 98.9% overall), 90 crystals.\n",
      "Processing XY pairs:  94%|█████████▍| 46/49 [03:17<00:13,  4.43s/it]This is what I understood your unit cell to be:\n",
      "tetragonal I, unique axis c, right handed.\n",
      "a      b      c            alpha   beta  gamma\n",
      " 15.12  15.12  12.07 A     90.00  90.00  90.00 deg\n",
      "List of indexing methods:\n",
      "   0: xgandalf-nolatt-cell      (xgandalf using cell parameters as prior information)\n",
      "Indexing parameters:\n",
      "                  Check unit cell parameters: on\n",
      "                        Check peak alignment: on\n",
      "                   Refine indexing solutions: off\n",
      " Multi-lattice indexing (\"delete and retry\"): off\n",
      "                              Retry indexing: on\n"
     ]
    },
    {
     "name": "stdout",
     "output_type": "stream",
     "text": [
      "Running for x=-511.0, y=-512.0\n"
     ]
    },
    {
     "name": "stderr",
     "output_type": "stream",
     "text": [
      "Waiting for the last patterns to be processed...\n",
      "Final: 91 images processed, 91 hits (100.0%), 90 indexable (98.9% of hits, 98.9% overall), 90 crystals.\n",
      "Processing XY pairs:  96%|█████████▌| 47/49 [03:21<00:08,  4.40s/it]This is what I understood your unit cell to be:\n",
      "tetragonal I, unique axis c, right handed.\n",
      "a      b      c            alpha   beta  gamma\n",
      " 15.12  15.12  12.07 A     90.00  90.00  90.00 deg\n",
      "List of indexing methods:\n",
      "   0: xgandalf-nolatt-cell      (xgandalf using cell parameters as prior information)\n",
      "Indexing parameters:\n",
      "                  Check unit cell parameters: on\n",
      "                        Check peak alignment: on\n",
      "                   Refine indexing solutions: off\n",
      " Multi-lattice indexing (\"delete and retry\"): off\n",
      "                              Retry indexing: on\n"
     ]
    },
    {
     "name": "stdout",
     "output_type": "stream",
     "text": [
      "Running for x=-511.0, y=-511.5\n"
     ]
    },
    {
     "name": "stderr",
     "output_type": "stream",
     "text": [
      "Waiting for the last patterns to be processed...\n",
      "Final: 91 images processed, 91 hits (100.0%), 90 indexable (98.9% of hits, 98.9% overall), 90 crystals.\n",
      "Processing XY pairs:  98%|█████████▊| 48/49 [03:26<00:04,  4.38s/it]This is what I understood your unit cell to be:\n",
      "tetragonal I, unique axis c, right handed.\n",
      "a      b      c            alpha   beta  gamma\n",
      " 15.12  15.12  12.07 A     90.00  90.00  90.00 deg\n",
      "List of indexing methods:\n",
      "   0: xgandalf-nolatt-cell      (xgandalf using cell parameters as prior information)\n",
      "Indexing parameters:\n",
      "                  Check unit cell parameters: on\n",
      "                        Check peak alignment: on\n",
      "                   Refine indexing solutions: off\n",
      " Multi-lattice indexing (\"delete and retry\"): off\n",
      "                              Retry indexing: on\n"
     ]
    },
    {
     "name": "stdout",
     "output_type": "stream",
     "text": [
      "Running for x=-511.0, y=-511.0\n"
     ]
    },
    {
     "name": "stderr",
     "output_type": "stream",
     "text": [
      "Waiting for the last patterns to be processed...\n",
      "Final: 91 images processed, 91 hits (100.0%), 90 indexable (98.9% of hits, 98.9% overall), 90 crystals.\n",
      "Processing XY pairs: 100%|██████████| 49/49 [03:30<00:00,  4.30s/it]\n"
     ]
    }
   ],
   "source": [
    "from gandalf_iterator import gandalf_iterator\n",
    "\n",
    "# geomfile_path = \"/Users/xiaodong/Desktop/simulations/LTA/LTAsim.geom\"\n",
    "# cellfile_path = \"/Users/xiaodong/Desktop/simulations/LTA/LTA.cell\"\n",
    "# input_path =   \"/home/bubl3932/files/LTA_sim/simulation-42\"\n",
    "output_file_base = \"xgandalf\"\n",
    "\n",
    "num_threads = 24\n",
    "x, y = 512.5, 512.5\n",
    "step_size = 0.5\n",
    "layers = 3\n",
    "extra_flags=[\n",
    "# PEAKFINDING\n",
    "\"--no-revalidate\",\n",
    "\"--no-half-pixel-shift\",\n",
    "\"--peaks=peakfinder9\",\n",
    "\"--min-snr=1\",\n",
    "\"--min-snr-biggest-pix=1\",\n",
    "\"--min-sig=3\",\n",
    "\"--local-bg-radius=10\",\n",
    "# INDEXING\n",
    "\"--indexing=xgandalf\",\n",
    "\"--tolerance=10,10,10,5\",\n",
    "\"--no-refine\",\n",
    "\"--xgandalf-sampling-pitch=5\",\n",
    "\"--xgandalf-grad-desc-iterations=1\",\n",
    "\"--xgandalf-tolerance=0.02\",\n",
    "# \"--xgandalf-no-deviation-from-provided-cell\",\n",
    "# INTEGRATION\n",
    "\"--integration=rings\",\n",
    "\"--int-radius=4,5,9\",\n",
    "\"--fix-profile-radius=50000000\",\n",
    "# OUTPUT\n",
    "\"--no-non-hits-in-stream\",\n",
    "]\n",
    "\n",
    "\"\"\"Examples of extra flags(see crystfel documentation https://www.desy.de/~twhite/crystfel/manual-indexamajig.html):\"\"\"\n",
    "\n",
    "\"\"\" Basic options\n",
    "\"--highres=n\",\n",
    "\"--no-image-data\",\n",
    "\"\"\"\n",
    "\n",
    "\"\"\" Peakfinding\n",
    "\"--peaks=cxi\",\n",
    "\"--peak-radius=inner,middle,outer\",\n",
    "\"--min-peaks=n\",\n",
    "\"--median-filter=n\",\n",
    "\"--filter-noise\",\n",
    "\"--no-revalidate\",\n",
    "\"--no-half-pixel-shift\",\n",
    "\n",
    "\"--peaks=peakfinder9\",\n",
    "\"--min-snr=1\",\n",
    "\"--min-snr-peak-pix=6\",\n",
    "\"--min-snr-biggest-pix=1\",\n",
    "\"--min-sig=9\",\n",
    "\"--min-peak-over-neighbour=5\",\n",
    "\"--local-bg-radius=5\",\n",
    "\n",
    "\"--peaks=peakfinder8\",\n",
    "\"--threshold=45\",\n",
    "\"--min-snr=3\",\n",
    "\"--min-pix-count=3\",\n",
    "\"--max-pix-count=500\",\n",
    "\"--local-bg-radius=9\",\n",
    "\"--min-res=30\",\n",
    "\"--max-res=500\",\n",
    "\"\"\"\n",
    "\n",
    "\"\"\" Indexing\n",
    "\"--indexing=xgandalf\",\n",
    "\n",
    "\"--tolerance=tol\"\n",
    "\"--no-check-cell\",\n",
    "\"--no-check-peaks\",\n",
    "\"--multi\",\n",
    "\"--no-retry\",\n",
    "\"--no-refine\",\n",
    "\n",
    "\"--xgandalf-sampling-pitch=n\"\n",
    "\"--xgandalf-grad-desc-iterations=n\"\n",
    "\"--xgandalf-tolerance=n\"\n",
    "\"--xgandalf-no-deviation-from-provided-cell\"\n",
    "\"--xgandalf-max-lattice-vector-length=n\"\n",
    "\"--xgandalf-min-lattice-vector-length=n\"\n",
    "\"--xgandalf-max-peaks=n\"\n",
    "\"--xgandalf-fast-execution\"\n",
    "\"\"\"\n",
    "\n",
    "\"\"\" Integration\n",
    "\"--fix-profile-radius=n\",\n",
    "\"--fix-divergence=n\",\n",
    "\"--integration=rings\",\n",
    "\"--int-radius=4,5,10\",\n",
    "\"--push-res=n\",\n",
    "\"--overpredict\",\n",
    "\"--cell-parameters-only\",\n",
    "\"\"\"\n",
    "\n",
    "\"\"\" Output\n",
    "\"--no-non-hits-in-stream\",\n",
    "\"--no-peaks-in-stream\",\n",
    "\"--no-refls-in-stream\",\n",
    "\"--serial-offset\n",
    "\"\"\"\n",
    "\n",
    "gandalf_iterator(x, y, geomfile_path, cellfile_path, input_path, output_file_base, num_threads, step_size, layers, extra_flags=extra_flags)\n"
   ]
  }
 ],
 "metadata": {
  "kernelspec": {
   "display_name": "pyxem-env",
   "language": "python",
   "name": "python3"
  },
  "language_info": {
   "codemirror_mode": {
    "name": "ipython",
    "version": 3
   },
   "file_extension": ".py",
   "mimetype": "text/x-python",
   "name": "python",
   "nbconvert_exporter": "python",
   "pygments_lexer": "ipython3",
   "version": "3.10.16"
  }
 },
 "nbformat": 4,
 "nbformat_minor": 2
}
