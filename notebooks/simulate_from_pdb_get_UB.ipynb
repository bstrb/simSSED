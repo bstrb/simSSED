{
 "cells": [
  {
   "cell_type": "markdown",
   "metadata": {},
   "source": [
    "# 01. Perform simulations"
   ]
  },
  {
   "cell_type": "code",
   "execution_count": null,
   "metadata": {},
   "outputs": [
    {
     "name": "stderr",
     "output_type": "stream",
     "text": [
      "100%|██████████| 171/171 [00:06<00:00, 25.68it/s]\n"
     ]
    }
   ],
   "source": [
    "\n",
    "# Make sure plots display inline\n",
    "%matplotlib inline\n",
    "from orix.crystal_map import Phase\n",
    "from orix.sampling import get_sample_reduced_fundamental\n",
    "from diffsims.generators.simulation_generator import SimulationGenerator\n",
    "from diffpy.structure import Lattice, Structure, Atom\n",
    "from parse_pdb_with_scale_remove_h import parse_pdb_with_scale\n",
    "\n",
    "pdbfile = \"/Users/xiaodong/Desktop/simulations/UOX/UOX.pdb\"\n",
    "\n",
    "cell, sg_sym, atoms = parse_pdb_with_scale(pdbfile, remove_hydrogens=True, include_occupancy=True)\n",
    "\n",
    "lattice = Lattice(*cell)\n",
    "\n",
    "# Define the phase using less atoms than in the pdb for computational reasons\n",
    "atoms = [Atom(\"C\", (0, 0, 0), 1.0)]\n",
    "\n",
    "# Create the structure and corresponding phase\n",
    "structure = Structure(atoms, lattice)\n",
    "phase = Phase(space_group = 23, structure=structure)\n",
    "\n",
    "# Sample orientations in the symmetry-reduced zone (resolution in degrees)\n",
    "orientations = get_sample_reduced_fundamental(resolution=10, point_group=phase.point_group)\n",
    "\n",
    "# Initialize the simulation generator (e.g., setting the accelerating voltage)\n",
    "generator = SimulationGenerator(accelerating_voltage = 300, approximate_precession = False)\n",
    "# Calculate 2D diffraction simulations using the provided phase and orientations\n",
    "simulations = generator.calculate_diffraction2d(\n",
    "    phase = phase,\n",
    "    rotation = orientations,\n",
    "    reciprocal_radius = 1/1.5,  # 1/Å (i.e. Å⁻¹)\n",
    "    with_direct_beam = True,   # Include the direct beam\n",
    "    max_excitation_error = 0.001, #0.0005\n",
    "    shape_factor_width = None,\n",
    "    debye_waller_factors = None,\n",
    "    show_progressbar = True\n",
    ")\n",
    "\n",
    "# Plot the simulations\n",
    "# simulations.plot();\n",
    "\n"
   ]
  },
  {
   "cell_type": "code",
   "execution_count": null,
   "metadata": {},
   "outputs": [
    {
     "name": "stderr",
     "output_type": "stream",
     "text": [
      "Processing images: 100%|██████████| 100/100 [00:02<00:00, 48.48it/s]"
     ]
    },
    {
     "name": "stdout",
     "output_type": "stream",
     "text": [
      "Processing complete. Updated file saved at: /Users/xiaodong/Desktop/simulations/UOX/simulation-42/sim.h5\n"
     ]
    },
    {
     "name": "stderr",
     "output_type": "stream",
     "text": [
      "\n"
     ]
    }
   ],
   "source": [
    "\n",
    "# Make sure plots display inline\n",
    "%matplotlib inline\n",
    "import os\n",
    "import numpy as np\n",
    "from tqdm import tqdm\n",
    "import h5py\n",
    "from helper_functions_UB import copy_h5_file, get_next_simulation_folder\n",
    "from compute_B import compute_B\n",
    "\n",
    "# Example usage:\n",
    "B = compute_B(cell)\n",
    "\n",
    "\n",
    "# Specify the input HDF5 file\n",
    "input_filename = \"/Users/xiaodong/Desktop/simulations/UOX/100_empty_backgrounds.h5\"\n",
    "\n",
    "base_dir = os.path.dirname(input_filename)\n",
    "\n",
    "# 1. Create a new simulation folder\n",
    "new_sim_folder = get_next_simulation_folder(base_dir)\n",
    "\n",
    "# 2. Copy the original file to the new simulation folder\n",
    "output_filename = os.path.join(new_sim_folder, \"sim.h5\")\n",
    "copy_h5_file(input_filename, output_filename)\n",
    "\n",
    "# 3. Process the simulation images.\n",
    "\n",
    "intensity_scale = 1000\n",
    "with h5py.File(output_filename, \"r+\") as data:\n",
    "    images = data[\"entry\"][\"data\"][\"images\"]\n",
    "    orientation_matrices = data[\"entry\"][\"data\"].require_dataset(\n",
    "        \"simulation_orientation_matrices\", \n",
    "        shape=(images.shape[0], 3, 3), \n",
    "        dtype=float\n",
    "    )\n",
    "    shape = images.shape[-2:]\n",
    "\n",
    "    beam_pos = (shape[0] // 2, shape[1] // 2)\n",
    "\n",
    "    for i in tqdm(range(images.shape[0]), desc=\"Processing images\"):\n",
    "        img = simulations.irot[i].get_diffraction_pattern(\n",
    "            shape=shape,\n",
    "            direct_beam_position=beam_pos,\n",
    "            sigma=1,\n",
    "            calibration=0.00151, #0.0015090274190359715,\n",
    "            fast=False,\n",
    "            normalize=True,\n",
    "            fast_clip_threshold=1\n",
    "        )\n",
    "        img = (img * intensity_scale).astype(images.dtype)\n",
    "        images[i] += img\n",
    "        orientation_matrices_i = simulations.rotations[i].to_matrix().squeeze()\n",
    "        \n",
    "        # orientation_matrices[i] = orientation_matrices_i @ B * 4 * np.pi\n",
    "        orientation_matrices[i] = orientation_matrices_i @ B * 10 # since cell is in nm in CrystFEL stream\n",
    "print(\"Processing complete. Updated file saved at:\", output_filename)\n"
   ]
  },
  {
   "cell_type": "code",
   "execution_count": 13,
   "metadata": {},
   "outputs": [
    {
     "data": {
      "application/vnd.jupyter.widget-view+json": {
       "model_id": "ed8e620a72774e00a949cc581b38cb67",
       "version_major": 2,
       "version_minor": 0
      },
      "text/plain": [
       "interactive(children=(IntSlider(value=0, description='index', max=99), Output()), _dom_classes=('widget-intera…"
      ]
     },
     "metadata": {},
     "output_type": "display_data"
    },
    {
     "data": {
      "text/plain": [
       "<function __main__.<lambda>(index)>"
      ]
     },
     "execution_count": 13,
     "metadata": {},
     "output_type": "execute_result"
    }
   ],
   "source": [
    "\n",
    "# Make sure plots display inline\n",
    "%matplotlib inline\n",
    "import os\n",
    "import h5py\n",
    "import ipywidgets as widgets\n",
    "from ipywidgets import interact\n",
    "from helper_functions_UB import load_h5_data, view_image\n",
    "\n",
    "# Read back the entire dataset into memory\n",
    "with h5py.File(output_filename, \"r\") as data:\n",
    "    orientation_matrices_np = data[\"entry\"][\"data\"][\"simulation_orientation_matrices\"][:]\n",
    "output_sol = os.path.join(new_sim_folder, \"orientation_matrices.sol\")\n",
    "# # Write orientation matrices to a .sol file\n",
    "with open(output_sol, \"w\") as sol_file:\n",
    "    for i, matrix in enumerate(orientation_matrices_np):\n",
    "        # Flatten the 3x3 matrix (row-major order)\n",
    "        # Each number is formatted with a sign (+ or -) and 7 decimal places.\n",
    "        line = \" \".join(f\"{num:+.7f}\" for num in matrix.flatten())\n",
    "        sol_file.write(f\"{output_filename} //{i} \" + line + \" 0.000 0.000 oI\\n\")\n",
    "\n",
    "# 4. Load the processed data for interactive visualization\n",
    "images_arr, angles_arr = load_h5_data(output_filename)\n",
    "\n",
    "# 5. Set up the interactive viewer\n",
    "interact(lambda index: view_image(index, images_arr, angles_arr), \n",
    "         index=widgets.IntSlider(min=0, max=images_arr.shape[0]-1, step=1, value=0))"
   ]
  }
 ],
 "metadata": {
  "kernelspec": {
   "display_name": "cupy_env",
   "language": "python",
   "name": "python3"
  },
  "language_info": {
   "codemirror_mode": {
    "name": "ipython",
    "version": 3
   },
   "file_extension": ".py",
   "mimetype": "text/x-python",
   "name": "python",
   "nbconvert_exporter": "python",
   "pygments_lexer": "ipython3",
   "version": "3.11.11"
  }
 },
 "nbformat": 4,
 "nbformat_minor": 2
}
