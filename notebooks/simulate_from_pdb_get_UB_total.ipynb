{
 "cells": [
  {
   "cell_type": "markdown",
   "metadata": {},
   "source": [
    "# 01. Perform simulations"
   ]
  },
  {
   "cell_type": "code",
   "execution_count": 18,
   "metadata": {},
   "outputs": [
    {
     "name": "stderr",
     "output_type": "stream",
     "text": [
      "100%|██████████| 523/523 [01:29<00:00,  5.86it/s]\n"
     ]
    }
   ],
   "source": [
    "from orix.crystal_map import Phase\n",
    "from orix.sampling import get_sample_reduced_fundamental\n",
    "from diffsims.generators.simulation_generator import SimulationGenerator\n",
    "from diffpy.structure import Lattice, Structure, Atom\n",
    "from parse_pdb_with_scale_remove_h import parse_pdb_with_scale\n",
    "\n",
    "# pdbfile = \"/Users/xiaodong/Desktop/simulations/UOX/UOX.pdb\"\n",
    "pdbfile = \"/home/bubl3932/files/UOX_sim/UOX.pdb\"\n",
    "\n",
    "cell, sg_sym, atoms = parse_pdb_with_scale(pdbfile, remove_hydrogens=True, include_occupancy=True)\n",
    "\n",
    "lattice = Lattice(*cell)\n",
    "\n",
    "# Define the phase using less atoms than in the pdb for computational reasons\n",
    "atoms = [Atom(\"C\", (0, 0, 0), 1.0)]\n",
    "\n",
    "# Create the structure and corresponding phase\n",
    "structure = Structure(atoms, lattice)\n",
    "phase = Phase(space_group = 23, structure=structure)\n",
    "\n",
    "# Sample orientations in the symmetry-reduced zone (resolution in degrees)\n",
    "orientations = get_sample_reduced_fundamental(resolution=5, point_group=phase.point_group)\n",
    "\n",
    "# Initialize the simulation generator (e.g., setting the accelerating voltage)\n",
    "generator = SimulationGenerator(accelerating_voltage = 300, approximate_precession = False)\n",
    "# Calculate 2D diffraction simulations using the provided phase and orientations\n",
    "simulations = generator.calculate_diffraction2d(\n",
    "    phase = phase,\n",
    "    rotation = orientations,\n",
    "    reciprocal_radius = 1/0.8,  # 1/Å (i.e. Å⁻¹)\n",
    "    with_direct_beam = True,   # Include the direct beam\n",
    "    max_excitation_error = 0.001, #0.0005\n",
    "    shape_factor_width = None,\n",
    "    debye_waller_factors = None,\n",
    "    show_progressbar = True\n",
    ")\n"
   ]
  },
  {
   "cell_type": "code",
   "execution_count": null,
   "metadata": {},
   "outputs": [
    {
     "name": "stderr",
     "output_type": "stream",
     "text": [
      "Processing images: 100%|██████████| 523/523 [00:04<00:00, 105.74it/s]"
     ]
    },
    {
     "name": "stdout",
     "output_type": "stream",
     "text": [
      "Processing complete. Updated file saved at: /home/bubl3932/files/UOX_sim/simulation-21/sim.h5\n"
     ]
    },
    {
     "name": "stderr",
     "output_type": "stream",
     "text": [
      "\n"
     ]
    }
   ],
   "source": [
    "import os\n",
    "from tqdm import tqdm\n",
    "import h5py\n",
    "from helper_functions_UB import copy_h5_file, get_next_simulation_folder\n",
    "from compute_B import compute_B\n",
    "\n",
    "# Compute the B matrix from cell parameters\n",
    "B = compute_B(cell)\n",
    "\n",
    "# Specify the input HDF5 file\n",
    "input_filename = \"/home/bubl3932/files/UOX_sim/523_empty_backgrounds.h5\"\n",
    "\n",
    "base_dir = os.path.dirname(input_filename)\n",
    "\n",
    "# 1. Create a new simulation folder\n",
    "new_sim_folder = get_next_simulation_folder(base_dir)\n",
    "\n",
    "# 2. Copy the original file to the new simulation folder\n",
    "output_filename = os.path.join(new_sim_folder, \"sim.h5\")\n",
    "copy_h5_file(input_filename, output_filename)\n",
    "\n",
    "# 3. Process the simulation images.\n",
    "intensity_scale = 1000\n",
    "with h5py.File(output_filename, \"r+\") as data:\n",
    "    images = data[\"entry\"][\"data\"][\"images\"]\n",
    "    orientation_matrices = data[\"entry\"][\"data\"].require_dataset(\n",
    "        \"simulation_orientation_matrices\", \n",
    "        shape=(images.shape[0], 3, 3), \n",
    "        dtype=float\n",
    "    )\n",
    "    shape = images.shape[-2:]\n",
    "\n",
    "    beam_pos = (shape[0] // 2, shape[1] // 2)\n",
    "\n",
    "    for i in tqdm(range(images.shape[0]), desc=\"Processing images\"):\n",
    "        img = simulations.irot[i].get_diffraction_pattern(\n",
    "            shape=shape,\n",
    "            direct_beam_position=beam_pos,\n",
    "            in_plane_angle=180,\n",
    "            sigma=1,\n",
    "            calibration=0.00151,\n",
    "            fast=False,\n",
    "            normalize=True,\n",
    "            fast_clip_threshold=1\n",
    "        )\n",
    "        img = (img * intensity_scale).astype(images.dtype)\n",
    "        images[i] += img\n",
    "        orientation_matrices_i = simulations.rotations[i].to_matrix().squeeze()\n",
    "        \n",
    "        orientation_matrices[i] = B @ orientation_matrices_i \n",
    "print(\"Processing complete. Updated file saved at:\", output_filename)\n",
    "\n",
    "# Read back the entire dataset into memory\n",
    "with h5py.File(output_filename, \"r\") as data:\n",
    "    orientation_matrices_np = data[\"entry\"][\"data\"][\"simulation_orientation_matrices\"][:]\n",
    "output_sol = os.path.join(new_sim_folder, \"orientation_matrices.sol\")\n",
    "# # Write orientation matrices to a .sol file\n",
    "with open(output_sol, \"w\") as sol_file:\n",
    "    for i, matrix in enumerate(orientation_matrices_np):\n",
    "        # Flatten the 3x3 matrix (row-major order)\n",
    "        # Each number is formatted with a sign (+ or -) and 7 decimal places.\n",
    "        line = \" \".join(f\"{num:+.7f}\" for num in matrix.flatten())\n",
    "        sol_file.write(f\"{output_filename} //{i} \" + line + \" 0.000 0.000 oI\\n\")\n",
    "        \n"
   ]
  }
 ],
 "metadata": {
  "kernelspec": {
   "display_name": "pyxem-env",
   "language": "python",
   "name": "python3"
  },
  "language_info": {
   "codemirror_mode": {
    "name": "ipython",
    "version": 3
   },
   "file_extension": ".py",
   "mimetype": "text/x-python",
   "name": "python",
   "nbconvert_exporter": "python",
   "pygments_lexer": "ipython3",
   "version": "3.10.16"
  }
 },
 "nbformat": 4,
 "nbformat_minor": 2
}
