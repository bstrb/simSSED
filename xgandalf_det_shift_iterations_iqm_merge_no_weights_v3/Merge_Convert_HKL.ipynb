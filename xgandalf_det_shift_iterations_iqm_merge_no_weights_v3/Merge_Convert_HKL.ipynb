{
 "cells": [
  {
   "cell_type": "code",
   "execution_count": null,
   "metadata": {},
   "outputs": [],
   "source": [
    "from merge import merge\n",
    "\n",
    "stream_file = \"/home/bubl3932/files/UOX1/UOX1_original_IQM/xgandalf_iterations_max_radius_1_step_0.5/filtered_metrics.stream\"\n",
    "pointgroup = \"mmm\"\n",
    "num_threads = 24\n",
    "iterations = 5\n",
    "\n",
    "output_dir = merge(\n",
    "    stream_file,\n",
    "    pointgroup=pointgroup,\n",
    "    num_threads=num_threads,\n",
    "    iterations=iterations,\n",
    ")\n",
    "\n",
    "if output_dir is not None:\n",
    "    print(\"Merging done. Results are in:\", output_dir)"
   ]
  },
  {
   "cell_type": "code",
   "execution_count": null,
   "metadata": {},
   "outputs": [],
   "source": [
    "from convert_hkl_crystfel_to_shelx import convert_hkl_crystfel_to_shelx \n",
    "# output_dir = \"\" # If defined above comment out this line\n",
    "convert_hkl_crystfel_to_shelx(output_dir)"
   ]
  },
  {
   "cell_type": "code",
   "execution_count": null,
   "metadata": {},
   "outputs": [],
   "source": [
    "from convert_hkl_to_mtz import convert_hkl_to_mtz\n",
    "# output_dir = \"\" # If defined above comment out this line\n",
    "cellfile_path = \"/home/bubl3932/files/UOX1/UOX1_original/UOX.cell\"  # If defined above comment out this line\n",
    "convert_hkl_to_mtz(output_dir, cellfile_path=cellfile_path)"
   ]
  }
 ],
 "metadata": {
  "language_info": {
   "name": "python"
  }
 },
 "nbformat": 4,
 "nbformat_minor": 2
}
