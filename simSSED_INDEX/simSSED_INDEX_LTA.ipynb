{
 "cells": [
  {
   "cell_type": "markdown",
   "metadata": {},
   "source": [
    "Indexing using xGandalf (layers = layers of step size )"
   ]
  },
  {
   "cell_type": "code",
   "execution_count": null,
   "metadata": {},
   "outputs": [
    {
     "name": "stdout",
     "output_type": "stream",
     "text": [
      "'list.lst' has been created with 1 entries at /Users/xiaodong/Desktop/simulations/LTA/simulation-32/list.lst\n"
     ]
    },
    {
     "name": "stderr",
     "output_type": "stream",
     "text": [
      "Processing XY pairs:   0%|          | 0/1 [00:00<?, ?it/s]"
     ]
    },
    {
     "name": "stdout",
     "output_type": "stream",
     "text": [
      "Running for x=-512.5, y=-512.5\n"
     ]
    },
    {
     "name": "stderr",
     "output_type": "stream",
     "text": [
      "This is what I understood your unit cell to be:\n",
      "cubic P, right handed.\n",
      "a      b      c            alpha   beta  gamma\n",
      " 11.87  11.87  11.87 A     90.00  90.00  90.00 deg\n",
      "List of indexing methods:\n",
      "   0: xgandalf-nolatt-cell      (xgandalf using cell parameters as prior information)\n",
      "Indexing parameters:\n",
      "                  Check unit cell parameters: on\n",
      "                        Check peak alignment: on\n",
      "                   Refine indexing solutions: off\n",
      " Multi-lattice indexing (\"delete and retry\"): off\n",
      "                              Retry indexing: on\n",
      "27 images processed, 27 hits (100.0%), 22 indexable (81.5% of hits, 81.5% overall), 22 crystals, 5.1 images/sec.\n",
      "61 images processed, 61 hits (100.0%), 46 indexable (75.4% of hits, 75.4% overall), 46 crystals, 6.8 images/sec.\n",
      "87 images processed, 87 hits (100.0%), 61 indexable (70.1% of hits, 70.1% overall), 61 crystals, 4.8 images/sec.\n",
      "Waiting for the last patterns to be processed...\n",
      "Final: 100 images processed, 100 hits (100.0%), 67 indexable (67.0% of hits, 67.0% overall), 67 crystals.\n",
      "Processing XY pairs: 100%|██████████| 1/1 [00:18<00:00, 18.90s/it]\n"
     ]
    }
   ],
   "source": [
    "from gandalf_iterator import gandalf_iterator\n",
    "\n",
    "geomfile_path = \"/Users/xiaodong/Desktop/simulations/LTA/LTAsim.geom\"\n",
    "cellfile_path = \"/Users/xiaodong/Desktop/simulations/LTA/LTA.cell\"\n",
    "input_path =   \"/Users/xiaodong/Desktop/simulations/LTA/simulation-32\"\n",
    "output_file_base = \"LTAsim_xgandalf\"\n",
    "\n",
    "num_threads = 8\n",
    "x, y = 512.5, 512.5\n",
    "step_size = 0.01\n",
    "layers = 0\n",
    "extra_flags=[\n",
    "# PEAKFINDING\n",
    "\"--no-revalidate\",\n",
    "\"--no-half-pixel-shift\",\n",
    "\"--peaks=peakfinder9\",\n",
    "\"--min-snr=1\",\n",
    "\"--min-snr-biggest-pix=1\",\n",
    "\"--min-sig=3\",\n",
    "\"--local-bg-radius=3\",\n",
    "# INDEXING\n",
    "\"--indexing=xgandalf\",\n",
    "\"--tolerance=10,10,10,5\",\n",
    "\"--no-refine\",\n",
    "\"--xgandalf-sampling-pitch=5\",\n",
    "\"--xgandalf-grad-desc-iterations=1\",\n",
    "\"--xgandalf-tolerance=0.02\",\n",
    "# INTEGRATION\n",
    "\"--integration=rings\",\n",
    "\"--int-radius=4,5,9\",\n",
    "\"--fix-profile-radius=50000000\",\n",
    "# OUTPUT\n",
    "\"--no-non-hits-in-stream\",\n",
    "]\n",
    "\n",
    "\"\"\"Examples of extra flags(see crystfel documentation https://www.desy.de/~twhite/crystfel/manual-indexamajig.html):\"\"\"\n",
    "\n",
    "\"\"\" Basic options\n",
    "\"--highres=n\",\n",
    "\"--no-image-data\",\n",
    "\"\"\"\n",
    "\n",
    "\"\"\" Peakfinding\n",
    "\"--peaks=cxi\",\n",
    "\"--peak-radius=inner,middle,outer\",\n",
    "\"--min-peaks=n\",\n",
    "\"--median-filter=n\",\n",
    "\"--filter-noise\",\n",
    "\"--no-revalidate\",\n",
    "\"--no-half-pixel-shift\",\n",
    "\n",
    "\"--peaks=peakfinder9\",\n",
    "\"--min-snr=1\",\n",
    "\"--min-snr-peak-pix=6\",\n",
    "\"--min-snr-biggest-pix=1\",\n",
    "\"--min-sig=9\",\n",
    "\"--min-peak-over-neighbour=5\",\n",
    "\"--local-bg-radius=5\",\n",
    "\n",
    "\"--peaks=peakfinder8\",\n",
    "\"--threshold=45\",\n",
    "\"--min-snr=3\",\n",
    "\"--min-pix-count=3\",\n",
    "\"--max-pix-count=500\",\n",
    "\"--local-bg-radius=9\",\n",
    "\"--min-res=30\",\n",
    "\"--max-res=500\",\n",
    "\"\"\"\n",
    "\n",
    "\"\"\" Indexing\n",
    "\"--indexing=xgandalf\",\n",
    "\n",
    "\"--tolerance=tol\"\n",
    "\"--no-check-cell\",\n",
    "\"--no-check-peaks\",\n",
    "\"--multi\",\n",
    "\"--no-retry\",\n",
    "\"--no-refine\",\n",
    "\n",
    "\"--xgandalf-sampling-pitch=n\"\n",
    "\"--xgandalf-grad-desc-iterations=n\"\n",
    "\"--xgandalf-tolerance=n\"\n",
    "\"--xgandalf-no-deviation-from-provided-cell\"\n",
    "\"--xgandalf-max-lattice-vector-length=n\"\n",
    "\"--xgandalf-min-lattice-vector-length=n\"\n",
    "\"--xgandalf-max-peaks=n\"\n",
    "\"--xgandalf-fast-execution\"\n",
    "\"\"\"\n",
    "\n",
    "\"\"\" Integration\n",
    "\"--fix-profile-radius=n\",\n",
    "\"--fix-divergence=n\",\n",
    "\"--integration=rings\",\n",
    "\"--int-radius=4,5,10\",\n",
    "\"--push-res=n\",\n",
    "\"--overpredict\",\n",
    "\"--cell-parameters-only\",\n",
    "\"\"\"\n",
    "\n",
    "\"\"\" Output\n",
    "\"--no-non-hits-in-stream\",\n",
    "\"--no-peaks-in-stream\",\n",
    "\"--no-refls-in-stream\",\n",
    "\"--serial-offset\n",
    "\"\"\"\n",
    "\n",
    "gandalf_iterator(x, y, geomfile_path, cellfile_path, input_path, output_file_base, num_threads, step_size, layers, extra_flags=extra_flags)\n"
   ]
  }
 ],
 "metadata": {
  "kernelspec": {
   "display_name": "pyxem-env",
   "language": "python",
   "name": "python3"
  },
  "language_info": {
   "codemirror_mode": {
    "name": "ipython",
    "version": 3
   },
   "file_extension": ".py",
   "mimetype": "text/x-python",
   "name": "python",
   "nbconvert_exporter": "python",
   "pygments_lexer": "ipython3",
   "version": "3.10.16"
  }
 },
 "nbformat": 4,
 "nbformat_minor": 2
}
