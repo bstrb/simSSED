{
 "cells": [
  {
   "cell_type": "markdown",
   "metadata": {},
   "source": [
    "Indexing using xGandalf (layers = layers of step size )"
   ]
  },
  {
   "cell_type": "code",
   "execution_count": null,
   "metadata": {},
   "outputs": [
    {
     "name": "stdout",
     "output_type": "stream",
     "text": [
      "'list.lst' has been created with 1 entries at /Users/xiaodong/Desktop/UOX-simulations/simulation-29/list.lst\n"
     ]
    },
    {
     "name": "stderr",
     "output_type": "stream",
     "text": [
      "Processing XY pairs:   0%|          | 0/9 [00:00<?, ?it/s]"
     ]
    },
    {
     "name": "stdout",
     "output_type": "stream",
     "text": [
      "Running for x=-512, y=-512\n"
     ]
    },
    {
     "name": "stderr",
     "output_type": "stream",
     "text": [
      "WARNING: You did not specify --int-radius.\n",
      "WARNING: I will use the default values, which are probably not appropriate for your patterns.\n",
      "This is what I understood your unit cell to be:\n",
      "orthorhombic I, right handed.\n",
      "a      b      c            alpha   beta  gamma\n",
      " 80.58  94.49 103.89 A     90.00  90.00  90.00 deg\n",
      "List of indexing methods:\n",
      "   0: xgandalf-nolatt-cell      (xgandalf using cell parameters as prior information)\n",
      "Indexing parameters:\n",
      "                  Check unit cell parameters: on\n",
      "                        Check peak alignment: on\n",
      "                   Refine indexing solutions: off\n",
      " Multi-lattice indexing (\"delete and retry\"): off\n",
      "                              Retry indexing: on\n",
      "2 images processed, 2 hits (100.0%), 2 indexable (100.0% of hits, 100.0% overall), 2 crystals, 0.4 images/sec.\n",
      "4 images processed, 4 hits (100.0%), 4 indexable (100.0% of hits, 100.0% overall), 4 crystals, 0.4 images/sec.\n",
      "9 images processed, 9 hits (100.0%), 6 indexable (66.7% of hits, 66.7% overall), 6 crystals, 0.9 images/sec.\n",
      "13 images processed, 13 hits (100.0%), 8 indexable (61.5% of hits, 61.5% overall), 8 crystals, 0.8 images/sec.\n",
      "15 images processed, 15 hits (100.0%), 9 indexable (60.0% of hits, 60.0% overall), 9 crystals, 0.4 images/sec.\n",
      "19 images processed, 19 hits (100.0%), 10 indexable (52.6% of hits, 52.6% overall), 10 crystals, 0.8 images/sec.\n",
      "25 images processed, 25 hits (100.0%), 13 indexable (52.0% of hits, 52.0% overall), 13 crystals, 1.1 images/sec.\n",
      "28 images processed, 28 hits (100.0%), 14 indexable (50.0% of hits, 50.0% overall), 14 crystals, 0.6 images/sec.\n",
      "31 images processed, 31 hits (100.0%), 17 indexable (54.8% of hits, 54.8% overall), 17 crystals, 0.6 images/sec.\n",
      "34 images processed, 34 hits (100.0%), 20 indexable (58.8% of hits, 58.8% overall), 20 crystals, 0.6 images/sec.\n",
      "39 images processed, 39 hits (100.0%), 24 indexable (61.5% of hits, 61.5% overall), 24 crystals, 1.0 images/sec.\n",
      "42 images processed, 42 hits (100.0%), 27 indexable (64.3% of hits, 64.3% overall), 27 crystals, 0.6 images/sec.\n",
      "45 images processed, 45 hits (100.0%), 29 indexable (64.4% of hits, 64.4% overall), 29 crystals, 0.6 images/sec.\n",
      "51 images processed, 51 hits (100.0%), 33 indexable (64.7% of hits, 64.7% overall), 33 crystals, 1.2 images/sec.\n",
      "55 images processed, 55 hits (100.0%), 35 indexable (63.6% of hits, 63.6% overall), 35 crystals, 0.8 images/sec.\n",
      "57 images processed, 57 hits (100.0%), 36 indexable (63.2% of hits, 63.2% overall), 36 crystals, 0.4 images/sec.\n",
      "64 images processed, 64 hits (100.0%), 41 indexable (64.1% of hits, 64.1% overall), 41 crystals, 1.3 images/sec.\n",
      "68 images processed, 68 hits (100.0%), 43 indexable (63.2% of hits, 63.2% overall), 43 crystals, 0.8 images/sec.\n",
      "70 images processed, 70 hits (100.0%), 44 indexable (62.9% of hits, 62.9% overall), 44 crystals, 0.4 images/sec.\n",
      "76 images processed, 76 hits (100.0%), 49 indexable (64.5% of hits, 64.5% overall), 49 crystals, 1.2 images/sec.\n",
      "78 images processed, 78 hits (100.0%), 51 indexable (65.4% of hits, 65.4% overall), 51 crystals, 0.4 images/sec.\n",
      "Processing XY pairs:   0%|          | 0/9 [01:55<?, ?it/s]"
     ]
    },
    {
     "name": "stdout",
     "output_type": "stream",
     "text": [
      "Process interrupted by user.\n"
     ]
    },
    {
     "name": "stderr",
     "output_type": "stream",
     "text": [
      "\n"
     ]
    }
   ],
   "source": [
    "from gandalf_iterator import gandalf_iterator\n",
    "\n",
    "geomfile_path = \"/Users/xiaodong/Desktop/UOX-simulations/UOXsim.geom\"\n",
    "cellfile_path = \"/Users/xiaodong/Desktop/UOX-simulations/UOX.cell\"\n",
    "input_path =   \"/Users/xiaodong/Desktop/UOX-simulations/simulation-29\"\n",
    "output_file_base = \"UOXsim\"\n",
    "\n",
    "num_threads = 8\n",
    "step_size = 0.01\n",
    "layers = 1\n",
    "extra_flags=[\n",
    "    \"--tolerance=5,5,5,5\",\n",
    "    \"--min-peaks=15\",\n",
    "    \"--xgandalf-sampling-pitch=5\",\n",
    "    \"--xgandalf-grad-desc-iterations=1\",\n",
    "    \"--xgandalf-tolerance=0.02\",\n",
    "    \"--peaks=peakfinder9\",\n",
    "    \"--min-snr=1\",\n",
    "    \"--min-snr-biggest-pix=1\",\n",
    "    \"--min-sig=3\",\n",
    "    \"--min-peak-over-neighbour=20\",\n",
    "    \"--local-bg-radius=3\",\n",
    "]\n",
    "\n",
    "\"\"\"\n",
    "Examples of extra flags(see crystfel documentation for more):\n",
    "\"--int-radius=4,5,10\",\n",
    "\"--no-retry\",\n",
    "\"--xgandalf-max-peaks=150\"\n",
    "\"--push-res={resolution_push}\"\n",
    "\"--no-check-cell\"\n",
    "\"--no-check-peaks\"\n",
    "\"--peaks=cxi\"\n",
    "\"--no-image-data\"\n",
    "\"\"\"\n",
    "\n",
    "gandalf_iterator(geomfile_path, cellfile_path, input_path, output_file_base, num_threads, step_size, layers, extra_flags=extra_flags)\n"
   ]
  }
 ],
 "metadata": {
  "kernelspec": {
   "display_name": "cupy_env",
   "language": "python",
   "name": "python3"
  },
  "language_info": {
   "codemirror_mode": {
    "name": "ipython",
    "version": 3
   },
   "file_extension": ".py",
   "mimetype": "text/x-python",
   "name": "python",
   "nbconvert_exporter": "python",
   "pygments_lexer": "ipython3",
   "version": "3.11.11"
  }
 },
 "nbformat": 4,
 "nbformat_minor": 2
}
