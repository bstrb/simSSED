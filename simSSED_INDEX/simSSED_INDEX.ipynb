{
 "cells": [
  {
   "cell_type": "markdown",
   "metadata": {},
   "source": [
    "Indexing using xGandalf (layers = layers of step size )"
   ]
  },
  {
   "cell_type": "code",
   "execution_count": null,
   "metadata": {},
   "outputs": [
    {
     "name": "stdout",
     "output_type": "stream",
     "text": [
      "'list.lst' has been created with 1 entries at /Users/xiaodong/Desktop/simulations/UOX/simulation-29/list.lst\n"
     ]
    },
    {
     "name": "stderr",
     "output_type": "stream",
     "text": [
      "Processing XY pairs:   0%|          | 0/1 [00:00<?, ?it/s]"
     ]
    },
    {
     "name": "stdout",
     "output_type": "stream",
     "text": [
      "Running for x=-512.5, y=-512.5\n"
     ]
    },
    {
     "name": "stderr",
     "output_type": "stream",
     "text": [
      "This is what I understood your unit cell to be:\n",
      "orthorhombic I, right handed.\n",
      "a      b      c            alpha   beta  gamma\n",
      " 80.58  94.49 103.89 A     90.00  90.00  90.00 deg\n",
      "List of indexing methods:\n",
      "   0: xgandalf-nolatt-cell      (xgandalf using cell parameters as prior information)\n",
      "Indexing parameters:\n",
      "                  Check unit cell parameters: on\n",
      "                        Check peak alignment: on\n",
      "                   Refine indexing solutions: off\n",
      " Multi-lattice indexing (\"delete and retry\"): off\n",
      "                              Retry indexing: on\n"
     ]
    },
    {
     "name": "stdout",
     "output_type": "stream",
     "text": [
      "Not able to fit found basis to sample basis! \n",
      "    0.999992  -0.00182499   0.00339479\n",
      "  0.00182653     0.999998 -0.000394525\n",
      "-1.70307e-05  0.000105631   -0.0111959\n",
      "Not able to fit found basis to sample basis! \n",
      "  -0.245928 -0.00516218   -0.171531\n",
      "  -0.280549 -0.00612533    -0.22352\n",
      "  -0.316392 -0.00732797   -0.284542\n",
      "Not able to fit found basis to sample basis! \n",
      "  -0.245928 -0.00516218   -0.171531\n",
      "  -0.280549 -0.00612533    -0.22352\n",
      "  -0.316392 -0.00732797   -0.284542\n"
     ]
    },
    {
     "name": "stderr",
     "output_type": "stream",
     "text": [
      "5 images processed, 5 hits (100.0%), 5 indexable (100.0% of hits, 100.0% overall), 5 crystals, 0.9 images/sec.\n",
      "12 images processed, 12 hits (100.0%), 12 indexable (100.0% of hits, 100.0% overall), 12 crystals, 1.4 images/sec.\n",
      "20 images processed, 20 hits (100.0%), 20 indexable (100.0% of hits, 100.0% overall), 20 crystals, 1.6 images/sec.\n",
      "27 images processed, 27 hits (100.0%), 26 indexable (96.3% of hits, 96.3% overall), 26 crystals, 1.3 images/sec.\n",
      "37 images processed, 37 hits (100.0%), 36 indexable (97.3% of hits, 97.3% overall), 36 crystals, 2.0 images/sec.\n",
      "45 images processed, 45 hits (100.0%), 44 indexable (97.8% of hits, 97.8% overall), 44 crystals, 1.5 images/sec.\n",
      "51 images processed, 51 hits (100.0%), 50 indexable (98.0% of hits, 98.0% overall), 50 crystals, 1.1 images/sec.\n",
      "58 images processed, 58 hits (100.0%), 56 indexable (96.6% of hits, 96.6% overall), 56 crystals, 1.3 images/sec.\n",
      "65 images processed, 65 hits (100.0%), 62 indexable (95.4% of hits, 95.4% overall), 62 crystals, 1.3 images/sec.\n"
     ]
    },
    {
     "name": "stdout",
     "output_type": "stream",
     "text": [
      "Not able to fit found basis to sample basis! \n",
      "    0.999032    0.0439582  0.000106534\n",
      "  -0.0439573     0.999031  -4.8873e-05\n",
      " 0.000108373 -1.58857e-05     0.362781\n",
      "Not able to fit found basis to sample basis! \n",
      " -0.0859519   -0.125874  -0.0975865\n",
      " -0.0248844   -0.121735  -0.0164543\n",
      "-0.00822634   -0.118111 -0.00563943\n",
      "Not able to fit found basis to sample basis! \n",
      " -0.0926601   -0.120387  -0.0960612\n",
      " -0.0145746   -0.118129 -0.00568284\n",
      "  0.0461597   -0.118221  -0.0268827\n"
     ]
    },
    {
     "name": "stderr",
     "output_type": "stream",
     "text": [
      "73 images processed, 73 hits (100.0%), 69 indexable (94.5% of hits, 94.5% overall), 69 crystals, 1.6 images/sec.\n",
      "80 images processed, 80 hits (100.0%), 75 indexable (93.8% of hits, 93.8% overall), 75 crystals, 1.3 images/sec.\n",
      "89 images processed, 89 hits (100.0%), 84 indexable (94.4% of hits, 94.4% overall), 84 crystals, 1.7 images/sec.\n",
      "Waiting for the last patterns to be processed...\n",
      "100 images processed, 100 hits (100.0%), 94 indexable (94.0% of hits, 94.0% overall), 94 crystals, 2.2 images/sec.\n",
      "Final: 100 images processed, 100 hits (100.0%), 94 indexable (94.0% of hits, 94.0% overall), 94 crystals.\n",
      "Processing XY pairs: 100%|██████████| 1/1 [01:08<00:00, 68.01s/it]\n"
     ]
    }
   ],
   "source": [
    "from gandalf_iterator import gandalf_iterator\n",
    "\n",
    "geomfile_path = \"/Users/xiaodong/Desktop/simulations/UOX/UOXsim.geom\"\n",
    "cellfile_path = \"/Users/xiaodong/Desktop/simulations/UOX/UOX.cell\"\n",
    "input_path =   \"/Users/xiaodong/Desktop/simulations/UOX/simulation-29\"\n",
    "output_file_base = \"UOXsim\"\n",
    "\n",
    "num_threads = 8\n",
    "x, y = 512.5, 512.5\n",
    "step_size = 0.5\n",
    "layers = 0\n",
    "extra_flags=[\n",
    "# BASIC OPTIONS\n",
    "# PEAKFINDING\n",
    "\"--no-revalidate\",\n",
    "\"--no-half-pixel-shift\",\n",
    "\"--peaks=peakfinder9\",\n",
    "\"--min-snr=1\",\n",
    "\"--min-snr-biggest-pix=1\",\n",
    "\"--min-sig=3\",\n",
    "\"--local-bg-radius=3\",\n",
    "# INDEXING\n",
    "\"--indexing=xgandalf\",\n",
    "\"--tolerance=5,5,5,5\",\n",
    "\"--no-refine\",\n",
    "\"--xgandalf-sampling-pitch=5\",\n",
    "\"--xgandalf-grad-desc-iterations=5\",\n",
    "\"--xgandalf-tolerance=0.02\",\n",
    "\"--xgandalf-no-deviation-from-provided-cell\",\n",
    "# \"--xgandalf-min-lattice-vector-length=20\"\n",
    "# INTEGRATION\n",
    "\"--integration=rings\",\n",
    "\"--int-radius=4,5,10\",\n",
    "# OUTPUT\n",
    "\"--no-non-hits-in-stream\",\n",
    "]\n",
    "\n",
    "\"\"\"Examples of extra flags(see crystfel documentation https://www.desy.de/~twhite/crystfel/manual-indexamajig.html):\"\"\"\n",
    "\n",
    "\"\"\" Basic options\n",
    "\"--highres=n\",\n",
    "\"--no-image-data\",\n",
    "\"\"\"\n",
    "\n",
    "\"\"\" Peakfinding\n",
    "\"--peaks=cxi\",\n",
    "\"--peak-radius=inner,middle,outer\",\n",
    "\"--min-peaks=n\",\n",
    "\"--median-filter=n\",\n",
    "\"--filter-noise\",\n",
    "\"--no-revalidate\",\n",
    "\"--no-half-pixel-shift\",\n",
    "\n",
    "\"--peaks=peakfinder9\",\n",
    "\"--min-snr=1\",\n",
    "\"--min-snr-peak-pix=6\",\n",
    "\"--min-snr-biggest-pix=1\",\n",
    "\"--min-sig=9\",\n",
    "\"--min-peak-over-neighbour=5\",\n",
    "\"--local-bg-radius=5\",\n",
    "\n",
    "\"--peaks=peakfinder8\",\n",
    "\"--threshold=45\",\n",
    "\"--min-snr=3\",\n",
    "\"--min-pix-count=3\",\n",
    "\"--max-pix-count=500\",\n",
    "\"--local-bg-radius=9\",\n",
    "\"--min-res=30\",\n",
    "\"--max-res=500\",\n",
    "\"\"\"\n",
    "\n",
    "\"\"\" Indexing\n",
    "\"--indexing=xgandalf\",\n",
    "\n",
    "\"--tolerance=tol\"\n",
    "\"--no-check-cell\",\n",
    "\"--no-check-peaks\",\n",
    "\"--multi\",\n",
    "\"--no-retry\",\n",
    "\"--no-refine\",\n",
    "\n",
    "\"--xgandalf-sampling-pitch=n\"\n",
    "\"--xgandalf-grad-desc-iterations=n\"\n",
    "\"--xgandalf-tolerance=n\"\n",
    "\"--xgandalf-no-deviation-from-provided-cell\"\n",
    "\"--xgandalf-max-lattice-vector-length=n\"\n",
    "\"--xgandalf-min-lattice-vector-length=n\"\n",
    "\"--xgandalf-max-peaks=n\"\n",
    "\"--xgandalf-fast-execution\"\n",
    "\"\"\"\n",
    "\n",
    "\"\"\" Integration\n",
    "\"--integration=rings\",\n",
    "\"--int-radius=4,5,10\",\n",
    "\"--push-res=n\",\n",
    "\"--overpredict\",\n",
    "\"--cell-parameters-only\",\n",
    "\"\"\"\n",
    "\n",
    "\"\"\" Output\n",
    "\"--no-non-hits-in-stream\",\n",
    "\"--no-peaks-in-stream\",\n",
    "\"--no-refls-in-stream\",\n",
    "\"--serial-offset\n",
    "\"\"\"\n",
    "\n",
    "gandalf_iterator(x, y, geomfile_path, cellfile_path, input_path, output_file_base, num_threads, step_size, layers, extra_flags=extra_flags)\n"
   ]
  }
 ],
 "metadata": {
  "kernelspec": {
   "display_name": "cupy_env",
   "language": "python",
   "name": "python3"
  },
  "language_info": {
   "codemirror_mode": {
    "name": "ipython",
    "version": 3
   },
   "file_extension": ".py",
   "mimetype": "text/x-python",
   "name": "python",
   "nbconvert_exporter": "python",
   "pygments_lexer": "ipython3",
   "version": "3.11.11"
  }
 },
 "nbformat": 4,
 "nbformat_minor": 2
}
