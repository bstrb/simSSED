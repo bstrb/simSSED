{
 "cells": [
  {
   "cell_type": "markdown",
   "metadata": {},
   "source": [
    "# Automated IQM Evaluation of Stream Files\n"
   ]
  },
  {
   "cell_type": "code",
   "execution_count": null,
   "metadata": {},
   "outputs": [
    {
     "name": "stdout",
     "output_type": "stream",
     "text": [
      "Skipping /home/bubl3932/files/UOX1/UOX1_original_IQM_v3/UOX1_-511.9_-511.9.stream as it appears to have been processed already.\n",
      "Skipping /home/bubl3932/files/UOX1/UOX1_original_IQM_v3/UOX1_-512.1_-512.0.stream as it appears to have been processed already.\n",
      "Skipping /home/bubl3932/files/UOX1/UOX1_original_IQM_v3/UOX1_-512.0_-511.9.stream as it appears to have been processed already.\n",
      "Skipping /home/bubl3932/files/UOX1/UOX1_original_IQM_v3/UOX1_-512.0_-512.1.stream as it appears to have been processed already.\n",
      "Skipping /home/bubl3932/files/UOX1/UOX1_original_IQM_v3/UOX1_-512.1_-512.1.stream as it appears to have been processed already.\n",
      "Skipping /home/bubl3932/files/UOX1/UOX1_original_IQM_v3/UOX1_-512_-512.stream as it appears to have been processed already.\n",
      "Skipping /home/bubl3932/files/UOX1/UOX1_original_IQM_v3/UOX1_-511.9_-512.0.stream as it appears to have been processed already.\n",
      "Skipping /home/bubl3932/files/UOX1/UOX1_original_IQM_v3/UOX1_-511.9_-512.1.stream as it appears to have been processed already.\n",
      "Skipping /home/bubl3932/files/UOX1/UOX1_original_IQM_v3/UOX1_-512.1_-511.9.stream as it appears to have been processed already.\n",
      "Evaluating multiple stream files with weights: (1, 1, 1, 1, 1, 1)\n"
     ]
    },
    {
     "name": "stderr",
     "output_type": "stream",
     "text": [
      "Processing chunks in UOX1_-512.0_-512.1.stream: 100%|██████████| 6280/6280 [06:08<00:00, 17.03chunk/s]\n",
      "Processing chunks in UOX1_-511.9_-512.1.stream: 100%|██████████| 6280/6280 [06:08<00:00, 17.02chunk/s]\n",
      "Processing chunks in UOX1_-512_-512.stream: 100%|██████████| 6280/6280 [06:08<00:00, 17.02chunk/s]\n",
      "Processing chunks in UOX1_-512.1_-512.0.stream: 100%|██████████| 6280/6280 [06:09<00:00, 17.00chunk/s]\n",
      "Processing chunks in UOX1_-512.0_-511.9.stream: 100%|██████████| 6280/6280 [06:09<00:00, 16.99chunk/s]\n",
      "Processing chunks in UOX1_-512.1_-511.9.stream: 100%|██████████| 6280/6280 [06:09<00:00, 16.98chunk/s]\n",
      "Processing chunks in UOX1_-511.9_-511.9.stream: 100%|██████████| 6280/6280 [06:10<00:00, 16.96chunk/s]\n",
      "Processing chunks in UOX1_-511.9_-512.0.stream: 100%|██████████| 6280/6280 [06:10<00:00, 16.96chunk/s]\n",
      "Processing chunks in UOX1_-512.1_-512.1.stream: 100%|██████████| 6280/6280 [06:11<00:00, 16.92chunk/s]\n"
     ]
    },
    {
     "name": "stdout",
     "output_type": "stream",
     "text": [
      "Combined metrics CSV written to /home/bubl3932/files/UOX1/UOX1_original_IQM_v3/metric_values_IQM_1_1_1_1_1_1.csv\n",
      "Best results stream file written to /home/bubl3932/files/UOX1/UOX1_original_IQM_v3/merged_IQM_1_1_1_1_1_1.stream\n"
     ]
    }
   ],
   "source": [
    "from automate_evaluation import automate_evaluation\n",
    "\n",
    "stream_file_folder = \"\" # Folder with stream file results from indexamajig. \n",
    "                        # Note that all stream files in the folder will be processed.\n",
    "\n",
    "weights_list = [\n",
    "    (1, 1, 1, 1, 1, 1)\n",
    "]\n",
    "\n",
    "\"\"\"\n",
    "Each weight corresponds to one of the six metrics used in calculating the combined IQM value.\n",
    "The combined IQM is computed by first normalizing each metric across all stream files, then \n",
    "multiplying each normalized metric by its assigned weight, and finally summing the results.\n",
    "The order (or keys) of the weights must match the following metrics:\n",
    "\n",
    "- 'weighted_rmsd'\n",
    "- 'fraction_outliers'\n",
    "- 'length_deviation'\n",
    "- 'angle_deviation'\n",
    "- 'peak_ratio'\n",
    "- 'percentage_indexed'\n",
    "\n",
    "Multiple weight combinations can be specified if needed.\n",
    "\"\"\"\n",
    "\n",
    "automate_evaluation(stream_file_folder, weights_list)\n"
   ]
  },
  {
   "cell_type": "markdown",
   "metadata": {},
   "source": [
    "# Running Partialator for Stream File Merging"
   ]
  },
  {
   "cell_type": "code",
   "execution_count": null,
   "metadata": {},
   "outputs": [
    {
     "name": "stdout",
     "output_type": "stream",
     "text": [
      "Running partialator for stream file: /home/bubl3932/files/UOX1/UOX1_original_IQM_v3/merged_IQM_1_1_1_1_1_1.stream\n"
     ]
    },
    {
     "name": "stderr",
     "output_type": "stream",
     "text": [
      "Partialator Progress: 100%|██████████| 3/3 [01:01<00:00, 20.45s/Residuals]"
     ]
    },
    {
     "name": "stdout",
     "output_type": "stream",
     "text": [
      "Partialator completed for stream file: /home/bubl3932/files/UOX1/UOX1_original_IQM_v3/merged_IQM_1_1_1_1_1_1.stream\n",
      "All done. Results are in: /home/bubl3932/files/UOX1/UOX1_original_IQM_v3/merged_IQM_1_1_1_1_1_1_merge_1_iter\n"
     ]
    },
    {
     "name": "stderr",
     "output_type": "stream",
     "text": [
      "\n"
     ]
    }
   ],
   "source": [
    "from run_partialator_and_convert import run_partialator_and_convert\n",
    "\n",
    "stream_file = \"/home/bubl3932/files/UOX1/UOX1_original_IQM_v3/merged_IQM_1_1_1_1_1_1.stream\" # Stream file to be merged\n",
    "pointgroup = \"mmm\"\n",
    "num_threads = 24\n",
    "iterations = 1\n",
    "\n",
    "output_dir = run_partialator_and_convert(\n",
    "    stream_file,\n",
    "    pointgroup=pointgroup,\n",
    "    num_threads=num_threads,\n",
    "    iterations=iterations,\n",
    ")\n",
    "\n",
    "if output_dir is not None:\n",
    "    print(\"All done. Results are in:\", output_dir)\n"
   ]
  }
 ],
 "metadata": {
  "kernelspec": {
   "display_name": "pyxem-env",
   "language": "python",
   "name": "python3"
  },
  "language_info": {
   "codemirror_mode": {
    "name": "ipython",
    "version": 3
   },
   "file_extension": ".py",
   "mimetype": "text/x-python",
   "name": "python",
   "nbconvert_exporter": "python",
   "pygments_lexer": "ipython3",
   "version": "3.10.16"
  }
 },
 "nbformat": 4,
 "nbformat_minor": 2
}
